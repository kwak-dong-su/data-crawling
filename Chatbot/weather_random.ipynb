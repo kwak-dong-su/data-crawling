{
 "cells": [
  {
   "cell_type": "code",
   "execution_count": 71,
   "id": "fbed19e9",
   "metadata": {},
   "outputs": [],
   "source": [
    "import tkinter as tk\n",
    "from PIL import ImageTk, Image\n",
    "from tkinter import filedialog\n",
    "import numpy as np\n",
    "import tensorflow\n",
    "from tensorflow.keras.applications import vgg16\n",
    "from tensorflow.keras.preprocessing.image import img_to_array\n",
    "from tensorflow.keras.applications.vgg16 import decode_predictions\n",
    "from tkinter import messagebox"
   ]
  },
  {
   "cell_type": "code",
   "execution_count": 61,
   "id": "2db5d9d8",
   "metadata": {},
   "outputs": [],
   "source": [
    "from tkinter import *\n",
    "from tkinter.ttk import *\n",
    "import tkinter.font as font\n",
    "from tkinter import filedialog\n",
    "import os\n",
    "from PIL import ImageTk, Image\n",
    "import tensorflow as tf\n",
    "import cv2\n",
    "from keras.utils import np_utils\n",
    "from keras.datasets import mnist\n",
    "from keras.models import Sequential\n",
    "from keras.layers import Dense, Activation\n",
    "import numpy as np\n",
    "from numpy import argmax\n",
    "\n",
    "# 1. 실무에 사용할 데이터 준비하기\n",
    "\n",
    "# 2. 모델 불러오기\n",
    "from keras.models import load_model"
   ]
  },
  {
   "cell_type": "code",
   "execution_count": 62,
   "id": "649443a2",
   "metadata": {},
   "outputs": [],
   "source": [
    "import numpy as np\n",
    "import cv2\n",
    "\n",
    "cap = cv2.VideoCapture(0) # 노트북 웹캠을 카메라로 사용\n",
    "cap.set(3,640) # 너비\n",
    "cap.set(4,480) # 높이\n",
    "\n",
    "ret, frame = cap.read() # 사진 촬영\n",
    "frame = cv2.flip(frame, 1) # 좌우 대칭\n",
    "\n",
    "a=cv2.imwrite('C:/image.test.jpg', frame) # 사진 저장\n",
    "    \n",
    "cap.release()\n",
    "cv2.destroyAllWindows()"
   ]
  },
  {
   "cell_type": "code",
   "execution_count": 87,
   "id": "d904229b",
   "metadata": {},
   "outputs": [
    {
     "name": "stderr",
     "output_type": "stream",
     "text": [
      "C:\\ProgramData\\Anaconda3\\lib\\site-packages\\sklearn\\base.py:329: UserWarning: Trying to unpickle estimator TfidfTransformer from version 0.21.3 when using version 1.0.2. This might lead to breaking code or invalid results. Use at your own risk. For more info please refer to:\n",
      "https://scikit-learn.org/stable/modules/model_persistence.html#security-maintainability-limitations\n",
      "  warnings.warn(\n",
      "C:\\ProgramData\\Anaconda3\\lib\\site-packages\\sklearn\\base.py:329: UserWarning: Trying to unpickle estimator TfidfVectorizer from version 0.21.3 when using version 1.0.2. This might lead to breaking code or invalid results. Use at your own risk. For more info please refer to:\n",
      "https://scikit-learn.org/stable/modules/model_persistence.html#security-maintainability-limitations\n",
      "  warnings.warn(\n"
     ]
    }
   ],
   "source": [
    "import joblib\n",
    "# tfidf파일 load\n",
    "tfidf=joblib.load('C:/tfidf_chatbot.pkl')\n",
    "import pymongo\n",
    "conn = pymongo.MongoClient() #몽고db 서버에 연결\n",
    "answers=conn.baenangE.answers\n",
    "# tfidf파일 load\n",
    "tfidf_daily_life=joblib.load('C:/tfidf_chatbot_daily_life.pkl') # 입력받은 문장을 벡터화 하기 위한 파일\n",
    "daily_life=joblib.load('C:/vetorized_chatbot_daily_life.pkl') # 기존 질문 문장들을 벡터화한 파일, 위에서 입력받은 문장과 유사도를 비교\n",
    "# new_post 와 contents의 거리 구하는 함수 생성\n",
    "import scipy as sp\n",
    "\n",
    "def dist_raw(v1, v2):\n",
    "    delta = v1 - v2\n",
    "    return sp.linalg.norm(delta.toarray())"
   ]
  },
  {
   "cell_type": "code",
   "execution_count": 88,
   "id": "dfcec7d8",
   "metadata": {},
   "outputs": [],
   "source": [
    "def load_img():\n",
    "    global img, image_data\n",
    "    for img_display in frame.winfo_children():\n",
    "        img_display.destroy()\n",
    "\n",
    "    image_data = filedialog.askopenfilename(initialdir=\"/\", title=\"Choose an image\",\n",
    "                                       filetypes=((\"all files\", \"*.*\"), (\"png files\", \"*.png\")))\n",
    "    basewidth = 150 # Processing image for dysplaying\n",
    "    img = Image.open(image_data)\n",
    "    wpercent = (basewidth / float(img.size[0]))\n",
    "    hsize = int((float(img.size[1]) * float(wpercent)))\n",
    "    img = img.resize((basewidth, hsize), Image.ANTIALIAS)\n",
    "    img = ImageTk.PhotoImage(img)\n",
    "    file_name = image_data.split('/')\n",
    "    panel = tk.Label(frame, text= str(file_name[len(file_name)-1]).upper()).pack()\n",
    "    panel_image = tk.Label(frame, image=img).pack()"
   ]
  },
  {
   "cell_type": "code",
   "execution_count": 89,
   "id": "9fe3d5eb",
   "metadata": {},
   "outputs": [],
   "source": [
    "\n",
    "def classify():\n",
    "    class_names = ['cloudy','rain','snow','sunny']\n",
    "    # 이미지마다 크기가 다 다르다.-> 픽셀 사이즈 동일해게 해주어야 전처리가 가능하다.\n",
    "    data_height = 160\n",
    "    data_width = 160\n",
    "    channel_n = 3\n",
    "    images = np.zeros((1, data_height, data_width, channel_n))\n",
    "    ## 이미지 읽고, 스케일링, 리사이징\n",
    "    image = cv2.imread(image_data)\n",
    "    image = cv2.resize(image, (data_height, data_width)) / 255\n",
    "    images[0, :, :, :] = image\n",
    "    \n",
    "    model = load_model(\"C:/fine_model1.h5\")\n",
    "\n",
    "    # 3. 모델 사용하기\n",
    "    yhat = model.predict(images)\n",
    "    np.argmax(yhat)\n",
    "    class_names[np.argmax(yhat)]\n",
    "   \n",
    "    print('Predict : '+  class_names[np.argmax(yhat)])\n",
    "    my_img = Label(\n",
    "          text=class_names[np.argmax(yhat)],\n",
    "          font=('comic sans', 10)\n",
    "          )\n",
    "    my_img.pack()"
   ]
  },
  {
   "cell_type": "code",
   "execution_count": 102,
   "id": "b6e9e041",
   "metadata": {},
   "outputs": [],
   "source": [
    "def random_list_from_label(label) : # DB에서 여행지 목록 랜덤으로 불러오기\n",
    "    if label==0:\n",
    "        label=\"cloudy\"\n",
    "    elif label==1:\n",
    "        label=\"rain\"\n",
    "    elif label==2:\n",
    "        label=\"snow\"\n",
    "    else:\n",
    "        label=\"sunny\"\n",
    "    \n",
    "    weather=conn.weather.weather\n",
    "    docs = weather.find({\"weather_cat\": label})\n",
    "    theme_list=docs[0].get(\"place_small_list\").split(\",\")\n",
    "    theme_list_random = random.sample(theme_list_list, 5) \n",
    "\n",
    "def recommand_from_travel_image(num):\n",
    "    if num==0:\n",
    "        return \"날씨가 꿀꿀해요~ 이런곳에서 기분전환 어때요?~\\n\"+random_list_from_label(num)\n",
    "    elif num==1:\n",
    "        return \"비가와요. 이런 곳에서 비를 피해 여행을 즐겨요!~\\n\"+random_list_from_label(num)\n",
    "    elif num==2:\n",
    "        return \"눈이 오네요! 이런 날에는 따뜻한 실내에서 놀아야죠~\\n\"+random_list_from_label(num)\n",
    "    else:\n",
    "        return \"맑은 날엔 어디든 떠나야죠 여긴 어때요?\\n\"+random_list_from_label(num)"
   ]
  },
  {
   "cell_type": "code",
   "execution_count": 103,
   "id": "2d8116c4",
   "metadata": {},
   "outputs": [],
   "source": [
    "import random\n",
    "\n",
    "def random_list() : # DB에서 여행지 목록 랜덤으로 불러오기\n",
    "    docs = answers.find({\"weather_cat\": Math.random()}, {\"_id\": 0, \"place_idx\": 0})  # area가 제주도인것만 그리고 _id, Place_idx 뺴고\n",
    "    docs_list_info = []\n",
    "    for doc in docs:\n",
    "        docs_list = list(doc.values())  # values값만 추출\n",
    "        docs_list_info.append(docs_list[1])  # 리스트로 변환\n",
    "    random_list_info = random.sample(docs_list_info, 5)  # 랜덤함수 사용 10개만 추출\n",
    "    \n",
    "    return '-'+'\\n-'.join(random_list_info)\n"
   ]
  },
  {
   "cell_type": "code",
   "execution_count": 70,
   "id": "7f457aac",
   "metadata": {},
   "outputs": [
    {
     "name": "stdout",
     "output_type": "stream",
     "text": [
      "1/1 [==============================] - 1s 799ms/step\n",
      "Predict : cloudy\n"
     ]
    }
   ],
   "source": [
    "\n",
    "docs = answers.find({\"weather_cat\": \"sunny\"})root = tk.Tk()\n",
    "root.title('Portable Image Classifier')\n",
    "#root.iconbitmap('class.ico')\n",
    "root.resizable(False, False)\n",
    "tit = tk.Label(root, text=\"Portable Image Classifier\", padx=25, pady=6, font=(\"\", 12)).pack()\n",
    "canvas = tk.Canvas(root, height=500, width=500, bg='grey')\n",
    "canvas.pack()\n",
    "frame = tk.Frame(root, bg='white')\n",
    "frame.place(relwidth=0.8, relheight=0.8, relx=0.1, rely=0.1)\n",
    "chose_image = tk.Button(root, text='Choose Image',\n",
    "                        padx=35, pady=10,\n",
    "                        fg=\"white\", bg=\"grey\", command=load_img)\n",
    "chose_image.pack(side=tk.LEFT)\n",
    "class_image = tk.Button(root, text='Classify Image',\n",
    "                        padx=35, pady=10,\n",
    "                        fg=\"white\", bg=\"grey\", command=classify)\n",
    "class_image.pack(side=tk.RIGHT)\n",
    "#label = tk.Label(root, command=random_list_from_label).pack()\n",
    "vgg_model = vgg16.VGG16(weights='imagenet')\n",
    "root.mainloop()"
   ]
  },
  {
   "cell_type": "code",
   "execution_count": null,
   "id": "aae64643",
   "metadata": {},
   "outputs": [],
   "source": []
  }
 ],
 "metadata": {
  "kernelspec": {
   "display_name": "Python 3 (ipykernel)",
   "language": "python",
   "name": "python3"
  },
  "language_info": {
   "codemirror_mode": {
    "name": "ipython",
    "version": 3
   },
   "file_extension": ".py",
   "mimetype": "text/x-python",
   "name": "python",
   "nbconvert_exporter": "python",
   "pygments_lexer": "ipython3",
   "version": "3.7.4"
  }
 },
 "nbformat": 4,
 "nbformat_minor": 5
}
