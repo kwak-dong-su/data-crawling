{
 "cells": [
  {
   "cell_type": "code",
   "execution_count": 437,
   "metadata": {},
   "outputs": [],
   "source": [
    "from urllib import request"
   ]
  },
  {
   "cell_type": "code",
   "execution_count": 438,
   "metadata": {},
   "outputs": [],
   "source": [
    "from bs4 import BeautifulSoup"
   ]
  },
  {
   "cell_type": "code",
   "execution_count": 439,
   "metadata": {},
   "outputs": [],
   "source": [
    "import pandas as pd"
   ]
  },
  {
   "cell_type": "code",
   "execution_count": 440,
   "metadata": {},
   "outputs": [],
   "source": [
    "#!pip install bs4 #cmd에서 이 명령문을 실행!!"
   ]
  },
  {
   "cell_type": "code",
   "execution_count": 441,
   "metadata": {
    "scrolled": true
   },
   "outputs": [
    {
     "name": "stdout",
     "output_type": "stream",
     "text": [
      " C 드라이브의 볼륨에는 이름이 없습니다.\n",
      " 볼륨 일련 번호: AE94-D5A8\n",
      "\n",
      " C:\\Users\\hi\\hi-AI\\data01 디렉터리\n",
      "\n",
      "2022-03-15  오후 03:59    <DIR>          .\n",
      "2022-03-15  오후 03:59    <DIR>          ..\n",
      "2022-03-15  오후 03:02    <DIR>          .ipynb_checkpoints\n",
      "2022-03-15  오후 12:41           273,299 crawling1.ipynb\n",
      "2022-03-15  오후 03:59            35,018 crawling2.ipynb\n",
      "2022-03-15  오후 03:49            20,328 crawling3.ipynb\n",
      "2022-03-15  오후 04:00                27 hottract.csv\n",
      "2022-03-15  오후 01:01               555 test3.ipynb\n",
      "               5개 파일             329,227 바이트\n",
      "               3개 디렉터리  51,880,218,624 바이트 남음\n"
     ]
    }
   ],
   "source": [
    "!dir"
   ]
  },
  {
   "cell_type": "code",
   "execution_count": 442,
   "metadata": {
    "scrolled": true
   },
   "outputs": [
    {
     "data": {
      "text/plain": [
       "<http.client.HTTPResponse at 0x1f77fe92288>"
      ]
     },
     "execution_count": 442,
     "metadata": {},
     "output_type": "execute_result"
    }
   ],
   "source": [
    "con=request.urlopen('https://www.hottracks.co.kr/ht/biz/record/recordCategoryMain?ctgrId=00030000')\n",
    "con #http response(header + body)\n",
    "#header : http result status code\n",
    "#                         (ok: 200, not found: 404, error: 500, permission: 403)"
   ]
  },
  {
   "cell_type": "code",
   "execution_count": 443,
   "metadata": {},
   "outputs": [
    {
     "data": {
      "text/plain": [
       "200"
      ]
     },
     "execution_count": 443,
     "metadata": {},
     "output_type": "execute_result"
    }
   ],
   "source": [
    "con.status #status code"
   ]
  },
  {
   "cell_type": "code",
   "execution_count": 444,
   "metadata": {
    "scrolled": false
   },
   "outputs": [],
   "source": [
    "doc = BeautifulSoup(con, 'html.parser')\n",
    "#doc"
   ]
  },
  {
   "cell_type": "code",
   "execution_count": 445,
   "metadata": {},
   "outputs": [],
   "source": [
    "singer_list=doc.select('#content > div > div.pd_unit.pd_unit04 > div > ul > li > a > div > p.brand')\n",
    "album_list=doc.select('#content > div > div.pd_unit.pd_unit04 > div > ul > li > a > div > p.tit')"
   ]
  },
  {
   "cell_type": "code",
   "execution_count": 446,
   "metadata": {
    "scrolled": true
   },
   "outputs": [
    {
     "data": {
      "text/plain": [
       "[<p class=\"brand\">AESPA(에스파)</p>,\n",
       " <p class=\"brand\">STRAY KIDS(스트레이 키즈)</p>,\n",
       " <p class=\"brand\">RED VELVET(레드벨벳)</p>,\n",
       " <p class=\"brand\">NCT(엔시티)</p>,\n",
       " <p class=\"brand\">NCT(엔시티)</p>,\n",
       " <p class=\"brand\">VARIOUS</p>,\n",
       " <p class=\"brand\">AESPA(에스파)</p>,\n",
       " <p class=\"brand\">STAYC(스테이씨)</p>,\n",
       " <p class=\"brand\">SEVENTEEN(세븐틴)</p>,\n",
       " <p class=\"brand\">YENA(최예나)</p>,\n",
       " <p class=\"brand\">NCT DREAM(엔시티 드림)</p>,\n",
       " <p class=\"brand\">NCT DREAM(엔시티 드림)</p>,\n",
       " <p class=\"brand\">TXT(투모로우바이투게더)</p>,\n",
       " <p class=\"brand\">STAYC(스테이씨)</p>,\n",
       " <p class=\"brand\">SEVENTEEN(세븐틴)</p>,\n",
       " <p class=\"brand\">TXT(투모로우바이투게더)</p>,\n",
       " <p class=\"brand\">AESPA(에스파)</p>,\n",
       " <p class=\"brand\">OH MY GIRL(오마이걸)</p>,\n",
       " <p class=\"brand\">SEVENTEEN(세븐틴)</p>,\n",
       " <p class=\"brand\">MONSTA X(몬스타엑스)</p>]"
      ]
     },
     "execution_count": 446,
     "metadata": {},
     "output_type": "execute_result"
    }
   ],
   "source": [
    "singer_list"
   ]
  },
  {
   "cell_type": "code",
   "execution_count": 447,
   "metadata": {},
   "outputs": [
    {
     "data": {
      "text/plain": [
       "20"
      ]
     },
     "execution_count": 447,
     "metadata": {},
     "output_type": "execute_result"
    }
   ],
   "source": [
    "len(singer_list)"
   ]
  },
  {
   "cell_type": "code",
   "execution_count": 448,
   "metadata": {},
   "outputs": [
    {
     "data": {
      "text/plain": [
       "[<p class=\"tit\">SAVAGE [미니 1집] [SYNK DIVE VER]</p>,\n",
       " <p class=\"tit\">ODDINARY [MINI ALBUM] [SCANNING/ MASK OFF VER] [일반반]</p>,\n",
       " <p class=\"tit\">2021 WINTER SMTOWN: SMCU EXPRESS [RED VELVET]</p>,\n",
       " <p class=\"tit\">2021 WINTER SMTOWN: SMCU EXPRESS [NCT - DAYTIME PASS]</p>,\n",
       " <p class=\"tit\">2021 WINTER SMTOWN: SMCU EXPRESS [NCT - NIGHTTIME PASS]</p>,\n",
       " <p class=\"tit\">2021 WINTER SMTOWN: SMCU EXPRESS [SMTOWN VER]</p>,\n",
       " <p class=\"tit\">2021 WINTER SMTOWN: SMCU EXPRESS [AESPA]</p>,\n",
       " <p class=\"tit\">YOUNG-LUV.COM [미니 2집] [2종 중 랜덤 1종]</p>,\n",
       " <p class=\"tit\">AN ODE [정규 3집]</p>,\n",
       " <p class=\"tit\">SMILEY [미니 1집]</p>,\n",
       " <p class=\"tit\">GLITCH MODE [정규 2집] [PHOTOBOOK VER]</p>,\n",
       " <p class=\"tit\">HELLO FUTURE [정규 1집] [리패키지] [PHOTO BOOK VER]</p>,\n",
       " <p class=\"tit\">혼돈의 장: FIGHT OR ESCAPE [TOGETHER VER]</p>,\n",
       " <p class=\"tit\">YOUNG-LUV.COM [미니 2집] [JEWEL CASE VER] [6종 중 랜덤 1종]</p>,\n",
       " <p class=\"tit\">헹가래(HENG:GARAE) [미니 7집]</p>,\n",
       " <p class=\"tit\">혼돈의 장: FIGHT OR ESCAPE</p>,\n",
       " <p class=\"tit\">SAVAGE [미니 1집] [HALLUCINATION QUEST VER]</p>,\n",
       " <p class=\"tit\">REAL LOVE [정규 2집] [2종 세트]</p>,\n",
       " <p class=\"tit\">ATTACCA [미니 9집] [CARAT VER]</p>,\n",
       " <p class=\"tit\">FATAL LOVE [정규 3집]</p>]"
      ]
     },
     "execution_count": 448,
     "metadata": {},
     "output_type": "execute_result"
    }
   ],
   "source": [
    "album_list"
   ]
  },
  {
   "cell_type": "code",
   "execution_count": 449,
   "metadata": {},
   "outputs": [
    {
     "data": {
      "text/plain": [
       "20"
      ]
     },
     "execution_count": 449,
     "metadata": {},
     "output_type": "execute_result"
    }
   ],
   "source": [
    "len(album_list)"
   ]
  },
  {
   "cell_type": "code",
   "execution_count": 450,
   "metadata": {},
   "outputs": [],
   "source": [
    "song_list=[]"
   ]
  },
  {
   "cell_type": "code",
   "execution_count": 451,
   "metadata": {},
   "outputs": [],
   "source": [
    "for i in range(len(album_list)):\n",
    "    song_list.append((album_list[i].text, singer_list[i].text))"
   ]
  },
  {
   "cell_type": "code",
   "execution_count": 452,
   "metadata": {},
   "outputs": [
    {
     "data": {
      "text/plain": [
       "[('SAVAGE [미니 1집] [SYNK DIVE VER]', 'AESPA(에스파)'),\n",
       " ('ODDINARY [MINI ALBUM] [SCANNING/ MASK OFF VER] [일반반]',\n",
       "  'STRAY KIDS(스트레이 키즈)'),\n",
       " ('2021 WINTER SMTOWN: SMCU EXPRESS [RED VELVET]', 'RED VELVET(레드벨벳)'),\n",
       " ('2021 WINTER SMTOWN: SMCU EXPRESS [NCT - DAYTIME PASS]', 'NCT(엔시티)'),\n",
       " ('2021 WINTER SMTOWN: SMCU EXPRESS [NCT - NIGHTTIME PASS]', 'NCT(엔시티)'),\n",
       " ('2021 WINTER SMTOWN: SMCU EXPRESS [SMTOWN VER]', 'VARIOUS'),\n",
       " ('2021 WINTER SMTOWN: SMCU EXPRESS [AESPA]', 'AESPA(에스파)'),\n",
       " ('YOUNG-LUV.COM [미니 2집] [2종 중 랜덤 1종]', 'STAYC(스테이씨)'),\n",
       " ('AN ODE [정규 3집]', 'SEVENTEEN(세븐틴)'),\n",
       " ('SMILEY [미니 1집]', 'YENA(최예나)'),\n",
       " ('GLITCH MODE [정규 2집] [PHOTOBOOK VER]', 'NCT DREAM(엔시티 드림)'),\n",
       " ('HELLO FUTURE [정규 1집] [리패키지] [PHOTO BOOK VER]', 'NCT DREAM(엔시티 드림)'),\n",
       " ('혼돈의 장: FIGHT OR ESCAPE [TOGETHER VER]', 'TXT(투모로우바이투게더)'),\n",
       " ('YOUNG-LUV.COM [미니 2집] [JEWEL CASE VER] [6종 중 랜덤 1종]', 'STAYC(스테이씨)'),\n",
       " ('헹가래(HENG:GARAE) [미니 7집]', 'SEVENTEEN(세븐틴)'),\n",
       " ('혼돈의 장: FIGHT OR ESCAPE', 'TXT(투모로우바이투게더)'),\n",
       " ('SAVAGE [미니 1집] [HALLUCINATION QUEST VER]', 'AESPA(에스파)'),\n",
       " ('REAL LOVE [정규 2집] [2종 세트]', 'OH MY GIRL(오마이걸)'),\n",
       " ('ATTACCA [미니 9집] [CARAT VER]', 'SEVENTEEN(세븐틴)'),\n",
       " ('FATAL LOVE [정규 3집]', 'MONSTA X(몬스타엑스)')]"
      ]
     },
     "execution_count": 452,
     "metadata": {},
     "output_type": "execute_result"
    }
   ],
   "source": [
    "song_list"
   ]
  },
  {
   "cell_type": "code",
   "execution_count": 453,
   "metadata": {},
   "outputs": [
    {
     "data": {
      "text/plain": [
       "('SAVAGE [미니 1집] [SYNK DIVE VER]', 'AESPA(에스파)')"
      ]
     },
     "execution_count": 453,
     "metadata": {},
     "output_type": "execute_result"
    }
   ],
   "source": [
    "song_list[0]"
   ]
  },
  {
   "cell_type": "code",
   "execution_count": 454,
   "metadata": {},
   "outputs": [
    {
     "data": {
      "text/plain": [
       "20"
      ]
     },
     "execution_count": 454,
     "metadata": {},
     "output_type": "execute_result"
    }
   ],
   "source": [
    "len(song_list)"
   ]
  },
  {
   "cell_type": "code",
   "execution_count": 455,
   "metadata": {},
   "outputs": [],
   "source": [
    "price_list=doc.select('.price > span.discount')"
   ]
  },
  {
   "cell_type": "code",
   "execution_count": 456,
   "metadata": {
    "scrolled": false
   },
   "outputs": [
    {
     "data": {
      "text/plain": [
       "[<span class=\"discount\">20,000</span>,\n",
       " <span class=\"discount\">20,000</span>,\n",
       " <span class=\"discount\">16,500</span>,\n",
       " <span class=\"discount\">16,500</span>,\n",
       " <span class=\"discount\">16,500</span>,\n",
       " <span class=\"discount\">38,500</span>,\n",
       " <span class=\"discount\">16,500</span>,\n",
       " <span class=\"discount\">24,000</span>,\n",
       " <span class=\"discount\">21,000</span>,\n",
       " <span class=\"discount\">20,000</span>,\n",
       " <span class=\"discount\">22,000</span>,\n",
       " <span class=\"discount\">22,000</span>,\n",
       " <span class=\"discount\">13,500</span>,\n",
       " <span class=\"discount\">14,500</span>,\n",
       " <span class=\"discount\">18,000</span>,\n",
       " <span class=\"discount\">22,000</span>,\n",
       " <span class=\"discount\">22,000</span>,\n",
       " <span class=\"discount\">48,000</span>,\n",
       " <span class=\"discount\">11,000</span>,\n",
       " <span class=\"discount\">24,000</span>,\n",
       " <span class=\"discount\">14,500</span>,\n",
       " <span class=\"discount\">20,000</span>,\n",
       " <span class=\"discount\">13,500</span>,\n",
       " <span class=\"discount\">22,000</span>,\n",
       " <span class=\"discount\">44,000</span>,\n",
       " <span class=\"discount\">22,000</span>,\n",
       " <span class=\"discount\">16,500</span>,\n",
       " <span class=\"discount\">55,000</span>,\n",
       " <span class=\"discount\">25,000</span>,\n",
       " <span class=\"discount\">31,000</span>,\n",
       " <span class=\"discount\">20,000</span>,\n",
       " <span class=\"discount\">27,000</span>,\n",
       " <span class=\"discount\">18,000</span>,\n",
       " <span class=\"discount\">24,000</span>,\n",
       " <span class=\"discount\">24,000</span>,\n",
       " <span class=\"discount\">24,000</span>,\n",
       " <span class=\"discount\">72,000</span>,\n",
       " <span class=\"discount\">18,000</span>,\n",
       " <span class=\"discount\">24,000</span>,\n",
       " <span class=\"discount\">24,000</span>,\n",
       " <span class=\"discount\">48,000</span>,\n",
       " <span class=\"discount\">22,000</span>,\n",
       " <span class=\"discount\">16,500</span>,\n",
       " <span class=\"discount\">16,500</span>,\n",
       " <span class=\"discount\">17,500</span>,\n",
       " <span class=\"discount\">22,000</span>,\n",
       " <span class=\"discount\">12,500</span>,\n",
       " <span class=\"discount\">24,000</span>,\n",
       " <span class=\"discount\">24,000</span>,\n",
       " <span class=\"discount\">40,000</span>,\n",
       " <span class=\"discount\">20,000</span>,\n",
       " <span class=\"discount\">20,000</span>,\n",
       " <span class=\"discount\">22,000</span>,\n",
       " <span class=\"discount\">66,000</span>,\n",
       " <span class=\"discount\">22,000</span>,\n",
       " <span class=\"discount\">22,000</span>,\n",
       " <span class=\"discount\">44,000</span>,\n",
       " <span class=\"discount\">22,000</span>,\n",
       " <span class=\"discount\">22,000</span>,\n",
       " <span class=\"discount\">17,500</span>,\n",
       " <span class=\"discount\">23,000</span>,\n",
       " <span class=\"discount\">22,000</span>,\n",
       " <span class=\"discount\">44,000</span>,\n",
       " <span class=\"discount\">22,000</span>,\n",
       " <span class=\"discount\">16,500</span>,\n",
       " <span class=\"discount\">22,000</span>,\n",
       " <span class=\"discount\">55,000</span>,\n",
       " <span class=\"discount\">19,500</span>,\n",
       " <span class=\"discount\">13,000</span>,\n",
       " <span class=\"discount\">23,000</span>,\n",
       " <span class=\"discount\">69,000</span>,\n",
       " <span class=\"discount\">55,000</span>,\n",
       " <span class=\"discount\">80,000</span>,\n",
       " <span class=\"discount\">24,000</span>,\n",
       " <span class=\"discount\">22,000</span>,\n",
       " <span class=\"discount\">22,000</span>,\n",
       " <span class=\"discount\">48,000</span>,\n",
       " <span class=\"discount\">24,000</span>,\n",
       " <span class=\"discount\">24,000</span>,\n",
       " <span class=\"discount\">20,000</span>,\n",
       " <span class=\"discount\">14,500</span>,\n",
       " <span class=\"discount\">33,000</span>,\n",
       " <span class=\"discount\">16,500</span>,\n",
       " <span class=\"discount\">16,500</span>,\n",
       " <span class=\"discount\">19,500</span>,\n",
       " <span class=\"discount\">39,000</span>,\n",
       " <span class=\"discount\">19,500</span>,\n",
       " <span class=\"discount\">12,000</span>,\n",
       " <span class=\"discount\">12,000</span>,\n",
       " <span class=\"discount\">12,000</span>,\n",
       " <span class=\"discount\">18,000</span>,\n",
       " <span class=\"discount\">14,500</span>,\n",
       " <span class=\"discount\">54,000</span>,\n",
       " <span class=\"discount\">13,000</span>,\n",
       " <span class=\"discount\">22,000</span>,\n",
       " <span class=\"discount\">22,000</span>,\n",
       " <span class=\"discount\">16,500</span>,\n",
       " <span class=\"discount\">20,000</span>,\n",
       " <span class=\"discount\">16,500</span>,\n",
       " <span class=\"discount\">20,000</span>,\n",
       " <span class=\"discount\">17,500</span>,\n",
       " <span class=\"discount\">17,500</span>,\n",
       " <span class=\"discount\">23,000</span>,\n",
       " <span class=\"discount\">18,000</span>,\n",
       " <span class=\"discount\">55,000</span>,\n",
       " <span class=\"discount\">48,500</span>,\n",
       " <span class=\"discount\">20,000</span>,\n",
       " <span class=\"discount\">33,000</span>,\n",
       " <span class=\"discount\">48,000</span>,\n",
       " <span class=\"discount\">24,000</span>,\n",
       " <span class=\"discount\">14,500</span>,\n",
       " <span class=\"discount\">21,000</span>,\n",
       " <span class=\"discount\">42,000</span>,\n",
       " <span class=\"discount\">22,000</span>,\n",
       " <span class=\"discount\">18,000</span>,\n",
       " <span class=\"discount\">23,000</span>]"
      ]
     },
     "execution_count": 456,
     "metadata": {},
     "output_type": "execute_result"
    }
   ],
   "source": [
    "price_list"
   ]
  },
  {
   "cell_type": "code",
   "execution_count": 492,
   "metadata": {},
   "outputs": [
    {
     "data": {
      "text/plain": [
       "['20000',\n",
       " '16500',\n",
       " '24000',\n",
       " '22000',\n",
       " '14500',\n",
       " '22000',\n",
       " '24000',\n",
       " '13500',\n",
       " '22000',\n",
       " '25000',\n",
       " '27000',\n",
       " '24000',\n",
       " '18000',\n",
       " '48000',\n",
       " '16500',\n",
       " '12500',\n",
       " '40000',\n",
       " '22000',\n",
       " '22000',\n",
       " '22000',\n",
       " '22000',\n",
       " '16500',\n",
       " '19500',\n",
       " '69000',\n",
       " '24000',\n",
       " '48000',\n",
       " '20000',\n",
       " '16500',\n",
       " '39000',\n",
       " '12000',\n",
       " '14500',\n",
       " '22000',\n",
       " '20000',\n",
       " '17500',\n",
       " '18000',\n",
       " '20000',\n",
       " '24000',\n",
       " '42000',\n",
       " '23000']"
      ]
     },
     "execution_count": 492,
     "metadata": {},
     "output_type": "execute_result"
    }
   ],
   "source": [
    "price_collet=[]\n",
    "for i in range(1, len(price_list), 3):\n",
    "    temp=price_list[i].text.split(',')\n",
    "    int_price=temp[0]+temp[1]\n",
    "    price_collet.append(int_price)\n",
    "price_collet"
   ]
  },
  {
   "cell_type": "code",
   "execution_count": 458,
   "metadata": {},
   "outputs": [],
   "source": [
    "percent_list=doc.select('.price > span.percent')"
   ]
  },
  {
   "cell_type": "code",
   "execution_count": 459,
   "metadata": {
    "scrolled": true
   },
   "outputs": [
    {
     "data": {
      "text/plain": [
       "[<span class=\"percent\">19%</span>,\n",
       " <span class=\"percent\">19%</span>,\n",
       " <span class=\"percent\">19%</span>,\n",
       " <span class=\"percent\">19%</span>,\n",
       " <span class=\"percent\">19%</span>,\n",
       " <span class=\"percent\">19%</span>,\n",
       " <span class=\"percent\">19%</span>,\n",
       " <span class=\"percent\">20%</span>,\n",
       " <span class=\"percent\">19%</span>,\n",
       " <span class=\"percent\">19%</span>,\n",
       " <span class=\"percent\">19%</span>,\n",
       " <span class=\"percent\">19%</span>,\n",
       " <span class=\"percent\">19%</span>,\n",
       " <span class=\"percent\">18%</span>,\n",
       " <span class=\"percent\">17%</span>,\n",
       " <span class=\"percent\">19%</span>,\n",
       " <span class=\"percent\">19%</span>,\n",
       " <span class=\"percent\">20%</span>,\n",
       " <span class=\"percent\">19%</span>,\n",
       " <span class=\"percent\">20%</span>,\n",
       " <span class=\"percent\">18%</span>,\n",
       " <span class=\"percent\">19%</span>,\n",
       " <span class=\"percent\">19%</span>,\n",
       " <span class=\"percent\">19%</span>,\n",
       " <span class=\"percent\">19%</span>,\n",
       " <span class=\"percent\">19%</span>,\n",
       " <span class=\"percent\">19%</span>,\n",
       " <span class=\"percent\">19%</span>,\n",
       " <span class=\"percent\">20%</span>,\n",
       " <span class=\"percent\">19%</span>,\n",
       " <span class=\"percent\">19%</span>,\n",
       " <span class=\"percent\">19%</span>,\n",
       " <span class=\"percent\">17%</span>,\n",
       " <span class=\"percent\">20%</span>,\n",
       " <span class=\"percent\">20%</span>,\n",
       " <span class=\"percent\">20%</span>,\n",
       " <span class=\"percent\">20%</span>,\n",
       " <span class=\"percent\">17%</span>,\n",
       " <span class=\"percent\">20%</span>,\n",
       " <span class=\"percent\">20%</span>,\n",
       " <span class=\"percent\">20%</span>,\n",
       " <span class=\"percent\">19%</span>,\n",
       " <span class=\"percent\">19%</span>,\n",
       " <span class=\"percent\">19%</span>,\n",
       " <span class=\"percent\">19%</span>,\n",
       " <span class=\"percent\">19%</span>,\n",
       " <span class=\"percent\">19%</span>,\n",
       " <span class=\"percent\">20%</span>,\n",
       " <span class=\"percent\">20%</span>,\n",
       " <span class=\"percent\">19%</span>,\n",
       " <span class=\"percent\">19%</span>,\n",
       " <span class=\"percent\">19%</span>,\n",
       " <span class=\"percent\">19%</span>,\n",
       " <span class=\"percent\">19%</span>,\n",
       " <span class=\"percent\">19%</span>,\n",
       " <span class=\"percent\">19%</span>,\n",
       " <span class=\"percent\">19%</span>,\n",
       " <span class=\"percent\">19%</span>,\n",
       " <span class=\"percent\">19%</span>,\n",
       " <span class=\"percent\">18%</span>,\n",
       " <span class=\"percent\">19%</span>,\n",
       " <span class=\"percent\">19%</span>,\n",
       " <span class=\"percent\">19%</span>,\n",
       " <span class=\"percent\">19%</span>,\n",
       " <span class=\"percent\">20%</span>,\n",
       " <span class=\"percent\">19%</span>,\n",
       " <span class=\"percent\">19%</span>,\n",
       " <span class=\"percent\">20%</span>,\n",
       " <span class=\"percent\">20%</span>,\n",
       " <span class=\"percent\">19%</span>,\n",
       " <span class=\"percent\">19%</span>,\n",
       " <span class=\"percent\">19%</span>,\n",
       " <span class=\"percent\">19%</span>,\n",
       " <span class=\"percent\">20%</span>,\n",
       " <span class=\"percent\">19%</span>,\n",
       " <span class=\"percent\">19%</span>,\n",
       " <span class=\"percent\">20%</span>,\n",
       " <span class=\"percent\">20%</span>,\n",
       " <span class=\"percent\">20%</span>,\n",
       " <span class=\"percent\">19%</span>,\n",
       " <span class=\"percent\">18%</span>,\n",
       " <span class=\"percent\">19%</span>,\n",
       " <span class=\"percent\">19%</span>,\n",
       " <span class=\"percent\">19%</span>,\n",
       " <span class=\"percent\">20%</span>,\n",
       " <span class=\"percent\">20%</span>,\n",
       " <span class=\"percent\">20%</span>,\n",
       " <span class=\"percent\">19%</span>,\n",
       " <span class=\"percent\">19%</span>,\n",
       " <span class=\"percent\">19%</span>,\n",
       " <span class=\"percent\">17%</span>,\n",
       " <span class=\"percent\">18%</span>,\n",
       " <span class=\"percent\">12%</span>,\n",
       " <span class=\"percent\">20%</span>,\n",
       " <span class=\"percent\">19%</span>,\n",
       " <span class=\"percent\">19%</span>,\n",
       " <span class=\"percent\">19%</span>,\n",
       " <span class=\"percent\">19%</span>,\n",
       " <span class=\"percent\">19%</span>,\n",
       " <span class=\"percent\">19%</span>,\n",
       " <span class=\"percent\">19%</span>,\n",
       " <span class=\"percent\">19%</span>,\n",
       " <span class=\"percent\">19%</span>,\n",
       " <span class=\"percent\">17%</span>,\n",
       " <span class=\"percent\">19%</span>,\n",
       " <span class=\"percent\">19%</span>,\n",
       " <span class=\"percent\">19%</span>,\n",
       " <span class=\"percent\">19%</span>,\n",
       " <span class=\"percent\">20%</span>,\n",
       " <span class=\"percent\">20%</span>,\n",
       " <span class=\"percent\">18%</span>,\n",
       " <span class=\"percent\">19%</span>,\n",
       " <span class=\"percent\">19%</span>,\n",
       " <span class=\"percent\">19%</span>,\n",
       " <span class=\"percent\">17%</span>,\n",
       " <span class=\"percent\">19%</span>]"
      ]
     },
     "execution_count": 459,
     "metadata": {},
     "output_type": "execute_result"
    }
   ],
   "source": [
    "percent_list"
   ]
  },
  {
   "cell_type": "code",
   "execution_count": 489,
   "metadata": {},
   "outputs": [
    {
     "data": {
      "text/plain": [
       "['19%',\n",
       " '19%',\n",
       " '20%',\n",
       " '19%',\n",
       " '18%',\n",
       " '19%',\n",
       " '20%',\n",
       " '19%',\n",
       " '19%',\n",
       " '20%',\n",
       " '19%',\n",
       " '20%',\n",
       " '17%',\n",
       " '20%',\n",
       " '19%',\n",
       " '19%',\n",
       " '19%',\n",
       " '19%',\n",
       " '19%',\n",
       " '19%',\n",
       " '19%',\n",
       " '20%',\n",
       " '20%',\n",
       " '19%',\n",
       " '20%',\n",
       " '20%',\n",
       " '19%',\n",
       " '19%',\n",
       " '20%',\n",
       " '19%',\n",
       " '18%',\n",
       " '19%',\n",
       " '19%',\n",
       " '19%',\n",
       " '17%',\n",
       " '19%',\n",
       " '20%',\n",
       " '19%',\n",
       " '19%']"
      ]
     },
     "execution_count": 489,
     "metadata": {},
     "output_type": "execute_result"
    }
   ],
   "source": [
    "percent_collet=[]\n",
    "for i in range(1, len(percent_list), 3):\n",
    "    percent_collet.append(percent_list[i].text)\n",
    "\n",
    "percent_collet"
   ]
  },
  {
   "cell_type": "code",
   "execution_count": 516,
   "metadata": {},
   "outputs": [],
   "source": [
    "hottracts_file=open('hottract.csv', 'a', encoding = 'utf8')"
   ]
  },
  {
   "cell_type": "code",
   "execution_count": 517,
   "metadata": {},
   "outputs": [],
   "source": [
    "for i in range(20):\n",
    "    hottracts_file.write(song_list[i][0] + ',' +\n",
    "                         song_list[i][1] + ',' +\n",
    "                         percent_collet[i]+ ',' +\n",
    "                         price_collet[i] + '\\n')"
   ]
  },
  {
   "cell_type": "code",
   "execution_count": 518,
   "metadata": {},
   "outputs": [],
   "source": [
    "hottracts_file.close()"
   ]
  },
  {
   "cell_type": "code",
   "execution_count": 519,
   "metadata": {},
   "outputs": [
    {
     "data": {
      "text/html": [
       "<div>\n",
       "<style scoped>\n",
       "    .dataframe tbody tr th:only-of-type {\n",
       "        vertical-align: middle;\n",
       "    }\n",
       "\n",
       "    .dataframe tbody tr th {\n",
       "        vertical-align: top;\n",
       "    }\n",
       "\n",
       "    .dataframe thead th {\n",
       "        text-align: right;\n",
       "    }\n",
       "</style>\n",
       "<table border=\"1\" class=\"dataframe\">\n",
       "  <thead>\n",
       "    <tr style=\"text-align: right;\">\n",
       "      <th></th>\n",
       "      <th>title</th>\n",
       "      <th>brand</th>\n",
       "      <th>percent</th>\n",
       "      <th>price</th>\n",
       "    </tr>\n",
       "  </thead>\n",
       "  <tbody>\n",
       "    <tr>\n",
       "      <td>0</td>\n",
       "      <td>SAVAGE [미니 1집] [SYNK DIVE VER]</td>\n",
       "      <td>AESPA(에스파)</td>\n",
       "      <td>19%</td>\n",
       "      <td>20000</td>\n",
       "    </tr>\n",
       "    <tr>\n",
       "      <td>1</td>\n",
       "      <td>ODDINARY [MINI ALBUM] [SCANNING/ MASK OFF VER]...</td>\n",
       "      <td>STRAY KIDS(스트레이 키즈)</td>\n",
       "      <td>19%</td>\n",
       "      <td>16500</td>\n",
       "    </tr>\n",
       "    <tr>\n",
       "      <td>2</td>\n",
       "      <td>2021 WINTER SMTOWN: SMCU EXPRESS [RED VELVET]</td>\n",
       "      <td>RED VELVET(레드벨벳)</td>\n",
       "      <td>20%</td>\n",
       "      <td>24000</td>\n",
       "    </tr>\n",
       "    <tr>\n",
       "      <td>3</td>\n",
       "      <td>2021 WINTER SMTOWN: SMCU EXPRESS [NCT - DAYTIM...</td>\n",
       "      <td>NCT(엔시티)</td>\n",
       "      <td>19%</td>\n",
       "      <td>22000</td>\n",
       "    </tr>\n",
       "    <tr>\n",
       "      <td>4</td>\n",
       "      <td>2021 WINTER SMTOWN: SMCU EXPRESS [NCT - NIGHTT...</td>\n",
       "      <td>NCT(엔시티)</td>\n",
       "      <td>18%</td>\n",
       "      <td>14500</td>\n",
       "    </tr>\n",
       "    <tr>\n",
       "      <td>5</td>\n",
       "      <td>2021 WINTER SMTOWN: SMCU EXPRESS [SMTOWN VER]</td>\n",
       "      <td>VARIOUS</td>\n",
       "      <td>19%</td>\n",
       "      <td>22000</td>\n",
       "    </tr>\n",
       "    <tr>\n",
       "      <td>6</td>\n",
       "      <td>2021 WINTER SMTOWN: SMCU EXPRESS [AESPA]</td>\n",
       "      <td>AESPA(에스파)</td>\n",
       "      <td>20%</td>\n",
       "      <td>24000</td>\n",
       "    </tr>\n",
       "    <tr>\n",
       "      <td>7</td>\n",
       "      <td>YOUNG-LUV.COM [미니 2집] [2종 중 랜덤 1종]</td>\n",
       "      <td>STAYC(스테이씨)</td>\n",
       "      <td>19%</td>\n",
       "      <td>13500</td>\n",
       "    </tr>\n",
       "    <tr>\n",
       "      <td>8</td>\n",
       "      <td>AN ODE [정규 3집]</td>\n",
       "      <td>SEVENTEEN(세븐틴)</td>\n",
       "      <td>19%</td>\n",
       "      <td>22000</td>\n",
       "    </tr>\n",
       "    <tr>\n",
       "      <td>9</td>\n",
       "      <td>SMILEY [미니 1집]</td>\n",
       "      <td>YENA(최예나)</td>\n",
       "      <td>20%</td>\n",
       "      <td>25000</td>\n",
       "    </tr>\n",
       "    <tr>\n",
       "      <td>10</td>\n",
       "      <td>GLITCH MODE [정규 2집] [PHOTOBOOK VER]</td>\n",
       "      <td>NCT DREAM(엔시티 드림)</td>\n",
       "      <td>19%</td>\n",
       "      <td>27000</td>\n",
       "    </tr>\n",
       "    <tr>\n",
       "      <td>11</td>\n",
       "      <td>HELLO FUTURE [정규 1집] [리패키지] [PHOTO BOOK VER]</td>\n",
       "      <td>NCT DREAM(엔시티 드림)</td>\n",
       "      <td>20%</td>\n",
       "      <td>24000</td>\n",
       "    </tr>\n",
       "    <tr>\n",
       "      <td>12</td>\n",
       "      <td>혼돈의 장: FIGHT OR ESCAPE [TOGETHER VER]</td>\n",
       "      <td>TXT(투모로우바이투게더)</td>\n",
       "      <td>17%</td>\n",
       "      <td>18000</td>\n",
       "    </tr>\n",
       "    <tr>\n",
       "      <td>13</td>\n",
       "      <td>YOUNG-LUV.COM [미니 2집] [JEWEL CASE VER] [6종 중 랜...</td>\n",
       "      <td>STAYC(스테이씨)</td>\n",
       "      <td>20%</td>\n",
       "      <td>48000</td>\n",
       "    </tr>\n",
       "    <tr>\n",
       "      <td>14</td>\n",
       "      <td>헹가래(HENG:GARAE) [미니 7집]</td>\n",
       "      <td>SEVENTEEN(세븐틴)</td>\n",
       "      <td>19%</td>\n",
       "      <td>16500</td>\n",
       "    </tr>\n",
       "    <tr>\n",
       "      <td>15</td>\n",
       "      <td>혼돈의 장: FIGHT OR ESCAPE</td>\n",
       "      <td>TXT(투모로우바이투게더)</td>\n",
       "      <td>19%</td>\n",
       "      <td>12500</td>\n",
       "    </tr>\n",
       "    <tr>\n",
       "      <td>16</td>\n",
       "      <td>SAVAGE [미니 1집] [HALLUCINATION QUEST VER]</td>\n",
       "      <td>AESPA(에스파)</td>\n",
       "      <td>19%</td>\n",
       "      <td>40000</td>\n",
       "    </tr>\n",
       "    <tr>\n",
       "      <td>17</td>\n",
       "      <td>REAL LOVE [정규 2집] [2종 세트]</td>\n",
       "      <td>OH MY GIRL(오마이걸)</td>\n",
       "      <td>19%</td>\n",
       "      <td>22000</td>\n",
       "    </tr>\n",
       "    <tr>\n",
       "      <td>18</td>\n",
       "      <td>ATTACCA [미니 9집] [CARAT VER]</td>\n",
       "      <td>SEVENTEEN(세븐틴)</td>\n",
       "      <td>19%</td>\n",
       "      <td>22000</td>\n",
       "    </tr>\n",
       "    <tr>\n",
       "      <td>19</td>\n",
       "      <td>FATAL LOVE [정규 3집]</td>\n",
       "      <td>MONSTA X(몬스타엑스)</td>\n",
       "      <td>19%</td>\n",
       "      <td>22000</td>\n",
       "    </tr>\n",
       "  </tbody>\n",
       "</table>\n",
       "</div>"
      ],
      "text/plain": [
       "                                                title                brand  \\\n",
       "0                      SAVAGE [미니 1집] [SYNK DIVE VER]           AESPA(에스파)   \n",
       "1   ODDINARY [MINI ALBUM] [SCANNING/ MASK OFF VER]...  STRAY KIDS(스트레이 키즈)   \n",
       "2       2021 WINTER SMTOWN: SMCU EXPRESS [RED VELVET]     RED VELVET(레드벨벳)   \n",
       "3   2021 WINTER SMTOWN: SMCU EXPRESS [NCT - DAYTIM...             NCT(엔시티)   \n",
       "4   2021 WINTER SMTOWN: SMCU EXPRESS [NCT - NIGHTT...             NCT(엔시티)   \n",
       "5       2021 WINTER SMTOWN: SMCU EXPRESS [SMTOWN VER]              VARIOUS   \n",
       "6            2021 WINTER SMTOWN: SMCU EXPRESS [AESPA]           AESPA(에스파)   \n",
       "7                  YOUNG-LUV.COM [미니 2집] [2종 중 랜덤 1종]          STAYC(스테이씨)   \n",
       "8                                      AN ODE [정규 3집]       SEVENTEEN(세븐틴)   \n",
       "9                                      SMILEY [미니 1집]            YENA(최예나)   \n",
       "10                GLITCH MODE [정규 2집] [PHOTOBOOK VER]    NCT DREAM(엔시티 드림)   \n",
       "11       HELLO FUTURE [정규 1집] [리패키지] [PHOTO BOOK VER]    NCT DREAM(엔시티 드림)   \n",
       "12              혼돈의 장: FIGHT OR ESCAPE [TOGETHER VER]       TXT(투모로우바이투게더)   \n",
       "13  YOUNG-LUV.COM [미니 2집] [JEWEL CASE VER] [6종 중 랜...          STAYC(스테이씨)   \n",
       "14                            헹가래(HENG:GARAE) [미니 7집]       SEVENTEEN(세븐틴)   \n",
       "15                             혼돈의 장: FIGHT OR ESCAPE       TXT(투모로우바이투게더)   \n",
       "16           SAVAGE [미니 1집] [HALLUCINATION QUEST VER]           AESPA(에스파)   \n",
       "17                          REAL LOVE [정규 2집] [2종 세트]     OH MY GIRL(오마이걸)   \n",
       "18                        ATTACCA [미니 9집] [CARAT VER]       SEVENTEEN(세븐틴)   \n",
       "19                                 FATAL LOVE [정규 3집]      MONSTA X(몬스타엑스)   \n",
       "\n",
       "   percent  price  \n",
       "0      19%  20000  \n",
       "1      19%  16500  \n",
       "2      20%  24000  \n",
       "3      19%  22000  \n",
       "4      18%  14500  \n",
       "5      19%  22000  \n",
       "6      20%  24000  \n",
       "7      19%  13500  \n",
       "8      19%  22000  \n",
       "9      20%  25000  \n",
       "10     19%  27000  \n",
       "11     20%  24000  \n",
       "12     17%  18000  \n",
       "13     20%  48000  \n",
       "14     19%  16500  \n",
       "15     19%  12500  \n",
       "16     19%  40000  \n",
       "17     19%  22000  \n",
       "18     19%  22000  \n",
       "19     19%  22000  "
      ]
     },
     "execution_count": 519,
     "metadata": {},
     "output_type": "execute_result"
    }
   ],
   "source": [
    "hot= pd.read_csv('hottract.csv')\n",
    "hot"
   ]
  },
  {
   "cell_type": "code",
   "execution_count": 520,
   "metadata": {},
   "outputs": [
    {
     "data": {
      "text/plain": [
       "0                        SAVAGE [미니 1집] [SYNK DIVE VER]\n",
       "1     ODDINARY [MINI ALBUM] [SCANNING/ MASK OFF VER]...\n",
       "2         2021 WINTER SMTOWN: SMCU EXPRESS [RED VELVET]\n",
       "3     2021 WINTER SMTOWN: SMCU EXPRESS [NCT - DAYTIM...\n",
       "4     2021 WINTER SMTOWN: SMCU EXPRESS [NCT - NIGHTT...\n",
       "5         2021 WINTER SMTOWN: SMCU EXPRESS [SMTOWN VER]\n",
       "6              2021 WINTER SMTOWN: SMCU EXPRESS [AESPA]\n",
       "7                    YOUNG-LUV.COM [미니 2집] [2종 중 랜덤 1종]\n",
       "8                                        AN ODE [정규 3집]\n",
       "9                                        SMILEY [미니 1집]\n",
       "10                  GLITCH MODE [정규 2집] [PHOTOBOOK VER]\n",
       "11         HELLO FUTURE [정규 1집] [리패키지] [PHOTO BOOK VER]\n",
       "12                혼돈의 장: FIGHT OR ESCAPE [TOGETHER VER]\n",
       "13    YOUNG-LUV.COM [미니 2집] [JEWEL CASE VER] [6종 중 랜...\n",
       "14                              헹가래(HENG:GARAE) [미니 7집]\n",
       "15                               혼돈의 장: FIGHT OR ESCAPE\n",
       "16             SAVAGE [미니 1집] [HALLUCINATION QUEST VER]\n",
       "17                            REAL LOVE [정규 2집] [2종 세트]\n",
       "18                          ATTACCA [미니 9집] [CARAT VER]\n",
       "19                                   FATAL LOVE [정규 3집]\n",
       "Name: title, dtype: object"
      ]
     },
     "execution_count": 520,
     "metadata": {},
     "output_type": "execute_result"
    }
   ],
   "source": [
    "hot['title']"
   ]
  },
  {
   "cell_type": "code",
   "execution_count": 524,
   "metadata": {},
   "outputs": [
    {
     "data": {
      "text/plain": [
       "0    20000\n",
       "1    16500\n",
       "2    24000\n",
       "3    22000\n",
       "4    14500\n",
       "Name: price, dtype: int64"
      ]
     },
     "execution_count": 524,
     "metadata": {},
     "output_type": "execute_result"
    }
   ],
   "source": [
    "hot['price'][:5]"
   ]
  },
  {
   "cell_type": "code",
   "execution_count": 526,
   "metadata": {},
   "outputs": [
    {
     "data": {
      "text/plain": [
       "pandas.core.frame.DataFrame"
      ]
     },
     "execution_count": 526,
     "metadata": {},
     "output_type": "execute_result"
    }
   ],
   "source": [
    "type(hot)"
   ]
  },
  {
   "cell_type": "code",
   "execution_count": 528,
   "metadata": {},
   "outputs": [
    {
     "data": {
      "text/plain": [
       "pandas.core.series.Series"
      ]
     },
     "execution_count": 528,
     "metadata": {},
     "output_type": "execute_result"
    }
   ],
   "source": [
    "type(hot['title'])"
   ]
  },
  {
   "cell_type": "code",
   "execution_count": null,
   "metadata": {},
   "outputs": [],
   "source": [
    "# 크롤링(데이터 수집) --> list 생성 모았음 --> csv저장\n",
    "# csv읽어서 --> 분석할 수 있는 형태로 만들어 --> 분석 시작"
   ]
  }
 ],
 "metadata": {
  "kernelspec": {
   "display_name": "Python 3",
   "language": "python",
   "name": "python3"
  },
  "language_info": {
   "codemirror_mode": {
    "name": "ipython",
    "version": 3
   },
   "file_extension": ".py",
   "mimetype": "text/x-python",
   "name": "python",
   "nbconvert_exporter": "python",
   "pygments_lexer": "ipython3",
   "version": "3.7.4"
  }
 },
 "nbformat": 4,
 "nbformat_minor": 2
}
