{
 "cells": [
  {
   "cell_type": "code",
   "execution_count": 4,
   "metadata": {
    "scrolled": true
   },
   "outputs": [],
   "source": [
    "# 주요 라이브러리 import\n",
    "import warnings\n",
    "warnings.filterwarnings(action='ignore')\n",
    "import time\n",
    "from IPython.display import Image\n",
    "import pandas as pd\n",
    "import numpy as np\n",
    "\n",
    "import matplotlib.pyplot as plt\n",
    "import seaborn as sns\n",
    "\n",
    "from sklearn.model_selection import train_test_split\n",
    "from sklearn.model_selection import GridSearchCV\n",
    "from sklearn.model_selection import cross_val_score\n",
    "from sklearn.metrics import *\n",
    "from sklearn.metrics import roc_curve, roc_auc_score\n",
    "\n",
    "from matplotlib import rc, font_manager\n",
    "import matplotlib.font_manager as fm\n",
    "from sklearn.preprocessing import StandardScaler\n",
    "from sklearn.preprocessing import MinMaxScaler\n",
    "from sklearn.preprocessing import LabelEncoder\n",
    "\n",
    "from sklearn import datasets\n",
    "from sklearn.linear_model import LinearRegression\n",
    "from sklearn.metrics import mean_absolute_error, mean_squared_error, r2_score\n",
    "\n",
    "from sklearn.linear_model import Ridge, Lasso, ElasticNet\n",
    "\n",
    "# 디렉토리 및 파일 이름에 맞추어 변경\n",
    "font_location = 'C:/Windows/Fonts/malgun.ttf'\n",
    "\n",
    "font_name = fm.FontProperties(fname=font_location).get_name()\n",
    "rc('font', family=font_name)"
   ]
  },
  {
   "cell_type": "code",
   "execution_count": 112,
   "metadata": {
    "scrolled": false
   },
   "outputs": [],
   "source": [
    "df=pd.read_csv('2018 국민여행조사_국내여행.csv')"
   ]
  },
  {
   "cell_type": "code",
   "execution_count": 113,
   "metadata": {
    "scrolled": true
   },
   "outputs": [
    {
     "data": {
      "text/plain": [
       "2018.0    14296\n",
       "2017.0        7\n",
       "Name: D_TRA1_SYEAR, dtype: int64"
      ]
     },
     "execution_count": 113,
     "metadata": {},
     "output_type": "execute_result"
    }
   ],
   "source": [
    "df['D_TRA1_SYEAR'].value_counts()"
   ]
  },
  {
   "cell_type": "code",
   "execution_count": 114,
   "metadata": {},
   "outputs": [
    {
     "name": "stdout",
     "output_type": "stream",
     "text": [
      "9851 9851 12306 11848 14303\n"
     ]
    }
   ],
   "source": [
    "print(df['D_TRA1_SDAY'].isna().sum(), df['D_TRA1_COST'].isna().sum(), \n",
    "df['A1'].isnull().sum(), df['A1'].notnull().sum(), df['D_TRA1_CASE'].notnull().sum())"
   ]
  },
  {
   "cell_type": "code",
   "execution_count": 115,
   "metadata": {},
   "outputs": [],
   "source": [
    "# 여행 유형이 \"2.국내여행\"인 레코드만 추출\n",
    "df=df[df['D_TRA1_CASE']==2]"
   ]
  },
  {
   "cell_type": "code",
   "execution_count": 116,
   "metadata": {},
   "outputs": [],
   "source": [
    "## 추천도, 재방문의사 보통이상만 추출\n",
    "df = df[(df['A12']>=3) & (df['A13']>=3)]"
   ]
  },
  {
   "cell_type": "code",
   "execution_count": 122,
   "metadata": {},
   "outputs": [],
   "source": [
    "## 1차 필요컬럼\n",
    "columns_list = [\n",
    "    '',\n",
    "    '',\n",
    "    '',\n",
    "    '',\n",
    "    '',\n",
    "    '',\n",
    "    '',\n",
    "    '',\n",
    "    '',\n",
    "    '',\n",
    "    '',\n",
    "    '',\n",
    "    '',\n",
    "    '',\n",
    "    '',\n",
    "    '',\n",
    "    '',\n",
    "    '',\n",
    "    '',\n",
    "    '',\n",
    "    \n",
    "    \n",
    "    \n",
    "    'D_TRA1_CASE',\n",
    "    'D_TRA1_SYEAR',\n",
    "    'D_TRA1_SMONTH',\n",
    "    'D_TRA1_SDAY',\n",
    "    'D_TRA1_EYEAR ',\n",
    "    'D_TRA1_EMONTH',\n",
    "    'D_TRA1_EDAY',\n",
    "    'D_TRA1_1_CITY1',\n",
    "    'D_TRA1_1_TOWN1',\n",
    "    'D_TRA1_1_CITY2',\n",
    "    'D_TRA1_1_TOWN2',\n",
    "    'D_TRA1_1_CITY3',\n",
    "    'D_TRA1_1_TOWN3',\n",
    "    'D_TRA1_1_SYEAR',\n",
    "    'D_TRA1_1_SMONTH'\n",
    "    'D_TRA1_1_SDAY',\n",
    "    'D_TRA1_1_EYEAR',\n",
    "    'D_TRA1_1_EMONTH',\n",
    "    'D_TRA1_1_EDAY',\n",
    "    'D_TRA1_2_CITY1',\n",
    "    'D_TRA1_2_TOWN1',\n",
    "    'D_TRA1_2_SYEAR',\n",
    "    'D_TRA1_2_SMONTH',\n",
    "    'D_TRA1_2_SDAY',\n",
    "    'D_TRA1_2_EYEAR'\n",
    "    'D_TRA1_2_EMONTH',\n",
    "    'D_TRA1_2_EDAY',\n",
    "    'D_TRA1_VAC',\n",
    "    'D_TRA1_COST'\n",
    "]"
   ]
  },
  {
   "cell_type": "code",
   "execution_count": 118,
   "metadata": {
    "scrolled": true
   },
   "outputs": [],
   "source": [
    "# 다른컬럼 체크\n",
    "# for one in columns_list:\n",
    "#     df[one].head(1)"
   ]
  },
  {
   "cell_type": "code",
   "execution_count": 119,
   "metadata": {},
   "outputs": [
    {
     "data": {
      "text/plain": [
       "Index(['ID', 'MON_EXP_DOM_TOUR', 'MON_EXP_DOM_BUSIN', 'MON_EXP_DOM_FRI',\n",
       "       'YEAR_EXP_DOM_TOUR', 'YEAR_EXP_DOM_BUSIN', 'YEAR_EXP_DOM_FRI',\n",
       "       'D_TRA1_CASE', 'D_TRA1_SYEAR', 'D_TRA1_SMONTH',\n",
       "       ...\n",
       "       '국내_여행방문지_기타당일7', '국내_여행방문지_기타당일8', '국내_여행방문지_기타당일9', '국내_여행방문지_기타당일10',\n",
       "       '국내_여행방문지_기타당일11', '국내_여행방문지_기타당일12', '국내_여행방문지_기타당일13',\n",
       "       '국내_여행방문지_기타당일14', '국내_여행방문지_기타당일15', '국내_여행방문지_기타당일16'],\n",
       "      dtype='object', length=1302)"
      ]
     },
     "execution_count": 119,
     "metadata": {},
     "output_type": "execute_result"
    }
   ],
   "source": [
    "df.columns"
   ]
  },
  {
   "cell_type": "code",
   "execution_count": 120,
   "metadata": {},
   "outputs": [
    {
     "data": {
      "text/plain": [
       "'D_TRA1_SYEAR'"
      ]
     },
     "execution_count": 120,
     "metadata": {},
     "output_type": "execute_result"
    }
   ],
   "source": [
    "df.columns[8] # 1차 필요컬럼 시작"
   ]
  },
  {
   "cell_type": "code",
   "execution_count": 121,
   "metadata": {},
   "outputs": [
    {
     "data": {
      "text/plain": [
       "'D_TRA4__CHEAK'"
      ]
     },
     "execution_count": 121,
     "metadata": {},
     "output_type": "execute_result"
    }
   ],
   "source": [
    "df.columns[126] # 1차 필요컬럼 끝"
   ]
  },
  {
   "cell_type": "code",
   "execution_count": null,
   "metadata": {},
   "outputs": [],
   "source": []
  }
 ],
 "metadata": {
  "kernelspec": {
   "display_name": "Python 3",
   "language": "python",
   "name": "python3"
  },
  "language_info": {
   "codemirror_mode": {
    "name": "ipython",
    "version": 3
   },
   "file_extension": ".py",
   "mimetype": "text/x-python",
   "name": "python",
   "nbconvert_exporter": "python",
   "pygments_lexer": "ipython3",
   "version": "3.7.4"
  }
 },
 "nbformat": 4,
 "nbformat_minor": 2
}
