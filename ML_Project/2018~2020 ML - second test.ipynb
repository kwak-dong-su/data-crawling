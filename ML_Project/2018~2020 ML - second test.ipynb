{
 "cells": [
  {
   "cell_type": "code",
   "execution_count": 2,
   "metadata": {},
   "outputs": [],
   "source": [
    "import warnings\n",
    "warnings.filterwarnings('ignore')\n",
    "from sklearn.preprocessing import StandardScaler #표준화(평균을 기준)\n",
    "from sklearn.preprocessing import MinMaxScaler   #정규화(정해진 규칙 기준, min-max)\n",
    "from sklearn.datasets import load_iris\n",
    "\n",
    "import time\n",
    "from IPython.display import Image\n",
    "import pandas as pd\n",
    "import numpy as np\n",
    "\n",
    "import matplotlib.pyplot as plt\n",
    "import seaborn as sns\n",
    "\n",
    "from sklearn.model_selection import train_test_split\n",
    "from sklearn.metrics import accuracy_score\n",
    "\n",
    "from sklearn.neighbors import KNeighborsClassifier\n",
    "from sklearn.svm import SVC\n",
    "from sklearn.tree import DecisionTreeClassifier\n",
    "\n",
    "from sklearn.model_selection import cross_val_score\n",
    "# cross_val_score: 다양한 샘플링을 해서 여러번 테스트 --> 평균치를 구해본다.!\n",
    "from sklearn.metrics import *\n",
    "\n",
    "from sklearn.model_selection import GridSearchCV\n",
    "\n",
    "from sklearn.preprocessing import LabelEncoder\n",
    "from matplotlib import rc, font_manager\n",
    "import matplotlib.font_manager as fm\n",
    "\n",
    "# 디렉토리 및 파일 이름에 맞추어 변경\n",
    "font_location = 'C:/Windows/Fonts/malgun.ttf'\n",
    "\n",
    "font_name = fm.FontProperties(fname=font_location).get_name()\n",
    "rc('font', family=font_name)"
   ]
  },
  {
   "cell_type": "code",
   "execution_count": 3,
   "metadata": {},
   "outputs": [],
   "source": [
    "# data12 - 기계마모\n",
    "# data14 - 앙상블voting, 서울시구별영역나누기\n",
    "# 위 코드들 이용하여 머신러닝 모델 만들기"
   ]
  },
  {
   "cell_type": "code",
   "execution_count": 148,
   "metadata": {},
   "outputs": [],
   "source": [
    "df=pd.read_csv('국내여행_병합.csv')"
   ]
  },
  {
   "cell_type": "code",
   "execution_count": 149,
   "metadata": {
    "scrolled": true
   },
   "outputs": [
    {
     "data": {
      "text/plain": [
       "Index(['Unnamed: 0', 'year', 'target_area1', 'target_area2', 'target_area3',\n",
       "       'target_area4', 'target_area5', 'target_area6', 'target_area7',\n",
       "       'target_area8', 'target_area9', 'target_area10', 'target_area11',\n",
       "       'no_of_place', 'sleepnights_1', 'sleepnights_2', 'sleepnights_3',\n",
       "       'sleepnights_4', 'sleepnights_5', 'sleepnights_6', 'sleepnights_7',\n",
       "       'sleepnights_8', 'accommodation_1', 'accommodation_2',\n",
       "       'accommodation_3', 'number_of_ppl', 'number_of_children',\n",
       "       'cost_total_trip', 'satisfied', 'sex', 'age', 'month', 'living_area',\n",
       "       'transportation1', 'transportation2', 'transportation3', 'reason1',\n",
       "       'reason2', 'reason3', 'relationship1', 'relationship2', 'relationship3',\n",
       "       'target'],\n",
       "      dtype='object')"
      ]
     },
     "execution_count": 149,
     "metadata": {},
     "output_type": "execute_result"
    }
   ],
   "source": [
    "df.columns"
   ]
  },
  {
   "cell_type": "code",
   "execution_count": 152,
   "metadata": {},
   "outputs": [],
   "source": [
    "# sleepnights_1의 컬럼명을 sleepnights로 변경 \n",
    "df.rename(columns={'sleepnights_1':'sleepnights'}, inplace=True)\n",
    "# relationship1의 컬럼명을 relationship으로 변경\n",
    "df.rename(columns={'relationship1':'relationship'}, inplace=True)"
   ]
  },
  {
   "cell_type": "code",
   "execution_count": 153,
   "metadata": {},
   "outputs": [],
   "source": [
    "# unnamed, year, no_of_place, target_area_1~11, sleepnights_2~8, satisfied, relationship2~3 제외\n",
    "data=df[['sleepnights', 'accommodation_1', 'accommodation_2', 'accommodation_3',\n",
    "        'number_of_ppl', 'number_of_children', 'cost_total_trip', 'sex', 'age', 'month', 'living_area', \n",
    "        'transportation1', 'transportation2', 'transportation3', \n",
    "         'reason1', 'reason2', 'reason3', 'relationship']]\n",
    "target=df['target']"
   ]
  },
  {
   "cell_type": "code",
   "execution_count": 154,
   "metadata": {},
   "outputs": [],
   "source": [
    "X_train, X_test, y_train, y_test=train_test_split(\n",
    "    data,\n",
    "    target,\n",
    "    test_size=0.2,\n",
    "    random_state=77\n",
    ")"
   ]
  },
  {
   "cell_type": "code",
   "execution_count": 155,
   "metadata": {},
   "outputs": [],
   "source": [
    "knn=KNeighborsClassifier()\n",
    "svm=SVC()\n",
    "dt=DecisionTreeClassifier()\n",
    "model_list=[knn, svm, dt]"
   ]
  },
  {
   "cell_type": "code",
   "execution_count": 156,
   "metadata": {},
   "outputs": [],
   "source": [
    "def print_cv(model, train, target, k):\n",
    "    scores=cross_val_score(model, train, target, cv=k)\n",
    "    print('----교차검증(cv)결과 리스트----\\n',scores)\n",
    "    mean_scores=np.mean(scores)\n",
    "    print('----교차검증(cv)결과 평균----\\n',mean_scores)\n",
    "    return scores, mean_scores \n",
    "    \n",
    "    ## 함수의 결과로 여러개의 데이터를 return할 수 있다.\n",
    "    ## 튜플로 묶어서 반환하게 된다.(scores, mean_scores)"
   ]
  },
  {
   "cell_type": "code",
   "execution_count": 157,
   "metadata": {},
   "outputs": [
    {
     "name": "stdout",
     "output_type": "stream",
     "text": [
      "----교차검증(cv)결과 리스트----\n",
      " [0.56469166 0.57263923 0.5788835  0.5788835  0.57038835]\n",
      "----교차검증(cv)결과 평균----\n",
      " 0.5730972443155016\n",
      "----교차검증(cv)결과 리스트----\n",
      " [0.66021765 0.66101695 0.66383495 0.66140777 0.66383495]\n",
      "----교차검증(cv)결과 평균----\n",
      " 0.662062454645432\n",
      "----교차검증(cv)결과 리스트----\n",
      " [0.59008464 0.56658596 0.5934466  0.56067961 0.55703883]\n",
      "----교차검증(cv)결과 평균----\n",
      " 0.5735671296498301\n",
      "***************************************\n",
      "----전체 모델 리스트----\n",
      "['KNeighborsClassifier', 'SVC', 'DecisionTreeClassifier']\n",
      "----전체 모델의 교차검증 결과 리스트----\n",
      "[array([0.56469166, 0.57263923, 0.5788835 , 0.5788835 , 0.57038835]), array([0.66021765, 0.66101695, 0.66383495, 0.66140777, 0.66383495]), array([0.59008464, 0.56658596, 0.5934466 , 0.56067961, 0.55703883])]\n",
      "----전체 모델의 교차검증 결과 평균----\n",
      "[0.5730972443155016, 0.662062454645432, 0.5735671296498301]\n"
     ]
    }
   ],
   "source": [
    "model_names=['KNeighborsClassifier','SVC','DecisionTreeClassifier']\n",
    "sc_list=[]\n",
    "mean_sc_list=[]\n",
    "for model in model_list:\n",
    "    sc, mean_sc=print_cv(model, X_train, y_train, 5)\n",
    "    sc_list.append(sc)\n",
    "    mean_sc_list.append(mean_sc)\n",
    "print('***************************************')\n",
    "print('----전체 모델 리스트----')\n",
    "print(model_names)\n",
    "print('----전체 모델의 교차검증 결과 리스트----')\n",
    "print(sc_list)\n",
    "print('----전체 모델의 교차검증 결과 평균----')\n",
    "print(mean_sc_list)"
   ]
  },
  {
   "cell_type": "markdown",
   "metadata": {},
   "source": [
    "## svc"
   ]
  },
  {
   "cell_type": "code",
   "execution_count": 158,
   "metadata": {},
   "outputs": [],
   "source": [
    "def grid_search(model, params, k):\n",
    "    gs_model=GridSearchCV(model, params, cv=k)\n",
    "    ## gs_model은 최적의 파라미터가 적용된 모델의 객체!\n",
    "    gs_model.fit(X_train, y_train)\n",
    "    print(gs_model.best_estimator_) ## 최적의 파라미터가 적용된 모델 객체\n",
    "    print(gs_model.best_score_) ## 최적의 파라미터가 적용된 모델로 학습한 정확도 결과(acc)\n",
    "    print(gs_model.best_params_) ## 그리드 서치를 통해 찾은 최적의 파라미터\n",
    "    print(gs_model) ## grid_search 객체"
   ]
  },
  {
   "cell_type": "code",
   "execution_count": 159,
   "metadata": {},
   "outputs": [],
   "source": [
    "params={ \n",
    "    'C': [0.001, 0.01, 0.1, 1, 10, 25],\n",
    "    'random_state':[5, 50, 99]\n",
    "}"
   ]
  },
  {
   "cell_type": "code",
   "execution_count": 160,
   "metadata": {},
   "outputs": [
    {
     "name": "stdout",
     "output_type": "stream",
     "text": [
      "SVC(C=1, cache_size=200, class_weight=None, coef0=0.0,\n",
      "    decision_function_shape='ovr', degree=3, gamma='auto_deprecated',\n",
      "    kernel='rbf', max_iter=-1, probability=False, random_state=5,\n",
      "    shrinking=True, tol=0.001, verbose=False)\n",
      "0.662060606060606\n",
      "{'C': 1, 'random_state': 5}\n",
      "GridSearchCV(cv=5, error_score='raise-deprecating',\n",
      "             estimator=SVC(C=1.0, cache_size=200, class_weight=None, coef0=0.0,\n",
      "                           decision_function_shape='ovr', degree=3,\n",
      "                           gamma='auto_deprecated', kernel='rbf', max_iter=-1,\n",
      "                           probability=False, random_state=None, shrinking=True,\n",
      "                           tol=0.001, verbose=False),\n",
      "             iid='warn', n_jobs=None,\n",
      "             param_grid={'C': [0.001, 0.01, 0.1, 1, 10, 25],\n",
      "                         'random_state': [5, 50, 99]},\n",
      "             pre_dispatch='2*n_jobs', refit=True, return_train_score=False,\n",
      "             scoring=None, verbose=0)\n"
     ]
    }
   ],
   "source": [
    "grid_search(svm, params, 5)"
   ]
  },
  {
   "cell_type": "code",
   "execution_count": 161,
   "metadata": {},
   "outputs": [
    {
     "data": {
      "text/plain": [
       "SVC(C=1, cache_size=200, class_weight=None, coef0=0.0,\n",
       "    decision_function_shape='ovr', degree=3, gamma='auto_deprecated',\n",
       "    kernel='rbf', max_iter=-1, probability=False, random_state=5,\n",
       "    shrinking=True, tol=0.001, verbose=False)"
      ]
     },
     "execution_count": 161,
     "metadata": {},
     "output_type": "execute_result"
    }
   ],
   "source": [
    "gs_svm=SVC(C=1, random_state=5)\n",
    "gs_svm.fit(X_train, y_train)"
   ]
  },
  {
   "cell_type": "code",
   "execution_count": 162,
   "metadata": {},
   "outputs": [],
   "source": [
    "def test_validation(model, X_test, y_test):\n",
    "    predict_result=model.predict(X_test)\n",
    "    acc=accuracy_score(y_test, predict_result)\n",
    "    print('accuracy >>', acc)\n",
    "    cf=confusion_matrix(y_test, predict_result)\n",
    "    print('confusion matrix >>\\n', cf)\n",
    "    ## confusion matrix는 binary classfication인 경우에는 보기가 괜찮으나,\n",
    "    ## multi class classification인 경우에는 보기가 힘들다.\n",
    "    ## confusion matrix를 가독성 좋에 볼 수 있는 것이 classification_report\n",
    "    c_report=classification_report(y_test, predict_result)\n",
    "    print('classification_report >>\\n', c_report)"
   ]
  },
  {
   "cell_type": "code",
   "execution_count": 163,
   "metadata": {},
   "outputs": [
    {
     "name": "stdout",
     "output_type": "stream",
     "text": [
      "accuracy >> 0.6521317829457365\n",
      "confusion matrix >>\n",
      " [[  2   0   0 126]\n",
      " [  0   1   0 169]\n",
      " [  0   0   0  64]\n",
      " [  0   0   0 670]]\n",
      "classification_report >>\n",
      "               precision    recall  f1-score   support\n",
      "\n",
      "    식도락,맛집투어       1.00      0.02      0.03       128\n",
      "        엑티비티       1.00      0.01      0.01       170\n",
      "       축제,관광       0.00      0.00      0.00        64\n",
      "      힐링,호캉스       0.65      1.00      0.79       670\n",
      "\n",
      "    accuracy                           0.65      1032\n",
      "   macro avg       0.66      0.26      0.21      1032\n",
      "weighted avg       0.71      0.65      0.52      1032\n",
      "\n"
     ]
    }
   ],
   "source": [
    "test_validation(gs_svm, X_test, y_test)"
   ]
  },
  {
   "cell_type": "markdown",
   "metadata": {},
   "source": [
    "## 설문 결과 predict"
   ]
  },
  {
   "cell_type": "code",
   "execution_count": 164,
   "metadata": {},
   "outputs": [],
   "source": [
    "predict_col_list=['sleepnights', 'accommodation_1', 'accommodation_2', 'accommodation_3',\n",
    "        'number_of_ppl', 'number_of_children', 'cost_total_trip', 'sex', 'age', 'month', 'living_area', \n",
    "        'transportation1', 'transportation2', 'transportation3', \n",
    "         'reason1', 'reason2', 'reason3', 'relationship']"
   ]
  },
  {
   "cell_type": "code",
   "execution_count": 165,
   "metadata": {},
   "outputs": [
    {
     "data": {
      "text/plain": [
       "18"
      ]
     },
     "execution_count": 165,
     "metadata": {},
     "output_type": "execute_result"
    }
   ],
   "source": [
    "len(predict_col_list)"
   ]
  },
  {
   "cell_type": "code",
   "execution_count": 166,
   "metadata": {},
   "outputs": [],
   "source": [
    "def find_index(str):\n",
    "    for i in range(len(predict_col_list)):\n",
    "        if predict_col_list[i]==str:\n",
    "            print(str+'의 index >> ',i)"
   ]
  },
  {
   "cell_type": "code",
   "execution_count": 179,
   "metadata": {},
   "outputs": [
    {
     "name": "stdout",
     "output_type": "stream",
     "text": [
      "age의 index >>  8\n"
     ]
    }
   ],
   "source": [
    "find_index('age')"
   ]
  },
  {
   "cell_type": "code",
   "execution_count": 168,
   "metadata": {},
   "outputs": [
    {
     "data": {
      "text/html": [
       "<div>\n",
       "<style scoped>\n",
       "    .dataframe tbody tr th:only-of-type {\n",
       "        vertical-align: middle;\n",
       "    }\n",
       "\n",
       "    .dataframe tbody tr th {\n",
       "        vertical-align: top;\n",
       "    }\n",
       "\n",
       "    .dataframe thead th {\n",
       "        text-align: right;\n",
       "    }\n",
       "</style>\n",
       "<table border=\"1\" class=\"dataframe\">\n",
       "  <thead>\n",
       "    <tr style=\"text-align: right;\">\n",
       "      <th></th>\n",
       "      <th>sleepnights</th>\n",
       "      <th>accommodation_1</th>\n",
       "      <th>accommodation_2</th>\n",
       "      <th>accommodation_3</th>\n",
       "      <th>number_of_ppl</th>\n",
       "      <th>number_of_children</th>\n",
       "      <th>cost_total_trip</th>\n",
       "      <th>sex</th>\n",
       "      <th>age</th>\n",
       "      <th>month</th>\n",
       "      <th>living_area</th>\n",
       "      <th>transportation1</th>\n",
       "      <th>transportation2</th>\n",
       "      <th>transportation3</th>\n",
       "      <th>reason1</th>\n",
       "      <th>reason2</th>\n",
       "      <th>reason3</th>\n",
       "      <th>relationship</th>\n",
       "    </tr>\n",
       "  </thead>\n",
       "  <tbody>\n",
       "    <tr>\n",
       "      <th>0</th>\n",
       "      <td>2</td>\n",
       "      <td>1</td>\n",
       "      <td>1</td>\n",
       "      <td>0</td>\n",
       "      <td>3</td>\n",
       "      <td>1</td>\n",
       "      <td>276000</td>\n",
       "      <td>2</td>\n",
       "      <td>38</td>\n",
       "      <td>5</td>\n",
       "      <td>11</td>\n",
       "      <td>1</td>\n",
       "      <td>0</td>\n",
       "      <td>0</td>\n",
       "      <td>14</td>\n",
       "      <td>1</td>\n",
       "      <td>11</td>\n",
       "      <td>1</td>\n",
       "    </tr>\n",
       "  </tbody>\n",
       "</table>\n",
       "</div>"
      ],
      "text/plain": [
       "   sleepnights  accommodation_1  accommodation_2  accommodation_3  \\\n",
       "0            2                1                1                0   \n",
       "\n",
       "   number_of_ppl  number_of_children  cost_total_trip  sex  age  month  \\\n",
       "0              3                   1           276000    2   38      5   \n",
       "\n",
       "   living_area  transportation1  transportation2  transportation3  reason1  \\\n",
       "0           11                1                0                0       14   \n",
       "\n",
       "   reason2  reason3  relationship  \n",
       "0        1       11             1  "
      ]
     },
     "execution_count": 168,
     "metadata": {},
     "output_type": "execute_result"
    }
   ],
   "source": [
    "df[['sleepnights', 'accommodation_1', 'accommodation_2', 'accommodation_3',\n",
    "        'number_of_ppl', 'number_of_children', 'cost_total_trip', 'sex', 'age', 'month', 'living_area', \n",
    "        'transportation1', 'transportation2', 'transportation3', \n",
    "         'reason1', 'reason2', 'reason3', 'relationship']].head(1)"
   ]
  },
  {
   "cell_type": "code",
   "execution_count": 169,
   "metadata": {},
   "outputs": [
    {
     "data": {
      "text/plain": [
       "array([[     2,      1,      1,      0,      3,      1, 276000,      2,\n",
       "            38,      5,     11,      1,      0,      0,     14,      1,\n",
       "            11,      1],\n",
       "       [     2,      1,      1,      0,      3,      0, 318000,      2,\n",
       "            48,      5,     11,      1,      0,      0,      1,     11,\n",
       "             9,      1],\n",
       "       [     1,     11,      0,      0,      6,      0, 107000,      1,\n",
       "            19,      6,     11,      6,      0,      0,      4,     14,\n",
       "             5,      3],\n",
       "       [     0,      0,      0,      0,      3,      0,  50000,      2,\n",
       "            55,      6,     11,      2,      0,      0,      1,      5,\n",
       "             8,      3],\n",
       "       [     2,      5,      5,      0,      4,      0, 233000,      1,\n",
       "            29,      2,     11,      1,      0,      0,     13,     14,\n",
       "             3,      1]], dtype=int64)"
      ]
     },
     "execution_count": 169,
     "metadata": {},
     "output_type": "execute_result"
    }
   ],
   "source": [
    "df[['sleepnights', 'accommodation_1', 'accommodation_2', 'accommodation_3',\n",
    "        'number_of_ppl', 'number_of_children', 'cost_total_trip', 'sex', 'age', 'month', 'living_area', \n",
    "        'transportation1', 'transportation2', 'transportation3', \n",
    "         'reason1', 'reason2', 'reason3', 'relationship']].head().values"
   ]
  },
  {
   "cell_type": "code",
   "execution_count": 170,
   "metadata": {},
   "outputs": [
    {
     "data": {
      "text/plain": [
       "array([[     1,     11,      0,      0,      6,      0, 107000,      1,\n",
       "            19,      6,     11,      6,      0,      0,      4,     14,\n",
       "             5,      3],\n",
       "       [     0,      0,      0,      0,      3,      1,  42000,      1,\n",
       "            37,      6,     11,      1,      0,      0,      8,      1,\n",
       "             3,      1],\n",
       "       [     0,      0,      0,      0,      4,      0, 100000,      1,\n",
       "            68,      8,     11,      1,      0,      0,     10,     11,\n",
       "            14,      5],\n",
       "       [     0,      0,      0,      0,      4,      2,  78048,      2,\n",
       "            36,     12,     11,      1,      0,      0,     10,     14,\n",
       "             8,      1],\n",
       "       [     0,      0,      0,      0,      4,      0, 120000,      1,\n",
       "            16,      8,     11,      6,      0,      0,     11,      0,\n",
       "             0,      3]], dtype=int64)"
      ]
     },
     "execution_count": 170,
     "metadata": {},
     "output_type": "execute_result"
    }
   ],
   "source": [
    "df[['sleepnights', 'accommodation_1', 'accommodation_2', 'accommodation_3',\n",
    "        'number_of_ppl', 'number_of_children', 'cost_total_trip', 'sex', 'age', 'month', 'living_area', \n",
    "        'transportation1', 'transportation2', 'transportation3', \n",
    "         'reason1', 'reason2', 'reason3', 'relationship']][df['target']=='엑티비티'].head().values"
   ]
  },
  {
   "cell_type": "code",
   "execution_count": 172,
   "metadata": {},
   "outputs": [
    {
     "data": {
      "text/plain": [
       "array(['엑티비티'], dtype=object)"
      ]
     },
     "execution_count": 172,
     "metadata": {},
     "output_type": "execute_result"
    }
   ],
   "source": [
    "gs_svm.predict([[     1,     11,      0,      0,      6,      0, 107000,      1,\n",
    "            19,      6,     11,      6,      0,      0,      4,     14,\n",
    "             5,      3]])"
   ]
  },
  {
   "cell_type": "code",
   "execution_count": 171,
   "metadata": {},
   "outputs": [
    {
     "data": {
      "text/plain": [
       "array([[    0,     0,     0,     0,     6,     0, 70000,     1,    30,\n",
       "           12,    11,     2,     5,     0,     8,     4,     0,     3],\n",
       "       [    0,     0,     0,     0,     4,     0, 97000,     1,    28,\n",
       "            5,    11,     5,    10,     0,     5,     9,     3,     3],\n",
       "       [    0,     0,     0,     0,     5,     1, 45000,     2,    37,\n",
       "            1,    11,     1,     0,     0,     8,     5,    14,     1],\n",
       "       [    0,     0,     0,     0,     4,     0, 40000,     1,    48,\n",
       "            5,    11,     1,     0,     0,     8,    14,     0,     3],\n",
       "       [    0,     0,     0,     0,     3,     1, 20000,     2,    38,\n",
       "            6,    11,     1,     0,     0,     1,     8,     4,     1]],\n",
       "      dtype=int64)"
      ]
     },
     "execution_count": 171,
     "metadata": {},
     "output_type": "execute_result"
    }
   ],
   "source": [
    "df[['sleepnights', 'accommodation_1', 'accommodation_2', 'accommodation_3',\n",
    "        'number_of_ppl', 'number_of_children', 'cost_total_trip', 'sex', 'age', 'month', 'living_area', \n",
    "        'transportation1', 'transportation2', 'transportation3', \n",
    "         'reason1', 'reason2', 'reason3', 'relationship']][df['target']=='식도락,맛집투어'].head().values"
   ]
  },
  {
   "cell_type": "markdown",
   "metadata": {},
   "source": [
    "## pickle, joblib"
   ]
  },
  {
   "cell_type": "code",
   "execution_count": 173,
   "metadata": {},
   "outputs": [],
   "source": [
    "import pickle\n",
    "import joblib"
   ]
  },
  {
   "cell_type": "code",
   "execution_count": 174,
   "metadata": {},
   "outputs": [
    {
     "data": {
      "text/plain": [
       "['trip_gs_svm.pkl']"
      ]
     },
     "execution_count": 174,
     "metadata": {},
     "output_type": "execute_result"
    }
   ],
   "source": [
    "joblib.dump(gs_svm, 'trip_gs_svm.pkl')"
   ]
  },
  {
   "cell_type": "code",
   "execution_count": 175,
   "metadata": {},
   "outputs": [
    {
     "data": {
      "text/plain": [
       "SVC(C=1, cache_size=200, class_weight=None, coef0=0.0,\n",
       "    decision_function_shape='ovr', degree=3, gamma='auto_deprecated',\n",
       "    kernel='rbf', max_iter=-1, probability=False, random_state=5,\n",
       "    shrinking=True, tol=0.001, verbose=False)"
      ]
     },
     "execution_count": 175,
     "metadata": {},
     "output_type": "execute_result"
    }
   ],
   "source": [
    "loaded_model = joblib.load('trip_gs_svm.pkl')\n",
    "loaded_model"
   ]
  },
  {
   "cell_type": "code",
   "execution_count": 178,
   "metadata": {},
   "outputs": [
    {
     "data": {
      "text/plain": [
       "array(['식도락,맛집투어'], dtype=object)"
      ]
     },
     "execution_count": 178,
     "metadata": {},
     "output_type": "execute_result"
    }
   ],
   "source": [
    "loaded_model.predict([[    0,     0,     0,     0,     4,     0, 40000,     1,    48,\n",
    "            5,    11,     1,     0,     0,     8,    14,     0,     3]])"
   ]
  },
  {
   "cell_type": "markdown",
   "metadata": {},
   "source": [
    "## 설문지 답변 전처리, Spring에서 get방식으로 Django에 넘겨줌"
   ]
  },
  {
   "cell_type": "code",
   "execution_count": null,
   "metadata": {},
   "outputs": [],
   "source": []
  }
 ],
 "metadata": {
  "kernelspec": {
   "display_name": "Python 3",
   "language": "python",
   "name": "python3"
  },
  "language_info": {
   "codemirror_mode": {
    "name": "ipython",
    "version": 3
   },
   "file_extension": ".py",
   "mimetype": "text/x-python",
   "name": "python",
   "nbconvert_exporter": "python",
   "pygments_lexer": "ipython3",
   "version": "3.7.4"
  }
 },
 "nbformat": 4,
 "nbformat_minor": 2
}
