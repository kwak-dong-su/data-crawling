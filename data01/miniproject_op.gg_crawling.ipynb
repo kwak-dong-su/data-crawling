{
 "cells": [
  {
   "cell_type": "code",
   "execution_count": 1,
   "metadata": {},
   "outputs": [],
   "source": [
    "from urllib import request"
   ]
  },
  {
   "cell_type": "code",
   "execution_count": 2,
   "metadata": {},
   "outputs": [],
   "source": [
    "from bs4 import BeautifulSoup"
   ]
  },
  {
   "cell_type": "code",
   "execution_count": 3,
   "metadata": {},
   "outputs": [
    {
     "name": "stdout",
     "output_type": "stream",
     "text": [
      " C 드라이브의 볼륨에는 이름이 없습니다.\n",
      " 볼륨 일련 번호: AE94-D5A8\n",
      "\n",
      " C:\\Users\\hi\\hi-AI\\data01 디렉터리\n",
      "\n",
      "2022-03-16  오전 10:38    <DIR>          .\n",
      "2022-03-16  오전 10:38    <DIR>          ..\n",
      "2022-03-16  오전 10:38    <DIR>          .ipynb_checkpoints\n",
      "2022-03-15  오후 12:41           273,299 crawling1.ipynb\n",
      "2022-03-15  오후 04:37            39,040 crawling2.ipynb\n",
      "2022-03-15  오후 03:49            20,328 crawling3.ipynb\n",
      "2022-03-15  오후 05:05            10,785 hot-scv-read.ipynb\n",
      "2022-03-15  오후 04:17             1,543 hottract.csv\n",
      "2022-03-16  오전 10:15            25,502 lol_player.csv\n",
      "2022-03-16  오전 10:38            23,929 miniproject_op.gg_crawling.ipynb\n",
      "2022-03-16  오전 10:38             8,989 op.gg_player_crwaling.ipynb\n",
      "2022-03-16  오전 10:38             8,989 op.gg_player_crwaling_module.ipynb\n",
      "2022-03-15  오후 01:01               555 test3.ipynb\n",
      "              10개 파일             412,959 바이트\n",
      "               3개 디렉터리  53,737,365,504 바이트 남음\n"
     ]
    }
   ],
   "source": [
    "!dir"
   ]
  },
  {
   "cell_type": "code",
   "execution_count": 4,
   "metadata": {},
   "outputs": [
    {
     "data": {
      "text/plain": [
       "[<http.client.HTTPResponse at 0x1294209e0c8>,\n",
       " <http.client.HTTPResponse at 0x1294209edc8>,\n",
       " <http.client.HTTPResponse at 0x129420a6dc8>,\n",
       " <http.client.HTTPResponse at 0x129420b6508>,\n",
       " <http.client.HTTPResponse at 0x129420b6c48>,\n",
       " <http.client.HTTPResponse at 0x129420b0488>,\n",
       " <http.client.HTTPResponse at 0x129420b0b88>,\n",
       " <http.client.HTTPResponse at 0x129420ba2c8>,\n",
       " <http.client.HTTPResponse at 0x129420baa08>,\n",
       " <http.client.HTTPResponse at 0x129420bab48>]"
      ]
     },
     "execution_count": 4,
     "metadata": {},
     "output_type": "execute_result"
    }
   ],
   "source": [
    "con = []\n",
    "for i in range(1, 11):\n",
    "    con.append(request.urlopen('https://www.op.gg/leaderboards/tier?page='+str(i)+'&region=kr'))\n",
    "con"
   ]
  },
  {
   "cell_type": "code",
   "execution_count": 5,
   "metadata": {},
   "outputs": [],
   "source": [
    "def connect(data):\n",
    "    con=request.urlopen('https://www.op.gg/leaderboards/tier?page='+ str(data) +'&region=kr')\n",
    "    print(con.status)\n",
    "    doc = BeautifulSoup(con, 'html.parser')\n",
    "    rank = doc.select('.rank')\n",
    "    rank_list = []\n",
    "    for one in rank:\n",
    "        rank_list.append(one.text)\n",
    "    rank_top = doc.select('.name')\n",
    "#     print(len(rank_top))\n",
    "    rank_top_list = []\n",
    "    for one in rank_top:\n",
    "        rank_top_list.append(one.text)\n",
    "#     print(rank_top_list)\n",
    "    ranker = doc.select('strong')\n",
    "    ranker.pop()\n",
    "#     print(len(ranker))\n",
    "    ranker_list = []\n",
    "    for one in ranker:\n",
    "        ranker_list.append(one.text)\n",
    "#     print(ranker_list)\n",
    "    name_list = rank_top_list + ranker_list\n",
    "#     print(name_list)\n",
    "    level = doc.select('.level')\n",
    "    level_list = []\n",
    "    for one in level:\n",
    "        level_list.append(one.text)\n",
    "    win = doc.select('.w')\n",
    "    win_list = []\n",
    "    for one in win:\n",
    "        win_list.append(one.text)\n",
    "    print(len(rank_list))\n",
    "    return rank_list, name_list, level_list, win_list "
   ]
  },
  {
   "cell_type": "code",
   "execution_count": 6,
   "metadata": {},
   "outputs": [
    {
     "name": "stdout",
     "output_type": "stream",
     "text": [
      "200\n",
      "100\n",
      "200\n",
      "100\n",
      "200\n",
      "100\n",
      "200\n",
      "100\n",
      "200\n",
      "100\n",
      "200\n",
      "100\n",
      "200\n",
      "100\n",
      "200\n",
      "100\n",
      "200\n",
      "100\n",
      "200\n",
      "100\n"
     ]
    }
   ],
   "source": [
    "rank_list3 = []\n",
    "name_list3 = []\n",
    "level_list3 = []\n",
    "win_list3 = []\n",
    "for i in range(1, 11):\n",
    "    rank_list2, name_list2, level_list2, win_list2 = connect(i)\n",
    "    rank_list3 += rank_list2\n",
    "    name_list3 += name_list2\n",
    "    level_list3 += level_list2\n",
    "    win_list3 += win_list2\n",
    "    \n",
    "for i in range(1, 5):\n",
    "    temp=level_list3[i].split('.')\n",
    "    level_list3[i]=temp[1]"
   ]
  },
  {
   "cell_type": "code",
   "execution_count": 7,
   "metadata": {},
   "outputs": [
    {
     "data": {
      "text/plain": [
       "1000"
      ]
     },
     "execution_count": 7,
     "metadata": {},
     "output_type": "execute_result"
    }
   ],
   "source": [
    "len(rank_list3)"
   ]
  },
  {
   "cell_type": "code",
   "execution_count": 8,
   "metadata": {},
   "outputs": [],
   "source": [
    "opgg_file = open('miniproject.csv', 'a', encoding='utf-8-sig')\n",
    "# rank,name,level,win"
   ]
  },
  {
   "cell_type": "code",
   "execution_count": 9,
   "metadata": {},
   "outputs": [],
   "source": [
    "for i in range(1000):\n",
    "    opgg_file.write(rank_list3[i] + ',' +\n",
    "                    name_list3[i] + ',' +\n",
    "                    level_list3[i] + ',' +\n",
    "                    win_list3[i]+ '\\n')"
   ]
  },
  {
   "cell_type": "code",
   "execution_count": 10,
   "metadata": {},
   "outputs": [],
   "source": [
    "opgg_file.close()"
   ]
  },
  {
   "cell_type": "code",
   "execution_count": 11,
   "metadata": {},
   "outputs": [],
   "source": [
    "import pandas as pd"
   ]
  },
  {
   "cell_type": "code",
   "execution_count": 13,
   "metadata": {
    "scrolled": true
   },
   "outputs": [
    {
     "data": {
      "text/html": [
       "<div>\n",
       "<style scoped>\n",
       "    .dataframe tbody tr th:only-of-type {\n",
       "        vertical-align: middle;\n",
       "    }\n",
       "\n",
       "    .dataframe tbody tr th {\n",
       "        vertical-align: top;\n",
       "    }\n",
       "\n",
       "    .dataframe thead th {\n",
       "        text-align: right;\n",
       "    }\n",
       "</style>\n",
       "<table border=\"1\" class=\"dataframe\">\n",
       "  <thead>\n",
       "    <tr style=\"text-align: right;\">\n",
       "      <th></th>\n",
       "      <th>rank</th>\n",
       "      <th>name</th>\n",
       "      <th>level</th>\n",
       "      <th>win</th>\n",
       "    </tr>\n",
       "  </thead>\n",
       "  <tbody>\n",
       "    <tr>\n",
       "      <td>0</td>\n",
       "      <td>1</td>\n",
       "      <td>iiwandy</td>\n",
       "      <td>69</td>\n",
       "      <td>292</td>\n",
       "    </tr>\n",
       "    <tr>\n",
       "      <td>1</td>\n",
       "      <td>2</td>\n",
       "      <td>roookie</td>\n",
       "      <td>57</td>\n",
       "      <td>213</td>\n",
       "    </tr>\n",
       "    <tr>\n",
       "      <td>2</td>\n",
       "      <td>3</td>\n",
       "      <td>어상내하</td>\n",
       "      <td>48</td>\n",
       "      <td>129</td>\n",
       "    </tr>\n",
       "    <tr>\n",
       "      <td>3</td>\n",
       "      <td>4</td>\n",
       "      <td>nodfan</td>\n",
       "      <td>98</td>\n",
       "      <td>151</td>\n",
       "    </tr>\n",
       "    <tr>\n",
       "      <td>4</td>\n",
       "      <td>5</td>\n",
       "      <td>SwordArt77777</td>\n",
       "      <td>65</td>\n",
       "      <td>265</td>\n",
       "    </tr>\n",
       "    <tr>\n",
       "      <td>...</td>\n",
       "      <td>...</td>\n",
       "      <td>...</td>\n",
       "      <td>...</td>\n",
       "      <td>...</td>\n",
       "    </tr>\n",
       "    <tr>\n",
       "      <td>995</td>\n",
       "      <td>996</td>\n",
       "      <td>Ahriman LYH</td>\n",
       "      <td>92</td>\n",
       "      <td>92</td>\n",
       "    </tr>\n",
       "    <tr>\n",
       "      <td>996</td>\n",
       "      <td>997</td>\n",
       "      <td>Haojay</td>\n",
       "      <td>73</td>\n",
       "      <td>205</td>\n",
       "    </tr>\n",
       "    <tr>\n",
       "      <td>997</td>\n",
       "      <td>998</td>\n",
       "      <td>2020karsa</td>\n",
       "      <td>43</td>\n",
       "      <td>95</td>\n",
       "    </tr>\n",
       "    <tr>\n",
       "      <td>998</td>\n",
       "      <td>999</td>\n",
       "      <td>juiceqnq</td>\n",
       "      <td>53</td>\n",
       "      <td>131</td>\n",
       "    </tr>\n",
       "    <tr>\n",
       "      <td>999</td>\n",
       "      <td>1000</td>\n",
       "      <td>NS Haenam</td>\n",
       "      <td>373</td>\n",
       "      <td>603</td>\n",
       "    </tr>\n",
       "  </tbody>\n",
       "</table>\n",
       "<p>1000 rows × 4 columns</p>\n",
       "</div>"
      ],
      "text/plain": [
       "     rank           name  level  win\n",
       "0       1        iiwandy     69  292\n",
       "1       2        roookie     57  213\n",
       "2       3           어상내하     48  129\n",
       "3       4         nodfan     98  151\n",
       "4       5  SwordArt77777     65  265\n",
       "..    ...            ...    ...  ...\n",
       "995   996    Ahriman LYH     92   92\n",
       "996   997         Haojay     73  205\n",
       "997   998      2020karsa     43   95\n",
       "998   999       juiceqnq     53  131\n",
       "999  1000      NS Haenam    373  603\n",
       "\n",
       "[1000 rows x 4 columns]"
      ]
     },
     "execution_count": 13,
     "metadata": {},
     "output_type": "execute_result"
    }
   ],
   "source": [
    "ranking = pd.read_csv('miniproject.csv', encoding='utf-8')\n",
    "ranking"
   ]
  }
 ],
 "metadata": {
  "kernelspec": {
   "display_name": "Python 3",
   "language": "python",
   "name": "python3"
  },
  "language_info": {
   "codemirror_mode": {
    "name": "ipython",
    "version": 3
   },
   "file_extension": ".py",
   "mimetype": "text/x-python",
   "name": "python",
   "nbconvert_exporter": "python",
   "pygments_lexer": "ipython3",
   "version": "3.7.4"
  }
 },
 "nbformat": 4,
 "nbformat_minor": 2
}
