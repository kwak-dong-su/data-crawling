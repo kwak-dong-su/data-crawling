{
 "cells": [
  {
   "cell_type": "code",
   "execution_count": 1,
   "metadata": {},
   "outputs": [],
   "source": [
    "# Dataset of songs in Spotify\n",
    "# https://www.kaggle.com/datasets/mrmorj/dataset-of-songs-in-spotify?select=genres_v2.csv\n",
    "# spotify 데이터셋을 이용한 노래 danceability(무용성) 예측"
   ]
  },
  {
   "cell_type": "code",
   "execution_count": 2,
   "metadata": {},
   "outputs": [],
   "source": [
    "import pandas as pd\n",
    "import numpy as np\n",
    "import random\n",
    "import tensorflow as tf"
   ]
  },
  {
   "cell_type": "code",
   "execution_count": 3,
   "metadata": {
    "scrolled": false
   },
   "outputs": [
    {
     "name": "stderr",
     "output_type": "stream",
     "text": [
      "C:\\ProgramData\\Anaconda3\\lib\\site-packages\\IPython\\core\\interactiveshell.py:3326: DtypeWarning: Columns (19) have mixed types.Specify dtype option on import or set low_memory=False.\n",
      "  exec(code_obj, self.user_global_ns, self.user_ns)\n"
     ]
    }
   ],
   "source": [
    "spotify=pd.read_csv('spotify.csv')"
   ]
  },
  {
   "cell_type": "code",
   "execution_count": 4,
   "metadata": {},
   "outputs": [
    {
     "data": {
      "text/html": [
       "<div>\n",
       "<style scoped>\n",
       "    .dataframe tbody tr th:only-of-type {\n",
       "        vertical-align: middle;\n",
       "    }\n",
       "\n",
       "    .dataframe tbody tr th {\n",
       "        vertical-align: top;\n",
       "    }\n",
       "\n",
       "    .dataframe thead th {\n",
       "        text-align: right;\n",
       "    }\n",
       "</style>\n",
       "<table border=\"1\" class=\"dataframe\">\n",
       "  <thead>\n",
       "    <tr style=\"text-align: right;\">\n",
       "      <th></th>\n",
       "      <th>danceability</th>\n",
       "      <th>energy</th>\n",
       "      <th>key</th>\n",
       "      <th>loudness</th>\n",
       "      <th>mode</th>\n",
       "      <th>speechiness</th>\n",
       "      <th>acousticness</th>\n",
       "      <th>instrumentalness</th>\n",
       "      <th>liveness</th>\n",
       "      <th>valence</th>\n",
       "      <th>...</th>\n",
       "      <th>id</th>\n",
       "      <th>uri</th>\n",
       "      <th>track_href</th>\n",
       "      <th>analysis_url</th>\n",
       "      <th>duration_ms</th>\n",
       "      <th>time_signature</th>\n",
       "      <th>genre</th>\n",
       "      <th>song_name</th>\n",
       "      <th>Unnamed: 0</th>\n",
       "      <th>title</th>\n",
       "    </tr>\n",
       "  </thead>\n",
       "  <tbody>\n",
       "    <tr>\n",
       "      <th>0</th>\n",
       "      <td>0.831</td>\n",
       "      <td>0.814</td>\n",
       "      <td>2</td>\n",
       "      <td>-7.364</td>\n",
       "      <td>1</td>\n",
       "      <td>0.4200</td>\n",
       "      <td>0.0598</td>\n",
       "      <td>0.013400</td>\n",
       "      <td>0.0556</td>\n",
       "      <td>0.3890</td>\n",
       "      <td>...</td>\n",
       "      <td>2Vc6NJ9PW9gD9q343XFRKx</td>\n",
       "      <td>spotify:track:2Vc6NJ9PW9gD9q343XFRKx</td>\n",
       "      <td>https://api.spotify.com/v1/tracks/2Vc6NJ9PW9gD...</td>\n",
       "      <td>https://api.spotify.com/v1/audio-analysis/2Vc6...</td>\n",
       "      <td>124539</td>\n",
       "      <td>4</td>\n",
       "      <td>Dark Trap</td>\n",
       "      <td>Mercury: Retrograde</td>\n",
       "      <td>NaN</td>\n",
       "      <td>NaN</td>\n",
       "    </tr>\n",
       "    <tr>\n",
       "      <th>1</th>\n",
       "      <td>0.719</td>\n",
       "      <td>0.493</td>\n",
       "      <td>8</td>\n",
       "      <td>-7.230</td>\n",
       "      <td>1</td>\n",
       "      <td>0.0794</td>\n",
       "      <td>0.4010</td>\n",
       "      <td>0.000000</td>\n",
       "      <td>0.1180</td>\n",
       "      <td>0.1240</td>\n",
       "      <td>...</td>\n",
       "      <td>7pgJBLVz5VmnL7uGHmRj6p</td>\n",
       "      <td>spotify:track:7pgJBLVz5VmnL7uGHmRj6p</td>\n",
       "      <td>https://api.spotify.com/v1/tracks/7pgJBLVz5Vmn...</td>\n",
       "      <td>https://api.spotify.com/v1/audio-analysis/7pgJ...</td>\n",
       "      <td>224427</td>\n",
       "      <td>4</td>\n",
       "      <td>Dark Trap</td>\n",
       "      <td>Pathology</td>\n",
       "      <td>NaN</td>\n",
       "      <td>NaN</td>\n",
       "    </tr>\n",
       "    <tr>\n",
       "      <th>2</th>\n",
       "      <td>0.850</td>\n",
       "      <td>0.893</td>\n",
       "      <td>5</td>\n",
       "      <td>-4.783</td>\n",
       "      <td>1</td>\n",
       "      <td>0.0623</td>\n",
       "      <td>0.0138</td>\n",
       "      <td>0.000004</td>\n",
       "      <td>0.3720</td>\n",
       "      <td>0.0391</td>\n",
       "      <td>...</td>\n",
       "      <td>0vSWgAlfpye0WCGeNmuNhy</td>\n",
       "      <td>spotify:track:0vSWgAlfpye0WCGeNmuNhy</td>\n",
       "      <td>https://api.spotify.com/v1/tracks/0vSWgAlfpye0...</td>\n",
       "      <td>https://api.spotify.com/v1/audio-analysis/0vSW...</td>\n",
       "      <td>98821</td>\n",
       "      <td>4</td>\n",
       "      <td>Dark Trap</td>\n",
       "      <td>Symbiote</td>\n",
       "      <td>NaN</td>\n",
       "      <td>NaN</td>\n",
       "    </tr>\n",
       "    <tr>\n",
       "      <th>3</th>\n",
       "      <td>0.476</td>\n",
       "      <td>0.781</td>\n",
       "      <td>0</td>\n",
       "      <td>-4.710</td>\n",
       "      <td>1</td>\n",
       "      <td>0.1030</td>\n",
       "      <td>0.0237</td>\n",
       "      <td>0.000000</td>\n",
       "      <td>0.1140</td>\n",
       "      <td>0.1750</td>\n",
       "      <td>...</td>\n",
       "      <td>0VSXnJqQkwuH2ei1nOQ1nu</td>\n",
       "      <td>spotify:track:0VSXnJqQkwuH2ei1nOQ1nu</td>\n",
       "      <td>https://api.spotify.com/v1/tracks/0VSXnJqQkwuH...</td>\n",
       "      <td>https://api.spotify.com/v1/audio-analysis/0VSX...</td>\n",
       "      <td>123661</td>\n",
       "      <td>3</td>\n",
       "      <td>Dark Trap</td>\n",
       "      <td>ProductOfDrugs (Prod. The Virus and Antidote)</td>\n",
       "      <td>NaN</td>\n",
       "      <td>NaN</td>\n",
       "    </tr>\n",
       "    <tr>\n",
       "      <th>4</th>\n",
       "      <td>0.798</td>\n",
       "      <td>0.624</td>\n",
       "      <td>2</td>\n",
       "      <td>-7.668</td>\n",
       "      <td>1</td>\n",
       "      <td>0.2930</td>\n",
       "      <td>0.2170</td>\n",
       "      <td>0.000000</td>\n",
       "      <td>0.1660</td>\n",
       "      <td>0.5910</td>\n",
       "      <td>...</td>\n",
       "      <td>4jCeguq9rMTlbMmPHuO7S3</td>\n",
       "      <td>spotify:track:4jCeguq9rMTlbMmPHuO7S3</td>\n",
       "      <td>https://api.spotify.com/v1/tracks/4jCeguq9rMTl...</td>\n",
       "      <td>https://api.spotify.com/v1/audio-analysis/4jCe...</td>\n",
       "      <td>123298</td>\n",
       "      <td>4</td>\n",
       "      <td>Dark Trap</td>\n",
       "      <td>Venom</td>\n",
       "      <td>NaN</td>\n",
       "      <td>NaN</td>\n",
       "    </tr>\n",
       "  </tbody>\n",
       "</table>\n",
       "<p>5 rows × 22 columns</p>\n",
       "</div>"
      ],
      "text/plain": [
       "   danceability  energy  key  loudness  mode  speechiness  acousticness  \\\n",
       "0         0.831   0.814    2    -7.364     1       0.4200        0.0598   \n",
       "1         0.719   0.493    8    -7.230     1       0.0794        0.4010   \n",
       "2         0.850   0.893    5    -4.783     1       0.0623        0.0138   \n",
       "3         0.476   0.781    0    -4.710     1       0.1030        0.0237   \n",
       "4         0.798   0.624    2    -7.668     1       0.2930        0.2170   \n",
       "\n",
       "   instrumentalness  liveness  valence  ...                      id  \\\n",
       "0          0.013400    0.0556   0.3890  ...  2Vc6NJ9PW9gD9q343XFRKx   \n",
       "1          0.000000    0.1180   0.1240  ...  7pgJBLVz5VmnL7uGHmRj6p   \n",
       "2          0.000004    0.3720   0.0391  ...  0vSWgAlfpye0WCGeNmuNhy   \n",
       "3          0.000000    0.1140   0.1750  ...  0VSXnJqQkwuH2ei1nOQ1nu   \n",
       "4          0.000000    0.1660   0.5910  ...  4jCeguq9rMTlbMmPHuO7S3   \n",
       "\n",
       "                                    uri  \\\n",
       "0  spotify:track:2Vc6NJ9PW9gD9q343XFRKx   \n",
       "1  spotify:track:7pgJBLVz5VmnL7uGHmRj6p   \n",
       "2  spotify:track:0vSWgAlfpye0WCGeNmuNhy   \n",
       "3  spotify:track:0VSXnJqQkwuH2ei1nOQ1nu   \n",
       "4  spotify:track:4jCeguq9rMTlbMmPHuO7S3   \n",
       "\n",
       "                                          track_href  \\\n",
       "0  https://api.spotify.com/v1/tracks/2Vc6NJ9PW9gD...   \n",
       "1  https://api.spotify.com/v1/tracks/7pgJBLVz5Vmn...   \n",
       "2  https://api.spotify.com/v1/tracks/0vSWgAlfpye0...   \n",
       "3  https://api.spotify.com/v1/tracks/0VSXnJqQkwuH...   \n",
       "4  https://api.spotify.com/v1/tracks/4jCeguq9rMTl...   \n",
       "\n",
       "                                        analysis_url duration_ms  \\\n",
       "0  https://api.spotify.com/v1/audio-analysis/2Vc6...      124539   \n",
       "1  https://api.spotify.com/v1/audio-analysis/7pgJ...      224427   \n",
       "2  https://api.spotify.com/v1/audio-analysis/0vSW...       98821   \n",
       "3  https://api.spotify.com/v1/audio-analysis/0VSX...      123661   \n",
       "4  https://api.spotify.com/v1/audio-analysis/4jCe...      123298   \n",
       "\n",
       "  time_signature      genre                                      song_name  \\\n",
       "0              4  Dark Trap                            Mercury: Retrograde   \n",
       "1              4  Dark Trap                                      Pathology   \n",
       "2              4  Dark Trap                                       Symbiote   \n",
       "3              3  Dark Trap  ProductOfDrugs (Prod. The Virus and Antidote)   \n",
       "4              4  Dark Trap                                          Venom   \n",
       "\n",
       "  Unnamed: 0 title  \n",
       "0        NaN   NaN  \n",
       "1        NaN   NaN  \n",
       "2        NaN   NaN  \n",
       "3        NaN   NaN  \n",
       "4        NaN   NaN  \n",
       "\n",
       "[5 rows x 22 columns]"
      ]
     },
     "execution_count": 4,
     "metadata": {},
     "output_type": "execute_result"
    }
   ],
   "source": [
    "spotify.head()"
   ]
  },
  {
   "cell_type": "code",
   "execution_count": 5,
   "metadata": {},
   "outputs": [
    {
     "name": "stdout",
     "output_type": "stream",
     "text": [
      "<class 'pandas.core.frame.DataFrame'>\n",
      "RangeIndex: 42305 entries, 0 to 42304\n",
      "Data columns (total 22 columns):\n",
      " #   Column            Non-Null Count  Dtype  \n",
      "---  ------            --------------  -----  \n",
      " 0   danceability      42305 non-null  float64\n",
      " 1   energy            42305 non-null  float64\n",
      " 2   key               42305 non-null  int64  \n",
      " 3   loudness          42305 non-null  float64\n",
      " 4   mode              42305 non-null  int64  \n",
      " 5   speechiness       42305 non-null  float64\n",
      " 6   acousticness      42305 non-null  float64\n",
      " 7   instrumentalness  42305 non-null  float64\n",
      " 8   liveness          42305 non-null  float64\n",
      " 9   valence           42305 non-null  float64\n",
      " 10  tempo             42305 non-null  float64\n",
      " 11  type              42305 non-null  object \n",
      " 12  id                42305 non-null  object \n",
      " 13  uri               42305 non-null  object \n",
      " 14  track_href        42305 non-null  object \n",
      " 15  analysis_url      42305 non-null  object \n",
      " 16  duration_ms       42305 non-null  int64  \n",
      " 17  time_signature    42305 non-null  int64  \n",
      " 18  genre             42305 non-null  object \n",
      " 19  song_name         21519 non-null  object \n",
      " 20  Unnamed: 0        20780 non-null  float64\n",
      " 21  title             20780 non-null  object \n",
      "dtypes: float64(10), int64(4), object(8)\n",
      "memory usage: 7.1+ MB\n"
     ]
    }
   ],
   "source": [
    "spotify.info()"
   ]
  },
  {
   "cell_type": "code",
   "execution_count": 6,
   "metadata": {},
   "outputs": [],
   "source": [
    "spotify.drop(['type','id','uri','track_href','analysis_url','genre','song_name','title', 'Unnamed: 0'], axis=1, inplace=True)"
   ]
  },
  {
   "cell_type": "code",
   "execution_count": 7,
   "metadata": {},
   "outputs": [
    {
     "name": "stdout",
     "output_type": "stream",
     "text": [
      "<class 'pandas.core.frame.DataFrame'>\n",
      "RangeIndex: 42305 entries, 0 to 42304\n",
      "Data columns (total 13 columns):\n",
      " #   Column            Non-Null Count  Dtype  \n",
      "---  ------            --------------  -----  \n",
      " 0   danceability      42305 non-null  float64\n",
      " 1   energy            42305 non-null  float64\n",
      " 2   key               42305 non-null  int64  \n",
      " 3   loudness          42305 non-null  float64\n",
      " 4   mode              42305 non-null  int64  \n",
      " 5   speechiness       42305 non-null  float64\n",
      " 6   acousticness      42305 non-null  float64\n",
      " 7   instrumentalness  42305 non-null  float64\n",
      " 8   liveness          42305 non-null  float64\n",
      " 9   valence           42305 non-null  float64\n",
      " 10  tempo             42305 non-null  float64\n",
      " 11  duration_ms       42305 non-null  int64  \n",
      " 12  time_signature    42305 non-null  int64  \n",
      "dtypes: float64(9), int64(4)\n",
      "memory usage: 4.2 MB\n"
     ]
    }
   ],
   "source": [
    "spotify.info()"
   ]
  },
  {
   "cell_type": "code",
   "execution_count": 8,
   "metadata": {},
   "outputs": [
    {
     "data": {
      "text/html": [
       "<div>\n",
       "<style scoped>\n",
       "    .dataframe tbody tr th:only-of-type {\n",
       "        vertical-align: middle;\n",
       "    }\n",
       "\n",
       "    .dataframe tbody tr th {\n",
       "        vertical-align: top;\n",
       "    }\n",
       "\n",
       "    .dataframe thead th {\n",
       "        text-align: right;\n",
       "    }\n",
       "</style>\n",
       "<table border=\"1\" class=\"dataframe\">\n",
       "  <thead>\n",
       "    <tr style=\"text-align: right;\">\n",
       "      <th></th>\n",
       "      <th>danceability</th>\n",
       "      <th>energy</th>\n",
       "      <th>key</th>\n",
       "      <th>loudness</th>\n",
       "      <th>mode</th>\n",
       "      <th>speechiness</th>\n",
       "      <th>acousticness</th>\n",
       "      <th>instrumentalness</th>\n",
       "      <th>liveness</th>\n",
       "      <th>valence</th>\n",
       "      <th>tempo</th>\n",
       "      <th>duration_ms</th>\n",
       "      <th>time_signature</th>\n",
       "    </tr>\n",
       "  </thead>\n",
       "  <tbody>\n",
       "    <tr>\n",
       "      <th>0</th>\n",
       "      <td>0.831</td>\n",
       "      <td>0.814</td>\n",
       "      <td>2</td>\n",
       "      <td>-7.364</td>\n",
       "      <td>1</td>\n",
       "      <td>0.4200</td>\n",
       "      <td>0.0598</td>\n",
       "      <td>0.013400</td>\n",
       "      <td>0.0556</td>\n",
       "      <td>0.3890</td>\n",
       "      <td>156.985</td>\n",
       "      <td>124539</td>\n",
       "      <td>4</td>\n",
       "    </tr>\n",
       "    <tr>\n",
       "      <th>1</th>\n",
       "      <td>0.719</td>\n",
       "      <td>0.493</td>\n",
       "      <td>8</td>\n",
       "      <td>-7.230</td>\n",
       "      <td>1</td>\n",
       "      <td>0.0794</td>\n",
       "      <td>0.4010</td>\n",
       "      <td>0.000000</td>\n",
       "      <td>0.1180</td>\n",
       "      <td>0.1240</td>\n",
       "      <td>115.080</td>\n",
       "      <td>224427</td>\n",
       "      <td>4</td>\n",
       "    </tr>\n",
       "    <tr>\n",
       "      <th>2</th>\n",
       "      <td>0.850</td>\n",
       "      <td>0.893</td>\n",
       "      <td>5</td>\n",
       "      <td>-4.783</td>\n",
       "      <td>1</td>\n",
       "      <td>0.0623</td>\n",
       "      <td>0.0138</td>\n",
       "      <td>0.000004</td>\n",
       "      <td>0.3720</td>\n",
       "      <td>0.0391</td>\n",
       "      <td>218.050</td>\n",
       "      <td>98821</td>\n",
       "      <td>4</td>\n",
       "    </tr>\n",
       "    <tr>\n",
       "      <th>3</th>\n",
       "      <td>0.476</td>\n",
       "      <td>0.781</td>\n",
       "      <td>0</td>\n",
       "      <td>-4.710</td>\n",
       "      <td>1</td>\n",
       "      <td>0.1030</td>\n",
       "      <td>0.0237</td>\n",
       "      <td>0.000000</td>\n",
       "      <td>0.1140</td>\n",
       "      <td>0.1750</td>\n",
       "      <td>186.948</td>\n",
       "      <td>123661</td>\n",
       "      <td>3</td>\n",
       "    </tr>\n",
       "    <tr>\n",
       "      <th>4</th>\n",
       "      <td>0.798</td>\n",
       "      <td>0.624</td>\n",
       "      <td>2</td>\n",
       "      <td>-7.668</td>\n",
       "      <td>1</td>\n",
       "      <td>0.2930</td>\n",
       "      <td>0.2170</td>\n",
       "      <td>0.000000</td>\n",
       "      <td>0.1660</td>\n",
       "      <td>0.5910</td>\n",
       "      <td>147.988</td>\n",
       "      <td>123298</td>\n",
       "      <td>4</td>\n",
       "    </tr>\n",
       "  </tbody>\n",
       "</table>\n",
       "</div>"
      ],
      "text/plain": [
       "   danceability  energy  key  loudness  mode  speechiness  acousticness  \\\n",
       "0         0.831   0.814    2    -7.364     1       0.4200        0.0598   \n",
       "1         0.719   0.493    8    -7.230     1       0.0794        0.4010   \n",
       "2         0.850   0.893    5    -4.783     1       0.0623        0.0138   \n",
       "3         0.476   0.781    0    -4.710     1       0.1030        0.0237   \n",
       "4         0.798   0.624    2    -7.668     1       0.2930        0.2170   \n",
       "\n",
       "   instrumentalness  liveness  valence    tempo  duration_ms  time_signature  \n",
       "0          0.013400    0.0556   0.3890  156.985       124539               4  \n",
       "1          0.000000    0.1180   0.1240  115.080       224427               4  \n",
       "2          0.000004    0.3720   0.0391  218.050        98821               4  \n",
       "3          0.000000    0.1140   0.1750  186.948       123661               3  \n",
       "4          0.000000    0.1660   0.5910  147.988       123298               4  "
      ]
     },
     "execution_count": 8,
     "metadata": {},
     "output_type": "execute_result"
    }
   ],
   "source": [
    "spotify.head()"
   ]
  },
  {
   "cell_type": "code",
   "execution_count": 9,
   "metadata": {},
   "outputs": [
    {
     "data": {
      "text/plain": [
       "Index(['danceability', 'energy', 'key', 'loudness', 'mode', 'speechiness',\n",
       "       'acousticness', 'instrumentalness', 'liveness', 'valence', 'tempo',\n",
       "       'duration_ms', 'time_signature'],\n",
       "      dtype='object')"
      ]
     },
     "execution_count": 9,
     "metadata": {},
     "output_type": "execute_result"
    }
   ],
   "source": [
    "spotify.columns"
   ]
  },
  {
   "cell_type": "code",
   "execution_count": 10,
   "metadata": {},
   "outputs": [],
   "source": [
    "X_data=spotify[['energy', 'key', 'loudness', 'mode', 'speechiness',\n",
    "       'acousticness', 'instrumentalness', 'liveness', 'valence', 'tempo',\n",
    "       'duration_ms', 'time_signature']]"
   ]
  },
  {
   "cell_type": "code",
   "execution_count": 11,
   "metadata": {},
   "outputs": [],
   "source": [
    "y_data=spotify['danceability']"
   ]
  },
  {
   "cell_type": "code",
   "execution_count": 12,
   "metadata": {},
   "outputs": [
    {
     "data": {
      "text/plain": [
       "0        0.831\n",
       "1        0.719\n",
       "2        0.850\n",
       "3        0.476\n",
       "4        0.798\n",
       "         ...  \n",
       "42300    0.528\n",
       "42301    0.517\n",
       "42302    0.361\n",
       "42303    0.477\n",
       "42304    0.529\n",
       "Name: danceability, Length: 42305, dtype: float64"
      ]
     },
     "execution_count": 12,
     "metadata": {},
     "output_type": "execute_result"
    }
   ],
   "source": [
    "y_data"
   ]
  },
  {
   "cell_type": "code",
   "execution_count": 13,
   "metadata": {},
   "outputs": [
    {
     "data": {
      "text/plain": [
       "array([0.831, 0.719, 0.85 , ..., 0.361, 0.477, 0.529])"
      ]
     },
     "execution_count": 13,
     "metadata": {},
     "output_type": "execute_result"
    }
   ],
   "source": [
    "np.array(y_data)"
   ]
  },
  {
   "cell_type": "code",
   "execution_count": 14,
   "metadata": {},
   "outputs": [],
   "source": [
    "X_data=np.array(X_data)\n",
    "y_data=np.array(y_data)"
   ]
  },
  {
   "cell_type": "code",
   "execution_count": 15,
   "metadata": {},
   "outputs": [
    {
     "data": {
      "text/plain": [
       "array([0.831, 0.719, 0.85 ])"
      ]
     },
     "execution_count": 15,
     "metadata": {},
     "output_type": "execute_result"
    }
   ],
   "source": [
    "y_data[:3]"
   ]
  },
  {
   "cell_type": "code",
   "execution_count": 16,
   "metadata": {},
   "outputs": [],
   "source": [
    "from sklearn.preprocessing import MinMaxScaler\n",
    "from sklearn.model_selection import train_test_split"
   ]
  },
  {
   "cell_type": "code",
   "execution_count": 17,
   "metadata": {},
   "outputs": [],
   "source": [
    "scaler = MinMaxScaler()\n",
    "X_data_scaled = scaler.fit_transform(X_data)"
   ]
  },
  {
   "cell_type": "code",
   "execution_count": 18,
   "metadata": {},
   "outputs": [
    {
     "data": {
      "text/plain": [
       "array([[0.81395479, 0.18181818, 0.71203945, ..., 0.61000598, 0.11148659,\n",
       "        0.75      ],\n",
       "       [0.49287677, 0.72727273, 0.71571018, ..., 0.35184786, 0.22404254,\n",
       "        0.75      ],\n",
       "       [0.89297399, 0.45454545, 0.78274209, ..., 0.98620035, 0.082507  ,\n",
       "        0.75      ],\n",
       "       ...,\n",
       "       [0.82095649, 0.72727273, 0.82879058, ..., 0.59737684, 0.23575698,\n",
       "        0.75      ],\n",
       "       [0.9209808 , 0.54545455, 0.78290645, ..., 0.56723323, 0.33534208,\n",
       "        0.75      ],\n",
       "       [0.94498663, 0.81818182, 0.7531845 , ..., 0.59806682, 0.15387987,\n",
       "        0.75      ]])"
      ]
     },
     "execution_count": 18,
     "metadata": {},
     "output_type": "execute_result"
    }
   ],
   "source": [
    "X_data_scaled"
   ]
  },
  {
   "cell_type": "code",
   "execution_count": 19,
   "metadata": {},
   "outputs": [
    {
     "name": "stdout",
     "output_type": "stream",
     "text": [
      "(38074, 12) (38074,)\n",
      "(4231, 12) (4231,)\n"
     ]
    }
   ],
   "source": [
    "X_train, X_test, y_train, y_test = train_test_split(X_data_scaled, y_data, \n",
    "                                                    test_size=0.1, \n",
    "                                                    shuffle=True, \n",
    "                                                    random_state=11)\n",
    "print(X_train.shape, y_train.shape)\n",
    "print(X_test.shape, y_test.shape)"
   ]
  },
  {
   "cell_type": "code",
   "execution_count": 20,
   "metadata": {},
   "outputs": [],
   "source": [
    "from tensorflow.keras import Sequential\n",
    "from tensorflow.keras.layers import Dense"
   ]
  },
  {
   "cell_type": "code",
   "execution_count": 21,
   "metadata": {},
   "outputs": [],
   "source": [
    "# 레이어를 순서대로 쌓을 수 있도록 객체를 생성\n",
    "model=Sequential()\n",
    "model.add(Dense(128, activation='relu', input_dim=12))\n",
    "model.add(Dense(64, activation='relu'))\n",
    "model.add(Dense(32, activation='relu'))\n",
    "model.add(Dense(16, activation='relu'))\n",
    "model.add(Dense(1, activation='linear')) # 회귀일 때, 마지막 출력층의 활성화 함수"
   ]
  },
  {
   "cell_type": "code",
   "execution_count": 22,
   "metadata": {},
   "outputs": [],
   "source": [
    "# 쌓은 것으로 모델 세팅\n",
    "model.compile(optimizer='adam', loss='mse', metrics=['mae']) "
   ]
  },
  {
   "cell_type": "code",
   "execution_count": 23,
   "metadata": {
    "scrolled": true
   },
   "outputs": [
    {
     "name": "stdout",
     "output_type": "stream",
     "text": [
      "Epoch 1/100\n",
      "1190/1190 - 1s - loss: 0.0183 - mae: 0.1049 - 1s/epoch - 1ms/step\n",
      "Epoch 2/100\n",
      "1190/1190 - 1s - loss: 0.0142 - mae: 0.0933 - 755ms/epoch - 634us/step\n",
      "Epoch 3/100\n",
      "1190/1190 - 1s - loss: 0.0133 - mae: 0.0897 - 751ms/epoch - 631us/step\n",
      "Epoch 4/100\n",
      "1190/1190 - 1s - loss: 0.0129 - mae: 0.0882 - 747ms/epoch - 628us/step\n",
      "Epoch 5/100\n",
      "1190/1190 - 1s - loss: 0.0127 - mae: 0.0874 - 731ms/epoch - 615us/step\n",
      "Epoch 6/100\n",
      "1190/1190 - 1s - loss: 0.0125 - mae: 0.0865 - 771ms/epoch - 648us/step\n",
      "Epoch 7/100\n",
      "1190/1190 - 1s - loss: 0.0123 - mae: 0.0857 - 792ms/epoch - 666us/step\n",
      "Epoch 8/100\n",
      "1190/1190 - 1s - loss: 0.0121 - mae: 0.0849 - 762ms/epoch - 640us/step\n",
      "Epoch 9/100\n",
      "1190/1190 - 1s - loss: 0.0120 - mae: 0.0846 - 728ms/epoch - 612us/step\n",
      "Epoch 10/100\n",
      "1190/1190 - 1s - loss: 0.0118 - mae: 0.0840 - 748ms/epoch - 629us/step\n",
      "Epoch 11/100\n",
      "1190/1190 - 1s - loss: 0.0118 - mae: 0.0835 - 742ms/epoch - 624us/step\n",
      "Epoch 12/100\n",
      "1190/1190 - 1s - loss: 0.0117 - mae: 0.0832 - 757ms/epoch - 637us/step\n",
      "Epoch 13/100\n",
      "1190/1190 - 1s - loss: 0.0116 - mae: 0.0829 - 763ms/epoch - 641us/step\n",
      "Epoch 14/100\n",
      "1190/1190 - 1s - loss: 0.0115 - mae: 0.0826 - 812ms/epoch - 682us/step\n",
      "Epoch 15/100\n",
      "1190/1190 - 1s - loss: 0.0114 - mae: 0.0825 - 757ms/epoch - 636us/step\n",
      "Epoch 16/100\n",
      "1190/1190 - 1s - loss: 0.0113 - mae: 0.0819 - 765ms/epoch - 643us/step\n",
      "Epoch 17/100\n",
      "1190/1190 - 1s - loss: 0.0113 - mae: 0.0816 - 792ms/epoch - 666us/step\n",
      "Epoch 18/100\n",
      "1190/1190 - 1s - loss: 0.0112 - mae: 0.0815 - 793ms/epoch - 666us/step\n",
      "Epoch 19/100\n",
      "1190/1190 - 1s - loss: 0.0112 - mae: 0.0813 - 803ms/epoch - 675us/step\n",
      "Epoch 20/100\n",
      "1190/1190 - 1s - loss: 0.0111 - mae: 0.0807 - 727ms/epoch - 611us/step\n",
      "Epoch 21/100\n",
      "1190/1190 - 1s - loss: 0.0110 - mae: 0.0806 - 805ms/epoch - 676us/step\n",
      "Epoch 22/100\n",
      "1190/1190 - 1s - loss: 0.0110 - mae: 0.0804 - 794ms/epoch - 667us/step\n",
      "Epoch 23/100\n",
      "1190/1190 - 1s - loss: 0.0109 - mae: 0.0801 - 743ms/epoch - 624us/step\n",
      "Epoch 24/100\n",
      "1190/1190 - 1s - loss: 0.0109 - mae: 0.0801 - 738ms/epoch - 620us/step\n",
      "Epoch 25/100\n",
      "1190/1190 - 1s - loss: 0.0108 - mae: 0.0798 - 730ms/epoch - 614us/step\n",
      "Epoch 26/100\n",
      "1190/1190 - 1s - loss: 0.0107 - mae: 0.0795 - 802ms/epoch - 674us/step\n",
      "Epoch 27/100\n",
      "1190/1190 - 1s - loss: 0.0107 - mae: 0.0792 - 751ms/epoch - 631us/step\n",
      "Epoch 28/100\n",
      "1190/1190 - 1s - loss: 0.0106 - mae: 0.0790 - 743ms/epoch - 624us/step\n",
      "Epoch 29/100\n",
      "1190/1190 - 1s - loss: 0.0106 - mae: 0.0789 - 748ms/epoch - 629us/step\n",
      "Epoch 30/100\n",
      "1190/1190 - 1s - loss: 0.0105 - mae: 0.0785 - 742ms/epoch - 624us/step\n",
      "Epoch 31/100\n",
      "1190/1190 - 1s - loss: 0.0104 - mae: 0.0783 - 750ms/epoch - 630us/step\n",
      "Epoch 32/100\n",
      "1190/1190 - 1s - loss: 0.0104 - mae: 0.0781 - 734ms/epoch - 617us/step\n",
      "Epoch 33/100\n",
      "1190/1190 - 1s - loss: 0.0103 - mae: 0.0777 - 768ms/epoch - 645us/step\n",
      "Epoch 34/100\n",
      "1190/1190 - 1s - loss: 0.0103 - mae: 0.0779 - 765ms/epoch - 643us/step\n",
      "Epoch 35/100\n",
      "1190/1190 - 1s - loss: 0.0102 - mae: 0.0776 - 779ms/epoch - 654us/step\n",
      "Epoch 36/100\n",
      "1190/1190 - 1s - loss: 0.0102 - mae: 0.0774 - 735ms/epoch - 618us/step\n",
      "Epoch 37/100\n",
      "1190/1190 - 1s - loss: 0.0102 - mae: 0.0772 - 759ms/epoch - 638us/step\n",
      "Epoch 38/100\n",
      "1190/1190 - 1s - loss: 0.0100 - mae: 0.0767 - 740ms/epoch - 622us/step\n",
      "Epoch 39/100\n",
      "1190/1190 - 1s - loss: 0.0100 - mae: 0.0767 - 781ms/epoch - 656us/step\n",
      "Epoch 40/100\n",
      "1190/1190 - 1s - loss: 0.0100 - mae: 0.0764 - 744ms/epoch - 626us/step\n",
      "Epoch 41/100\n",
      "1190/1190 - 1s - loss: 0.0099 - mae: 0.0762 - 725ms/epoch - 610us/step\n",
      "Epoch 42/100\n",
      "1190/1190 - 1s - loss: 0.0099 - mae: 0.0762 - 748ms/epoch - 628us/step\n",
      "Epoch 43/100\n",
      "1190/1190 - 1s - loss: 0.0099 - mae: 0.0760 - 751ms/epoch - 631us/step\n",
      "Epoch 44/100\n",
      "1190/1190 - 1s - loss: 0.0098 - mae: 0.0758 - 735ms/epoch - 617us/step\n",
      "Epoch 45/100\n",
      "1190/1190 - 1s - loss: 0.0098 - mae: 0.0759 - 733ms/epoch - 616us/step\n",
      "Epoch 46/100\n",
      "1190/1190 - 1s - loss: 0.0097 - mae: 0.0757 - 773ms/epoch - 650us/step\n",
      "Epoch 47/100\n",
      "1190/1190 - 1s - loss: 0.0097 - mae: 0.0752 - 792ms/epoch - 665us/step\n",
      "Epoch 48/100\n",
      "1190/1190 - 1s - loss: 0.0096 - mae: 0.0751 - 751ms/epoch - 631us/step\n",
      "Epoch 49/100\n",
      "1190/1190 - 1s - loss: 0.0096 - mae: 0.0751 - 772ms/epoch - 649us/step\n",
      "Epoch 50/100\n",
      "1190/1190 - 1s - loss: 0.0096 - mae: 0.0750 - 757ms/epoch - 636us/step\n",
      "Epoch 51/100\n",
      "1190/1190 - 1s - loss: 0.0095 - mae: 0.0748 - 735ms/epoch - 618us/step\n",
      "Epoch 52/100\n",
      "1190/1190 - 1s - loss: 0.0095 - mae: 0.0745 - 767ms/epoch - 644us/step\n",
      "Epoch 53/100\n",
      "1190/1190 - 1s - loss: 0.0094 - mae: 0.0742 - 814ms/epoch - 684us/step\n",
      "Epoch 54/100\n",
      "1190/1190 - 1s - loss: 0.0094 - mae: 0.0743 - 840ms/epoch - 706us/step\n",
      "Epoch 55/100\n",
      "1190/1190 - 1s - loss: 0.0094 - mae: 0.0741 - 841ms/epoch - 707us/step\n",
      "Epoch 56/100\n",
      "1190/1190 - 1s - loss: 0.0093 - mae: 0.0740 - 748ms/epoch - 629us/step\n",
      "Epoch 57/100\n",
      "1190/1190 - 1s - loss: 0.0093 - mae: 0.0738 - 832ms/epoch - 699us/step\n",
      "Epoch 58/100\n",
      "1190/1190 - 1s - loss: 0.0092 - mae: 0.0737 - 791ms/epoch - 665us/step\n",
      "Epoch 59/100\n",
      "1190/1190 - 1s - loss: 0.0092 - mae: 0.0735 - 827ms/epoch - 695us/step\n",
      "Epoch 60/100\n",
      "1190/1190 - 1s - loss: 0.0092 - mae: 0.0734 - 809ms/epoch - 680us/step\n",
      "Epoch 61/100\n",
      "1190/1190 - 1s - loss: 0.0092 - mae: 0.0732 - 775ms/epoch - 651us/step\n",
      "Epoch 62/100\n",
      "1190/1190 - 1s - loss: 0.0091 - mae: 0.0730 - 788ms/epoch - 662us/step\n",
      "Epoch 63/100\n",
      "1190/1190 - 1s - loss: 0.0091 - mae: 0.0728 - 782ms/epoch - 657us/step\n",
      "Epoch 64/100\n",
      "1190/1190 - 1s - loss: 0.0090 - mae: 0.0725 - 748ms/epoch - 628us/step\n",
      "Epoch 65/100\n",
      "1190/1190 - 1s - loss: 0.0091 - mae: 0.0728 - 756ms/epoch - 635us/step\n",
      "Epoch 66/100\n",
      "1190/1190 - 1s - loss: 0.0090 - mae: 0.0725 - 736ms/epoch - 618us/step\n",
      "Epoch 67/100\n",
      "1190/1190 - 1s - loss: 0.0089 - mae: 0.0723 - 736ms/epoch - 619us/step\n",
      "Epoch 68/100\n",
      "1190/1190 - 1s - loss: 0.0090 - mae: 0.0724 - 737ms/epoch - 619us/step\n",
      "Epoch 69/100\n",
      "1190/1190 - 1s - loss: 0.0089 - mae: 0.0721 - 738ms/epoch - 620us/step\n",
      "Epoch 70/100\n",
      "1190/1190 - 1s - loss: 0.0089 - mae: 0.0722 - 754ms/epoch - 633us/step\n",
      "Epoch 71/100\n",
      "1190/1190 - 1s - loss: 0.0088 - mae: 0.0718 - 737ms/epoch - 620us/step\n",
      "Epoch 72/100\n",
      "1190/1190 - 1s - loss: 0.0088 - mae: 0.0716 - 751ms/epoch - 631us/step\n",
      "Epoch 73/100\n",
      "1190/1190 - 1s - loss: 0.0088 - mae: 0.0717 - 740ms/epoch - 622us/step\n",
      "Epoch 74/100\n",
      "1190/1190 - 1s - loss: 0.0088 - mae: 0.0717 - 735ms/epoch - 618us/step\n",
      "Epoch 75/100\n",
      "1190/1190 - 1s - loss: 0.0087 - mae: 0.0714 - 787ms/epoch - 662us/step\n",
      "Epoch 76/100\n",
      "1190/1190 - 1s - loss: 0.0087 - mae: 0.0712 - 780ms/epoch - 655us/step\n",
      "Epoch 77/100\n",
      "1190/1190 - 1s - loss: 0.0087 - mae: 0.0712 - 754ms/epoch - 634us/step\n",
      "Epoch 78/100\n",
      "1190/1190 - 1s - loss: 0.0086 - mae: 0.0709 - 737ms/epoch - 619us/step\n",
      "Epoch 79/100\n",
      "1190/1190 - 1s - loss: 0.0086 - mae: 0.0709 - 752ms/epoch - 632us/step\n",
      "Epoch 80/100\n",
      "1190/1190 - 1s - loss: 0.0086 - mae: 0.0709 - 737ms/epoch - 620us/step\n",
      "Epoch 81/100\n",
      "1190/1190 - 1s - loss: 0.0086 - mae: 0.0706 - 737ms/epoch - 619us/step\n",
      "Epoch 82/100\n",
      "1190/1190 - 1s - loss: 0.0085 - mae: 0.0704 - 738ms/epoch - 620us/step\n",
      "Epoch 83/100\n",
      "1190/1190 - 1s - loss: 0.0085 - mae: 0.0704 - 752ms/epoch - 632us/step\n",
      "Epoch 84/100\n",
      "1190/1190 - 1s - loss: 0.0085 - mae: 0.0704 - 735ms/epoch - 618us/step\n",
      "Epoch 85/100\n",
      "1190/1190 - 1s - loss: 0.0084 - mae: 0.0701 - 754ms/epoch - 633us/step\n",
      "Epoch 86/100\n",
      "1190/1190 - 1s - loss: 0.0084 - mae: 0.0700 - 750ms/epoch - 631us/step\n",
      "Epoch 87/100\n",
      "1190/1190 - 1s - loss: 0.0084 - mae: 0.0699 - 743ms/epoch - 624us/step\n",
      "Epoch 88/100\n",
      "1190/1190 - 1s - loss: 0.0084 - mae: 0.0700 - 755ms/epoch - 634us/step\n",
      "Epoch 89/100\n",
      "1190/1190 - 1s - loss: 0.0083 - mae: 0.0695 - 740ms/epoch - 622us/step\n",
      "Epoch 90/100\n",
      "1190/1190 - 1s - loss: 0.0083 - mae: 0.0697 - 741ms/epoch - 623us/step\n",
      "Epoch 91/100\n",
      "1190/1190 - 1s - loss: 0.0083 - mae: 0.0698 - 758ms/epoch - 637us/step\n",
      "Epoch 92/100\n",
      "1190/1190 - 1s - loss: 0.0083 - mae: 0.0694 - 778ms/epoch - 654us/step\n",
      "Epoch 93/100\n",
      "1190/1190 - 1s - loss: 0.0082 - mae: 0.0693 - 784ms/epoch - 659us/step\n",
      "Epoch 94/100\n",
      "1190/1190 - 1s - loss: 0.0083 - mae: 0.0693 - 803ms/epoch - 675us/step\n",
      "Epoch 95/100\n",
      "1190/1190 - 1s - loss: 0.0082 - mae: 0.0694 - 835ms/epoch - 702us/step\n",
      "Epoch 96/100\n",
      "1190/1190 - 1s - loss: 0.0082 - mae: 0.0690 - 798ms/epoch - 671us/step\n",
      "Epoch 97/100\n",
      "1190/1190 - 1s - loss: 0.0082 - mae: 0.0688 - 762ms/epoch - 640us/step\n",
      "Epoch 98/100\n",
      "1190/1190 - 1s - loss: 0.0082 - mae: 0.0689 - 751ms/epoch - 631us/step\n"
     ]
    },
    {
     "name": "stdout",
     "output_type": "stream",
     "text": [
      "Epoch 99/100\n",
      "1190/1190 - 1s - loss: 0.0081 - mae: 0.0687 - 780ms/epoch - 656us/step\n",
      "Epoch 100/100\n",
      "1190/1190 - 1s - loss: 0.0081 - mae: 0.0689 - 753ms/epoch - 633us/step\n"
     ]
    },
    {
     "data": {
      "text/plain": [
       "<keras.callbacks.History at 0x251e323ce48>"
      ]
     },
     "execution_count": 23,
     "metadata": {},
     "output_type": "execute_result"
    }
   ],
   "source": [
    "model.fit(X_train, y_train, epochs=100, batch_size=32, verbose=2)"
   ]
  },
  {
   "cell_type": "code",
   "execution_count": 24,
   "metadata": {},
   "outputs": [
    {
     "name": "stdout",
     "output_type": "stream",
     "text": [
      "133/133 [==============================] - 0s 884us/step - loss: 0.0118 - mae: 0.0816\n"
     ]
    },
    {
     "data": {
      "text/plain": [
       "[0.011795328930020332, 0.08163677901029587]"
      ]
     },
     "execution_count": 24,
     "metadata": {},
     "output_type": "execute_result"
    }
   ],
   "source": [
    "model.evaluate(X_test, y_test)"
   ]
  },
  {
   "cell_type": "code",
   "execution_count": 25,
   "metadata": {},
   "outputs": [
    {
     "data": {
      "text/plain": [
       "array([[0.65613425],\n",
       "       [0.55245817],\n",
       "       [0.63236725],\n",
       "       [0.8107496 ],\n",
       "       [0.7434741 ]], dtype=float32)"
      ]
     },
     "execution_count": 25,
     "metadata": {},
     "output_type": "execute_result"
    }
   ],
   "source": [
    "predict_test=model.predict(X_test)\n",
    "predict_test[:5]"
   ]
  },
  {
   "cell_type": "code",
   "execution_count": 26,
   "metadata": {},
   "outputs": [
    {
     "data": {
      "text/plain": [
       "array([0.674, 0.679, 0.824, 0.825, 0.817])"
      ]
     },
     "execution_count": 26,
     "metadata": {},
     "output_type": "execute_result"
    }
   ],
   "source": [
    "y_test[:5] #실제 값, 위는 예측 값"
   ]
  },
  {
   "cell_type": "code",
   "execution_count": 27,
   "metadata": {},
   "outputs": [],
   "source": [
    "from sklearn.metrics import r2_score"
   ]
  },
  {
   "cell_type": "code",
   "execution_count": 28,
   "metadata": {},
   "outputs": [],
   "source": [
    "R2=r2_score(y_test, predict_test)"
   ]
  },
  {
   "cell_type": "code",
   "execution_count": 29,
   "metadata": {},
   "outputs": [
    {
     "data": {
      "text/plain": [
       "0.5000357846263821"
      ]
     },
     "execution_count": 29,
     "metadata": {},
     "output_type": "execute_result"
    }
   ],
   "source": [
    "R2"
   ]
  },
  {
   "cell_type": "code",
   "execution_count": 30,
   "metadata": {},
   "outputs": [],
   "source": [
    "from matplotlib import pyplot as plt"
   ]
  },
  {
   "cell_type": "code",
   "execution_count": 32,
   "metadata": {},
   "outputs": [
    {
     "data": {
      "image/png": "[encoded data removed]",
      "text/plain": [
       "<Figure size 432x288 with 1 Axes>"
      ]
     },
     "metadata": {
      "needs_background": "light"
     },
     "output_type": "display_data"
    }
   ],
   "source": [
    "plt.plot(y_test[:50])\n",
    "plt.plot(predict_test[:50])\n",
    "# 화면에 그래프를 보여줍니다\n",
    "plt.legend(['y_test', 'predict'])\n",
    "plt.show()"
   ]
  },
  {
   "cell_type": "code",
   "execution_count": null,
   "metadata": {},
   "outputs": [],
   "source": []
  }
 ],
 "metadata": {
  "kernelspec": {
   "display_name": "Python 3",
   "language": "python",
   "name": "python3"
  },
  "language_info": {
   "codemirror_mode": {
    "name": "ipython",
    "version": 3
   },
   "file_extension": ".py",
   "mimetype": "text/x-python",
   "name": "python",
   "nbconvert_exporter": "python",
   "pygments_lexer": "ipython3",
   "version": "3.7.4"
  }
 },
 "nbformat": 4,
 "nbformat_minor": 2
}
