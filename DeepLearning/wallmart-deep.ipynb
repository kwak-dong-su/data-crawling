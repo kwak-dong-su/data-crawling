{
 "cells": [
  {
   "cell_type": "code",
   "execution_count": 1,
   "metadata": {},
   "outputs": [],
   "source": [
    "# https://www.kaggle.com/datasets/yasserh/walmart-dataset"
   ]
  },
  {
   "cell_type": "code",
   "execution_count": 2,
   "metadata": {},
   "outputs": [],
   "source": [
    "import pandas as pd\n",
    "import numpy as np\n",
    "import random\n",
    "import tensorflow as tf"
   ]
  },
  {
   "cell_type": "code",
   "execution_count": 3,
   "metadata": {},
   "outputs": [],
   "source": [
    "wallmart=pd.read_csv('Walmart.csv')"
   ]
  },
  {
   "cell_type": "code",
   "execution_count": 4,
   "metadata": {},
   "outputs": [
    {
     "data": {
      "text/html": [
       "<div>\n",
       "<style scoped>\n",
       "    .dataframe tbody tr th:only-of-type {\n",
       "        vertical-align: middle;\n",
       "    }\n",
       "\n",
       "    .dataframe tbody tr th {\n",
       "        vertical-align: top;\n",
       "    }\n",
       "\n",
       "    .dataframe thead th {\n",
       "        text-align: right;\n",
       "    }\n",
       "</style>\n",
       "<table border=\"1\" class=\"dataframe\">\n",
       "  <thead>\n",
       "    <tr style=\"text-align: right;\">\n",
       "      <th></th>\n",
       "      <th>Store</th>\n",
       "      <th>Date</th>\n",
       "      <th>Weekly_Sales</th>\n",
       "      <th>Holiday_Flag</th>\n",
       "      <th>Temperature</th>\n",
       "      <th>Fuel_Price</th>\n",
       "      <th>CPI</th>\n",
       "      <th>Unemployment</th>\n",
       "    </tr>\n",
       "  </thead>\n",
       "  <tbody>\n",
       "    <tr>\n",
       "      <th>0</th>\n",
       "      <td>1</td>\n",
       "      <td>05-02-2010</td>\n",
       "      <td>1643690.90</td>\n",
       "      <td>0</td>\n",
       "      <td>42.31</td>\n",
       "      <td>2.572</td>\n",
       "      <td>211.096358</td>\n",
       "      <td>8.106</td>\n",
       "    </tr>\n",
       "    <tr>\n",
       "      <th>1</th>\n",
       "      <td>1</td>\n",
       "      <td>12-02-2010</td>\n",
       "      <td>1641957.44</td>\n",
       "      <td>1</td>\n",
       "      <td>38.51</td>\n",
       "      <td>2.548</td>\n",
       "      <td>211.242170</td>\n",
       "      <td>8.106</td>\n",
       "    </tr>\n",
       "    <tr>\n",
       "      <th>2</th>\n",
       "      <td>1</td>\n",
       "      <td>19-02-2010</td>\n",
       "      <td>1611968.17</td>\n",
       "      <td>0</td>\n",
       "      <td>39.93</td>\n",
       "      <td>2.514</td>\n",
       "      <td>211.289143</td>\n",
       "      <td>8.106</td>\n",
       "    </tr>\n",
       "    <tr>\n",
       "      <th>3</th>\n",
       "      <td>1</td>\n",
       "      <td>26-02-2010</td>\n",
       "      <td>1409727.59</td>\n",
       "      <td>0</td>\n",
       "      <td>46.63</td>\n",
       "      <td>2.561</td>\n",
       "      <td>211.319643</td>\n",
       "      <td>8.106</td>\n",
       "    </tr>\n",
       "    <tr>\n",
       "      <th>4</th>\n",
       "      <td>1</td>\n",
       "      <td>05-03-2010</td>\n",
       "      <td>1554806.68</td>\n",
       "      <td>0</td>\n",
       "      <td>46.50</td>\n",
       "      <td>2.625</td>\n",
       "      <td>211.350143</td>\n",
       "      <td>8.106</td>\n",
       "    </tr>\n",
       "    <tr>\n",
       "      <th>...</th>\n",
       "      <td>...</td>\n",
       "      <td>...</td>\n",
       "      <td>...</td>\n",
       "      <td>...</td>\n",
       "      <td>...</td>\n",
       "      <td>...</td>\n",
       "      <td>...</td>\n",
       "      <td>...</td>\n",
       "    </tr>\n",
       "    <tr>\n",
       "      <th>6430</th>\n",
       "      <td>45</td>\n",
       "      <td>28-09-2012</td>\n",
       "      <td>713173.95</td>\n",
       "      <td>0</td>\n",
       "      <td>64.88</td>\n",
       "      <td>3.997</td>\n",
       "      <td>192.013558</td>\n",
       "      <td>8.684</td>\n",
       "    </tr>\n",
       "    <tr>\n",
       "      <th>6431</th>\n",
       "      <td>45</td>\n",
       "      <td>05-10-2012</td>\n",
       "      <td>733455.07</td>\n",
       "      <td>0</td>\n",
       "      <td>64.89</td>\n",
       "      <td>3.985</td>\n",
       "      <td>192.170412</td>\n",
       "      <td>8.667</td>\n",
       "    </tr>\n",
       "    <tr>\n",
       "      <th>6432</th>\n",
       "      <td>45</td>\n",
       "      <td>12-10-2012</td>\n",
       "      <td>734464.36</td>\n",
       "      <td>0</td>\n",
       "      <td>54.47</td>\n",
       "      <td>4.000</td>\n",
       "      <td>192.327265</td>\n",
       "      <td>8.667</td>\n",
       "    </tr>\n",
       "    <tr>\n",
       "      <th>6433</th>\n",
       "      <td>45</td>\n",
       "      <td>19-10-2012</td>\n",
       "      <td>718125.53</td>\n",
       "      <td>0</td>\n",
       "      <td>56.47</td>\n",
       "      <td>3.969</td>\n",
       "      <td>192.330854</td>\n",
       "      <td>8.667</td>\n",
       "    </tr>\n",
       "    <tr>\n",
       "      <th>6434</th>\n",
       "      <td>45</td>\n",
       "      <td>26-10-2012</td>\n",
       "      <td>760281.43</td>\n",
       "      <td>0</td>\n",
       "      <td>58.85</td>\n",
       "      <td>3.882</td>\n",
       "      <td>192.308899</td>\n",
       "      <td>8.667</td>\n",
       "    </tr>\n",
       "  </tbody>\n",
       "</table>\n",
       "<p>6435 rows × 8 columns</p>\n",
       "</div>"
      ],
      "text/plain": [
       "      Store        Date  Weekly_Sales  Holiday_Flag  Temperature  Fuel_Price  \\\n",
       "0         1  05-02-2010    1643690.90             0        42.31       2.572   \n",
       "1         1  12-02-2010    1641957.44             1        38.51       2.548   \n",
       "2         1  19-02-2010    1611968.17             0        39.93       2.514   \n",
       "3         1  26-02-2010    1409727.59             0        46.63       2.561   \n",
       "4         1  05-03-2010    1554806.68             0        46.50       2.625   \n",
       "...     ...         ...           ...           ...          ...         ...   \n",
       "6430     45  28-09-2012     713173.95             0        64.88       3.997   \n",
       "6431     45  05-10-2012     733455.07             0        64.89       3.985   \n",
       "6432     45  12-10-2012     734464.36             0        54.47       4.000   \n",
       "6433     45  19-10-2012     718125.53             0        56.47       3.969   \n",
       "6434     45  26-10-2012     760281.43             0        58.85       3.882   \n",
       "\n",
       "             CPI  Unemployment  \n",
       "0     211.096358         8.106  \n",
       "1     211.242170         8.106  \n",
       "2     211.289143         8.106  \n",
       "3     211.319643         8.106  \n",
       "4     211.350143         8.106  \n",
       "...          ...           ...  \n",
       "6430  192.013558         8.684  \n",
       "6431  192.170412         8.667  \n",
       "6432  192.327265         8.667  \n",
       "6433  192.330854         8.667  \n",
       "6434  192.308899         8.667  \n",
       "\n",
       "[6435 rows x 8 columns]"
      ]
     },
     "execution_count": 4,
     "metadata": {},
     "output_type": "execute_result"
    }
   ],
   "source": [
    "wallmart"
   ]
  },
  {
   "cell_type": "code",
   "execution_count": 5,
   "metadata": {},
   "outputs": [
    {
     "name": "stdout",
     "output_type": "stream",
     "text": [
      "<class 'pandas.core.frame.DataFrame'>\n",
      "RangeIndex: 6435 entries, 0 to 6434\n",
      "Data columns (total 8 columns):\n",
      " #   Column        Non-Null Count  Dtype  \n",
      "---  ------        --------------  -----  \n",
      " 0   Store         6435 non-null   int64  \n",
      " 1   Date          6435 non-null   object \n",
      " 2   Weekly_Sales  6435 non-null   float64\n",
      " 3   Holiday_Flag  6435 non-null   int64  \n",
      " 4   Temperature   6435 non-null   float64\n",
      " 5   Fuel_Price    6435 non-null   float64\n",
      " 6   CPI           6435 non-null   float64\n",
      " 7   Unemployment  6435 non-null   float64\n",
      "dtypes: float64(5), int64(2), object(1)\n",
      "memory usage: 402.3+ KB\n"
     ]
    }
   ],
   "source": [
    "wallmart.info()"
   ]
  },
  {
   "cell_type": "code",
   "execution_count": 6,
   "metadata": {},
   "outputs": [],
   "source": [
    "wallmart.drop(['Date', 'Store', 'Holiday_Flag'], axis=1, inplace=True)"
   ]
  },
  {
   "cell_type": "code",
   "execution_count": 7,
   "metadata": {},
   "outputs": [
    {
     "data": {
      "text/html": [
       "<div>\n",
       "<style scoped>\n",
       "    .dataframe tbody tr th:only-of-type {\n",
       "        vertical-align: middle;\n",
       "    }\n",
       "\n",
       "    .dataframe tbody tr th {\n",
       "        vertical-align: top;\n",
       "    }\n",
       "\n",
       "    .dataframe thead th {\n",
       "        text-align: right;\n",
       "    }\n",
       "</style>\n",
       "<table border=\"1\" class=\"dataframe\">\n",
       "  <thead>\n",
       "    <tr style=\"text-align: right;\">\n",
       "      <th></th>\n",
       "      <th>Weekly_Sales</th>\n",
       "      <th>Temperature</th>\n",
       "      <th>Fuel_Price</th>\n",
       "      <th>CPI</th>\n",
       "      <th>Unemployment</th>\n",
       "    </tr>\n",
       "  </thead>\n",
       "  <tbody>\n",
       "    <tr>\n",
       "      <th>0</th>\n",
       "      <td>1643690.90</td>\n",
       "      <td>42.31</td>\n",
       "      <td>2.572</td>\n",
       "      <td>211.096358</td>\n",
       "      <td>8.106</td>\n",
       "    </tr>\n",
       "    <tr>\n",
       "      <th>1</th>\n",
       "      <td>1641957.44</td>\n",
       "      <td>38.51</td>\n",
       "      <td>2.548</td>\n",
       "      <td>211.242170</td>\n",
       "      <td>8.106</td>\n",
       "    </tr>\n",
       "    <tr>\n",
       "      <th>2</th>\n",
       "      <td>1611968.17</td>\n",
       "      <td>39.93</td>\n",
       "      <td>2.514</td>\n",
       "      <td>211.289143</td>\n",
       "      <td>8.106</td>\n",
       "    </tr>\n",
       "    <tr>\n",
       "      <th>3</th>\n",
       "      <td>1409727.59</td>\n",
       "      <td>46.63</td>\n",
       "      <td>2.561</td>\n",
       "      <td>211.319643</td>\n",
       "      <td>8.106</td>\n",
       "    </tr>\n",
       "    <tr>\n",
       "      <th>4</th>\n",
       "      <td>1554806.68</td>\n",
       "      <td>46.50</td>\n",
       "      <td>2.625</td>\n",
       "      <td>211.350143</td>\n",
       "      <td>8.106</td>\n",
       "    </tr>\n",
       "  </tbody>\n",
       "</table>\n",
       "</div>"
      ],
      "text/plain": [
       "   Weekly_Sales  Temperature  Fuel_Price         CPI  Unemployment\n",
       "0    1643690.90        42.31       2.572  211.096358         8.106\n",
       "1    1641957.44        38.51       2.548  211.242170         8.106\n",
       "2    1611968.17        39.93       2.514  211.289143         8.106\n",
       "3    1409727.59        46.63       2.561  211.319643         8.106\n",
       "4    1554806.68        46.50       2.625  211.350143         8.106"
      ]
     },
     "execution_count": 7,
     "metadata": {},
     "output_type": "execute_result"
    }
   ],
   "source": [
    "wallmart.head()"
   ]
  },
  {
   "cell_type": "code",
   "execution_count": 8,
   "metadata": {},
   "outputs": [
    {
     "name": "stdout",
     "output_type": "stream",
     "text": [
      "<class 'pandas.core.frame.DataFrame'>\n",
      "RangeIndex: 6435 entries, 0 to 6434\n",
      "Data columns (total 5 columns):\n",
      " #   Column        Non-Null Count  Dtype  \n",
      "---  ------        --------------  -----  \n",
      " 0   Weekly_Sales  6435 non-null   float64\n",
      " 1   Temperature   6435 non-null   float64\n",
      " 2   Fuel_Price    6435 non-null   float64\n",
      " 3   CPI           6435 non-null   float64\n",
      " 4   Unemployment  6435 non-null   float64\n",
      "dtypes: float64(5)\n",
      "memory usage: 251.5 KB\n"
     ]
    }
   ],
   "source": [
    "wallmart.info()"
   ]
  },
  {
   "cell_type": "code",
   "execution_count": 9,
   "metadata": {},
   "outputs": [
    {
     "data": {
      "text/html": [
       "<div>\n",
       "<style scoped>\n",
       "    .dataframe tbody tr th:only-of-type {\n",
       "        vertical-align: middle;\n",
       "    }\n",
       "\n",
       "    .dataframe tbody tr th {\n",
       "        vertical-align: top;\n",
       "    }\n",
       "\n",
       "    .dataframe thead th {\n",
       "        text-align: right;\n",
       "    }\n",
       "</style>\n",
       "<table border=\"1\" class=\"dataframe\">\n",
       "  <thead>\n",
       "    <tr style=\"text-align: right;\">\n",
       "      <th></th>\n",
       "      <th>Weekly_Sales</th>\n",
       "      <th>Temperature</th>\n",
       "      <th>Fuel_Price</th>\n",
       "      <th>CPI</th>\n",
       "      <th>Unemployment</th>\n",
       "    </tr>\n",
       "  </thead>\n",
       "  <tbody>\n",
       "    <tr>\n",
       "      <th>0</th>\n",
       "      <td>1643690.90</td>\n",
       "      <td>42.31</td>\n",
       "      <td>2.572</td>\n",
       "      <td>211.096358</td>\n",
       "      <td>8.106</td>\n",
       "    </tr>\n",
       "    <tr>\n",
       "      <th>1</th>\n",
       "      <td>1641957.44</td>\n",
       "      <td>38.51</td>\n",
       "      <td>2.548</td>\n",
       "      <td>211.242170</td>\n",
       "      <td>8.106</td>\n",
       "    </tr>\n",
       "    <tr>\n",
       "      <th>2</th>\n",
       "      <td>1611968.17</td>\n",
       "      <td>39.93</td>\n",
       "      <td>2.514</td>\n",
       "      <td>211.289143</td>\n",
       "      <td>8.106</td>\n",
       "    </tr>\n",
       "    <tr>\n",
       "      <th>3</th>\n",
       "      <td>1409727.59</td>\n",
       "      <td>46.63</td>\n",
       "      <td>2.561</td>\n",
       "      <td>211.319643</td>\n",
       "      <td>8.106</td>\n",
       "    </tr>\n",
       "    <tr>\n",
       "      <th>4</th>\n",
       "      <td>1554806.68</td>\n",
       "      <td>46.50</td>\n",
       "      <td>2.625</td>\n",
       "      <td>211.350143</td>\n",
       "      <td>8.106</td>\n",
       "    </tr>\n",
       "    <tr>\n",
       "      <th>...</th>\n",
       "      <td>...</td>\n",
       "      <td>...</td>\n",
       "      <td>...</td>\n",
       "      <td>...</td>\n",
       "      <td>...</td>\n",
       "    </tr>\n",
       "    <tr>\n",
       "      <th>6430</th>\n",
       "      <td>713173.95</td>\n",
       "      <td>64.88</td>\n",
       "      <td>3.997</td>\n",
       "      <td>192.013558</td>\n",
       "      <td>8.684</td>\n",
       "    </tr>\n",
       "    <tr>\n",
       "      <th>6431</th>\n",
       "      <td>733455.07</td>\n",
       "      <td>64.89</td>\n",
       "      <td>3.985</td>\n",
       "      <td>192.170412</td>\n",
       "      <td>8.667</td>\n",
       "    </tr>\n",
       "    <tr>\n",
       "      <th>6432</th>\n",
       "      <td>734464.36</td>\n",
       "      <td>54.47</td>\n",
       "      <td>4.000</td>\n",
       "      <td>192.327265</td>\n",
       "      <td>8.667</td>\n",
       "    </tr>\n",
       "    <tr>\n",
       "      <th>6433</th>\n",
       "      <td>718125.53</td>\n",
       "      <td>56.47</td>\n",
       "      <td>3.969</td>\n",
       "      <td>192.330854</td>\n",
       "      <td>8.667</td>\n",
       "    </tr>\n",
       "    <tr>\n",
       "      <th>6434</th>\n",
       "      <td>760281.43</td>\n",
       "      <td>58.85</td>\n",
       "      <td>3.882</td>\n",
       "      <td>192.308899</td>\n",
       "      <td>8.667</td>\n",
       "    </tr>\n",
       "  </tbody>\n",
       "</table>\n",
       "<p>6435 rows × 5 columns</p>\n",
       "</div>"
      ],
      "text/plain": [
       "      Weekly_Sales  Temperature  Fuel_Price         CPI  Unemployment\n",
       "0       1643690.90        42.31       2.572  211.096358         8.106\n",
       "1       1641957.44        38.51       2.548  211.242170         8.106\n",
       "2       1611968.17        39.93       2.514  211.289143         8.106\n",
       "3       1409727.59        46.63       2.561  211.319643         8.106\n",
       "4       1554806.68        46.50       2.625  211.350143         8.106\n",
       "...            ...          ...         ...         ...           ...\n",
       "6430     713173.95        64.88       3.997  192.013558         8.684\n",
       "6431     733455.07        64.89       3.985  192.170412         8.667\n",
       "6432     734464.36        54.47       4.000  192.327265         8.667\n",
       "6433     718125.53        56.47       3.969  192.330854         8.667\n",
       "6434     760281.43        58.85       3.882  192.308899         8.667\n",
       "\n",
       "[6435 rows x 5 columns]"
      ]
     },
     "execution_count": 9,
     "metadata": {},
     "output_type": "execute_result"
    }
   ],
   "source": [
    "wallmart[['Weekly_Sales', 'Temperature', 'Fuel_Price', 'CPI', 'Unemployment']]"
   ]
  },
  {
   "cell_type": "code",
   "execution_count": 10,
   "metadata": {},
   "outputs": [],
   "source": [
    "X_data=wallmart[['Weekly_Sales', 'Temperature', 'Fuel_Price', 'Unemployment']]"
   ]
  },
  {
   "cell_type": "code",
   "execution_count": 11,
   "metadata": {},
   "outputs": [],
   "source": [
    "y_data=wallmart['CPI']"
   ]
  },
  {
   "cell_type": "code",
   "execution_count": 12,
   "metadata": {},
   "outputs": [],
   "source": [
    "X_data=np.array(X_data)\n",
    "y_data=np.array(y_data)"
   ]
  },
  {
   "cell_type": "code",
   "execution_count": 13,
   "metadata": {},
   "outputs": [],
   "source": [
    "from sklearn.preprocessing import MinMaxScaler\n",
    "from sklearn.model_selection import train_test_split"
   ]
  },
  {
   "cell_type": "code",
   "execution_count": 14,
   "metadata": {},
   "outputs": [],
   "source": [
    "scaler = MinMaxScaler()\n",
    "X_data_scaled = scaler.fit_transform(X_data)"
   ]
  },
  {
   "cell_type": "code",
   "execution_count": 15,
   "metadata": {},
   "outputs": [
    {
     "data": {
      "text/plain": [
       "array([[0.39729115, 0.43414873, 0.0501002 , 0.40511788],\n",
       "       [0.39681079, 0.39696673, 0.03807615, 0.40511788],\n",
       "       [0.38850052, 0.41086106, 0.02104208, 0.40511788],\n",
       "       ...,\n",
       "       [0.14533712, 0.55313112, 0.76553106, 0.45888442],\n",
       "       [0.1408095 , 0.57270059, 0.75      , 0.45888442],\n",
       "       [0.15249124, 0.59598826, 0.70641283, 0.45888442]])"
      ]
     },
     "execution_count": 15,
     "metadata": {},
     "output_type": "execute_result"
    }
   ],
   "source": [
    "X_data_scaled"
   ]
  },
  {
   "cell_type": "code",
   "execution_count": 16,
   "metadata": {},
   "outputs": [
    {
     "name": "stdout",
     "output_type": "stream",
     "text": [
      "(5791, 4) (5791,)\n",
      "(644, 4) (644,)\n"
     ]
    }
   ],
   "source": [
    "X_train, X_test, y_train, y_test = train_test_split(X_data, y_data, \n",
    "                                                    test_size=0.1, \n",
    "                                                    shuffle=True, \n",
    "                                                    random_state=11)\n",
    "print(X_train.shape, y_train.shape)\n",
    "print(X_test.shape, y_test.shape)"
   ]
  },
  {
   "cell_type": "code",
   "execution_count": 17,
   "metadata": {},
   "outputs": [],
   "source": [
    "from tensorflow.keras import Sequential\n",
    "from tensorflow.keras.layers import Dense"
   ]
  },
  {
   "cell_type": "code",
   "execution_count": 18,
   "metadata": {},
   "outputs": [],
   "source": [
    "# 레이어를 순서대로 쌓을 수 있도록 객체를 생성\n",
    "model=Sequential()\n",
    "model.add(Dense(2048, activation='relu', input_dim=4))\n",
    "model.add(Dense(1024, activation='relu'))\n",
    "model.add(Dense(512, activation='relu'))\n",
    "model.add(Dense(256, activation='relu'))\n",
    "model.add(Dense(128, activation='relu'))\n",
    "model.add(Dense(64, activation='relu'))\n",
    "model.add(Dense(32, activation='relu'))\n",
    "model.add(Dense(16, activation='relu'))\n",
    "model.add(Dense(1, activation='linear')) # 회귀일 때, 마지막 출력층의 활성화 함수"
   ]
  },
  {
   "cell_type": "code",
   "execution_count": 19,
   "metadata": {},
   "outputs": [],
   "source": [
    "# 쌓은 것으로 모델 세팅\n",
    "model.compile(optimizer='adam', loss='mse', metrics=['mae']) "
   ]
  },
  {
   "cell_type": "code",
   "execution_count": 20,
   "metadata": {},
   "outputs": [
    {
     "name": "stdout",
     "output_type": "stream",
     "text": [
      "Model: \"sequential\"\n",
      "_________________________________________________________________\n",
      " Layer (type)                Output Shape              Param #   \n",
      "=================================================================\n",
      " dense (Dense)               (None, 2048)              10240     \n",
      "                                                                 \n",
      " dense_1 (Dense)             (None, 1024)              2098176   \n",
      "                                                                 \n",
      " dense_2 (Dense)             (None, 512)               524800    \n",
      "                                                                 \n",
      " dense_3 (Dense)             (None, 256)               131328    \n",
      "                                                                 \n",
      " dense_4 (Dense)             (None, 128)               32896     \n",
      "                                                                 \n",
      " dense_5 (Dense)             (None, 64)                8256      \n",
      "                                                                 \n",
      " dense_6 (Dense)             (None, 32)                2080      \n",
      "                                                                 \n",
      " dense_7 (Dense)             (None, 16)                528       \n",
      "                                                                 \n",
      " dense_8 (Dense)             (None, 1)                 17        \n",
      "                                                                 \n",
      "=================================================================\n",
      "Total params: 2,808,321\n",
      "Trainable params: 2,808,321\n",
      "Non-trainable params: 0\n",
      "_________________________________________________________________\n"
     ]
    }
   ],
   "source": [
    "# 모델에 세팅한 내용을 요약해서 프린트\n",
    "model.summary()"
   ]
  },
  {
   "cell_type": "code",
   "execution_count": 21,
   "metadata": {
    "scrolled": true
   },
   "outputs": [
    {
     "name": "stdout",
     "output_type": "stream",
     "text": [
      "Epoch 1/100\n",
      "181/181 - 3s - loss: 11756381.0000 - mae: 1136.0703 - 3s/epoch - 16ms/step\n",
      "Epoch 2/100\n",
      "181/181 - 3s - loss: 2027752.8750 - mae: 755.3691 - 3s/epoch - 14ms/step\n",
      "Epoch 3/100\n",
      "181/181 - 3s - loss: 118969.7656 - mae: 159.5739 - 3s/epoch - 14ms/step\n",
      "Epoch 4/100\n",
      "181/181 - 3s - loss: 13489.5586 - mae: 95.4296 - 3s/epoch - 14ms/step\n",
      "Epoch 5/100\n",
      "181/181 - 3s - loss: 15777.1602 - mae: 103.1240 - 3s/epoch - 14ms/step\n",
      "Epoch 6/100\n",
      "181/181 - 2s - loss: 21203.2988 - mae: 118.0350 - 2s/epoch - 14ms/step\n",
      "Epoch 7/100\n",
      "181/181 - 3s - loss: 17236.3008 - mae: 105.0632 - 3s/epoch - 14ms/step\n",
      "Epoch 8/100\n",
      "181/181 - 2s - loss: 23437.2402 - mae: 123.0984 - 2s/epoch - 14ms/step\n",
      "Epoch 9/100\n",
      "181/181 - 2s - loss: 16391.7188 - mae: 105.3328 - 2s/epoch - 14ms/step\n",
      "Epoch 10/100\n",
      "181/181 - 2s - loss: 31283.2207 - mae: 139.7418 - 2s/epoch - 14ms/step\n",
      "Epoch 11/100\n",
      "181/181 - 3s - loss: 13646.9863 - mae: 95.7979 - 3s/epoch - 14ms/step\n",
      "Epoch 12/100\n",
      "181/181 - 3s - loss: 2012457.1250 - mae: 729.1672 - 3s/epoch - 14ms/step\n",
      "Epoch 13/100\n",
      "181/181 - 3s - loss: 10611.0098 - mae: 84.6920 - 3s/epoch - 14ms/step\n",
      "Epoch 14/100\n",
      "181/181 - 3s - loss: 10811.2295 - mae: 85.7615 - 3s/epoch - 14ms/step\n",
      "Epoch 15/100\n",
      "181/181 - 3s - loss: 11082.8193 - mae: 87.6665 - 3s/epoch - 14ms/step\n",
      "Epoch 16/100\n",
      "181/181 - 2s - loss: 10629.1934 - mae: 85.4533 - 2s/epoch - 14ms/step\n",
      "Epoch 17/100\n",
      "181/181 - 2s - loss: 11371.9883 - mae: 87.2909 - 2s/epoch - 14ms/step\n",
      "Epoch 18/100\n",
      "181/181 - 2s - loss: 9688.5898 - mae: 80.6399 - 2s/epoch - 14ms/step\n",
      "Epoch 19/100\n",
      "181/181 - 2s - loss: 10465.0625 - mae: 84.1634 - 2s/epoch - 14ms/step\n",
      "Epoch 20/100\n",
      "181/181 - 2s - loss: 10573.8330 - mae: 84.9686 - 2s/epoch - 14ms/step\n",
      "Epoch 21/100\n",
      "181/181 - 2s - loss: 13063.5098 - mae: 93.6571 - 2s/epoch - 14ms/step\n",
      "Epoch 22/100\n",
      "181/181 - 2s - loss: 13886.2451 - mae: 95.8317 - 2s/epoch - 14ms/step\n",
      "Epoch 23/100\n",
      "181/181 - 3s - loss: 9442.3467 - mae: 80.1223 - 3s/epoch - 14ms/step\n",
      "Epoch 24/100\n",
      "181/181 - 2s - loss: 11972.2715 - mae: 88.2686 - 2s/epoch - 14ms/step\n",
      "Epoch 25/100\n",
      "181/181 - 2s - loss: 10057.9219 - mae: 83.1651 - 2s/epoch - 14ms/step\n",
      "Epoch 26/100\n",
      "181/181 - 2s - loss: 12912.9961 - mae: 92.6808 - 2s/epoch - 14ms/step\n",
      "Epoch 27/100\n",
      "181/181 - 2s - loss: 10008.4297 - mae: 82.5072 - 2s/epoch - 14ms/step\n",
      "Epoch 28/100\n",
      "181/181 - 2s - loss: 9679.0215 - mae: 81.0234 - 2s/epoch - 14ms/step\n",
      "Epoch 29/100\n",
      "181/181 - 2s - loss: 9554.3916 - mae: 80.2715 - 2s/epoch - 14ms/step\n",
      "Epoch 30/100\n",
      "181/181 - 2s - loss: 9068.6904 - mae: 77.8289 - 2s/epoch - 14ms/step\n",
      "Epoch 31/100\n",
      "181/181 - 3s - loss: 9383.2988 - mae: 79.6000 - 3s/epoch - 14ms/step\n",
      "Epoch 32/100\n",
      "181/181 - 2s - loss: 9212.2891 - mae: 78.9494 - 2s/epoch - 14ms/step\n",
      "Epoch 33/100\n",
      "181/181 - 2s - loss: 9330.2080 - mae: 79.3739 - 2s/epoch - 14ms/step\n",
      "Epoch 34/100\n",
      "181/181 - 2s - loss: 9001.9287 - mae: 77.9559 - 2s/epoch - 14ms/step\n",
      "Epoch 35/100\n",
      "181/181 - 2s - loss: 9108.4141 - mae: 78.5884 - 2s/epoch - 14ms/step\n",
      "Epoch 36/100\n",
      "181/181 - 2s - loss: 9010.4043 - mae: 78.0611 - 2s/epoch - 14ms/step\n",
      "Epoch 37/100\n",
      "181/181 - 2s - loss: 8681.4473 - mae: 76.3509 - 2s/epoch - 14ms/step\n",
      "Epoch 38/100\n",
      "181/181 - 2s - loss: 8821.7266 - mae: 76.8760 - 2s/epoch - 14ms/step\n",
      "Epoch 39/100\n",
      "181/181 - 2s - loss: 8883.7686 - mae: 76.6807 - 2s/epoch - 14ms/step\n",
      "Epoch 40/100\n",
      "181/181 - 2s - loss: 8879.2002 - mae: 77.1179 - 2s/epoch - 14ms/step\n",
      "Epoch 41/100\n",
      "181/181 - 2s - loss: 8423.0381 - mae: 75.0013 - 2s/epoch - 14ms/step\n",
      "Epoch 42/100\n",
      "181/181 - 2s - loss: 8577.1084 - mae: 75.7298 - 2s/epoch - 14ms/step\n",
      "Epoch 43/100\n",
      "181/181 - 2s - loss: 8460.3135 - mae: 75.0036 - 2s/epoch - 14ms/step\n",
      "Epoch 44/100\n",
      "181/181 - 2s - loss: 8177.3228 - mae: 73.7495 - 2s/epoch - 14ms/step\n",
      "Epoch 45/100\n",
      "181/181 - 2s - loss: 8159.0771 - mae: 73.7968 - 2s/epoch - 14ms/step\n",
      "Epoch 46/100\n",
      "181/181 - 2s - loss: 8141.6108 - mae: 73.6924 - 2s/epoch - 14ms/step\n",
      "Epoch 47/100\n",
      "181/181 - 3s - loss: 8223.6641 - mae: 74.1025 - 3s/epoch - 14ms/step\n",
      "Epoch 48/100\n",
      "181/181 - 3s - loss: 8126.9990 - mae: 73.4360 - 3s/epoch - 14ms/step\n",
      "Epoch 49/100\n",
      "181/181 - 2s - loss: 8016.2095 - mae: 73.1092 - 2s/epoch - 14ms/step\n",
      "Epoch 50/100\n",
      "181/181 - 2s - loss: 7891.5132 - mae: 72.6030 - 2s/epoch - 14ms/step\n",
      "Epoch 51/100\n",
      "181/181 - 2s - loss: 7854.3389 - mae: 72.3050 - 2s/epoch - 14ms/step\n",
      "Epoch 52/100\n",
      "181/181 - 2s - loss: 7782.2422 - mae: 71.9879 - 2s/epoch - 14ms/step\n",
      "Epoch 53/100\n",
      "181/181 - 2s - loss: 7954.9160 - mae: 72.9451 - 2s/epoch - 14ms/step\n",
      "Epoch 54/100\n",
      "181/181 - 2s - loss: 7826.0747 - mae: 72.0630 - 2s/epoch - 14ms/step\n",
      "Epoch 55/100\n",
      "181/181 - 3s - loss: 7792.5283 - mae: 71.9343 - 3s/epoch - 14ms/step\n",
      "Epoch 56/100\n",
      "181/181 - 3s - loss: 7669.8354 - mae: 71.4500 - 3s/epoch - 14ms/step\n",
      "Epoch 57/100\n",
      "181/181 - 2s - loss: 7775.5269 - mae: 71.9066 - 2s/epoch - 14ms/step\n",
      "Epoch 58/100\n",
      "181/181 - 2s - loss: 7805.0410 - mae: 72.1738 - 2s/epoch - 14ms/step\n",
      "Epoch 59/100\n",
      "181/181 - 2s - loss: 7600.9014 - mae: 71.1863 - 2s/epoch - 14ms/step\n",
      "Epoch 60/100\n",
      "181/181 - 2s - loss: 7396.8643 - mae: 70.0063 - 2s/epoch - 14ms/step\n",
      "Epoch 61/100\n",
      "181/181 - 2s - loss: 7375.9429 - mae: 70.0110 - 2s/epoch - 14ms/step\n",
      "Epoch 62/100\n",
      "181/181 - 2s - loss: 7370.7803 - mae: 69.8339 - 2s/epoch - 14ms/step\n",
      "Epoch 63/100\n",
      "181/181 - 3s - loss: 7454.0728 - mae: 70.2166 - 3s/epoch - 14ms/step\n",
      "Epoch 64/100\n",
      "181/181 - 2s - loss: 12113.6250 - mae: 85.9961 - 2s/epoch - 14ms/step\n",
      "Epoch 65/100\n",
      "181/181 - 2s - loss: 7737.0112 - mae: 71.8840 - 2s/epoch - 14ms/step\n",
      "Epoch 66/100\n",
      "181/181 - 2s - loss: 7435.5181 - mae: 70.0387 - 2s/epoch - 14ms/step\n",
      "Epoch 67/100\n",
      "181/181 - 2s - loss: 7283.6333 - mae: 69.4200 - 2s/epoch - 14ms/step\n",
      "Epoch 68/100\n",
      "181/181 - 2s - loss: 7247.2485 - mae: 69.3514 - 2s/epoch - 14ms/step\n",
      "Epoch 69/100\n",
      "181/181 - 2s - loss: 7252.5376 - mae: 69.2324 - 2s/epoch - 14ms/step\n",
      "Epoch 70/100\n",
      "181/181 - 2s - loss: 7132.7026 - mae: 68.8087 - 2s/epoch - 14ms/step\n",
      "Epoch 71/100\n",
      "181/181 - 3s - loss: 7060.9048 - mae: 68.2671 - 3s/epoch - 14ms/step\n",
      "Epoch 72/100\n",
      "181/181 - 2s - loss: 7079.0752 - mae: 68.6106 - 2s/epoch - 14ms/step\n",
      "Epoch 73/100\n",
      "181/181 - 2s - loss: 7048.3398 - mae: 68.3082 - 2s/epoch - 14ms/step\n",
      "Epoch 74/100\n",
      "181/181 - 2s - loss: 6984.2632 - mae: 67.9346 - 2s/epoch - 14ms/step\n",
      "Epoch 75/100\n",
      "181/181 - 2s - loss: 6891.5474 - mae: 67.6076 - 2s/epoch - 14ms/step\n",
      "Epoch 76/100\n",
      "181/181 - 2s - loss: 6837.4932 - mae: 67.2414 - 2s/epoch - 14ms/step\n",
      "Epoch 77/100\n",
      "181/181 - 2s - loss: 6785.7378 - mae: 66.9330 - 2s/epoch - 14ms/step\n",
      "Epoch 78/100\n",
      "181/181 - 2s - loss: 6749.5098 - mae: 66.6949 - 2s/epoch - 14ms/step\n",
      "Epoch 79/100\n",
      "181/181 - 2s - loss: 6576.3267 - mae: 65.7247 - 2s/epoch - 14ms/step\n",
      "Epoch 80/100\n",
      "181/181 - 2s - loss: 6541.9023 - mae: 65.6884 - 2s/epoch - 14ms/step\n",
      "Epoch 81/100\n",
      "181/181 - 2s - loss: 6440.3218 - mae: 65.1505 - 2s/epoch - 14ms/step\n",
      "Epoch 82/100\n",
      "181/181 - 2s - loss: 6325.4458 - mae: 64.5399 - 2s/epoch - 14ms/step\n",
      "Epoch 83/100\n",
      "181/181 - 2s - loss: 36865.6758 - mae: 86.6099 - 2s/epoch - 14ms/step\n",
      "Epoch 84/100\n",
      "181/181 - 3s - loss: 121329.2656 - mae: 130.8077 - 3s/epoch - 14ms/step\n",
      "Epoch 85/100\n",
      "181/181 - 2s - loss: 6826.4170 - mae: 67.2912 - 2s/epoch - 14ms/step\n",
      "Epoch 86/100\n",
      "181/181 - 2s - loss: 6703.0342 - mae: 66.6575 - 2s/epoch - 14ms/step\n",
      "Epoch 87/100\n",
      "181/181 - 2s - loss: 6581.6343 - mae: 65.9537 - 2s/epoch - 14ms/step\n",
      "Epoch 88/100\n",
      "181/181 - 2s - loss: 6556.0933 - mae: 65.8216 - 2s/epoch - 14ms/step\n",
      "Epoch 89/100\n",
      "181/181 - 3s - loss: 6653.4458 - mae: 66.2596 - 3s/epoch - 14ms/step\n",
      "Epoch 90/100\n",
      "181/181 - 2s - loss: 6486.1362 - mae: 65.2454 - 2s/epoch - 14ms/step\n",
      "Epoch 91/100\n",
      "181/181 - 2s - loss: 6552.2368 - mae: 65.8112 - 2s/epoch - 14ms/step\n",
      "Epoch 92/100\n",
      "181/181 - 2s - loss: 6475.8633 - mae: 65.2277 - 2s/epoch - 14ms/step\n",
      "Epoch 93/100\n",
      "181/181 - 2s - loss: 6504.5498 - mae: 65.5052 - 2s/epoch - 14ms/step\n",
      "Epoch 94/100\n",
      "181/181 - 2s - loss: 6428.8799 - mae: 65.0249 - 2s/epoch - 14ms/step\n",
      "Epoch 95/100\n",
      "181/181 - 3s - loss: 6415.7134 - mae: 65.0824 - 3s/epoch - 14ms/step\n",
      "Epoch 96/100\n",
      "181/181 - 3s - loss: 6392.8833 - mae: 64.7930 - 3s/epoch - 14ms/step\n",
      "Epoch 97/100\n",
      "181/181 - 3s - loss: 6335.1084 - mae: 64.4378 - 3s/epoch - 14ms/step\n",
      "Epoch 98/100\n",
      "181/181 - 2s - loss: 6330.2695 - mae: 64.4582 - 2s/epoch - 14ms/step\n",
      "Epoch 99/100\n",
      "181/181 - 2s - loss: 6310.8892 - mae: 64.5052 - 2s/epoch - 14ms/step\n",
      "Epoch 100/100\n",
      "181/181 - 2s - loss: 6300.6592 - mae: 64.4689 - 2s/epoch - 14ms/step\n"
     ]
    },
    {
     "data": {
      "text/plain": [
       "<keras.callbacks.History at 0x23d9d486908>"
      ]
     },
     "execution_count": 21,
     "metadata": {},
     "output_type": "execute_result"
    }
   ],
   "source": [
    "model.fit(X_train, y_train, epochs=100, batch_size=32, verbose=2)"
   ]
  },
  {
   "cell_type": "code",
   "execution_count": 22,
   "metadata": {},
   "outputs": [
    {
     "name": "stdout",
     "output_type": "stream",
     "text": [
      "21/21 [==============================] - 0s 4ms/step - loss: 6655.9595 - mae: 66.2766\n"
     ]
    },
    {
     "data": {
      "text/plain": [
       "[6655.95947265625, 66.27662658691406]"
      ]
     },
     "execution_count": 22,
     "metadata": {},
     "output_type": "execute_result"
    }
   ],
   "source": [
    "model.evaluate(X_test, y_test)"
   ]
  },
  {
   "cell_type": "code",
   "execution_count": 23,
   "metadata": {},
   "outputs": [
    {
     "data": {
      "text/plain": [
       "array([[208.51765 ],\n",
       "       [ 59.364323],\n",
       "       [145.48698 ],\n",
       "       [ 59.659508],\n",
       "       [118.822685]], dtype=float32)"
      ]
     },
     "execution_count": 23,
     "metadata": {},
     "output_type": "execute_result"
    }
   ],
   "source": [
    "predict_test=model.predict(X_test)\n",
    "predict_test[:5]"
   ]
  },
  {
   "cell_type": "code",
   "execution_count": 24,
   "metadata": {},
   "outputs": [
    {
     "data": {
      "text/plain": [
       "array([142.9376167, 129.8268333, 216.6310383, 131.1930968, 138.0638929])"
      ]
     },
     "execution_count": 24,
     "metadata": {},
     "output_type": "execute_result"
    }
   ],
   "source": [
    "y_test[:5] #실제 값, 위는 예측 값"
   ]
  },
  {
   "cell_type": "code",
   "execution_count": 25,
   "metadata": {},
   "outputs": [],
   "source": [
    "from sklearn.metrics import r2_score"
   ]
  },
  {
   "cell_type": "code",
   "execution_count": 26,
   "metadata": {},
   "outputs": [],
   "source": [
    "R2=r2_score(y_test, predict_test)"
   ]
  },
  {
   "cell_type": "code",
   "execution_count": 27,
   "metadata": {},
   "outputs": [
    {
     "data": {
      "text/plain": [
       "-3.2360539420015506"
      ]
     },
     "execution_count": 27,
     "metadata": {},
     "output_type": "execute_result"
    }
   ],
   "source": [
    "R2"
   ]
  },
  {
   "cell_type": "code",
   "execution_count": 28,
   "metadata": {},
   "outputs": [],
   "source": [
    "from matplotlib import pyplot as plt"
   ]
  },
  {
   "cell_type": "code",
   "execution_count": 29,
   "metadata": {},
   "outputs": [
    {
     "data": {
      "image/png": "[encoded data removed]",
      "text/plain": [
       "<Figure size 432x288 with 1 Axes>"
      ]
     },
     "metadata": {
      "needs_background": "light"
     },
     "output_type": "display_data"
    }
   ],
   "source": [
    "plt.plot(y_test[:50])\n",
    "plt.plot(predict_test[:50])\n",
    "# 화면에 그래프를 보여줍니다\n",
    "plt.legend(['y_test', 'predict'])\n",
    "plt.show()"
   ]
  },
  {
   "cell_type": "code",
   "execution_count": null,
   "metadata": {},
   "outputs": [],
   "source": []
  }
 ],
 "metadata": {
  "kernelspec": {
   "display_name": "Python 3",
   "language": "python",
   "name": "python3"
  },
  "language_info": {
   "codemirror_mode": {
    "name": "ipython",
    "version": 3
   },
   "file_extension": ".py",
   "mimetype": "text/x-python",
   "name": "python",
   "nbconvert_exporter": "python",
   "pygments_lexer": "ipython3",
   "version": "3.7.4"
  }
 },
 "nbformat": 4,
 "nbformat_minor": 2
}
