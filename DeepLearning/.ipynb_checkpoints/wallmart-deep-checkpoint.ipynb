{
 "cells": [
  {
   "cell_type": "code",
   "execution_count": null,
   "metadata": {},
   "outputs": [],
   "source": [
    "# https://www.kaggle.com/datasets/yasserh/walmart-dataset"
   ]
  },
  {
   "cell_type": "code",
   "execution_count": 1,
   "metadata": {},
   "outputs": [],
   "source": [
    "import pandas as pd\n",
    "import numpy as np\n",
    "import random\n",
    "import tensorflow as tf"
   ]
  },
  {
   "cell_type": "code",
   "execution_count": 2,
   "metadata": {},
   "outputs": [],
   "source": [
    "wallmart=pd.read_csv('Walmart.csv')"
   ]
  },
  {
   "cell_type": "code",
   "execution_count": 3,
   "metadata": {},
   "outputs": [
    {
     "data": {
      "text/html": [
       "<div>\n",
       "<style scoped>\n",
       "    .dataframe tbody tr th:only-of-type {\n",
       "        vertical-align: middle;\n",
       "    }\n",
       "\n",
       "    .dataframe tbody tr th {\n",
       "        vertical-align: top;\n",
       "    }\n",
       "\n",
       "    .dataframe thead th {\n",
       "        text-align: right;\n",
       "    }\n",
       "</style>\n",
       "<table border=\"1\" class=\"dataframe\">\n",
       "  <thead>\n",
       "    <tr style=\"text-align: right;\">\n",
       "      <th></th>\n",
       "      <th>Store</th>\n",
       "      <th>Date</th>\n",
       "      <th>Weekly_Sales</th>\n",
       "      <th>Holiday_Flag</th>\n",
       "      <th>Temperature</th>\n",
       "      <th>Fuel_Price</th>\n",
       "      <th>CPI</th>\n",
       "      <th>Unemployment</th>\n",
       "    </tr>\n",
       "  </thead>\n",
       "  <tbody>\n",
       "    <tr>\n",
       "      <th>0</th>\n",
       "      <td>1</td>\n",
       "      <td>05-02-2010</td>\n",
       "      <td>1643690.90</td>\n",
       "      <td>0</td>\n",
       "      <td>42.31</td>\n",
       "      <td>2.572</td>\n",
       "      <td>211.096358</td>\n",
       "      <td>8.106</td>\n",
       "    </tr>\n",
       "    <tr>\n",
       "      <th>1</th>\n",
       "      <td>1</td>\n",
       "      <td>12-02-2010</td>\n",
       "      <td>1641957.44</td>\n",
       "      <td>1</td>\n",
       "      <td>38.51</td>\n",
       "      <td>2.548</td>\n",
       "      <td>211.242170</td>\n",
       "      <td>8.106</td>\n",
       "    </tr>\n",
       "    <tr>\n",
       "      <th>2</th>\n",
       "      <td>1</td>\n",
       "      <td>19-02-2010</td>\n",
       "      <td>1611968.17</td>\n",
       "      <td>0</td>\n",
       "      <td>39.93</td>\n",
       "      <td>2.514</td>\n",
       "      <td>211.289143</td>\n",
       "      <td>8.106</td>\n",
       "    </tr>\n",
       "    <tr>\n",
       "      <th>3</th>\n",
       "      <td>1</td>\n",
       "      <td>26-02-2010</td>\n",
       "      <td>1409727.59</td>\n",
       "      <td>0</td>\n",
       "      <td>46.63</td>\n",
       "      <td>2.561</td>\n",
       "      <td>211.319643</td>\n",
       "      <td>8.106</td>\n",
       "    </tr>\n",
       "    <tr>\n",
       "      <th>4</th>\n",
       "      <td>1</td>\n",
       "      <td>05-03-2010</td>\n",
       "      <td>1554806.68</td>\n",
       "      <td>0</td>\n",
       "      <td>46.50</td>\n",
       "      <td>2.625</td>\n",
       "      <td>211.350143</td>\n",
       "      <td>8.106</td>\n",
       "    </tr>\n",
       "    <tr>\n",
       "      <th>...</th>\n",
       "      <td>...</td>\n",
       "      <td>...</td>\n",
       "      <td>...</td>\n",
       "      <td>...</td>\n",
       "      <td>...</td>\n",
       "      <td>...</td>\n",
       "      <td>...</td>\n",
       "      <td>...</td>\n",
       "    </tr>\n",
       "    <tr>\n",
       "      <th>6430</th>\n",
       "      <td>45</td>\n",
       "      <td>28-09-2012</td>\n",
       "      <td>713173.95</td>\n",
       "      <td>0</td>\n",
       "      <td>64.88</td>\n",
       "      <td>3.997</td>\n",
       "      <td>192.013558</td>\n",
       "      <td>8.684</td>\n",
       "    </tr>\n",
       "    <tr>\n",
       "      <th>6431</th>\n",
       "      <td>45</td>\n",
       "      <td>05-10-2012</td>\n",
       "      <td>733455.07</td>\n",
       "      <td>0</td>\n",
       "      <td>64.89</td>\n",
       "      <td>3.985</td>\n",
       "      <td>192.170412</td>\n",
       "      <td>8.667</td>\n",
       "    </tr>\n",
       "    <tr>\n",
       "      <th>6432</th>\n",
       "      <td>45</td>\n",
       "      <td>12-10-2012</td>\n",
       "      <td>734464.36</td>\n",
       "      <td>0</td>\n",
       "      <td>54.47</td>\n",
       "      <td>4.000</td>\n",
       "      <td>192.327265</td>\n",
       "      <td>8.667</td>\n",
       "    </tr>\n",
       "    <tr>\n",
       "      <th>6433</th>\n",
       "      <td>45</td>\n",
       "      <td>19-10-2012</td>\n",
       "      <td>718125.53</td>\n",
       "      <td>0</td>\n",
       "      <td>56.47</td>\n",
       "      <td>3.969</td>\n",
       "      <td>192.330854</td>\n",
       "      <td>8.667</td>\n",
       "    </tr>\n",
       "    <tr>\n",
       "      <th>6434</th>\n",
       "      <td>45</td>\n",
       "      <td>26-10-2012</td>\n",
       "      <td>760281.43</td>\n",
       "      <td>0</td>\n",
       "      <td>58.85</td>\n",
       "      <td>3.882</td>\n",
       "      <td>192.308899</td>\n",
       "      <td>8.667</td>\n",
       "    </tr>\n",
       "  </tbody>\n",
       "</table>\n",
       "<p>6435 rows × 8 columns</p>\n",
       "</div>"
      ],
      "text/plain": [
       "      Store        Date  Weekly_Sales  Holiday_Flag  Temperature  Fuel_Price  \\\n",
       "0         1  05-02-2010    1643690.90             0        42.31       2.572   \n",
       "1         1  12-02-2010    1641957.44             1        38.51       2.548   \n",
       "2         1  19-02-2010    1611968.17             0        39.93       2.514   \n",
       "3         1  26-02-2010    1409727.59             0        46.63       2.561   \n",
       "4         1  05-03-2010    1554806.68             0        46.50       2.625   \n",
       "...     ...         ...           ...           ...          ...         ...   \n",
       "6430     45  28-09-2012     713173.95             0        64.88       3.997   \n",
       "6431     45  05-10-2012     733455.07             0        64.89       3.985   \n",
       "6432     45  12-10-2012     734464.36             0        54.47       4.000   \n",
       "6433     45  19-10-2012     718125.53             0        56.47       3.969   \n",
       "6434     45  26-10-2012     760281.43             0        58.85       3.882   \n",
       "\n",
       "             CPI  Unemployment  \n",
       "0     211.096358         8.106  \n",
       "1     211.242170         8.106  \n",
       "2     211.289143         8.106  \n",
       "3     211.319643         8.106  \n",
       "4     211.350143         8.106  \n",
       "...          ...           ...  \n",
       "6430  192.013558         8.684  \n",
       "6431  192.170412         8.667  \n",
       "6432  192.327265         8.667  \n",
       "6433  192.330854         8.667  \n",
       "6434  192.308899         8.667  \n",
       "\n",
       "[6435 rows x 8 columns]"
      ]
     },
     "execution_count": 3,
     "metadata": {},
     "output_type": "execute_result"
    }
   ],
   "source": [
    "wallmart"
   ]
  },
  {
   "cell_type": "code",
   "execution_count": 4,
   "metadata": {},
   "outputs": [
    {
     "name": "stdout",
     "output_type": "stream",
     "text": [
      "<class 'pandas.core.frame.DataFrame'>\n",
      "RangeIndex: 6435 entries, 0 to 6434\n",
      "Data columns (total 8 columns):\n",
      " #   Column        Non-Null Count  Dtype  \n",
      "---  ------        --------------  -----  \n",
      " 0   Store         6435 non-null   int64  \n",
      " 1   Date          6435 non-null   object \n",
      " 2   Weekly_Sales  6435 non-null   float64\n",
      " 3   Holiday_Flag  6435 non-null   int64  \n",
      " 4   Temperature   6435 non-null   float64\n",
      " 5   Fuel_Price    6435 non-null   float64\n",
      " 6   CPI           6435 non-null   float64\n",
      " 7   Unemployment  6435 non-null   float64\n",
      "dtypes: float64(5), int64(2), object(1)\n",
      "memory usage: 402.3+ KB\n"
     ]
    }
   ],
   "source": [
    "wallmart.info()"
   ]
  },
  {
   "cell_type": "code",
   "execution_count": 5,
   "metadata": {},
   "outputs": [],
   "source": [
    "wallmart.drop(['Date', 'Store', 'Holiday_Flag'], axis=1, inplace=True)"
   ]
  },
  {
   "cell_type": "code",
   "execution_count": 6,
   "metadata": {},
   "outputs": [
    {
     "data": {
      "text/html": [
       "<div>\n",
       "<style scoped>\n",
       "    .dataframe tbody tr th:only-of-type {\n",
       "        vertical-align: middle;\n",
       "    }\n",
       "\n",
       "    .dataframe tbody tr th {\n",
       "        vertical-align: top;\n",
       "    }\n",
       "\n",
       "    .dataframe thead th {\n",
       "        text-align: right;\n",
       "    }\n",
       "</style>\n",
       "<table border=\"1\" class=\"dataframe\">\n",
       "  <thead>\n",
       "    <tr style=\"text-align: right;\">\n",
       "      <th></th>\n",
       "      <th>Weekly_Sales</th>\n",
       "      <th>Temperature</th>\n",
       "      <th>Fuel_Price</th>\n",
       "      <th>CPI</th>\n",
       "      <th>Unemployment</th>\n",
       "    </tr>\n",
       "  </thead>\n",
       "  <tbody>\n",
       "    <tr>\n",
       "      <th>0</th>\n",
       "      <td>1643690.90</td>\n",
       "      <td>42.31</td>\n",
       "      <td>2.572</td>\n",
       "      <td>211.096358</td>\n",
       "      <td>8.106</td>\n",
       "    </tr>\n",
       "    <tr>\n",
       "      <th>1</th>\n",
       "      <td>1641957.44</td>\n",
       "      <td>38.51</td>\n",
       "      <td>2.548</td>\n",
       "      <td>211.242170</td>\n",
       "      <td>8.106</td>\n",
       "    </tr>\n",
       "    <tr>\n",
       "      <th>2</th>\n",
       "      <td>1611968.17</td>\n",
       "      <td>39.93</td>\n",
       "      <td>2.514</td>\n",
       "      <td>211.289143</td>\n",
       "      <td>8.106</td>\n",
       "    </tr>\n",
       "    <tr>\n",
       "      <th>3</th>\n",
       "      <td>1409727.59</td>\n",
       "      <td>46.63</td>\n",
       "      <td>2.561</td>\n",
       "      <td>211.319643</td>\n",
       "      <td>8.106</td>\n",
       "    </tr>\n",
       "    <tr>\n",
       "      <th>4</th>\n",
       "      <td>1554806.68</td>\n",
       "      <td>46.50</td>\n",
       "      <td>2.625</td>\n",
       "      <td>211.350143</td>\n",
       "      <td>8.106</td>\n",
       "    </tr>\n",
       "  </tbody>\n",
       "</table>\n",
       "</div>"
      ],
      "text/plain": [
       "   Weekly_Sales  Temperature  Fuel_Price         CPI  Unemployment\n",
       "0    1643690.90        42.31       2.572  211.096358         8.106\n",
       "1    1641957.44        38.51       2.548  211.242170         8.106\n",
       "2    1611968.17        39.93       2.514  211.289143         8.106\n",
       "3    1409727.59        46.63       2.561  211.319643         8.106\n",
       "4    1554806.68        46.50       2.625  211.350143         8.106"
      ]
     },
     "execution_count": 6,
     "metadata": {},
     "output_type": "execute_result"
    }
   ],
   "source": [
    "wallmart.head()"
   ]
  },
  {
   "cell_type": "code",
   "execution_count": 7,
   "metadata": {},
   "outputs": [
    {
     "name": "stdout",
     "output_type": "stream",
     "text": [
      "<class 'pandas.core.frame.DataFrame'>\n",
      "RangeIndex: 6435 entries, 0 to 6434\n",
      "Data columns (total 5 columns):\n",
      " #   Column        Non-Null Count  Dtype  \n",
      "---  ------        --------------  -----  \n",
      " 0   Weekly_Sales  6435 non-null   float64\n",
      " 1   Temperature   6435 non-null   float64\n",
      " 2   Fuel_Price    6435 non-null   float64\n",
      " 3   CPI           6435 non-null   float64\n",
      " 4   Unemployment  6435 non-null   float64\n",
      "dtypes: float64(5)\n",
      "memory usage: 251.5 KB\n"
     ]
    }
   ],
   "source": [
    "wallmart.info()"
   ]
  },
  {
   "cell_type": "code",
   "execution_count": 8,
   "metadata": {},
   "outputs": [
    {
     "data": {
      "text/html": [
       "<div>\n",
       "<style scoped>\n",
       "    .dataframe tbody tr th:only-of-type {\n",
       "        vertical-align: middle;\n",
       "    }\n",
       "\n",
       "    .dataframe tbody tr th {\n",
       "        vertical-align: top;\n",
       "    }\n",
       "\n",
       "    .dataframe thead th {\n",
       "        text-align: right;\n",
       "    }\n",
       "</style>\n",
       "<table border=\"1\" class=\"dataframe\">\n",
       "  <thead>\n",
       "    <tr style=\"text-align: right;\">\n",
       "      <th></th>\n",
       "      <th>Weekly_Sales</th>\n",
       "      <th>Temperature</th>\n",
       "      <th>Fuel_Price</th>\n",
       "      <th>CPI</th>\n",
       "      <th>Unemployment</th>\n",
       "    </tr>\n",
       "  </thead>\n",
       "  <tbody>\n",
       "    <tr>\n",
       "      <th>0</th>\n",
       "      <td>1643690.90</td>\n",
       "      <td>42.31</td>\n",
       "      <td>2.572</td>\n",
       "      <td>211.096358</td>\n",
       "      <td>8.106</td>\n",
       "    </tr>\n",
       "    <tr>\n",
       "      <th>1</th>\n",
       "      <td>1641957.44</td>\n",
       "      <td>38.51</td>\n",
       "      <td>2.548</td>\n",
       "      <td>211.242170</td>\n",
       "      <td>8.106</td>\n",
       "    </tr>\n",
       "    <tr>\n",
       "      <th>2</th>\n",
       "      <td>1611968.17</td>\n",
       "      <td>39.93</td>\n",
       "      <td>2.514</td>\n",
       "      <td>211.289143</td>\n",
       "      <td>8.106</td>\n",
       "    </tr>\n",
       "    <tr>\n",
       "      <th>3</th>\n",
       "      <td>1409727.59</td>\n",
       "      <td>46.63</td>\n",
       "      <td>2.561</td>\n",
       "      <td>211.319643</td>\n",
       "      <td>8.106</td>\n",
       "    </tr>\n",
       "    <tr>\n",
       "      <th>4</th>\n",
       "      <td>1554806.68</td>\n",
       "      <td>46.50</td>\n",
       "      <td>2.625</td>\n",
       "      <td>211.350143</td>\n",
       "      <td>8.106</td>\n",
       "    </tr>\n",
       "    <tr>\n",
       "      <th>...</th>\n",
       "      <td>...</td>\n",
       "      <td>...</td>\n",
       "      <td>...</td>\n",
       "      <td>...</td>\n",
       "      <td>...</td>\n",
       "    </tr>\n",
       "    <tr>\n",
       "      <th>6430</th>\n",
       "      <td>713173.95</td>\n",
       "      <td>64.88</td>\n",
       "      <td>3.997</td>\n",
       "      <td>192.013558</td>\n",
       "      <td>8.684</td>\n",
       "    </tr>\n",
       "    <tr>\n",
       "      <th>6431</th>\n",
       "      <td>733455.07</td>\n",
       "      <td>64.89</td>\n",
       "      <td>3.985</td>\n",
       "      <td>192.170412</td>\n",
       "      <td>8.667</td>\n",
       "    </tr>\n",
       "    <tr>\n",
       "      <th>6432</th>\n",
       "      <td>734464.36</td>\n",
       "      <td>54.47</td>\n",
       "      <td>4.000</td>\n",
       "      <td>192.327265</td>\n",
       "      <td>8.667</td>\n",
       "    </tr>\n",
       "    <tr>\n",
       "      <th>6433</th>\n",
       "      <td>718125.53</td>\n",
       "      <td>56.47</td>\n",
       "      <td>3.969</td>\n",
       "      <td>192.330854</td>\n",
       "      <td>8.667</td>\n",
       "    </tr>\n",
       "    <tr>\n",
       "      <th>6434</th>\n",
       "      <td>760281.43</td>\n",
       "      <td>58.85</td>\n",
       "      <td>3.882</td>\n",
       "      <td>192.308899</td>\n",
       "      <td>8.667</td>\n",
       "    </tr>\n",
       "  </tbody>\n",
       "</table>\n",
       "<p>6435 rows × 5 columns</p>\n",
       "</div>"
      ],
      "text/plain": [
       "      Weekly_Sales  Temperature  Fuel_Price         CPI  Unemployment\n",
       "0       1643690.90        42.31       2.572  211.096358         8.106\n",
       "1       1641957.44        38.51       2.548  211.242170         8.106\n",
       "2       1611968.17        39.93       2.514  211.289143         8.106\n",
       "3       1409727.59        46.63       2.561  211.319643         8.106\n",
       "4       1554806.68        46.50       2.625  211.350143         8.106\n",
       "...            ...          ...         ...         ...           ...\n",
       "6430     713173.95        64.88       3.997  192.013558         8.684\n",
       "6431     733455.07        64.89       3.985  192.170412         8.667\n",
       "6432     734464.36        54.47       4.000  192.327265         8.667\n",
       "6433     718125.53        56.47       3.969  192.330854         8.667\n",
       "6434     760281.43        58.85       3.882  192.308899         8.667\n",
       "\n",
       "[6435 rows x 5 columns]"
      ]
     },
     "execution_count": 8,
     "metadata": {},
     "output_type": "execute_result"
    }
   ],
   "source": [
    "wallmart[['Weekly_Sales', 'Temperature', 'Fuel_Price', 'CPI', 'Unemployment']]"
   ]
  },
  {
   "cell_type": "code",
   "execution_count": 9,
   "metadata": {},
   "outputs": [],
   "source": [
    "X_data=wallmart[['Weekly_Sales', 'Temperature', 'Fuel_Price', 'Unemployment']]"
   ]
  },
  {
   "cell_type": "code",
   "execution_count": 10,
   "metadata": {},
   "outputs": [],
   "source": [
    "y_data=wallmart['CPI']"
   ]
  },
  {
   "cell_type": "code",
   "execution_count": 11,
   "metadata": {},
   "outputs": [],
   "source": [
    "from sklearn.preprocessing import MinMaxScaler\n",
    "from sklearn.model_selection import train_test_split"
   ]
  },
  {
   "cell_type": "code",
   "execution_count": 12,
   "metadata": {},
   "outputs": [],
   "source": [
    "scaler = MinMaxScaler()\n",
    "X_data_scaled = scaler.fit_transform(X_data)"
   ]
  },
  {
   "cell_type": "code",
   "execution_count": 13,
   "metadata": {},
   "outputs": [
    {
     "data": {
      "text/plain": [
       "array([[0.39729115, 0.43414873, 0.0501002 , 0.40511788],\n",
       "       [0.39681079, 0.39696673, 0.03807615, 0.40511788],\n",
       "       [0.38850052, 0.41086106, 0.02104208, 0.40511788],\n",
       "       ...,\n",
       "       [0.14533712, 0.55313112, 0.76553106, 0.45888442],\n",
       "       [0.1408095 , 0.57270059, 0.75      , 0.45888442],\n",
       "       [0.15249124, 0.59598826, 0.70641283, 0.45888442]])"
      ]
     },
     "execution_count": 13,
     "metadata": {},
     "output_type": "execute_result"
    }
   ],
   "source": [
    "X_data_scaled"
   ]
  },
  {
   "cell_type": "code",
   "execution_count": 14,
   "metadata": {},
   "outputs": [
    {
     "name": "stdout",
     "output_type": "stream",
     "text": [
      "(5791, 4) (5791,)\n",
      "(644, 4) (644,)\n"
     ]
    }
   ],
   "source": [
    "X_train, X_test, y_train, y_test = train_test_split(X_data, y_data, \n",
    "                                                    test_size=0.1, \n",
    "                                                    shuffle=True, \n",
    "                                                    random_state=11)\n",
    "print(X_train.shape, y_train.shape)\n",
    "print(X_test.shape, y_test.shape)"
   ]
  },
  {
   "cell_type": "code",
   "execution_count": 15,
   "metadata": {},
   "outputs": [],
   "source": [
    "from tensorflow.keras import Sequential\n",
    "from tensorflow.keras.layers import Dense"
   ]
  },
  {
   "cell_type": "code",
   "execution_count": 16,
   "metadata": {},
   "outputs": [],
   "source": [
    "# 레이어를 순서대로 쌓을 수 있도록 객체를 생성\n",
    "model=Sequential()\n",
    "model.add(Dense(2048, activation='relu', input_dim=4))\n",
    "model.add(Dense(1024, activation='relu'))\n",
    "model.add(Dense(512, activation='relu'))\n",
    "model.add(Dense(256, activation='relu'))\n",
    "model.add(Dense(128, activation='relu'))\n",
    "model.add(Dense(64, activation='relu'))\n",
    "model.add(Dense(32, activation='relu'))\n",
    "model.add(Dense(16, activation='relu'))\n",
    "model.add(Dense(1, activation='linear')) # 회귀일 때, 마지막 출력층의 활성화 함수"
   ]
  },
  {
   "cell_type": "code",
   "execution_count": 17,
   "metadata": {},
   "outputs": [],
   "source": [
    "# 쌓은 것으로 모델 세팅\n",
    "model.compile(optimizer='adam', loss='mse', metrics=['mae']) "
   ]
  },
  {
   "cell_type": "code",
   "execution_count": 18,
   "metadata": {},
   "outputs": [
    {
     "name": "stdout",
     "output_type": "stream",
     "text": [
      "Model: \"sequential\"\n",
      "_________________________________________________________________\n",
      " Layer (type)                Output Shape              Param #   \n",
      "=================================================================\n",
      " dense (Dense)               (None, 2048)              10240     \n",
      "                                                                 \n",
      " dense_1 (Dense)             (None, 1024)              2098176   \n",
      "                                                                 \n",
      " dense_2 (Dense)             (None, 512)               524800    \n",
      "                                                                 \n",
      " dense_3 (Dense)             (None, 256)               131328    \n",
      "                                                                 \n",
      " dense_4 (Dense)             (None, 128)               32896     \n",
      "                                                                 \n",
      " dense_5 (Dense)             (None, 64)                8256      \n",
      "                                                                 \n",
      " dense_6 (Dense)             (None, 32)                2080      \n",
      "                                                                 \n",
      " dense_7 (Dense)             (None, 16)                528       \n",
      "                                                                 \n",
      " dense_8 (Dense)             (None, 1)                 17        \n",
      "                                                                 \n",
      "=================================================================\n",
      "Total params: 2,808,321\n",
      "Trainable params: 2,808,321\n",
      "Non-trainable params: 0\n",
      "_________________________________________________________________\n"
     ]
    }
   ],
   "source": [
    "# 모델에 세팅한 내용을 요약해서 프린트\n",
    "model.summary()"
   ]
  },
  {
   "cell_type": "code",
   "execution_count": 19,
   "metadata": {
    "scrolled": true
   },
   "outputs": [
    {
     "name": "stdout",
     "output_type": "stream",
     "text": [
      "Epoch 1/100\n",
      "181/181 - 3s - loss: 13055207.0000 - mae: 1154.1127 - 3s/epoch - 17ms/step\n",
      "Epoch 2/100\n",
      "181/181 - 2s - loss: 35115.5977 - mae: 146.4068 - 2s/epoch - 14ms/step\n",
      "Epoch 3/100\n",
      "181/181 - 3s - loss: 636407.7500 - mae: 491.2667 - 3s/epoch - 14ms/step\n",
      "Epoch 4/100\n",
      "181/181 - 2s - loss: 26668.5293 - mae: 130.7419 - 2s/epoch - 14ms/step\n",
      "Epoch 5/100\n",
      "181/181 - 2s - loss: 88831.3828 - mae: 213.5937 - 2s/epoch - 14ms/step\n",
      "Epoch 6/100\n",
      "181/181 - 2s - loss: 30224.3555 - mae: 137.8871 - 2s/epoch - 14ms/step\n",
      "Epoch 7/100\n",
      "181/181 - 2s - loss: 171722.8906 - mae: 282.4940 - 2s/epoch - 14ms/step\n",
      "Epoch 8/100\n",
      "181/181 - 3s - loss: 34748.8086 - mae: 128.1727 - 3s/epoch - 14ms/step\n",
      "Epoch 9/100\n",
      "181/181 - 2s - loss: 145124.3281 - mae: 216.3967 - 2s/epoch - 14ms/step\n",
      "Epoch 10/100\n",
      "181/181 - 2s - loss: 49477.0742 - mae: 155.8333 - 2s/epoch - 14ms/step\n",
      "Epoch 11/100\n",
      "181/181 - 2s - loss: 16794.8301 - mae: 105.3903 - 2s/epoch - 14ms/step\n",
      "Epoch 12/100\n",
      "181/181 - 2s - loss: 24335.2266 - mae: 124.0378 - 2s/epoch - 14ms/step\n",
      "Epoch 13/100\n",
      "181/181 - 3s - loss: 14185.8359 - mae: 97.6929 - 3s/epoch - 14ms/step\n",
      "Epoch 14/100\n",
      "181/181 - 2s - loss: 39748.7773 - mae: 147.4747 - 2s/epoch - 14ms/step\n",
      "Epoch 15/100\n",
      "181/181 - 2s - loss: 17553.5645 - mae: 106.0805 - 2s/epoch - 14ms/step\n",
      "Epoch 16/100\n",
      "181/181 - 3s - loss: 25375.3535 - mae: 124.2145 - 3s/epoch - 14ms/step\n",
      "Epoch 17/100\n",
      "181/181 - 2s - loss: 28171.2930 - mae: 127.3390 - 2s/epoch - 14ms/step\n",
      "Epoch 18/100\n",
      "181/181 - 3s - loss: 46836.8008 - mae: 142.8761 - 3s/epoch - 14ms/step\n",
      "Epoch 19/100\n",
      "181/181 - 3s - loss: 14308.8369 - mae: 99.1229 - 3s/epoch - 15ms/step\n",
      "Epoch 20/100\n",
      "181/181 - 3s - loss: 29166.9023 - mae: 125.5664 - 3s/epoch - 14ms/step\n",
      "Epoch 21/100\n",
      "181/181 - 3s - loss: 16954.5410 - mae: 107.3940 - 3s/epoch - 14ms/step\n",
      "Epoch 22/100\n",
      "181/181 - 3s - loss: 10471.8184 - mae: 84.7322 - 3s/epoch - 14ms/step\n",
      "Epoch 23/100\n",
      "181/181 - 3s - loss: 11047.8350 - mae: 87.0869 - 3s/epoch - 14ms/step\n",
      "Epoch 24/100\n",
      "181/181 - 3s - loss: 2181505.7500 - mae: 435.7999 - 3s/epoch - 14ms/step\n",
      "Epoch 25/100\n",
      "181/181 - 3s - loss: 30747.1797 - mae: 170.8852 - 3s/epoch - 14ms/step\n",
      "Epoch 26/100\n",
      "181/181 - 3s - loss: 30727.0957 - mae: 170.8265 - 3s/epoch - 14ms/step\n",
      "Epoch 27/100\n",
      "181/181 - 3s - loss: 30705.3516 - mae: 170.7628 - 3s/epoch - 14ms/step\n",
      "Epoch 28/100\n",
      "181/181 - 3s - loss: 30681.8340 - mae: 170.6938 - 3s/epoch - 14ms/step\n",
      "Epoch 29/100\n",
      "181/181 - 3s - loss: 30656.4590 - mae: 170.6196 - 3s/epoch - 14ms/step\n",
      "Epoch 30/100\n",
      "181/181 - 3s - loss: 30629.1465 - mae: 170.5393 - 3s/epoch - 14ms/step\n",
      "Epoch 31/100\n",
      "181/181 - 3s - loss: 30599.8223 - mae: 170.4536 - 3s/epoch - 14ms/step\n",
      "Epoch 32/100\n",
      "181/181 - 3s - loss: 30568.4453 - mae: 170.3616 - 3s/epoch - 15ms/step\n",
      "Epoch 33/100\n",
      "181/181 - 3s - loss: 30534.9824 - mae: 170.2632 - 3s/epoch - 14ms/step\n",
      "Epoch 34/100\n",
      "181/181 - 3s - loss: 30499.4199 - mae: 170.1587 - 3s/epoch - 14ms/step\n",
      "Epoch 35/100\n",
      "181/181 - 2s - loss: 30461.7402 - mae: 170.0480 - 2s/epoch - 14ms/step\n",
      "Epoch 36/100\n",
      "181/181 - 2s - loss: 30422.0117 - mae: 169.9311 - 2s/epoch - 14ms/step\n",
      "Epoch 37/100\n",
      "181/181 - 3s - loss: 30380.2754 - mae: 169.8083 - 3s/epoch - 14ms/step\n",
      "Epoch 38/100\n",
      "181/181 - 3s - loss: 30336.5918 - mae: 169.6796 - 3s/epoch - 15ms/step\n",
      "Epoch 39/100\n",
      "181/181 - 3s - loss: 30291.0801 - mae: 169.5454 - 3s/epoch - 14ms/step\n",
      "Epoch 40/100\n",
      "181/181 - 3s - loss: 30243.8438 - mae: 169.4060 - 3s/epoch - 14ms/step\n",
      "Epoch 41/100\n",
      "181/181 - 3s - loss: 30195.0234 - mae: 169.2616 - 3s/epoch - 14ms/step\n",
      "Epoch 42/100\n",
      "181/181 - 3s - loss: 30144.7383 - mae: 169.1133 - 3s/epoch - 14ms/step\n",
      "Epoch 43/100\n",
      "181/181 - 3s - loss: 30093.1328 - mae: 168.9607 - 3s/epoch - 14ms/step\n",
      "Epoch 44/100\n",
      "181/181 - 3s - loss: 30040.3418 - mae: 168.8043 - 3s/epoch - 14ms/step\n",
      "Epoch 45/100\n",
      "181/181 - 3s - loss: 29986.4980 - mae: 168.6448 - 3s/epoch - 14ms/step\n",
      "Epoch 46/100\n",
      "181/181 - 3s - loss: 29931.7500 - mae: 168.4823 - 3s/epoch - 14ms/step\n",
      "Epoch 47/100\n",
      "181/181 - 3s - loss: 29876.2031 - mae: 168.3175 - 3s/epoch - 15ms/step\n",
      "Epoch 48/100\n",
      "181/181 - 3s - loss: 29819.9824 - mae: 168.1501 - 3s/epoch - 15ms/step\n",
      "Epoch 49/100\n",
      "181/181 - 3s - loss: 29763.1660 - mae: 167.9812 - 3s/epoch - 15ms/step\n",
      "Epoch 50/100\n",
      "181/181 - 3s - loss: 29705.8516 - mae: 167.8108 - 3s/epoch - 15ms/step\n",
      "Epoch 51/100\n",
      "181/181 - 3s - loss: 29648.1289 - mae: 167.6388 - 3s/epoch - 14ms/step\n",
      "Epoch 52/100\n",
      "181/181 - 3s - loss: 29590.0527 - mae: 167.4654 - 3s/epoch - 15ms/step\n",
      "Epoch 53/100\n",
      "181/181 - 3s - loss: 29531.6973 - mae: 167.2911 - 3s/epoch - 14ms/step\n",
      "Epoch 54/100\n",
      "181/181 - 3s - loss: 29473.1172 - mae: 167.1157 - 3s/epoch - 14ms/step\n",
      "Epoch 55/100\n",
      "181/181 - 3s - loss: 29414.3633 - mae: 166.9398 - 3s/epoch - 15ms/step\n",
      "Epoch 56/100\n",
      "181/181 - 3s - loss: 29355.4551 - mae: 166.7636 - 3s/epoch - 14ms/step\n",
      "Epoch 57/100\n",
      "181/181 - 3s - loss: 29296.4453 - mae: 166.5863 - 3s/epoch - 14ms/step\n",
      "Epoch 58/100\n",
      "181/181 - 3s - loss: 29237.3438 - mae: 166.4090 - 3s/epoch - 14ms/step\n",
      "Epoch 59/100\n",
      "181/181 - 3s - loss: 29178.1953 - mae: 166.2308 - 3s/epoch - 14ms/step\n",
      "Epoch 60/100\n",
      "181/181 - 3s - loss: 29118.9824 - mae: 166.0529 - 3s/epoch - 14ms/step\n",
      "Epoch 61/100\n",
      "181/181 - 3s - loss: 29059.7637 - mae: 165.8744 - 3s/epoch - 14ms/step\n",
      "Epoch 62/100\n",
      "181/181 - 3s - loss: 29000.5254 - mae: 165.6958 - 3s/epoch - 16ms/step\n",
      "Epoch 63/100\n",
      "181/181 - 3s - loss: 28941.2930 - mae: 165.5172 - 3s/epoch - 16ms/step\n",
      "Epoch 64/100\n",
      "181/181 - 3s - loss: 28882.0664 - mae: 165.3379 - 3s/epoch - 15ms/step\n",
      "Epoch 65/100\n",
      "181/181 - 3s - loss: 28822.8711 - mae: 165.1588 - 3s/epoch - 15ms/step\n",
      "Epoch 66/100\n",
      "181/181 - 3s - loss: 28763.7031 - mae: 164.9796 - 3s/epoch - 14ms/step\n",
      "Epoch 67/100\n",
      "181/181 - 3s - loss: 28704.5664 - mae: 164.8002 - 3s/epoch - 16ms/step\n",
      "Epoch 68/100\n",
      "181/181 - 3s - loss: 28645.4844 - mae: 164.6210 - 3s/epoch - 17ms/step\n",
      "Epoch 69/100\n",
      "181/181 - 3s - loss: 28586.4297 - mae: 164.4417 - 3s/epoch - 15ms/step\n",
      "Epoch 70/100\n",
      "181/181 - 3s - loss: 28527.4316 - mae: 164.2620 - 3s/epoch - 14ms/step\n",
      "Epoch 71/100\n",
      "181/181 - 3s - loss: 28468.4844 - mae: 164.0823 - 3s/epoch - 15ms/step\n",
      "Epoch 72/100\n",
      "181/181 - 3s - loss: 28409.5898 - mae: 163.9027 - 3s/epoch - 14ms/step\n",
      "Epoch 73/100\n",
      "181/181 - 3s - loss: 28350.7383 - mae: 163.7234 - 3s/epoch - 14ms/step\n",
      "Epoch 74/100\n",
      "181/181 - 3s - loss: 28291.9629 - mae: 163.5436 - 3s/epoch - 14ms/step\n",
      "Epoch 75/100\n",
      "181/181 - 3s - loss: 28233.2246 - mae: 163.3641 - 3s/epoch - 14ms/step\n",
      "Epoch 76/100\n",
      "181/181 - 3s - loss: 28174.5449 - mae: 163.1843 - 3s/epoch - 14ms/step\n",
      "Epoch 77/100\n",
      "181/181 - 3s - loss: 28115.9453 - mae: 163.0046 - 3s/epoch - 14ms/step\n",
      "Epoch 78/100\n",
      "181/181 - 3s - loss: 28057.3906 - mae: 162.8252 - 3s/epoch - 14ms/step\n",
      "Epoch 79/100\n",
      "181/181 - 3s - loss: 27998.8984 - mae: 162.6453 - 3s/epoch - 14ms/step\n",
      "Epoch 80/100\n",
      "181/181 - 3s - loss: 27940.4590 - mae: 162.4657 - 3s/epoch - 14ms/step\n",
      "Epoch 81/100\n",
      "181/181 - 3s - loss: 27882.1113 - mae: 162.2856 - 3s/epoch - 14ms/step\n",
      "Epoch 82/100\n",
      "181/181 - 3s - loss: 27823.8223 - mae: 162.1061 - 3s/epoch - 14ms/step\n",
      "Epoch 83/100\n",
      "181/181 - 3s - loss: 27765.5723 - mae: 161.9266 - 3s/epoch - 17ms/step\n",
      "Epoch 84/100\n",
      "181/181 - 3s - loss: 27707.4141 - mae: 161.7466 - 3s/epoch - 14ms/step\n",
      "Epoch 85/100\n",
      "181/181 - 3s - loss: 27649.2949 - mae: 161.5670 - 3s/epoch - 15ms/step\n",
      "Epoch 86/100\n",
      "181/181 - 3s - loss: 27591.2637 - mae: 161.3873 - 3s/epoch - 15ms/step\n",
      "Epoch 87/100\n",
      "181/181 - 3s - loss: 27533.2754 - mae: 161.2076 - 3s/epoch - 15ms/step\n",
      "Epoch 88/100\n",
      "181/181 - 3s - loss: 27475.3457 - mae: 161.0277 - 3s/epoch - 14ms/step\n",
      "Epoch 89/100\n",
      "181/181 - 3s - loss: 27417.4961 - mae: 160.8483 - 3s/epoch - 14ms/step\n",
      "Epoch 90/100\n",
      "181/181 - 3s - loss: 27359.7090 - mae: 160.6684 - 3s/epoch - 14ms/step\n",
      "Epoch 91/100\n",
      "181/181 - 3s - loss: 27301.9863 - mae: 160.4886 - 3s/epoch - 15ms/step\n",
      "Epoch 92/100\n",
      "181/181 - 3s - loss: 27244.3438 - mae: 160.3088 - 3s/epoch - 15ms/step\n",
      "Epoch 93/100\n",
      "181/181 - 3s - loss: 27186.7461 - mae: 160.1291 - 3s/epoch - 16ms/step\n",
      "Epoch 94/100\n",
      "181/181 - 3s - loss: 27129.2305 - mae: 159.9495 - 3s/epoch - 14ms/step\n",
      "Epoch 95/100\n",
      "181/181 - 3s - loss: 27071.7812 - mae: 159.7696 - 3s/epoch - 14ms/step\n",
      "Epoch 96/100\n",
      "181/181 - 3s - loss: 27014.3926 - mae: 159.5897 - 3s/epoch - 14ms/step\n",
      "Epoch 97/100\n",
      "181/181 - 3s - loss: 26957.0605 - mae: 159.4107 - 3s/epoch - 15ms/step\n",
      "Epoch 98/100\n",
      "181/181 - 3s - loss: 26899.7871 - mae: 159.2303 - 3s/epoch - 15ms/step\n"
     ]
    },
    {
     "name": "stdout",
     "output_type": "stream",
     "text": [
      "Epoch 99/100\n",
      "181/181 - 3s - loss: 26842.6035 - mae: 159.0509 - 3s/epoch - 15ms/step\n",
      "Epoch 100/100\n",
      "181/181 - 3s - loss: 26785.4473 - mae: 158.8715 - 3s/epoch - 15ms/step\n"
     ]
    },
    {
     "data": {
      "text/plain": [
       "<keras.callbacks.History at 0x2951b0fefc8>"
      ]
     },
     "execution_count": 19,
     "metadata": {},
     "output_type": "execute_result"
    }
   ],
   "source": [
    "model.fit(X_train, y_train, epochs=100, batch_size=32, verbose=2)"
   ]
  },
  {
   "cell_type": "code",
   "execution_count": 20,
   "metadata": {},
   "outputs": [
    {
     "name": "stdout",
     "output_type": "stream",
     "text": [
      "21/21 [==============================] - 0s 4ms/step - loss: 27677.8906 - mae: 161.5755\n"
     ]
    },
    {
     "data": {
      "text/plain": [
       "[27677.890625, 161.57546997070312]"
      ]
     },
     "execution_count": 20,
     "metadata": {},
     "output_type": "execute_result"
    }
   ],
   "source": [
    "model.evaluate(X_test, y_test)"
   ]
  },
  {
   "cell_type": "code",
   "execution_count": 21,
   "metadata": {},
   "outputs": [
    {
     "data": {
      "text/plain": [
       "array([[12.517984],\n",
       "       [12.517984],\n",
       "       [12.517984],\n",
       "       [12.517984],\n",
       "       [12.517984]], dtype=float32)"
      ]
     },
     "execution_count": 21,
     "metadata": {},
     "output_type": "execute_result"
    }
   ],
   "source": [
    "predict_test=model.predict(X_test)\n",
    "predict_test[:5]"
   ]
  },
  {
   "cell_type": "code",
   "execution_count": 22,
   "metadata": {},
   "outputs": [
    {
     "data": {
      "text/plain": [
       "3858    142.937617\n",
       "4669    129.826833\n",
       "1055    216.631038\n",
       "4718    131.193097\n",
       "4923    138.063893\n",
       "Name: CPI, dtype: float64"
      ]
     },
     "execution_count": 22,
     "metadata": {},
     "output_type": "execute_result"
    }
   ],
   "source": [
    "y_test[:5] #실제 값, 위는 예측 값"
   ]
  },
  {
   "cell_type": "code",
   "execution_count": 23,
   "metadata": {},
   "outputs": [],
   "source": [
    "from sklearn.metrics import r2_score"
   ]
  },
  {
   "cell_type": "code",
   "execution_count": 24,
   "metadata": {},
   "outputs": [],
   "source": [
    "R2=r2_score(y_test, predict_test)"
   ]
  },
  {
   "cell_type": "code",
   "execution_count": 25,
   "metadata": {},
   "outputs": [
    {
     "data": {
      "text/plain": [
       "-16.61505133151696"
      ]
     },
     "execution_count": 25,
     "metadata": {},
     "output_type": "execute_result"
    }
   ],
   "source": [
    "R2"
   ]
  },
  {
   "cell_type": "code",
   "execution_count": null,
   "metadata": {},
   "outputs": [],
   "source": []
  }
 ],
 "metadata": {
  "kernelspec": {
   "display_name": "Python 3",
   "language": "python",
   "name": "python3"
  },
  "language_info": {
   "codemirror_mode": {
    "name": "ipython",
    "version": 3
   },
   "file_extension": ".py",
   "mimetype": "text/x-python",
   "name": "python",
   "nbconvert_exporter": "python",
   "pygments_lexer": "ipython3",
   "version": "3.7.4"
  }
 },
 "nbformat": 4,
 "nbformat_minor": 2
}
