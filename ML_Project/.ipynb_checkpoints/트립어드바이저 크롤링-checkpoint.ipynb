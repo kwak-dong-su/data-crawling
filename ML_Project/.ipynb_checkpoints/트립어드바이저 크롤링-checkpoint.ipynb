{
 "cells": [
  {
   "cell_type": "code",
   "execution_count": 1,
   "metadata": {},
   "outputs": [],
   "source": [
    "from urllib import request"
   ]
  },
  {
   "cell_type": "code",
   "execution_count": 2,
   "metadata": {},
   "outputs": [],
   "source": [
    "from bs4 import BeautifulSoup"
   ]
  },
  {
   "cell_type": "code",
   "execution_count": 3,
   "metadata": {},
   "outputs": [],
   "source": [
    "import pandas as pd"
   ]
  },
  {
   "cell_type": "code",
   "execution_count": 4,
   "metadata": {},
   "outputs": [],
   "source": [
    "df=pd.read_csv('place table region.csv')"
   ]
  },
  {
   "cell_type": "code",
   "execution_count": 8,
   "metadata": {},
   "outputs": [],
   "source": [
    "# 남산 서울타워,경복궁, 군산 선유도, 제주 한라산, 잠실 롯데월드"
   ]
  },
  {
   "cell_type": "code",
   "execution_count": 9,
   "metadata": {},
   "outputs": [],
   "source": [
    "# https://www.tripadvisor.co.kr/Attraction_Review-g294197-d1169465-Reviews-or10-N_Seoul_Tower-Seoul.html"
   ]
  },
  {
   "cell_type": "code",
   "execution_count": 10,
   "metadata": {},
   "outputs": [],
   "source": [
    "review_list=[]\n",
    "writer_list=[]"
   ]
  },
  {
   "cell_type": "code",
   "execution_count": null,
   "metadata": {},
   "outputs": [],
   "source": [
    "for i in range(1, 11):\n",
    "    con=request.urlopen('https://www.tripadvisor.co.kr/Attraction_Review-g294197-d1169465-Reviews-or'+str(i)+'0-N_Seoul_Tower-Seoul.html') \n",
    "    # 1~10페이지 까지의 url을 요청\n",
    "    doc = BeautifulSoup(con, 'html.parser')\n",
    "    review_list+=doc.select('')\n",
    "    writer_list+=doc.select('')\n",
    "# TripAdvisor 사이트의 서울타워 리뷰를 1~10페이지까지 크롤링하여 list에 저장"
   ]
  },
  {
   "cell_type": "code",
   "execution_count": null,
   "metadata": {},
   "outputs": [],
   "source": [
    "con=request.urlopen('https://www.tripadvisor.co.kr/Attraction_Review-g294197-d1169465-Reviews-or10-N_Seoul_Tower-Seoul.html')"
   ]
  },
  {
   "cell_type": "code",
   "execution_count": null,
   "metadata": {},
   "outputs": [],
   "source": []
  }
 ],
 "metadata": {
  "kernelspec": {
   "display_name": "Python 3",
   "language": "python",
   "name": "python3"
  },
  "language_info": {
   "codemirror_mode": {
    "name": "ipython",
    "version": 3
   },
   "file_extension": ".py",
   "mimetype": "text/x-python",
   "name": "python",
   "nbconvert_exporter": "python",
   "pygments_lexer": "ipython3",
   "version": "3.7.4"
  }
 },
 "nbformat": 4,
 "nbformat_minor": 2
}
