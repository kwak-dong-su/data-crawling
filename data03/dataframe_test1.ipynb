{
 "cells": [
  {
   "cell_type": "code",
   "execution_count": 453,
   "metadata": {},
   "outputs": [],
   "source": [
    "import pandas as pd\n",
    "import numpy as np"
   ]
  },
  {
   "cell_type": "code",
   "execution_count": 454,
   "metadata": {},
   "outputs": [
    {
     "data": {
      "text/plain": [
       "DatetimeIndex(['2020-06-25', '2020-06-26', '2020-06-27', '2020-06-28',\n",
       "               '2020-06-29', '2020-06-30'],\n",
       "              dtype='datetime64[ns]', freq='D')"
      ]
     },
     "execution_count": 454,
     "metadata": {},
     "output_type": "execute_result"
    }
   ],
   "source": [
    "dates=pd.date_range('2020-06-25', periods=6)\n",
    "dates"
   ]
  },
  {
   "cell_type": "code",
   "execution_count": 455,
   "metadata": {},
   "outputs": [
    {
     "data": {
      "text/html": [
       "<div>\n",
       "<style scoped>\n",
       "    .dataframe tbody tr th:only-of-type {\n",
       "        vertical-align: middle;\n",
       "    }\n",
       "\n",
       "    .dataframe tbody tr th {\n",
       "        vertical-align: top;\n",
       "    }\n",
       "\n",
       "    .dataframe thead th {\n",
       "        text-align: right;\n",
       "    }\n",
       "</style>\n",
       "<table border=\"1\" class=\"dataframe\">\n",
       "  <thead>\n",
       "    <tr style=\"text-align: right;\">\n",
       "      <th></th>\n",
       "      <th>A</th>\n",
       "      <th>B</th>\n",
       "      <th>C</th>\n",
       "      <th>D</th>\n",
       "    </tr>\n",
       "  </thead>\n",
       "  <tbody>\n",
       "    <tr>\n",
       "      <td>2020-06-25</td>\n",
       "      <td>1.737778</td>\n",
       "      <td>0.263825</td>\n",
       "      <td>2.252705</td>\n",
       "      <td>-0.330703</td>\n",
       "    </tr>\n",
       "    <tr>\n",
       "      <td>2020-06-26</td>\n",
       "      <td>-0.171490</td>\n",
       "      <td>0.212392</td>\n",
       "      <td>0.541113</td>\n",
       "      <td>0.327071</td>\n",
       "    </tr>\n",
       "    <tr>\n",
       "      <td>2020-06-27</td>\n",
       "      <td>0.376239</td>\n",
       "      <td>0.118295</td>\n",
       "      <td>-0.338375</td>\n",
       "      <td>0.584791</td>\n",
       "    </tr>\n",
       "    <tr>\n",
       "      <td>2020-06-28</td>\n",
       "      <td>0.263223</td>\n",
       "      <td>1.122000</td>\n",
       "      <td>2.090053</td>\n",
       "      <td>0.479171</td>\n",
       "    </tr>\n",
       "    <tr>\n",
       "      <td>2020-06-29</td>\n",
       "      <td>0.465995</td>\n",
       "      <td>-0.076793</td>\n",
       "      <td>0.569960</td>\n",
       "      <td>-0.416972</td>\n",
       "    </tr>\n",
       "    <tr>\n",
       "      <td>2020-06-30</td>\n",
       "      <td>0.218840</td>\n",
       "      <td>-1.870617</td>\n",
       "      <td>-0.106688</td>\n",
       "      <td>2.084369</td>\n",
       "    </tr>\n",
       "  </tbody>\n",
       "</table>\n",
       "</div>"
      ],
      "text/plain": [
       "                   A         B         C         D\n",
       "2020-06-25  1.737778  0.263825  2.252705 -0.330703\n",
       "2020-06-26 -0.171490  0.212392  0.541113  0.327071\n",
       "2020-06-27  0.376239  0.118295 -0.338375  0.584791\n",
       "2020-06-28  0.263223  1.122000  2.090053  0.479171\n",
       "2020-06-29  0.465995 -0.076793  0.569960 -0.416972\n",
       "2020-06-30  0.218840 -1.870617 -0.106688  2.084369"
      ]
     },
     "execution_count": 455,
     "metadata": {},
     "output_type": "execute_result"
    }
   ],
   "source": [
    "df=pd.DataFrame(np.random.randn(6, 4), index=[dates] ,columns=['A','B','C','D'])\n",
    "df"
   ]
  },
  {
   "cell_type": "code",
   "execution_count": 456,
   "metadata": {},
   "outputs": [
    {
     "data": {
      "text/html": [
       "<div>\n",
       "<style scoped>\n",
       "    .dataframe tbody tr th:only-of-type {\n",
       "        vertical-align: middle;\n",
       "    }\n",
       "\n",
       "    .dataframe tbody tr th {\n",
       "        vertical-align: top;\n",
       "    }\n",
       "\n",
       "    .dataframe thead th {\n",
       "        text-align: right;\n",
       "    }\n",
       "</style>\n",
       "<table border=\"1\" class=\"dataframe\">\n",
       "  <thead>\n",
       "    <tr style=\"text-align: right;\">\n",
       "      <th></th>\n",
       "      <th>A</th>\n",
       "      <th>B</th>\n",
       "      <th>C</th>\n",
       "      <th>D</th>\n",
       "    </tr>\n",
       "  </thead>\n",
       "  <tbody>\n",
       "    <tr>\n",
       "      <td>2020-06-25</td>\n",
       "      <td>1.737778</td>\n",
       "      <td>0.263825</td>\n",
       "      <td>2.252705</td>\n",
       "      <td>-0.330703</td>\n",
       "    </tr>\n",
       "    <tr>\n",
       "      <td>2020-06-26</td>\n",
       "      <td>-0.171490</td>\n",
       "      <td>0.212392</td>\n",
       "      <td>0.541113</td>\n",
       "      <td>0.327071</td>\n",
       "    </tr>\n",
       "    <tr>\n",
       "      <td>2020-06-27</td>\n",
       "      <td>0.376239</td>\n",
       "      <td>0.118295</td>\n",
       "      <td>-0.338375</td>\n",
       "      <td>0.584791</td>\n",
       "    </tr>\n",
       "    <tr>\n",
       "      <td>2020-06-28</td>\n",
       "      <td>0.263223</td>\n",
       "      <td>1.122000</td>\n",
       "      <td>2.090053</td>\n",
       "      <td>0.479171</td>\n",
       "    </tr>\n",
       "    <tr>\n",
       "      <td>2020-06-29</td>\n",
       "      <td>0.465995</td>\n",
       "      <td>-0.076793</td>\n",
       "      <td>0.569960</td>\n",
       "      <td>-0.416972</td>\n",
       "    </tr>\n",
       "    <tr>\n",
       "      <td>2020-06-30</td>\n",
       "      <td>0.218840</td>\n",
       "      <td>-1.870617</td>\n",
       "      <td>-0.106688</td>\n",
       "      <td>2.084369</td>\n",
       "    </tr>\n",
       "  </tbody>\n",
       "</table>\n",
       "</div>"
      ],
      "text/plain": [
       "                   A         B         C         D\n",
       "2020-06-25  1.737778  0.263825  2.252705 -0.330703\n",
       "2020-06-26 -0.171490  0.212392  0.541113  0.327071\n",
       "2020-06-27  0.376239  0.118295 -0.338375  0.584791\n",
       "2020-06-28  0.263223  1.122000  2.090053  0.479171\n",
       "2020-06-29  0.465995 -0.076793  0.569960 -0.416972\n",
       "2020-06-30  0.218840 -1.870617 -0.106688  2.084369"
      ]
     },
     "execution_count": 456,
     "metadata": {},
     "output_type": "execute_result"
    }
   ],
   "source": [
    "df2=df.copy()\n",
    "df2\n",
    "# df는 기본적으로 행, 열의 위치값을 가지고 있음.\n",
    "# 기본적으로 가지고 있는 위치값(index)를 이용해서 조작하는 경우\n",
    "# iloc[]를 사용!\n",
    "# 특정한 그래프나 분석시 특정 항목을 index항목으로 수동으로 설정해야하는 경우가 있음\n",
    "# 특정 항목으로 index항목으로 설정 가능한 경우는 unique한 값을 가지는 항목만\n",
    "# \"unique/not null인 값을 가지는 항목\"만\n",
    "# 설정 가능! user_id, bbs_id pk조건과 일치!"
   ]
  },
  {
   "cell_type": "code",
   "execution_count": 457,
   "metadata": {},
   "outputs": [],
   "source": [
    "df2.reset_index(inplace=True)"
   ]
  },
  {
   "cell_type": "code",
   "execution_count": 458,
   "metadata": {},
   "outputs": [
    {
     "data": {
      "text/html": [
       "<div>\n",
       "<style scoped>\n",
       "    .dataframe tbody tr th:only-of-type {\n",
       "        vertical-align: middle;\n",
       "    }\n",
       "\n",
       "    .dataframe tbody tr th {\n",
       "        vertical-align: top;\n",
       "    }\n",
       "\n",
       "    .dataframe thead th {\n",
       "        text-align: right;\n",
       "    }\n",
       "</style>\n",
       "<table border=\"1\" class=\"dataframe\">\n",
       "  <thead>\n",
       "    <tr style=\"text-align: right;\">\n",
       "      <th></th>\n",
       "      <th>level_0</th>\n",
       "      <th>A</th>\n",
       "      <th>B</th>\n",
       "      <th>C</th>\n",
       "      <th>D</th>\n",
       "    </tr>\n",
       "  </thead>\n",
       "  <tbody>\n",
       "    <tr>\n",
       "      <td>0</td>\n",
       "      <td>2020-06-25</td>\n",
       "      <td>1.737778</td>\n",
       "      <td>0.263825</td>\n",
       "      <td>2.252705</td>\n",
       "      <td>-0.330703</td>\n",
       "    </tr>\n",
       "    <tr>\n",
       "      <td>1</td>\n",
       "      <td>2020-06-26</td>\n",
       "      <td>-0.171490</td>\n",
       "      <td>0.212392</td>\n",
       "      <td>0.541113</td>\n",
       "      <td>0.327071</td>\n",
       "    </tr>\n",
       "    <tr>\n",
       "      <td>2</td>\n",
       "      <td>2020-06-27</td>\n",
       "      <td>0.376239</td>\n",
       "      <td>0.118295</td>\n",
       "      <td>-0.338375</td>\n",
       "      <td>0.584791</td>\n",
       "    </tr>\n",
       "    <tr>\n",
       "      <td>3</td>\n",
       "      <td>2020-06-28</td>\n",
       "      <td>0.263223</td>\n",
       "      <td>1.122000</td>\n",
       "      <td>2.090053</td>\n",
       "      <td>0.479171</td>\n",
       "    </tr>\n",
       "    <tr>\n",
       "      <td>4</td>\n",
       "      <td>2020-06-29</td>\n",
       "      <td>0.465995</td>\n",
       "      <td>-0.076793</td>\n",
       "      <td>0.569960</td>\n",
       "      <td>-0.416972</td>\n",
       "    </tr>\n",
       "    <tr>\n",
       "      <td>5</td>\n",
       "      <td>2020-06-30</td>\n",
       "      <td>0.218840</td>\n",
       "      <td>-1.870617</td>\n",
       "      <td>-0.106688</td>\n",
       "      <td>2.084369</td>\n",
       "    </tr>\n",
       "  </tbody>\n",
       "</table>\n",
       "</div>"
      ],
      "text/plain": [
       "     level_0         A         B         C         D\n",
       "0 2020-06-25  1.737778  0.263825  2.252705 -0.330703\n",
       "1 2020-06-26 -0.171490  0.212392  0.541113  0.327071\n",
       "2 2020-06-27  0.376239  0.118295 -0.338375  0.584791\n",
       "3 2020-06-28  0.263223  1.122000  2.090053  0.479171\n",
       "4 2020-06-29  0.465995 -0.076793  0.569960 -0.416972\n",
       "5 2020-06-30  0.218840 -1.870617 -0.106688  2.084369"
      ]
     },
     "execution_count": 458,
     "metadata": {},
     "output_type": "execute_result"
    }
   ],
   "source": [
    "df2"
   ]
  },
  {
   "cell_type": "code",
   "execution_count": 459,
   "metadata": {},
   "outputs": [],
   "source": [
    "df2.set_index('level_0', inplace=True)"
   ]
  },
  {
   "cell_type": "code",
   "execution_count": 460,
   "metadata": {},
   "outputs": [
    {
     "data": {
      "text/html": [
       "<div>\n",
       "<style scoped>\n",
       "    .dataframe tbody tr th:only-of-type {\n",
       "        vertical-align: middle;\n",
       "    }\n",
       "\n",
       "    .dataframe tbody tr th {\n",
       "        vertical-align: top;\n",
       "    }\n",
       "\n",
       "    .dataframe thead th {\n",
       "        text-align: right;\n",
       "    }\n",
       "</style>\n",
       "<table border=\"1\" class=\"dataframe\">\n",
       "  <thead>\n",
       "    <tr style=\"text-align: right;\">\n",
       "      <th></th>\n",
       "      <th>A</th>\n",
       "      <th>B</th>\n",
       "      <th>C</th>\n",
       "      <th>D</th>\n",
       "    </tr>\n",
       "    <tr>\n",
       "      <th>level_0</th>\n",
       "      <th></th>\n",
       "      <th></th>\n",
       "      <th></th>\n",
       "      <th></th>\n",
       "    </tr>\n",
       "  </thead>\n",
       "  <tbody>\n",
       "    <tr>\n",
       "      <td>2020-06-25</td>\n",
       "      <td>1.737778</td>\n",
       "      <td>0.263825</td>\n",
       "      <td>2.252705</td>\n",
       "      <td>-0.330703</td>\n",
       "    </tr>\n",
       "    <tr>\n",
       "      <td>2020-06-26</td>\n",
       "      <td>-0.171490</td>\n",
       "      <td>0.212392</td>\n",
       "      <td>0.541113</td>\n",
       "      <td>0.327071</td>\n",
       "    </tr>\n",
       "    <tr>\n",
       "      <td>2020-06-27</td>\n",
       "      <td>0.376239</td>\n",
       "      <td>0.118295</td>\n",
       "      <td>-0.338375</td>\n",
       "      <td>0.584791</td>\n",
       "    </tr>\n",
       "    <tr>\n",
       "      <td>2020-06-28</td>\n",
       "      <td>0.263223</td>\n",
       "      <td>1.122000</td>\n",
       "      <td>2.090053</td>\n",
       "      <td>0.479171</td>\n",
       "    </tr>\n",
       "    <tr>\n",
       "      <td>2020-06-29</td>\n",
       "      <td>0.465995</td>\n",
       "      <td>-0.076793</td>\n",
       "      <td>0.569960</td>\n",
       "      <td>-0.416972</td>\n",
       "    </tr>\n",
       "    <tr>\n",
       "      <td>2020-06-30</td>\n",
       "      <td>0.218840</td>\n",
       "      <td>-1.870617</td>\n",
       "      <td>-0.106688</td>\n",
       "      <td>2.084369</td>\n",
       "    </tr>\n",
       "  </tbody>\n",
       "</table>\n",
       "</div>"
      ],
      "text/plain": [
       "                   A         B         C         D\n",
       "level_0                                           \n",
       "2020-06-25  1.737778  0.263825  2.252705 -0.330703\n",
       "2020-06-26 -0.171490  0.212392  0.541113  0.327071\n",
       "2020-06-27  0.376239  0.118295 -0.338375  0.584791\n",
       "2020-06-28  0.263223  1.122000  2.090053  0.479171\n",
       "2020-06-29  0.465995 -0.076793  0.569960 -0.416972\n",
       "2020-06-30  0.218840 -1.870617 -0.106688  2.084369"
      ]
     },
     "execution_count": 460,
     "metadata": {},
     "output_type": "execute_result"
    }
   ],
   "source": [
    "df2"
   ]
  },
  {
   "cell_type": "code",
   "execution_count": 461,
   "metadata": {},
   "outputs": [],
   "source": [
    "df2['E']=df2['A']+1 #브로드캐스팅!"
   ]
  },
  {
   "cell_type": "code",
   "execution_count": 462,
   "metadata": {},
   "outputs": [
    {
     "data": {
      "text/plain": [
       "Index(['A', 'B', 'C', 'D', 'E'], dtype='object')"
      ]
     },
     "execution_count": 462,
     "metadata": {},
     "output_type": "execute_result"
    }
   ],
   "source": [
    "df2.columns"
   ]
  },
  {
   "cell_type": "code",
   "execution_count": 463,
   "metadata": {},
   "outputs": [
    {
     "data": {
      "text/plain": [
       "level_0\n",
       "2020-06-25    2.737778\n",
       "2020-06-26    0.828510\n",
       "2020-06-27    1.376239\n",
       "2020-06-28    1.263223\n",
       "2020-06-29    1.465995\n",
       "2020-06-30    1.218840\n",
       "Name: E, dtype: float64"
      ]
     },
     "execution_count": 463,
     "metadata": {},
     "output_type": "execute_result"
    }
   ],
   "source": [
    "df2['E']"
   ]
  },
  {
   "cell_type": "code",
   "execution_count": 464,
   "metadata": {},
   "outputs": [],
   "source": [
    "df2['F']=0"
   ]
  },
  {
   "cell_type": "code",
   "execution_count": 465,
   "metadata": {},
   "outputs": [
    {
     "data": {
      "text/plain": [
       "level_0\n",
       "2020-06-25    0\n",
       "2020-06-26    0\n",
       "2020-06-27    0\n",
       "2020-06-28    0\n",
       "2020-06-29    0\n",
       "2020-06-30    0\n",
       "Name: F, dtype: int64"
      ]
     },
     "execution_count": 465,
     "metadata": {},
     "output_type": "execute_result"
    }
   ],
   "source": [
    "df2['F']"
   ]
  },
  {
   "cell_type": "code",
   "execution_count": 466,
   "metadata": {},
   "outputs": [
    {
     "data": {
      "text/plain": [
       "level_0\n",
       "2020-06-25    0\n",
       "2020-06-26    1\n",
       "2020-06-27    2\n",
       "2020-06-28    3\n",
       "2020-06-29    4\n",
       "2020-06-30    5\n",
       "Name: G, dtype: int32"
      ]
     },
     "execution_count": 466,
     "metadata": {},
     "output_type": "execute_result"
    }
   ],
   "source": [
    "df2['G']=range(0, 6)\n",
    "df2['G']"
   ]
  },
  {
   "cell_type": "code",
   "execution_count": 467,
   "metadata": {},
   "outputs": [],
   "source": [
    "# 인덱스를 변경하고 싶은 경우, 기존의 인덱스를 살리고 싶으면\n",
    "# 먼저 reset_index() 하고 나서 해야함.\n",
    "# reset을 하지 않는 경우 기존 index항목은 사라짐.\n",
    "df2.set_index('G', inplace=True)"
   ]
  },
  {
   "cell_type": "code",
   "execution_count": 468,
   "metadata": {},
   "outputs": [
    {
     "data": {
      "text/plain": [
       "Index(['A', 'B', 'C', 'D', 'E', 'F'], dtype='object')"
      ]
     },
     "execution_count": 468,
     "metadata": {},
     "output_type": "execute_result"
    }
   ],
   "source": [
    "df2.columns"
   ]
  },
  {
   "cell_type": "code",
   "execution_count": 469,
   "metadata": {
    "scrolled": true
   },
   "outputs": [
    {
     "data": {
      "text/html": [
       "<div>\n",
       "<style scoped>\n",
       "    .dataframe tbody tr th:only-of-type {\n",
       "        vertical-align: middle;\n",
       "    }\n",
       "\n",
       "    .dataframe tbody tr th {\n",
       "        vertical-align: top;\n",
       "    }\n",
       "\n",
       "    .dataframe thead th {\n",
       "        text-align: right;\n",
       "    }\n",
       "</style>\n",
       "<table border=\"1\" class=\"dataframe\">\n",
       "  <thead>\n",
       "    <tr style=\"text-align: right;\">\n",
       "      <th></th>\n",
       "      <th>A</th>\n",
       "      <th>B</th>\n",
       "      <th>C</th>\n",
       "      <th>D</th>\n",
       "    </tr>\n",
       "  </thead>\n",
       "  <tbody>\n",
       "    <tr>\n",
       "      <td>2020-06-25</td>\n",
       "      <td>1.737778</td>\n",
       "      <td>0.263825</td>\n",
       "      <td>2.252705</td>\n",
       "      <td>-0.330703</td>\n",
       "    </tr>\n",
       "    <tr>\n",
       "      <td>2020-06-26</td>\n",
       "      <td>-0.171490</td>\n",
       "      <td>0.212392</td>\n",
       "      <td>0.541113</td>\n",
       "      <td>0.327071</td>\n",
       "    </tr>\n",
       "    <tr>\n",
       "      <td>2020-06-27</td>\n",
       "      <td>0.376239</td>\n",
       "      <td>0.118295</td>\n",
       "      <td>-0.338375</td>\n",
       "      <td>0.584791</td>\n",
       "    </tr>\n",
       "    <tr>\n",
       "      <td>2020-06-28</td>\n",
       "      <td>0.263223</td>\n",
       "      <td>1.122000</td>\n",
       "      <td>2.090053</td>\n",
       "      <td>0.479171</td>\n",
       "    </tr>\n",
       "    <tr>\n",
       "      <td>2020-06-29</td>\n",
       "      <td>0.465995</td>\n",
       "      <td>-0.076793</td>\n",
       "      <td>0.569960</td>\n",
       "      <td>-0.416972</td>\n",
       "    </tr>\n",
       "    <tr>\n",
       "      <td>2020-06-30</td>\n",
       "      <td>0.218840</td>\n",
       "      <td>-1.870617</td>\n",
       "      <td>-0.106688</td>\n",
       "      <td>2.084369</td>\n",
       "    </tr>\n",
       "  </tbody>\n",
       "</table>\n",
       "</div>"
      ],
      "text/plain": [
       "                   A         B         C         D\n",
       "2020-06-25  1.737778  0.263825  2.252705 -0.330703\n",
       "2020-06-26 -0.171490  0.212392  0.541113  0.327071\n",
       "2020-06-27  0.376239  0.118295 -0.338375  0.584791\n",
       "2020-06-28  0.263223  1.122000  2.090053  0.479171\n",
       "2020-06-29  0.465995 -0.076793  0.569960 -0.416972\n",
       "2020-06-30  0.218840 -1.870617 -0.106688  2.084369"
      ]
     },
     "execution_count": 469,
     "metadata": {},
     "output_type": "execute_result"
    }
   ],
   "source": [
    "df3=df.copy()\n",
    "df3"
   ]
  },
  {
   "cell_type": "code",
   "execution_count": 470,
   "metadata": {},
   "outputs": [],
   "source": [
    "import random"
   ]
  },
  {
   "cell_type": "code",
   "execution_count": 471,
   "metadata": {},
   "outputs": [],
   "source": [
    "# E항목을 파생변수로 만드세요. 1~10범위 값\n",
    "# F항목을 파생변수로 만드세요. A열과 C열의 합\n",
    "# H항목을 파생변수로 만드세요.\n",
    "# Z항목을 파생변수로 만드세요. 1~9까지의 랜덤한 값으로 설정"
   ]
  },
  {
   "cell_type": "code",
   "execution_count": 472,
   "metadata": {},
   "outputs": [
    {
     "data": {
      "text/html": [
       "<div>\n",
       "<style scoped>\n",
       "    .dataframe tbody tr th:only-of-type {\n",
       "        vertical-align: middle;\n",
       "    }\n",
       "\n",
       "    .dataframe tbody tr th {\n",
       "        vertical-align: top;\n",
       "    }\n",
       "\n",
       "    .dataframe thead th {\n",
       "        text-align: right;\n",
       "    }\n",
       "</style>\n",
       "<table border=\"1\" class=\"dataframe\">\n",
       "  <thead>\n",
       "    <tr style=\"text-align: right;\">\n",
       "      <th></th>\n",
       "      <th>A</th>\n",
       "      <th>B</th>\n",
       "      <th>C</th>\n",
       "      <th>D</th>\n",
       "      <th>E</th>\n",
       "    </tr>\n",
       "  </thead>\n",
       "  <tbody>\n",
       "    <tr>\n",
       "      <td>2020-06-25</td>\n",
       "      <td>1.737778</td>\n",
       "      <td>0.263825</td>\n",
       "      <td>2.252705</td>\n",
       "      <td>-0.330703</td>\n",
       "      <td>7</td>\n",
       "    </tr>\n",
       "    <tr>\n",
       "      <td>2020-06-26</td>\n",
       "      <td>-0.171490</td>\n",
       "      <td>0.212392</td>\n",
       "      <td>0.541113</td>\n",
       "      <td>0.327071</td>\n",
       "      <td>4</td>\n",
       "    </tr>\n",
       "    <tr>\n",
       "      <td>2020-06-27</td>\n",
       "      <td>0.376239</td>\n",
       "      <td>0.118295</td>\n",
       "      <td>-0.338375</td>\n",
       "      <td>0.584791</td>\n",
       "      <td>2</td>\n",
       "    </tr>\n",
       "    <tr>\n",
       "      <td>2020-06-28</td>\n",
       "      <td>0.263223</td>\n",
       "      <td>1.122000</td>\n",
       "      <td>2.090053</td>\n",
       "      <td>0.479171</td>\n",
       "      <td>8</td>\n",
       "    </tr>\n",
       "    <tr>\n",
       "      <td>2020-06-29</td>\n",
       "      <td>0.465995</td>\n",
       "      <td>-0.076793</td>\n",
       "      <td>0.569960</td>\n",
       "      <td>-0.416972</td>\n",
       "      <td>5</td>\n",
       "    </tr>\n",
       "    <tr>\n",
       "      <td>2020-06-30</td>\n",
       "      <td>0.218840</td>\n",
       "      <td>-1.870617</td>\n",
       "      <td>-0.106688</td>\n",
       "      <td>2.084369</td>\n",
       "      <td>7</td>\n",
       "    </tr>\n",
       "  </tbody>\n",
       "</table>\n",
       "</div>"
      ],
      "text/plain": [
       "                   A         B         C         D  E\n",
       "2020-06-25  1.737778  0.263825  2.252705 -0.330703  7\n",
       "2020-06-26 -0.171490  0.212392  0.541113  0.327071  4\n",
       "2020-06-27  0.376239  0.118295 -0.338375  0.584791  2\n",
       "2020-06-28  0.263223  1.122000  2.090053  0.479171  8\n",
       "2020-06-29  0.465995 -0.076793  0.569960 -0.416972  5\n",
       "2020-06-30  0.218840 -1.870617 -0.106688  2.084369  7"
      ]
     },
     "execution_count": 472,
     "metadata": {},
     "output_type": "execute_result"
    }
   ],
   "source": [
    "df3['E']=0\n",
    "for i in range(6):\n",
    "    df3.iloc[i,4]=random.randint(1, 10)\n",
    "df3"
   ]
  },
  {
   "cell_type": "code",
   "execution_count": 473,
   "metadata": {},
   "outputs": [
    {
     "data": {
      "text/html": [
       "<div>\n",
       "<style scoped>\n",
       "    .dataframe tbody tr th:only-of-type {\n",
       "        vertical-align: middle;\n",
       "    }\n",
       "\n",
       "    .dataframe tbody tr th {\n",
       "        vertical-align: top;\n",
       "    }\n",
       "\n",
       "    .dataframe thead th {\n",
       "        text-align: right;\n",
       "    }\n",
       "</style>\n",
       "<table border=\"1\" class=\"dataframe\">\n",
       "  <thead>\n",
       "    <tr style=\"text-align: right;\">\n",
       "      <th></th>\n",
       "      <th>A</th>\n",
       "      <th>B</th>\n",
       "      <th>C</th>\n",
       "      <th>D</th>\n",
       "      <th>E</th>\n",
       "      <th>F</th>\n",
       "    </tr>\n",
       "  </thead>\n",
       "  <tbody>\n",
       "    <tr>\n",
       "      <td>2020-06-25</td>\n",
       "      <td>1.737778</td>\n",
       "      <td>0.263825</td>\n",
       "      <td>2.252705</td>\n",
       "      <td>-0.330703</td>\n",
       "      <td>7</td>\n",
       "      <td>3.990483</td>\n",
       "    </tr>\n",
       "    <tr>\n",
       "      <td>2020-06-26</td>\n",
       "      <td>-0.171490</td>\n",
       "      <td>0.212392</td>\n",
       "      <td>0.541113</td>\n",
       "      <td>0.327071</td>\n",
       "      <td>4</td>\n",
       "      <td>0.369623</td>\n",
       "    </tr>\n",
       "    <tr>\n",
       "      <td>2020-06-27</td>\n",
       "      <td>0.376239</td>\n",
       "      <td>0.118295</td>\n",
       "      <td>-0.338375</td>\n",
       "      <td>0.584791</td>\n",
       "      <td>2</td>\n",
       "      <td>0.037864</td>\n",
       "    </tr>\n",
       "    <tr>\n",
       "      <td>2020-06-28</td>\n",
       "      <td>0.263223</td>\n",
       "      <td>1.122000</td>\n",
       "      <td>2.090053</td>\n",
       "      <td>0.479171</td>\n",
       "      <td>8</td>\n",
       "      <td>2.353276</td>\n",
       "    </tr>\n",
       "    <tr>\n",
       "      <td>2020-06-29</td>\n",
       "      <td>0.465995</td>\n",
       "      <td>-0.076793</td>\n",
       "      <td>0.569960</td>\n",
       "      <td>-0.416972</td>\n",
       "      <td>5</td>\n",
       "      <td>1.035955</td>\n",
       "    </tr>\n",
       "    <tr>\n",
       "      <td>2020-06-30</td>\n",
       "      <td>0.218840</td>\n",
       "      <td>-1.870617</td>\n",
       "      <td>-0.106688</td>\n",
       "      <td>2.084369</td>\n",
       "      <td>7</td>\n",
       "      <td>0.112152</td>\n",
       "    </tr>\n",
       "  </tbody>\n",
       "</table>\n",
       "</div>"
      ],
      "text/plain": [
       "                   A         B         C         D  E         F\n",
       "2020-06-25  1.737778  0.263825  2.252705 -0.330703  7  3.990483\n",
       "2020-06-26 -0.171490  0.212392  0.541113  0.327071  4  0.369623\n",
       "2020-06-27  0.376239  0.118295 -0.338375  0.584791  2  0.037864\n",
       "2020-06-28  0.263223  1.122000  2.090053  0.479171  8  2.353276\n",
       "2020-06-29  0.465995 -0.076793  0.569960 -0.416972  5  1.035955\n",
       "2020-06-30  0.218840 -1.870617 -0.106688  2.084369  7  0.112152"
      ]
     },
     "execution_count": 473,
     "metadata": {},
     "output_type": "execute_result"
    }
   ],
   "source": [
    "df3['F']=0\n",
    "df3['F']=df3['A']+df3['C']\n",
    "df3"
   ]
  },
  {
   "cell_type": "code",
   "execution_count": 474,
   "metadata": {},
   "outputs": [
    {
     "data": {
      "text/html": [
       "<div>\n",
       "<style scoped>\n",
       "    .dataframe tbody tr th:only-of-type {\n",
       "        vertical-align: middle;\n",
       "    }\n",
       "\n",
       "    .dataframe tbody tr th {\n",
       "        vertical-align: top;\n",
       "    }\n",
       "\n",
       "    .dataframe thead th {\n",
       "        text-align: right;\n",
       "    }\n",
       "</style>\n",
       "<table border=\"1\" class=\"dataframe\">\n",
       "  <thead>\n",
       "    <tr style=\"text-align: right;\">\n",
       "      <th></th>\n",
       "      <th>A</th>\n",
       "      <th>B</th>\n",
       "      <th>C</th>\n",
       "      <th>D</th>\n",
       "      <th>E</th>\n",
       "      <th>F</th>\n",
       "      <th>H</th>\n",
       "    </tr>\n",
       "  </thead>\n",
       "  <tbody>\n",
       "    <tr>\n",
       "      <td>2020-06-25</td>\n",
       "      <td>1.737778</td>\n",
       "      <td>0.263825</td>\n",
       "      <td>2.252705</td>\n",
       "      <td>-0.330703</td>\n",
       "      <td>7</td>\n",
       "      <td>3.990483</td>\n",
       "      <td></td>\n",
       "    </tr>\n",
       "    <tr>\n",
       "      <td>2020-06-26</td>\n",
       "      <td>-0.171490</td>\n",
       "      <td>0.212392</td>\n",
       "      <td>0.541113</td>\n",
       "      <td>0.327071</td>\n",
       "      <td>4</td>\n",
       "      <td>0.369623</td>\n",
       "      <td></td>\n",
       "    </tr>\n",
       "    <tr>\n",
       "      <td>2020-06-27</td>\n",
       "      <td>0.376239</td>\n",
       "      <td>0.118295</td>\n",
       "      <td>-0.338375</td>\n",
       "      <td>0.584791</td>\n",
       "      <td>2</td>\n",
       "      <td>0.037864</td>\n",
       "      <td></td>\n",
       "    </tr>\n",
       "    <tr>\n",
       "      <td>2020-06-28</td>\n",
       "      <td>0.263223</td>\n",
       "      <td>1.122000</td>\n",
       "      <td>2.090053</td>\n",
       "      <td>0.479171</td>\n",
       "      <td>8</td>\n",
       "      <td>2.353276</td>\n",
       "      <td></td>\n",
       "    </tr>\n",
       "    <tr>\n",
       "      <td>2020-06-29</td>\n",
       "      <td>0.465995</td>\n",
       "      <td>-0.076793</td>\n",
       "      <td>0.569960</td>\n",
       "      <td>-0.416972</td>\n",
       "      <td>5</td>\n",
       "      <td>1.035955</td>\n",
       "      <td></td>\n",
       "    </tr>\n",
       "    <tr>\n",
       "      <td>2020-06-30</td>\n",
       "      <td>0.218840</td>\n",
       "      <td>-1.870617</td>\n",
       "      <td>-0.106688</td>\n",
       "      <td>2.084369</td>\n",
       "      <td>7</td>\n",
       "      <td>0.112152</td>\n",
       "      <td></td>\n",
       "    </tr>\n",
       "  </tbody>\n",
       "</table>\n",
       "</div>"
      ],
      "text/plain": [
       "                   A         B         C         D  E         F H\n",
       "2020-06-25  1.737778  0.263825  2.252705 -0.330703  7  3.990483  \n",
       "2020-06-26 -0.171490  0.212392  0.541113  0.327071  4  0.369623  \n",
       "2020-06-27  0.376239  0.118295 -0.338375  0.584791  2  0.037864  \n",
       "2020-06-28  0.263223  1.122000  2.090053  0.479171  8  2.353276  \n",
       "2020-06-29  0.465995 -0.076793  0.569960 -0.416972  5  1.035955  \n",
       "2020-06-30  0.218840 -1.870617 -0.106688  2.084369  7  0.112152  "
      ]
     },
     "execution_count": 474,
     "metadata": {},
     "output_type": "execute_result"
    }
   ],
   "source": [
    "df3['H']=''\n",
    "df3"
   ]
  },
  {
   "cell_type": "code",
   "execution_count": 475,
   "metadata": {},
   "outputs": [
    {
     "data": {
      "text/html": [
       "<div>\n",
       "<style scoped>\n",
       "    .dataframe tbody tr th:only-of-type {\n",
       "        vertical-align: middle;\n",
       "    }\n",
       "\n",
       "    .dataframe tbody tr th {\n",
       "        vertical-align: top;\n",
       "    }\n",
       "\n",
       "    .dataframe thead th {\n",
       "        text-align: right;\n",
       "    }\n",
       "</style>\n",
       "<table border=\"1\" class=\"dataframe\">\n",
       "  <thead>\n",
       "    <tr style=\"text-align: right;\">\n",
       "      <th></th>\n",
       "      <th>A</th>\n",
       "      <th>B</th>\n",
       "      <th>C</th>\n",
       "      <th>D</th>\n",
       "      <th>E</th>\n",
       "      <th>F</th>\n",
       "      <th>H</th>\n",
       "      <th>Z</th>\n",
       "    </tr>\n",
       "  </thead>\n",
       "  <tbody>\n",
       "    <tr>\n",
       "      <td>2020-06-25</td>\n",
       "      <td>1.737778</td>\n",
       "      <td>0.263825</td>\n",
       "      <td>2.252705</td>\n",
       "      <td>-0.330703</td>\n",
       "      <td>7</td>\n",
       "      <td>3.990483</td>\n",
       "      <td></td>\n",
       "      <td>2</td>\n",
       "    </tr>\n",
       "    <tr>\n",
       "      <td>2020-06-26</td>\n",
       "      <td>-0.171490</td>\n",
       "      <td>0.212392</td>\n",
       "      <td>0.541113</td>\n",
       "      <td>0.327071</td>\n",
       "      <td>4</td>\n",
       "      <td>0.369623</td>\n",
       "      <td></td>\n",
       "      <td>3</td>\n",
       "    </tr>\n",
       "    <tr>\n",
       "      <td>2020-06-27</td>\n",
       "      <td>0.376239</td>\n",
       "      <td>0.118295</td>\n",
       "      <td>-0.338375</td>\n",
       "      <td>0.584791</td>\n",
       "      <td>2</td>\n",
       "      <td>0.037864</td>\n",
       "      <td></td>\n",
       "      <td>7</td>\n",
       "    </tr>\n",
       "    <tr>\n",
       "      <td>2020-06-28</td>\n",
       "      <td>0.263223</td>\n",
       "      <td>1.122000</td>\n",
       "      <td>2.090053</td>\n",
       "      <td>0.479171</td>\n",
       "      <td>8</td>\n",
       "      <td>2.353276</td>\n",
       "      <td></td>\n",
       "      <td>1</td>\n",
       "    </tr>\n",
       "    <tr>\n",
       "      <td>2020-06-29</td>\n",
       "      <td>0.465995</td>\n",
       "      <td>-0.076793</td>\n",
       "      <td>0.569960</td>\n",
       "      <td>-0.416972</td>\n",
       "      <td>5</td>\n",
       "      <td>1.035955</td>\n",
       "      <td></td>\n",
       "      <td>4</td>\n",
       "    </tr>\n",
       "    <tr>\n",
       "      <td>2020-06-30</td>\n",
       "      <td>0.218840</td>\n",
       "      <td>-1.870617</td>\n",
       "      <td>-0.106688</td>\n",
       "      <td>2.084369</td>\n",
       "      <td>7</td>\n",
       "      <td>0.112152</td>\n",
       "      <td></td>\n",
       "      <td>5</td>\n",
       "    </tr>\n",
       "  </tbody>\n",
       "</table>\n",
       "</div>"
      ],
      "text/plain": [
       "                   A         B         C         D  E         F H  Z\n",
       "2020-06-25  1.737778  0.263825  2.252705 -0.330703  7  3.990483    2\n",
       "2020-06-26 -0.171490  0.212392  0.541113  0.327071  4  0.369623    3\n",
       "2020-06-27  0.376239  0.118295 -0.338375  0.584791  2  0.037864    7\n",
       "2020-06-28  0.263223  1.122000  2.090053  0.479171  8  2.353276    1\n",
       "2020-06-29  0.465995 -0.076793  0.569960 -0.416972  5  1.035955    4\n",
       "2020-06-30  0.218840 -1.870617 -0.106688  2.084369  7  0.112152    5"
      ]
     },
     "execution_count": 475,
     "metadata": {},
     "output_type": "execute_result"
    }
   ],
   "source": [
    "df3['Z']=0\n",
    "for i in range(6):\n",
    "    df3.iloc[i,7]=random.randint(1, 9)\n",
    "df3"
   ]
  },
  {
   "cell_type": "code",
   "execution_count": 476,
   "metadata": {
    "scrolled": true
   },
   "outputs": [
    {
     "data": {
      "text/html": [
       "<div>\n",
       "<style scoped>\n",
       "    .dataframe tbody tr th:only-of-type {\n",
       "        vertical-align: middle;\n",
       "    }\n",
       "\n",
       "    .dataframe tbody tr th {\n",
       "        vertical-align: top;\n",
       "    }\n",
       "\n",
       "    .dataframe thead th {\n",
       "        text-align: right;\n",
       "    }\n",
       "</style>\n",
       "<table border=\"1\" class=\"dataframe\">\n",
       "  <thead>\n",
       "    <tr style=\"text-align: right;\">\n",
       "      <th></th>\n",
       "      <th>A</th>\n",
       "      <th>B</th>\n",
       "      <th>C</th>\n",
       "      <th>D</th>\n",
       "      <th>E</th>\n",
       "      <th>F</th>\n",
       "      <th>H</th>\n",
       "      <th>Z</th>\n",
       "      <th>Z2</th>\n",
       "    </tr>\n",
       "  </thead>\n",
       "  <tbody>\n",
       "    <tr>\n",
       "      <td>2020-06-25</td>\n",
       "      <td>1.737778</td>\n",
       "      <td>0.263825</td>\n",
       "      <td>2.252705</td>\n",
       "      <td>-0.330703</td>\n",
       "      <td>7</td>\n",
       "      <td>3.990483</td>\n",
       "      <td></td>\n",
       "      <td>2</td>\n",
       "      <td>3</td>\n",
       "    </tr>\n",
       "    <tr>\n",
       "      <td>2020-06-26</td>\n",
       "      <td>-0.171490</td>\n",
       "      <td>0.212392</td>\n",
       "      <td>0.541113</td>\n",
       "      <td>0.327071</td>\n",
       "      <td>4</td>\n",
       "      <td>0.369623</td>\n",
       "      <td></td>\n",
       "      <td>3</td>\n",
       "      <td>5</td>\n",
       "    </tr>\n",
       "    <tr>\n",
       "      <td>2020-06-27</td>\n",
       "      <td>0.376239</td>\n",
       "      <td>0.118295</td>\n",
       "      <td>-0.338375</td>\n",
       "      <td>0.584791</td>\n",
       "      <td>2</td>\n",
       "      <td>0.037864</td>\n",
       "      <td></td>\n",
       "      <td>7</td>\n",
       "      <td>8</td>\n",
       "    </tr>\n",
       "    <tr>\n",
       "      <td>2020-06-28</td>\n",
       "      <td>0.263223</td>\n",
       "      <td>1.122000</td>\n",
       "      <td>2.090053</td>\n",
       "      <td>0.479171</td>\n",
       "      <td>8</td>\n",
       "      <td>2.353276</td>\n",
       "      <td></td>\n",
       "      <td>1</td>\n",
       "      <td>1</td>\n",
       "    </tr>\n",
       "    <tr>\n",
       "      <td>2020-06-29</td>\n",
       "      <td>0.465995</td>\n",
       "      <td>-0.076793</td>\n",
       "      <td>0.569960</td>\n",
       "      <td>-0.416972</td>\n",
       "      <td>5</td>\n",
       "      <td>1.035955</td>\n",
       "      <td></td>\n",
       "      <td>4</td>\n",
       "      <td>8</td>\n",
       "    </tr>\n",
       "    <tr>\n",
       "      <td>2020-06-30</td>\n",
       "      <td>0.218840</td>\n",
       "      <td>-1.870617</td>\n",
       "      <td>-0.106688</td>\n",
       "      <td>2.084369</td>\n",
       "      <td>7</td>\n",
       "      <td>0.112152</td>\n",
       "      <td></td>\n",
       "      <td>5</td>\n",
       "      <td>2</td>\n",
       "    </tr>\n",
       "  </tbody>\n",
       "</table>\n",
       "</div>"
      ],
      "text/plain": [
       "                   A         B         C         D  E         F H  Z  Z2\n",
       "2020-06-25  1.737778  0.263825  2.252705 -0.330703  7  3.990483    2   3\n",
       "2020-06-26 -0.171490  0.212392  0.541113  0.327071  4  0.369623    3   5\n",
       "2020-06-27  0.376239  0.118295 -0.338375  0.584791  2  0.037864    7   8\n",
       "2020-06-28  0.263223  1.122000  2.090053  0.479171  8  2.353276    1   1\n",
       "2020-06-29  0.465995 -0.076793  0.569960 -0.416972  5  1.035955    4   8\n",
       "2020-06-30  0.218840 -1.870617 -0.106688  2.084369  7  0.112152    5   2"
      ]
     },
     "execution_count": 476,
     "metadata": {},
     "output_type": "execute_result"
    }
   ],
   "source": [
    "df3['Z2']=[random.randint(1, 10) for _ in range(6)] \n",
    "#[]문법 => 리스트 내포: 결과가 항상list \n",
    "#list comprehension\n",
    "df3"
   ]
  },
  {
   "cell_type": "code",
   "execution_count": 477,
   "metadata": {},
   "outputs": [
    {
     "data": {
      "text/plain": [
       "[1, 2, 3, 4, 5, 6, 7, 8, 9, 10]"
      ]
     },
     "execution_count": 477,
     "metadata": {},
     "output_type": "execute_result"
    }
   ],
   "source": [
    "#['반복하면서 한번에 처리할 내용' for i in range(10)\n",
    "[i+1 for i in range(10)]"
   ]
  },
  {
   "cell_type": "code",
   "execution_count": 478,
   "metadata": {},
   "outputs": [
    {
     "data": {
      "text/plain": [
       "[1, 3, 5, 7, 9]"
      ]
     },
     "execution_count": 478,
     "metadata": {},
     "output_type": "execute_result"
    }
   ],
   "source": [
    "#['반복하면서 한번에 처리할 내용' for i in range(10) if i%2==0\n",
    "[i+1 for i in range(10) if i%2==0]\n",
    "\n",
    "data3=[]\n",
    "for i in range(10):\n",
    "    if i%2==0:\n",
    "        data3.append(i+1)\n",
    "data3"
   ]
  },
  {
   "cell_type": "code",
   "execution_count": 479,
   "metadata": {},
   "outputs": [
    {
     "name": "stdout",
     "output_type": "stream",
     "text": [
      "홍길동\n",
      "김길동\n",
      "송길동\n"
     ]
    }
   ],
   "source": [
    "name=['홍길동', '김길동', '송길동']\n",
    "for x in name:\n",
    "    print(x)"
   ]
  },
  {
   "cell_type": "code",
   "execution_count": 480,
   "metadata": {},
   "outputs": [
    {
     "data": {
      "text/plain": [
       "['홍길동님', '김길동님', '송길동님']"
      ]
     },
     "execution_count": 480,
     "metadata": {},
     "output_type": "execute_result"
    }
   ],
   "source": [
    "# name에 들어있는 각각의 모든 데이터에 \"님\"자를 붙여주세요.!\n",
    "[(name[i]+\"님\") for i in range(3)]"
   ]
  },
  {
   "cell_type": "code",
   "execution_count": 481,
   "metadata": {},
   "outputs": [
    {
     "data": {
      "text/plain": [
       "['신입 홍길동', '신입 김길동', '신입 송길동']"
      ]
     },
     "execution_count": 481,
     "metadata": {},
     "output_type": "execute_result"
    }
   ],
   "source": [
    "# name에 들어있는 각각의 모든 데이터의 앞에 \"신입\"글자를 붙여주세요!\n",
    "# [\"신입 \"+x for x in name]\n",
    "[\"신입 \"+(name[i]) for i in range(3)]"
   ]
  },
  {
   "cell_type": "code",
   "execution_count": 482,
   "metadata": {},
   "outputs": [],
   "source": [
    "a_list=range(1, 100, 2)"
   ]
  },
  {
   "cell_type": "code",
   "execution_count": 483,
   "metadata": {},
   "outputs": [
    {
     "data": {
      "text/plain": [
       "50"
      ]
     },
     "execution_count": 483,
     "metadata": {},
     "output_type": "execute_result"
    }
   ],
   "source": [
    "# a_list에 몇 개가 들어있는지 세어보세요.\n",
    "len([1 for x in a_list])"
   ]
  },
  {
   "cell_type": "code",
   "execution_count": 484,
   "metadata": {},
   "outputs": [],
   "source": [
    "# a_list의 각각의 모든 데이터에 0.1을 곱해보세요. 변경된 a_list의 합과 평균\n",
    "a_list=[a_list[i]*0.1 for i in range(len(a_list))]"
   ]
  },
  {
   "cell_type": "code",
   "execution_count": 485,
   "metadata": {
    "scrolled": false
   },
   "outputs": [
    {
     "data": {
      "text/plain": [
       "250.0"
      ]
     },
     "execution_count": 485,
     "metadata": {},
     "output_type": "execute_result"
    }
   ],
   "source": [
    "np.sum(a_list)"
   ]
  },
  {
   "cell_type": "code",
   "execution_count": 486,
   "metadata": {
    "scrolled": true
   },
   "outputs": [
    {
     "data": {
      "text/plain": [
       "5.0"
      ]
     },
     "execution_count": 486,
     "metadata": {},
     "output_type": "execute_result"
    }
   ],
   "source": [
    "np.mean(a_list)"
   ]
  },
  {
   "cell_type": "code",
   "execution_count": 487,
   "metadata": {},
   "outputs": [
    {
     "data": {
      "text/plain": [
       "2.8861739379323628"
      ]
     },
     "execution_count": 487,
     "metadata": {},
     "output_type": "execute_result"
    }
   ],
   "source": [
    "np.std(a_list)"
   ]
  },
  {
   "cell_type": "code",
   "execution_count": 488,
   "metadata": {},
   "outputs": [
    {
     "data": {
      "text/plain": [
       "[0.010000000000000002, 0.030000000000000006, 0.05]"
      ]
     },
     "execution_count": 488,
     "metadata": {},
     "output_type": "execute_result"
    }
   ],
   "source": [
    "[x*0.1 for x in a_list[:3]]"
   ]
  },
  {
   "cell_type": "code",
   "execution_count": 489,
   "metadata": {},
   "outputs": [
    {
     "data": {
      "text/html": [
       "<div>\n",
       "<style scoped>\n",
       "    .dataframe tbody tr th:only-of-type {\n",
       "        vertical-align: middle;\n",
       "    }\n",
       "\n",
       "    .dataframe tbody tr th {\n",
       "        vertical-align: top;\n",
       "    }\n",
       "\n",
       "    .dataframe thead th {\n",
       "        text-align: right;\n",
       "    }\n",
       "</style>\n",
       "<table border=\"1\" class=\"dataframe\">\n",
       "  <thead>\n",
       "    <tr style=\"text-align: right;\">\n",
       "      <th></th>\n",
       "      <th>A</th>\n",
       "      <th>B</th>\n",
       "      <th>C</th>\n",
       "      <th>D</th>\n",
       "      <th>E</th>\n",
       "      <th>F</th>\n",
       "      <th>Z</th>\n",
       "    </tr>\n",
       "  </thead>\n",
       "  <tbody>\n",
       "    <tr>\n",
       "      <td>2020-06-25</td>\n",
       "      <td>1.737778</td>\n",
       "      <td>0.263825</td>\n",
       "      <td>2.252705</td>\n",
       "      <td>-0.330703</td>\n",
       "      <td>7</td>\n",
       "      <td>3.990483</td>\n",
       "      <td>2</td>\n",
       "    </tr>\n",
       "    <tr>\n",
       "      <td>2020-06-26</td>\n",
       "      <td>-0.171490</td>\n",
       "      <td>0.212392</td>\n",
       "      <td>0.541113</td>\n",
       "      <td>0.327071</td>\n",
       "      <td>4</td>\n",
       "      <td>0.369623</td>\n",
       "      <td>3</td>\n",
       "    </tr>\n",
       "    <tr>\n",
       "      <td>2020-06-27</td>\n",
       "      <td>0.376239</td>\n",
       "      <td>0.118295</td>\n",
       "      <td>-0.338375</td>\n",
       "      <td>0.584791</td>\n",
       "      <td>2</td>\n",
       "      <td>0.037864</td>\n",
       "      <td>7</td>\n",
       "    </tr>\n",
       "    <tr>\n",
       "      <td>2020-06-28</td>\n",
       "      <td>0.263223</td>\n",
       "      <td>1.122000</td>\n",
       "      <td>2.090053</td>\n",
       "      <td>0.479171</td>\n",
       "      <td>8</td>\n",
       "      <td>2.353276</td>\n",
       "      <td>1</td>\n",
       "    </tr>\n",
       "    <tr>\n",
       "      <td>2020-06-29</td>\n",
       "      <td>0.465995</td>\n",
       "      <td>-0.076793</td>\n",
       "      <td>0.569960</td>\n",
       "      <td>-0.416972</td>\n",
       "      <td>5</td>\n",
       "      <td>1.035955</td>\n",
       "      <td>4</td>\n",
       "    </tr>\n",
       "    <tr>\n",
       "      <td>2020-06-30</td>\n",
       "      <td>0.218840</td>\n",
       "      <td>-1.870617</td>\n",
       "      <td>-0.106688</td>\n",
       "      <td>2.084369</td>\n",
       "      <td>7</td>\n",
       "      <td>0.112152</td>\n",
       "      <td>5</td>\n",
       "    </tr>\n",
       "  </tbody>\n",
       "</table>\n",
       "</div>"
      ],
      "text/plain": [
       "                   A         B         C         D  E         F  Z\n",
       "2020-06-25  1.737778  0.263825  2.252705 -0.330703  7  3.990483  2\n",
       "2020-06-26 -0.171490  0.212392  0.541113  0.327071  4  0.369623  3\n",
       "2020-06-27  0.376239  0.118295 -0.338375  0.584791  2  0.037864  7\n",
       "2020-06-28  0.263223  1.122000  2.090053  0.479171  8  2.353276  1\n",
       "2020-06-29  0.465995 -0.076793  0.569960 -0.416972  5  1.035955  4\n",
       "2020-06-30  0.218840 -1.870617 -0.106688  2.084369  7  0.112152  5"
      ]
     },
     "execution_count": 489,
     "metadata": {},
     "output_type": "execute_result"
    }
   ],
   "source": [
    "df3.drop(columns=['H', 'Z2'], inplace=True) #행 삭제\n",
    "df3"
   ]
  },
  {
   "cell_type": "code",
   "execution_count": 498,
   "metadata": {},
   "outputs": [
    {
     "data": {
      "text/html": [
       "<div>\n",
       "<style scoped>\n",
       "    .dataframe tbody tr th:only-of-type {\n",
       "        vertical-align: middle;\n",
       "    }\n",
       "\n",
       "    .dataframe tbody tr th {\n",
       "        vertical-align: top;\n",
       "    }\n",
       "\n",
       "    .dataframe thead th {\n",
       "        text-align: right;\n",
       "    }\n",
       "</style>\n",
       "<table border=\"1\" class=\"dataframe\">\n",
       "  <thead>\n",
       "    <tr style=\"text-align: right;\">\n",
       "      <th></th>\n",
       "      <th>A</th>\n",
       "      <th>B</th>\n",
       "      <th>C</th>\n",
       "      <th>D</th>\n",
       "      <th>E</th>\n",
       "      <th>F</th>\n",
       "      <th>Z</th>\n",
       "    </tr>\n",
       "  </thead>\n",
       "  <tbody>\n",
       "    <tr>\n",
       "      <td>(2020-06-25 00:00:00,)</td>\n",
       "      <td>1.737778</td>\n",
       "      <td>0.263825</td>\n",
       "      <td>2.252705</td>\n",
       "      <td>-0.330703</td>\n",
       "      <td>7</td>\n",
       "      <td>3.990483</td>\n",
       "      <td>2</td>\n",
       "    </tr>\n",
       "    <tr>\n",
       "      <td>(2020-06-26 00:00:00,)</td>\n",
       "      <td>-0.171490</td>\n",
       "      <td>0.212392</td>\n",
       "      <td>0.541113</td>\n",
       "      <td>0.327071</td>\n",
       "      <td>4</td>\n",
       "      <td>0.369623</td>\n",
       "      <td>3</td>\n",
       "    </tr>\n",
       "    <tr>\n",
       "      <td>(2020-06-27 00:00:00,)</td>\n",
       "      <td>0.376239</td>\n",
       "      <td>0.118295</td>\n",
       "      <td>-0.338375</td>\n",
       "      <td>0.584791</td>\n",
       "      <td>2</td>\n",
       "      <td>0.037864</td>\n",
       "      <td>7</td>\n",
       "    </tr>\n",
       "    <tr>\n",
       "      <td>(2020-06-28 00:00:00,)</td>\n",
       "      <td>0.263223</td>\n",
       "      <td>1.122000</td>\n",
       "      <td>2.090053</td>\n",
       "      <td>0.479171</td>\n",
       "      <td>8</td>\n",
       "      <td>2.353276</td>\n",
       "      <td>1</td>\n",
       "    </tr>\n",
       "    <tr>\n",
       "      <td>(2020-06-29 00:00:00,)</td>\n",
       "      <td>0.465995</td>\n",
       "      <td>-0.076793</td>\n",
       "      <td>0.569960</td>\n",
       "      <td>-0.416972</td>\n",
       "      <td>5</td>\n",
       "      <td>1.035955</td>\n",
       "      <td>4</td>\n",
       "    </tr>\n",
       "    <tr>\n",
       "      <td>(2020-06-30 00:00:00,)</td>\n",
       "      <td>0.218840</td>\n",
       "      <td>-1.870617</td>\n",
       "      <td>-0.106688</td>\n",
       "      <td>2.084369</td>\n",
       "      <td>7</td>\n",
       "      <td>0.112152</td>\n",
       "      <td>5</td>\n",
       "    </tr>\n",
       "    <tr>\n",
       "      <td>2020-06-20</td>\n",
       "      <td>1.000000</td>\n",
       "      <td>1.000000</td>\n",
       "      <td>1.000000</td>\n",
       "      <td>1.000000</td>\n",
       "      <td>1</td>\n",
       "      <td>1.000000</td>\n",
       "      <td>1</td>\n",
       "    </tr>\n",
       "  </tbody>\n",
       "</table>\n",
       "</div>"
      ],
      "text/plain": [
       "                               A         B         C         D  E         F  Z\n",
       "(2020-06-25 00:00:00,)  1.737778  0.263825  2.252705 -0.330703  7  3.990483  2\n",
       "(2020-06-26 00:00:00,) -0.171490  0.212392  0.541113  0.327071  4  0.369623  3\n",
       "(2020-06-27 00:00:00,)  0.376239  0.118295 -0.338375  0.584791  2  0.037864  7\n",
       "(2020-06-28 00:00:00,)  0.263223  1.122000  2.090053  0.479171  8  2.353276  1\n",
       "(2020-06-29 00:00:00,)  0.465995 -0.076793  0.569960 -0.416972  5  1.035955  4\n",
       "(2020-06-30 00:00:00,)  0.218840 -1.870617 -0.106688  2.084369  7  0.112152  5\n",
       "2020-06-20              1.000000  1.000000  1.000000  1.000000  1  1.000000  1"
      ]
     },
     "execution_count": 498,
     "metadata": {},
     "output_type": "execute_result"
    }
   ],
   "source": [
    "df3.loc['2020-06-20']=1\n",
    "df3"
   ]
  },
  {
   "cell_type": "code",
   "execution_count": null,
   "metadata": {},
   "outputs": [],
   "source": []
  }
 ],
 "metadata": {
  "kernelspec": {
   "display_name": "Python 3",
   "language": "python",
   "name": "python3"
  },
  "language_info": {
   "codemirror_mode": {
    "name": "ipython",
    "version": 3
   },
   "file_extension": ".py",
   "mimetype": "text/x-python",
   "name": "python",
   "nbconvert_exporter": "python",
   "pygments_lexer": "ipython3",
   "version": "3.7.4"
  }
 },
 "nbformat": 4,
 "nbformat_minor": 2
}
