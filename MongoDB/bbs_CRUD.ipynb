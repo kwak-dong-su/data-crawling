{
 "cells": [
  {
   "cell_type": "code",
   "execution_count": 1,
   "id": "5cf6f44d",
   "metadata": {},
   "outputs": [
    {
     "name": "stderr",
     "output_type": "stream",
     "text": [
      "C:\\ProgramData\\Anaconda3\\lib\\site-packages\\requests\\__init__.py:91: RequestsDependencyWarning: urllib3 (1.25.11) or chardet (4.0.0) doesn't match a supported version!\n",
      "  RequestsDependencyWarning)\n"
     ]
    }
   ],
   "source": [
    "import pymongo"
   ]
  },
  {
   "cell_type": "code",
   "execution_count": 2,
   "id": "71220074",
   "metadata": {},
   "outputs": [],
   "source": [
    "conn = pymongo.MongoClient() #몽고db 서버에 연결"
   ]
  },
  {
   "cell_type": "code",
   "execution_count": 3,
   "id": "d8097aea",
   "metadata": {},
   "outputs": [
    {
     "data": {
      "text/plain": [
       "MongoClient(host=['localhost:27017'], document_class=dict, tz_aware=False, connect=True)"
      ]
     },
     "execution_count": 3,
     "metadata": {},
     "output_type": "execute_result"
    }
   ],
   "source": [
    "conn #디폴트 값은 localhost"
   ]
  },
  {
   "cell_type": "code",
   "execution_count": 7,
   "id": "c2ca1910",
   "metadata": {},
   "outputs": [],
   "source": [
    "bbs=conn.shop.bbs"
   ]
  },
  {
   "cell_type": "code",
   "execution_count": 8,
   "id": "76b3d09b",
   "metadata": {},
   "outputs": [
    {
     "data": {
      "text/plain": [
       "Collection(Database(MongoClient(host=['localhost:27017'], document_class=dict, tz_aware=False, connect=True), 'shop'), 'bbs')"
      ]
     },
     "execution_count": 8,
     "metadata": {},
     "output_type": "execute_result"
    }
   ],
   "source": [
    "bbs"
   ]
  },
  {
   "cell_type": "code",
   "execution_count": 9,
   "id": "1441fdde",
   "metadata": {},
   "outputs": [
    {
     "data": {
      "text/plain": [
       "295"
      ]
     },
     "execution_count": 9,
     "metadata": {},
     "output_type": "execute_result"
    }
   ],
   "source": [
    "bbs.count_documents({})"
   ]
  },
  {
   "cell_type": "code",
   "execution_count": 10,
   "id": "94cd50a7",
   "metadata": {},
   "outputs": [],
   "source": [
    "# Create"
   ]
  },
  {
   "cell_type": "code",
   "execution_count": 11,
   "id": "cb73a6ec",
   "metadata": {},
   "outputs": [],
   "source": [
    "data1={\"bbs_title\": \"세번째 글입니다.\", \"bbs_content\": \"반갑습니다\", \"bbs_writer\": \"박지성\"}\n",
    "data2={\"bbs_title\": \"네번째\", \"bbs_content\": \"환영합니다\", \"bbs_writer\": \"김철수\", \"bbs_mdfydate\": \"2022-05-01\"}\n",
    "data3=[\n",
    "    {\"bbs_title\": \"다섯번째 글\", \"bbs_content\": \"문의드려요\", \"bbs_writer\": \"김영희\"},\n",
    "    {\"bbs_title\": \"6번글\", \"bbs_content\": \"좋은 하루 되세요\", \"bbs_writer\": \"마동석\", \"bbs_pubdate\": \"2022-06-12\"}  \n",
    "]"
   ]
  },
  {
   "cell_type": "code",
   "execution_count": 13,
   "id": "e349b763",
   "metadata": {},
   "outputs": [
    {
     "data": {
      "text/plain": [
       "<pymongo.results.InsertOneResult at 0x20c2999fe88>"
      ]
     },
     "execution_count": 13,
     "metadata": {},
     "output_type": "execute_result"
    }
   ],
   "source": [
    "bbs.insert_one(data1)"
   ]
  },
  {
   "cell_type": "code",
   "execution_count": 14,
   "id": "0f9fe52f",
   "metadata": {},
   "outputs": [
    {
     "data": {
      "text/plain": [
       "<pymongo.results.InsertOneResult at 0x20c26258dc8>"
      ]
     },
     "execution_count": 14,
     "metadata": {},
     "output_type": "execute_result"
    }
   ],
   "source": [
    "bbs.insert_one(data2)"
   ]
  },
  {
   "cell_type": "code",
   "execution_count": 16,
   "id": "c7235a9f",
   "metadata": {},
   "outputs": [
    {
     "data": {
      "text/plain": [
       "<pymongo.results.InsertManyResult at 0x20c2805abc8>"
      ]
     },
     "execution_count": 16,
     "metadata": {},
     "output_type": "execute_result"
    }
   ],
   "source": [
    "bbs.insert_many(data3)"
   ]
  },
  {
   "cell_type": "code",
   "execution_count": 17,
   "id": "b06de1be",
   "metadata": {},
   "outputs": [],
   "source": [
    "# Read"
   ]
  },
  {
   "cell_type": "code",
   "execution_count": 19,
   "id": "80f76603",
   "metadata": {},
   "outputs": [
    {
     "name": "stdout",
     "output_type": "stream",
     "text": [
      "{'_id': ObjectId('62a7e138d6d74bb3385e3488'), 'bbs_title': '첫번째 글입니다.', 'bbs_content': '안녕하세요', 'bbs_writer': '손흥민', 'bbs_pubdate': '2022-06-14'}\n",
      "{'_id': ObjectId('62a7e1c1d6d74bb3385e3489'), 'bbs_title': '두번째 글입니다.', 'bbs_content': '반갑습니다', 'bbs_writer': '박지성', 'bbs_mdfydate': '2022-05-10'}\n",
      "{'_id': ObjectId('62a7e249d6d74bb3385e348a'), 'Player': 'Alex Abrines', 'Pos': 'SG', '3P': '1.4', '2P': '0.6', 'TRB': '1.3', 'AST': '0.6', 'STL': '0.5', 'BLK': '0.1'}\n",
      "{'_id': ObjectId('62a7e249d6d74bb3385e348b'), 'Player': 'Steven Adams', 'Pos': 'C', '3P': '0.0', '2P': '4.7', 'TRB': '7.7', 'AST': '1.1', 'STL': '1.1', 'BLK': '1.0'}\n",
      "{'_id': ObjectId('62a7e249d6d74bb3385e348c'), 'Player': 'Alexis Ajinca', 'Pos': 'C', '3P': '0.0', '2P': '2.3', 'TRB': '4.5', 'AST': '0.3', 'STL': '0.5', 'BLK': '0.6'}\n",
      "{'_id': ObjectId('62a7e249d6d74bb3385e348d'), 'Player': 'Chris Andersen', 'Pos': 'C', '3P': '0.0', '2P': '0.8', 'TRB': '2.6', 'AST': '0.4', 'STL': '0.4', 'BLK': '0.6'}\n",
      "{'_id': ObjectId('62a7e249d6d74bb3385e348e'), 'Player': 'Will Barton', 'Pos': 'SG', '3P': '1.5', '2P': '3.5', 'TRB': '4.3', 'AST': '3.4', 'STL': '0.8', 'BLK': '0.5'}\n",
      "{'_id': ObjectId('62a7e249d6d74bb3385e348f'), 'Player': 'Nicolas Batum', 'Pos': 'SG', '3P': '1.8', '2P': '3.4', 'TRB': '6.2', 'AST': '5.9', 'STL': '1.1', 'BLK': '0.4'}\n",
      "{'_id': ObjectId('62a7e249d6d74bb3385e3490'), 'Player': 'Bradley Beal', 'Pos': 'SG', '3P': '2.9', '2P': '5.4', 'TRB': '3.1', 'AST': '3.5', 'STL': '1.1', 'BLK': '0.3'}\n",
      "{'_id': ObjectId('62a7e249d6d74bb3385e3491'), 'Player': 'Marco Belinelli', 'Pos': 'SG', '3P': '1.4', '2P': '2.2', 'TRB': '2.4', 'AST': '2.0', 'STL': '0.6', 'BLK': '0.1'}\n",
      "{'_id': ObjectId('62a7e249d6d74bb3385e3492'), 'Player': 'Patrick Beverley', 'Pos': 'SG', '3P': '1.6', '2P': '1.8', 'TRB': '5.9', 'AST': '4.2', 'STL': '1.5', 'BLK': '0.4'}\n",
      "{'_id': ObjectId('62a7e249d6d74bb3385e3493'), 'Player': 'Bismack Biyombo', 'Pos': 'C', '3P': '0.0', '2P': '2.2', 'TRB': '7.0', 'AST': '0.9', 'STL': '0.3', 'BLK': '1.1'}\n",
      "{'_id': ObjectId('62a7e249d6d74bb3385e3494'), 'Player': 'Tarik Black', 'Pos': 'C', '3P': '0.0', '2P': '2.2', 'TRB': '5.1', 'AST': '0.6', 'STL': '0.4', 'BLK': '0.7'}\n",
      "{'_id': ObjectId('62a7e249d6d74bb3385e3495'), 'Player': 'Andrew Bogut', 'Pos': 'C', '3P': '0.0', '2P': '1.4', 'TRB': '8.1', 'AST': '1.8', 'STL': '0.5', 'BLK': '0.9'}\n",
      "{'_id': ObjectId('62a7e249d6d74bb3385e3496'), 'Player': 'Devin Booker', 'Pos': 'SG', '3P': '1.9', '2P': '5.9', 'TRB': '3.2', 'AST': '3.4', 'STL': '0.9', 'BLK': '0.3'}\n",
      "{'_id': ObjectId('62a7e249d6d74bb3385e3497'), 'Player': 'Avery Bradley', 'Pos': 'SG', '3P': '2.0', '2P': '4.6', 'TRB': '6.1', 'AST': '2.2', 'STL': '1.2', 'BLK': '0.2'}\n",
      "{'_id': ObjectId('62a7e249d6d74bb3385e3498'), 'Player': 'Kentavious Caldwell-Pope', 'Pos': 'SG', '3P': '2.0', '2P': '2.9', 'TRB': '3.3', 'AST': '2.5', 'STL': '1.2', 'BLK': '0.2'}\n",
      "{'_id': ObjectId('62a7e249d6d74bb3385e3499'), 'Player': 'Clint Capela', 'Pos': 'C', '3P': '0.0', '2P': '5.6', 'TRB': '8.1', 'AST': '1.0', 'STL': '0.5', 'BLK': '1.2'}\n",
      "{'_id': ObjectId('62a7e249d6d74bb3385e349a'), 'Player': 'Willie Cauley-Stein', 'Pos': 'C', '3P': '0.0', '2P': '3.4', 'TRB': '4.5', 'AST': '1.1', 'STL': '0.7', 'BLK': '0.6'}\n",
      "{'_id': ObjectId('62a7e249d6d74bb3385e349b'), 'Player': 'Jordan Clarkson', 'Pos': 'SG', '3P': '1.4', '2P': '4.4', 'TRB': '3.0', 'AST': '2.6', 'STL': '1.1', 'BLK': '0.1'}\n",
      "{'_id': ObjectId('62a7e249d6d74bb3385e349c'), 'Player': 'DeMarcus Cousins', 'Pos': 'C', '3P': '1.8', '2P': '7.2', 'TRB': '11.0', 'AST': '4.6', 'STL': '1.4', 'BLK': '1.3'}\n",
      "{'_id': ObjectId('62a7e249d6d74bb3385e349d'), 'Player': 'Allen Crabbe', 'Pos': 'SG', '3P': '1.7', '2P': '2.1', 'TRB': '2.9', 'AST': '1.2', 'STL': '0.7', 'BLK': '0.3'}\n",
      "{'_id': ObjectId('62a7e249d6d74bb3385e349e'), 'Player': 'Jamal Crawford', 'Pos': 'SG', '3P': '1.4', '2P': '3.0', 'TRB': '1.6', 'AST': '2.6', 'STL': '0.7', 'BLK': '0.2'}\n",
      "{'_id': ObjectId('62a7e249d6d74bb3385e349f'), 'Player': 'Jordan Crawford', 'Pos': 'SG', '3P': '1.9', '2P': '3.6', 'TRB': '1.8', 'AST': '3.0', 'STL': '0.6', 'BLK': '0.1'}\n",
      "{'_id': ObjectId('62a7e249d6d74bb3385e34a0'), 'Player': 'Troy Daniels', 'Pos': 'SG', '3P': '2.1', '2P': '0.7', 'TRB': '1.5', 'AST': '0.7', 'STL': '0.3', 'BLK': '0.1'}\n",
      "{'_id': ObjectId('62a7e249d6d74bb3385e34a1'), 'Player': 'Anthony Davis', 'Pos': 'C', '3P': '0.5', '2P': '9.7', 'TRB': '11.8', 'AST': '2.1', 'STL': '1.3', 'BLK': '2.2'}\n",
      "{'_id': ObjectId('62a7e249d6d74bb3385e34a2'), 'Player': 'Dewayne Dedmon', 'Pos': 'C', '3P': '0.0', '2P': '2.1', 'TRB': '6.5', 'AST': '0.6', 'STL': '0.5', 'BLK': '0.8'}\n",
      "{'_id': ObjectId('62a7e249d6d74bb3385e34a3'), 'Player': 'Andre Drummond', 'Pos': 'C', '3P': '0.0', '2P': '5.9', 'TRB': '13.8', 'AST': '1.1', 'STL': '1.5', 'BLK': '1.1'}\n",
      "{'_id': ObjectId('62a7e249d6d74bb3385e34a4'), 'Player': 'Wayne Ellington', 'Pos': 'SG', '3P': '2.4', '2P': '1.3', 'TRB': '2.1', 'AST': '1.1', 'STL': '0.6', 'BLK': '0.1'}\n",
      "{'_id': ObjectId('62a7e249d6d74bb3385e34a5'), 'Player': 'Joel Embiid', 'Pos': 'C', '3P': '1.2', '2P': '5.3', 'TRB': '7.8', 'AST': '2.1', 'STL': '0.9', 'BLK': '2.5'}\n",
      "{'_id': ObjectId('62a7e249d6d74bb3385e34a6'), 'Player': 'Evan Fournier', 'Pos': 'SG', '3P': '1.9', '2P': '4.1', 'TRB': '3.1', 'AST': '3.0', 'STL': '1.0', 'BLK': '0.1'}\n",
      "{'_id': ObjectId('62a7e249d6d74bb3385e34a7'), 'Player': 'Channing Frye', 'Pos': 'C', '3P': '1.9', '2P': '1.4', 'TRB': '3.9', 'AST': '0.6', 'STL': '0.4', 'BLK': '0.5'}\n",
      "{'_id': ObjectId('62a7e249d6d74bb3385e34a8'), 'Player': 'Marc Gasol', 'Pos': 'C', '3P': '1.4', '2P': '5.8', 'TRB': '6.3', 'AST': '4.6', 'STL': '0.9', 'BLK': '1.3'}\n",
      "{'_id': ObjectId('62a7e249d6d74bb3385e34a9'), 'Player': 'Pau Gasol', 'Pos': 'C', '3P': '0.9', '2P': '3.9', 'TRB': '7.8', 'AST': '2.3', 'STL': '0.4', 'BLK': '1.1'}\n",
      "{'_id': ObjectId('62a7e249d6d74bb3385e34aa'), 'Player': 'Manu Ginobili', 'Pos': 'SG', '3P': '1.3', '2P': '1.2', 'TRB': '2.3', 'AST': '2.7', 'STL': '1.2', 'BLK': '0.2'}\n",
      "{'_id': ObjectId('62a7e249d6d74bb3385e34ab'), 'Player': 'Rudy Gobert', 'Pos': 'C', '3P': '0.0', '2P': '5.1', 'TRB': '12.8', 'AST': '1.2', 'STL': '0.6', 'BLK': '2.6'}\n",
      "{'_id': ObjectId('62a7e249d6d74bb3385e34ac'), 'Player': 'Eric Gordon', 'Pos': 'SG', '3P': '3.3', '2P': '2.2', 'TRB': '2.7', 'AST': '2.5', 'STL': '0.6', 'BLK': '0.5'}\n",
      "{'_id': ObjectId('62a7e249d6d74bb3385e34ad'), 'Player': 'Marcin Gortat', 'Pos': 'C', '3P': '0.0', '2P': '4.8', 'TRB': '10.4', 'AST': '1.5', 'STL': '0.5', 'BLK': '0.7'}\n",
      "{'_id': ObjectId('62a7e249d6d74bb3385e34ae'), 'Player': 'Danny Green', 'Pos': 'SG', '3P': '1.7', '2P': '0.9', 'TRB': '3.3', 'AST': '1.8', 'STL': '1.0', 'BLK': '0.8'}\n",
      "{'_id': ObjectId('62a7e249d6d74bb3385e34af'), 'Player': 'Justin Hamilton', 'Pos': 'C', '3P': '0.9', '2P': '1.9', 'TRB': '4.1', 'AST': '0.9', 'STL': '0.5', 'BLK': '0.7'}\n",
      "{'_id': ObjectId('62a7e249d6d74bb3385e34b0'), 'Player': 'A.J. Hammons', 'Pos': 'C', '3P': '0.2', '2P': '0.5', 'TRB': '1.6', 'AST': '0.2', 'STL': '0.0', 'BLK': '0.6'}\n",
      "{'_id': ObjectId('62a7e249d6d74bb3385e34b1'), 'Player': 'Tim Hardaway', 'Pos': 'SG', '3P': '1.9', '2P': '3.4', 'TRB': '2.8', 'AST': '2.3', 'STL': '0.7', 'BLK': '0.2'}\n",
      "{'_id': ObjectId('62a7e249d6d74bb3385e34b2'), 'Player': 'Montrezl Harrell', 'Pos': 'C', '3P': '0.0', '2P': '3.9', 'TRB': '3.8', 'AST': '1.1', 'STL': '0.3', 'BLK': '0.7'}\n",
      "{'_id': ObjectId('62a7e249d6d74bb3385e34b3'), 'Player': 'Gary Harris', 'Pos': 'SG', '3P': '1.9', '2P': '3.7', 'TRB': '3.1', 'AST': '2.9', 'STL': '1.2', 'BLK': '0.1'}\n",
      "{'_id': ObjectId('62a7e249d6d74bb3385e34b4'), 'Player': 'Joe Harris', 'Pos': 'SG', '3P': '1.6', '2P': '1.3', 'TRB': '2.8', 'AST': '1.0', 'STL': '0.6', 'BLK': '0.2'}\n",
      "{'_id': ObjectId('62a7e249d6d74bb3385e34b5'), 'Player': 'John Henson', 'Pos': 'C', '3P': '0.0', '2P': '2.7', 'TRB': '5.1', 'AST': '1.0', 'STL': '0.5', 'BLK': '1.3'}\n",
      "{'_id': ObjectId('62a7e249d6d74bb3385e34b6'), 'Player': 'Roy Hibbert', 'Pos': 'C', '3P': '0.0', '2P': '1.7', 'TRB': '3.2', 'AST': '0.4', 'STL': '0.2', 'BLK': '1.0'}\n",
      "{'_id': ObjectId('62a7e249d6d74bb3385e34b7'), 'Player': 'Buddy Hield', 'Pos': 'SG', '3P': '1.8', '2P': '2.2', 'TRB': '3.3', 'AST': '1.5', 'STL': '0.5', 'BLK': '0.1'}\n",
      "{'_id': ObjectId('62a7e249d6d74bb3385e34b8'), 'Player': 'Nene Hilario', 'Pos': 'C', '3P': '0.0', '2P': '3.6', 'TRB': '4.2', 'AST': '1.0', 'STL': '0.8', 'BLK': '0.6'}\n",
      "{'_id': ObjectId('62a7e249d6d74bb3385e34b9'), 'Player': 'Justin Holiday', 'Pos': 'SG', '3P': '1.2', '2P': '1.7', 'TRB': '2.7', 'AST': '1.2', 'STL': '0.8', 'BLK': '0.4'}\n",
      "{'_id': ObjectId('62a7e249d6d74bb3385e34ba'), 'Player': 'Richaun Holmes', 'Pos': 'C', '3P': '0.5', '2P': '3.6', 'TRB': '5.5', 'AST': '1.0', 'STL': '0.7', 'BLK': '1.0'}\n",
      "{'_id': ObjectId('62a7e249d6d74bb3385e34bb'), 'Player': 'Rodney Hood', 'Pos': 'SG', '3P': '1.9', '2P': '2.7', 'TRB': '3.4', 'AST': '1.6', 'STL': '0.6', 'BLK': '0.2'}\n",
      "{'_id': ObjectId('62a7e249d6d74bb3385e34bc'), 'Player': 'Al Horford', 'Pos': 'C', '3P': '1.3', '2P': '4.3', 'TRB': '6.8', 'AST': '5.0', 'STL': '0.8', 'BLK': '1.3'}\n",
      "{'_id': ObjectId('62a7e249d6d74bb3385e34bd'), 'Player': 'Dwight Howard', 'Pos': 'C', '3P': '0.0', '2P': '5.2', 'TRB': '12.7', 'AST': '1.4', 'STL': '0.9', 'BLK': '1.2'}\n",
      "{'_id': ObjectId('62a7e249d6d74bb3385e34be'), 'Player': 'Nikola Jokic', 'Pos': 'C', '3P': '0.6', '2P': '6.2', 'TRB': '9.8', 'AST': '4.9', 'STL': '0.8', 'BLK': '0.8'}\n",
      "{'_id': ObjectId('62a7e249d6d74bb3385e34bf'), 'Player': 'DeAndre Jordan', 'Pos': 'C', '3P': '0.0', '2P': '5.1', 'TRB': '13.8', 'AST': '1.2', 'STL': '0.6', 'BLK': '1.7'}\n",
      "{'_id': ObjectId('62a7e249d6d74bb3385e34c0'), 'Player': 'Frank Kaminsky', 'Pos': 'C', '3P': '1.5', '2P': '2.7', 'TRB': '4.5', 'AST': '2.2', 'STL': '0.6', 'BLK': '0.5'}\n",
      "{'_id': ObjectId('62a7e249d6d74bb3385e34c1'), 'Player': 'Sean Kilpatrick', 'Pos': 'SG', '3P': '1.5', '2P': '2.9', 'TRB': '4.0', 'AST': '2.2', 'STL': '0.6', 'BLK': '0.1'}\n",
      "{'_id': ObjectId('62a7e249d6d74bb3385e34c2'), 'Player': 'Kyle Korver', 'Pos': 'SG', '3P': '2.4', '2P': '1.1', 'TRB': '2.8', 'AST': '1.6', 'STL': '0.5', 'BLK': '0.3'}\n",
      "{'_id': ObjectId('62a7e249d6d74bb3385e34c3'), 'Player': 'Kosta Koufos', 'Pos': 'C', '3P': '0.0', '2P': '3.0', 'TRB': '5.7', 'AST': '0.7', 'STL': '0.5', 'BLK': '0.7'}\n",
      "{'_id': ObjectId('62a7e249d6d74bb3385e34c4'), 'Player': 'Zach LaVine', 'Pos': 'SG', '3P': '2.6', '2P': '4.4', 'TRB': '3.4', 'AST': '3.0', 'STL': '0.9', 'BLK': '0.2'}\n",
      "{'_id': ObjectId('62a7e249d6d74bb3385e34c5'), 'Player': 'Courtney Lee', 'Pos': 'SG', '3P': '1.4', '2P': '2.8', 'TRB': '3.4', 'AST': '2.3', 'STL': '1.1', 'BLK': '0.3'}\n",
      "{'_id': ObjectId('62a7e249d6d74bb3385e34c6'), 'Player': 'Alex Len', 'Pos': 'C', '3P': '0.0', '2P': '2.9', 'TRB': '6.6', 'AST': '0.6', 'STL': '0.5', 'BLK': '1.3'}\n",
      "{'_id': ObjectId('62a7e249d6d74bb3385e34c7'), 'Player': 'Brook Lopez', 'Pos': 'C', '3P': '1.8', '2P': '5.6', 'TRB': '5.4', 'AST': '2.3', 'STL': '0.5', 'BLK': '1.7'}\n",
      "{'_id': ObjectId('62a7e249d6d74bb3385e34c8'), 'Player': 'Robin Lopez', 'Pos': 'C', '3P': '0.0', '2P': '4.7', 'TRB': '6.4', 'AST': '1.0', 'STL': '0.2', 'BLK': '1.4'}\n",
      "{'_id': ObjectId('62a7e249d6d74bb3385e34c9'), 'Player': 'Ian Mahinmi', 'Pos': 'C', '3P': '0.0', '2P': '2.1', 'TRB': '4.8', 'AST': '0.6', 'STL': '1.1', 'BLK': '0.8'}\n",
      "{'_id': ObjectId('62a7e249d6d74bb3385e34ca'), 'Player': 'Wesley Matthews', 'Pos': 'SG', '3P': '2.4', '2P': '2.2', 'TRB': '3.5', 'AST': '2.9', 'STL': '1.1', 'BLK': '0.2'}\n",
      "{'_id': ObjectId('62a7e249d6d74bb3385e34cb'), 'Player': 'C.J. McCollum', 'Pos': 'SG', '3P': '2.3', '2P': '6.3', 'TRB': '3.6', 'AST': '3.6', 'STL': '0.9', 'BLK': '0.5'}\n",
      "{'_id': ObjectId('62a7e249d6d74bb3385e34cc'), 'Player': 'JaVale McGee', 'Pos': 'C', '3P': '0.0', '2P': '2.7', 'TRB': '3.2', 'AST': '0.2', 'STL': '0.2', 'BLK': '0.9'}\n",
      "{'_id': ObjectId('62a7e249d6d74bb3385e34cd'), 'Player': 'Ben McLemore', 'Pos': 'SG', '3P': '1.1', '2P': '1.9', 'TRB': '2.1', 'AST': '0.8', 'STL': '0.5', 'BLK': '0.1'}\n",
      "{'_id': ObjectId('62a7e249d6d74bb3385e34ce'), 'Player': 'Jodie Meeks', 'Pos': 'SG', '3P': '1.6', '2P': '1.3', 'TRB': '2.1', 'AST': '1.3', 'STL': '0.9', 'BLK': '0.1'}\n",
      "{'_id': ObjectId('62a7e249d6d74bb3385e34cf'), 'Player': 'Salah Mejri', 'Pos': 'C', '3P': '0.0', '2P': '1.2', 'TRB': '4.2', 'AST': '0.2', 'STL': '0.4', 'BLK': '0.8'}\n",
      "{'_id': ObjectId('62a7e249d6d74bb3385e34d0'), 'Player': \"E'Twaun Moore\", 'Pos': 'SG', '3P': '1.1', '2P': '2.8', 'TRB': '2.1', 'AST': '2.2', 'STL': '0.7', 'BLK': '0.4'}\n",
      "{'_id': ObjectId('62a7e249d6d74bb3385e34d1'), 'Player': 'Timofey Mozgov', 'Pos': 'C', '3P': '0.0', '2P': '3.1', 'TRB': '4.9', 'AST': '0.8', 'STL': '0.3', 'BLK': '0.6'}\n",
      "{'_id': ObjectId('62a7e249d6d74bb3385e34d2'), 'Player': 'Jamal Murray', 'Pos': 'SG', '3P': '1.4', '2P': '2.2', 'TRB': '2.6', 'AST': '2.1', 'STL': '0.6', 'BLK': '0.3'}\n",
      "{'_id': ObjectId('62a7e249d6d74bb3385e34d3'), 'Player': 'Victor Oladipo', 'Pos': 'SG', '3P': '1.9', '2P': '4.3', 'TRB': '4.3', 'AST': '2.6', 'STL': '1.2', 'BLK': '0.3'}\n",
      "{'_id': ObjectId('62a7e249d6d74bb3385e34d4'), 'Player': 'Georgios Papagiannis', 'Pos': 'C', '3P': '0.0', '2P': '2.5', 'TRB': '3.9', 'AST': '0.9', 'STL': '0.1', 'BLK': '0.8'}\n",
      "{'_id': ObjectId('62a7e249d6d74bb3385e34d5'), 'Player': 'Mason Plumlee', 'Pos': 'C', '3P': '0.0', '2P': '4.1', 'TRB': '7.5', 'AST': '3.5', 'STL': '0.9', 'BLK': '1.1'}\n",
      "{'_id': ObjectId('62a7e249d6d74bb3385e34d6'), 'Player': 'J.J. Redick', 'Pos': 'SG', '3P': '2.6', '2P': '2.5', 'TRB': '2.2', 'AST': '1.4', 'STL': '0.7', 'BLK': '0.2'}\n",
      "{'_id': ObjectId('62a7e249d6d74bb3385e34d7'), 'Player': 'Willie Reed', 'Pos': 'C', '3P': '0.0', '2P': '2.3', 'TRB': '4.7', 'AST': '0.4', 'STL': '0.3', 'BLK': '0.7'}\n",
      "{'_id': ObjectId('62a7e249d6d74bb3385e34d8'), 'Player': 'Josh Richardson', 'Pos': 'SG', '3P': '1.4', '2P': '2.4', 'TRB': '3.2', 'AST': '2.6', 'STL': '1.1', 'BLK': '0.7'}\n",
      "{'_id': ObjectId('62a7e249d6d74bb3385e34d9'), 'Player': 'Austin Rivers', 'Pos': 'SG', '3P': '1.5', '2P': '2.9', 'TRB': '2.2', 'AST': '2.8', 'STL': '0.6', 'BLK': '0.1'}\n",
      "{'_id': ObjectId('62a7e249d6d74bb3385e34da'), 'Player': 'Iman Shumpert', 'Pos': 'SG', '3P': '1.2', '2P': '1.4', 'TRB': '2.9', 'AST': '1.4', 'STL': '0.8', 'BLK': '0.4'}\n",
      "{'_id': ObjectId('62a7e249d6d74bb3385e34db'), 'Player': 'Marcus Smart', 'Pos': 'SG', '3P': '1.2', '2P': '2.2', 'TRB': '3.9', 'AST': '4.6', 'STL': '1.6', 'BLK': '0.4'}\n",
      "{'_id': ObjectId('62a7e249d6d74bb3385e34dc'), 'Player': 'J.R. Smith', 'Pos': 'SG', '3P': '2.3', '2P': '0.7', 'TRB': '2.8', 'AST': '1.5', 'STL': '1.0', 'BLK': '0.3'}\n",
      "{'_id': ObjectId('62a7e249d6d74bb3385e34dd'), 'Player': 'Jason Smith', 'Pos': 'C', '3P': '0.5', '2P': '1.9', 'TRB': '3.5', 'AST': '0.5', 'STL': '0.3', 'BLK': '0.7'}\n",
      "{'_id': ObjectId('62a7e249d6d74bb3385e34de'), 'Player': 'Tony Snell', 'Pos': 'SG', '3P': '1.8', '2P': '1.3', 'TRB': '3.1', 'AST': '1.2', 'STL': '0.7', 'BLK': '0.2'}\n",
      "{'_id': ObjectId('62a7e249d6d74bb3385e34df'), 'Player': 'Marreese Speights', 'Pos': 'C', '3P': '1.3', '2P': '1.7', 'TRB': '4.5', 'AST': '0.8', 'STL': '0.3', 'BLK': '0.5'}\n",
      "{'_id': ObjectId('62a7e249d6d74bb3385e34e0'), 'Player': 'Nik Stauskas', 'Pos': 'SG', '3P': '1.7', '2P': '1.5', 'TRB': '2.8', 'AST': '2.4', 'STL': '0.6', 'BLK': '0.4'}\n",
      "{'_id': ObjectId('62a7e249d6d74bb3385e34e1'), 'Player': 'Edy Tavares', 'Pos': 'C', '3P': '0.0', '2P': '2.0', 'TRB': '5.5', 'AST': '0.5', 'STL': '0.0', 'BLK': '3.0'}\n",
      "{'_id': ObjectId('62a7e249d6d74bb3385e34e2'), 'Player': 'Garrett Temple', 'Pos': 'SG', '3P': '1.3', '2P': '1.6', 'TRB': '2.8', 'AST': '2.6', 'STL': '1.3', 'BLK': '0.4'}\n",
      "{'_id': ObjectId('62a7e249d6d74bb3385e34e3'), 'Player': 'Klay Thompson', 'Pos': 'SG', '3P': '3.4', '2P': '4.8', 'TRB': '3.7', 'AST': '2.1', 'STL': '0.8', 'BLK': '0.5'}\n",
      "{'_id': ObjectId('62a7e249d6d74bb3385e34e4'), 'Player': 'Tristan Thompson', 'Pos': 'C', '3P': '0.0', '2P': '3.4', 'TRB': '9.2', 'AST': '1.0', 'STL': '0.5', 'BLK': '1.1'}\n",
      "{'_id': ObjectId('62a7e249d6d74bb3385e34e5'), 'Player': 'Karl-Anthony Towns', 'Pos': 'C', '3P': '1.2', '2P': '8.5', 'TRB': '12.3', 'AST': '2.7', 'STL': '0.7', 'BLK': '1.3'}\n",
      "{'_id': ObjectId('62a7e249d6d74bb3385e34e6'), 'Player': 'Myles Turner', 'Pos': 'C', '3P': '0.5', '2P': '5.0', 'TRB': '7.3', 'AST': '1.3', 'STL': '0.9', 'BLK': '2.1'}\n",
      "{'_id': ObjectId('62a7e249d6d74bb3385e34e7'), 'Player': 'Jonas Valanciunas', 'Pos': 'C', '3P': '0.0', '2P': '4.9', 'TRB': '9.5', 'AST': '0.7', 'STL': '0.5', 'BLK': '0.8'}\n",
      "{'_id': ObjectId('62a7e249d6d74bb3385e34e8'), 'Player': 'Denzel Valentine', 'Pos': 'SG', '3P': '1.3', '2P': '0.5', 'TRB': '2.6', 'AST': '1.1', 'STL': '0.5', 'BLK': '0.1'}\n",
      "{'_id': ObjectId('62a7e249d6d74bb3385e34e9'), 'Player': 'Nikola Vucevic', 'Pos': 'C', '3P': '0.3', '2P': '6.1', 'TRB': '10.4', 'AST': '2.8', 'STL': '1.0', 'BLK': '1.0'}\n",
      "{'_id': ObjectId('62a7e249d6d74bb3385e34ea'), 'Player': 'Dwyane Wade', 'Pos': 'SG', '3P': '0.8', '2P': '6.2', 'TRB': '4.5', 'AST': '3.8', 'STL': '1.4', 'BLK': '0.7'}\n",
      "{'_id': ObjectId('62a7e249d6d74bb3385e34eb'), 'Player': 'Dion Waiters', 'Pos': 'SG', '3P': '1.8', '2P': '4.3', 'TRB': '3.3', 'AST': '4.3', 'STL': '0.9', 'BLK': '0.4'}\n",
      "{'_id': ObjectId('62a7e249d6d74bb3385e34ec'), 'Player': 'Hassan Whiteside', 'Pos': 'C', '3P': '0.0', '2P': '7.0', 'TRB': '14.1', 'AST': '0.7', 'STL': '0.7', 'BLK': '2.1'}\n",
      "{'_id': ObjectId('62a7e249d6d74bb3385e34ed'), 'Player': 'Lou Williams', 'Pos': 'SG', '3P': '2.0', '2P': '3.3', 'TRB': '2.5', 'AST': '3.0', 'STL': '1.0', 'BLK': '0.2'}\n",
      "{'_id': ObjectId('62a7e258d6d74bb3385e34ee'), 'country': 'Afghanistan', 'beer_servings': '0', 'spirit_servings': '0', 'wine_servings': '0', 'total_litres_of_pure_alcohol': '0.0', 'continent': 'AS'}\n",
      "{'_id': ObjectId('62a7e258d6d74bb3385e34ef'), 'country': 'Albania', 'beer_servings': '89', 'spirit_servings': '132', 'wine_servings': '54', 'total_litres_of_pure_alcohol': '4.9', 'continent': 'EU'}\n",
      "{'_id': ObjectId('62a7e258d6d74bb3385e34f0'), 'country': 'Algeria', 'beer_servings': '25', 'spirit_servings': '0', 'wine_servings': '14', 'total_litres_of_pure_alcohol': '0.7', 'continent': 'AF'}\n",
      "{'_id': ObjectId('62a7e258d6d74bb3385e34f1'), 'country': 'Andorra', 'beer_servings': '245', 'spirit_servings': '138', 'wine_servings': '312', 'total_litres_of_pure_alcohol': '12.4', 'continent': 'EU'}\n",
      "{'_id': ObjectId('62a7e258d6d74bb3385e34f2'), 'country': 'Angola', 'beer_servings': '217', 'spirit_servings': '57', 'wine_servings': '45', 'total_litres_of_pure_alcohol': '5.9', 'continent': 'AF'}\n",
      "{'_id': ObjectId('62a7e258d6d74bb3385e34f3'), 'country': 'Antigua & Barbuda', 'beer_servings': '102', 'spirit_servings': '128', 'wine_servings': '45', 'total_litres_of_pure_alcohol': '4.9', 'continent': 'NA'}\n",
      "{'_id': ObjectId('62a7e258d6d74bb3385e34f4'), 'country': 'Argentina', 'beer_servings': '193', 'spirit_servings': '25', 'wine_servings': '221', 'total_litres_of_pure_alcohol': '8.3', 'continent': 'SA'}\n",
      "{'_id': ObjectId('62a7e258d6d74bb3385e34f5'), 'country': 'Armenia', 'beer_servings': '21', 'spirit_servings': '179', 'wine_servings': '11', 'total_litres_of_pure_alcohol': '3.8', 'continent': 'EU'}\n",
      "{'_id': ObjectId('62a7e258d6d74bb3385e34f6'), 'country': 'Australia', 'beer_servings': '261', 'spirit_servings': '72', 'wine_servings': '212', 'total_litres_of_pure_alcohol': '10.4', 'continent': 'OC'}\n",
      "{'_id': ObjectId('62a7e258d6d74bb3385e34f7'), 'country': 'Austria', 'beer_servings': '279', 'spirit_servings': '75', 'wine_servings': '191', 'total_litres_of_pure_alcohol': '9.7', 'continent': 'EU'}\n",
      "{'_id': ObjectId('62a7e258d6d74bb3385e34f8'), 'country': 'Azerbaijan', 'beer_servings': '21', 'spirit_servings': '46', 'wine_servings': '5', 'total_litres_of_pure_alcohol': '1.3', 'continent': 'EU'}\n",
      "{'_id': ObjectId('62a7e258d6d74bb3385e34f9'), 'country': 'Bahamas', 'beer_servings': '122', 'spirit_servings': '176', 'wine_servings': '51', 'total_litres_of_pure_alcohol': '6.3', 'continent': 'NA'}\n",
      "{'_id': ObjectId('62a7e258d6d74bb3385e34fa'), 'country': 'Bahrain', 'beer_servings': '42', 'spirit_servings': '63', 'wine_servings': '7', 'total_litres_of_pure_alcohol': '2.0', 'continent': 'AS'}\n",
      "{'_id': ObjectId('62a7e258d6d74bb3385e34fb'), 'country': 'Bangladesh', 'beer_servings': '0', 'spirit_servings': '0', 'wine_servings': '0', 'total_litres_of_pure_alcohol': '0.0', 'continent': 'AS'}\n",
      "{'_id': ObjectId('62a7e258d6d74bb3385e34fc'), 'country': 'Barbados', 'beer_servings': '143', 'spirit_servings': '173', 'wine_servings': '36', 'total_litres_of_pure_alcohol': '6.3', 'continent': 'NA'}\n",
      "{'_id': ObjectId('62a7e258d6d74bb3385e34fd'), 'country': 'Belarus', 'beer_servings': '142', 'spirit_servings': '373', 'wine_servings': '42', 'total_litres_of_pure_alcohol': '14.4', 'continent': 'EU'}\n",
      "{'_id': ObjectId('62a7e258d6d74bb3385e34fe'), 'country': 'Belgium', 'beer_servings': '295', 'spirit_servings': '84', 'wine_servings': '212', 'total_litres_of_pure_alcohol': '10.5', 'continent': 'EU'}\n",
      "{'_id': ObjectId('62a7e258d6d74bb3385e34ff'), 'country': 'Belize', 'beer_servings': '263', 'spirit_servings': '114', 'wine_servings': '8', 'total_litres_of_pure_alcohol': '6.8', 'continent': 'NA'}\n",
      "{'_id': ObjectId('62a7e258d6d74bb3385e3500'), 'country': 'Benin', 'beer_servings': '34', 'spirit_servings': '4', 'wine_servings': '13', 'total_litres_of_pure_alcohol': '1.1', 'continent': 'AF'}\n",
      "{'_id': ObjectId('62a7e258d6d74bb3385e3501'), 'country': 'Bhutan', 'beer_servings': '23', 'spirit_servings': '0', 'wine_servings': '0', 'total_litres_of_pure_alcohol': '0.4', 'continent': 'AS'}\n",
      "{'_id': ObjectId('62a7e258d6d74bb3385e3502'), 'country': 'Bolivia', 'beer_servings': '167', 'spirit_servings': '41', 'wine_servings': '8', 'total_litres_of_pure_alcohol': '3.8', 'continent': 'SA'}\n",
      "{'_id': ObjectId('62a7e258d6d74bb3385e3503'), 'country': 'Bosnia-Herzegovina', 'beer_servings': '76', 'spirit_servings': '173', 'wine_servings': '8', 'total_litres_of_pure_alcohol': '4.6', 'continent': 'EU'}\n",
      "{'_id': ObjectId('62a7e258d6d74bb3385e3504'), 'country': 'Botswana', 'beer_servings': '173', 'spirit_servings': '35', 'wine_servings': '35', 'total_litres_of_pure_alcohol': '5.4', 'continent': 'AF'}\n",
      "{'_id': ObjectId('62a7e258d6d74bb3385e3505'), 'country': 'Brazil', 'beer_servings': '245', 'spirit_servings': '145', 'wine_servings': '16', 'total_litres_of_pure_alcohol': '7.2', 'continent': 'SA'}\n",
      "{'_id': ObjectId('62a7e258d6d74bb3385e3506'), 'country': 'Brunei', 'beer_servings': '31', 'spirit_servings': '2', 'wine_servings': '1', 'total_litres_of_pure_alcohol': '0.6', 'continent': 'AS'}\n",
      "{'_id': ObjectId('62a7e258d6d74bb3385e3507'), 'country': 'Bulgaria', 'beer_servings': '231', 'spirit_servings': '252', 'wine_servings': '94', 'total_litres_of_pure_alcohol': '10.3', 'continent': 'EU'}\n",
      "{'_id': ObjectId('62a7e258d6d74bb3385e3508'), 'country': 'Burkina Faso', 'beer_servings': '25', 'spirit_servings': '7', 'wine_servings': '7', 'total_litres_of_pure_alcohol': '4.3', 'continent': 'AF'}\n",
      "{'_id': ObjectId('62a7e258d6d74bb3385e3509'), 'country': 'Burundi', 'beer_servings': '88', 'spirit_servings': '0', 'wine_servings': '0', 'total_litres_of_pure_alcohol': '6.3', 'continent': 'AF'}\n",
      "{'_id': ObjectId('62a7e258d6d74bb3385e350a'), 'country': \"Cote d'Ivoire\", 'beer_servings': '37', 'spirit_servings': '1', 'wine_servings': '7', 'total_litres_of_pure_alcohol': '4.0', 'continent': 'AF'}\n",
      "{'_id': ObjectId('62a7e258d6d74bb3385e350b'), 'country': 'Cabo Verde', 'beer_servings': '144', 'spirit_servings': '56', 'wine_servings': '16', 'total_litres_of_pure_alcohol': '4.0', 'continent': 'AF'}\n",
      "{'_id': ObjectId('62a7e258d6d74bb3385e350c'), 'country': 'Cambodia', 'beer_servings': '57', 'spirit_servings': '65', 'wine_servings': '1', 'total_litres_of_pure_alcohol': '2.2', 'continent': 'AS'}\n",
      "{'_id': ObjectId('62a7e258d6d74bb3385e350d'), 'country': 'Cameroon', 'beer_servings': '147', 'spirit_servings': '1', 'wine_servings': '4', 'total_litres_of_pure_alcohol': '5.8', 'continent': 'AF'}\n",
      "{'_id': ObjectId('62a7e258d6d74bb3385e350e'), 'country': 'Canada', 'beer_servings': '240', 'spirit_servings': '122', 'wine_servings': '100', 'total_litres_of_pure_alcohol': '8.2', 'continent': 'NA'}\n",
      "{'_id': ObjectId('62a7e258d6d74bb3385e350f'), 'country': 'Central African Republic', 'beer_servings': '17', 'spirit_servings': '2', 'wine_servings': '1', 'total_litres_of_pure_alcohol': '1.8', 'continent': 'AF'}\n",
      "{'_id': ObjectId('62a7e258d6d74bb3385e3510'), 'country': 'Chad', 'beer_servings': '15', 'spirit_servings': '1', 'wine_servings': '1', 'total_litres_of_pure_alcohol': '0.4', 'continent': 'AF'}\n",
      "{'_id': ObjectId('62a7e258d6d74bb3385e3511'), 'country': 'Chile', 'beer_servings': '130', 'spirit_servings': '124', 'wine_servings': '172', 'total_litres_of_pure_alcohol': '7.6', 'continent': 'SA'}\n",
      "{'_id': ObjectId('62a7e258d6d74bb3385e3512'), 'country': 'China', 'beer_servings': '79', 'spirit_servings': '192', 'wine_servings': '8', 'total_litres_of_pure_alcohol': '5.0', 'continent': 'AS'}\n",
      "{'_id': ObjectId('62a7e258d6d74bb3385e3513'), 'country': 'Colombia', 'beer_servings': '159', 'spirit_servings': '76', 'wine_servings': '3', 'total_litres_of_pure_alcohol': '4.2', 'continent': 'SA'}\n",
      "{'_id': ObjectId('62a7e258d6d74bb3385e3514'), 'country': 'Comoros', 'beer_servings': '1', 'spirit_servings': '3', 'wine_servings': '1', 'total_litres_of_pure_alcohol': '0.1', 'continent': 'AF'}\n",
      "{'_id': ObjectId('62a7e258d6d74bb3385e3515'), 'country': 'Congo', 'beer_servings': '76', 'spirit_servings': '1', 'wine_servings': '9', 'total_litres_of_pure_alcohol': '1.7', 'continent': 'AF'}\n",
      "{'_id': ObjectId('62a7e258d6d74bb3385e3516'), 'country': 'Cook Islands', 'beer_servings': '0', 'spirit_servings': '254', 'wine_servings': '74', 'total_litres_of_pure_alcohol': '5.9', 'continent': 'OC'}\n",
      "{'_id': ObjectId('62a7e258d6d74bb3385e3517'), 'country': 'Costa Rica', 'beer_servings': '149', 'spirit_servings': '87', 'wine_servings': '11', 'total_litres_of_pure_alcohol': '4.4', 'continent': 'NA'}\n",
      "{'_id': ObjectId('62a7e258d6d74bb3385e3518'), 'country': 'Croatia', 'beer_servings': '230', 'spirit_servings': '87', 'wine_servings': '254', 'total_litres_of_pure_alcohol': '10.2', 'continent': 'EU'}\n",
      "{'_id': ObjectId('62a7e258d6d74bb3385e3519'), 'country': 'Cuba', 'beer_servings': '93', 'spirit_servings': '137', 'wine_servings': '5', 'total_litres_of_pure_alcohol': '4.2', 'continent': 'NA'}\n",
      "{'_id': ObjectId('62a7e258d6d74bb3385e351a'), 'country': 'Cyprus', 'beer_servings': '192', 'spirit_servings': '154', 'wine_servings': '113', 'total_litres_of_pure_alcohol': '8.2', 'continent': 'EU'}\n",
      "{'_id': ObjectId('62a7e258d6d74bb3385e351b'), 'country': 'Czech Republic', 'beer_servings': '361', 'spirit_servings': '170', 'wine_servings': '134', 'total_litres_of_pure_alcohol': '11.8', 'continent': 'EU'}\n",
      "{'_id': ObjectId('62a7e258d6d74bb3385e351c'), 'country': 'North Korea', 'beer_servings': '0', 'spirit_servings': '0', 'wine_servings': '0', 'total_litres_of_pure_alcohol': '0.0', 'continent': 'AS'}\n",
      "{'_id': ObjectId('62a7e258d6d74bb3385e351d'), 'country': 'DR Congo', 'beer_servings': '32', 'spirit_servings': '3', 'wine_servings': '1', 'total_litres_of_pure_alcohol': '2.3', 'continent': 'AF'}\n",
      "{'_id': ObjectId('62a7e258d6d74bb3385e351e'), 'country': 'Denmark', 'beer_servings': '224', 'spirit_servings': '81', 'wine_servings': '278', 'total_litres_of_pure_alcohol': '10.4', 'continent': 'EU'}\n",
      "{'_id': ObjectId('62a7e258d6d74bb3385e351f'), 'country': 'Djibouti', 'beer_servings': '15', 'spirit_servings': '44', 'wine_servings': '3', 'total_litres_of_pure_alcohol': '1.1', 'continent': 'AF'}\n",
      "{'_id': ObjectId('62a7e258d6d74bb3385e3520'), 'country': 'Dominica', 'beer_servings': '52', 'spirit_servings': '286', 'wine_servings': '26', 'total_litres_of_pure_alcohol': '6.6', 'continent': 'NA'}\n",
      "{'_id': ObjectId('62a7e258d6d74bb3385e3521'), 'country': 'Dominican Republic', 'beer_servings': '193', 'spirit_servings': '147', 'wine_servings': '9', 'total_litres_of_pure_alcohol': '6.2', 'continent': 'NA'}\n",
      "{'_id': ObjectId('62a7e258d6d74bb3385e3522'), 'country': 'Ecuador', 'beer_servings': '162', 'spirit_servings': '74', 'wine_servings': '3', 'total_litres_of_pure_alcohol': '4.2', 'continent': 'SA'}\n",
      "{'_id': ObjectId('62a7e258d6d74bb3385e3523'), 'country': 'Egypt', 'beer_servings': '6', 'spirit_servings': '4', 'wine_servings': '1', 'total_litres_of_pure_alcohol': '0.2', 'continent': 'AF'}\n",
      "{'_id': ObjectId('62a7e258d6d74bb3385e3524'), 'country': 'El Salvador', 'beer_servings': '52', 'spirit_servings': '69', 'wine_servings': '2', 'total_litres_of_pure_alcohol': '2.2', 'continent': 'NA'}\n",
      "{'_id': ObjectId('62a7e258d6d74bb3385e3525'), 'country': 'Equatorial Guinea', 'beer_servings': '92', 'spirit_servings': '0', 'wine_servings': '233', 'total_litres_of_pure_alcohol': '5.8', 'continent': 'AF'}\n",
      "{'_id': ObjectId('62a7e258d6d74bb3385e3526'), 'country': 'Eritrea', 'beer_servings': '18', 'spirit_servings': '0', 'wine_servings': '0', 'total_litres_of_pure_alcohol': '0.5', 'continent': 'AF'}\n",
      "{'_id': ObjectId('62a7e258d6d74bb3385e3527'), 'country': 'Estonia', 'beer_servings': '224', 'spirit_servings': '194', 'wine_servings': '59', 'total_litres_of_pure_alcohol': '9.5', 'continent': 'EU'}\n",
      "{'_id': ObjectId('62a7e258d6d74bb3385e3528'), 'country': 'Ethiopia', 'beer_servings': '20', 'spirit_servings': '3', 'wine_servings': '0', 'total_litres_of_pure_alcohol': '0.7', 'continent': 'AF'}\n",
      "{'_id': ObjectId('62a7e258d6d74bb3385e3529'), 'country': 'Fiji', 'beer_servings': '77', 'spirit_servings': '35', 'wine_servings': '1', 'total_litres_of_pure_alcohol': '2.0', 'continent': 'OC'}\n",
      "{'_id': ObjectId('62a7e258d6d74bb3385e352a'), 'country': 'Finland', 'beer_servings': '263', 'spirit_servings': '133', 'wine_servings': '97', 'total_litres_of_pure_alcohol': '10.0', 'continent': 'EU'}\n",
      "{'_id': ObjectId('62a7e258d6d74bb3385e352b'), 'country': 'France', 'beer_servings': '127', 'spirit_servings': '151', 'wine_servings': '370', 'total_litres_of_pure_alcohol': '11.8', 'continent': 'EU'}\n",
      "{'_id': ObjectId('62a7e258d6d74bb3385e352c'), 'country': 'Gabon', 'beer_servings': '347', 'spirit_servings': '98', 'wine_servings': '59', 'total_litres_of_pure_alcohol': '8.9', 'continent': 'AF'}\n",
      "{'_id': ObjectId('62a7e258d6d74bb3385e352d'), 'country': 'Gambia', 'beer_servings': '8', 'spirit_servings': '0', 'wine_servings': '1', 'total_litres_of_pure_alcohol': '2.4', 'continent': 'AF'}\n",
      "{'_id': ObjectId('62a7e258d6d74bb3385e352e'), 'country': 'Georgia', 'beer_servings': '52', 'spirit_servings': '100', 'wine_servings': '149', 'total_litres_of_pure_alcohol': '5.4', 'continent': 'EU'}\n",
      "{'_id': ObjectId('62a7e258d6d74bb3385e352f'), 'country': 'Germany', 'beer_servings': '346', 'spirit_servings': '117', 'wine_servings': '175', 'total_litres_of_pure_alcohol': '11.3', 'continent': 'EU'}\n",
      "{'_id': ObjectId('62a7e258d6d74bb3385e3530'), 'country': 'Ghana', 'beer_servings': '31', 'spirit_servings': '3', 'wine_servings': '10', 'total_litres_of_pure_alcohol': '1.8', 'continent': 'AF'}\n",
      "{'_id': ObjectId('62a7e258d6d74bb3385e3531'), 'country': 'Greece', 'beer_servings': '133', 'spirit_servings': '112', 'wine_servings': '218', 'total_litres_of_pure_alcohol': '8.3', 'continent': 'EU'}\n",
      "{'_id': ObjectId('62a7e258d6d74bb3385e3532'), 'country': 'Grenada', 'beer_servings': '199', 'spirit_servings': '438', 'wine_servings': '28', 'total_litres_of_pure_alcohol': '11.9', 'continent': 'NA'}\n",
      "{'_id': ObjectId('62a7e258d6d74bb3385e3533'), 'country': 'Guatemala', 'beer_servings': '53', 'spirit_servings': '69', 'wine_servings': '2', 'total_litres_of_pure_alcohol': '2.2', 'continent': 'NA'}\n",
      "{'_id': ObjectId('62a7e258d6d74bb3385e3534'), 'country': 'Guinea', 'beer_servings': '9', 'spirit_servings': '0', 'wine_servings': '2', 'total_litres_of_pure_alcohol': '0.2', 'continent': 'AF'}\n",
      "{'_id': ObjectId('62a7e258d6d74bb3385e3535'), 'country': 'Guinea-Bissau', 'beer_servings': '28', 'spirit_servings': '31', 'wine_servings': '21', 'total_litres_of_pure_alcohol': '2.5', 'continent': 'AF'}\n",
      "{'_id': ObjectId('62a7e258d6d74bb3385e3536'), 'country': 'Guyana', 'beer_servings': '93', 'spirit_servings': '302', 'wine_servings': '1', 'total_litres_of_pure_alcohol': '7.1', 'continent': 'SA'}\n",
      "{'_id': ObjectId('62a7e258d6d74bb3385e3537'), 'country': 'Haiti', 'beer_servings': '1', 'spirit_servings': '326', 'wine_servings': '1', 'total_litres_of_pure_alcohol': '5.9', 'continent': 'NA'}\n",
      "{'_id': ObjectId('62a7e258d6d74bb3385e3538'), 'country': 'Honduras', 'beer_servings': '69', 'spirit_servings': '98', 'wine_servings': '2', 'total_litres_of_pure_alcohol': '3.0', 'continent': 'NA'}\n",
      "{'_id': ObjectId('62a7e258d6d74bb3385e3539'), 'country': 'Hungary', 'beer_servings': '234', 'spirit_servings': '215', 'wine_servings': '185', 'total_litres_of_pure_alcohol': '11.3', 'continent': 'EU'}\n",
      "{'_id': ObjectId('62a7e258d6d74bb3385e353a'), 'country': 'Iceland', 'beer_servings': '233', 'spirit_servings': '61', 'wine_servings': '78', 'total_litres_of_pure_alcohol': '6.6', 'continent': 'EU'}\n",
      "{'_id': ObjectId('62a7e258d6d74bb3385e353b'), 'country': 'India', 'beer_servings': '9', 'spirit_servings': '114', 'wine_servings': '0', 'total_litres_of_pure_alcohol': '2.2', 'continent': 'AS'}\n",
      "{'_id': ObjectId('62a7e258d6d74bb3385e353c'), 'country': 'Indonesia', 'beer_servings': '5', 'spirit_servings': '1', 'wine_servings': '0', 'total_litres_of_pure_alcohol': '0.1', 'continent': 'AS'}\n",
      "{'_id': ObjectId('62a7e258d6d74bb3385e353d'), 'country': 'Iran', 'beer_servings': '0', 'spirit_servings': '0', 'wine_servings': '0', 'total_litres_of_pure_alcohol': '0.0', 'continent': 'AS'}\n",
      "{'_id': ObjectId('62a7e258d6d74bb3385e353e'), 'country': 'Iraq', 'beer_servings': '9', 'spirit_servings': '3', 'wine_servings': '0', 'total_litres_of_pure_alcohol': '0.2', 'continent': 'AS'}\n",
      "{'_id': ObjectId('62a7e258d6d74bb3385e353f'), 'country': 'Ireland', 'beer_servings': '313', 'spirit_servings': '118', 'wine_servings': '165', 'total_litres_of_pure_alcohol': '11.4', 'continent': 'EU'}\n",
      "{'_id': ObjectId('62a7e258d6d74bb3385e3540'), 'country': 'Israel', 'beer_servings': '63', 'spirit_servings': '69', 'wine_servings': '9', 'total_litres_of_pure_alcohol': '2.5', 'continent': 'AS'}\n",
      "{'_id': ObjectId('62a7e258d6d74bb3385e3541'), 'country': 'Italy', 'beer_servings': '85', 'spirit_servings': '42', 'wine_servings': '237', 'total_litres_of_pure_alcohol': '6.5', 'continent': 'EU'}\n",
      "{'_id': ObjectId('62a7e258d6d74bb3385e3542'), 'country': 'Jamaica', 'beer_servings': '82', 'spirit_servings': '97', 'wine_servings': '9', 'total_litres_of_pure_alcohol': '3.4', 'continent': 'NA'}\n",
      "{'_id': ObjectId('62a7e258d6d74bb3385e3543'), 'country': 'Japan', 'beer_servings': '77', 'spirit_servings': '202', 'wine_servings': '16', 'total_litres_of_pure_alcohol': '7.0', 'continent': 'AS'}\n",
      "{'_id': ObjectId('62a7e258d6d74bb3385e3544'), 'country': 'Jordan', 'beer_servings': '6', 'spirit_servings': '21', 'wine_servings': '1', 'total_litres_of_pure_alcohol': '0.5', 'continent': 'AS'}\n",
      "{'_id': ObjectId('62a7e258d6d74bb3385e3545'), 'country': 'Kazakhstan', 'beer_servings': '124', 'spirit_servings': '246', 'wine_servings': '12', 'total_litres_of_pure_alcohol': '6.8', 'continent': 'AS'}\n",
      "{'_id': ObjectId('62a7e258d6d74bb3385e3546'), 'country': 'Kenya', 'beer_servings': '58', 'spirit_servings': '22', 'wine_servings': '2', 'total_litres_of_pure_alcohol': '1.8', 'continent': 'AF'}\n",
      "{'_id': ObjectId('62a7e258d6d74bb3385e3547'), 'country': 'Kiribati', 'beer_servings': '21', 'spirit_servings': '34', 'wine_servings': '1', 'total_litres_of_pure_alcohol': '1.0', 'continent': 'OC'}\n",
      "{'_id': ObjectId('62a7e258d6d74bb3385e3548'), 'country': 'Kuwait', 'beer_servings': '0', 'spirit_servings': '0', 'wine_servings': '0', 'total_litres_of_pure_alcohol': '0.0', 'continent': 'AS'}\n",
      "{'_id': ObjectId('62a7e258d6d74bb3385e3549'), 'country': 'Kyrgyzstan', 'beer_servings': '31', 'spirit_servings': '97', 'wine_servings': '6', 'total_litres_of_pure_alcohol': '2.4', 'continent': 'AS'}\n",
      "{'_id': ObjectId('62a7e258d6d74bb3385e354a'), 'country': 'Laos', 'beer_servings': '62', 'spirit_servings': '0', 'wine_servings': '123', 'total_litres_of_pure_alcohol': '6.2', 'continent': 'AS'}\n",
      "{'_id': ObjectId('62a7e258d6d74bb3385e354b'), 'country': 'Latvia', 'beer_servings': '281', 'spirit_servings': '216', 'wine_servings': '62', 'total_litres_of_pure_alcohol': '10.5', 'continent': 'EU'}\n",
      "{'_id': ObjectId('62a7e258d6d74bb3385e354c'), 'country': 'Lebanon', 'beer_servings': '20', 'spirit_servings': '55', 'wine_servings': '31', 'total_litres_of_pure_alcohol': '1.9', 'continent': 'AS'}\n",
      "{'_id': ObjectId('62a7e258d6d74bb3385e354d'), 'country': 'Lesotho', 'beer_servings': '82', 'spirit_servings': '29', 'wine_servings': '0', 'total_litres_of_pure_alcohol': '2.8', 'continent': 'AF'}\n",
      "{'_id': ObjectId('62a7e258d6d74bb3385e354e'), 'country': 'Liberia', 'beer_servings': '19', 'spirit_servings': '152', 'wine_servings': '2', 'total_litres_of_pure_alcohol': '3.1', 'continent': 'AF'}\n",
      "{'_id': ObjectId('62a7e258d6d74bb3385e354f'), 'country': 'Libya', 'beer_servings': '0', 'spirit_servings': '0', 'wine_servings': '0', 'total_litres_of_pure_alcohol': '0.0', 'continent': 'AF'}\n",
      "{'_id': ObjectId('62a7e258d6d74bb3385e3550'), 'country': 'Lithuania', 'beer_servings': '343', 'spirit_servings': '244', 'wine_servings': '56', 'total_litres_of_pure_alcohol': '12.9', 'continent': 'EU'}\n",
      "{'_id': ObjectId('62a7e258d6d74bb3385e3551'), 'country': 'Luxembourg', 'beer_servings': '236', 'spirit_servings': '133', 'wine_servings': '271', 'total_litres_of_pure_alcohol': '11.4', 'continent': 'EU'}\n",
      "{'_id': ObjectId('62a7e258d6d74bb3385e3552'), 'country': 'Madagascar', 'beer_servings': '26', 'spirit_servings': '15', 'wine_servings': '4', 'total_litres_of_pure_alcohol': '0.8', 'continent': 'AF'}\n",
      "{'_id': ObjectId('62a7e258d6d74bb3385e3553'), 'country': 'Malawi', 'beer_servings': '8', 'spirit_servings': '11', 'wine_servings': '1', 'total_litres_of_pure_alcohol': '1.5', 'continent': 'AF'}\n",
      "{'_id': ObjectId('62a7e258d6d74bb3385e3554'), 'country': 'Malaysia', 'beer_servings': '13', 'spirit_servings': '4', 'wine_servings': '0', 'total_litres_of_pure_alcohol': '0.3', 'continent': 'AS'}\n",
      "{'_id': ObjectId('62a7e258d6d74bb3385e3555'), 'country': 'Maldives', 'beer_servings': '0', 'spirit_servings': '0', 'wine_servings': '0', 'total_litres_of_pure_alcohol': '0.0', 'continent': 'AS'}\n",
      "{'_id': ObjectId('62a7e258d6d74bb3385e3556'), 'country': 'Mali', 'beer_servings': '5', 'spirit_servings': '1', 'wine_servings': '1', 'total_litres_of_pure_alcohol': '0.6', 'continent': 'AF'}\n",
      "{'_id': ObjectId('62a7e258d6d74bb3385e3557'), 'country': 'Malta', 'beer_servings': '149', 'spirit_servings': '100', 'wine_servings': '120', 'total_litres_of_pure_alcohol': '6.6', 'continent': 'EU'}\n",
      "{'_id': ObjectId('62a7e258d6d74bb3385e3558'), 'country': 'Marshall Islands', 'beer_servings': '0', 'spirit_servings': '0', 'wine_servings': '0', 'total_litres_of_pure_alcohol': '0.0', 'continent': 'OC'}\n",
      "{'_id': ObjectId('62a7e258d6d74bb3385e3559'), 'country': 'Mauritania', 'beer_servings': '0', 'spirit_servings': '0', 'wine_servings': '0', 'total_litres_of_pure_alcohol': '0.0', 'continent': 'AF'}\n",
      "{'_id': ObjectId('62a7e258d6d74bb3385e355a'), 'country': 'Mauritius', 'beer_servings': '98', 'spirit_servings': '31', 'wine_servings': '18', 'total_litres_of_pure_alcohol': '2.6', 'continent': 'AF'}\n",
      "{'_id': ObjectId('62a7e258d6d74bb3385e355b'), 'country': 'Mexico', 'beer_servings': '238', 'spirit_servings': '68', 'wine_servings': '5', 'total_litres_of_pure_alcohol': '5.5', 'continent': 'NA'}\n",
      "{'_id': ObjectId('62a7e258d6d74bb3385e355c'), 'country': 'Micronesia', 'beer_servings': '62', 'spirit_servings': '50', 'wine_servings': '18', 'total_litres_of_pure_alcohol': '2.3', 'continent': 'OC'}\n",
      "{'_id': ObjectId('62a7e258d6d74bb3385e355d'), 'country': 'Monaco', 'beer_servings': '0', 'spirit_servings': '0', 'wine_servings': '0', 'total_litres_of_pure_alcohol': '0.0', 'continent': 'EU'}\n",
      "{'_id': ObjectId('62a7e258d6d74bb3385e355e'), 'country': 'Mongolia', 'beer_servings': '77', 'spirit_servings': '189', 'wine_servings': '8', 'total_litres_of_pure_alcohol': '4.9', 'continent': 'AS'}\n",
      "{'_id': ObjectId('62a7e258d6d74bb3385e355f'), 'country': 'Montenegro', 'beer_servings': '31', 'spirit_servings': '114', 'wine_servings': '128', 'total_litres_of_pure_alcohol': '4.9', 'continent': 'EU'}\n",
      "{'_id': ObjectId('62a7e258d6d74bb3385e3560'), 'country': 'Morocco', 'beer_servings': '12', 'spirit_servings': '6', 'wine_servings': '10', 'total_litres_of_pure_alcohol': '0.5', 'continent': 'AF'}\n",
      "{'_id': ObjectId('62a7e258d6d74bb3385e3561'), 'country': 'Mozambique', 'beer_servings': '47', 'spirit_servings': '18', 'wine_servings': '5', 'total_litres_of_pure_alcohol': '1.3', 'continent': 'AF'}\n",
      "{'_id': ObjectId('62a7e258d6d74bb3385e3562'), 'country': 'Myanmar', 'beer_servings': '5', 'spirit_servings': '1', 'wine_servings': '0', 'total_litres_of_pure_alcohol': '0.1', 'continent': 'AS'}\n",
      "{'_id': ObjectId('62a7e258d6d74bb3385e3563'), 'country': 'Namibia', 'beer_servings': '376', 'spirit_servings': '3', 'wine_servings': '1', 'total_litres_of_pure_alcohol': '6.8', 'continent': 'AF'}\n",
      "{'_id': ObjectId('62a7e258d6d74bb3385e3564'), 'country': 'Nauru', 'beer_servings': '49', 'spirit_servings': '0', 'wine_servings': '8', 'total_litres_of_pure_alcohol': '1.0', 'continent': 'OC'}\n",
      "{'_id': ObjectId('62a7e258d6d74bb3385e3565'), 'country': 'Nepal', 'beer_servings': '5', 'spirit_servings': '6', 'wine_servings': '0', 'total_litres_of_pure_alcohol': '0.2', 'continent': 'AS'}\n",
      "{'_id': ObjectId('62a7e258d6d74bb3385e3566'), 'country': 'Netherlands', 'beer_servings': '251', 'spirit_servings': '88', 'wine_servings': '190', 'total_litres_of_pure_alcohol': '9.4', 'continent': 'EU'}\n",
      "{'_id': ObjectId('62a7e258d6d74bb3385e3567'), 'country': 'New Zealand', 'beer_servings': '203', 'spirit_servings': '79', 'wine_servings': '175', 'total_litres_of_pure_alcohol': '9.3', 'continent': 'OC'}\n",
      "{'_id': ObjectId('62a7e258d6d74bb3385e3568'), 'country': 'Nicaragua', 'beer_servings': '78', 'spirit_servings': '118', 'wine_servings': '1', 'total_litres_of_pure_alcohol': '3.5', 'continent': 'NA'}\n",
      "{'_id': ObjectId('62a7e258d6d74bb3385e3569'), 'country': 'Niger', 'beer_servings': '3', 'spirit_servings': '2', 'wine_servings': '1', 'total_litres_of_pure_alcohol': '0.1', 'continent': 'AF'}\n",
      "{'_id': ObjectId('62a7e258d6d74bb3385e356a'), 'country': 'Nigeria', 'beer_servings': '42', 'spirit_servings': '5', 'wine_servings': '2', 'total_litres_of_pure_alcohol': '9.1', 'continent': 'AF'}\n",
      "{'_id': ObjectId('62a7e258d6d74bb3385e356b'), 'country': 'Niue', 'beer_servings': '188', 'spirit_servings': '200', 'wine_servings': '7', 'total_litres_of_pure_alcohol': '7.0', 'continent': 'OC'}\n",
      "{'_id': ObjectId('62a7e258d6d74bb3385e356c'), 'country': 'Norway', 'beer_servings': '169', 'spirit_servings': '71', 'wine_servings': '129', 'total_litres_of_pure_alcohol': '6.7', 'continent': 'EU'}\n",
      "{'_id': ObjectId('62a7e258d6d74bb3385e356d'), 'country': 'Oman', 'beer_servings': '22', 'spirit_servings': '16', 'wine_servings': '1', 'total_litres_of_pure_alcohol': '0.7', 'continent': 'AS'}\n",
      "{'_id': ObjectId('62a7e258d6d74bb3385e356e'), 'country': 'Pakistan', 'beer_servings': '0', 'spirit_servings': '0', 'wine_servings': '0', 'total_litres_of_pure_alcohol': '0.0', 'continent': 'AS'}\n",
      "{'_id': ObjectId('62a7e258d6d74bb3385e356f'), 'country': 'Palau', 'beer_servings': '306', 'spirit_servings': '63', 'wine_servings': '23', 'total_litres_of_pure_alcohol': '6.9', 'continent': 'OC'}\n",
      "{'_id': ObjectId('62a7e258d6d74bb3385e3570'), 'country': 'Panama', 'beer_servings': '285', 'spirit_servings': '104', 'wine_servings': '18', 'total_litres_of_pure_alcohol': '7.2', 'continent': 'NA'}\n",
      "{'_id': ObjectId('62a7e258d6d74bb3385e3571'), 'country': 'Papua New Guinea', 'beer_servings': '44', 'spirit_servings': '39', 'wine_servings': '1', 'total_litres_of_pure_alcohol': '1.5', 'continent': 'OC'}\n",
      "{'_id': ObjectId('62a7e258d6d74bb3385e3572'), 'country': 'Paraguay', 'beer_servings': '213', 'spirit_servings': '117', 'wine_servings': '74', 'total_litres_of_pure_alcohol': '7.3', 'continent': 'SA'}\n",
      "{'_id': ObjectId('62a7e258d6d74bb3385e3573'), 'country': 'Peru', 'beer_servings': '163', 'spirit_servings': '160', 'wine_servings': '21', 'total_litres_of_pure_alcohol': '6.1', 'continent': 'SA'}\n",
      "{'_id': ObjectId('62a7e258d6d74bb3385e3574'), 'country': 'Philippines', 'beer_servings': '71', 'spirit_servings': '186', 'wine_servings': '1', 'total_litres_of_pure_alcohol': '4.6', 'continent': 'AS'}\n",
      "{'_id': ObjectId('62a7e258d6d74bb3385e3575'), 'country': 'Poland', 'beer_servings': '343', 'spirit_servings': '215', 'wine_servings': '56', 'total_litres_of_pure_alcohol': '10.9', 'continent': 'EU'}\n",
      "{'_id': ObjectId('62a7e258d6d74bb3385e3576'), 'country': 'Portugal', 'beer_servings': '194', 'spirit_servings': '67', 'wine_servings': '339', 'total_litres_of_pure_alcohol': '11.0', 'continent': 'EU'}\n",
      "{'_id': ObjectId('62a7e258d6d74bb3385e3577'), 'country': 'Qatar', 'beer_servings': '1', 'spirit_servings': '42', 'wine_servings': '7', 'total_litres_of_pure_alcohol': '0.9', 'continent': 'AS'}\n",
      "{'_id': ObjectId('62a7e258d6d74bb3385e3578'), 'country': 'South Korea', 'beer_servings': '140', 'spirit_servings': '16', 'wine_servings': '9', 'total_litres_of_pure_alcohol': '9.8', 'continent': 'AS'}\n",
      "{'_id': ObjectId('62a7e258d6d74bb3385e3579'), 'country': 'Moldova', 'beer_servings': '109', 'spirit_servings': '226', 'wine_servings': '18', 'total_litres_of_pure_alcohol': '6.3', 'continent': 'EU'}\n",
      "{'_id': ObjectId('62a7e258d6d74bb3385e357a'), 'country': 'Romania', 'beer_servings': '297', 'spirit_servings': '122', 'wine_servings': '167', 'total_litres_of_pure_alcohol': '10.4', 'continent': 'EU'}\n",
      "{'_id': ObjectId('62a7e258d6d74bb3385e357b'), 'country': 'Russian Federation', 'beer_servings': '247', 'spirit_servings': '326', 'wine_servings': '73', 'total_litres_of_pure_alcohol': '11.5', 'continent': 'AS'}\n",
      "{'_id': ObjectId('62a7e258d6d74bb3385e357c'), 'country': 'Rwanda', 'beer_servings': '43', 'spirit_servings': '2', 'wine_servings': '0', 'total_litres_of_pure_alcohol': '6.8', 'continent': 'AF'}\n",
      "{'_id': ObjectId('62a7e258d6d74bb3385e357d'), 'country': 'St. Kitts & Nevis', 'beer_servings': '194', 'spirit_servings': '205', 'wine_servings': '32', 'total_litres_of_pure_alcohol': '7.7', 'continent': 'NA'}\n",
      "{'_id': ObjectId('62a7e258d6d74bb3385e357e'), 'country': 'St. Lucia', 'beer_servings': '171', 'spirit_servings': '315', 'wine_servings': '71', 'total_litres_of_pure_alcohol': '10.1', 'continent': 'NA'}\n",
      "{'_id': ObjectId('62a7e258d6d74bb3385e357f'), 'country': 'St. Vincent & the Grenadines', 'beer_servings': '120', 'spirit_servings': '221', 'wine_servings': '11', 'total_litres_of_pure_alcohol': '6.3', 'continent': 'NA'}\n",
      "{'_id': ObjectId('62a7e258d6d74bb3385e3580'), 'country': 'Samoa', 'beer_servings': '105', 'spirit_servings': '18', 'wine_servings': '24', 'total_litres_of_pure_alcohol': '2.6', 'continent': 'OC'}\n",
      "{'_id': ObjectId('62a7e258d6d74bb3385e3581'), 'country': 'San Marino', 'beer_servings': '0', 'spirit_servings': '0', 'wine_servings': '0', 'total_litres_of_pure_alcohol': '0.0', 'continent': 'EU'}\n",
      "{'_id': ObjectId('62a7e258d6d74bb3385e3582'), 'country': 'Sao Tome & Principe', 'beer_servings': '56', 'spirit_servings': '38', 'wine_servings': '140', 'total_litres_of_pure_alcohol': '4.2', 'continent': 'AF'}\n",
      "{'_id': ObjectId('62a7e258d6d74bb3385e3583'), 'country': 'Saudi Arabia', 'beer_servings': '0', 'spirit_servings': '5', 'wine_servings': '0', 'total_litres_of_pure_alcohol': '0.1', 'continent': 'AS'}\n",
      "{'_id': ObjectId('62a7e258d6d74bb3385e3584'), 'country': 'Senegal', 'beer_servings': '9', 'spirit_servings': '1', 'wine_servings': '7', 'total_litres_of_pure_alcohol': '0.3', 'continent': 'AF'}\n",
      "{'_id': ObjectId('62a7e258d6d74bb3385e3585'), 'country': 'Serbia', 'beer_servings': '283', 'spirit_servings': '131', 'wine_servings': '127', 'total_litres_of_pure_alcohol': '9.6', 'continent': 'EU'}\n",
      "{'_id': ObjectId('62a7e258d6d74bb3385e3586'), 'country': 'Seychelles', 'beer_servings': '157', 'spirit_servings': '25', 'wine_servings': '51', 'total_litres_of_pure_alcohol': '4.1', 'continent': 'AF'}\n",
      "{'_id': ObjectId('62a7e258d6d74bb3385e3587'), 'country': 'Sierra Leone', 'beer_servings': '25', 'spirit_servings': '3', 'wine_servings': '2', 'total_litres_of_pure_alcohol': '6.7', 'continent': 'AF'}\n",
      "{'_id': ObjectId('62a7e258d6d74bb3385e3588'), 'country': 'Singapore', 'beer_servings': '60', 'spirit_servings': '12', 'wine_servings': '11', 'total_litres_of_pure_alcohol': '1.5', 'continent': 'AS'}\n",
      "{'_id': ObjectId('62a7e258d6d74bb3385e3589'), 'country': 'Slovakia', 'beer_servings': '196', 'spirit_servings': '293', 'wine_servings': '116', 'total_litres_of_pure_alcohol': '11.4', 'continent': 'EU'}\n",
      "{'_id': ObjectId('62a7e258d6d74bb3385e358a'), 'country': 'Slovenia', 'beer_servings': '270', 'spirit_servings': '51', 'wine_servings': '276', 'total_litres_of_pure_alcohol': '10.6', 'continent': 'EU'}\n",
      "{'_id': ObjectId('62a7e258d6d74bb3385e358b'), 'country': 'Solomon Islands', 'beer_servings': '56', 'spirit_servings': '11', 'wine_servings': '1', 'total_litres_of_pure_alcohol': '1.2', 'continent': 'OC'}\n",
      "{'_id': ObjectId('62a7e258d6d74bb3385e358c'), 'country': 'Somalia', 'beer_servings': '0', 'spirit_servings': '0', 'wine_servings': '0', 'total_litres_of_pure_alcohol': '0.0', 'continent': 'AF'}\n",
      "{'_id': ObjectId('62a7e258d6d74bb3385e358d'), 'country': 'South Africa', 'beer_servings': '225', 'spirit_servings': '76', 'wine_servings': '81', 'total_litres_of_pure_alcohol': '8.2', 'continent': 'AF'}\n",
      "{'_id': ObjectId('62a7e258d6d74bb3385e358e'), 'country': 'Spain', 'beer_servings': '284', 'spirit_servings': '157', 'wine_servings': '112', 'total_litres_of_pure_alcohol': '10.0', 'continent': 'EU'}\n",
      "{'_id': ObjectId('62a7e258d6d74bb3385e358f'), 'country': 'Sri Lanka', 'beer_servings': '16', 'spirit_servings': '104', 'wine_servings': '0', 'total_litres_of_pure_alcohol': '2.2', 'continent': 'AS'}\n",
      "{'_id': ObjectId('62a7e258d6d74bb3385e3590'), 'country': 'Sudan', 'beer_servings': '8', 'spirit_servings': '13', 'wine_servings': '0', 'total_litres_of_pure_alcohol': '1.7', 'continent': 'AF'}\n",
      "{'_id': ObjectId('62a7e258d6d74bb3385e3591'), 'country': 'Suriname', 'beer_servings': '128', 'spirit_servings': '178', 'wine_servings': '7', 'total_litres_of_pure_alcohol': '5.6', 'continent': 'SA'}\n",
      "{'_id': ObjectId('62a7e258d6d74bb3385e3592'), 'country': 'Swaziland', 'beer_servings': '90', 'spirit_servings': '2', 'wine_servings': '2', 'total_litres_of_pure_alcohol': '4.7', 'continent': 'AF'}\n",
      "{'_id': ObjectId('62a7e258d6d74bb3385e3593'), 'country': 'Sweden', 'beer_servings': '152', 'spirit_servings': '60', 'wine_servings': '186', 'total_litres_of_pure_alcohol': '7.2', 'continent': 'EU'}\n",
      "{'_id': ObjectId('62a7e258d6d74bb3385e3594'), 'country': 'Switzerland', 'beer_servings': '185', 'spirit_servings': '100', 'wine_servings': '280', 'total_litres_of_pure_alcohol': '10.2', 'continent': 'EU'}\n",
      "{'_id': ObjectId('62a7e258d6d74bb3385e3595'), 'country': 'Syria', 'beer_servings': '5', 'spirit_servings': '35', 'wine_servings': '16', 'total_litres_of_pure_alcohol': '1.0', 'continent': 'AS'}\n",
      "{'_id': ObjectId('62a7e258d6d74bb3385e3596'), 'country': 'Tajikistan', 'beer_servings': '2', 'spirit_servings': '15', 'wine_servings': '0', 'total_litres_of_pure_alcohol': '0.3', 'continent': 'AS'}\n",
      "{'_id': ObjectId('62a7e258d6d74bb3385e3597'), 'country': 'Thailand', 'beer_servings': '99', 'spirit_servings': '258', 'wine_servings': '1', 'total_litres_of_pure_alcohol': '6.4', 'continent': 'AS'}\n",
      "{'_id': ObjectId('62a7e258d6d74bb3385e3598'), 'country': 'Macedonia', 'beer_servings': '106', 'spirit_servings': '27', 'wine_servings': '86', 'total_litres_of_pure_alcohol': '3.9', 'continent': 'EU'}\n",
      "{'_id': ObjectId('62a7e258d6d74bb3385e3599'), 'country': 'Timor-Leste', 'beer_servings': '1', 'spirit_servings': '1', 'wine_servings': '4', 'total_litres_of_pure_alcohol': '0.1', 'continent': 'AS'}\n",
      "{'_id': ObjectId('62a7e258d6d74bb3385e359a'), 'country': 'Togo', 'beer_servings': '36', 'spirit_servings': '2', 'wine_servings': '19', 'total_litres_of_pure_alcohol': '1.3', 'continent': 'AF'}\n",
      "{'_id': ObjectId('62a7e258d6d74bb3385e359b'), 'country': 'Tonga', 'beer_servings': '36', 'spirit_servings': '21', 'wine_servings': '5', 'total_litres_of_pure_alcohol': '1.1', 'continent': 'OC'}\n",
      "{'_id': ObjectId('62a7e258d6d74bb3385e359c'), 'country': 'Trinidad & Tobago', 'beer_servings': '197', 'spirit_servings': '156', 'wine_servings': '7', 'total_litres_of_pure_alcohol': '6.4', 'continent': 'NA'}\n",
      "{'_id': ObjectId('62a7e258d6d74bb3385e359d'), 'country': 'Tunisia', 'beer_servings': '51', 'spirit_servings': '3', 'wine_servings': '20', 'total_litres_of_pure_alcohol': '1.3', 'continent': 'AF'}\n",
      "{'_id': ObjectId('62a7e258d6d74bb3385e359e'), 'country': 'Turkey', 'beer_servings': '51', 'spirit_servings': '22', 'wine_servings': '7', 'total_litres_of_pure_alcohol': '1.4', 'continent': 'AS'}\n",
      "{'_id': ObjectId('62a7e258d6d74bb3385e359f'), 'country': 'Turkmenistan', 'beer_servings': '19', 'spirit_servings': '71', 'wine_servings': '32', 'total_litres_of_pure_alcohol': '2.2', 'continent': 'AS'}\n",
      "{'_id': ObjectId('62a7e258d6d74bb3385e35a0'), 'country': 'Tuvalu', 'beer_servings': '6', 'spirit_servings': '41', 'wine_servings': '9', 'total_litres_of_pure_alcohol': '1.0', 'continent': 'OC'}\n",
      "{'_id': ObjectId('62a7e258d6d74bb3385e35a1'), 'country': 'Uganda', 'beer_servings': '45', 'spirit_servings': '9', 'wine_servings': '0', 'total_litres_of_pure_alcohol': '8.3', 'continent': 'AF'}\n",
      "{'_id': ObjectId('62a7e258d6d74bb3385e35a2'), 'country': 'Ukraine', 'beer_servings': '206', 'spirit_servings': '237', 'wine_servings': '45', 'total_litres_of_pure_alcohol': '8.9', 'continent': 'EU'}\n",
      "{'_id': ObjectId('62a7e258d6d74bb3385e35a3'), 'country': 'United Arab Emirates', 'beer_servings': '16', 'spirit_servings': '135', 'wine_servings': '5', 'total_litres_of_pure_alcohol': '2.8', 'continent': 'AS'}\n",
      "{'_id': ObjectId('62a7e258d6d74bb3385e35a4'), 'country': 'United Kingdom', 'beer_servings': '219', 'spirit_servings': '126', 'wine_servings': '195', 'total_litres_of_pure_alcohol': '10.4', 'continent': 'EU'}\n",
      "{'_id': ObjectId('62a7e258d6d74bb3385e35a5'), 'country': 'Tanzania', 'beer_servings': '36', 'spirit_servings': '6', 'wine_servings': '1', 'total_litres_of_pure_alcohol': '5.7', 'continent': 'AF'}\n",
      "{'_id': ObjectId('62a7e258d6d74bb3385e35a6'), 'country': 'USA', 'beer_servings': '249', 'spirit_servings': '158', 'wine_servings': '84', 'total_litres_of_pure_alcohol': '8.7', 'continent': 'NA'}\n",
      "{'_id': ObjectId('62a7e258d6d74bb3385e35a7'), 'country': 'Uruguay', 'beer_servings': '115', 'spirit_servings': '35', 'wine_servings': '220', 'total_litres_of_pure_alcohol': '6.6', 'continent': 'SA'}\n",
      "{'_id': ObjectId('62a7e258d6d74bb3385e35a8'), 'country': 'Uzbekistan', 'beer_servings': '25', 'spirit_servings': '101', 'wine_servings': '8', 'total_litres_of_pure_alcohol': '2.4', 'continent': 'AS'}\n",
      "{'_id': ObjectId('62a7e258d6d74bb3385e35a9'), 'country': 'Vanuatu', 'beer_servings': '21', 'spirit_servings': '18', 'wine_servings': '11', 'total_litres_of_pure_alcohol': '0.9', 'continent': 'OC'}\n",
      "{'_id': ObjectId('62a7e258d6d74bb3385e35aa'), 'country': 'Venezuela', 'beer_servings': '333', 'spirit_servings': '100', 'wine_servings': '3', 'total_litres_of_pure_alcohol': '7.7', 'continent': 'SA'}\n",
      "{'_id': ObjectId('62a7e258d6d74bb3385e35ab'), 'country': 'Vietnam', 'beer_servings': '111', 'spirit_servings': '2', 'wine_servings': '1', 'total_litres_of_pure_alcohol': '2.0', 'continent': 'AS'}\n",
      "{'_id': ObjectId('62a7e258d6d74bb3385e35ac'), 'country': 'Yemen', 'beer_servings': '6', 'spirit_servings': '0', 'wine_servings': '0', 'total_litres_of_pure_alcohol': '0.1', 'continent': 'AS'}\n",
      "{'_id': ObjectId('62a7e258d6d74bb3385e35ad'), 'country': 'Zambia', 'beer_servings': '32', 'spirit_servings': '19', 'wine_servings': '4', 'total_litres_of_pure_alcohol': '2.5', 'continent': 'AF'}\n",
      "{'_id': ObjectId('62a7e258d6d74bb3385e35ae'), 'country': 'Zimbabwe', 'beer_servings': '64', 'spirit_servings': '18', 'wine_servings': '4', 'total_litres_of_pure_alcohol': '4.7', 'continent': 'AF'}\n",
      "{'_id': ObjectId('62a7f045ad9fd3f1d01aaf84'), 'bbs_title': '세번째 글입니다.', 'bbs_content': '반갑습니다', 'bbs_writer': '박지성'}\n",
      "{'_id': ObjectId('62a7f049ad9fd3f1d01aaf85'), 'bbs_title': '네번째', 'bbs_content': '환영합니다', 'bbs_writer': '김철수', 'bbs_mdfydate': '2022-05-01'}\n",
      "{'_id': ObjectId('62a7f075ad9fd3f1d01aaf86'), 'bbs_title': '다섯번째 글', 'bbs_content': '문의드려요', 'bbs_writer': '김영희'}\n",
      "{'_id': ObjectId('62a7f075ad9fd3f1d01aaf87'), 'bbs_title': '6번글', 'bbs_content': '좋은 하루 되세요', 'bbs_writer': '마동석', 'bbs_pubdate': '2022-06-12'}\n"
     ]
    }
   ],
   "source": [
    "docs=bbs.find() # 전체 검색\n",
    "for doc in docs:\n",
    "    print(doc)"
   ]
  },
  {
   "cell_type": "code",
   "execution_count": 20,
   "id": "dea80ade",
   "metadata": {},
   "outputs": [
    {
     "name": "stdout",
     "output_type": "stream",
     "text": [
      "{'_id': ObjectId('62a7f075ad9fd3f1d01aaf87'), 'bbs_title': '6번글', 'bbs_content': '좋은 하루 되세요', 'bbs_writer': '마동석', 'bbs_pubdate': '2022-06-12'}\n"
     ]
    }
   ],
   "source": [
    "docs=bbs.find({\"bbs_title\":\"6번글\"})\n",
    "for doc in docs:\n",
    "    print(doc)"
   ]
  },
  {
   "cell_type": "code",
   "execution_count": 21,
   "id": "79eb9cb0",
   "metadata": {},
   "outputs": [
    {
     "name": "stdout",
     "output_type": "stream",
     "text": [
      "{'_id': ObjectId('62a7f049ad9fd3f1d01aaf85'), 'bbs_title': '네번째', 'bbs_content': '환영합니다', 'bbs_writer': '김철수', 'bbs_mdfydate': '2022-05-01'}\n"
     ]
    }
   ],
   "source": [
    "docs=bbs.find({\"bbs_content\":\"환영합니다\"})\n",
    "for doc in docs:\n",
    "    print(doc)"
   ]
  },
  {
   "cell_type": "code",
   "execution_count": 23,
   "id": "5734978b",
   "metadata": {},
   "outputs": [
    {
     "name": "stdout",
     "output_type": "stream",
     "text": [
      "{'_id': ObjectId('62a7e1c1d6d74bb3385e3489'), 'bbs_title': '두번째 글입니다.', 'bbs_content': '반갑습니다', 'bbs_writer': '박지성', 'bbs_mdfydate': '2022-05-10'}\n",
      "{'_id': ObjectId('62a7f045ad9fd3f1d01aaf84'), 'bbs_title': '세번째 글입니다.', 'bbs_content': '반갑습니다', 'bbs_writer': '박지성'}\n"
     ]
    }
   ],
   "source": [
    "docs=bbs.find({\"bbs_writer\":\"박지성\"})\n",
    "for doc in docs:\n",
    "    print(doc)"
   ]
  },
  {
   "cell_type": "code",
   "execution_count": 22,
   "id": "e527642e",
   "metadata": {},
   "outputs": [],
   "source": [
    "# Update"
   ]
  },
  {
   "cell_type": "code",
   "execution_count": 24,
   "id": "ef2aaff6",
   "metadata": {},
   "outputs": [
    {
     "data": {
      "text/plain": [
       "<pymongo.results.UpdateResult at 0x20c2805ae08>"
      ]
     },
     "execution_count": 24,
     "metadata": {},
     "output_type": "execute_result"
    }
   ],
   "source": [
    "bbs.update_one( # 첫번째로 나온 row 1개만 업데이트\n",
    "    {\"bbs_writer\":\"박지성\"}, # 조건 dict\n",
    "    {\"$set\": {\"bbs_content\":\"점심 메뉴 추천 받습니다.\"}} # update할 내용 dict\n",
    ")"
   ]
  },
  {
   "cell_type": "code",
   "execution_count": 26,
   "id": "370a5fa4",
   "metadata": {},
   "outputs": [
    {
     "name": "stdout",
     "output_type": "stream",
     "text": [
      "{'_id': ObjectId('62a7e1c1d6d74bb3385e3489'), 'bbs_title': '두번째 글입니다.', 'bbs_content': '점심 메뉴 추천 받습니다.', 'bbs_writer': '박지성', 'bbs_mdfydate': '2022-05-10'}\n",
      "{'_id': ObjectId('62a7f045ad9fd3f1d01aaf84'), 'bbs_title': '세번째 글입니다.', 'bbs_content': '반갑습니다', 'bbs_writer': '박지성'}\n"
     ]
    }
   ],
   "source": [
    "docs=bbs.find({\"bbs_writer\":\"박지성\"})\n",
    "for doc in docs:\n",
    "    print(doc)"
   ]
  },
  {
   "cell_type": "code",
   "execution_count": 27,
   "id": "fc307785",
   "metadata": {},
   "outputs": [
    {
     "data": {
      "text/plain": [
       "<pymongo.results.UpdateResult at 0x20c2913d188>"
      ]
     },
     "execution_count": 27,
     "metadata": {},
     "output_type": "execute_result"
    }
   ],
   "source": [
    "bbs.update_many( # 나온 row 전체 업데이트\n",
    "    {\"bbs_writer\":\"박지성\"}, # 조건 dict\n",
    "    {\"$set\": {\"bbs_content\":\"배가 부르네요.\"}} # update할 내용 dict\n",
    ")"
   ]
  },
  {
   "cell_type": "code",
   "execution_count": 28,
   "id": "76588bb8",
   "metadata": {},
   "outputs": [
    {
     "name": "stdout",
     "output_type": "stream",
     "text": [
      "{'_id': ObjectId('62a7e1c1d6d74bb3385e3489'), 'bbs_title': '두번째 글입니다.', 'bbs_content': '배가 부르네요.', 'bbs_writer': '박지성', 'bbs_mdfydate': '2022-05-10'}\n",
      "{'_id': ObjectId('62a7f045ad9fd3f1d01aaf84'), 'bbs_title': '세번째 글입니다.', 'bbs_content': '배가 부르네요.', 'bbs_writer': '박지성'}\n"
     ]
    }
   ],
   "source": [
    "docs=bbs.find({\"bbs_writer\":\"박지성\"})\n",
    "for doc in docs:\n",
    "    print(doc)"
   ]
  },
  {
   "cell_type": "code",
   "execution_count": 29,
   "id": "08eabc8e",
   "metadata": {},
   "outputs": [],
   "source": [
    "# Delete"
   ]
  },
  {
   "cell_type": "code",
   "execution_count": 31,
   "id": "8fbbd1e6",
   "metadata": {},
   "outputs": [
    {
     "data": {
      "text/plain": [
       "<pymongo.results.DeleteResult at 0x20c299a7a48>"
      ]
     },
     "execution_count": 31,
     "metadata": {},
     "output_type": "execute_result"
    }
   ],
   "source": [
    "bbs.delete_one({\"bbs_title\":\"세번째 글입니다.\"})"
   ]
  },
  {
   "cell_type": "code",
   "execution_count": 32,
   "id": "32439431",
   "metadata": {},
   "outputs": [
    {
     "data": {
      "text/plain": [
       "0"
      ]
     },
     "execution_count": 32,
     "metadata": {},
     "output_type": "execute_result"
    }
   ],
   "source": [
    "bbs.count_documents({\"bbs_title\":\"세번째 글입니다.\"})"
   ]
  },
  {
   "cell_type": "code",
   "execution_count": 34,
   "id": "b7fbf5d2",
   "metadata": {},
   "outputs": [
    {
     "data": {
      "text/plain": [
       "<pymongo.results.DeleteResult at 0x20c291177c8>"
      ]
     },
     "execution_count": 34,
     "metadata": {},
     "output_type": "execute_result"
    }
   ],
   "source": [
    "bbs.delete_many({\"bbs_content\":\"배가 부르네요.\"})"
   ]
  },
  {
   "cell_type": "code",
   "execution_count": 35,
   "id": "e7554536",
   "metadata": {},
   "outputs": [
    {
     "data": {
      "text/plain": [
       "0"
      ]
     },
     "execution_count": 35,
     "metadata": {},
     "output_type": "execute_result"
    }
   ],
   "source": [
    "bbs.count_documents({\"bbs_content\":\"배가 부르네요.\"})"
   ]
  }
 ],
 "metadata": {
  "kernelspec": {
   "display_name": "Python 3 (ipykernel)",
   "language": "python",
   "name": "python3"
  },
  "language_info": {
   "codemirror_mode": {
    "name": "ipython",
    "version": 3
   },
   "file_extension": ".py",
   "mimetype": "text/x-python",
   "name": "python",
   "nbconvert_exporter": "python",
   "pygments_lexer": "ipython3",
   "version": "3.7.4"
  }
 },
 "nbformat": 4,
 "nbformat_minor": 5
}
