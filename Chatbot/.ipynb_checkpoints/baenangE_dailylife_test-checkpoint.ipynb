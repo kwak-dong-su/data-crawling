{
 "cells": [
  {
   "cell_type": "code",
   "execution_count": 34,
   "id": "faeca4cc",
   "metadata": {},
   "outputs": [],
   "source": [
    "import pymongo"
   ]
  },
  {
   "cell_type": "code",
   "execution_count": 36,
   "id": "ff686deb",
   "metadata": {},
   "outputs": [],
   "source": [
    "conn = pymongo.MongoClient() #몽고db 서버에 연결"
   ]
  },
  {
   "cell_type": "code",
   "execution_count": 37,
   "id": "98caee3e",
   "metadata": {},
   "outputs": [],
   "source": [
    "answers=conn.chatbot.dailyLife"
   ]
  },
  {
   "cell_type": "code",
   "execution_count": 38,
   "id": "2b0b9823",
   "metadata": {},
   "outputs": [
    {
     "data": {
      "text/plain": [
       "11823"
      ]
     },
     "execution_count": 38,
     "metadata": {},
     "output_type": "execute_result"
    }
   ],
   "source": [
    "answers.count_documents({})"
   ]
  },
  {
   "cell_type": "code",
   "execution_count": 45,
   "id": "2428cafe",
   "metadata": {},
   "outputs": [
    {
     "data": {
      "text/plain": [
       "{'_id': ObjectId('62abe30cf9693add28941624'), 'index': 2, 'A': '여행은 언제나 좋죠.'}"
      ]
     },
     "execution_count": 45,
     "metadata": {},
     "output_type": "execute_result"
    }
   ],
   "source": [
    "doc=answers.find_one({\"index\":2})\n",
    "doc"
   ]
  },
  {
   "cell_type": "code",
   "execution_count": 48,
   "id": "ec93465c",
   "metadata": {},
   "outputs": [
    {
     "data": {
      "text/plain": [
       "'밥 사줄 친구를 찾아 보세요~'"
      ]
     },
     "execution_count": 48,
     "metadata": {},
     "output_type": "execute_result"
    }
   ],
   "source": [
    "answers.find_one({\"index\":100}).get('A')"
   ]
  },
  {
   "cell_type": "code",
   "execution_count": 26,
   "id": "ca0fc8fc",
   "metadata": {},
   "outputs": [],
   "source": [
    "import joblib"
   ]
  },
  {
   "cell_type": "code",
   "execution_count": 27,
   "id": "60de5311",
   "metadata": {},
   "outputs": [],
   "source": [
    "# tfidf파일 load\n",
    "tfidf_daily_life=joblib.load('tfidf_chatbot_daily_life.pkl') # 입력받은 문장을 벡터화 하기 위한 파일\n",
    "daily_life=joblib.load('vetorized_chatbot_daily_life.pkl') # 기존 질문 문장들을 벡터화한 파일, 위에서 입력받은 문장과 유사도를 비교"
   ]
  },
  {
   "cell_type": "code",
   "execution_count": 28,
   "id": "16a5258b",
   "metadata": {},
   "outputs": [],
   "source": [
    "from konlpy.tag import Okt\n",
    "t = Okt()"
   ]
  },
  {
   "cell_type": "code",
   "execution_count": 29,
   "id": "effb60b7",
   "metadata": {},
   "outputs": [],
   "source": [
    "# new_post 와 contents의 거리 구하는 함수 생성\n",
    "import scipy as sp\n",
    "\n",
    "def dist_raw(v1, v2):\n",
    "    delta = v1 - v2\n",
    "    return sp.linalg.norm(delta.toarray())"
   ]
  },
  {
   "cell_type": "code",
   "execution_count": 30,
   "id": "17c2f2fd",
   "metadata": {},
   "outputs": [],
   "source": [
    "def baenangE_daily_life():\n",
    "    str=input(\"입력 >>\")\n",
    "    \n",
    "    # test text 벡터화\n",
    "    # 형태소 분석 후 띄어쓰기로 구분하여 하나의 문장으로 만들기\n",
    "    new_post_tokens = [t.morphs(row) for row in [str]]\n",
    "\n",
    "    new_post_for_vectorize = []\n",
    "\n",
    "    for content in new_post_tokens:\n",
    "        sentence = ''\n",
    "        for word in content:\n",
    "            sentence = sentence + ' ' + word\n",
    "\n",
    "        new_post_for_vectorize.append(sentence)\n",
    "\n",
    "    new_post_for_vectorize\n",
    "    new_post_vec = tfidf_daily_life.transform(new_post_for_vectorize)\n",
    "  \n",
    "    # 다른 결과를 얻을 수 있음\n",
    "    best_doc = None\n",
    "    best_dist = 65535\n",
    "    best_i = None\n",
    "\n",
    "    for i in range(0, 11823):\n",
    "        post_vec = daily_life.getrow(i)\n",
    "\n",
    "        # 함수호출\n",
    "        d = dist_raw(post_vec, new_post_vec)\n",
    "\n",
    "        if d<best_dist:\n",
    "            best_dist = d\n",
    "            best_i = i\n",
    "    print(\"배낭이 >> \", answers.find_one({\"index\":best_i}).get('A'))"
   ]
  },
  {
   "cell_type": "code",
   "execution_count": 32,
   "id": "78f73fa3",
   "metadata": {},
   "outputs": [
    {
     "name": "stdout",
     "output_type": "stream",
     "text": [
      "입력 >>점심뭐먹지?\n",
      "배낭이 >>  색다른걸 드셔보세요.\n"
     ]
    }
   ],
   "source": [
    "baenangE_daily_life()"
   ]
  },
  {
   "cell_type": "code",
   "execution_count": null,
   "id": "42e51ff2",
   "metadata": {},
   "outputs": [],
   "source": []
  }
 ],
 "metadata": {
  "kernelspec": {
   "display_name": "Python 3 (ipykernel)",
   "language": "python",
   "name": "python3"
  },
  "language_info": {
   "codemirror_mode": {
    "name": "ipython",
    "version": 3
   },
   "file_extension": ".py",
   "mimetype": "text/x-python",
   "name": "python",
   "nbconvert_exporter": "python",
   "pygments_lexer": "ipython3",
   "version": "3.7.4"
  }
 },
 "nbformat": 4,
 "nbformat_minor": 5
}
