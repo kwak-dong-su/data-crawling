{
 "cells": [
  {
   "cell_type": "code",
   "execution_count": 1,
   "id": "e19bcc49",
   "metadata": {},
   "outputs": [
    {
     "name": "stderr",
     "output_type": "stream",
     "text": [
      "C:\\ProgramData\\Anaconda3\\lib\\site-packages\\requests\\__init__.py:91: RequestsDependencyWarning: urllib3 (1.25.11) or chardet (4.0.0) doesn't match a supported version!\n",
      "  RequestsDependencyWarning)\n"
     ]
    }
   ],
   "source": [
    "import pandas as pd\n",
    "import numpy as np\n",
    "from tensorflow.keras.preprocessing.text import Tokenizer\n",
    "from tensorflow.keras.preprocessing.sequence import pad_sequences\n",
    "from tensorflow.keras.utils import to_categorical"
   ]
  },
  {
   "cell_type": "code",
   "execution_count": 2,
   "id": "f72d8a7b",
   "metadata": {},
   "outputs": [],
   "source": [
    "text=\"\"\"\n",
    "식탁에 앉아 피자를 먹는 사람\\n\n",
    "포크와 나이프를 사용하고 있네요\\n\n",
    "포크를 사용해 피자를 먹습니다\n",
    "\"\"\"\n"
   ]
  },
  {
   "cell_type": "code",
   "execution_count": 3,
   "id": "e6b96055",
   "metadata": {},
   "outputs": [],
   "source": [
    "tokenizer=Tokenizer()\n",
    "tokenizer.fit_on_texts([text])"
   ]
  },
  {
   "cell_type": "code",
   "execution_count": 4,
   "id": "be8fa669",
   "metadata": {},
   "outputs": [
    {
     "data": {
      "text/plain": [
       "(13, '단어 집합의 크기')"
      ]
     },
     "execution_count": 4,
     "metadata": {},
     "output_type": "execute_result"
    }
   ],
   "source": [
    "len(tokenizer.word_index)+1, \"단어 집합의 크기\""
   ]
  },
  {
   "cell_type": "code",
   "execution_count": 5,
   "id": "a3e3146e",
   "metadata": {},
   "outputs": [
    {
     "data": {
      "text/plain": [
       "{'피자를': 1,\n",
       " '식탁에': 2,\n",
       " '앉아': 3,\n",
       " '먹는': 4,\n",
       " '사람': 5,\n",
       " '포크와': 6,\n",
       " '나이프를': 7,\n",
       " '사용하고': 8,\n",
       " '있네요': 9,\n",
       " '포크를': 10,\n",
       " '사용해': 11,\n",
       " '먹습니다': 12}"
      ]
     },
     "execution_count": 5,
     "metadata": {},
     "output_type": "execute_result"
    }
   ],
   "source": [
    "tokenizer.word_index"
   ]
  },
  {
   "cell_type": "code",
   "execution_count": 6,
   "id": "0dffc0dd",
   "metadata": {},
   "outputs": [],
   "source": [
    "sequences=list()\n",
    "for line in text.split('\\n'):\n",
    "    encoded=tokenizer.texts_to_sequences([line])[0]\n",
    "    for i in range(1, len(encoded)):\n",
    "        sequence=encoded[:i+1]\n",
    "        sequences.append(sequence)"
   ]
  },
  {
   "cell_type": "code",
   "execution_count": 7,
   "id": "1c756dd3",
   "metadata": {},
   "outputs": [
    {
     "data": {
      "text/plain": [
       "(10, '학습에 사용할 샘플의 개수')"
      ]
     },
     "execution_count": 7,
     "metadata": {},
     "output_type": "execute_result"
    }
   ],
   "source": [
    "len(sequences), \"학습에 사용할 샘플의 개수\""
   ]
  },
  {
   "cell_type": "code",
   "execution_count": 8,
   "id": "9679393c",
   "metadata": {},
   "outputs": [
    {
     "data": {
      "text/plain": [
       "[[2, 3],\n",
       " [2, 3, 1],\n",
       " [2, 3, 1, 4],\n",
       " [2, 3, 1, 4, 5],\n",
       " [6, 7],\n",
       " [6, 7, 8],\n",
       " [6, 7, 8, 9],\n",
       " [10, 11],\n",
       " [10, 11, 1],\n",
       " [10, 11, 1, 12]]"
      ]
     },
     "execution_count": 8,
     "metadata": {},
     "output_type": "execute_result"
    }
   ],
   "source": [
    "sequences"
   ]
  },
  {
   "cell_type": "code",
   "execution_count": 9,
   "id": "ad6f1569",
   "metadata": {},
   "outputs": [
    {
     "data": {
      "text/plain": [
       "(5, '샘플의 최대 길이')"
      ]
     },
     "execution_count": 9,
     "metadata": {},
     "output_type": "execute_result"
    }
   ],
   "source": [
    "max(len(i) for i in sequences), \"샘플의 최대 길이\""
   ]
  },
  {
   "cell_type": "code",
   "execution_count": 10,
   "id": "8bad6eb5",
   "metadata": {},
   "outputs": [],
   "source": [
    "sequences=pad_sequences(sequences, maxlen=5, padding='pre')"
   ]
  },
  {
   "cell_type": "code",
   "execution_count": 11,
   "id": "6fe8eaf4",
   "metadata": {},
   "outputs": [
    {
     "data": {
      "text/plain": [
       "array([0, 0, 0, 2, 3])"
      ]
     },
     "execution_count": 11,
     "metadata": {},
     "output_type": "execute_result"
    }
   ],
   "source": [
    "sequences[0]"
   ]
  },
  {
   "cell_type": "code",
   "execution_count": 12,
   "id": "57361735",
   "metadata": {},
   "outputs": [],
   "source": [
    "sequences=np.array(sequences)\n",
    "X=sequences[:,:-1]\n",
    "y=sequences[:,-1]"
   ]
  },
  {
   "cell_type": "code",
   "execution_count": 13,
   "id": "913ed015",
   "metadata": {},
   "outputs": [],
   "source": [
    "y=to_categorical(y, num_classes=13)"
   ]
  },
  {
   "cell_type": "code",
   "execution_count": 14,
   "id": "540494dd",
   "metadata": {},
   "outputs": [
    {
     "data": {
      "text/plain": [
       "array([[0., 0., 0., 1., 0., 0., 0., 0., 0., 0., 0., 0., 0.],\n",
       "       [0., 1., 0., 0., 0., 0., 0., 0., 0., 0., 0., 0., 0.],\n",
       "       [0., 0., 0., 0., 1., 0., 0., 0., 0., 0., 0., 0., 0.],\n",
       "       [0., 0., 0., 0., 0., 1., 0., 0., 0., 0., 0., 0., 0.],\n",
       "       [0., 0., 0., 0., 0., 0., 0., 1., 0., 0., 0., 0., 0.],\n",
       "       [0., 0., 0., 0., 0., 0., 0., 0., 1., 0., 0., 0., 0.],\n",
       "       [0., 0., 0., 0., 0., 0., 0., 0., 0., 1., 0., 0., 0.],\n",
       "       [0., 0., 0., 0., 0., 0., 0., 0., 0., 0., 0., 1., 0.],\n",
       "       [0., 1., 0., 0., 0., 0., 0., 0., 0., 0., 0., 0., 0.],\n",
       "       [0., 0., 0., 0., 0., 0., 0., 0., 0., 0., 0., 0., 1.]],\n",
       "      dtype=float32)"
      ]
     },
     "execution_count": 14,
     "metadata": {},
     "output_type": "execute_result"
    }
   ],
   "source": [
    "y"
   ]
  },
  {
   "cell_type": "code",
   "execution_count": 15,
   "id": "97fb1604",
   "metadata": {},
   "outputs": [],
   "source": [
    "from tensorflow.keras.models import Sequential\n",
    "from tensorflow.keras.layers import Embedding, Dense, SimpleRNN, LSTM"
   ]
  },
  {
   "cell_type": "code",
   "execution_count": 16,
   "id": "701b56a6",
   "metadata": {},
   "outputs": [],
   "source": [
    "embedding_dim=13\n",
    "hidden_units=32\n",
    "\n",
    "model=Sequential()\n",
    "model.add(Embedding(13, embedding_dim))\n",
    "model.add(SimpleRNN(hidden_units))\n",
    "# model.add(SimpleRNN(64))\n",
    "# model.add(SimpleRNN(32))\n",
    "# model.add(SimpleRNN(16))\n",
    "# model.add(SimpleRNN(8))\n",
    "\n",
    "model.add(Dense(13, activation=\"softmax\"))\n",
    "model.compile(loss='categorical_crossentropy', optimizer='adam', metrics=['accuracy'])"
   ]
  },
  {
   "cell_type": "code",
   "execution_count": 17,
   "id": "0cbcd5f8",
   "metadata": {},
   "outputs": [
    {
     "name": "stdout",
     "output_type": "stream",
     "text": [
      "Model: \"sequential\"\n",
      "_________________________________________________________________\n",
      " Layer (type)                Output Shape              Param #   \n",
      "=================================================================\n",
      " embedding (Embedding)       (None, None, 13)          169       \n",
      "                                                                 \n",
      " simple_rnn (SimpleRNN)      (None, 32)                1472      \n",
      "                                                                 \n",
      " dense (Dense)               (None, 13)                429       \n",
      "                                                                 \n",
      "=================================================================\n",
      "Total params: 2,070\n",
      "Trainable params: 2,070\n",
      "Non-trainable params: 0\n",
      "_________________________________________________________________\n"
     ]
    }
   ],
   "source": [
    "model.summary()"
   ]
  },
  {
   "cell_type": "code",
   "execution_count": 18,
   "id": "5a74f62f",
   "metadata": {},
   "outputs": [
    {
     "name": "stdout",
     "output_type": "stream",
     "text": [
      "Epoch 1/200\n",
      "1/1 - 1s - loss: 2.5820 - accuracy: 0.1000 - 830ms/epoch - 830ms/step\n",
      "Epoch 2/200\n",
      "1/1 - 0s - loss: 2.5687 - accuracy: 0.1000 - 4ms/epoch - 4ms/step\n",
      "Epoch 3/200\n",
      "1/1 - 0s - loss: 2.5556 - accuracy: 0.1000 - 5ms/epoch - 5ms/step\n",
      "Epoch 4/200\n",
      "1/1 - 0s - loss: 2.5429 - accuracy: 0.1000 - 6ms/epoch - 6ms/step\n",
      "Epoch 5/200\n",
      "1/1 - 0s - loss: 2.5303 - accuracy: 0.3000 - 12ms/epoch - 12ms/step\n",
      "Epoch 6/200\n",
      "1/1 - 0s - loss: 2.5179 - accuracy: 0.4000 - 2ms/epoch - 2ms/step\n",
      "Epoch 7/200\n",
      "1/1 - 0s - loss: 2.5055 - accuracy: 0.4000 - 3ms/epoch - 3ms/step\n",
      "Epoch 8/200\n",
      "1/1 - 0s - loss: 2.4931 - accuracy: 0.5000 - 3ms/epoch - 3ms/step\n",
      "Epoch 9/200\n",
      "1/1 - 0s - loss: 2.4807 - accuracy: 0.6000 - 2ms/epoch - 2ms/step\n",
      "Epoch 10/200\n",
      "1/1 - 0s - loss: 2.4680 - accuracy: 0.6000 - 2ms/epoch - 2ms/step\n",
      "Epoch 11/200\n",
      "1/1 - 0s - loss: 2.4552 - accuracy: 0.6000 - 2ms/epoch - 2ms/step\n",
      "Epoch 12/200\n",
      "1/1 - 0s - loss: 2.4420 - accuracy: 0.5000 - 2ms/epoch - 2ms/step\n",
      "Epoch 13/200\n",
      "1/1 - 0s - loss: 2.4286 - accuracy: 0.5000 - 2ms/epoch - 2ms/step\n",
      "Epoch 14/200\n",
      "1/1 - 0s - loss: 2.4148 - accuracy: 0.5000 - 2ms/epoch - 2ms/step\n",
      "Epoch 15/200\n",
      "1/1 - 0s - loss: 2.4007 - accuracy: 0.5000 - 2ms/epoch - 2ms/step\n",
      "Epoch 16/200\n",
      "1/1 - 0s - loss: 2.3861 - accuracy: 0.5000 - 2ms/epoch - 2ms/step\n",
      "Epoch 17/200\n",
      "1/1 - 0s - loss: 2.3712 - accuracy: 0.5000 - 3ms/epoch - 3ms/step\n",
      "Epoch 18/200\n",
      "1/1 - 0s - loss: 2.3558 - accuracy: 0.5000 - 2ms/epoch - 2ms/step\n",
      "Epoch 19/200\n",
      "1/1 - 0s - loss: 2.3400 - accuracy: 0.5000 - 2ms/epoch - 2ms/step\n",
      "Epoch 20/200\n",
      "1/1 - 0s - loss: 2.3237 - accuracy: 0.5000 - 2ms/epoch - 2ms/step\n",
      "Epoch 21/200\n",
      "1/1 - 0s - loss: 2.3071 - accuracy: 0.5000 - 2ms/epoch - 2ms/step\n",
      "Epoch 22/200\n",
      "1/1 - 0s - loss: 2.2900 - accuracy: 0.5000 - 2ms/epoch - 2ms/step\n",
      "Epoch 23/200\n",
      "1/1 - 0s - loss: 2.2727 - accuracy: 0.4000 - 2ms/epoch - 2ms/step\n",
      "Epoch 24/200\n",
      "1/1 - 0s - loss: 2.2550 - accuracy: 0.4000 - 2ms/epoch - 2ms/step\n",
      "Epoch 25/200\n",
      "1/1 - 0s - loss: 2.2371 - accuracy: 0.4000 - 2ms/epoch - 2ms/step\n",
      "Epoch 26/200\n",
      "1/1 - 0s - loss: 2.2189 - accuracy: 0.4000 - 2ms/epoch - 2ms/step\n",
      "Epoch 27/200\n",
      "1/1 - 0s - loss: 2.2006 - accuracy: 0.4000 - 2ms/epoch - 2ms/step\n",
      "Epoch 28/200\n",
      "1/1 - 0s - loss: 2.1822 - accuracy: 0.3000 - 998us/epoch - 998us/step\n",
      "Epoch 29/200\n",
      "1/1 - 0s - loss: 2.1637 - accuracy: 0.3000 - 2ms/epoch - 2ms/step\n",
      "Epoch 30/200\n",
      "1/1 - 0s - loss: 2.1452 - accuracy: 0.3000 - 2ms/epoch - 2ms/step\n",
      "Epoch 31/200\n",
      "1/1 - 0s - loss: 2.1268 - accuracy: 0.3000 - 3ms/epoch - 3ms/step\n",
      "Epoch 32/200\n",
      "1/1 - 0s - loss: 2.1085 - accuracy: 0.3000 - 2ms/epoch - 2ms/step\n",
      "Epoch 33/200\n",
      "1/1 - 0s - loss: 2.0902 - accuracy: 0.3000 - 2ms/epoch - 2ms/step\n",
      "Epoch 34/200\n",
      "1/1 - 0s - loss: 2.0721 - accuracy: 0.4000 - 2ms/epoch - 2ms/step\n",
      "Epoch 35/200\n",
      "1/1 - 0s - loss: 2.0540 - accuracy: 0.4000 - 2ms/epoch - 2ms/step\n",
      "Epoch 36/200\n",
      "1/1 - 0s - loss: 2.0359 - accuracy: 0.4000 - 2ms/epoch - 2ms/step\n",
      "Epoch 37/200\n",
      "1/1 - 0s - loss: 2.0179 - accuracy: 0.4000 - 2ms/epoch - 2ms/step\n",
      "Epoch 38/200\n",
      "1/1 - 0s - loss: 1.9998 - accuracy: 0.4000 - 2ms/epoch - 2ms/step\n",
      "Epoch 39/200\n",
      "1/1 - 0s - loss: 1.9816 - accuracy: 0.4000 - 2ms/epoch - 2ms/step\n",
      "Epoch 40/200\n",
      "1/1 - 0s - loss: 1.9632 - accuracy: 0.4000 - 2ms/epoch - 2ms/step\n",
      "Epoch 41/200\n",
      "1/1 - 0s - loss: 1.9445 - accuracy: 0.3000 - 2ms/epoch - 2ms/step\n",
      "Epoch 42/200\n",
      "1/1 - 0s - loss: 1.9255 - accuracy: 0.3000 - 2ms/epoch - 2ms/step\n",
      "Epoch 43/200\n",
      "1/1 - 0s - loss: 1.9061 - accuracy: 0.3000 - 2ms/epoch - 2ms/step\n",
      "Epoch 44/200\n",
      "1/1 - 0s - loss: 1.8862 - accuracy: 0.3000 - 2ms/epoch - 2ms/step\n",
      "Epoch 45/200\n",
      "1/1 - 0s - loss: 1.8659 - accuracy: 0.3000 - 2ms/epoch - 2ms/step\n",
      "Epoch 46/200\n",
      "1/1 - 0s - loss: 1.8450 - accuracy: 0.3000 - 2ms/epoch - 2ms/step\n",
      "Epoch 47/200\n",
      "1/1 - 0s - loss: 1.8237 - accuracy: 0.3000 - 998us/epoch - 998us/step\n",
      "Epoch 48/200\n",
      "1/1 - 0s - loss: 1.8018 - accuracy: 0.3000 - 2ms/epoch - 2ms/step\n",
      "Epoch 49/200\n",
      "1/1 - 0s - loss: 1.7795 - accuracy: 0.3000 - 3ms/epoch - 3ms/step\n",
      "Epoch 50/200\n",
      "1/1 - 0s - loss: 1.7567 - accuracy: 0.3000 - 2ms/epoch - 2ms/step\n",
      "Epoch 51/200\n",
      "1/1 - 0s - loss: 1.7335 - accuracy: 0.5000 - 997us/epoch - 997us/step\n",
      "Epoch 52/200\n",
      "1/1 - 0s - loss: 1.7099 - accuracy: 0.6000 - 2ms/epoch - 2ms/step\n",
      "Epoch 53/200\n",
      "1/1 - 0s - loss: 1.6859 - accuracy: 0.6000 - 2ms/epoch - 2ms/step\n",
      "Epoch 54/200\n",
      "1/1 - 0s - loss: 1.6615 - accuracy: 0.6000 - 3ms/epoch - 3ms/step\n",
      "Epoch 55/200\n",
      "1/1 - 0s - loss: 1.6367 - accuracy: 0.6000 - 2ms/epoch - 2ms/step\n",
      "Epoch 56/200\n",
      "1/1 - 0s - loss: 1.6115 - accuracy: 0.6000 - 2ms/epoch - 2ms/step\n",
      "Epoch 57/200\n",
      "1/1 - 0s - loss: 1.5860 - accuracy: 0.6000 - 2ms/epoch - 2ms/step\n",
      "Epoch 58/200\n",
      "1/1 - 0s - loss: 1.5601 - accuracy: 0.6000 - 2ms/epoch - 2ms/step\n",
      "Epoch 59/200\n",
      "1/1 - 0s - loss: 1.5338 - accuracy: 0.6000 - 3ms/epoch - 3ms/step\n",
      "Epoch 60/200\n",
      "1/1 - 0s - loss: 1.5073 - accuracy: 0.6000 - 2ms/epoch - 2ms/step\n",
      "Epoch 61/200\n",
      "1/1 - 0s - loss: 1.4805 - accuracy: 0.6000 - 2ms/epoch - 2ms/step\n",
      "Epoch 62/200\n",
      "1/1 - 0s - loss: 1.4535 - accuracy: 0.6000 - 2ms/epoch - 2ms/step\n",
      "Epoch 63/200\n",
      "1/1 - 0s - loss: 1.4264 - accuracy: 0.7000 - 2ms/epoch - 2ms/step\n",
      "Epoch 64/200\n",
      "1/1 - 0s - loss: 1.3991 - accuracy: 0.7000 - 2ms/epoch - 2ms/step\n",
      "Epoch 65/200\n",
      "1/1 - 0s - loss: 1.3719 - accuracy: 0.7000 - 2ms/epoch - 2ms/step\n",
      "Epoch 66/200\n",
      "1/1 - 0s - loss: 1.3447 - accuracy: 0.7000 - 2ms/epoch - 2ms/step\n",
      "Epoch 67/200\n",
      "1/1 - 0s - loss: 1.3176 - accuracy: 0.7000 - 2ms/epoch - 2ms/step\n",
      "Epoch 68/200\n",
      "1/1 - 0s - loss: 1.2907 - accuracy: 0.7000 - 2ms/epoch - 2ms/step\n",
      "Epoch 69/200\n",
      "1/1 - 0s - loss: 1.2641 - accuracy: 0.7000 - 2ms/epoch - 2ms/step\n",
      "Epoch 70/200\n",
      "1/1 - 0s - loss: 1.2377 - accuracy: 0.7000 - 2ms/epoch - 2ms/step\n",
      "Epoch 71/200\n",
      "1/1 - 0s - loss: 1.2117 - accuracy: 0.7000 - 2ms/epoch - 2ms/step\n",
      "Epoch 72/200\n",
      "1/1 - 0s - loss: 1.1861 - accuracy: 0.7000 - 2ms/epoch - 2ms/step\n",
      "Epoch 73/200\n",
      "1/1 - 0s - loss: 1.1609 - accuracy: 0.8000 - 3ms/epoch - 3ms/step\n",
      "Epoch 74/200\n",
      "1/1 - 0s - loss: 1.1361 - accuracy: 0.8000 - 2ms/epoch - 2ms/step\n",
      "Epoch 75/200\n",
      "1/1 - 0s - loss: 1.1117 - accuracy: 0.8000 - 3ms/epoch - 3ms/step\n",
      "Epoch 76/200\n",
      "1/1 - 0s - loss: 1.0878 - accuracy: 0.8000 - 2ms/epoch - 2ms/step\n",
      "Epoch 77/200\n",
      "1/1 - 0s - loss: 1.0644 - accuracy: 0.9000 - 998us/epoch - 998us/step\n",
      "Epoch 78/200\n",
      "1/1 - 0s - loss: 1.0413 - accuracy: 0.9000 - 2ms/epoch - 2ms/step\n",
      "Epoch 79/200\n",
      "1/1 - 0s - loss: 1.0188 - accuracy: 0.9000 - 2ms/epoch - 2ms/step\n",
      "Epoch 80/200\n",
      "1/1 - 0s - loss: 0.9966 - accuracy: 1.0000 - 3ms/epoch - 3ms/step\n",
      "Epoch 81/200\n",
      "1/1 - 0s - loss: 0.9749 - accuracy: 1.0000 - 998us/epoch - 998us/step\n",
      "Epoch 82/200\n",
      "1/1 - 0s - loss: 0.9536 - accuracy: 1.0000 - 2ms/epoch - 2ms/step\n",
      "Epoch 83/200\n",
      "1/1 - 0s - loss: 0.9327 - accuracy: 1.0000 - 2ms/epoch - 2ms/step\n",
      "Epoch 84/200\n",
      "1/1 - 0s - loss: 0.9122 - accuracy: 1.0000 - 2ms/epoch - 2ms/step\n",
      "Epoch 85/200\n",
      "1/1 - 0s - loss: 0.8921 - accuracy: 1.0000 - 2ms/epoch - 2ms/step\n",
      "Epoch 86/200\n",
      "1/1 - 0s - loss: 0.8725 - accuracy: 1.0000 - 2ms/epoch - 2ms/step\n",
      "Epoch 87/200\n",
      "1/1 - 0s - loss: 0.8532 - accuracy: 1.0000 - 998us/epoch - 998us/step\n",
      "Epoch 88/200\n",
      "1/1 - 0s - loss: 0.8343 - accuracy: 1.0000 - 998us/epoch - 998us/step\n",
      "Epoch 89/200\n",
      "1/1 - 0s - loss: 0.8158 - accuracy: 1.0000 - 2ms/epoch - 2ms/step\n",
      "Epoch 90/200\n",
      "1/1 - 0s - loss: 0.7976 - accuracy: 1.0000 - 2ms/epoch - 2ms/step\n",
      "Epoch 91/200\n",
      "1/1 - 0s - loss: 0.7799 - accuracy: 1.0000 - 2ms/epoch - 2ms/step\n",
      "Epoch 92/200\n",
      "1/1 - 0s - loss: 0.7625 - accuracy: 1.0000 - 2ms/epoch - 2ms/step\n",
      "Epoch 93/200\n",
      "1/1 - 0s - loss: 0.7455 - accuracy: 1.0000 - 2ms/epoch - 2ms/step\n",
      "Epoch 94/200\n",
      "1/1 - 0s - loss: 0.7289 - accuracy: 1.0000 - 2ms/epoch - 2ms/step\n",
      "Epoch 95/200\n",
      "1/1 - 0s - loss: 0.7126 - accuracy: 1.0000 - 2ms/epoch - 2ms/step\n",
      "Epoch 96/200\n",
      "1/1 - 0s - loss: 0.6967 - accuracy: 1.0000 - 2ms/epoch - 2ms/step\n",
      "Epoch 97/200\n",
      "1/1 - 0s - loss: 0.6812 - accuracy: 1.0000 - 998us/epoch - 998us/step\n",
      "Epoch 98/200\n",
      "1/1 - 0s - loss: 0.6659 - accuracy: 1.0000 - 998us/epoch - 998us/step\n",
      "Epoch 99/200\n",
      "1/1 - 0s - loss: 0.6511 - accuracy: 1.0000 - 999us/epoch - 999us/step\n",
      "Epoch 100/200\n",
      "1/1 - 0s - loss: 0.6366 - accuracy: 1.0000 - 997us/epoch - 997us/step\n",
      "Epoch 101/200\n",
      "1/1 - 0s - loss: 0.6224 - accuracy: 1.0000 - 2ms/epoch - 2ms/step\n",
      "Epoch 102/200\n",
      "1/1 - 0s - loss: 0.6085 - accuracy: 1.0000 - 2ms/epoch - 2ms/step\n",
      "Epoch 103/200\n",
      "1/1 - 0s - loss: 0.5950 - accuracy: 1.0000 - 2ms/epoch - 2ms/step\n",
      "Epoch 104/200\n",
      "1/1 - 0s - loss: 0.5818 - accuracy: 1.0000 - 2ms/epoch - 2ms/step\n"
     ]
    },
    {
     "name": "stdout",
     "output_type": "stream",
     "text": [
      "Epoch 105/200\n",
      "1/1 - 0s - loss: 0.5690 - accuracy: 1.0000 - 3ms/epoch - 3ms/step\n",
      "Epoch 106/200\n",
      "1/1 - 0s - loss: 0.5565 - accuracy: 1.0000 - 2ms/epoch - 2ms/step\n",
      "Epoch 107/200\n",
      "1/1 - 0s - loss: 0.5443 - accuracy: 1.0000 - 2ms/epoch - 2ms/step\n",
      "Epoch 108/200\n",
      "1/1 - 0s - loss: 0.5324 - accuracy: 1.0000 - 2ms/epoch - 2ms/step\n",
      "Epoch 109/200\n",
      "1/1 - 0s - loss: 0.5208 - accuracy: 1.0000 - 3ms/epoch - 3ms/step\n",
      "Epoch 110/200\n",
      "1/1 - 0s - loss: 0.5096 - accuracy: 1.0000 - 2ms/epoch - 2ms/step\n",
      "Epoch 111/200\n",
      "1/1 - 0s - loss: 0.4987 - accuracy: 1.0000 - 998us/epoch - 998us/step\n",
      "Epoch 112/200\n",
      "1/1 - 0s - loss: 0.4881 - accuracy: 1.0000 - 998us/epoch - 998us/step\n",
      "Epoch 113/200\n",
      "1/1 - 0s - loss: 0.4778 - accuracy: 1.0000 - 2ms/epoch - 2ms/step\n",
      "Epoch 114/200\n",
      "1/1 - 0s - loss: 0.4678 - accuracy: 1.0000 - 3ms/epoch - 3ms/step\n",
      "Epoch 115/200\n",
      "1/1 - 0s - loss: 0.4580 - accuracy: 1.0000 - 997us/epoch - 997us/step\n",
      "Epoch 116/200\n",
      "1/1 - 0s - loss: 0.4486 - accuracy: 1.0000 - 997us/epoch - 997us/step\n",
      "Epoch 117/200\n",
      "1/1 - 0s - loss: 0.4395 - accuracy: 1.0000 - 2ms/epoch - 2ms/step\n",
      "Epoch 118/200\n",
      "1/1 - 0s - loss: 0.4306 - accuracy: 1.0000 - 2ms/epoch - 2ms/step\n",
      "Epoch 119/200\n",
      "1/1 - 0s - loss: 0.4219 - accuracy: 1.0000 - 3ms/epoch - 3ms/step\n",
      "Epoch 120/200\n",
      "1/1 - 0s - loss: 0.4136 - accuracy: 1.0000 - 996us/epoch - 996us/step\n",
      "Epoch 121/200\n",
      "1/1 - 0s - loss: 0.4055 - accuracy: 1.0000 - 998us/epoch - 998us/step\n",
      "Epoch 122/200\n",
      "1/1 - 0s - loss: 0.3976 - accuracy: 1.0000 - 998us/epoch - 998us/step\n",
      "Epoch 123/200\n",
      "1/1 - 0s - loss: 0.3899 - accuracy: 1.0000 - 998us/epoch - 998us/step\n",
      "Epoch 124/200\n",
      "1/1 - 0s - loss: 0.3825 - accuracy: 1.0000 - 3ms/epoch - 3ms/step\n",
      "Epoch 125/200\n",
      "1/1 - 0s - loss: 0.3753 - accuracy: 1.0000 - 2ms/epoch - 2ms/step\n",
      "Epoch 126/200\n",
      "1/1 - 0s - loss: 0.3683 - accuracy: 1.0000 - 2ms/epoch - 2ms/step\n",
      "Epoch 127/200\n",
      "1/1 - 0s - loss: 0.3616 - accuracy: 1.0000 - 2ms/epoch - 2ms/step\n",
      "Epoch 128/200\n",
      "1/1 - 0s - loss: 0.3550 - accuracy: 1.0000 - 2ms/epoch - 2ms/step\n",
      "Epoch 129/200\n",
      "1/1 - 0s - loss: 0.3486 - accuracy: 1.0000 - 2ms/epoch - 2ms/step\n",
      "Epoch 130/200\n",
      "1/1 - 0s - loss: 0.3424 - accuracy: 1.0000 - 2ms/epoch - 2ms/step\n",
      "Epoch 131/200\n",
      "1/1 - 0s - loss: 0.3363 - accuracy: 1.0000 - 2ms/epoch - 2ms/step\n",
      "Epoch 132/200\n",
      "1/1 - 0s - loss: 0.3305 - accuracy: 1.0000 - 998us/epoch - 998us/step\n",
      "Epoch 133/200\n",
      "1/1 - 0s - loss: 0.3247 - accuracy: 1.0000 - 999us/epoch - 999us/step\n",
      "Epoch 134/200\n",
      "1/1 - 0s - loss: 0.3192 - accuracy: 1.0000 - 2ms/epoch - 2ms/step\n",
      "Epoch 135/200\n",
      "1/1 - 0s - loss: 0.3138 - accuracy: 1.0000 - 2ms/epoch - 2ms/step\n",
      "Epoch 136/200\n",
      "1/1 - 0s - loss: 0.3085 - accuracy: 1.0000 - 2ms/epoch - 2ms/step\n",
      "Epoch 137/200\n",
      "1/1 - 0s - loss: 0.3034 - accuracy: 1.0000 - 2ms/epoch - 2ms/step\n",
      "Epoch 138/200\n",
      "1/1 - 0s - loss: 0.2985 - accuracy: 1.0000 - 998us/epoch - 998us/step\n",
      "Epoch 139/200\n",
      "1/1 - 0s - loss: 0.2936 - accuracy: 1.0000 - 2ms/epoch - 2ms/step\n",
      "Epoch 140/200\n",
      "1/1 - 0s - loss: 0.2889 - accuracy: 1.0000 - 2ms/epoch - 2ms/step\n",
      "Epoch 141/200\n",
      "1/1 - 0s - loss: 0.2843 - accuracy: 1.0000 - 2ms/epoch - 2ms/step\n",
      "Epoch 142/200\n",
      "1/1 - 0s - loss: 0.2798 - accuracy: 1.0000 - 2ms/epoch - 2ms/step\n",
      "Epoch 143/200\n",
      "1/1 - 0s - loss: 0.2754 - accuracy: 1.0000 - 2ms/epoch - 2ms/step\n",
      "Epoch 144/200\n",
      "1/1 - 0s - loss: 0.2712 - accuracy: 1.0000 - 2ms/epoch - 2ms/step\n",
      "Epoch 145/200\n",
      "1/1 - 0s - loss: 0.2670 - accuracy: 1.0000 - 2ms/epoch - 2ms/step\n",
      "Epoch 146/200\n",
      "1/1 - 0s - loss: 0.2629 - accuracy: 1.0000 - 998us/epoch - 998us/step\n",
      "Epoch 147/200\n",
      "1/1 - 0s - loss: 0.2590 - accuracy: 1.0000 - 998us/epoch - 998us/step\n",
      "Epoch 148/200\n",
      "1/1 - 0s - loss: 0.2551 - accuracy: 1.0000 - 2ms/epoch - 2ms/step\n",
      "Epoch 149/200\n",
      "1/1 - 0s - loss: 0.2513 - accuracy: 1.0000 - 999us/epoch - 999us/step\n",
      "Epoch 150/200\n",
      "1/1 - 0s - loss: 0.2476 - accuracy: 1.0000 - 2ms/epoch - 2ms/step\n",
      "Epoch 151/200\n",
      "1/1 - 0s - loss: 0.2440 - accuracy: 1.0000 - 2ms/epoch - 2ms/step\n",
      "Epoch 152/200\n",
      "1/1 - 0s - loss: 0.2405 - accuracy: 1.0000 - 2ms/epoch - 2ms/step\n",
      "Epoch 153/200\n",
      "1/1 - 0s - loss: 0.2370 - accuracy: 1.0000 - 2ms/epoch - 2ms/step\n",
      "Epoch 154/200\n",
      "1/1 - 0s - loss: 0.2336 - accuracy: 1.0000 - 2ms/epoch - 2ms/step\n",
      "Epoch 155/200\n",
      "1/1 - 0s - loss: 0.2303 - accuracy: 1.0000 - 998us/epoch - 998us/step\n",
      "Epoch 156/200\n",
      "1/1 - 0s - loss: 0.2270 - accuracy: 1.0000 - 998us/epoch - 998us/step\n",
      "Epoch 157/200\n",
      "1/1 - 0s - loss: 0.2238 - accuracy: 1.0000 - 998us/epoch - 998us/step\n",
      "Epoch 158/200\n",
      "1/1 - 0s - loss: 0.2207 - accuracy: 1.0000 - 2ms/epoch - 2ms/step\n",
      "Epoch 159/200\n",
      "1/1 - 0s - loss: 0.2176 - accuracy: 1.0000 - 2ms/epoch - 2ms/step\n",
      "Epoch 160/200\n",
      "1/1 - 0s - loss: 0.2146 - accuracy: 1.0000 - 3ms/epoch - 3ms/step\n",
      "Epoch 161/200\n",
      "1/1 - 0s - loss: 0.2117 - accuracy: 1.0000 - 2ms/epoch - 2ms/step\n",
      "Epoch 162/200\n",
      "1/1 - 0s - loss: 0.2088 - accuracy: 1.0000 - 2ms/epoch - 2ms/step\n",
      "Epoch 163/200\n",
      "1/1 - 0s - loss: 0.2059 - accuracy: 1.0000 - 2ms/epoch - 2ms/step\n",
      "Epoch 164/200\n",
      "1/1 - 0s - loss: 0.2031 - accuracy: 1.0000 - 2ms/epoch - 2ms/step\n",
      "Epoch 165/200\n",
      "1/1 - 0s - loss: 0.2004 - accuracy: 1.0000 - 2ms/epoch - 2ms/step\n",
      "Epoch 166/200\n",
      "1/1 - 0s - loss: 0.1977 - accuracy: 1.0000 - 2ms/epoch - 2ms/step\n",
      "Epoch 167/200\n",
      "1/1 - 0s - loss: 0.1950 - accuracy: 1.0000 - 2ms/epoch - 2ms/step\n",
      "Epoch 168/200\n",
      "1/1 - 0s - loss: 0.1924 - accuracy: 1.0000 - 998us/epoch - 998us/step\n",
      "Epoch 169/200\n",
      "1/1 - 0s - loss: 0.1898 - accuracy: 1.0000 - 2ms/epoch - 2ms/step\n",
      "Epoch 170/200\n",
      "1/1 - 0s - loss: 0.1873 - accuracy: 1.0000 - 2ms/epoch - 2ms/step\n",
      "Epoch 171/200\n",
      "1/1 - 0s - loss: 0.1848 - accuracy: 1.0000 - 2ms/epoch - 2ms/step\n",
      "Epoch 172/200\n",
      "1/1 - 0s - loss: 0.1823 - accuracy: 1.0000 - 2ms/epoch - 2ms/step\n",
      "Epoch 173/200\n",
      "1/1 - 0s - loss: 0.1799 - accuracy: 1.0000 - 2ms/epoch - 2ms/step\n",
      "Epoch 174/200\n",
      "1/1 - 0s - loss: 0.1776 - accuracy: 1.0000 - 2ms/epoch - 2ms/step\n",
      "Epoch 175/200\n",
      "1/1 - 0s - loss: 0.1752 - accuracy: 1.0000 - 2ms/epoch - 2ms/step\n",
      "Epoch 176/200\n",
      "1/1 - 0s - loss: 0.1729 - accuracy: 1.0000 - 2ms/epoch - 2ms/step\n",
      "Epoch 177/200\n",
      "1/1 - 0s - loss: 0.1706 - accuracy: 1.0000 - 998us/epoch - 998us/step\n",
      "Epoch 178/200\n",
      "1/1 - 0s - loss: 0.1684 - accuracy: 1.0000 - 2ms/epoch - 2ms/step\n",
      "Epoch 179/200\n",
      "1/1 - 0s - loss: 0.1661 - accuracy: 1.0000 - 2ms/epoch - 2ms/step\n",
      "Epoch 180/200\n",
      "1/1 - 0s - loss: 0.1640 - accuracy: 1.0000 - 2ms/epoch - 2ms/step\n",
      "Epoch 181/200\n",
      "1/1 - 0s - loss: 0.1618 - accuracy: 1.0000 - 998us/epoch - 998us/step\n",
      "Epoch 182/200\n",
      "1/1 - 0s - loss: 0.1597 - accuracy: 1.0000 - 998us/epoch - 998us/step\n",
      "Epoch 183/200\n",
      "1/1 - 0s - loss: 0.1576 - accuracy: 1.0000 - 2ms/epoch - 2ms/step\n",
      "Epoch 184/200\n",
      "1/1 - 0s - loss: 0.1555 - accuracy: 1.0000 - 2ms/epoch - 2ms/step\n",
      "Epoch 185/200\n",
      "1/1 - 0s - loss: 0.1535 - accuracy: 1.0000 - 2ms/epoch - 2ms/step\n",
      "Epoch 186/200\n",
      "1/1 - 0s - loss: 0.1514 - accuracy: 1.0000 - 2ms/epoch - 2ms/step\n",
      "Epoch 187/200\n",
      "1/1 - 0s - loss: 0.1494 - accuracy: 1.0000 - 2ms/epoch - 2ms/step\n",
      "Epoch 188/200\n",
      "1/1 - 0s - loss: 0.1475 - accuracy: 1.0000 - 3ms/epoch - 3ms/step\n",
      "Epoch 189/200\n",
      "1/1 - 0s - loss: 0.1455 - accuracy: 1.0000 - 2ms/epoch - 2ms/step\n",
      "Epoch 190/200\n",
      "1/1 - 0s - loss: 0.1436 - accuracy: 1.0000 - 2ms/epoch - 2ms/step\n",
      "Epoch 191/200\n",
      "1/1 - 0s - loss: 0.1417 - accuracy: 1.0000 - 999us/epoch - 999us/step\n",
      "Epoch 192/200\n",
      "1/1 - 0s - loss: 0.1398 - accuracy: 1.0000 - 2ms/epoch - 2ms/step\n",
      "Epoch 193/200\n",
      "1/1 - 0s - loss: 0.1380 - accuracy: 1.0000 - 3ms/epoch - 3ms/step\n",
      "Epoch 194/200\n",
      "1/1 - 0s - loss: 0.1361 - accuracy: 1.0000 - 2ms/epoch - 2ms/step\n",
      "Epoch 195/200\n",
      "1/1 - 0s - loss: 0.1343 - accuracy: 1.0000 - 2ms/epoch - 2ms/step\n",
      "Epoch 196/200\n",
      "1/1 - 0s - loss: 0.1325 - accuracy: 1.0000 - 2ms/epoch - 2ms/step\n",
      "Epoch 197/200\n",
      "1/1 - 0s - loss: 0.1308 - accuracy: 1.0000 - 2ms/epoch - 2ms/step\n",
      "Epoch 198/200\n",
      "1/1 - 0s - loss: 0.1290 - accuracy: 1.0000 - 2ms/epoch - 2ms/step\n",
      "Epoch 199/200\n",
      "1/1 - 0s - loss: 0.1273 - accuracy: 1.0000 - 2ms/epoch - 2ms/step\n",
      "Epoch 200/200\n",
      "1/1 - 0s - loss: 0.1256 - accuracy: 1.0000 - 2ms/epoch - 2ms/step\n"
     ]
    },
    {
     "data": {
      "text/plain": [
       "<keras.callbacks.History at 0x2aab6e8bd88>"
      ]
     },
     "execution_count": 18,
     "metadata": {},
     "output_type": "execute_result"
    }
   ],
   "source": [
    "model.fit(X,y, epochs=200, verbose=2)"
   ]
  },
  {
   "cell_type": "code",
   "execution_count": 19,
   "id": "1c58e980",
   "metadata": {},
   "outputs": [],
   "source": [
    "def sentence_generation(model, tokenizer, current_word, n):\n",
    "    init_word=current_word\n",
    "    sentence=\"\"\n",
    "    \n",
    "    #n번 반복\n",
    "    for _ in range(n):\n",
    "        # 현재 단어에 대한 정수 인코딩과 패딩\n",
    "        encoded=tokenizer.texts_to_sequences([current_word])[0]\n",
    "        encoded=pad_sequences([encoded], maxlen=5, padding='pre')\n",
    "        # 입력한 X(현재 단어)에 대해서 Y를 예측하고 Y(예측한 단어)를 result에 저장\n",
    "        result=model.predict(encoded, verbose=0)\n",
    "        result=np.argmax(result, axis=1)\n",
    "        \n",
    "        for word, index in tokenizer.word_index.items():\n",
    "            # 만약 예측한 단어와 인덱스와 동일한 단어가 있다면 break\n",
    "            if index==result:\n",
    "                break\n",
    "        \n",
    "        current_word=current_word+' '+word\n",
    "        sentence=sentence+' '+word\n",
    "    \n",
    "    sentence=init_word+sentence\n",
    "    return sentence"
   ]
  },
  {
   "cell_type": "code",
   "execution_count": 20,
   "id": "a4e84ba3",
   "metadata": {
    "scrolled": true
   },
   "outputs": [
    {
     "name": "stdout",
     "output_type": "stream",
     "text": [
      "포크와 나이프를 사용하고 있네요 사용하고 앉아\n"
     ]
    }
   ],
   "source": [
    "print(sentence_generation(model, tokenizer, \"포크와\", 5))"
   ]
  },
  {
   "cell_type": "code",
   "execution_count": 24,
   "id": "6ad474a4",
   "metadata": {},
   "outputs": [],
   "source": [
    "# !pip install word2word"
   ]
  },
  {
   "cell_type": "code",
   "execution_count": 25,
   "id": "60801c9c",
   "metadata": {},
   "outputs": [
    {
     "ename": "ModuleNotFoundError",
     "evalue": "No module named 'word2word'",
     "output_type": "error",
     "traceback": [
      "\u001b[1;31m---------------------------------------------------------------------------\u001b[0m",
      "\u001b[1;31mModuleNotFoundError\u001b[0m                       Traceback (most recent call last)",
      "\u001b[1;32m~\\AppData\\Local\\Temp\\ipykernel_6860\\787438168.py\u001b[0m in \u001b[0;36m<module>\u001b[1;34m\u001b[0m\n\u001b[1;32m----> 1\u001b[1;33m \u001b[1;32mfrom\u001b[0m \u001b[0mword2word\u001b[0m \u001b[1;32mimport\u001b[0m \u001b[0mWord2word\u001b[0m\u001b[1;33m\u001b[0m\u001b[1;33m\u001b[0m\u001b[0m\n\u001b[0m",
      "\u001b[1;31mModuleNotFoundError\u001b[0m: No module named 'word2word'"
     ]
    }
   ],
   "source": [
    "from word2word import Word2word"
   ]
  },
  {
   "cell_type": "code",
   "execution_count": 26,
   "id": "1f8b2876",
   "metadata": {},
   "outputs": [
    {
     "ename": "NameError",
     "evalue": "name 'Word2word' is not defined",
     "output_type": "error",
     "traceback": [
      "\u001b[1;31m---------------------------------------------------------------------------\u001b[0m",
      "\u001b[1;31mNameError\u001b[0m                                 Traceback (most recent call last)",
      "\u001b[1;32m~\\AppData\\Local\\Temp\\ipykernel_6860\\1602364362.py\u001b[0m in \u001b[0;36m<module>\u001b[1;34m\u001b[0m\n\u001b[1;32m----> 1\u001b[1;33m \u001b[0mtranslate\u001b[0m\u001b[1;33m=\u001b[0m\u001b[0mWord2word\u001b[0m\u001b[1;33m(\u001b[0m\u001b[1;34m\"en\"\u001b[0m\u001b[1;33m,\u001b[0m\u001b[1;34m\"ko\"\u001b[0m\u001b[1;33m)\u001b[0m\u001b[1;33m\u001b[0m\u001b[1;33m\u001b[0m\u001b[0m\n\u001b[0m",
      "\u001b[1;31mNameError\u001b[0m: name 'Word2word' is not defined"
     ]
    }
   ],
   "source": [
    "translate=Word2word(\"en\",\"ko\")"
   ]
  },
  {
   "cell_type": "code",
   "execution_count": 102,
   "id": "fa8e7786",
   "metadata": {},
   "outputs": [
    {
     "name": "stdout",
     "output_type": "stream",
     "text": [
      "['포크', '갈림길', '케익', '찌르', '볼로냐']\n",
      "['피자', '맛있', '먹', '냉동', '조각']\n",
      "['칼', '나이프', 'knife', '흔적', '찔렀']\n"
     ]
    },
    {
     "data": {
      "text/plain": [
       "(None, None, None)"
      ]
     },
     "execution_count": 102,
     "metadata": {},
     "output_type": "execute_result"
    }
   ],
   "source": [
    "print(translate(\"fork\")), print(translate(\"pizza\")), print(translate(\"knife\"))"
   ]
  },
  {
   "cell_type": "code",
   "execution_count": 103,
   "id": "36bc21a7",
   "metadata": {},
   "outputs": [
    {
     "data": {
      "text/plain": [
       "'포크'"
      ]
     },
     "execution_count": 103,
     "metadata": {},
     "output_type": "execute_result"
    }
   ],
   "source": [
    "translate(\"fork\")[0]"
   ]
  },
  {
   "cell_type": "code",
   "execution_count": 106,
   "id": "3f6df480",
   "metadata": {},
   "outputs": [],
   "source": [
    "keyword_list=[translate(\"fork\")[0], translate(\"pizza\")[0], translate(\"knife\")[1]]"
   ]
  },
  {
   "cell_type": "code",
   "execution_count": 107,
   "id": "7cc72284",
   "metadata": {},
   "outputs": [],
   "source": [
    "import random"
   ]
  },
  {
   "cell_type": "code",
   "execution_count": 108,
   "id": "13c67bab",
   "metadata": {},
   "outputs": [],
   "source": [
    "from tkinter import *\n",
    "from tkinter import messagebox\n",
    " \n",
    "root = Tk()\n",
    "root.geometry(\"360x100\")\n",
    " \n",
    "# 버튼 클릭 이벤트 핸들러\n",
    "def okClick():\n",
    "    txt.delete(0,\"end\")\n",
    "    txt.insert(0, sentence_generation(model, tokenizer, ' '.join(random.sample(keyword_list, 1))+\"와\", random.randint(2, 5)))\n",
    " \n",
    "lbl = Label(root, text=\"키워드: \"+\", \".join(keyword_list))\n",
    "lbl.grid(row=0, column=1)\n",
    "txt = Entry(root, width=50)\n",
    "txt.grid(row=3, column=1)\n",
    " \n",
    "# 버튼 클릭 이벤트와 핸들러 정의\n",
    "btn = Button(root, text=\"문장 만들기\", command=okClick)\n",
    " \n",
    "btn.grid(row=1, column=1)\n",
    "root.mainloop()"
   ]
  },
  {
   "cell_type": "code",
   "execution_count": null,
   "id": "a462ee78",
   "metadata": {},
   "outputs": [],
   "source": []
  }
 ],
 "metadata": {
  "kernelspec": {
   "display_name": "Python 3 (ipykernel)",
   "language": "python",
   "name": "python3"
  },
  "language_info": {
   "codemirror_mode": {
    "name": "ipython",
    "version": 3
   },
   "file_extension": ".py",
   "mimetype": "text/x-python",
   "name": "python",
   "nbconvert_exporter": "python",
   "pygments_lexer": "ipython3",
   "version": "3.7.4"
  }
 },
 "nbformat": 4,
 "nbformat_minor": 5
}
