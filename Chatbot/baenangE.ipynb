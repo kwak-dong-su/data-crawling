{
 "cells": [
  {
   "cell_type": "code",
   "execution_count": 1,
   "id": "ef9462cc",
   "metadata": {},
   "outputs": [
    {
     "name": "stdout",
     "output_type": "stream",
     "text": [
      "안녕\n"
     ]
    }
   ],
   "source": [
    "from tkinter import *\n",
    "\n",
    "root = Tk()\n",
    "root.geometry(\"500x500\")\n",
    "root.title(\" BaeHnagE Chatbot!!\")\n",
    "def Take_input():\n",
    "    INPUT = inputtxt.get()\n",
    "    print(INPUT)\n",
    "    Output.insert(END, \"me>>\" + INPUT+'\\n')\n",
    "    Output.insert(END, \"baenangE>> good!! \"+'\\n')\n",
    "    inputtxt.delete(0, \"end\")\n",
    "# \tINPUT = inputtxt.get(\"1.0\", \"end-1c\")\n",
    "# \tprint(INPUT)\n",
    "# \tif(INPUT == \"100\"):\n",
    "# \t\tOutput.insert(END, 'Ok\\n')\n",
    "# \telse:\n",
    "# \t\tOutput.insert(END, \"No\\n\")\n",
    "\n",
    "def callback(event):\n",
    "    Display.invoke() # 클릭 동작\n",
    "\n",
    "root.bind('<Return>', callback)\n",
    "\n",
    "l = Label(text = \"하고 싶은 말을 입력하세요.!!\")\n",
    "# l = Label(text = \"20 * 5!??\")\n",
    "inputtxt = Entry(root,  width = 25,  font=(\"Helvetica\", 18), bg = \"light yellow\")\n",
    "\n",
    "Output = Text(root, height = 10, width = 25, font=(\"Helvetica\",18),\n",
    "#             text = 'baenangE>> welcome!!! Chatbot!!',\n",
    "              bg = \"light cyan\")\n",
    "\n",
    "Display = Button(root, height = 2, width = 20, font=(\"Helvetica\",18), text =\"전송\", \n",
    "                 command = lambda:Take_input())\n",
    "\n",
    "l.pack()\n",
    "Output.pack()\n",
    "inputtxt.pack()\n",
    "Display.pack()\n",
    "mainloop()"
   ]
  },
  {
   "cell_type": "code",
   "execution_count": null,
   "id": "d5814204",
   "metadata": {},
   "outputs": [],
   "source": []
  }
 ],
 "metadata": {
  "kernelspec": {
   "display_name": "Python 3 (ipykernel)",
   "language": "python",
   "name": "python3"
  },
  "language_info": {
   "codemirror_mode": {
    "name": "ipython",
    "version": 3
   },
   "file_extension": ".py",
   "mimetype": "text/x-python",
   "name": "python",
   "nbconvert_exporter": "python",
   "pygments_lexer": "ipython3",
   "version": "3.7.4"
  }
 },
 "nbformat": 4,
 "nbformat_minor": 5
}
