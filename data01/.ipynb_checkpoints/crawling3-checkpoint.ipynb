{
 "cells": [
  {
   "cell_type": "code",
   "execution_count": 1,
   "metadata": {},
   "outputs": [],
   "source": [
    "from urllib import request"
   ]
  },
  {
   "cell_type": "code",
   "execution_count": 2,
   "metadata": {},
   "outputs": [],
   "source": [
    "from bs4 import BeautifulSoup"
   ]
  },
  {
   "cell_type": "code",
   "execution_count": 3,
   "metadata": {},
   "outputs": [],
   "source": [
    "# !pip install bs4 #cmd에서 이 명령문을 실행!!"
   ]
  },
  {
   "cell_type": "code",
   "execution_count": 24,
   "metadata": {},
   "outputs": [
    {
     "name": "stdout",
     "output_type": "stream",
     "text": [
      " C 드라이브의 볼륨에는 이름이 없습니다.\n",
      " 볼륨 일련 번호: AE94-D5A8\n",
      "\n",
      " C:\\Users\\hi\\hi-AI\\data01 디렉터리\n",
      "\n"
     ]
    },
    {
     "name": "stderr",
     "output_type": "stream",
     "text": [
      "파일을 찾을 수 없습니다.\n"
     ]
    }
   ],
   "source": [
    "!dir #!dir"
   ]
  },
  {
   "cell_type": "code",
   "execution_count": 5,
   "metadata": {},
   "outputs": [
    {
     "data": {
      "text/plain": [
       "<http.client.HTTPResponse at 0x26ec1b08488>"
      ]
     },
     "execution_count": 5,
     "metadata": {},
     "output_type": "execute_result"
    }
   ],
   "source": [
    "con = request.urlopen('https://www.hottracks.co.kr/ht/biz/record/recordCategoryMain?ctgrId=00030000')\n",
    "con \n",
    "#http response(header + body)\n",
    "#header : http result status code\n",
    "#         (ok: 200, not found: 404, error: 500, permission: 403)"
   ]
  },
  {
   "cell_type": "code",
   "execution_count": 6,
   "metadata": {},
   "outputs": [
    {
     "data": {
      "text/plain": [
       "200"
      ]
     },
     "execution_count": 6,
     "metadata": {},
     "output_type": "execute_result"
    }
   ],
   "source": [
    "con.status #status code"
   ]
  },
  {
   "cell_type": "code",
   "execution_count": 7,
   "metadata": {},
   "outputs": [],
   "source": [
    "doc = BeautifulSoup(con, 'html.parser')\n",
    "#doc"
   ]
  },
  {
   "cell_type": "code",
   "execution_count": 8,
   "metadata": {},
   "outputs": [
    {
     "data": {
      "text/plain": [
       "[<li><a class=\"all\" href=\"javascript:;\">전체보기</a></li>,\n",
       " <li><a href=\"/ht/biz/record/recordCategoryMain?ctgrId=00030000\" style=\"color:#DA2128;\">가요 </a></li>,\n",
       " <li><a href=\"/ht/biz/record/recordCategoryMain?ctgrId=00030001\">랩/힙합 </a></li>,\n",
       " <li><a href=\"/ht/biz/record/recordCategoryMain?ctgrId=00030002\">락 </a></li>,\n",
       " <li><a href=\"/ht/biz/record/recordCategoryMain?ctgrId=00030003\">재즈/뉴에이지/일렉트로닉 </a></li>,\n",
       " <li><a href=\"/ht/biz/record/recordCategoryMain?ctgrId=00030004\">OST/뮤지컬 </a></li>,\n",
       " <li><a href=\"/ht/biz/record/recordCategoryMain?ctgrId=00030005\">화보집/MD상품 </a></li>,\n",
       " <li><a href=\"/ht/biz/record/recordCategoryMain?ctgrId=00030006\">성인가요 </a></li>,\n",
       " <li><a href=\"/ht/biz/record/recordCategoryMain?ctgrId=00030007\">시낭송/명상 </a></li>,\n",
       " <li><a href=\"/ht/biz/record/recordCategoryMain?ctgrId=00030008\">모음집 </a></li>,\n",
       " <li><a href=\"/ht/biz/record/recordCategoryMain?ctgrId=00030010\">캐롤 </a></li>]"
      ]
     },
     "execution_count": 8,
     "metadata": {},
     "output_type": "execute_result"
    }
   ],
   "source": [
    "a_tag_list = doc.select('.category_list li')\n",
    "a_tag_list"
   ]
  },
  {
   "cell_type": "code",
   "execution_count": 9,
   "metadata": {},
   "outputs": [
    {
     "data": {
      "text/plain": [
       "list"
      ]
     },
     "execution_count": 9,
     "metadata": {},
     "output_type": "execute_result"
    }
   ],
   "source": [
    "type(a_tag_list)"
   ]
  },
  {
   "cell_type": "code",
   "execution_count": 10,
   "metadata": {},
   "outputs": [
    {
     "data": {
      "text/plain": [
       "11"
      ]
     },
     "execution_count": 10,
     "metadata": {},
     "output_type": "execute_result"
    }
   ],
   "source": [
    "#리스트의 갯수\n",
    "len(a_tag_list)"
   ]
  },
  {
   "cell_type": "code",
   "execution_count": 11,
   "metadata": {},
   "outputs": [
    {
     "data": {
      "text/plain": [
       "<li><a class=\"all\" href=\"javascript:;\">전체보기</a></li>"
      ]
     },
     "execution_count": 11,
     "metadata": {},
     "output_type": "execute_result"
    }
   ],
   "source": [
    "a_tag_list[0]"
   ]
  },
  {
   "cell_type": "code",
   "execution_count": 12,
   "metadata": {},
   "outputs": [
    {
     "data": {
      "text/plain": [
       "'전체보기'"
      ]
     },
     "execution_count": 12,
     "metadata": {},
     "output_type": "execute_result"
    }
   ],
   "source": [
    "a_tag_list[0].text"
   ]
  },
  {
   "cell_type": "code",
   "execution_count": 13,
   "metadata": {},
   "outputs": [
    {
     "name": "stdout",
     "output_type": "stream",
     "text": [
      "전체보기\n",
      "가요 \n",
      "랩/힙합 \n",
      "락 \n",
      "재즈/뉴에이지/일렉트로닉 \n",
      "OST/뮤지컬 \n",
      "화보집/MD상품 \n",
      "성인가요 \n",
      "시낭송/명상 \n",
      "모음집 \n",
      "캐롤 \n"
     ]
    }
   ],
   "source": [
    "for one in a_tag_list:\n",
    "    print(one.text)"
   ]
  },
  {
   "cell_type": "code",
   "execution_count": 14,
   "metadata": {},
   "outputs": [],
   "source": [
    "anav_list = []"
   ]
  },
  {
   "cell_type": "code",
   "execution_count": 15,
   "metadata": {},
   "outputs": [],
   "source": [
    "for one in a_tag_list:\n",
    "    anav_list.append(one.text)"
   ]
  },
  {
   "cell_type": "code",
   "execution_count": 16,
   "metadata": {},
   "outputs": [
    {
     "data": {
      "text/plain": [
       "['전체보기',\n",
       " '가요 ',\n",
       " '랩/힙합 ',\n",
       " '락 ',\n",
       " '재즈/뉴에이지/일렉트로닉 ',\n",
       " 'OST/뮤지컬 ',\n",
       " '화보집/MD상품 ',\n",
       " '성인가요 ',\n",
       " '시낭송/명상 ',\n",
       " '모음집 ',\n",
       " '캐롤 ']"
      ]
     },
     "execution_count": 16,
     "metadata": {},
     "output_type": "execute_result"
    }
   ],
   "source": [
    "anav_list"
   ]
  },
  {
   "cell_type": "code",
   "execution_count": 17,
   "metadata": {},
   "outputs": [
    {
     "data": {
      "text/plain": [
       "[<p class=\"tit\">SAVAGE [미니 1집] [SYNK DIVE VER]</p>,\n",
       " <p class=\"tit\">ODDINARY [MINI ALBUM] [SCANNING/ MASK OFF VER] [일반반]</p>,\n",
       " <p class=\"tit\">2021 WINTER SMTOWN: SMCU EXPRESS [RED VELVET]</p>,\n",
       " <p class=\"tit\">2021 WINTER SMTOWN: SMCU EXPRESS [NCT - DAYTIME PASS]</p>,\n",
       " <p class=\"tit\">2021 WINTER SMTOWN: SMCU EXPRESS [NCT - NIGHTTIME PASS]</p>]"
      ]
     },
     "execution_count": 17,
     "metadata": {},
     "output_type": "execute_result"
    }
   ],
   "source": [
    "p_tag_list = doc.select('p.tit')\n",
    "p_tag_list[:5] #[p태그객체주소, p태그객체주소, p태그객체주소, p태그객체주소] : 주소대신에 __str__함수가 오버라이드"
   ]
  },
  {
   "cell_type": "code",
   "execution_count": 18,
   "metadata": {},
   "outputs": [
    {
     "data": {
      "text/plain": [
       "[<span class=\"percent\">19%</span>,\n",
       " <span class=\"percent\">19%</span>,\n",
       " <span class=\"percent\">19%</span>,\n",
       " <span class=\"percent\">19%</span>,\n",
       " <span class=\"percent\">19%</span>]"
      ]
     },
     "execution_count": 18,
     "metadata": {},
     "output_type": "execute_result"
    }
   ],
   "source": [
    "percent_list = doc.select('span.percent')\n",
    "percent_list[:5] #0~4"
   ]
  },
  {
   "cell_type": "code",
   "execution_count": 19,
   "metadata": {},
   "outputs": [
    {
     "data": {
      "text/plain": [
       "[<p class=\"brand\">AESPA(에스파)</p>,\n",
       " <p class=\"brand\">STRAY KIDS(스트레이 키즈)</p>,\n",
       " <p class=\"brand\">RED VELVET(레드벨벳)</p>,\n",
       " <p class=\"brand\">NCT(엔시티)</p>,\n",
       " <p class=\"brand\">NCT(엔시티)</p>]"
      ]
     },
     "execution_count": 19,
     "metadata": {},
     "output_type": "execute_result"
    }
   ],
   "source": [
    "brand_list = doc.select('p.brand')\n",
    "brand_list[:5]"
   ]
  },
  {
   "cell_type": "code",
   "execution_count": 20,
   "metadata": {},
   "outputs": [
    {
     "data": {
      "text/plain": [
       "['AESPA(에스파)',\n",
       " 'STRAY KIDS(스트레이 키즈)',\n",
       " 'RED VELVET(레드벨벳)',\n",
       " 'NCT(엔시티)',\n",
       " 'NCT(엔시티)',\n",
       " 'VARIOUS',\n",
       " 'AESPA(에스파)',\n",
       " 'STAYC(스테이씨)',\n",
       " 'SEVENTEEN(세븐틴)',\n",
       " 'YENA(최예나)',\n",
       " 'NCT DREAM(엔시티 드림)',\n",
       " 'NCT DREAM(엔시티 드림)',\n",
       " 'TXT(투모로우바이투게더)',\n",
       " 'STAYC(스테이씨)',\n",
       " 'SEVENTEEN(세븐틴)',\n",
       " 'TXT(투모로우바이투게더)',\n",
       " 'AESPA(에스파)',\n",
       " 'OH MY GIRL(오마이걸)',\n",
       " 'SEVENTEEN(세븐틴)',\n",
       " 'MONSTA X(몬스타엑스)',\n",
       " '미니마니',\n",
       " 'SUHO(수호)',\n",
       " 'NCT DREAM(엔시티 드림)',\n",
       " 'PURPLE KISS(퍼플키스)',\n",
       " 'PURPLE KISS(퍼플키스)',\n",
       " 'PURPLE KISS(퍼플키스)',\n",
       " 'JAEMAN(재만)',\n",
       " 'IM CHANGJUNG(임창정)',\n",
       " 'SHIN SEUNGHUN(신승훈)',\n",
       " 'UHM JUNG HWA(엄정화)',\n",
       " 'LEE SEOKHOON(이석훈)',\n",
       " 'YOUNHA(윤하)',\n",
       " 'RAD MUSEUM(라드뮤지엄)',\n",
       " '김준수',\n",
       " '임세모',\n",
       " 'HIGHLIGHT(하이라이트)',\n",
       " 'HIGHLIGHT(하이라이트)',\n",
       " 'HIGHLIGHT(하이라이트)',\n",
       " 'HIGHLIGHT(하이라이트)',\n",
       " 'BRAVE GIRLS(브레이브걸스)',\n",
       " 'OH MY GIRL(오마이걸)',\n",
       " 'OH MY GIRL(오마이걸)',\n",
       " 'OH MY GIRL(오마이걸)',\n",
       " '박수진',\n",
       " '권여름',\n",
       " '건우',\n",
       " 'SWAN(수안)',\n",
       " '김민성',\n",
       " 'ACHII(에이치)',\n",
       " 'RED VELVET(레드벨벳)',\n",
       " 'RED VELVET(레드벨벳)',\n",
       " 'KINGDOM(킹덤)',\n",
       " 'KINGDOM(킹덤)',\n",
       " 'KINGDOM(킹덤)',\n",
       " 'WEI(위아이)',\n",
       " 'WEI(위아이)',\n",
       " 'WEI(위아이)',\n",
       " 'WEI(위아이)',\n",
       " '김준수',\n",
       " '김준수',\n",
       " '김준수',\n",
       " 'SE:UM(세움)',\n",
       " 'NU`EST(뉴이스트)',\n",
       " 'NCT DREAM(엔시티 드림)',\n",
       " 'SOLAR(솔라)',\n",
       " 'SOLAR(솔라)',\n",
       " 'ILY:1(아일리원)',\n",
       " 'SOLAR(솔라)',\n",
       " 'COMMON GROUND(커먼그라운드)',\n",
       " 'SHINJI(신지)',\n",
       " 'WEEEKLY(위클리)',\n",
       " '(G)I-DLE((여자)아이들)',\n",
       " '(G)I-DLE((여자)아이들)',\n",
       " '이정선',\n",
       " 'TURTLES(거북이)',\n",
       " '박창근',\n",
       " '박창근',\n",
       " '김우석',\n",
       " '김우석',\n",
       " '문빈 & 산하(ASTRO)',\n",
       " '김우석',\n",
       " '문빈 & 산하(ASTRO)',\n",
       " '장기하',\n",
       " '솔지',\n",
       " 'WEEEKLY(위클리)',\n",
       " 'WEEEKLY(위클리)',\n",
       " 'WEEEKLY(위클리)',\n",
       " 'CHERRY BULLET(체리블렛)',\n",
       " 'CHERRY BULLET(체리블렛)',\n",
       " 'ROCKET PUNCH(로켓펀치)',\n",
       " '김상희',\n",
       " 'SUPER JUNIOR(슈퍼주니어)',\n",
       " 'SUPER JUNIOR(슈퍼주니어)',\n",
       " 'SUPER JUNIOR(슈퍼주니어)',\n",
       " 'BLACK LEVEL(블랙레벨)',\n",
       " 'STAYC(스테이씨)',\n",
       " 'JEONG MI JO(정미조)',\n",
       " 'NMIXX(엔믹스)',\n",
       " 'BANG YONGGUK(방용국)',\n",
       " '노르웨이 숲',\n",
       " '노르웨이 숲',\n",
       " '노르웨이 숲',\n",
       " '노르웨이 숲',\n",
       " 'STRAY KIDS(스트레이 키즈)',\n",
       " 'BILLLIE(빌리)',\n",
       " 'BILLLIE(빌리)',\n",
       " 'CRAXY(크랙시)',\n",
       " 'JOSEE(조제)',\n",
       " '천용성',\n",
       " 'G.SOUL(지소울)',\n",
       " 'JWIIVER(제이위버)',\n",
       " '015B(공일오비)',\n",
       " 'STAYC(스테이씨)',\n",
       " 'STAYC(스테이씨)',\n",
       " 'TEMPEST(템페스트)',\n",
       " 'TEMPEST(템페스트)',\n",
       " 'TEMPEST(템페스트)',\n",
       " '한승윤',\n",
       " 'BIG MAMA(빅마마)',\n",
       " 'BTOB(비투비)']"
      ]
     },
     "execution_count": 20,
     "metadata": {},
     "output_type": "execute_result"
    }
   ],
   "source": [
    "brand_collect = []\n",
    "for x in brand_list:\n",
    "    brand_collect.append(x.text)\n",
    "brand_collect"
   ]
  },
  {
   "cell_type": "code",
   "execution_count": 21,
   "metadata": {},
   "outputs": [
    {
     "data": {
      "text/plain": [
       "[<span class=\"percent\">19%</span>,\n",
       " <span>16,300</span>,\n",
       " <span class=\"discount\">20,000</span>,\n",
       " <span class=\"percent\">19%</span>,\n",
       " <span>16,300</span>,\n",
       " <span class=\"discount\">20,000</span>]"
      ]
     },
     "execution_count": 21,
     "metadata": {},
     "output_type": "execute_result"
    }
   ],
   "source": [
    "# p.price.font_t > span:nth-child(2)\n",
    "price_list = doc.select('.price > span')\n",
    "price_list[:6] #1, 4, 7, 10"
   ]
  },
  {
   "cell_type": "code",
   "execution_count": 22,
   "metadata": {},
   "outputs": [],
   "source": [
    "price_collect = []\n",
    "# for i in range(1, len(price_list), 3):\n",
    "#     print(price_list[i])"
   ]
  },
  {
   "cell_type": "code",
   "execution_count": 23,
   "metadata": {},
   "outputs": [
    {
     "data": {
      "text/plain": [
       "['16,300',\n",
       " '16,300',\n",
       " '13,400',\n",
       " '13,400',\n",
       " '13,400',\n",
       " '31,200',\n",
       " '13,400',\n",
       " '19,300',\n",
       " '17,100',\n",
       " '16,300',\n",
       " '17,800',\n",
       " '17,800',\n",
       " '11,000',\n",
       " '11,900',\n",
       " '14,900',\n",
       " '17,800',\n",
       " '17,800',\n",
       " '38,600',\n",
       " '8,900',\n",
       " '19,300',\n",
       " '11,900',\n",
       " '16,300',\n",
       " '11,000',\n",
       " '17,800',\n",
       " '35,600',\n",
       " '17,800',\n",
       " '13,400',\n",
       " '44,600',\n",
       " '46,000',\n",
       " '25,000',\n",
       " '31,000',\n",
       " '20,000',\n",
       " '27,000',\n",
       " '18,000',\n",
       " '24,000',\n",
       " '24,000',\n",
       " '24,000',\n",
       " '72,000',\n",
       " '18,000',\n",
       " '24,000',\n",
       " '24,000',\n",
       " '48,000',\n",
       " '22,000',\n",
       " '16,500',\n",
       " '16,500',\n",
       " '17,500',\n",
       " '22,000',\n",
       " '12,500',\n",
       " '24,000',\n",
       " '24,000',\n",
       " '40,000',\n",
       " '20,000',\n",
       " '20,000',\n",
       " '22,000',\n",
       " '66,000',\n",
       " '22,000',\n",
       " '22,000',\n",
       " '44,000',\n",
       " '22,000',\n",
       " '22,000',\n",
       " '17,500',\n",
       " '23,000',\n",
       " '22,000',\n",
       " '44,000',\n",
       " '22,000',\n",
       " '16,500',\n",
       " '22,000',\n",
       " '55,000',\n",
       " '19,500',\n",
       " '13,000',\n",
       " '23,000',\n",
       " '69,000',\n",
       " '55,000',\n",
       " '80,000',\n",
       " '19,300',\n",
       " '17,800',\n",
       " '17,800',\n",
       " '38,600',\n",
       " '19,300',\n",
       " '19,300',\n",
       " '16,300',\n",
       " '11,900',\n",
       " '26,800',\n",
       " '13,400',\n",
       " '13,400',\n",
       " '15,600',\n",
       " '31,200',\n",
       " '15,600',\n",
       " '19%',\n",
       " '19%',\n",
       " '19%',\n",
       " '17%',\n",
       " '18%',\n",
       " '12%',\n",
       " '20%',\n",
       " '19%',\n",
       " '19%',\n",
       " '19%',\n",
       " '19%',\n",
       " '19%',\n",
       " '19%',\n",
       " '19%',\n",
       " '19%',\n",
       " '19%',\n",
       " '17%',\n",
       " '19%',\n",
       " '19%',\n",
       " '19%',\n",
       " '19%',\n",
       " '20%',\n",
       " '20%',\n",
       " '18%',\n",
       " '19%',\n",
       " '19%',\n",
       " '19%',\n",
       " '17%',\n",
       " '19%']"
      ]
     },
     "execution_count": 23,
     "metadata": {},
     "output_type": "execute_result"
    }
   ],
   "source": [
    "for i in range(1, len(price_list), 3):\n",
    "    price_collect.append(price_list[i].text)\n",
    "price_collect"
   ]
  },
  {
   "cell_type": "code",
   "execution_count": null,
   "metadata": {},
   "outputs": [],
   "source": [
    "len()"
   ]
  }
 ],
 "metadata": {
  "kernelspec": {
   "display_name": "Python 3",
   "language": "python",
   "name": "python3"
  },
  "language_info": {
   "codemirror_mode": {
    "name": "ipython",
    "version": 3
   },
   "file_extension": ".py",
   "mimetype": "text/x-python",
   "name": "python",
   "nbconvert_exporter": "python",
   "pygments_lexer": "ipython3",
   "version": "3.7.4"
  }
 },
 "nbformat": 4,
 "nbformat_minor": 4
}
