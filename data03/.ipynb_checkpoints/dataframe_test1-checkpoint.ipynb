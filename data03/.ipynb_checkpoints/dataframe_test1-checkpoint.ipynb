{
 "cells": [
  {
   "cell_type": "code",
   "execution_count": 365,
   "metadata": {},
   "outputs": [],
   "source": [
    "import pandas as pd\n",
    "import numpy as np"
   ]
  },
  {
   "cell_type": "code",
   "execution_count": 366,
   "metadata": {},
   "outputs": [
    {
     "data": {
      "text/plain": [
       "DatetimeIndex(['2020-06-25', '2020-06-26', '2020-06-27', '2020-06-28',\n",
       "               '2020-06-29', '2020-06-30'],\n",
       "              dtype='datetime64[ns]', freq='D')"
      ]
     },
     "execution_count": 366,
     "metadata": {},
     "output_type": "execute_result"
    }
   ],
   "source": [
    "dates=pd.date_range('2020-06-25', periods=6)\n",
    "dates"
   ]
  },
  {
   "cell_type": "code",
   "execution_count": 367,
   "metadata": {},
   "outputs": [
    {
     "data": {
      "text/html": [
       "<div>\n",
       "<style scoped>\n",
       "    .dataframe tbody tr th:only-of-type {\n",
       "        vertical-align: middle;\n",
       "    }\n",
       "\n",
       "    .dataframe tbody tr th {\n",
       "        vertical-align: top;\n",
       "    }\n",
       "\n",
       "    .dataframe thead th {\n",
       "        text-align: right;\n",
       "    }\n",
       "</style>\n",
       "<table border=\"1\" class=\"dataframe\">\n",
       "  <thead>\n",
       "    <tr style=\"text-align: right;\">\n",
       "      <th></th>\n",
       "      <th>A</th>\n",
       "      <th>B</th>\n",
       "      <th>C</th>\n",
       "      <th>D</th>\n",
       "    </tr>\n",
       "  </thead>\n",
       "  <tbody>\n",
       "    <tr>\n",
       "      <td>2020-06-25</td>\n",
       "      <td>0.101035</td>\n",
       "      <td>1.209689</td>\n",
       "      <td>-2.050134</td>\n",
       "      <td>0.761959</td>\n",
       "    </tr>\n",
       "    <tr>\n",
       "      <td>2020-06-26</td>\n",
       "      <td>-0.218045</td>\n",
       "      <td>0.062976</td>\n",
       "      <td>-0.104920</td>\n",
       "      <td>-1.642945</td>\n",
       "    </tr>\n",
       "    <tr>\n",
       "      <td>2020-06-27</td>\n",
       "      <td>0.694684</td>\n",
       "      <td>-2.449880</td>\n",
       "      <td>-0.338564</td>\n",
       "      <td>-0.512372</td>\n",
       "    </tr>\n",
       "    <tr>\n",
       "      <td>2020-06-28</td>\n",
       "      <td>-1.480230</td>\n",
       "      <td>-0.854505</td>\n",
       "      <td>1.269674</td>\n",
       "      <td>0.017901</td>\n",
       "    </tr>\n",
       "    <tr>\n",
       "      <td>2020-06-29</td>\n",
       "      <td>-0.118176</td>\n",
       "      <td>1.423899</td>\n",
       "      <td>-1.974219</td>\n",
       "      <td>-0.969888</td>\n",
       "    </tr>\n",
       "    <tr>\n",
       "      <td>2020-06-30</td>\n",
       "      <td>0.209052</td>\n",
       "      <td>0.195105</td>\n",
       "      <td>-0.467051</td>\n",
       "      <td>-0.838102</td>\n",
       "    </tr>\n",
       "  </tbody>\n",
       "</table>\n",
       "</div>"
      ],
      "text/plain": [
       "                   A         B         C         D\n",
       "2020-06-25  0.101035  1.209689 -2.050134  0.761959\n",
       "2020-06-26 -0.218045  0.062976 -0.104920 -1.642945\n",
       "2020-06-27  0.694684 -2.449880 -0.338564 -0.512372\n",
       "2020-06-28 -1.480230 -0.854505  1.269674  0.017901\n",
       "2020-06-29 -0.118176  1.423899 -1.974219 -0.969888\n",
       "2020-06-30  0.209052  0.195105 -0.467051 -0.838102"
      ]
     },
     "execution_count": 367,
     "metadata": {},
     "output_type": "execute_result"
    }
   ],
   "source": [
    "df=pd.DataFrame(np.random.randn(6, 4), index=[dates] ,columns=['A','B','C','D'])\n",
    "df"
   ]
  },
  {
   "cell_type": "code",
   "execution_count": 368,
   "metadata": {},
   "outputs": [
    {
     "data": {
      "text/html": [
       "<div>\n",
       "<style scoped>\n",
       "    .dataframe tbody tr th:only-of-type {\n",
       "        vertical-align: middle;\n",
       "    }\n",
       "\n",
       "    .dataframe tbody tr th {\n",
       "        vertical-align: top;\n",
       "    }\n",
       "\n",
       "    .dataframe thead th {\n",
       "        text-align: right;\n",
       "    }\n",
       "</style>\n",
       "<table border=\"1\" class=\"dataframe\">\n",
       "  <thead>\n",
       "    <tr style=\"text-align: right;\">\n",
       "      <th></th>\n",
       "      <th>A</th>\n",
       "      <th>B</th>\n",
       "      <th>C</th>\n",
       "      <th>D</th>\n",
       "    </tr>\n",
       "  </thead>\n",
       "  <tbody>\n",
       "    <tr>\n",
       "      <td>2020-06-25</td>\n",
       "      <td>0.101035</td>\n",
       "      <td>1.209689</td>\n",
       "      <td>-2.050134</td>\n",
       "      <td>0.761959</td>\n",
       "    </tr>\n",
       "    <tr>\n",
       "      <td>2020-06-26</td>\n",
       "      <td>-0.218045</td>\n",
       "      <td>0.062976</td>\n",
       "      <td>-0.104920</td>\n",
       "      <td>-1.642945</td>\n",
       "    </tr>\n",
       "    <tr>\n",
       "      <td>2020-06-27</td>\n",
       "      <td>0.694684</td>\n",
       "      <td>-2.449880</td>\n",
       "      <td>-0.338564</td>\n",
       "      <td>-0.512372</td>\n",
       "    </tr>\n",
       "    <tr>\n",
       "      <td>2020-06-28</td>\n",
       "      <td>-1.480230</td>\n",
       "      <td>-0.854505</td>\n",
       "      <td>1.269674</td>\n",
       "      <td>0.017901</td>\n",
       "    </tr>\n",
       "    <tr>\n",
       "      <td>2020-06-29</td>\n",
       "      <td>-0.118176</td>\n",
       "      <td>1.423899</td>\n",
       "      <td>-1.974219</td>\n",
       "      <td>-0.969888</td>\n",
       "    </tr>\n",
       "    <tr>\n",
       "      <td>2020-06-30</td>\n",
       "      <td>0.209052</td>\n",
       "      <td>0.195105</td>\n",
       "      <td>-0.467051</td>\n",
       "      <td>-0.838102</td>\n",
       "    </tr>\n",
       "  </tbody>\n",
       "</table>\n",
       "</div>"
      ],
      "text/plain": [
       "                   A         B         C         D\n",
       "2020-06-25  0.101035  1.209689 -2.050134  0.761959\n",
       "2020-06-26 -0.218045  0.062976 -0.104920 -1.642945\n",
       "2020-06-27  0.694684 -2.449880 -0.338564 -0.512372\n",
       "2020-06-28 -1.480230 -0.854505  1.269674  0.017901\n",
       "2020-06-29 -0.118176  1.423899 -1.974219 -0.969888\n",
       "2020-06-30  0.209052  0.195105 -0.467051 -0.838102"
      ]
     },
     "execution_count": 368,
     "metadata": {},
     "output_type": "execute_result"
    }
   ],
   "source": [
    "df2=df.copy()\n",
    "df2\n",
    "# df는 기본적으로 행, 열의 위치값을 가지고 있음.\n",
    "# 기본적으로 가지고 있는 위치값(index)를 이용해서 조작하는 경우\n",
    "# iloc[]를 사용!\n",
    "# 특정한 그래프나 분석시 특정 항목을 index항목으로 수동으로 설정해야하는 경우가 있음\n",
    "# 특정 항목으로 index항목으로 설정 가능한 경우는 unique한 값을 가지는 항목만\n",
    "# \"unique/not null인 값을 가지는 항목\"만\n",
    "# 설정 가능! user_id, bbs_id pk조건과 일치!"
   ]
  },
  {
   "cell_type": "code",
   "execution_count": 369,
   "metadata": {},
   "outputs": [],
   "source": [
    "df2.reset_index(inplace=True)"
   ]
  },
  {
   "cell_type": "code",
   "execution_count": 370,
   "metadata": {},
   "outputs": [
    {
     "data": {
      "text/html": [
       "<div>\n",
       "<style scoped>\n",
       "    .dataframe tbody tr th:only-of-type {\n",
       "        vertical-align: middle;\n",
       "    }\n",
       "\n",
       "    .dataframe tbody tr th {\n",
       "        vertical-align: top;\n",
       "    }\n",
       "\n",
       "    .dataframe thead th {\n",
       "        text-align: right;\n",
       "    }\n",
       "</style>\n",
       "<table border=\"1\" class=\"dataframe\">\n",
       "  <thead>\n",
       "    <tr style=\"text-align: right;\">\n",
       "      <th></th>\n",
       "      <th>level_0</th>\n",
       "      <th>A</th>\n",
       "      <th>B</th>\n",
       "      <th>C</th>\n",
       "      <th>D</th>\n",
       "    </tr>\n",
       "  </thead>\n",
       "  <tbody>\n",
       "    <tr>\n",
       "      <td>0</td>\n",
       "      <td>2020-06-25</td>\n",
       "      <td>0.101035</td>\n",
       "      <td>1.209689</td>\n",
       "      <td>-2.050134</td>\n",
       "      <td>0.761959</td>\n",
       "    </tr>\n",
       "    <tr>\n",
       "      <td>1</td>\n",
       "      <td>2020-06-26</td>\n",
       "      <td>-0.218045</td>\n",
       "      <td>0.062976</td>\n",
       "      <td>-0.104920</td>\n",
       "      <td>-1.642945</td>\n",
       "    </tr>\n",
       "    <tr>\n",
       "      <td>2</td>\n",
       "      <td>2020-06-27</td>\n",
       "      <td>0.694684</td>\n",
       "      <td>-2.449880</td>\n",
       "      <td>-0.338564</td>\n",
       "      <td>-0.512372</td>\n",
       "    </tr>\n",
       "    <tr>\n",
       "      <td>3</td>\n",
       "      <td>2020-06-28</td>\n",
       "      <td>-1.480230</td>\n",
       "      <td>-0.854505</td>\n",
       "      <td>1.269674</td>\n",
       "      <td>0.017901</td>\n",
       "    </tr>\n",
       "    <tr>\n",
       "      <td>4</td>\n",
       "      <td>2020-06-29</td>\n",
       "      <td>-0.118176</td>\n",
       "      <td>1.423899</td>\n",
       "      <td>-1.974219</td>\n",
       "      <td>-0.969888</td>\n",
       "    </tr>\n",
       "    <tr>\n",
       "      <td>5</td>\n",
       "      <td>2020-06-30</td>\n",
       "      <td>0.209052</td>\n",
       "      <td>0.195105</td>\n",
       "      <td>-0.467051</td>\n",
       "      <td>-0.838102</td>\n",
       "    </tr>\n",
       "  </tbody>\n",
       "</table>\n",
       "</div>"
      ],
      "text/plain": [
       "     level_0         A         B         C         D\n",
       "0 2020-06-25  0.101035  1.209689 -2.050134  0.761959\n",
       "1 2020-06-26 -0.218045  0.062976 -0.104920 -1.642945\n",
       "2 2020-06-27  0.694684 -2.449880 -0.338564 -0.512372\n",
       "3 2020-06-28 -1.480230 -0.854505  1.269674  0.017901\n",
       "4 2020-06-29 -0.118176  1.423899 -1.974219 -0.969888\n",
       "5 2020-06-30  0.209052  0.195105 -0.467051 -0.838102"
      ]
     },
     "execution_count": 370,
     "metadata": {},
     "output_type": "execute_result"
    }
   ],
   "source": [
    "df2"
   ]
  },
  {
   "cell_type": "code",
   "execution_count": 371,
   "metadata": {},
   "outputs": [],
   "source": [
    "df2.set_index('level_0', inplace=True)"
   ]
  },
  {
   "cell_type": "code",
   "execution_count": 372,
   "metadata": {},
   "outputs": [
    {
     "data": {
      "text/html": [
       "<div>\n",
       "<style scoped>\n",
       "    .dataframe tbody tr th:only-of-type {\n",
       "        vertical-align: middle;\n",
       "    }\n",
       "\n",
       "    .dataframe tbody tr th {\n",
       "        vertical-align: top;\n",
       "    }\n",
       "\n",
       "    .dataframe thead th {\n",
       "        text-align: right;\n",
       "    }\n",
       "</style>\n",
       "<table border=\"1\" class=\"dataframe\">\n",
       "  <thead>\n",
       "    <tr style=\"text-align: right;\">\n",
       "      <th></th>\n",
       "      <th>A</th>\n",
       "      <th>B</th>\n",
       "      <th>C</th>\n",
       "      <th>D</th>\n",
       "    </tr>\n",
       "    <tr>\n",
       "      <th>level_0</th>\n",
       "      <th></th>\n",
       "      <th></th>\n",
       "      <th></th>\n",
       "      <th></th>\n",
       "    </tr>\n",
       "  </thead>\n",
       "  <tbody>\n",
       "    <tr>\n",
       "      <td>2020-06-25</td>\n",
       "      <td>0.101035</td>\n",
       "      <td>1.209689</td>\n",
       "      <td>-2.050134</td>\n",
       "      <td>0.761959</td>\n",
       "    </tr>\n",
       "    <tr>\n",
       "      <td>2020-06-26</td>\n",
       "      <td>-0.218045</td>\n",
       "      <td>0.062976</td>\n",
       "      <td>-0.104920</td>\n",
       "      <td>-1.642945</td>\n",
       "    </tr>\n",
       "    <tr>\n",
       "      <td>2020-06-27</td>\n",
       "      <td>0.694684</td>\n",
       "      <td>-2.449880</td>\n",
       "      <td>-0.338564</td>\n",
       "      <td>-0.512372</td>\n",
       "    </tr>\n",
       "    <tr>\n",
       "      <td>2020-06-28</td>\n",
       "      <td>-1.480230</td>\n",
       "      <td>-0.854505</td>\n",
       "      <td>1.269674</td>\n",
       "      <td>0.017901</td>\n",
       "    </tr>\n",
       "    <tr>\n",
       "      <td>2020-06-29</td>\n",
       "      <td>-0.118176</td>\n",
       "      <td>1.423899</td>\n",
       "      <td>-1.974219</td>\n",
       "      <td>-0.969888</td>\n",
       "    </tr>\n",
       "    <tr>\n",
       "      <td>2020-06-30</td>\n",
       "      <td>0.209052</td>\n",
       "      <td>0.195105</td>\n",
       "      <td>-0.467051</td>\n",
       "      <td>-0.838102</td>\n",
       "    </tr>\n",
       "  </tbody>\n",
       "</table>\n",
       "</div>"
      ],
      "text/plain": [
       "                   A         B         C         D\n",
       "level_0                                           \n",
       "2020-06-25  0.101035  1.209689 -2.050134  0.761959\n",
       "2020-06-26 -0.218045  0.062976 -0.104920 -1.642945\n",
       "2020-06-27  0.694684 -2.449880 -0.338564 -0.512372\n",
       "2020-06-28 -1.480230 -0.854505  1.269674  0.017901\n",
       "2020-06-29 -0.118176  1.423899 -1.974219 -0.969888\n",
       "2020-06-30  0.209052  0.195105 -0.467051 -0.838102"
      ]
     },
     "execution_count": 372,
     "metadata": {},
     "output_type": "execute_result"
    }
   ],
   "source": [
    "df2"
   ]
  },
  {
   "cell_type": "code",
   "execution_count": 373,
   "metadata": {},
   "outputs": [],
   "source": [
    "df2['E']=df2['A']+1 #브로드캐스팅!"
   ]
  },
  {
   "cell_type": "code",
   "execution_count": 374,
   "metadata": {},
   "outputs": [
    {
     "data": {
      "text/plain": [
       "Index(['A', 'B', 'C', 'D', 'E'], dtype='object')"
      ]
     },
     "execution_count": 374,
     "metadata": {},
     "output_type": "execute_result"
    }
   ],
   "source": [
    "df2.columns"
   ]
  },
  {
   "cell_type": "code",
   "execution_count": 375,
   "metadata": {},
   "outputs": [
    {
     "data": {
      "text/plain": [
       "level_0\n",
       "2020-06-25    1.101035\n",
       "2020-06-26    0.781955\n",
       "2020-06-27    1.694684\n",
       "2020-06-28   -0.480230\n",
       "2020-06-29    0.881824\n",
       "2020-06-30    1.209052\n",
       "Name: E, dtype: float64"
      ]
     },
     "execution_count": 375,
     "metadata": {},
     "output_type": "execute_result"
    }
   ],
   "source": [
    "df2['E']"
   ]
  },
  {
   "cell_type": "code",
   "execution_count": 376,
   "metadata": {},
   "outputs": [],
   "source": [
    "df2['F']=0"
   ]
  },
  {
   "cell_type": "code",
   "execution_count": 377,
   "metadata": {},
   "outputs": [
    {
     "data": {
      "text/plain": [
       "level_0\n",
       "2020-06-25    0\n",
       "2020-06-26    0\n",
       "2020-06-27    0\n",
       "2020-06-28    0\n",
       "2020-06-29    0\n",
       "2020-06-30    0\n",
       "Name: F, dtype: int64"
      ]
     },
     "execution_count": 377,
     "metadata": {},
     "output_type": "execute_result"
    }
   ],
   "source": [
    "df2['F']"
   ]
  },
  {
   "cell_type": "code",
   "execution_count": 378,
   "metadata": {},
   "outputs": [
    {
     "data": {
      "text/plain": [
       "level_0\n",
       "2020-06-25    0\n",
       "2020-06-26    1\n",
       "2020-06-27    2\n",
       "2020-06-28    3\n",
       "2020-06-29    4\n",
       "2020-06-30    5\n",
       "Name: G, dtype: int32"
      ]
     },
     "execution_count": 378,
     "metadata": {},
     "output_type": "execute_result"
    }
   ],
   "source": [
    "df2['G']=range(0, 6)\n",
    "df2['G']"
   ]
  },
  {
   "cell_type": "code",
   "execution_count": 379,
   "metadata": {},
   "outputs": [],
   "source": [
    "# 인덱스를 변경하고 싶은 경우, 기존의 인덱스를 살리고 싶으면\n",
    "# 먼저 reset_index() 하고 나서 해야함.\n",
    "# reset을 하지 않는 경우 기존 index항목은 사라짐.\n",
    "df2.set_index('G', inplace=True)"
   ]
  },
  {
   "cell_type": "code",
   "execution_count": 380,
   "metadata": {},
   "outputs": [
    {
     "data": {
      "text/plain": [
       "Index(['A', 'B', 'C', 'D', 'E', 'F'], dtype='object')"
      ]
     },
     "execution_count": 380,
     "metadata": {},
     "output_type": "execute_result"
    }
   ],
   "source": [
    "df2.columns"
   ]
  },
  {
   "cell_type": "code",
   "execution_count": 381,
   "metadata": {
    "scrolled": true
   },
   "outputs": [
    {
     "data": {
      "text/html": [
       "<div>\n",
       "<style scoped>\n",
       "    .dataframe tbody tr th:only-of-type {\n",
       "        vertical-align: middle;\n",
       "    }\n",
       "\n",
       "    .dataframe tbody tr th {\n",
       "        vertical-align: top;\n",
       "    }\n",
       "\n",
       "    .dataframe thead th {\n",
       "        text-align: right;\n",
       "    }\n",
       "</style>\n",
       "<table border=\"1\" class=\"dataframe\">\n",
       "  <thead>\n",
       "    <tr style=\"text-align: right;\">\n",
       "      <th></th>\n",
       "      <th>A</th>\n",
       "      <th>B</th>\n",
       "      <th>C</th>\n",
       "      <th>D</th>\n",
       "    </tr>\n",
       "  </thead>\n",
       "  <tbody>\n",
       "    <tr>\n",
       "      <td>2020-06-25</td>\n",
       "      <td>0.101035</td>\n",
       "      <td>1.209689</td>\n",
       "      <td>-2.050134</td>\n",
       "      <td>0.761959</td>\n",
       "    </tr>\n",
       "    <tr>\n",
       "      <td>2020-06-26</td>\n",
       "      <td>-0.218045</td>\n",
       "      <td>0.062976</td>\n",
       "      <td>-0.104920</td>\n",
       "      <td>-1.642945</td>\n",
       "    </tr>\n",
       "    <tr>\n",
       "      <td>2020-06-27</td>\n",
       "      <td>0.694684</td>\n",
       "      <td>-2.449880</td>\n",
       "      <td>-0.338564</td>\n",
       "      <td>-0.512372</td>\n",
       "    </tr>\n",
       "    <tr>\n",
       "      <td>2020-06-28</td>\n",
       "      <td>-1.480230</td>\n",
       "      <td>-0.854505</td>\n",
       "      <td>1.269674</td>\n",
       "      <td>0.017901</td>\n",
       "    </tr>\n",
       "    <tr>\n",
       "      <td>2020-06-29</td>\n",
       "      <td>-0.118176</td>\n",
       "      <td>1.423899</td>\n",
       "      <td>-1.974219</td>\n",
       "      <td>-0.969888</td>\n",
       "    </tr>\n",
       "    <tr>\n",
       "      <td>2020-06-30</td>\n",
       "      <td>0.209052</td>\n",
       "      <td>0.195105</td>\n",
       "      <td>-0.467051</td>\n",
       "      <td>-0.838102</td>\n",
       "    </tr>\n",
       "  </tbody>\n",
       "</table>\n",
       "</div>"
      ],
      "text/plain": [
       "                   A         B         C         D\n",
       "2020-06-25  0.101035  1.209689 -2.050134  0.761959\n",
       "2020-06-26 -0.218045  0.062976 -0.104920 -1.642945\n",
       "2020-06-27  0.694684 -2.449880 -0.338564 -0.512372\n",
       "2020-06-28 -1.480230 -0.854505  1.269674  0.017901\n",
       "2020-06-29 -0.118176  1.423899 -1.974219 -0.969888\n",
       "2020-06-30  0.209052  0.195105 -0.467051 -0.838102"
      ]
     },
     "execution_count": 381,
     "metadata": {},
     "output_type": "execute_result"
    }
   ],
   "source": [
    "df3=df.copy()\n",
    "df3"
   ]
  },
  {
   "cell_type": "code",
   "execution_count": 382,
   "metadata": {},
   "outputs": [],
   "source": [
    "import random"
   ]
  },
  {
   "cell_type": "code",
   "execution_count": 383,
   "metadata": {},
   "outputs": [],
   "source": [
    "# E항목을 파생변수로 만드세요. 1~10범위 값\n",
    "# F항목을 파생변수로 만드세요. A열과 C열의 합\n",
    "# H항목을 파생변수로 만드세요.\n",
    "# Z항목을 파생변수로 만드세요. 1~9까지의 랜덤한 값으로 설정"
   ]
  },
  {
   "cell_type": "code",
   "execution_count": 384,
   "metadata": {},
   "outputs": [
    {
     "data": {
      "text/html": [
       "<div>\n",
       "<style scoped>\n",
       "    .dataframe tbody tr th:only-of-type {\n",
       "        vertical-align: middle;\n",
       "    }\n",
       "\n",
       "    .dataframe tbody tr th {\n",
       "        vertical-align: top;\n",
       "    }\n",
       "\n",
       "    .dataframe thead th {\n",
       "        text-align: right;\n",
       "    }\n",
       "</style>\n",
       "<table border=\"1\" class=\"dataframe\">\n",
       "  <thead>\n",
       "    <tr style=\"text-align: right;\">\n",
       "      <th></th>\n",
       "      <th>A</th>\n",
       "      <th>B</th>\n",
       "      <th>C</th>\n",
       "      <th>D</th>\n",
       "      <th>E</th>\n",
       "    </tr>\n",
       "  </thead>\n",
       "  <tbody>\n",
       "    <tr>\n",
       "      <td>2020-06-25</td>\n",
       "      <td>0.101035</td>\n",
       "      <td>1.209689</td>\n",
       "      <td>-2.050134</td>\n",
       "      <td>0.761959</td>\n",
       "      <td>1</td>\n",
       "    </tr>\n",
       "    <tr>\n",
       "      <td>2020-06-26</td>\n",
       "      <td>-0.218045</td>\n",
       "      <td>0.062976</td>\n",
       "      <td>-0.104920</td>\n",
       "      <td>-1.642945</td>\n",
       "      <td>7</td>\n",
       "    </tr>\n",
       "    <tr>\n",
       "      <td>2020-06-27</td>\n",
       "      <td>0.694684</td>\n",
       "      <td>-2.449880</td>\n",
       "      <td>-0.338564</td>\n",
       "      <td>-0.512372</td>\n",
       "      <td>10</td>\n",
       "    </tr>\n",
       "    <tr>\n",
       "      <td>2020-06-28</td>\n",
       "      <td>-1.480230</td>\n",
       "      <td>-0.854505</td>\n",
       "      <td>1.269674</td>\n",
       "      <td>0.017901</td>\n",
       "      <td>4</td>\n",
       "    </tr>\n",
       "    <tr>\n",
       "      <td>2020-06-29</td>\n",
       "      <td>-0.118176</td>\n",
       "      <td>1.423899</td>\n",
       "      <td>-1.974219</td>\n",
       "      <td>-0.969888</td>\n",
       "      <td>10</td>\n",
       "    </tr>\n",
       "    <tr>\n",
       "      <td>2020-06-30</td>\n",
       "      <td>0.209052</td>\n",
       "      <td>0.195105</td>\n",
       "      <td>-0.467051</td>\n",
       "      <td>-0.838102</td>\n",
       "      <td>4</td>\n",
       "    </tr>\n",
       "  </tbody>\n",
       "</table>\n",
       "</div>"
      ],
      "text/plain": [
       "                   A         B         C         D   E\n",
       "2020-06-25  0.101035  1.209689 -2.050134  0.761959   1\n",
       "2020-06-26 -0.218045  0.062976 -0.104920 -1.642945   7\n",
       "2020-06-27  0.694684 -2.449880 -0.338564 -0.512372  10\n",
       "2020-06-28 -1.480230 -0.854505  1.269674  0.017901   4\n",
       "2020-06-29 -0.118176  1.423899 -1.974219 -0.969888  10\n",
       "2020-06-30  0.209052  0.195105 -0.467051 -0.838102   4"
      ]
     },
     "execution_count": 384,
     "metadata": {},
     "output_type": "execute_result"
    }
   ],
   "source": [
    "df3['E']=0\n",
    "for i in range(6):\n",
    "    df3.iloc[i,4]=random.randint(1, 10)\n",
    "df3"
   ]
  },
  {
   "cell_type": "code",
   "execution_count": 385,
   "metadata": {},
   "outputs": [
    {
     "data": {
      "text/html": [
       "<div>\n",
       "<style scoped>\n",
       "    .dataframe tbody tr th:only-of-type {\n",
       "        vertical-align: middle;\n",
       "    }\n",
       "\n",
       "    .dataframe tbody tr th {\n",
       "        vertical-align: top;\n",
       "    }\n",
       "\n",
       "    .dataframe thead th {\n",
       "        text-align: right;\n",
       "    }\n",
       "</style>\n",
       "<table border=\"1\" class=\"dataframe\">\n",
       "  <thead>\n",
       "    <tr style=\"text-align: right;\">\n",
       "      <th></th>\n",
       "      <th>A</th>\n",
       "      <th>B</th>\n",
       "      <th>C</th>\n",
       "      <th>D</th>\n",
       "      <th>E</th>\n",
       "      <th>F</th>\n",
       "    </tr>\n",
       "  </thead>\n",
       "  <tbody>\n",
       "    <tr>\n",
       "      <td>2020-06-25</td>\n",
       "      <td>0.101035</td>\n",
       "      <td>1.209689</td>\n",
       "      <td>-2.050134</td>\n",
       "      <td>0.761959</td>\n",
       "      <td>1</td>\n",
       "      <td>-1.949099</td>\n",
       "    </tr>\n",
       "    <tr>\n",
       "      <td>2020-06-26</td>\n",
       "      <td>-0.218045</td>\n",
       "      <td>0.062976</td>\n",
       "      <td>-0.104920</td>\n",
       "      <td>-1.642945</td>\n",
       "      <td>7</td>\n",
       "      <td>-0.322965</td>\n",
       "    </tr>\n",
       "    <tr>\n",
       "      <td>2020-06-27</td>\n",
       "      <td>0.694684</td>\n",
       "      <td>-2.449880</td>\n",
       "      <td>-0.338564</td>\n",
       "      <td>-0.512372</td>\n",
       "      <td>10</td>\n",
       "      <td>0.356121</td>\n",
       "    </tr>\n",
       "    <tr>\n",
       "      <td>2020-06-28</td>\n",
       "      <td>-1.480230</td>\n",
       "      <td>-0.854505</td>\n",
       "      <td>1.269674</td>\n",
       "      <td>0.017901</td>\n",
       "      <td>4</td>\n",
       "      <td>-0.210555</td>\n",
       "    </tr>\n",
       "    <tr>\n",
       "      <td>2020-06-29</td>\n",
       "      <td>-0.118176</td>\n",
       "      <td>1.423899</td>\n",
       "      <td>-1.974219</td>\n",
       "      <td>-0.969888</td>\n",
       "      <td>10</td>\n",
       "      <td>-2.092395</td>\n",
       "    </tr>\n",
       "    <tr>\n",
       "      <td>2020-06-30</td>\n",
       "      <td>0.209052</td>\n",
       "      <td>0.195105</td>\n",
       "      <td>-0.467051</td>\n",
       "      <td>-0.838102</td>\n",
       "      <td>4</td>\n",
       "      <td>-0.258000</td>\n",
       "    </tr>\n",
       "  </tbody>\n",
       "</table>\n",
       "</div>"
      ],
      "text/plain": [
       "                   A         B         C         D   E         F\n",
       "2020-06-25  0.101035  1.209689 -2.050134  0.761959   1 -1.949099\n",
       "2020-06-26 -0.218045  0.062976 -0.104920 -1.642945   7 -0.322965\n",
       "2020-06-27  0.694684 -2.449880 -0.338564 -0.512372  10  0.356121\n",
       "2020-06-28 -1.480230 -0.854505  1.269674  0.017901   4 -0.210555\n",
       "2020-06-29 -0.118176  1.423899 -1.974219 -0.969888  10 -2.092395\n",
       "2020-06-30  0.209052  0.195105 -0.467051 -0.838102   4 -0.258000"
      ]
     },
     "execution_count": 385,
     "metadata": {},
     "output_type": "execute_result"
    }
   ],
   "source": [
    "df3['F']=0\n",
    "df3['F']=df3['A']+df3['C']\n",
    "df3"
   ]
  },
  {
   "cell_type": "code",
   "execution_count": 386,
   "metadata": {},
   "outputs": [
    {
     "data": {
      "text/html": [
       "<div>\n",
       "<style scoped>\n",
       "    .dataframe tbody tr th:only-of-type {\n",
       "        vertical-align: middle;\n",
       "    }\n",
       "\n",
       "    .dataframe tbody tr th {\n",
       "        vertical-align: top;\n",
       "    }\n",
       "\n",
       "    .dataframe thead th {\n",
       "        text-align: right;\n",
       "    }\n",
       "</style>\n",
       "<table border=\"1\" class=\"dataframe\">\n",
       "  <thead>\n",
       "    <tr style=\"text-align: right;\">\n",
       "      <th></th>\n",
       "      <th>A</th>\n",
       "      <th>B</th>\n",
       "      <th>C</th>\n",
       "      <th>D</th>\n",
       "      <th>E</th>\n",
       "      <th>F</th>\n",
       "      <th>H</th>\n",
       "    </tr>\n",
       "  </thead>\n",
       "  <tbody>\n",
       "    <tr>\n",
       "      <td>2020-06-25</td>\n",
       "      <td>0.101035</td>\n",
       "      <td>1.209689</td>\n",
       "      <td>-2.050134</td>\n",
       "      <td>0.761959</td>\n",
       "      <td>1</td>\n",
       "      <td>-1.949099</td>\n",
       "      <td></td>\n",
       "    </tr>\n",
       "    <tr>\n",
       "      <td>2020-06-26</td>\n",
       "      <td>-0.218045</td>\n",
       "      <td>0.062976</td>\n",
       "      <td>-0.104920</td>\n",
       "      <td>-1.642945</td>\n",
       "      <td>7</td>\n",
       "      <td>-0.322965</td>\n",
       "      <td></td>\n",
       "    </tr>\n",
       "    <tr>\n",
       "      <td>2020-06-27</td>\n",
       "      <td>0.694684</td>\n",
       "      <td>-2.449880</td>\n",
       "      <td>-0.338564</td>\n",
       "      <td>-0.512372</td>\n",
       "      <td>10</td>\n",
       "      <td>0.356121</td>\n",
       "      <td></td>\n",
       "    </tr>\n",
       "    <tr>\n",
       "      <td>2020-06-28</td>\n",
       "      <td>-1.480230</td>\n",
       "      <td>-0.854505</td>\n",
       "      <td>1.269674</td>\n",
       "      <td>0.017901</td>\n",
       "      <td>4</td>\n",
       "      <td>-0.210555</td>\n",
       "      <td></td>\n",
       "    </tr>\n",
       "    <tr>\n",
       "      <td>2020-06-29</td>\n",
       "      <td>-0.118176</td>\n",
       "      <td>1.423899</td>\n",
       "      <td>-1.974219</td>\n",
       "      <td>-0.969888</td>\n",
       "      <td>10</td>\n",
       "      <td>-2.092395</td>\n",
       "      <td></td>\n",
       "    </tr>\n",
       "    <tr>\n",
       "      <td>2020-06-30</td>\n",
       "      <td>0.209052</td>\n",
       "      <td>0.195105</td>\n",
       "      <td>-0.467051</td>\n",
       "      <td>-0.838102</td>\n",
       "      <td>4</td>\n",
       "      <td>-0.258000</td>\n",
       "      <td></td>\n",
       "    </tr>\n",
       "  </tbody>\n",
       "</table>\n",
       "</div>"
      ],
      "text/plain": [
       "                   A         B         C         D   E         F H\n",
       "2020-06-25  0.101035  1.209689 -2.050134  0.761959   1 -1.949099  \n",
       "2020-06-26 -0.218045  0.062976 -0.104920 -1.642945   7 -0.322965  \n",
       "2020-06-27  0.694684 -2.449880 -0.338564 -0.512372  10  0.356121  \n",
       "2020-06-28 -1.480230 -0.854505  1.269674  0.017901   4 -0.210555  \n",
       "2020-06-29 -0.118176  1.423899 -1.974219 -0.969888  10 -2.092395  \n",
       "2020-06-30  0.209052  0.195105 -0.467051 -0.838102   4 -0.258000  "
      ]
     },
     "execution_count": 386,
     "metadata": {},
     "output_type": "execute_result"
    }
   ],
   "source": [
    "df3['H']=''\n",
    "df3"
   ]
  },
  {
   "cell_type": "code",
   "execution_count": 387,
   "metadata": {},
   "outputs": [
    {
     "data": {
      "text/html": [
       "<div>\n",
       "<style scoped>\n",
       "    .dataframe tbody tr th:only-of-type {\n",
       "        vertical-align: middle;\n",
       "    }\n",
       "\n",
       "    .dataframe tbody tr th {\n",
       "        vertical-align: top;\n",
       "    }\n",
       "\n",
       "    .dataframe thead th {\n",
       "        text-align: right;\n",
       "    }\n",
       "</style>\n",
       "<table border=\"1\" class=\"dataframe\">\n",
       "  <thead>\n",
       "    <tr style=\"text-align: right;\">\n",
       "      <th></th>\n",
       "      <th>A</th>\n",
       "      <th>B</th>\n",
       "      <th>C</th>\n",
       "      <th>D</th>\n",
       "      <th>E</th>\n",
       "      <th>F</th>\n",
       "      <th>H</th>\n",
       "      <th>Z</th>\n",
       "    </tr>\n",
       "  </thead>\n",
       "  <tbody>\n",
       "    <tr>\n",
       "      <td>2020-06-25</td>\n",
       "      <td>0.101035</td>\n",
       "      <td>1.209689</td>\n",
       "      <td>-2.050134</td>\n",
       "      <td>0.761959</td>\n",
       "      <td>1</td>\n",
       "      <td>-1.949099</td>\n",
       "      <td></td>\n",
       "      <td>3</td>\n",
       "    </tr>\n",
       "    <tr>\n",
       "      <td>2020-06-26</td>\n",
       "      <td>-0.218045</td>\n",
       "      <td>0.062976</td>\n",
       "      <td>-0.104920</td>\n",
       "      <td>-1.642945</td>\n",
       "      <td>7</td>\n",
       "      <td>-0.322965</td>\n",
       "      <td></td>\n",
       "      <td>7</td>\n",
       "    </tr>\n",
       "    <tr>\n",
       "      <td>2020-06-27</td>\n",
       "      <td>0.694684</td>\n",
       "      <td>-2.449880</td>\n",
       "      <td>-0.338564</td>\n",
       "      <td>-0.512372</td>\n",
       "      <td>10</td>\n",
       "      <td>0.356121</td>\n",
       "      <td></td>\n",
       "      <td>9</td>\n",
       "    </tr>\n",
       "    <tr>\n",
       "      <td>2020-06-28</td>\n",
       "      <td>-1.480230</td>\n",
       "      <td>-0.854505</td>\n",
       "      <td>1.269674</td>\n",
       "      <td>0.017901</td>\n",
       "      <td>4</td>\n",
       "      <td>-0.210555</td>\n",
       "      <td></td>\n",
       "      <td>6</td>\n",
       "    </tr>\n",
       "    <tr>\n",
       "      <td>2020-06-29</td>\n",
       "      <td>-0.118176</td>\n",
       "      <td>1.423899</td>\n",
       "      <td>-1.974219</td>\n",
       "      <td>-0.969888</td>\n",
       "      <td>10</td>\n",
       "      <td>-2.092395</td>\n",
       "      <td></td>\n",
       "      <td>3</td>\n",
       "    </tr>\n",
       "    <tr>\n",
       "      <td>2020-06-30</td>\n",
       "      <td>0.209052</td>\n",
       "      <td>0.195105</td>\n",
       "      <td>-0.467051</td>\n",
       "      <td>-0.838102</td>\n",
       "      <td>4</td>\n",
       "      <td>-0.258000</td>\n",
       "      <td></td>\n",
       "      <td>7</td>\n",
       "    </tr>\n",
       "  </tbody>\n",
       "</table>\n",
       "</div>"
      ],
      "text/plain": [
       "                   A         B         C         D   E         F H  Z\n",
       "2020-06-25  0.101035  1.209689 -2.050134  0.761959   1 -1.949099    3\n",
       "2020-06-26 -0.218045  0.062976 -0.104920 -1.642945   7 -0.322965    7\n",
       "2020-06-27  0.694684 -2.449880 -0.338564 -0.512372  10  0.356121    9\n",
       "2020-06-28 -1.480230 -0.854505  1.269674  0.017901   4 -0.210555    6\n",
       "2020-06-29 -0.118176  1.423899 -1.974219 -0.969888  10 -2.092395    3\n",
       "2020-06-30  0.209052  0.195105 -0.467051 -0.838102   4 -0.258000    7"
      ]
     },
     "execution_count": 387,
     "metadata": {},
     "output_type": "execute_result"
    }
   ],
   "source": [
    "df3['Z']=0\n",
    "for i in range(6):\n",
    "    df3.iloc[i,7]=random.randint(1, 9)\n",
    "df3"
   ]
  },
  {
   "cell_type": "code",
   "execution_count": 388,
   "metadata": {
    "scrolled": true
   },
   "outputs": [
    {
     "data": {
      "text/html": [
       "<div>\n",
       "<style scoped>\n",
       "    .dataframe tbody tr th:only-of-type {\n",
       "        vertical-align: middle;\n",
       "    }\n",
       "\n",
       "    .dataframe tbody tr th {\n",
       "        vertical-align: top;\n",
       "    }\n",
       "\n",
       "    .dataframe thead th {\n",
       "        text-align: right;\n",
       "    }\n",
       "</style>\n",
       "<table border=\"1\" class=\"dataframe\">\n",
       "  <thead>\n",
       "    <tr style=\"text-align: right;\">\n",
       "      <th></th>\n",
       "      <th>A</th>\n",
       "      <th>B</th>\n",
       "      <th>C</th>\n",
       "      <th>D</th>\n",
       "      <th>E</th>\n",
       "      <th>F</th>\n",
       "      <th>H</th>\n",
       "      <th>Z</th>\n",
       "      <th>Z2</th>\n",
       "    </tr>\n",
       "  </thead>\n",
       "  <tbody>\n",
       "    <tr>\n",
       "      <td>2020-06-25</td>\n",
       "      <td>0.101035</td>\n",
       "      <td>1.209689</td>\n",
       "      <td>-2.050134</td>\n",
       "      <td>0.761959</td>\n",
       "      <td>1</td>\n",
       "      <td>-1.949099</td>\n",
       "      <td></td>\n",
       "      <td>3</td>\n",
       "      <td>2</td>\n",
       "    </tr>\n",
       "    <tr>\n",
       "      <td>2020-06-26</td>\n",
       "      <td>-0.218045</td>\n",
       "      <td>0.062976</td>\n",
       "      <td>-0.104920</td>\n",
       "      <td>-1.642945</td>\n",
       "      <td>7</td>\n",
       "      <td>-0.322965</td>\n",
       "      <td></td>\n",
       "      <td>7</td>\n",
       "      <td>10</td>\n",
       "    </tr>\n",
       "    <tr>\n",
       "      <td>2020-06-27</td>\n",
       "      <td>0.694684</td>\n",
       "      <td>-2.449880</td>\n",
       "      <td>-0.338564</td>\n",
       "      <td>-0.512372</td>\n",
       "      <td>10</td>\n",
       "      <td>0.356121</td>\n",
       "      <td></td>\n",
       "      <td>9</td>\n",
       "      <td>3</td>\n",
       "    </tr>\n",
       "    <tr>\n",
       "      <td>2020-06-28</td>\n",
       "      <td>-1.480230</td>\n",
       "      <td>-0.854505</td>\n",
       "      <td>1.269674</td>\n",
       "      <td>0.017901</td>\n",
       "      <td>4</td>\n",
       "      <td>-0.210555</td>\n",
       "      <td></td>\n",
       "      <td>6</td>\n",
       "      <td>6</td>\n",
       "    </tr>\n",
       "    <tr>\n",
       "      <td>2020-06-29</td>\n",
       "      <td>-0.118176</td>\n",
       "      <td>1.423899</td>\n",
       "      <td>-1.974219</td>\n",
       "      <td>-0.969888</td>\n",
       "      <td>10</td>\n",
       "      <td>-2.092395</td>\n",
       "      <td></td>\n",
       "      <td>3</td>\n",
       "      <td>9</td>\n",
       "    </tr>\n",
       "    <tr>\n",
       "      <td>2020-06-30</td>\n",
       "      <td>0.209052</td>\n",
       "      <td>0.195105</td>\n",
       "      <td>-0.467051</td>\n",
       "      <td>-0.838102</td>\n",
       "      <td>4</td>\n",
       "      <td>-0.258000</td>\n",
       "      <td></td>\n",
       "      <td>7</td>\n",
       "      <td>10</td>\n",
       "    </tr>\n",
       "  </tbody>\n",
       "</table>\n",
       "</div>"
      ],
      "text/plain": [
       "                   A         B         C         D   E         F H  Z  Z2\n",
       "2020-06-25  0.101035  1.209689 -2.050134  0.761959   1 -1.949099    3   2\n",
       "2020-06-26 -0.218045  0.062976 -0.104920 -1.642945   7 -0.322965    7  10\n",
       "2020-06-27  0.694684 -2.449880 -0.338564 -0.512372  10  0.356121    9   3\n",
       "2020-06-28 -1.480230 -0.854505  1.269674  0.017901   4 -0.210555    6   6\n",
       "2020-06-29 -0.118176  1.423899 -1.974219 -0.969888  10 -2.092395    3   9\n",
       "2020-06-30  0.209052  0.195105 -0.467051 -0.838102   4 -0.258000    7  10"
      ]
     },
     "execution_count": 388,
     "metadata": {},
     "output_type": "execute_result"
    }
   ],
   "source": [
    "df3['Z2']=[random.randint(1, 10) for _ in range(6)] \n",
    "#[]문법 => 리스트 내포: 결과가 항상list \n",
    "#list comprehension\n",
    "df3"
   ]
  },
  {
   "cell_type": "code",
   "execution_count": 389,
   "metadata": {},
   "outputs": [
    {
     "data": {
      "text/plain": [
       "[1, 2, 3, 4, 5, 6, 7, 8, 9, 10]"
      ]
     },
     "execution_count": 389,
     "metadata": {},
     "output_type": "execute_result"
    }
   ],
   "source": [
    "#['반복하면서 한번에 처리할 내용' for i in range(10)\n",
    "[i+1 for i in range(10)]"
   ]
  },
  {
   "cell_type": "code",
   "execution_count": 390,
   "metadata": {},
   "outputs": [
    {
     "data": {
      "text/plain": [
       "[1, 3, 5, 7, 9]"
      ]
     },
     "execution_count": 390,
     "metadata": {},
     "output_type": "execute_result"
    }
   ],
   "source": [
    "#['반복하면서 한번에 처리할 내용' for i in range(10) if i%2==0\n",
    "[i+1 for i in range(10) if i%2==0]\n",
    "\n",
    "data3=[]\n",
    "for i in range(10):\n",
    "    if i%2==0:\n",
    "        data3.append(i+1)\n",
    "data3"
   ]
  },
  {
   "cell_type": "code",
   "execution_count": 391,
   "metadata": {},
   "outputs": [
    {
     "name": "stdout",
     "output_type": "stream",
     "text": [
      "홍길동\n",
      "김길동\n",
      "송길동\n"
     ]
    }
   ],
   "source": [
    "name=['홍길동', '김길동', '송길동']\n",
    "for x in name:\n",
    "    print(x)"
   ]
  },
  {
   "cell_type": "code",
   "execution_count": 392,
   "metadata": {},
   "outputs": [
    {
     "data": {
      "text/plain": [
       "['홍길동님', '김길동님', '송길동님']"
      ]
     },
     "execution_count": 392,
     "metadata": {},
     "output_type": "execute_result"
    }
   ],
   "source": [
    "# name에 들어있는 각각의 모든 데이터에 \"님\"자를 붙여주세요.!\n",
    "[(name[i]+\"님\") for i in range(3)]"
   ]
  },
  {
   "cell_type": "code",
   "execution_count": 405,
   "metadata": {},
   "outputs": [
    {
     "data": {
      "text/plain": [
       "['신입 홍길동', '신입 김길동', '신입 송길동']"
      ]
     },
     "execution_count": 405,
     "metadata": {},
     "output_type": "execute_result"
    }
   ],
   "source": [
    "# name에 들어있는 각각의 모든 데이터의 앞에 \"신입\"글자를 붙여주세요!\n",
    "# [\"신입 \"+x for x in name]\n",
    "[\"신입 \"+(name[i]) for i in range(3)]"
   ]
  },
  {
   "cell_type": "code",
   "execution_count": 394,
   "metadata": {},
   "outputs": [],
   "source": [
    "a_list=range(1, 100, 2)"
   ]
  },
  {
   "cell_type": "code",
   "execution_count": 395,
   "metadata": {},
   "outputs": [
    {
     "data": {
      "text/plain": [
       "50"
      ]
     },
     "execution_count": 395,
     "metadata": {},
     "output_type": "execute_result"
    }
   ],
   "source": [
    "# a_list에 몇 개가 들어있는지 세어보세요.\n",
    "len([1 for x in a_list])"
   ]
  },
  {
   "cell_type": "code",
   "execution_count": 396,
   "metadata": {},
   "outputs": [],
   "source": [
    "# a_list의 각각의 모든 데이터에 0.1을 곱해보세요. 변경된 a_list의 합과 평균\n",
    "a_list=[a_list[i]*0.1 for i in range(len(a_list))]"
   ]
  },
  {
   "cell_type": "code",
   "execution_count": 399,
   "metadata": {
    "scrolled": false
   },
   "outputs": [
    {
     "data": {
      "text/plain": [
       "250.0"
      ]
     },
     "execution_count": 399,
     "metadata": {},
     "output_type": "execute_result"
    }
   ],
   "source": [
    "np.sum(a_list)"
   ]
  },
  {
   "cell_type": "code",
   "execution_count": 406,
   "metadata": {
    "scrolled": true
   },
   "outputs": [
    {
     "data": {
      "text/plain": [
       "5.0"
      ]
     },
     "execution_count": 406,
     "metadata": {},
     "output_type": "execute_result"
    }
   ],
   "source": [
    "np.mean(a_list)"
   ]
  },
  {
   "cell_type": "code",
   "execution_count": 401,
   "metadata": {},
   "outputs": [
    {
     "data": {
      "text/plain": [
       "2.8861739379323628"
      ]
     },
     "execution_count": 401,
     "metadata": {},
     "output_type": "execute_result"
    }
   ],
   "source": [
    "np.std(a_list)"
   ]
  },
  {
   "cell_type": "code",
   "execution_count": 402,
   "metadata": {},
   "outputs": [
    {
     "data": {
      "text/plain": [
       "[0.010000000000000002, 0.030000000000000006, 0.05]"
      ]
     },
     "execution_count": 402,
     "metadata": {},
     "output_type": "execute_result"
    }
   ],
   "source": [
    "[x*0.1 for x in a_list[:3]]"
   ]
  },
  {
   "cell_type": "code",
   "execution_count": 412,
   "metadata": {},
   "outputs": [
    {
     "ename": "KeyError",
     "evalue": "\"['H' 'Z2'] not found in axis\"",
     "output_type": "error",
     "traceback": [
      "\u001b[1;31m---------------------------------------------------------------------------\u001b[0m",
      "\u001b[1;31mKeyError\u001b[0m                                  Traceback (most recent call last)",
      "\u001b[1;32m<ipython-input-412-a6a15b379df2>\u001b[0m in \u001b[0;36m<module>\u001b[1;34m\u001b[0m\n\u001b[1;32m----> 1\u001b[1;33m \u001b[0mdf3\u001b[0m\u001b[1;33m.\u001b[0m\u001b[0mdrop\u001b[0m\u001b[1;33m(\u001b[0m\u001b[0mcolumns\u001b[0m\u001b[1;33m=\u001b[0m\u001b[1;33m[\u001b[0m\u001b[1;34m'H'\u001b[0m\u001b[1;33m,\u001b[0m \u001b[1;34m'Z2'\u001b[0m\u001b[1;33m]\u001b[0m\u001b[1;33m,\u001b[0m \u001b[0minplace\u001b[0m\u001b[1;33m=\u001b[0m\u001b[1;32mTrue\u001b[0m\u001b[1;33m)\u001b[0m\u001b[1;33m\u001b[0m\u001b[1;33m\u001b[0m\u001b[0m\n\u001b[0m\u001b[0;32m      2\u001b[0m \u001b[0mdf3\u001b[0m\u001b[1;33m\u001b[0m\u001b[1;33m\u001b[0m\u001b[0m\n",
      "\u001b[1;32mC:\\ProgramData\\Anaconda3\\lib\\site-packages\\pandas\\core\\frame.py\u001b[0m in \u001b[0;36mdrop\u001b[1;34m(self, labels, axis, index, columns, level, inplace, errors)\u001b[0m\n\u001b[0;32m   4100\u001b[0m             \u001b[0mlevel\u001b[0m\u001b[1;33m=\u001b[0m\u001b[0mlevel\u001b[0m\u001b[1;33m,\u001b[0m\u001b[1;33m\u001b[0m\u001b[1;33m\u001b[0m\u001b[0m\n\u001b[0;32m   4101\u001b[0m             \u001b[0minplace\u001b[0m\u001b[1;33m=\u001b[0m\u001b[0minplace\u001b[0m\u001b[1;33m,\u001b[0m\u001b[1;33m\u001b[0m\u001b[1;33m\u001b[0m\u001b[0m\n\u001b[1;32m-> 4102\u001b[1;33m             \u001b[0merrors\u001b[0m\u001b[1;33m=\u001b[0m\u001b[0merrors\u001b[0m\u001b[1;33m,\u001b[0m\u001b[1;33m\u001b[0m\u001b[1;33m\u001b[0m\u001b[0m\n\u001b[0m\u001b[0;32m   4103\u001b[0m         )\n\u001b[0;32m   4104\u001b[0m \u001b[1;33m\u001b[0m\u001b[0m\n",
      "\u001b[1;32mC:\\ProgramData\\Anaconda3\\lib\\site-packages\\pandas\\core\\generic.py\u001b[0m in \u001b[0;36mdrop\u001b[1;34m(self, labels, axis, index, columns, level, inplace, errors)\u001b[0m\n\u001b[0;32m   3912\u001b[0m         \u001b[1;32mfor\u001b[0m \u001b[0maxis\u001b[0m\u001b[1;33m,\u001b[0m \u001b[0mlabels\u001b[0m \u001b[1;32min\u001b[0m \u001b[0maxes\u001b[0m\u001b[1;33m.\u001b[0m\u001b[0mitems\u001b[0m\u001b[1;33m(\u001b[0m\u001b[1;33m)\u001b[0m\u001b[1;33m:\u001b[0m\u001b[1;33m\u001b[0m\u001b[1;33m\u001b[0m\u001b[0m\n\u001b[0;32m   3913\u001b[0m             \u001b[1;32mif\u001b[0m \u001b[0mlabels\u001b[0m \u001b[1;32mis\u001b[0m \u001b[1;32mnot\u001b[0m \u001b[1;32mNone\u001b[0m\u001b[1;33m:\u001b[0m\u001b[1;33m\u001b[0m\u001b[1;33m\u001b[0m\u001b[0m\n\u001b[1;32m-> 3914\u001b[1;33m                 \u001b[0mobj\u001b[0m \u001b[1;33m=\u001b[0m \u001b[0mobj\u001b[0m\u001b[1;33m.\u001b[0m\u001b[0m_drop_axis\u001b[0m\u001b[1;33m(\u001b[0m\u001b[0mlabels\u001b[0m\u001b[1;33m,\u001b[0m \u001b[0maxis\u001b[0m\u001b[1;33m,\u001b[0m \u001b[0mlevel\u001b[0m\u001b[1;33m=\u001b[0m\u001b[0mlevel\u001b[0m\u001b[1;33m,\u001b[0m \u001b[0merrors\u001b[0m\u001b[1;33m=\u001b[0m\u001b[0merrors\u001b[0m\u001b[1;33m)\u001b[0m\u001b[1;33m\u001b[0m\u001b[1;33m\u001b[0m\u001b[0m\n\u001b[0m\u001b[0;32m   3915\u001b[0m \u001b[1;33m\u001b[0m\u001b[0m\n\u001b[0;32m   3916\u001b[0m         \u001b[1;32mif\u001b[0m \u001b[0minplace\u001b[0m\u001b[1;33m:\u001b[0m\u001b[1;33m\u001b[0m\u001b[1;33m\u001b[0m\u001b[0m\n",
      "\u001b[1;32mC:\\ProgramData\\Anaconda3\\lib\\site-packages\\pandas\\core\\generic.py\u001b[0m in \u001b[0;36m_drop_axis\u001b[1;34m(self, labels, axis, level, errors)\u001b[0m\n\u001b[0;32m   3944\u001b[0m                 \u001b[0mnew_axis\u001b[0m \u001b[1;33m=\u001b[0m \u001b[0maxis\u001b[0m\u001b[1;33m.\u001b[0m\u001b[0mdrop\u001b[0m\u001b[1;33m(\u001b[0m\u001b[0mlabels\u001b[0m\u001b[1;33m,\u001b[0m \u001b[0mlevel\u001b[0m\u001b[1;33m=\u001b[0m\u001b[0mlevel\u001b[0m\u001b[1;33m,\u001b[0m \u001b[0merrors\u001b[0m\u001b[1;33m=\u001b[0m\u001b[0merrors\u001b[0m\u001b[1;33m)\u001b[0m\u001b[1;33m\u001b[0m\u001b[1;33m\u001b[0m\u001b[0m\n\u001b[0;32m   3945\u001b[0m             \u001b[1;32melse\u001b[0m\u001b[1;33m:\u001b[0m\u001b[1;33m\u001b[0m\u001b[1;33m\u001b[0m\u001b[0m\n\u001b[1;32m-> 3946\u001b[1;33m                 \u001b[0mnew_axis\u001b[0m \u001b[1;33m=\u001b[0m \u001b[0maxis\u001b[0m\u001b[1;33m.\u001b[0m\u001b[0mdrop\u001b[0m\u001b[1;33m(\u001b[0m\u001b[0mlabels\u001b[0m\u001b[1;33m,\u001b[0m \u001b[0merrors\u001b[0m\u001b[1;33m=\u001b[0m\u001b[0merrors\u001b[0m\u001b[1;33m)\u001b[0m\u001b[1;33m\u001b[0m\u001b[1;33m\u001b[0m\u001b[0m\n\u001b[0m\u001b[0;32m   3947\u001b[0m             \u001b[0mresult\u001b[0m \u001b[1;33m=\u001b[0m \u001b[0mself\u001b[0m\u001b[1;33m.\u001b[0m\u001b[0mreindex\u001b[0m\u001b[1;33m(\u001b[0m\u001b[1;33m**\u001b[0m\u001b[1;33m{\u001b[0m\u001b[0maxis_name\u001b[0m\u001b[1;33m:\u001b[0m \u001b[0mnew_axis\u001b[0m\u001b[1;33m}\u001b[0m\u001b[1;33m)\u001b[0m\u001b[1;33m\u001b[0m\u001b[1;33m\u001b[0m\u001b[0m\n\u001b[0;32m   3948\u001b[0m \u001b[1;33m\u001b[0m\u001b[0m\n",
      "\u001b[1;32mC:\\ProgramData\\Anaconda3\\lib\\site-packages\\pandas\\core\\indexes\\base.py\u001b[0m in \u001b[0;36mdrop\u001b[1;34m(self, labels, errors)\u001b[0m\n\u001b[0;32m   5338\u001b[0m         \u001b[1;32mif\u001b[0m \u001b[0mmask\u001b[0m\u001b[1;33m.\u001b[0m\u001b[0many\u001b[0m\u001b[1;33m(\u001b[0m\u001b[1;33m)\u001b[0m\u001b[1;33m:\u001b[0m\u001b[1;33m\u001b[0m\u001b[1;33m\u001b[0m\u001b[0m\n\u001b[0;32m   5339\u001b[0m             \u001b[1;32mif\u001b[0m \u001b[0merrors\u001b[0m \u001b[1;33m!=\u001b[0m \u001b[1;34m\"ignore\"\u001b[0m\u001b[1;33m:\u001b[0m\u001b[1;33m\u001b[0m\u001b[1;33m\u001b[0m\u001b[0m\n\u001b[1;32m-> 5340\u001b[1;33m                 \u001b[1;32mraise\u001b[0m \u001b[0mKeyError\u001b[0m\u001b[1;33m(\u001b[0m\u001b[1;34m\"{} not found in axis\"\u001b[0m\u001b[1;33m.\u001b[0m\u001b[0mformat\u001b[0m\u001b[1;33m(\u001b[0m\u001b[0mlabels\u001b[0m\u001b[1;33m[\u001b[0m\u001b[0mmask\u001b[0m\u001b[1;33m]\u001b[0m\u001b[1;33m)\u001b[0m\u001b[1;33m)\u001b[0m\u001b[1;33m\u001b[0m\u001b[1;33m\u001b[0m\u001b[0m\n\u001b[0m\u001b[0;32m   5341\u001b[0m             \u001b[0mindexer\u001b[0m \u001b[1;33m=\u001b[0m \u001b[0mindexer\u001b[0m\u001b[1;33m[\u001b[0m\u001b[1;33m~\u001b[0m\u001b[0mmask\u001b[0m\u001b[1;33m]\u001b[0m\u001b[1;33m\u001b[0m\u001b[1;33m\u001b[0m\u001b[0m\n\u001b[0;32m   5342\u001b[0m         \u001b[1;32mreturn\u001b[0m \u001b[0mself\u001b[0m\u001b[1;33m.\u001b[0m\u001b[0mdelete\u001b[0m\u001b[1;33m(\u001b[0m\u001b[0mindexer\u001b[0m\u001b[1;33m)\u001b[0m\u001b[1;33m\u001b[0m\u001b[1;33m\u001b[0m\u001b[0m\n",
      "\u001b[1;31mKeyError\u001b[0m: \"['H' 'Z2'] not found in axis\""
     ]
    }
   ],
   "source": [
    "df3.drop(columns=['H', 'Z2'], inplace=True"
   ]
  },
  {
   "cell_type": "code",
   "execution_count": null,
   "metadata": {},
   "outputs": [],
   "source": []
  }
 ],
 "metadata": {
  "kernelspec": {
   "display_name": "Python 3",
   "language": "python",
   "name": "python3"
  },
  "language_info": {
   "codemirror_mode": {
    "name": "ipython",
    "version": 3
   },
   "file_extension": ".py",
   "mimetype": "text/x-python",
   "name": "python",
   "nbconvert_exporter": "python",
   "pygments_lexer": "ipython3",
   "version": "3.7.4"
  }
 },
 "nbformat": 4,
 "nbformat_minor": 2
}
