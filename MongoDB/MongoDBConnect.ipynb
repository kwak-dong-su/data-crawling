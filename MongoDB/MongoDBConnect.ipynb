{
 "cells": [
  {
   "cell_type": "code",
   "execution_count": 1,
   "id": "34b086e6",
   "metadata": {
    "scrolled": true
   },
   "outputs": [
    {
     "name": "stdout",
     "output_type": "stream",
     "text": [
      "Collecting pymongo\n",
      "  Downloading pymongo-4.1.1-cp37-cp37m-win_amd64.whl (365 kB)\n",
      "Installing collected packages: pymongo\n",
      "Successfully installed pymongo-4.1.1\n",
      "Note: you may need to restart the kernel to use updated packages.\n"
     ]
    },
    {
     "name": "stderr",
     "output_type": "stream",
     "text": [
      "WARNING: Ignoring invalid distribution -llib3 (c:\\programdata\\anaconda3\\lib\\site-packages)\n",
      "WARNING: Ignoring invalid distribution -umpy (c:\\programdata\\anaconda3\\lib\\site-packages)\n",
      "WARNING: Ignoring invalid distribution -rllib3 (c:\\programdata\\anaconda3\\lib\\site-packages)\n",
      "WARNING: Ignoring invalid distribution - (c:\\programdata\\anaconda3\\lib\\site-packages)\n",
      "WARNING: Ignoring invalid distribution -ffi (c:\\programdata\\anaconda3\\lib\\site-packages)\n",
      "WARNING: Ignoring invalid distribution -erkzeug (c:\\programdata\\anaconda3\\lib\\site-packages)\n",
      "WARNING: Ignoring invalid distribution -llib3 (c:\\programdata\\anaconda3\\lib\\site-packages)\n",
      "WARNING: Ignoring invalid distribution -umpy (c:\\programdata\\anaconda3\\lib\\site-packages)\n",
      "WARNING: Ignoring invalid distribution -rllib3 (c:\\programdata\\anaconda3\\lib\\site-packages)\n",
      "WARNING: Ignoring invalid distribution - (c:\\programdata\\anaconda3\\lib\\site-packages)\n",
      "WARNING: Ignoring invalid distribution -ffi (c:\\programdata\\anaconda3\\lib\\site-packages)\n",
      "WARNING: Ignoring invalid distribution -erkzeug (c:\\programdata\\anaconda3\\lib\\site-packages)\n",
      "WARNING: Ignoring invalid distribution -llib3 (c:\\programdata\\anaconda3\\lib\\site-packages)\n",
      "WARNING: Ignoring invalid distribution -umpy (c:\\programdata\\anaconda3\\lib\\site-packages)\n",
      "WARNING: Ignoring invalid distribution -rllib3 (c:\\programdata\\anaconda3\\lib\\site-packages)\n",
      "WARNING: Ignoring invalid distribution - (c:\\programdata\\anaconda3\\lib\\site-packages)\n",
      "WARNING: Ignoring invalid distribution -ffi (c:\\programdata\\anaconda3\\lib\\site-packages)\n",
      "WARNING: Ignoring invalid distribution -erkzeug (c:\\programdata\\anaconda3\\lib\\site-packages)\n",
      "WARNING: Ignoring invalid distribution -llib3 (c:\\programdata\\anaconda3\\lib\\site-packages)\n",
      "WARNING: Ignoring invalid distribution -umpy (c:\\programdata\\anaconda3\\lib\\site-packages)\n",
      "WARNING: Ignoring invalid distribution -rllib3 (c:\\programdata\\anaconda3\\lib\\site-packages)\n",
      "WARNING: Ignoring invalid distribution - (c:\\programdata\\anaconda3\\lib\\site-packages)\n",
      "WARNING: Ignoring invalid distribution -ffi (c:\\programdata\\anaconda3\\lib\\site-packages)\n",
      "WARNING: Ignoring invalid distribution -erkzeug (c:\\programdata\\anaconda3\\lib\\site-packages)\n",
      "WARNING: Ignoring invalid distribution -llib3 (c:\\programdata\\anaconda3\\lib\\site-packages)\n",
      "WARNING: Ignoring invalid distribution -umpy (c:\\programdata\\anaconda3\\lib\\site-packages)\n",
      "WARNING: Ignoring invalid distribution -rllib3 (c:\\programdata\\anaconda3\\lib\\site-packages)\n",
      "WARNING: Ignoring invalid distribution - (c:\\programdata\\anaconda3\\lib\\site-packages)\n",
      "WARNING: Ignoring invalid distribution -ffi (c:\\programdata\\anaconda3\\lib\\site-packages)\n",
      "WARNING: Ignoring invalid distribution -erkzeug (c:\\programdata\\anaconda3\\lib\\site-packages)\n",
      "WARNING: Ignoring invalid distribution -llib3 (c:\\programdata\\anaconda3\\lib\\site-packages)\n",
      "WARNING: Ignoring invalid distribution -umpy (c:\\programdata\\anaconda3\\lib\\site-packages)\n",
      "WARNING: Ignoring invalid distribution -rllib3 (c:\\programdata\\anaconda3\\lib\\site-packages)\n",
      "WARNING: Ignoring invalid distribution - (c:\\programdata\\anaconda3\\lib\\site-packages)\n",
      "WARNING: Ignoring invalid distribution -ffi (c:\\programdata\\anaconda3\\lib\\site-packages)\n",
      "WARNING: Ignoring invalid distribution -erkzeug (c:\\programdata\\anaconda3\\lib\\site-packages)\n",
      "WARNING: Ignoring invalid distribution -llib3 (c:\\programdata\\anaconda3\\lib\\site-packages)\n",
      "WARNING: Ignoring invalid distribution -umpy (c:\\programdata\\anaconda3\\lib\\site-packages)\n",
      "WARNING: Ignoring invalid distribution -rllib3 (c:\\programdata\\anaconda3\\lib\\site-packages)\n",
      "WARNING: Ignoring invalid distribution - (c:\\programdata\\anaconda3\\lib\\site-packages)\n",
      "WARNING: Ignoring invalid distribution -ffi (c:\\programdata\\anaconda3\\lib\\site-packages)\n",
      "WARNING: Ignoring invalid distribution -erkzeug (c:\\programdata\\anaconda3\\lib\\site-packages)\n"
     ]
    }
   ],
   "source": [
    "# pip install pymongo"
   ]
  },
  {
   "cell_type": "code",
   "execution_count": 2,
   "id": "03cf78da",
   "metadata": {},
   "outputs": [
    {
     "name": "stderr",
     "output_type": "stream",
     "text": [
      "C:\\ProgramData\\Anaconda3\\lib\\site-packages\\requests\\__init__.py:91: RequestsDependencyWarning: urllib3 (1.25.11) or chardet (4.0.0) doesn't match a supported version!\n",
      "  RequestsDependencyWarning)\n"
     ]
    }
   ],
   "source": [
    "import pymongo"
   ]
  },
  {
   "cell_type": "code",
   "execution_count": 3,
   "id": "d4f60e39",
   "metadata": {},
   "outputs": [],
   "source": [
    "# db 연결하는 객체 필요\n",
    "# 1. db연결\n",
    "# 2. collection 연결\n",
    "# 3. documents 조작"
   ]
  },
  {
   "cell_type": "code",
   "execution_count": 4,
   "id": "f9a57679",
   "metadata": {},
   "outputs": [],
   "source": [
    "conn = pymongo.MongoClient() #몽고db 서버에 연결"
   ]
  },
  {
   "cell_type": "code",
   "execution_count": 5,
   "id": "60a1ab32",
   "metadata": {},
   "outputs": [
    {
     "data": {
      "text/plain": [
       "MongoClient(host=['localhost:27017'], document_class=dict, tz_aware=False, connect=True)"
      ]
     },
     "execution_count": 5,
     "metadata": {},
     "output_type": "execute_result"
    }
   ],
   "source": [
    "conn #디폴트 값은 localhost"
   ]
  },
  {
   "cell_type": "code",
   "execution_count": 7,
   "id": "96402ca3",
   "metadata": {},
   "outputs": [],
   "source": [
    "shop=conn.shop"
   ]
  },
  {
   "cell_type": "code",
   "execution_count": 8,
   "id": "211ad962",
   "metadata": {},
   "outputs": [
    {
     "data": {
      "text/plain": [
       "Database(MongoClient(host=['localhost:27017'], document_class=dict, tz_aware=False, connect=True), 'shop')"
      ]
     },
     "execution_count": 8,
     "metadata": {},
     "output_type": "execute_result"
    }
   ],
   "source": [
    "shop"
   ]
  },
  {
   "cell_type": "code",
   "execution_count": 9,
   "id": "cfb3b309",
   "metadata": {},
   "outputs": [],
   "source": [
    "test=conn.test #test db 생성"
   ]
  },
  {
   "cell_type": "code",
   "execution_count": 10,
   "id": "23668f33",
   "metadata": {},
   "outputs": [
    {
     "data": {
      "text/plain": [
       "Database(MongoClient(host=['localhost:27017'], document_class=dict, tz_aware=False, connect=True), 'test')"
      ]
     },
     "execution_count": 10,
     "metadata": {},
     "output_type": "execute_result"
    }
   ],
   "source": [
    "test"
   ]
  },
  {
   "cell_type": "code",
   "execution_count": 11,
   "id": "3293179f",
   "metadata": {},
   "outputs": [],
   "source": [
    "board=test.board # board collection 생성"
   ]
  },
  {
   "cell_type": "code",
   "execution_count": 12,
   "id": "b16d26f4",
   "metadata": {},
   "outputs": [
    {
     "data": {
      "text/plain": [
       "Collection(Database(MongoClient(host=['localhost:27017'], document_class=dict, tz_aware=False, connect=True), 'test'), 'board')"
      ]
     },
     "execution_count": 12,
     "metadata": {},
     "output_type": "execute_result"
    }
   ],
   "source": [
    "board\n",
    "# in-memory 방식: 모든 처리가 끝난 후 저장을 하는 방식\n",
    "# 데이터가 없으면 저장 공간에 저장되지 않기 때문에 클라이언트 프로그램(compass)에서 보이지 않음"
   ]
  },
  {
   "cell_type": "code",
   "execution_count": 13,
   "id": "24b5be57",
   "metadata": {},
   "outputs": [
    {
     "data": {
      "text/plain": [
       "Collection(Database(MongoClient(host=['localhost:27017'], document_class=dict, tz_aware=False, connect=True), 'shop'), 'member')"
      ]
     },
     "execution_count": 13,
     "metadata": {},
     "output_type": "execute_result"
    }
   ],
   "source": [
    "member=shop.member\n",
    "member"
   ]
  },
  {
   "cell_type": "code",
   "execution_count": 17,
   "id": "e1fe2a3f",
   "metadata": {},
   "outputs": [
    {
     "data": {
      "text/plain": [
       "32"
      ]
     },
     "execution_count": 17,
     "metadata": {},
     "output_type": "execute_result"
    }
   ],
   "source": [
    "member.count_documents({})"
   ]
  },
  {
   "cell_type": "code",
   "execution_count": 23,
   "id": "a3a9c57e",
   "metadata": {},
   "outputs": [],
   "source": [
    "# create documents\n",
    "data1={\"name\":\"kim\", \"age\":20}\n",
    "data2={\"name\":\"park\", \"age\":50, \"addr\":\"seoul\" }\n",
    "data3=[\n",
    "    {\"name\":\"jung\", \"age\":10},\n",
    "    {\"name\":\"choi\", \"age\":30, \"addr\":\"jeju\" }\n",
    "]"
   ]
  },
  {
   "cell_type": "code",
   "execution_count": 24,
   "id": "87eb6241",
   "metadata": {},
   "outputs": [
    {
     "data": {
      "text/plain": [
       "<pymongo.results.InsertOneResult at 0x1c1b7f1c2c8>"
      ]
     },
     "execution_count": 24,
     "metadata": {},
     "output_type": "execute_result"
    }
   ],
   "source": [
    "member.insert_one(data1)"
   ]
  },
  {
   "cell_type": "code",
   "execution_count": 25,
   "id": "d2034d0d",
   "metadata": {},
   "outputs": [
    {
     "data": {
      "text/plain": [
       "<pymongo.results.InsertOneResult at 0x1c1b7984d08>"
      ]
     },
     "execution_count": 25,
     "metadata": {},
     "output_type": "execute_result"
    }
   ],
   "source": [
    "member.insert_one(data2)"
   ]
  },
  {
   "cell_type": "code",
   "execution_count": 26,
   "id": "dcbe61f2",
   "metadata": {},
   "outputs": [
    {
     "data": {
      "text/plain": [
       "<pymongo.results.InsertManyResult at 0x1c1b7bb7148>"
      ]
     },
     "execution_count": 26,
     "metadata": {},
     "output_type": "execute_result"
    }
   ],
   "source": [
    "member.insert_many(data3)"
   ]
  },
  {
   "cell_type": "code",
   "execution_count": 21,
   "id": "623050f2",
   "metadata": {},
   "outputs": [],
   "source": [
    "# read documents"
   ]
  },
  {
   "cell_type": "code",
   "execution_count": 28,
   "id": "3e2bdb04",
   "metadata": {},
   "outputs": [
    {
     "data": {
      "text/plain": [
       "<pymongo.cursor.Cursor at 0x1c1b78032c8>"
      ]
     },
     "execution_count": 28,
     "metadata": {},
     "output_type": "execute_result"
    }
   ],
   "source": [
    "docs=member.find() # 전체 검색\n",
    "docs"
   ]
  },
  {
   "cell_type": "code",
   "execution_count": 29,
   "id": "56b7db43",
   "metadata": {},
   "outputs": [
    {
     "name": "stdout",
     "output_type": "stream",
     "text": [
      "{'_id': ObjectId('62a7de09d6d74bb3385e3463'), 'user_id': 'park', 'user_name': 'park ji sung', 'user_age': 50}\n",
      "{'_id': ObjectId('62a7de7fd6d74bb3385e3465'), 'user_id': '\"kim\"', 'user_name': '\"kim chulsu\"', 'user_age': 30, 'user_tel': '01011234567'}\n",
      "{'_id': ObjectId('62a7df3ad6d74bb3385e3466'), 'Name': 'Rosaline Franklin', 'Born': '1920-07-25', 'Died': '1958-04-16', 'Age': '37', 'Occupation': 'Chemist'}\n",
      "{'_id': ObjectId('62a7df3ad6d74bb3385e3467'), 'Name': 'William Gosset', 'Born': '1876-06-13', 'Died': '1937-10-16', 'Age': '61', 'Occupation': 'Statistician'}\n",
      "{'_id': ObjectId('62a7df3ad6d74bb3385e3468'), 'Name': 'Florence Nightingale', 'Born': '1820-05-12', 'Died': '1910-08-13', 'Age': '90', 'Occupation': 'Nurse'}\n",
      "{'_id': ObjectId('62a7df3ad6d74bb3385e3469'), 'Name': 'Marie Curie', 'Born': '1867-11-07', 'Died': '1934-07-04', 'Age': '66', 'Occupation': 'Chemist'}\n",
      "{'_id': ObjectId('62a7df3ad6d74bb3385e346a'), 'Name': 'Rachel Carson', 'Born': '1907-05-27', 'Died': '1964-04-14', 'Age': '56', 'Occupation': 'Biologist'}\n",
      "{'_id': ObjectId('62a7df3ad6d74bb3385e346b'), 'Name': 'John Snow', 'Born': '1813-03-15', 'Died': '1858-06-16', 'Age': '45', 'Occupation': 'Physician'}\n",
      "{'_id': ObjectId('62a7df3ad6d74bb3385e346c'), 'Name': 'Alan Turing', 'Born': '1912-06-23', 'Died': '1954-06-07', 'Age': '41', 'Occupation': 'Computer Scientist'}\n",
      "{'_id': ObjectId('62a7df3ad6d74bb3385e346d'), 'Name': 'Johann Gauss', 'Born': '1777-04-30', 'Died': '1855-02-23', 'Age': '77', 'Occupation': 'Mathematician'}\n",
      "{'_id': ObjectId('62a7e019d6d74bb3385e346e'), 'id': 'MX17004', 'year': '2010', 'month': '1', 'element': 'tmax', 'd1': 'NA', 'd2': 'NA', 'd3': 'NA', 'd4': 'NA', 'd5': 'NA', 'd6': 'NA', 'd7': 'NA', 'd8': 'NA', 'd9': 'NA', 'd10': 'NA', 'd11': 'NA', 'd12': 'NA', 'd13': 'NA', 'd14': 'NA', 'd15': 'NA', 'd16': 'NA', 'd17': 'NA', 'd18': 'NA', 'd19': 'NA', 'd20': 'NA', 'd21': 'NA', 'd22': 'NA', 'd23': 'NA', 'd24': 'NA', 'd25': 'NA', 'd26': 'NA', 'd27': 'NA', 'd28': 'NA', 'd29': 'NA', 'd30': '27.8', 'd31': 'NA'}\n",
      "{'_id': ObjectId('62a7e019d6d74bb3385e346f'), 'id': 'MX17004', 'year': '2010', 'month': '1', 'element': 'tmin', 'd1': 'NA', 'd2': 'NA', 'd3': 'NA', 'd4': 'NA', 'd5': 'NA', 'd6': 'NA', 'd7': 'NA', 'd8': 'NA', 'd9': 'NA', 'd10': 'NA', 'd11': 'NA', 'd12': 'NA', 'd13': 'NA', 'd14': 'NA', 'd15': 'NA', 'd16': 'NA', 'd17': 'NA', 'd18': 'NA', 'd19': 'NA', 'd20': 'NA', 'd21': 'NA', 'd22': 'NA', 'd23': 'NA', 'd24': 'NA', 'd25': 'NA', 'd26': 'NA', 'd27': 'NA', 'd28': 'NA', 'd29': 'NA', 'd30': '14.5', 'd31': 'NA'}\n",
      "{'_id': ObjectId('62a7e019d6d74bb3385e3470'), 'id': 'MX17004', 'year': '2010', 'month': '2', 'element': 'tmax', 'd1': 'NA', 'd2': '27.3', 'd3': '24.1', 'd4': 'NA', 'd5': 'NA', 'd6': 'NA', 'd7': 'NA', 'd8': 'NA', 'd9': 'NA', 'd10': 'NA', 'd11': '29.7', 'd12': 'NA', 'd13': 'NA', 'd14': 'NA', 'd15': 'NA', 'd16': 'NA', 'd17': 'NA', 'd18': 'NA', 'd19': 'NA', 'd20': 'NA', 'd21': 'NA', 'd22': 'NA', 'd23': '29.9', 'd24': 'NA', 'd25': 'NA', 'd26': 'NA', 'd27': 'NA', 'd28': 'NA', 'd29': 'NA', 'd30': 'NA', 'd31': 'NA'}\n",
      "{'_id': ObjectId('62a7e019d6d74bb3385e3471'), 'id': 'MX17004', 'year': '2010', 'month': '2', 'element': 'tmin', 'd1': 'NA', 'd2': '14.4', 'd3': '14.4', 'd4': 'NA', 'd5': 'NA', 'd6': 'NA', 'd7': 'NA', 'd8': 'NA', 'd9': 'NA', 'd10': 'NA', 'd11': '13.4', 'd12': 'NA', 'd13': 'NA', 'd14': 'NA', 'd15': 'NA', 'd16': 'NA', 'd17': 'NA', 'd18': 'NA', 'd19': 'NA', 'd20': 'NA', 'd21': 'NA', 'd22': 'NA', 'd23': '10.7', 'd24': 'NA', 'd25': 'NA', 'd26': 'NA', 'd27': 'NA', 'd28': 'NA', 'd29': 'NA', 'd30': 'NA', 'd31': 'NA'}\n",
      "{'_id': ObjectId('62a7e019d6d74bb3385e3472'), 'id': 'MX17004', 'year': '2010', 'month': '3', 'element': 'tmax', 'd1': 'NA', 'd2': 'NA', 'd3': 'NA', 'd4': 'NA', 'd5': '32.1', 'd6': 'NA', 'd7': 'NA', 'd8': 'NA', 'd9': 'NA', 'd10': '34.5', 'd11': 'NA', 'd12': 'NA', 'd13': 'NA', 'd14': 'NA', 'd15': 'NA', 'd16': '31.1', 'd17': 'NA', 'd18': 'NA', 'd19': 'NA', 'd20': 'NA', 'd21': 'NA', 'd22': 'NA', 'd23': 'NA', 'd24': 'NA', 'd25': 'NA', 'd26': 'NA', 'd27': 'NA', 'd28': 'NA', 'd29': 'NA', 'd30': 'NA', 'd31': 'NA'}\n",
      "{'_id': ObjectId('62a7e019d6d74bb3385e3473'), 'id': 'MX17004', 'year': '2010', 'month': '3', 'element': 'tmin', 'd1': 'NA', 'd2': 'NA', 'd3': 'NA', 'd4': 'NA', 'd5': '14.2', 'd6': 'NA', 'd7': 'NA', 'd8': 'NA', 'd9': 'NA', 'd10': '16.8', 'd11': 'NA', 'd12': 'NA', 'd13': 'NA', 'd14': 'NA', 'd15': 'NA', 'd16': '17.6', 'd17': 'NA', 'd18': 'NA', 'd19': 'NA', 'd20': 'NA', 'd21': 'NA', 'd22': 'NA', 'd23': 'NA', 'd24': 'NA', 'd25': 'NA', 'd26': 'NA', 'd27': 'NA', 'd28': 'NA', 'd29': 'NA', 'd30': 'NA', 'd31': 'NA'}\n",
      "{'_id': ObjectId('62a7e019d6d74bb3385e3474'), 'id': 'MX17004', 'year': '2010', 'month': '4', 'element': 'tmax', 'd1': 'NA', 'd2': 'NA', 'd3': 'NA', 'd4': 'NA', 'd5': 'NA', 'd6': 'NA', 'd7': 'NA', 'd8': 'NA', 'd9': 'NA', 'd10': 'NA', 'd11': 'NA', 'd12': 'NA', 'd13': 'NA', 'd14': 'NA', 'd15': 'NA', 'd16': 'NA', 'd17': 'NA', 'd18': 'NA', 'd19': 'NA', 'd20': 'NA', 'd21': 'NA', 'd22': 'NA', 'd23': 'NA', 'd24': 'NA', 'd25': 'NA', 'd26': 'NA', 'd27': '36.3', 'd28': 'NA', 'd29': 'NA', 'd30': 'NA', 'd31': 'NA'}\n",
      "{'_id': ObjectId('62a7e019d6d74bb3385e3475'), 'id': 'MX17004', 'year': '2010', 'month': '4', 'element': 'tmin', 'd1': 'NA', 'd2': 'NA', 'd3': 'NA', 'd4': 'NA', 'd5': 'NA', 'd6': 'NA', 'd7': 'NA', 'd8': 'NA', 'd9': 'NA', 'd10': 'NA', 'd11': 'NA', 'd12': 'NA', 'd13': 'NA', 'd14': 'NA', 'd15': 'NA', 'd16': 'NA', 'd17': 'NA', 'd18': 'NA', 'd19': 'NA', 'd20': 'NA', 'd21': 'NA', 'd22': 'NA', 'd23': 'NA', 'd24': 'NA', 'd25': 'NA', 'd26': 'NA', 'd27': '16.7', 'd28': 'NA', 'd29': 'NA', 'd30': 'NA', 'd31': 'NA'}\n",
      "{'_id': ObjectId('62a7e019d6d74bb3385e3476'), 'id': 'MX17004', 'year': '2010', 'month': '5', 'element': 'tmax', 'd1': 'NA', 'd2': 'NA', 'd3': 'NA', 'd4': 'NA', 'd5': 'NA', 'd6': 'NA', 'd7': 'NA', 'd8': 'NA', 'd9': 'NA', 'd10': 'NA', 'd11': 'NA', 'd12': 'NA', 'd13': 'NA', 'd14': 'NA', 'd15': 'NA', 'd16': 'NA', 'd17': 'NA', 'd18': 'NA', 'd19': 'NA', 'd20': 'NA', 'd21': 'NA', 'd22': 'NA', 'd23': 'NA', 'd24': 'NA', 'd25': 'NA', 'd26': 'NA', 'd27': '33.2', 'd28': 'NA', 'd29': 'NA', 'd30': 'NA', 'd31': 'NA'}\n",
      "{'_id': ObjectId('62a7e019d6d74bb3385e3477'), 'id': 'MX17004', 'year': '2010', 'month': '5', 'element': 'tmin', 'd1': 'NA', 'd2': 'NA', 'd3': 'NA', 'd4': 'NA', 'd5': 'NA', 'd6': 'NA', 'd7': 'NA', 'd8': 'NA', 'd9': 'NA', 'd10': 'NA', 'd11': 'NA', 'd12': 'NA', 'd13': 'NA', 'd14': 'NA', 'd15': 'NA', 'd16': 'NA', 'd17': 'NA', 'd18': 'NA', 'd19': 'NA', 'd20': 'NA', 'd21': 'NA', 'd22': 'NA', 'd23': 'NA', 'd24': 'NA', 'd25': 'NA', 'd26': 'NA', 'd27': '18.2', 'd28': 'NA', 'd29': 'NA', 'd30': 'NA', 'd31': 'NA'}\n",
      "{'_id': ObjectId('62a7e019d6d74bb3385e3478'), 'id': 'MX17004', 'year': '2010', 'month': '6', 'element': 'tmax', 'd1': 'NA', 'd2': 'NA', 'd3': 'NA', 'd4': 'NA', 'd5': 'NA', 'd6': 'NA', 'd7': 'NA', 'd8': 'NA', 'd9': 'NA', 'd10': 'NA', 'd11': 'NA', 'd12': 'NA', 'd13': 'NA', 'd14': 'NA', 'd15': 'NA', 'd16': 'NA', 'd17': '28', 'd18': 'NA', 'd19': 'NA', 'd20': 'NA', 'd21': 'NA', 'd22': 'NA', 'd23': 'NA', 'd24': 'NA', 'd25': 'NA', 'd26': 'NA', 'd27': 'NA', 'd28': 'NA', 'd29': '30.1', 'd30': 'NA', 'd31': 'NA'}\n",
      "{'_id': ObjectId('62a7e019d6d74bb3385e3479'), 'id': 'MX17004', 'year': '2010', 'month': '6', 'element': 'tmin', 'd1': 'NA', 'd2': 'NA', 'd3': 'NA', 'd4': 'NA', 'd5': 'NA', 'd6': 'NA', 'd7': 'NA', 'd8': 'NA', 'd9': 'NA', 'd10': 'NA', 'd11': 'NA', 'd12': 'NA', 'd13': 'NA', 'd14': 'NA', 'd15': 'NA', 'd16': 'NA', 'd17': '17.5', 'd18': 'NA', 'd19': 'NA', 'd20': 'NA', 'd21': 'NA', 'd22': 'NA', 'd23': 'NA', 'd24': 'NA', 'd25': 'NA', 'd26': 'NA', 'd27': 'NA', 'd28': 'NA', 'd29': '18', 'd30': 'NA', 'd31': 'NA'}\n",
      "{'_id': ObjectId('62a7e019d6d74bb3385e347a'), 'id': 'MX17004', 'year': '2010', 'month': '7', 'element': 'tmax', 'd1': 'NA', 'd2': 'NA', 'd3': '28.6', 'd4': 'NA', 'd5': 'NA', 'd6': 'NA', 'd7': 'NA', 'd8': 'NA', 'd9': 'NA', 'd10': 'NA', 'd11': 'NA', 'd12': 'NA', 'd13': 'NA', 'd14': '29.9', 'd15': 'NA', 'd16': 'NA', 'd17': 'NA', 'd18': 'NA', 'd19': 'NA', 'd20': 'NA', 'd21': 'NA', 'd22': 'NA', 'd23': 'NA', 'd24': 'NA', 'd25': 'NA', 'd26': 'NA', 'd27': 'NA', 'd28': 'NA', 'd29': 'NA', 'd30': 'NA', 'd31': 'NA'}\n",
      "{'_id': ObjectId('62a7e019d6d74bb3385e347b'), 'id': 'MX17004', 'year': '2010', 'month': '7', 'element': 'tmin', 'd1': 'NA', 'd2': 'NA', 'd3': '17.5', 'd4': 'NA', 'd5': 'NA', 'd6': 'NA', 'd7': 'NA', 'd8': 'NA', 'd9': 'NA', 'd10': 'NA', 'd11': 'NA', 'd12': 'NA', 'd13': 'NA', 'd14': '16.5', 'd15': 'NA', 'd16': 'NA', 'd17': 'NA', 'd18': 'NA', 'd19': 'NA', 'd20': 'NA', 'd21': 'NA', 'd22': 'NA', 'd23': 'NA', 'd24': 'NA', 'd25': 'NA', 'd26': 'NA', 'd27': 'NA', 'd28': 'NA', 'd29': 'NA', 'd30': 'NA', 'd31': 'NA'}\n",
      "{'_id': ObjectId('62a7e019d6d74bb3385e347c'), 'id': 'MX17004', 'year': '2010', 'month': '8', 'element': 'tmax', 'd1': 'NA', 'd2': 'NA', 'd3': 'NA', 'd4': 'NA', 'd5': '29.6', 'd6': 'NA', 'd7': 'NA', 'd8': '29', 'd9': 'NA', 'd10': 'NA', 'd11': 'NA', 'd12': 'NA', 'd13': '29.8', 'd14': 'NA', 'd15': 'NA', 'd16': 'NA', 'd17': 'NA', 'd18': 'NA', 'd19': 'NA', 'd20': 'NA', 'd21': 'NA', 'd22': 'NA', 'd23': '26.4', 'd24': 'NA', 'd25': '29.7', 'd26': 'NA', 'd27': 'NA', 'd28': 'NA', 'd29': '28', 'd30': 'NA', 'd31': '25.4'}\n",
      "{'_id': ObjectId('62a7e019d6d74bb3385e347d'), 'id': 'MX17004', 'year': '2010', 'month': '8', 'element': 'tmin', 'd1': 'NA', 'd2': 'NA', 'd3': 'NA', 'd4': 'NA', 'd5': '15.8', 'd6': 'NA', 'd7': 'NA', 'd8': '17.3', 'd9': 'NA', 'd10': 'NA', 'd11': 'NA', 'd12': 'NA', 'd13': '16.5', 'd14': 'NA', 'd15': 'NA', 'd16': 'NA', 'd17': 'NA', 'd18': 'NA', 'd19': 'NA', 'd20': 'NA', 'd21': 'NA', 'd22': 'NA', 'd23': '15', 'd24': 'NA', 'd25': '15.6', 'd26': 'NA', 'd27': 'NA', 'd28': 'NA', 'd29': '15.3', 'd30': 'NA', 'd31': '15.4'}\n",
      "{'_id': ObjectId('62a7e019d6d74bb3385e347e'), 'id': 'MX17004', 'year': '2010', 'month': '10', 'element': 'tmax', 'd1': 'NA', 'd2': 'NA', 'd3': 'NA', 'd4': 'NA', 'd5': '27', 'd6': 'NA', 'd7': '28.1', 'd8': 'NA', 'd9': 'NA', 'd10': 'NA', 'd11': 'NA', 'd12': 'NA', 'd13': 'NA', 'd14': '29.5', 'd15': '28.7', 'd16': 'NA', 'd17': 'NA', 'd18': 'NA', 'd19': 'NA', 'd20': 'NA', 'd21': 'NA', 'd22': 'NA', 'd23': 'NA', 'd24': 'NA', 'd25': 'NA', 'd26': 'NA', 'd27': 'NA', 'd28': '31.2', 'd29': 'NA', 'd30': 'NA', 'd31': 'NA'}\n",
      "{'_id': ObjectId('62a7e019d6d74bb3385e347f'), 'id': 'MX17004', 'year': '2010', 'month': '10', 'element': 'tmin', 'd1': 'NA', 'd2': 'NA', 'd3': 'NA', 'd4': 'NA', 'd5': '14', 'd6': 'NA', 'd7': '12.9', 'd8': 'NA', 'd9': 'NA', 'd10': 'NA', 'd11': 'NA', 'd12': 'NA', 'd13': 'NA', 'd14': '13', 'd15': '10.5', 'd16': 'NA', 'd17': 'NA', 'd18': 'NA', 'd19': 'NA', 'd20': 'NA', 'd21': 'NA', 'd22': 'NA', 'd23': 'NA', 'd24': 'NA', 'd25': 'NA', 'd26': 'NA', 'd27': 'NA', 'd28': '15', 'd29': 'NA', 'd30': 'NA', 'd31': 'NA'}\n",
      "{'_id': ObjectId('62a7e019d6d74bb3385e3480'), 'id': 'MX17004', 'year': '2010', 'month': '11', 'element': 'tmax', 'd1': 'NA', 'd2': '31.3', 'd3': 'NA', 'd4': '27.2', 'd5': '26.3', 'd6': 'NA', 'd7': 'NA', 'd8': 'NA', 'd9': 'NA', 'd10': 'NA', 'd11': 'NA', 'd12': 'NA', 'd13': 'NA', 'd14': 'NA', 'd15': 'NA', 'd16': 'NA', 'd17': 'NA', 'd18': 'NA', 'd19': 'NA', 'd20': 'NA', 'd21': 'NA', 'd22': 'NA', 'd23': 'NA', 'd24': 'NA', 'd25': 'NA', 'd26': '28.1', 'd27': '27.7', 'd28': 'NA', 'd29': 'NA', 'd30': 'NA', 'd31': 'NA'}\n",
      "{'_id': ObjectId('62a7e019d6d74bb3385e3481'), 'id': 'MX17004', 'year': '2010', 'month': '11', 'element': 'tmin', 'd1': 'NA', 'd2': '16.3', 'd3': 'NA', 'd4': '12', 'd5': '7.9', 'd6': 'NA', 'd7': 'NA', 'd8': 'NA', 'd9': 'NA', 'd10': 'NA', 'd11': 'NA', 'd12': 'NA', 'd13': 'NA', 'd14': 'NA', 'd15': 'NA', 'd16': 'NA', 'd17': 'NA', 'd18': 'NA', 'd19': 'NA', 'd20': 'NA', 'd21': 'NA', 'd22': 'NA', 'd23': 'NA', 'd24': 'NA', 'd25': 'NA', 'd26': '12.1', 'd27': '14.2', 'd28': 'NA', 'd29': 'NA', 'd30': 'NA', 'd31': 'NA'}\n",
      "{'_id': ObjectId('62a7e019d6d74bb3385e3482'), 'id': 'MX17004', 'year': '2010', 'month': '12', 'element': 'tmax', 'd1': '29.9', 'd2': 'NA', 'd3': 'NA', 'd4': 'NA', 'd5': 'NA', 'd6': '27.8', 'd7': 'NA', 'd8': 'NA', 'd9': 'NA', 'd10': 'NA', 'd11': 'NA', 'd12': 'NA', 'd13': 'NA', 'd14': 'NA', 'd15': 'NA', 'd16': 'NA', 'd17': 'NA', 'd18': 'NA', 'd19': 'NA', 'd20': 'NA', 'd21': 'NA', 'd22': 'NA', 'd23': 'NA', 'd24': 'NA', 'd25': 'NA', 'd26': 'NA', 'd27': 'NA', 'd28': 'NA', 'd29': 'NA', 'd30': 'NA', 'd31': 'NA'}\n",
      "{'_id': ObjectId('62a7e019d6d74bb3385e3483'), 'id': 'MX17004', 'year': '2010', 'month': '12', 'element': 'tmin', 'd1': '13.8', 'd2': 'NA', 'd3': 'NA', 'd4': 'NA', 'd5': 'NA', 'd6': '10.5', 'd7': 'NA', 'd8': 'NA', 'd9': 'NA', 'd10': 'NA', 'd11': 'NA', 'd12': 'NA', 'd13': 'NA', 'd14': 'NA', 'd15': 'NA', 'd16': 'NA', 'd17': 'NA', 'd18': 'NA', 'd19': 'NA', 'd20': 'NA', 'd21': 'NA', 'd22': 'NA', 'd23': 'NA', 'd24': 'NA', 'd25': 'NA', 'd26': 'NA', 'd27': 'NA', 'd28': 'NA', 'd29': 'NA', 'd30': 'NA', 'd31': 'NA'}\n",
      "{'_id': ObjectId('62a7eadbd79d955ca2885faa'), 'name': 'kim', 'age': 20}\n",
      "{'_id': ObjectId('62a7eb31d79d955ca2885fab'), 'name': 'park', 'age': 50, 'addr': 'seoul'}\n",
      "{'_id': ObjectId('62a7ebb3d79d955ca2885fac'), 'name': 'jung', 'age': 10}\n",
      "{'_id': ObjectId('62a7ebb3d79d955ca2885fad'), 'name': 'choi', 'age': 30, 'addr': 'jeju'}\n"
     ]
    }
   ],
   "source": [
    "for doc in docs:\n",
    "    print(doc)"
   ]
  },
  {
   "cell_type": "code",
   "execution_count": 30,
   "id": "c0b64809",
   "metadata": {},
   "outputs": [
    {
     "data": {
      "text/plain": [
       "<pymongo.cursor.Cursor at 0x1c1b7885048>"
      ]
     },
     "execution_count": 30,
     "metadata": {},
     "output_type": "execute_result"
    }
   ],
   "source": [
    "docs=member.find({\"age\":50})\n",
    "docs"
   ]
  },
  {
   "cell_type": "code",
   "execution_count": 31,
   "id": "4d28fa79",
   "metadata": {},
   "outputs": [
    {
     "name": "stdout",
     "output_type": "stream",
     "text": [
      "{'_id': ObjectId('62a7eb31d79d955ca2885fab'), 'name': 'park', 'age': 50, 'addr': 'seoul'}\n"
     ]
    }
   ],
   "source": [
    "for doc in docs:\n",
    "    print(doc)"
   ]
  },
  {
   "cell_type": "code",
   "execution_count": 22,
   "id": "e01bdf11",
   "metadata": {},
   "outputs": [],
   "source": [
    "# update documents"
   ]
  },
  {
   "cell_type": "code",
   "execution_count": 32,
   "id": "06ddfba0",
   "metadata": {},
   "outputs": [
    {
     "data": {
      "text/plain": [
       "<pymongo.results.UpdateResult at 0x1c1b78851c8>"
      ]
     },
     "execution_count": 32,
     "metadata": {},
     "output_type": "execute_result"
    }
   ],
   "source": [
    "member.update_one( # 첫번째로 나온 row 1개만 업데이트\n",
    "    {\"age\":50}, # 조건 dict\n",
    "    {\"$set\": {\"name\":\"park2\"}} # update할 내용 dict\n",
    ")"
   ]
  },
  {
   "cell_type": "code",
   "execution_count": 33,
   "id": "67b64fab",
   "metadata": {},
   "outputs": [
    {
     "name": "stdout",
     "output_type": "stream",
     "text": [
      "{'_id': ObjectId('62a7eb31d79d955ca2885fab'), 'name': 'park2', 'age': 50, 'addr': 'seoul'}\n"
     ]
    }
   ],
   "source": [
    "docs=member.find({\"age\":50})\n",
    "for doc in docs:\n",
    "    print(doc)"
   ]
  },
  {
   "cell_type": "code",
   "execution_count": 37,
   "id": "23cba432",
   "metadata": {},
   "outputs": [
    {
     "data": {
      "text/plain": [
       "<pymongo.results.UpdateResult at 0x1c1b7f29408>"
      ]
     },
     "execution_count": 37,
     "metadata": {},
     "output_type": "execute_result"
    }
   ],
   "source": [
    "member.update_many( # 나온 row 전체 업데이트\n",
    "    {\"age\":50}, # 조건 dict\n",
    "    {\"$set\": {\"name\":\"park3\"}} # update할 내용 dict\n",
    ")"
   ]
  },
  {
   "cell_type": "code",
   "execution_count": 38,
   "id": "21935cca",
   "metadata": {},
   "outputs": [
    {
     "name": "stdout",
     "output_type": "stream",
     "text": [
      "{'_id': ObjectId('62a7eb31d79d955ca2885fab'), 'name': 'park3', 'age': 50, 'addr': 'seoul'}\n"
     ]
    }
   ],
   "source": [
    "docs=member.find({\"age\":50})\n",
    "for doc in docs:\n",
    "    print(doc)"
   ]
  },
  {
   "cell_type": "code",
   "execution_count": 39,
   "id": "78adbb99",
   "metadata": {},
   "outputs": [],
   "source": [
    "# delete documents"
   ]
  },
  {
   "cell_type": "code",
   "execution_count": 40,
   "id": "c809e228",
   "metadata": {},
   "outputs": [
    {
     "data": {
      "text/plain": [
       "<pymongo.results.DeleteResult at 0x1c1b78387c8>"
      ]
     },
     "execution_count": 40,
     "metadata": {},
     "output_type": "execute_result"
    }
   ],
   "source": [
    "member.delete_one({\"age\":20})"
   ]
  },
  {
   "cell_type": "code",
   "execution_count": 41,
   "id": "954b6b94",
   "metadata": {},
   "outputs": [
    {
     "data": {
      "text/plain": [
       "0"
      ]
     },
     "execution_count": 41,
     "metadata": {},
     "output_type": "execute_result"
    }
   ],
   "source": [
    "member.count_documents({\"age\":20})"
   ]
  },
  {
   "cell_type": "code",
   "execution_count": 42,
   "id": "ba23bbfa",
   "metadata": {},
   "outputs": [
    {
     "data": {
      "text/plain": [
       "<pymongo.results.DeleteResult at 0x1c1b8112ac8>"
      ]
     },
     "execution_count": 42,
     "metadata": {},
     "output_type": "execute_result"
    }
   ],
   "source": [
    "member.delete_many({\"age\":30})"
   ]
  },
  {
   "cell_type": "code",
   "execution_count": 43,
   "id": "1be41f0d",
   "metadata": {},
   "outputs": [
    {
     "data": {
      "text/plain": [
       "0"
      ]
     },
     "execution_count": 43,
     "metadata": {},
     "output_type": "execute_result"
    }
   ],
   "source": [
    "member.count_documents({\"age\":30})"
   ]
  },
  {
   "cell_type": "code",
   "execution_count": 44,
   "id": "5d6471fb",
   "metadata": {},
   "outputs": [
    {
     "data": {
      "text/plain": [
       "<pymongo.results.DeleteResult at 0x1c1b7a41cc8>"
      ]
     },
     "execution_count": 44,
     "metadata": {},
     "output_type": "execute_result"
    }
   ],
   "source": [
    "member.delete_many({}) # 모든 instance(documents) 삭제!"
   ]
  },
  {
   "cell_type": "code",
   "execution_count": 45,
   "id": "6c656fd0",
   "metadata": {},
   "outputs": [
    {
     "data": {
      "text/plain": [
       "0"
      ]
     },
     "execution_count": 45,
     "metadata": {},
     "output_type": "execute_result"
    }
   ],
   "source": [
    "member.count_documents({})"
   ]
  }
 ],
 "metadata": {
  "kernelspec": {
   "display_name": "Python 3 (ipykernel)",
   "language": "python",
   "name": "python3"
  },
  "language_info": {
   "codemirror_mode": {
    "name": "ipython",
    "version": 3
   },
   "file_extension": ".py",
   "mimetype": "text/x-python",
   "name": "python",
   "nbconvert_exporter": "python",
   "pygments_lexer": "ipython3",
   "version": "3.7.4"
  }
 },
 "nbformat": 4,
 "nbformat_minor": 5
}
