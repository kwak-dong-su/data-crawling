{
 "cells": [
  {
   "cell_type": "code",
   "execution_count": 2,
   "metadata": {},
   "outputs": [],
   "source": [
    "# 주요 라이브러리 import\n",
    "# 동적크롤링-수업중-인스타 로그인\n",
    "import warnings\n",
    "warnings.filterwarnings(action='ignore')\n",
    "from selenium.webdriver.common.by import By\n",
    "from selenium.webdriver.support.ui import WebDriverWait \n",
    "from selenium.webdriver.support import expected_conditions as EC\n",
    "#step1.selenium 패키지와 time 모듈 import\n",
    "from selenium import webdriver\n",
    "from selenium.webdriver.common.keys import Keys\n",
    "import time\n",
    "from IPython.display import Image\n",
    "import pandas as pd\n",
    "from bs4 import BeautifulSoup as bs\n",
    "from urllib.request import urlretrieve"
   ]
  },
  {
   "cell_type": "code",
   "execution_count": 41,
   "metadata": {},
   "outputs": [],
   "source": [
    "# 크롬 브라우저 실행\n",
    "driver=webdriver.Chrome('C:/Users/hi/hi-AI/chromedriver')\n",
    "# 특정한 페이지 접속\n",
    "url='https://www.instagram.com/accounts/login/'\n",
    "driver.get(url)\n",
    "time.sleep(3)"
   ]
  },
  {
   "cell_type": "code",
   "execution_count": 17,
   "metadata": {},
   "outputs": [],
   "source": [
    "## => #loginForm > div > div:nth-child(1) > div > label > input\n",
    "email_box=driver.find_element_by_css_selector('#loginForm > div > div:nth-child(1) > div > label > input')\n",
    "email_box.send_keys('inputID')"
   ]
  },
  {
   "cell_type": "code",
   "execution_count": 18,
   "metadata": {},
   "outputs": [],
   "source": [
    "## => #loginForm > div > div:nth-child(2) > div > label > input\n",
    "pw_box=driver.find_element_by_css_selector('#loginForm > div > div:nth-child(2) > div > label > input')\n",
    "pw_box.send_keys('inputPW')"
   ]
  },
  {
   "cell_type": "code",
   "execution_count": null,
   "metadata": {},
   "outputs": [],
   "source": [
    "submit_btn=driver.find_element_by_css_selector('#loginForm > div > div:nth-child(3) > button')\n",
    "submit_btn.send_keys(Keys.RETURN)\n",
    "time.sleep(2)"
   ]
  },
  {
   "cell_type": "code",
   "execution_count": null,
   "metadata": {},
   "outputs": [],
   "source": [
    "# 로그인 후 정보 저장 버튼\n",
    "## => #save selector\n",
    "save_btn=driver.find_element_by_css_selector('#save selector')\n",
    "save_btn.send_keys(Keys.RETURN)\n",
    "time.sleep(2)"
   ]
  },
  {
   "cell_type": "code",
   "execution_count": null,
   "metadata": {},
   "outputs": [],
   "source": [
    "# 정보 저장 후 나중에하기 버튼\n",
    "## => #later selector after saved\n",
    "after_btn=driver.find_element_by_css_selector('#later selector after saved ')\n",
    "after_btn.click()\n",
    "time.sleep(2)"
   ]
  },
  {
   "cell_type": "code",
   "execution_count": 42,
   "metadata": {},
   "outputs": [],
   "source": [
    "# 더보기 버튼으로 확장\n",
    "detail_btn=driver.find_element_by_css_selector('#react-root > section > main > section > div > div.qF0y9.Igw0E.IwRSH.eGOV_._4EzTm > div:nth-child(2) > div > article._8Rm4L.bLWKA.M9sTE._1gNme.L_LMM.SgTZ1.Tgarh.ePUX4 > div > div.qF0y9.Igw0E.IwRSH.eGOV_._4EzTm > div > div > div.EtaWk > div > div:nth-child(1) > div > span:nth-child(3) > span:nth-child(2) > div')\n",
    "detail_btn.click()\n",
    "time.sleep(2)"
   ]
  },
  {
   "cell_type": "code",
   "execution_count": 55,
   "metadata": {},
   "outputs": [],
   "source": [
    "#댓글 모두 보기 버튼으로 확장\n",
    "all_btn=driver.find_element_by_css_selector('#react-root > section > main > section > div > div.qF0y9.Igw0E.IwRSH.eGOV_._4EzTm > div:nth-child(n) > div > article._8Rm4L.bLWKA.M9sTE._1gNme.L_LMM.SgTZ1.Tgarh.ePUX4 > div > div.qF0y9.Igw0E.IwRSH.eGOV_._4EzTm > div > div > div.EtaWk > div > div:nth-child(2)')\n",
    "all_btn.click()\n",
    "time.sleep(2)"
   ]
  },
  {
   "cell_type": "code",
   "execution_count": 48,
   "metadata": {},
   "outputs": [
    {
     "data": {
      "text/plain": [
       "['1,763,341',\n",
       " '4,956,181',\n",
       " '610,113',\n",
       " '394,361',\n",
       " '231,485',\n",
       " '285,060',\n",
       " '1,813,500']"
      ]
     },
     "execution_count": 48,
     "metadata": {},
     "output_type": "execute_result"
    }
   ],
   "source": [
    "# 각 사진에 대한 좋아요 수\n",
    "liked=driver.find_elements_by_css_selector('#react-root > section > main > section > div > div.qF0y9.Igw0E.IwRSH.eGOV_._4EzTm > div:nth-child(2) > div > article:nth-child(n) > div > div.qF0y9.Igw0E.IwRSH.eGOV_._4EzTm > div > div > section.EDfFK.ygqzn > div > div > div > a > div > span')\n",
    "liked_list=[]\n",
    "for one in liked:\n",
    "    liked_list.append(one.text)\n",
    "liked_list"
   ]
  },
  {
   "cell_type": "code",
   "execution_count": null,
   "metadata": {},
   "outputs": [],
   "source": []
  }
 ],
 "metadata": {
  "kernelspec": {
   "display_name": "Python 3",
   "language": "python",
   "name": "python3"
  },
  "language_info": {
   "codemirror_mode": {
    "name": "ipython",
    "version": 3
   },
   "file_extension": ".py",
   "mimetype": "text/x-python",
   "name": "python",
   "nbconvert_exporter": "python",
   "pygments_lexer": "ipython3",
   "version": "3.7.4"
  }
 },
 "nbformat": 4,
 "nbformat_minor": 2
}
