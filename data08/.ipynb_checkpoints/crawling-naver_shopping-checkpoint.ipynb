{
 "cells": [
  {
   "cell_type": "code",
   "execution_count": null,
   "metadata": {},
   "outputs": [],
   "source": [
    "# 네이버 쇼핑 검색창 -> 마스크 -> 가격비교 탭 -> 열큰이용 마스크 -> 제목, 최저가 등 5개이상 -> 데이터프레임으로 만들고, 이미지 다운로드\n",
    "# 이미지 이름도 데이터프레임에 넣어주기"
   ]
  }
 ],
 "metadata": {
  "kernelspec": {
   "display_name": "Python 3",
   "language": "python",
   "name": "python3"
  },
  "language_info": {
   "codemirror_mode": {
    "name": "ipython",
    "version": 3
   },
   "file_extension": ".py",
   "mimetype": "text/x-python",
   "name": "python",
   "nbconvert_exporter": "python",
   "pygments_lexer": "ipython3",
   "version": "3.7.4"
  }
 },
 "nbformat": 4,
 "nbformat_minor": 2
}
