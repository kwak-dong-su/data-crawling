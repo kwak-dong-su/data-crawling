{
 "cells": [
  {
   "cell_type": "code",
   "execution_count": 113,
   "metadata": {},
   "outputs": [],
   "source": [
    "from urllib import request"
   ]
  },
  {
   "cell_type": "code",
   "execution_count": 114,
   "metadata": {},
   "outputs": [],
   "source": [
    "from bs4 import BeautifulSoup"
   ]
  },
  {
   "cell_type": "code",
   "execution_count": 115,
   "metadata": {},
   "outputs": [],
   "source": [
    "import pandas as pd"
   ]
  },
  {
   "cell_type": "code",
   "execution_count": 116,
   "metadata": {
    "scrolled": true
   },
   "outputs": [],
   "source": [
    "name_list=[]\n",
    "rank_list=[]\n",
    "level_list=[]\n",
    "win_list=[]\n",
    "# 컬럼은 name, rank, level, win 4가지, 이에 해당하는 list를 선언"
   ]
  },
  {
   "cell_type": "code",
   "execution_count": 117,
   "metadata": {},
   "outputs": [],
   "source": [
    "for i in range(1, 11):\n",
    "    con=request.urlopen('https://www.op.gg/leaderboards/tier?page='+str(i)+'&region=kr') # 1~10페이지 까지의 url을 요청\n",
    "    doc = BeautifulSoup(con, 'html.parser')\n",
    "    if i==1:\n",
    "        name_list+=doc.select('.name') # 1페이지의 1~5위 유저는 name이라는 클래스명의 태그를 사용하므로, 이를 찾아 list에 삽입\n",
    "    name_list+=doc.select('strong') # 그 외의 유저는 strong태그를 사용하므로, 이를 찾아 list에 삽입\n",
    "    name_list.pop() #페이지마다 맨 마지막에 사용되는 strong태그에는 유저 정보가 아닌 다른 내용이 있으므로, 이를 pop()하여 제거 \n",
    "    rank_list+=doc.select('.rank')\n",
    "    level_list+=doc.select('.level')\n",
    "    win_list+=doc.select('.w')\n",
    "# op.gg 사이트의 1~10페이지까지 플레이어 랭킹 정보를 크롤링하여 list에 저장"
   ]
  },
  {
   "cell_type": "code",
   "execution_count": 118,
   "metadata": {},
   "outputs": [
    {
     "data": {
      "text/plain": [
       "(1000, 1000, 1000, 1000)"
      ]
     },
     "execution_count": 118,
     "metadata": {},
     "output_type": "execute_result"
    }
   ],
   "source": [
    "len(name_list), len(rank_list), len(level_list), len(win_list) #데이터의 row는 1000개"
   ]
  },
  {
   "cell_type": "code",
   "execution_count": 119,
   "metadata": {},
   "outputs": [],
   "source": [
    "name_text=[]\n",
    "for one in name_list:\n",
    "    name_text.append(one.text)\n",
    "\n",
    "rank_text=[]\n",
    "for one in rank_list:\n",
    "    rank_text.append(one.text)\n",
    "\n",
    "level_text=[]\n",
    "for one in level_list:\n",
    "    level_text.append(one.text)\n",
    "    \n",
    "win_text=[]\n",
    "for one in win_list:\n",
    "    win_text.append(one.text) \n",
    "# 크롤링한 데이터의 text만 추출하여 list에 저장\n",
    "    \n",
    "for i in range(1, 5):\n",
    "    temp=level_text[i].split('.')\n",
    "    level_text[i]=temp[1]\n",
    "# 랭킹 2~5위 유저의 레벨은 Lv. 접두어가 포함되므로, 이를 통일시키기 위해 Lv.을 제거하고 넣어주는 전처리가 필요\n",
    "    "
   ]
  },
  {
   "cell_type": "code",
   "execution_count": 120,
   "metadata": {},
   "outputs": [],
   "source": [
    "lol_player_file=open('lol_player.csv', 'w', encoding = 'utf8')"
   ]
  },
  {
   "cell_type": "code",
   "execution_count": 121,
   "metadata": {
    "scrolled": true
   },
   "outputs": [
    {
     "data": {
      "text/plain": [
       "20"
      ]
     },
     "execution_count": 121,
     "metadata": {},
     "output_type": "execute_result"
    }
   ],
   "source": [
    "lol_player_file.write('rank,name,level,win\\n')"
   ]
  },
  {
   "cell_type": "code",
   "execution_count": 122,
   "metadata": {},
   "outputs": [],
   "source": [
    "for i in range(1000):\n",
    "    lol_player_file.write(rank_text[i] + ',' +\n",
    "                         name_text[i] + ',' +\n",
    "                         level_text[i]+ ',' +\n",
    "                         win_text[i] + '\\n')"
   ]
  },
  {
   "cell_type": "code",
   "execution_count": 123,
   "metadata": {},
   "outputs": [
    {
     "data": {
      "text/html": [
       "<div>\n",
       "<style scoped>\n",
       "    .dataframe tbody tr th:only-of-type {\n",
       "        vertical-align: middle;\n",
       "    }\n",
       "\n",
       "    .dataframe tbody tr th {\n",
       "        vertical-align: top;\n",
       "    }\n",
       "\n",
       "    .dataframe thead th {\n",
       "        text-align: right;\n",
       "    }\n",
       "</style>\n",
       "<table border=\"1\" class=\"dataframe\">\n",
       "  <thead>\n",
       "    <tr style=\"text-align: right;\">\n",
       "      <th></th>\n",
       "      <th>rank</th>\n",
       "      <th>name</th>\n",
       "      <th>level</th>\n",
       "      <th>win</th>\n",
       "    </tr>\n",
       "  </thead>\n",
       "  <tbody>\n",
       "    <tr>\n",
       "      <td>0</td>\n",
       "      <td>1</td>\n",
       "      <td>iiwandy</td>\n",
       "      <td>69</td>\n",
       "      <td>292</td>\n",
       "    </tr>\n",
       "    <tr>\n",
       "      <td>1</td>\n",
       "      <td>2</td>\n",
       "      <td>roookie</td>\n",
       "      <td>57</td>\n",
       "      <td>213</td>\n",
       "    </tr>\n",
       "    <tr>\n",
       "      <td>2</td>\n",
       "      <td>3</td>\n",
       "      <td>어상내하</td>\n",
       "      <td>48</td>\n",
       "      <td>129</td>\n",
       "    </tr>\n",
       "    <tr>\n",
       "      <td>3</td>\n",
       "      <td>4</td>\n",
       "      <td>nodfan</td>\n",
       "      <td>98</td>\n",
       "      <td>151</td>\n",
       "    </tr>\n",
       "    <tr>\n",
       "      <td>4</td>\n",
       "      <td>5</td>\n",
       "      <td>SwordArt77777</td>\n",
       "      <td>65</td>\n",
       "      <td>265</td>\n",
       "    </tr>\n",
       "    <tr>\n",
       "      <td>...</td>\n",
       "      <td>...</td>\n",
       "      <td>...</td>\n",
       "      <td>...</td>\n",
       "      <td>...</td>\n",
       "    </tr>\n",
       "    <tr>\n",
       "      <td>995</td>\n",
       "      <td>996</td>\n",
       "      <td>Ahriman LYH</td>\n",
       "      <td>92</td>\n",
       "      <td>92</td>\n",
       "    </tr>\n",
       "    <tr>\n",
       "      <td>996</td>\n",
       "      <td>997</td>\n",
       "      <td>Haojay</td>\n",
       "      <td>73</td>\n",
       "      <td>205</td>\n",
       "    </tr>\n",
       "    <tr>\n",
       "      <td>997</td>\n",
       "      <td>998</td>\n",
       "      <td>2020karsa</td>\n",
       "      <td>43</td>\n",
       "      <td>95</td>\n",
       "    </tr>\n",
       "    <tr>\n",
       "      <td>998</td>\n",
       "      <td>999</td>\n",
       "      <td>juiceqnq</td>\n",
       "      <td>53</td>\n",
       "      <td>131</td>\n",
       "    </tr>\n",
       "    <tr>\n",
       "      <td>999</td>\n",
       "      <td>1000</td>\n",
       "      <td>NS Haenam</td>\n",
       "      <td>373</td>\n",
       "      <td>603</td>\n",
       "    </tr>\n",
       "  </tbody>\n",
       "</table>\n",
       "<p>1000 rows × 4 columns</p>\n",
       "</div>"
      ],
      "text/plain": [
       "     rank           name  level  win\n",
       "0       1        iiwandy     69  292\n",
       "1       2        roookie     57  213\n",
       "2       3           어상내하     48  129\n",
       "3       4         nodfan     98  151\n",
       "4       5  SwordArt77777     65  265\n",
       "..    ...            ...    ...  ...\n",
       "995   996    Ahriman LYH     92   92\n",
       "996   997         Haojay     73  205\n",
       "997   998      2020karsa     43   95\n",
       "998   999       juiceqnq     53  131\n",
       "999  1000      NS Haenam    373  603\n",
       "\n",
       "[1000 rows x 4 columns]"
      ]
     },
     "execution_count": 123,
     "metadata": {},
     "output_type": "execute_result"
    }
   ],
   "source": [
    "lol_player_file=open('lol_player.csv', 'a', encoding = 'utf8')\n",
    "player= pd.read_csv('lol_player.csv')\n",
    "player"
   ]
  },
  {
   "cell_type": "code",
   "execution_count": 124,
   "metadata": {},
   "outputs": [],
   "source": [
    "lol_player_file.close()"
   ]
  }
 ],
 "metadata": {
  "kernelspec": {
   "display_name": "Python 3",
   "language": "python",
   "name": "python3"
  },
  "language_info": {
   "codemirror_mode": {
    "name": "ipython",
    "version": 3
   },
   "file_extension": ".py",
   "mimetype": "text/x-python",
   "name": "python",
   "nbconvert_exporter": "python",
   "pygments_lexer": "ipython3",
   "version": "3.7.4"
  }
 },
 "nbformat": 4,
 "nbformat_minor": 2
}
