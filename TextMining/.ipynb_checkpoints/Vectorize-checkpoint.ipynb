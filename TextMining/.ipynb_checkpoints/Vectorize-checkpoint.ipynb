{
 "cells": [
  {
   "cell_type": "code",
   "execution_count": 3,
   "metadata": {
    "scrolled": true
   },
   "outputs": [],
   "source": [
    "from sklearn.feature_extraction.text import TfidfVectorizer, CountVectorizer"
   ]
  },
  {
   "cell_type": "code",
   "execution_count": 4,
   "metadata": {},
   "outputs": [],
   "source": [
    "corpus = [\n",
    "    'you know I want your love',\n",
    "    'I like you',\n",
    "    'what should I do ',    \n",
    "]\n",
    "# 3개의 댓글"
   ]
  },
  {
   "cell_type": "code",
   "execution_count": 5,
   "metadata": {},
   "outputs": [],
   "source": [
    "cv=CountVectorizer()\n",
    "tfidf=TfidfVectorizer()"
   ]
  },
  {
   "cell_type": "code",
   "execution_count": 6,
   "metadata": {},
   "outputs": [
    {
     "name": "stdout",
     "output_type": "stream",
     "text": [
      "[[0 1 0 1 0 1 0 1 1]\n",
      " [0 0 1 0 0 0 0 1 0]\n",
      " [1 0 0 0 1 0 1 0 0]]\n"
     ]
    }
   ],
   "source": [
    "print(cv.fit_transform(corpus).toarray()) \n",
    "# DTM(Document Term Matrix) - 문서 단어 행렬"
   ]
  },
  {
   "cell_type": "code",
   "execution_count": 7,
   "metadata": {},
   "outputs": [
    {
     "name": "stdout",
     "output_type": "stream",
     "text": [
      "{'you': 7, 'know': 1, 'want': 5, 'your': 8, 'love': 3, 'like': 2, 'what': 6, 'should': 4, 'do': 0}\n"
     ]
    }
   ],
   "source": [
    "print(cv.vocabulary_) #사전의 인덱스와 이름을 확인 가능, 알파벳순 0~8"
   ]
  },
  {
   "cell_type": "code",
   "execution_count": 8,
   "metadata": {},
   "outputs": [
    {
     "name": "stdout",
     "output_type": "stream",
     "text": [
      "[[0.         0.46735098 0.         0.46735098 0.         0.46735098\n",
      "  0.         0.35543247 0.46735098]\n",
      " [0.         0.         0.79596054 0.         0.         0.\n",
      "  0.         0.60534851 0.        ]\n",
      " [0.57735027 0.         0.         0.         0.57735027 0.\n",
      "  0.57735027 0.         0.        ]]\n"
     ]
    }
   ],
   "source": [
    "print(tfidf.fit_transform(corpus).toarray()) # 로그값을 적용"
   ]
  },
  {
   "cell_type": "code",
   "execution_count": 9,
   "metadata": {},
   "outputs": [
    {
     "name": "stdout",
     "output_type": "stream",
     "text": [
      "{'you': 7, 'know': 1, 'want': 5, 'your': 8, 'love': 3, 'like': 2, 'what': 6, 'should': 4, 'do': 0}\n"
     ]
    }
   ],
   "source": [
    "print(tfidf.vocabulary_)"
   ]
  },
  {
   "cell_type": "code",
   "execution_count": 10,
   "metadata": {},
   "outputs": [
    {
     "data": {
      "text/plain": [
       "[array(['know', 'love', 'want', 'you', 'your'], dtype='<U6'),\n",
       " array(['like', 'you'], dtype='<U6'),\n",
       " array(['do', 'should', 'what'], dtype='<U6')]"
      ]
     },
     "execution_count": 10,
     "metadata": {},
     "output_type": "execute_result"
    }
   ],
   "source": [
    "## transform 결과를 역으로 추출\n",
    "cv.inverse_transform(cv.fit_transform(corpus).toarray())"
   ]
  },
  {
   "cell_type": "code",
   "execution_count": 11,
   "metadata": {},
   "outputs": [
    {
     "data": {
      "text/plain": [
       "['do', 'know', 'like', 'love', 'should', 'want', 'what', 'you', 'your']"
      ]
     },
     "execution_count": 11,
     "metadata": {},
     "output_type": "execute_result"
    }
   ],
   "source": [
    "cv.get_feature_names() # 인덱스 순서대로 출력"
   ]
  },
  {
   "cell_type": "code",
   "execution_count": 12,
   "metadata": {},
   "outputs": [
    {
     "name": "stdout",
     "output_type": "stream",
     "text": [
      "0 : do\n",
      "1 : know\n",
      "2 : like\n",
      "3 : love\n",
      "4 : should\n",
      "5 : want\n",
      "6 : what\n",
      "7 : you\n",
      "8 : your\n"
     ]
    }
   ],
   "source": [
    "for i, value in enumerate(cv.get_feature_names()):\n",
    "    print(i, \":\", value)"
   ]
  },
  {
   "cell_type": "code",
   "execution_count": 13,
   "metadata": {},
   "outputs": [],
   "source": [
    "# 새로운 문장을 넣어서 어떤 단어들이 들어갔는지 판단\n",
    "sentence=['i like like smile want']"
   ]
  },
  {
   "cell_type": "code",
   "execution_count": 14,
   "metadata": {},
   "outputs": [
    {
     "data": {
      "text/plain": [
       "array([[0, 0, 2, 0, 0, 1, 0, 0, 0]], dtype=int64)"
      ]
     },
     "execution_count": 14,
     "metadata": {},
     "output_type": "execute_result"
    }
   ],
   "source": [
    "cv.transform(sentence).toarray() # 학습시킨 cv를 사용해, 나온 단어의 빈도수 분석"
   ]
  },
  {
   "cell_type": "code",
   "execution_count": 15,
   "metadata": {},
   "outputs": [],
   "source": [
    "# 스팸메일, 햄메일 판단"
   ]
  },
  {
   "cell_type": "code",
   "execution_count": 16,
   "metadata": {},
   "outputs": [],
   "source": [
    "ham_dict=['order','confirm','check','customer','payment','send','general','club']\n",
    "spam_dict=['advertise','promotion','sales','hu','special','member','company']"
   ]
  },
  {
   "cell_type": "code",
   "execution_count": 17,
   "metadata": {},
   "outputs": [
    {
     "name": "stdout",
     "output_type": "stream",
     "text": [
      "[[1 0 0 0 0 0 0]\n",
      " [0 0 0 0 1 0 0]\n",
      " [0 0 0 0 0 1 0]\n",
      " [0 0 1 0 0 0 0]\n",
      " [0 0 0 0 0 0 1]\n",
      " [0 0 0 1 0 0 0]\n",
      " [0 1 0 0 0 0 0]]\n"
     ]
    }
   ],
   "source": [
    "print(cv.fit_transform(spam_dict).toarray()) "
   ]
  },
  {
   "cell_type": "code",
   "execution_count": 18,
   "metadata": {},
   "outputs": [
    {
     "data": {
      "text/plain": [
       "[array(['advertise'], dtype='<U9'),\n",
       " array(['promotion'], dtype='<U9'),\n",
       " array(['sales'], dtype='<U9'),\n",
       " array(['hu'], dtype='<U9'),\n",
       " array(['special'], dtype='<U9'),\n",
       " array(['member'], dtype='<U9'),\n",
       " array(['company'], dtype='<U9')]"
      ]
     },
     "execution_count": 18,
     "metadata": {},
     "output_type": "execute_result"
    }
   ],
   "source": [
    "cv.inverse_transform(cv.fit_transform(spam_dict).toarray())"
   ]
  },
  {
   "cell_type": "code",
   "execution_count": 19,
   "metadata": {},
   "outputs": [
    {
     "name": "stdout",
     "output_type": "stream",
     "text": [
      "{'advertise': 0, 'promotion': 4, 'sales': 5, 'hu': 2, 'special': 6, 'member': 3, 'company': 1}\n"
     ]
    }
   ],
   "source": [
    "print(cv.vocabulary_)"
   ]
  },
  {
   "cell_type": "code",
   "execution_count": 20,
   "metadata": {},
   "outputs": [],
   "source": [
    "spam_count=cv.transform(['Our company will invites you as a special member. Please check']).toarray().sum()"
   ]
  },
  {
   "cell_type": "code",
   "execution_count": 21,
   "metadata": {},
   "outputs": [],
   "source": [
    "cv.fit_transform(ham_dict).toarray()\n",
    "ham_count=cv.transform(['Our company will invites you as a special member. Please check']).toarray().sum()"
   ]
  },
  {
   "cell_type": "code",
   "execution_count": 22,
   "metadata": {},
   "outputs": [
    {
     "data": {
      "text/plain": [
       "(3, 1)"
      ]
     },
     "execution_count": 22,
     "metadata": {},
     "output_type": "execute_result"
    }
   ],
   "source": [
    "spam_count, ham_count"
   ]
  },
  {
   "cell_type": "code",
   "execution_count": 23,
   "metadata": {},
   "outputs": [
    {
     "name": "stdout",
     "output_type": "stream",
     "text": [
      "스팸 메일입니다.\n"
     ]
    }
   ],
   "source": [
    "tfidf.fit_transform(spam_dict).toarray()\n",
    "spam_count=tfidf.transform(['Our company will invites you as a special member. Please check']).toarray().sum()\n",
    "tfidf.fit_transform(ham_dict).toarray()\n",
    "ham_count=tfidf.transform(['Our company will invites you as a special member. Please check']).toarray().sum()\n",
    "\n",
    "if(ham_count>spam_count):\n",
    "    print('햄 메일입니다.')\n",
    "else:\n",
    "    print('스팸 메일입니다.')\n"
   ]
  },
  {
   "cell_type": "code",
   "execution_count": 24,
   "metadata": {},
   "outputs": [],
   "source": [
    "# 한글로 사전 만들고, 다음 문자열이 스팸인지 아닌지 판단\n",
    "email2=['광고!! 허경영 good 세일 확인 지불']\n",
    "ham_korean_dict=['주문', '승인', '확인', '고객', '지불']\n",
    "spam_korean_dict=['광고', '세일', '허경영']"
   ]
  },
  {
   "cell_type": "code",
   "execution_count": 25,
   "metadata": {
    "scrolled": true
   },
   "outputs": [
    {
     "data": {
      "text/plain": [
       "array([[0, 0, 1, 0, 0],\n",
       "       [0, 1, 0, 0, 0],\n",
       "       [0, 0, 0, 0, 1],\n",
       "       [1, 0, 0, 0, 0],\n",
       "       [0, 0, 0, 1, 0]], dtype=int64)"
      ]
     },
     "execution_count": 25,
     "metadata": {},
     "output_type": "execute_result"
    }
   ],
   "source": [
    "cv.fit_transform(ham_korean_dict).toarray()"
   ]
  },
  {
   "cell_type": "code",
   "execution_count": 26,
   "metadata": {},
   "outputs": [
    {
     "name": "stdout",
     "output_type": "stream",
     "text": [
      "0 : 고객\n",
      "1 : 승인\n",
      "2 : 주문\n",
      "3 : 지불\n",
      "4 : 확인\n"
     ]
    }
   ],
   "source": [
    "for i, value in enumerate(cv.get_feature_names()):\n",
    "    print(i, \":\", value)"
   ]
  },
  {
   "cell_type": "code",
   "execution_count": 27,
   "metadata": {},
   "outputs": [
    {
     "data": {
      "text/plain": [
       "2"
      ]
     },
     "execution_count": 27,
     "metadata": {},
     "output_type": "execute_result"
    }
   ],
   "source": [
    "ham_korean_count=cv.transform(email2).toarray().sum()\n",
    "ham_korean_count"
   ]
  },
  {
   "cell_type": "code",
   "execution_count": 28,
   "metadata": {},
   "outputs": [
    {
     "data": {
      "text/plain": [
       "array([[1, 0, 0],\n",
       "       [0, 1, 0],\n",
       "       [0, 0, 1]], dtype=int64)"
      ]
     },
     "execution_count": 28,
     "metadata": {},
     "output_type": "execute_result"
    }
   ],
   "source": [
    "cv.fit_transform(spam_korean_dict).toarray()"
   ]
  },
  {
   "cell_type": "code",
   "execution_count": 29,
   "metadata": {},
   "outputs": [
    {
     "name": "stdout",
     "output_type": "stream",
     "text": [
      "0 : 광고\n",
      "1 : 세일\n",
      "2 : 허경영\n"
     ]
    }
   ],
   "source": [
    "for i, value in enumerate(cv.get_feature_names()):\n",
    "    print(i, \":\", value)"
   ]
  },
  {
   "cell_type": "code",
   "execution_count": 30,
   "metadata": {},
   "outputs": [
    {
     "data": {
      "text/plain": [
       "3"
      ]
     },
     "execution_count": 30,
     "metadata": {},
     "output_type": "execute_result"
    }
   ],
   "source": [
    "spam_korean_count=cv.transform(email2).toarray().sum()\n",
    "spam_korean_count"
   ]
  },
  {
   "cell_type": "code",
   "execution_count": 31,
   "metadata": {},
   "outputs": [
    {
     "name": "stdout",
     "output_type": "stream",
     "text": [
      "수신한 메일 >> ['광고!! 허경영 good 세일 확인 지불']\n",
      "스팸 메일입니다.\n"
     ]
    }
   ],
   "source": [
    "print('수신한 메일 >>', email2)\n",
    "if(ham_korean_count>spam_korean_count):\n",
    "    print('햄 메일입니다.')\n",
    "else:\n",
    "    print('스팸 메일입니다.')"
   ]
  },
  {
   "cell_type": "code",
   "execution_count": 32,
   "metadata": {},
   "outputs": [],
   "source": [
    "# 감정 분류기, 긍정 부정 사전, input()을 이용해서 문장을 입력 받으면, 긍정인지 부정인지 판단해보세요."
   ]
  },
  {
   "cell_type": "code",
   "execution_count": 33,
   "metadata": {},
   "outputs": [],
   "source": [
    "positive_dict=['행복', '웃음', '즐겁', '즐거운', '좋은']\n",
    "negative_dict=['우울', '분노', '별로', '피곤']"
   ]
  },
  {
   "cell_type": "code",
   "execution_count": 48,
   "metadata": {},
   "outputs": [],
   "source": [
    "def feeling():\n",
    "    feel=[input('문장을 입력해주세요 >> ')]\n",
    "    \n",
    "    cv.fit_transform(positive_dict).toarray()\n",
    "    positive_count=cv.transform(feel).toarray().sum()\n",
    "    cv.fit_transform(negative_dict).toarray()\n",
    "    negative_count=cv.transform(feel).toarray().sum()\n",
    "\n",
    "    if(negative_count>positive_count):\n",
    "        print('부정적인 감정의 문장입니다.')\n",
    "    else:\n",
    "        print('긍정적인 감정의 문장입니다.')\n"
   ]
  },
  {
   "cell_type": "code",
   "execution_count": 49,
   "metadata": {},
   "outputs": [
    {
     "name": "stdout",
     "output_type": "stream",
     "text": [
      "문장을 입력해주세요 >> 좋은 날이네요. 저는 행복합니다.\n",
      "긍정적인 감정의 문장입니다.\n"
     ]
    }
   ],
   "source": [
    "feeling()"
   ]
  },
  {
   "cell_type": "code",
   "execution_count": 50,
   "metadata": {},
   "outputs": [
    {
     "name": "stdout",
     "output_type": "stream",
     "text": [
      "문장을 입력해주세요 >> 오늘은 별로 즐겁지 않네요. 조금 피곤합니다.\n",
      "부정적인 감정의 문장입니다.\n"
     ]
    }
   ],
   "source": [
    "feeling()"
   ]
  }
 ],
 "metadata": {
  "kernelspec": {
   "display_name": "Python 3",
   "language": "python",
   "name": "python3"
  },
  "language_info": {
   "codemirror_mode": {
    "name": "ipython",
    "version": 3
   },
   "file_extension": ".py",
   "mimetype": "text/x-python",
   "name": "python",
   "nbconvert_exporter": "python",
   "pygments_lexer": "ipython3",
   "version": "3.7.4"
  }
 },
 "nbformat": 4,
 "nbformat_minor": 2
}
