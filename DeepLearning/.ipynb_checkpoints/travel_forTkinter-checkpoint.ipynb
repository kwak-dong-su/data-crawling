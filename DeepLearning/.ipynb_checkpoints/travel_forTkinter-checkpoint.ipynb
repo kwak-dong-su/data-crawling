{
 "cells": [
  {
   "cell_type": "code",
   "execution_count": 25,
   "id": "16e3ebbc",
   "metadata": {},
   "outputs": [],
   "source": [
    "import numpy as np\n",
    "import os"
   ]
  },
  {
   "cell_type": "code",
   "execution_count": 26,
   "id": "4f135ff4",
   "metadata": {},
   "outputs": [],
   "source": [
    "# 모델 파일이 있는 경로\n",
    "os.chdir('D:/travel_images')"
   ]
  },
  {
   "cell_type": "code",
   "execution_count": 27,
   "id": "e7fb48cf",
   "metadata": {},
   "outputs": [],
   "source": [
    "from tensorflow.keras.models import load_model"
   ]
  },
  {
   "cell_type": "code",
   "execution_count": 28,
   "id": "c7f62434",
   "metadata": {},
   "outputs": [],
   "source": [
    "# 모델 파일 load\n",
    "model=load_model('best_travel_cnn.h5')"
   ]
  },
  {
   "cell_type": "code",
   "execution_count": 36,
   "id": "617551ef",
   "metadata": {},
   "outputs": [],
   "source": [
    "# 모델을 사용해 분류할 이미지 가져오기\n",
    "os.chdir('D:/travel_tkinter/uploaded')\n",
    "uploaded_dir=os.getcwd()"
   ]
  },
  {
   "cell_type": "code",
   "execution_count": 37,
   "id": "08c8a8da",
   "metadata": {},
   "outputs": [
    {
     "data": {
      "text/plain": [
       "'D:\\\\travel_tkinter\\\\uploaded'"
      ]
     },
     "execution_count": 37,
     "metadata": {},
     "output_type": "execute_result"
    }
   ],
   "source": [
    "uploaded_dir"
   ]
  },
  {
   "cell_type": "code",
   "execution_count": 38,
   "id": "61e7f5bf",
   "metadata": {},
   "outputs": [],
   "source": [
    "import glob"
   ]
  },
  {
   "cell_type": "code",
   "execution_count": 39,
   "id": "b5a27f7a",
   "metadata": {},
   "outputs": [],
   "source": [
    "uploaded_list=glob.glob('*.*')"
   ]
  },
  {
   "cell_type": "code",
   "execution_count": 40,
   "id": "16cfce7f",
   "metadata": {},
   "outputs": [
    {
     "data": {
      "text/plain": [
       "['architecture (5542).jpg',\n",
       " 'architecture (81).jpg',\n",
       " 'art_and_culture (2921).jpg',\n",
       " 'art_and_culture (2935).jpg',\n",
       " 'food_and_drinks (938).jpeg',\n",
       " 'food_and_drinks (941).jpeg',\n",
       " 'travel_and_adventure (6294).jpg',\n",
       " 'travel_and_adventure (6296).jpg']"
      ]
     },
     "execution_count": 40,
     "metadata": {},
     "output_type": "execute_result"
    }
   ],
   "source": [
    "uploaded_list"
   ]
  },
  {
   "cell_type": "code",
   "execution_count": 41,
   "id": "78b31704",
   "metadata": {},
   "outputs": [],
   "source": [
    "label=['architecture', 'art_and_culture', 'food_and_drinks', 'travel_and_adventure']"
   ]
  },
  {
   "cell_type": "code",
   "execution_count": 43,
   "id": "eee8db1e",
   "metadata": {},
   "outputs": [],
   "source": [
    "import cv2\n",
    "import matplotlib.pyplot as plt"
   ]
  },
  {
   "cell_type": "code",
   "execution_count": 44,
   "id": "36593a90",
   "metadata": {},
   "outputs": [],
   "source": [
    "# 크기를 동일하게 맞추어 변경해주자\n",
    "data_height=150\n",
    "data_width=150\n",
    "channel_n=3 # 컬러 색상으로 설정"
   ]
  },
  {
   "cell_type": "code",
   "execution_count": 45,
   "id": "a9797e3d",
   "metadata": {},
   "outputs": [],
   "source": [
    "# 읽어온 이미지 목록을 스케일링, 리사이징하는 함수 선언\n",
    "def make_file(data_height, data_width, channel_n, data_list_len): # 높이, 너비, 컬러, 리스트 길이\n",
    "    # 4차원으로 만들기 위한 4차원 리스트 필요\n",
    "    images=np.zeros((data_list_len, data_height, data_width, channel_n))\n",
    "    # 이미지 리스트에서 하나씩 꺼내서 라벨링, 스케일링, 리사이징\n",
    "    for i, image in enumerate(uploaded_list):     \n",
    "        # 읽어서 스케일링, 리사이징 \n",
    "        image=cv2.imread(image) /255 #읽기, 스케일링\n",
    "        image=cv2.resize(image, (data_height, data_width)) #리사이징\n",
    "        # 4차원 리스트에 하나씩 append\n",
    "        images[i, :, :, :]=image\n",
    "    return images"
   ]
  },
  {
   "cell_type": "code",
   "execution_count": 46,
   "id": "7d79d597",
   "metadata": {},
   "outputs": [],
   "source": [
    "images=make_file(data_height, data_width, channel_n, len(uploaded_list))"
   ]
  },
  {
   "cell_type": "code",
   "execution_count": 48,
   "id": "d29b552c",
   "metadata": {},
   "outputs": [
    {
     "data": {
      "text/plain": [
       "8"
      ]
     },
     "execution_count": 48,
     "metadata": {},
     "output_type": "execute_result"
    }
   ],
   "source": [
    "len(images)"
   ]
  },
  {
   "cell_type": "code",
   "execution_count": 50,
   "id": "bce51fa8",
   "metadata": {},
   "outputs": [],
   "source": [
    "# 스케일링, 리사이징된 이미지를 모델에 predict\n",
    "predicted_label=model.predict(images)"
   ]
  },
  {
   "cell_type": "code",
   "execution_count": 53,
   "id": "07715a1e",
   "metadata": {},
   "outputs": [
    {
     "data": {
      "text/plain": [
       "array([9.9858546e-01, 1.4292927e-07, 3.0266019e-04, 1.1118484e-03],\n",
       "      dtype=float32)"
      ]
     },
     "execution_count": 53,
     "metadata": {},
     "output_type": "execute_result"
    }
   ],
   "source": [
    "# 첫번째 이미지의 각 분류 확률\n",
    "predicted_label[0]"
   ]
  },
  {
   "cell_type": "code",
   "execution_count": 55,
   "id": "51905963",
   "metadata": {},
   "outputs": [
    {
     "data": {
      "text/plain": [
       "0"
      ]
     },
     "execution_count": 55,
     "metadata": {},
     "output_type": "execute_result"
    }
   ],
   "source": [
    "# 이미지가 architecture 카테고리일 확률이 가장 큼\n",
    "np.argmax(predicted_label[0])"
   ]
  },
  {
   "cell_type": "code",
   "execution_count": 59,
   "id": "5d37c722",
   "metadata": {
    "scrolled": true
   },
   "outputs": [
    {
     "data": {
      "text/plain": [
       "1.0000001140873707"
      ]
     },
     "execution_count": 59,
     "metadata": {},
     "output_type": "execute_result"
    }
   ],
   "source": [
    "sum(predicted_label[0])"
   ]
  },
  {
   "cell_type": "code",
   "execution_count": 66,
   "id": "3310fcf8",
   "metadata": {},
   "outputs": [],
   "source": [
    "# 분류한 이미지를 각 폴더에 옮기기 위한 라이브러리\n",
    "import shutil\n",
    "\n",
    "file_source = 'D:/travel_tkinter/uploaded/'\n",
    "file_destination = 'D:/travel_tkinter/classification/'"
   ]
  },
  {
   "cell_type": "code",
   "execution_count": 67,
   "id": "498cf10c",
   "metadata": {},
   "outputs": [],
   "source": [
    "# 가장 높은 확률을 가진 분류 폴더로 이동\n",
    "for i, one in enumerate(uploaded_list):\n",
    "    if np.argmax(predicted_label[i])==0:\n",
    "        shutil.move(file_source + one, file_destination+'건축물')\n",
    "    elif np.argmax(predicted_label[i])==1:\n",
    "        shutil.move(file_source + one, file_destination+'예술과 문화')\n",
    "    elif np.argmax(predicted_label[i])==2:\n",
    "        shutil.move(file_source + one, file_destination+'음식')\n",
    "    else:\n",
    "        shutil.move(file_source + one, file_destination+'어드벤처')"
   ]
  },
  {
   "cell_type": "code",
   "execution_count": null,
   "id": "1eae46e1",
   "metadata": {},
   "outputs": [],
   "source": [
    "# 분류된 사진 폴더 비우기 (trash 폴더로 이동)\n",
    "trash='D:/travel_tkinter/trash'\n",
    "os.chdir('D:/travel_tkinter/classification/건축물')\n",
    "trash_list=glob.glob('*.*')\n",
    "for i, one in enumerate(trash_list):\n",
    "    shutil.move(file_destination+'건축물/' + one, file_destination+'건축물')\n",
    "os.chdir('D:/travel_tkinter/classification/예술과 문화')\n",
    "trash_list=glob.glob('*.*')\n",
    "os.chdir('D:/travel_tkinter/classification/음식')\n",
    "trash_list=glob.glob('*.*')\n",
    "os.chdir('D:/travel_tkinter/classification/어드벤처')\n",
    "trash_list=glob.glob('*.*')"
   ]
  }
 ],
 "metadata": {
  "kernelspec": {
   "display_name": "Python 3 (ipykernel)",
   "language": "python",
   "name": "python3"
  },
  "language_info": {
   "codemirror_mode": {
    "name": "ipython",
    "version": 3
   },
   "file_extension": ".py",
   "mimetype": "text/x-python",
   "name": "python",
   "nbconvert_exporter": "python",
   "pygments_lexer": "ipython3",
   "version": "3.7.4"
  }
 },
 "nbformat": 4,
 "nbformat_minor": 5
}
