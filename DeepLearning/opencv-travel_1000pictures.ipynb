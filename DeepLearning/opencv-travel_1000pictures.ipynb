{
 "cells": [
  {
   "cell_type": "code",
   "execution_count": 1,
   "id": "90ff95c6",
   "metadata": {},
   "outputs": [],
   "source": [
    "import numpy as np\n",
    "import os"
   ]
  },
  {
   "cell_type": "code",
   "execution_count": 2,
   "id": "48512f9f",
   "metadata": {},
   "outputs": [],
   "source": [
    "os.chdir('D:/travel_images')"
   ]
  },
  {
   "cell_type": "code",
   "execution_count": 3,
   "id": "d53e2d7f",
   "metadata": {},
   "outputs": [],
   "source": [
    "data_dir=os.getcwd()"
   ]
  },
  {
   "cell_type": "code",
   "execution_count": 4,
   "id": "e0cc34aa",
   "metadata": {},
   "outputs": [],
   "source": [
    "import glob"
   ]
  },
  {
   "cell_type": "code",
   "execution_count": 5,
   "id": "fa863102",
   "metadata": {},
   "outputs": [],
   "source": [
    "architecture_list=glob.glob('architecture*.*')\n",
    "art_and_culture_list=glob.glob('art_and_culture*.*')\n",
    "food_and_drinks_list=glob.glob('food_and_drinks*.*')\n",
    "travel_and_adventure_list=glob.glob('travel_and_adventure*.*')"
   ]
  },
  {
   "cell_type": "code",
   "execution_count": 6,
   "id": "db423b91",
   "metadata": {},
   "outputs": [
    {
     "data": {
      "text/plain": [
       "(8763, 8695, 8774, 1151)"
      ]
     },
     "execution_count": 6,
     "metadata": {},
     "output_type": "execute_result"
    }
   ],
   "source": [
    "len(architecture_list),len(art_and_culture_list), len(food_and_drinks_list), len(travel_and_adventure_list)"
   ]
  },
  {
   "cell_type": "code",
   "execution_count": 7,
   "id": "19110619",
   "metadata": {},
   "outputs": [
    {
     "name": "stdout",
     "output_type": "stream",
     "text": [
      "27383\n"
     ]
    }
   ],
   "source": [
    "print(len(architecture_list)+len(art_and_culture_list)+len(food_and_drinks_list)+len(travel_and_adventure_list))"
   ]
  },
  {
   "cell_type": "code",
   "execution_count": 8,
   "id": "06e03457",
   "metadata": {},
   "outputs": [],
   "source": [
    "data_list=architecture_list[:1000]+art_and_culture_list[:1000]+food_and_drinks_list[:1000]+travel_and_adventure_list[:1000]"
   ]
  },
  {
   "cell_type": "code",
   "execution_count": 9,
   "id": "3b8ef5a2",
   "metadata": {
    "scrolled": true
   },
   "outputs": [
    {
     "data": {
      "text/plain": [
       "4000"
      ]
     },
     "execution_count": 9,
     "metadata": {},
     "output_type": "execute_result"
    }
   ],
   "source": [
    "len(data_list)"
   ]
  },
  {
   "cell_type": "code",
   "execution_count": 11,
   "id": "85e2f59a",
   "metadata": {},
   "outputs": [],
   "source": [
    "from tensorflow.keras.preprocessing.text import text_to_word_sequence"
   ]
  },
  {
   "cell_type": "code",
   "execution_count": 12,
   "id": "fe10ffed",
   "metadata": {},
   "outputs": [],
   "source": [
    "label=[]\n",
    "for x in data_list:\n",
    "    label.append(text_to_word_sequence(x, filters='()')[0])"
   ]
  },
  {
   "cell_type": "code",
   "execution_count": 13,
   "id": "bfb4f94e",
   "metadata": {},
   "outputs": [],
   "source": [
    "# 라벨 인코더 - 카테고리형 문자를 숫자로 자동 변환해주는 역할\n",
    "from sklearn.preprocessing import LabelEncoder"
   ]
  },
  {
   "cell_type": "code",
   "execution_count": 14,
   "id": "a5c8d4dc",
   "metadata": {},
   "outputs": [],
   "source": [
    "encoder=LabelEncoder()\n",
    "label_encode=encoder.fit_transform(label)"
   ]
  },
  {
   "cell_type": "code",
   "execution_count": 15,
   "id": "6daff244",
   "metadata": {},
   "outputs": [
    {
     "data": {
      "text/plain": [
       "array(['architecture', 'art_and_culture', 'food_and_drinks',\n",
       "       'travel_and_adventure'], dtype='<U20')"
      ]
     },
     "execution_count": 15,
     "metadata": {},
     "output_type": "execute_result"
    }
   ],
   "source": [
    "encoder.classes_ # 인코딩된 분류 이름들"
   ]
  },
  {
   "cell_type": "code",
   "execution_count": 17,
   "id": "12284057",
   "metadata": {},
   "outputs": [],
   "source": [
    "import cv2\n",
    "import matplotlib.pyplot as plt"
   ]
  },
  {
   "cell_type": "code",
   "execution_count": 18,
   "id": "f1f622eb",
   "metadata": {},
   "outputs": [],
   "source": [
    "# 크기를 동일하게 맞추어 변경해주자\n",
    "data_height=150\n",
    "data_width=150\n",
    "channel_n=3 # 컬러 색상으로 설정"
   ]
  },
  {
   "cell_type": "code",
   "execution_count": 19,
   "id": "93d35651",
   "metadata": {},
   "outputs": [],
   "source": [
    "# 읽어온 이미지 목록을 넣으면 라벨링, 스케일링, 리사이징하는 함수 선언\n",
    "def make_file(data_height, data_width, channel_n, data_list_len): # 높이, 너비, 컬러, 리스트 길이\n",
    "    # 라벨링한 결과를 넣을 1차원 리스트\n",
    "    label=[]\n",
    "    # 4차원으로 만들기 위한 4차원 리스트 필요\n",
    "    images=np.zeros((data_list_len, data_height, data_width, channel_n))\n",
    "    # 이미지 리스트에서 하나씩 꺼내서 라벨링, 스케일링, 리사이징\n",
    "    for i, image in enumerate(data_list):\n",
    "        # 라벨링 : dog.01.jpg\n",
    "        tokens=text_to_word_sequence(image, filters='()')\n",
    "        label.append(tokens[0])\n",
    "        \n",
    "        # 읽어서 스케일링, 리사이징 \n",
    "        image=cv2.imread(image) /255 #읽기, 스케일링\n",
    "        image=cv2.resize(image, (data_height, data_width)) #리사이징\n",
    "        # 4차원 리스트에 하나씩 append\n",
    "        images[i, :, :, :]=image\n",
    "    label2=np.array(label)\n",
    "    return label2, images"
   ]
  },
  {
   "cell_type": "code",
   "execution_count": 20,
   "id": "64e2f1eb",
   "metadata": {},
   "outputs": [],
   "source": [
    "labels, images=make_file(data_height, data_width, channel_n, len(data_list))"
   ]
  },
  {
   "cell_type": "code",
   "execution_count": 21,
   "id": "be43c86d",
   "metadata": {},
   "outputs": [
    {
     "data": {
      "text/plain": [
       "array(['architecture', 'architecture', 'architecture', ...,\n",
       "       'travel_and_adventure', 'travel_and_adventure',\n",
       "       'travel_and_adventure'], dtype='<U20')"
      ]
     },
     "execution_count": 21,
     "metadata": {},
     "output_type": "execute_result"
    }
   ],
   "source": [
    "labels"
   ]
  },
  {
   "cell_type": "code",
   "execution_count": 22,
   "id": "bbcb6a50",
   "metadata": {
    "scrolled": true
   },
   "outputs": [
    {
     "data": {
      "text/plain": [
       "(4000,)"
      ]
     },
     "execution_count": 22,
     "metadata": {},
     "output_type": "execute_result"
    }
   ],
   "source": [
    "labels.shape"
   ]
  },
  {
   "cell_type": "code",
   "execution_count": 23,
   "id": "b6ca19c8",
   "metadata": {},
   "outputs": [
    {
     "data": {
      "text/plain": [
       "(4000, 150, 150, 3)"
      ]
     },
     "execution_count": 23,
     "metadata": {},
     "output_type": "execute_result"
    }
   ],
   "source": [
    "images.shape"
   ]
  },
  {
   "cell_type": "code",
   "execution_count": 24,
   "id": "dc2867ec",
   "metadata": {},
   "outputs": [],
   "source": [
    "from sklearn.model_selection import train_test_split"
   ]
  },
  {
   "cell_type": "code",
   "execution_count": 25,
   "id": "bd5c4c2c",
   "metadata": {},
   "outputs": [],
   "source": [
    "X_train, X_test, y_train, y_test = train_test_split(images, label_encode, test_size= 0.2, random_state=55)"
   ]
  },
  {
   "cell_type": "code",
   "execution_count": 26,
   "id": "4e06f5d5",
   "metadata": {},
   "outputs": [
    {
     "name": "stdout",
     "output_type": "stream",
     "text": [
      "(3200, 150, 150, 3) (800, 150, 150, 3)\n"
     ]
    }
   ],
   "source": [
    "print(X_train.shape, X_test.shape)"
   ]
  },
  {
   "cell_type": "code",
   "execution_count": 27,
   "id": "15b26bb8",
   "metadata": {},
   "outputs": [
    {
     "data": {
      "text/plain": [
       "array([1, 0, 2, ..., 0, 0, 0], dtype=int64)"
      ]
     },
     "execution_count": 27,
     "metadata": {},
     "output_type": "execute_result"
    }
   ],
   "source": [
    "y_train"
   ]
  },
  {
   "cell_type": "code",
   "execution_count": 28,
   "id": "07b46012",
   "metadata": {},
   "outputs": [],
   "source": [
    "# 딥러닝 모델 만들기\n",
    "from tensorflow.keras.layers import *\n",
    "from tensorflow.keras.models import Sequential\n",
    "from tensorflow.keras.callbacks import EarlyStopping, ModelCheckpoint"
   ]
  },
  {
   "cell_type": "code",
   "execution_count": 27,
   "id": "505d887b",
   "metadata": {},
   "outputs": [],
   "source": [
    "model=Sequential()\n",
    "# 특성 추출 레이어를 쌓아준다.\n",
    "model.add(Conv2D(32, (3, 3), activation='relu', input_shape=(data_height, data_width, 3)))\n",
    "model.add(MaxPool2D((2,2)))\n",
    "model.add(Conv2D(64, (3, 3), activation='relu'))\n",
    "model.add(MaxPool2D((2,2)))\n",
    "\n",
    "# 딥러닝 학습 레이어를 쌓아준다.\n",
    "# 입력 -- 은닉 -- 출력 순서대로 쌓아준다.\n",
    "\n",
    "# 입력층(1개) => 1차원이어야함\n",
    "model.add(Flatten()) # 이미지 데이터를 1차원으로 만들어주는 객체\n",
    "\n",
    "# 은닉층\n",
    "model.add(Dense(64, activation='relu'))\n",
    "model.add(Dropout(rate=0.5)) \n",
    "model.add(Dense(32, activation='relu'))\n",
    "model.add(Dropout(rate=0.5))\n",
    "model.add(Dense(16, activation='relu'))\n",
    "model.add(Dropout(rate=0.5))\n",
    "\n",
    "# 출력층(1개) => 딥러닝하는 학습의 종류에 따라 다르게 써주어야 함\n",
    "# 이진 분류인 경우(1, sigmoid)\n",
    "# 다중 분류인 경우(n, softmax)\n",
    "# 회귀인 경우(1, linear)\n",
    "model.add(Dense(4, activation='softmax')) #결과가 엘리먼트로 출력됨. 0.5를 기준으로 판별"
   ]
  },
  {
   "cell_type": "code",
   "execution_count": 28,
   "id": "79f5749b",
   "metadata": {},
   "outputs": [
    {
     "name": "stdout",
     "output_type": "stream",
     "text": [
      "Model: \"sequential\"\n",
      "_________________________________________________________________\n",
      " Layer (type)                Output Shape              Param #   \n",
      "=================================================================\n",
      " conv2d (Conv2D)             (None, 148, 148, 32)      896       \n",
      "                                                                 \n",
      " max_pooling2d (MaxPooling2D  (None, 74, 74, 32)       0         \n",
      " )                                                               \n",
      "                                                                 \n",
      " conv2d_1 (Conv2D)           (None, 72, 72, 64)        18496     \n",
      "                                                                 \n",
      " max_pooling2d_1 (MaxPooling  (None, 36, 36, 64)       0         \n",
      " 2D)                                                             \n",
      "                                                                 \n",
      " flatten (Flatten)           (None, 82944)             0         \n",
      "                                                                 \n",
      " dense (Dense)               (None, 64)                5308480   \n",
      "                                                                 \n",
      " dropout (Dropout)           (None, 64)                0         \n",
      "                                                                 \n",
      " dense_1 (Dense)             (None, 32)                2080      \n",
      "                                                                 \n",
      " dropout_1 (Dropout)         (None, 32)                0         \n",
      "                                                                 \n",
      " dense_2 (Dense)             (None, 16)                528       \n",
      "                                                                 \n",
      " dropout_2 (Dropout)         (None, 16)                0         \n",
      "                                                                 \n",
      " dense_3 (Dense)             (None, 4)                 68        \n",
      "                                                                 \n",
      "=================================================================\n",
      "Total params: 5,330,548\n",
      "Trainable params: 5,330,548\n",
      "Non-trainable params: 0\n",
      "_________________________________________________________________\n"
     ]
    }
   ],
   "source": [
    "model.summary()"
   ]
  },
  {
   "cell_type": "code",
   "execution_count": 29,
   "id": "55cdfd23",
   "metadata": {},
   "outputs": [],
   "source": [
    "model.compile(optimizer='adam', loss='sparse_categorical_crossentropy', metrics=['accuracy'])"
   ]
  },
  {
   "cell_type": "code",
   "execution_count": 31,
   "id": "ad8dd6d9",
   "metadata": {},
   "outputs": [
    {
     "name": "stdout",
     "output_type": "stream",
     "text": [
      "Epoch 1/50\n",
      "25/25 - 30s - loss: 1.3180 - accuracy: 0.3537 - val_loss: 1.2371 - val_accuracy: 0.4575 - 30s/epoch - 1s/step\n",
      "Epoch 2/50\n",
      "25/25 - 29s - loss: 1.3109 - accuracy: 0.3559 - val_loss: 1.2862 - val_accuracy: 0.4350 - 29s/epoch - 1s/step\n",
      "Epoch 3/50\n",
      "25/25 - 29s - loss: 1.2738 - accuracy: 0.3891 - val_loss: 1.1768 - val_accuracy: 0.4875 - 29s/epoch - 1s/step\n",
      "Epoch 4/50\n",
      "25/25 - 29s - loss: 1.2504 - accuracy: 0.4016 - val_loss: 1.1651 - val_accuracy: 0.4688 - 29s/epoch - 1s/step\n",
      "Epoch 5/50\n",
      "25/25 - 28s - loss: 1.2395 - accuracy: 0.4178 - val_loss: 1.1307 - val_accuracy: 0.4963 - 28s/epoch - 1s/step\n",
      "Epoch 6/50\n",
      "25/25 - 28s - loss: 1.1679 - accuracy: 0.4466 - val_loss: 1.1006 - val_accuracy: 0.5587 - 28s/epoch - 1s/step\n",
      "Epoch 7/50\n",
      "25/25 - 29s - loss: 1.1693 - accuracy: 0.4487 - val_loss: 1.0526 - val_accuracy: 0.5462 - 29s/epoch - 1s/step\n",
      "Epoch 8/50\n",
      "25/25 - 29s - loss: 1.1179 - accuracy: 0.4863 - val_loss: 1.0633 - val_accuracy: 0.6100 - 29s/epoch - 1s/step\n",
      "Epoch 9/50\n",
      "25/25 - 29s - loss: 1.0748 - accuracy: 0.5297 - val_loss: 0.9576 - val_accuracy: 0.6037 - 29s/epoch - 1s/step\n",
      "Epoch 10/50\n",
      "25/25 - 29s - loss: 0.9957 - accuracy: 0.5678 - val_loss: 0.9666 - val_accuracy: 0.5775 - 29s/epoch - 1s/step\n",
      "Epoch 11/50\n",
      "25/25 - 32s - loss: 1.0075 - accuracy: 0.5638 - val_loss: 0.9282 - val_accuracy: 0.6625 - 32s/epoch - 1s/step\n",
      "Epoch 12/50\n",
      "25/25 - 29s - loss: 0.9263 - accuracy: 0.6222 - val_loss: 0.9301 - val_accuracy: 0.6600 - 29s/epoch - 1s/step\n",
      "Epoch 13/50\n",
      "25/25 - 29s - loss: 0.8831 - accuracy: 0.6231 - val_loss: 0.8679 - val_accuracy: 0.6900 - 29s/epoch - 1s/step\n",
      "Epoch 14/50\n",
      "25/25 - 29s - loss: 0.8484 - accuracy: 0.6475 - val_loss: 1.1511 - val_accuracy: 0.6400 - 29s/epoch - 1s/step\n",
      "Epoch 15/50\n",
      "25/25 - 29s - loss: 0.8651 - accuracy: 0.6306 - val_loss: 0.8663 - val_accuracy: 0.6925 - 29s/epoch - 1s/step\n",
      "Epoch 16/50\n",
      "25/25 - 31s - loss: 0.7895 - accuracy: 0.6791 - val_loss: 0.8514 - val_accuracy: 0.6900 - 31s/epoch - 1s/step\n",
      "Epoch 17/50\n",
      "25/25 - 32s - loss: 0.7471 - accuracy: 0.6931 - val_loss: 0.8194 - val_accuracy: 0.7262 - 32s/epoch - 1s/step\n",
      "Epoch 18/50\n",
      "25/25 - 29s - loss: 0.7048 - accuracy: 0.6969 - val_loss: 1.0072 - val_accuracy: 0.6875 - 29s/epoch - 1s/step\n",
      "Epoch 19/50\n",
      "25/25 - 33s - loss: 0.7016 - accuracy: 0.7056 - val_loss: 0.9548 - val_accuracy: 0.6913 - 33s/epoch - 1s/step\n",
      "Epoch 20/50\n",
      "25/25 - 31s - loss: 0.6439 - accuracy: 0.7234 - val_loss: 0.8730 - val_accuracy: 0.7387 - 31s/epoch - 1s/step\n"
     ]
    }
   ],
   "source": [
    "es=EarlyStopping(patience=3, restore_best_weights=True)\n",
    "cp=ModelCheckpoint('best_travel_cnn.h5')\n",
    "cnn_history=model.fit(X_train, y_train, batch_size=128, epochs=50, validation_data=(X_test, y_test),\n",
    "                      callbacks=[es, cp], verbose=2)"
   ]
  },
  {
   "cell_type": "code",
   "execution_count": 52,
   "id": "7f80fdba",
   "metadata": {},
   "outputs": [
    {
     "name": "stdout",
     "output_type": "stream",
     "text": [
      "25/25 [==============================] - 2s 78ms/step - loss: 0.8194 - accuracy: 0.7262\n"
     ]
    }
   ],
   "source": [
    "test_result=model.evaluate(X_test, y_test)"
   ]
  },
  {
   "cell_type": "code",
   "execution_count": 53,
   "id": "63e22a08",
   "metadata": {},
   "outputs": [
    {
     "data": {
      "text/plain": [
       "[0.8193719387054443, 0.7262499928474426]"
      ]
     },
     "execution_count": 53,
     "metadata": {},
     "output_type": "execute_result"
    }
   ],
   "source": [
    "test_result"
   ]
  },
  {
   "cell_type": "code",
   "execution_count": 34,
   "id": "950eb2f9",
   "metadata": {},
   "outputs": [],
   "source": [
    "# 적중률 시각화\n",
    "from sklearn.metrics import accuracy_score, precision_score, recall_score, confusion_matrix"
   ]
  },
  {
   "cell_type": "code",
   "execution_count": 35,
   "id": "b7c43344",
   "metadata": {},
   "outputs": [],
   "source": [
    "import pandas as pd\n",
    "import numpy as np\n",
    "import matplotlib.pyplot as plt"
   ]
  },
  {
   "cell_type": "code",
   "execution_count": 34,
   "id": "0c2a5e5f",
   "metadata": {},
   "outputs": [],
   "source": [
    "# 다중 분류에서는 predict를 할 때 각 항목이 될 가능성을 계산해준다.\n",
    "y_pred=model.predict(X_test)"
   ]
  },
  {
   "cell_type": "code",
   "execution_count": 35,
   "id": "86bc08d3",
   "metadata": {},
   "outputs": [],
   "source": [
    "y_pred_test=np.argmax(y_pred, axis=-1)"
   ]
  },
  {
   "cell_type": "code",
   "execution_count": 37,
   "id": "3f1c9346",
   "metadata": {},
   "outputs": [
    {
     "name": "stdout",
     "output_type": "stream",
     "text": [
      "[[192   2   9  26]\n",
      " [  1 156  40  12]\n",
      " [  6  25  98  38]\n",
      " [  7  14  39 135]]\n"
     ]
    }
   ],
   "source": [
    "print(confusion_matrix(y_pred_test, y_test))"
   ]
  },
  {
   "cell_type": "code",
   "execution_count": 41,
   "id": "2ae98afb",
   "metadata": {},
   "outputs": [],
   "source": [
    "df=pd.DataFrame(confusion_matrix(y_pred_test, y_test))"
   ]
  },
  {
   "cell_type": "code",
   "execution_count": 42,
   "id": "2d786fe4",
   "metadata": {},
   "outputs": [],
   "source": [
    "# 각 travel image의 적중률 리스트\n",
    "score_list=[]\n",
    "for i in range(4):\n",
    "    score_list.append(round((df.iloc[i,i]/df.sum(axis=1)[i])*100, 2))"
   ]
  },
  {
   "cell_type": "code",
   "execution_count": 43,
   "id": "a5a7de05",
   "metadata": {},
   "outputs": [
    {
     "data": {
      "text/plain": [
       "[83.84, 74.64, 58.68, 69.23]"
      ]
     },
     "execution_count": 43,
     "metadata": {},
     "output_type": "execute_result"
    }
   ],
   "source": [
    "score_list"
   ]
  },
  {
   "cell_type": "code",
   "execution_count": 44,
   "id": "697c40f8",
   "metadata": {},
   "outputs": [],
   "source": [
    "target_names = ['architecture', 'art_and_culture', 'food_and_drinks', 'travel_and_adventure']"
   ]
  },
  {
   "cell_type": "code",
   "execution_count": 48,
   "id": "cc48a3c5",
   "metadata": {},
   "outputs": [
    {
     "data": {
      "image/png": "[encoded data removed]",
      "text/plain": [
       "<Figure size 576x432 with 1 Axes>"
      ]
     },
     "metadata": {
      "needs_background": "light"
     },
     "output_type": "display_data"
    }
   ],
   "source": [
    "# 각 이미지의 적중률\n",
    "plt.figure(figsize=(8,6))\n",
    "x = target_names\n",
    "fashon_type = target_names\n",
    "values = score_list\n",
    "colors = ['y', 'dodgerblue', 'C2', 'violet', 'brown', 'indigo', 'aquamarine', 'orange', 'khaki', 'slategray']\n",
    "\n",
    "plt.bar(x, values, color=colors)\n",
    "plt.xticks(x, fashon_type)\n",
    "plt.ylim([40, 100])\n",
    "\n",
    "for i, v in enumerate(x):\n",
    "    plt.text(v, values[i], values[i],                 # 좌표 (x축 = v, y축 = y[0]..y[1], 표시 = y[0]..y[1])\n",
    "             fontsize = 15, \n",
    "             color='red',\n",
    "             horizontalalignment='center',  # horizontalalignment (left, center, right)\n",
    "             verticalalignment='bottom')    # verticalalignment (top, center, bottom)\n",
    "\n",
    "plt.show()"
   ]
  },
  {
   "cell_type": "code",
   "execution_count": 50,
   "id": "9b3b694b",
   "metadata": {},
   "outputs": [
    {
     "data": {
      "image/png": "[encoded data removed]",
      "text/plain": [
       "<Figure size 432x288 with 1 Axes>"
      ]
     },
     "metadata": {
      "needs_background": "light"
     },
     "output_type": "display_data"
    }
   ],
   "source": [
    "# 손실률, 정확도 시각화\n",
    "plt.plot(cnn_history.history['loss'])\n",
    "#plt.plot(loss)\n",
    "plt.plot(cnn_history.history['accuracy'])\n",
    "#plt.plot(acc)\n",
    "plt.legend(['train_loss', 'train_acc'])\n",
    "plt.grid()\n",
    "plt.show()"
   ]
  },
  {
   "cell_type": "code",
   "execution_count": 51,
   "id": "73396c27",
   "metadata": {
    "scrolled": true
   },
   "outputs": [
    {
     "data": {
      "text/plain": [
       "<matplotlib.legend.Legend at 0x1fe6ad829c8>"
      ]
     },
     "execution_count": 51,
     "metadata": {},
     "output_type": "execute_result"
    },
    {
     "data": {
      "image/png": "[encoded data removed]",
      "text/plain": [
       "<Figure size 864x288 with 2 Axes>"
      ]
     },
     "metadata": {
      "needs_background": "light"
     },
     "output_type": "display_data"
    }
   ],
   "source": [
    "# cnn_history\n",
    "plt.figure(figsize=(12, 4))\n",
    "plt.subplot(1, 2, 1) # 1행 2열의 도표, 1열\n",
    "plt.plot(cnn_history.history['accuracy'])\n",
    "plt.plot(cnn_history.history['val_accuracy'])\n",
    "plt.title('model acc')\n",
    "plt.xlabel('epoch')\n",
    "plt.ylabel('acc')\n",
    "plt.legend(['train_acc', 'test_acc'])\n",
    "plt.subplot(1, 2, 2) # 1행 2열의 도표, 2열\n",
    "plt.plot(cnn_history.history['loss'])\n",
    "plt.plot(cnn_history.history['val_loss'])\n",
    "plt.title('model loss')\n",
    "plt.xlabel('epoch')\n",
    "plt.ylabel('loss')\n",
    "plt.legend(['train_loss', 'test_loss'])"
   ]
  },
  {
   "cell_type": "markdown",
   "id": "10a7aa0e",
   "metadata": {},
   "source": [
    "## 전이학습"
   ]
  },
  {
   "cell_type": "code",
   "execution_count": 29,
   "id": "6bee53b6",
   "metadata": {},
   "outputs": [],
   "source": [
    "# Pre-trained 모델 가져오기\n",
    "from tensorflow.keras.applications import ResNet50\n",
    "cnn_base = ResNet50(include_top=False, weights='imagenet', \n",
    "                 input_shape=[data_height, data_width, channel_n],classes=4)  "
   ]
  },
  {
   "cell_type": "code",
   "execution_count": 30,
   "id": "f557cbc6",
   "metadata": {},
   "outputs": [
    {
     "name": "stdout",
     "output_type": "stream",
     "text": [
      "Model: \"sequential\"\n",
      "_________________________________________________________________\n",
      " Layer (type)                Output Shape              Param #   \n",
      "=================================================================\n",
      " resnet50 (Functional)       (None, 5, 5, 2048)        23587712  \n",
      "                                                                 \n",
      " flatten (Flatten)           (None, 51200)             0         \n",
      "                                                                 \n",
      " dense (Dense)               (None, 128)               6553728   \n",
      "                                                                 \n",
      " dropout (Dropout)           (None, 128)               0         \n",
      "                                                                 \n",
      " dense_1 (Dense)             (None, 64)                8256      \n",
      "                                                                 \n",
      " dropout_1 (Dropout)         (None, 64)                0         \n",
      "                                                                 \n",
      " dense_2 (Dense)             (None, 32)                2080      \n",
      "                                                                 \n",
      " dropout_2 (Dropout)         (None, 32)                0         \n",
      "                                                                 \n",
      " dense_3 (Dense)             (None, 12)                396       \n",
      "                                                                 \n",
      " dropout_3 (Dropout)         (None, 12)                0         \n",
      "                                                                 \n",
      " dense_4 (Dense)             (None, 5)                 65        \n",
      "                                                                 \n",
      " dropout_4 (Dropout)         (None, 5)                 0         \n",
      "                                                                 \n",
      " dense_5 (Dense)             (None, 4)                 24        \n",
      "                                                                 \n",
      "=================================================================\n",
      "Total params: 30,152,261\n",
      "Trainable params: 30,099,141\n",
      "Non-trainable params: 53,120\n",
      "_________________________________________________________________\n"
     ]
    }
   ],
   "source": [
    "model3 = Sequential()\n",
    "### 특성추출 레이어를 쌓아준다.\n",
    "\n",
    "# model.add(Conv2D(32, (3, 3), activation='relu', input_shape=(data_height, data_width, channel_n)))\n",
    "# model.add(MaxPool2D((2, 2)))\n",
    "# model.add(Conv2D(64, (3, 3), activation='relu'))\n",
    "# model.add(MaxPool2D((2, 2)))\n",
    "# model.add(Conv2D(64, (3, 3), activation='relu'))\n",
    "\n",
    "### 딥러닝 학습 레이어를 쌓아준다.\n",
    "### 입력--히든--출력 순서대로 쌓아준다.\n",
    "### 입력(1개)-- 1차원이여야함.\n",
    "\n",
    "model3.add(cnn_base) \n",
    "model3.add(Flatten()) ## 이미지 데이터를 1차원으로 만들어주는 객체 \n",
    "### 히든\n",
    "model3.add(Dense(128, activation='relu'))\n",
    "model3.add(Dropout(rate=0.3))\n",
    "model3.add(Dense(64, activation='relu'))\n",
    "model3.add(Dropout(rate=0.3))\n",
    "model3.add(Dense(32, activation='relu'))\n",
    "model3.add(Dropout(rate=0.3))\n",
    "model3.add(Dense(12, activation='relu'))\n",
    "model3.add(Dropout(rate=0.3))\n",
    "model3.add(Dense(5, activation='relu'))\n",
    "model3.add(Dropout(rate=0.3))\n",
    "\n",
    "### 출력(1개)— 딥러닝하는 학습의 종류에 따라 다르게 써주어야 함.!!\n",
    "### 이진 분류인 경우(1, sigmoid)\n",
    "### 다중 분류인 경우(n, softmax)\n",
    "### 회귀인 경우(1, linear)\n",
    "model3.add(Dense(4, activation='softmax'))\n",
    "model3.summary()"
   ]
  },
  {
   "cell_type": "code",
   "execution_count": 31,
   "id": "a868f89e",
   "metadata": {},
   "outputs": [],
   "source": [
    "model3.compile(optimizer='adam', loss='sparse_categorical_crossentropy', metrics=['accuracy'])"
   ]
  },
  {
   "cell_type": "code",
   "execution_count": 32,
   "id": "75b4a68d",
   "metadata": {},
   "outputs": [
    {
     "name": "stdout",
     "output_type": "stream",
     "text": [
      "Epoch 1/50\n"
     ]
    },
    {
     "name": "stderr",
     "output_type": "stream",
     "text": [
      "C:\\ProgramData\\Anaconda3\\lib\\site-packages\\keras\\engine\\functional.py:1410: CustomMaskWarning: Custom mask layers require a config and must override get_config. When loading, the custom mask layer must be passed to the custom_objects argument.\n",
      "  layer_config = serialize_layer_fn(layer)\n"
     ]
    },
    {
     "name": "stdout",
     "output_type": "stream",
     "text": [
      "64/64 - 432s - loss: 2.2105 - accuracy: 0.3013 - val_loss: 41.5464 - val_accuracy: 0.2637 - 432s/epoch - 7s/step\n",
      "Epoch 2/50\n",
      "64/64 - 417s - loss: 1.5281 - accuracy: 0.2866 - val_loss: 1.3863 - val_accuracy: 0.2463 - 417s/epoch - 7s/step\n",
      "Epoch 3/50\n",
      "64/64 - 400s - loss: 1.4883 - accuracy: 0.2897 - val_loss: 1.3863 - val_accuracy: 0.2463 - 400s/epoch - 6s/step\n",
      "Epoch 4/50\n",
      "64/64 - 405s - loss: 1.4121 - accuracy: 0.2856 - val_loss: 1.3863 - val_accuracy: 0.2463 - 405s/epoch - 6s/step\n",
      "Epoch 5/50\n",
      "64/64 - 408s - loss: 1.3980 - accuracy: 0.2788 - val_loss: 1.3863 - val_accuracy: 0.2463 - 408s/epoch - 6s/step\n",
      "Epoch 6/50\n",
      "64/64 - 432s - loss: 1.3912 - accuracy: 0.2841 - val_loss: 1.3984 - val_accuracy: 0.2562 - 432s/epoch - 7s/step\n",
      "Epoch 7/50\n",
      "64/64 - 417s - loss: 1.3893 - accuracy: 0.2834 - val_loss: 1.3999 - val_accuracy: 0.1250 - 417s/epoch - 7s/step\n",
      "Epoch 8/50\n",
      "64/64 - 446s - loss: 1.4051 - accuracy: 0.2766 - val_loss: 1.3839 - val_accuracy: 0.3088 - 446s/epoch - 7s/step\n",
      "Epoch 9/50\n",
      "64/64 - 416s - loss: 1.3952 - accuracy: 0.2866 - val_loss: 1.3959 - val_accuracy: 0.2550 - 416s/epoch - 6s/step\n",
      "Epoch 10/50\n",
      "64/64 - 466s - loss: 1.3788 - accuracy: 0.2991 - val_loss: 1.7658 - val_accuracy: 0.2575 - 466s/epoch - 7s/step\n",
      "Epoch 11/50\n",
      "64/64 - 415s - loss: 1.3696 - accuracy: 0.3100 - val_loss: 1.6495 - val_accuracy: 0.2037 - 415s/epoch - 6s/step\n",
      "Epoch 12/50\n",
      "64/64 - 420s - loss: 1.3580 - accuracy: 0.3075 - val_loss: 1.3735 - val_accuracy: 0.3350 - 420s/epoch - 7s/step\n",
      "Epoch 13/50\n",
      "64/64 - 410s - loss: 1.3584 - accuracy: 0.3262 - val_loss: 1.2747 - val_accuracy: 0.4187 - 410s/epoch - 6s/step\n",
      "Epoch 14/50\n",
      "64/64 - 428s - loss: 1.3207 - accuracy: 0.3566 - val_loss: 2.4922 - val_accuracy: 0.3875 - 428s/epoch - 7s/step\n",
      "Epoch 15/50\n",
      "64/64 - 449s - loss: 1.2841 - accuracy: 0.3875 - val_loss: 1.2752 - val_accuracy: 0.3988 - 449s/epoch - 7s/step\n",
      "Epoch 16/50\n",
      "64/64 - 411s - loss: 1.2299 - accuracy: 0.3981 - val_loss: 1.1403 - val_accuracy: 0.4725 - 411s/epoch - 6s/step\n",
      "Epoch 17/50\n",
      "64/64 - 400s - loss: 1.1788 - accuracy: 0.4144 - val_loss: 1.1145 - val_accuracy: 0.4575 - 400s/epoch - 6s/step\n",
      "Epoch 18/50\n",
      "64/64 - 398s - loss: 1.1569 - accuracy: 0.4187 - val_loss: 14.0939 - val_accuracy: 0.3750 - 398s/epoch - 6s/step\n",
      "Epoch 19/50\n",
      "64/64 - 408s - loss: 1.2190 - accuracy: 0.4078 - val_loss: 1.0823 - val_accuracy: 0.4688 - 408s/epoch - 6s/step\n",
      "Epoch 20/50\n",
      "64/64 - 435s - loss: 1.1254 - accuracy: 0.4384 - val_loss: 1.3424 - val_accuracy: 0.3300 - 435s/epoch - 7s/step\n",
      "Epoch 21/50\n",
      "64/64 - 427s - loss: 1.1304 - accuracy: 0.4353 - val_loss: 1.2897 - val_accuracy: 0.3338 - 427s/epoch - 7s/step\n",
      "Epoch 22/50\n",
      "64/64 - 435s - loss: 1.0894 - accuracy: 0.4459 - val_loss: 1.0471 - val_accuracy: 0.4625 - 435s/epoch - 7s/step\n",
      "Epoch 23/50\n",
      "64/64 - 434s - loss: 1.1085 - accuracy: 0.4397 - val_loss: 1.2102 - val_accuracy: 0.3738 - 434s/epoch - 7s/step\n",
      "Epoch 24/50\n",
      "64/64 - 414s - loss: 1.0843 - accuracy: 0.4416 - val_loss: 1.1295 - val_accuracy: 0.4150 - 414s/epoch - 6s/step\n",
      "Epoch 25/50\n",
      "64/64 - 435s - loss: 1.0907 - accuracy: 0.4381 - val_loss: 1.4365 - val_accuracy: 0.2562 - 435s/epoch - 7s/step\n",
      "Epoch 26/50\n",
      "64/64 - 427s - loss: 1.0893 - accuracy: 0.4494 - val_loss: 1.4494 - val_accuracy: 0.2512 - 427s/epoch - 7s/step\n",
      "Epoch 27/50\n",
      "64/64 - 411s - loss: 1.1175 - accuracy: 0.4391 - val_loss: 1.2043 - val_accuracy: 0.3750 - 411s/epoch - 6s/step\n",
      "Epoch 28/50\n",
      "64/64 - 413s - loss: 1.0740 - accuracy: 0.4569 - val_loss: 1.3744 - val_accuracy: 0.2912 - 413s/epoch - 6s/step\n",
      "Epoch 29/50\n",
      "64/64 - 410s - loss: 1.0153 - accuracy: 0.4797 - val_loss: 1.1616 - val_accuracy: 0.3887 - 410s/epoch - 6s/step\n",
      "Epoch 30/50\n",
      "64/64 - 412s - loss: 1.0071 - accuracy: 0.4825 - val_loss: 1.1134 - val_accuracy: 0.5325 - 412s/epoch - 6s/step\n",
      "Epoch 31/50\n",
      "64/64 - 414s - loss: 0.9891 - accuracy: 0.4863 - val_loss: 0.9926 - val_accuracy: 0.5150 - 414s/epoch - 6s/step\n",
      "Epoch 32/50\n",
      "64/64 - 415s - loss: 0.9911 - accuracy: 0.4925 - val_loss: 1.5060 - val_accuracy: 0.2463 - 415s/epoch - 6s/step\n",
      "Epoch 33/50\n",
      "64/64 - 419s - loss: 1.1196 - accuracy: 0.4566 - val_loss: 3.2490 - val_accuracy: 0.3363 - 419s/epoch - 7s/step\n",
      "Epoch 34/50\n",
      "64/64 - 404s - loss: 1.1209 - accuracy: 0.5003 - val_loss: 1.5585 - val_accuracy: 0.2500 - 404s/epoch - 6s/step\n",
      "Epoch 35/50\n",
      "64/64 - 398s - loss: 1.0321 - accuracy: 0.4825 - val_loss: 2.6394 - val_accuracy: 0.4888 - 398s/epoch - 6s/step\n",
      "Epoch 36/50\n",
      "64/64 - 398s - loss: 1.0434 - accuracy: 0.4997 - val_loss: 1.4283 - val_accuracy: 0.2850 - 398s/epoch - 6s/step\n",
      "Epoch 37/50\n",
      "64/64 - 398s - loss: 1.0142 - accuracy: 0.5134 - val_loss: 0.9948 - val_accuracy: 0.4825 - 398s/epoch - 6s/step\n",
      "Epoch 38/50\n",
      "64/64 - 399s - loss: 0.9852 - accuracy: 0.5362 - val_loss: 1.0334 - val_accuracy: 0.4613 - 399s/epoch - 6s/step\n",
      "Epoch 39/50\n",
      "64/64 - 398s - loss: 0.9854 - accuracy: 0.5359 - val_loss: 1.9838 - val_accuracy: 0.6075 - 398s/epoch - 6s/step\n",
      "Epoch 40/50\n",
      "64/64 - 398s - loss: 0.9775 - accuracy: 0.5584 - val_loss: 1.0608 - val_accuracy: 0.5050 - 398s/epoch - 6s/step\n",
      "Epoch 41/50\n",
      "64/64 - 409s - loss: 0.9290 - accuracy: 0.5838 - val_loss: 0.9696 - val_accuracy: 0.5562 - 409s/epoch - 6s/step\n",
      "Epoch 42/50\n",
      "64/64 - 409s - loss: 0.9243 - accuracy: 0.5925 - val_loss: 0.9019 - val_accuracy: 0.5487 - 409s/epoch - 6s/step\n",
      "Epoch 43/50\n",
      "64/64 - 409s - loss: 0.9601 - accuracy: 0.5750 - val_loss: 0.8853 - val_accuracy: 0.6525 - 409s/epoch - 6s/step\n",
      "Epoch 44/50\n",
      "64/64 - 433s - loss: 0.9065 - accuracy: 0.5978 - val_loss: 1.2794 - val_accuracy: 0.6325 - 433s/epoch - 7s/step\n",
      "Epoch 45/50\n",
      "64/64 - 436s - loss: 0.8667 - accuracy: 0.6247 - val_loss: 0.8834 - val_accuracy: 0.6012 - 436s/epoch - 7s/step\n",
      "Epoch 46/50\n",
      "64/64 - 440s - loss: 0.8755 - accuracy: 0.6091 - val_loss: 1.0403 - val_accuracy: 0.4650 - 440s/epoch - 7s/step\n",
      "Epoch 47/50\n",
      "64/64 - 409s - loss: 1.0460 - accuracy: 0.5553 - val_loss: 160.6698 - val_accuracy: 0.2275 - 409s/epoch - 6s/step\n",
      "Epoch 48/50\n",
      "64/64 - 411s - loss: 0.8833 - accuracy: 0.6128 - val_loss: 1.1108 - val_accuracy: 0.4325 - 411s/epoch - 6s/step\n",
      "Epoch 49/50\n",
      "64/64 - 424s - loss: 0.8606 - accuracy: 0.6275 - val_loss: 0.8329 - val_accuracy: 0.7125 - 424s/epoch - 7s/step\n",
      "Epoch 50/50\n",
      "64/64 - 419s - loss: 0.8577 - accuracy: 0.6375 - val_loss: 13.4481 - val_accuracy: 0.4550 - 419s/epoch - 7s/step\n"
     ]
    }
   ],
   "source": [
    "es3=EarlyStopping(patience=10, restore_best_weights=True)\n",
    "cp3=ModelCheckpoint('best_travel_cnn_ResNet50.h5')\n",
    "cnn_history3=model3.fit(X_train, y_train, batch_size=50, epochs=50, validation_data=(X_test, y_test),\n",
    "                      callbacks=[es3, cp3], verbose=2)"
   ]
  },
  {
   "cell_type": "code",
   "execution_count": 70,
   "id": "4b9175fb",
   "metadata": {},
   "outputs": [
    {
     "data": {
      "text/plain": [
       "<matplotlib.legend.Legend at 0x1fd00659688>"
      ]
     },
     "execution_count": 70,
     "metadata": {},
     "output_type": "execute_result"
    },
    {
     "data": {
      "image/png": "[encoded data removed]",
      "text/plain": [
       "<Figure size 864x288 with 2 Axes>"
      ]
     },
     "metadata": {
      "needs_background": "light"
     },
     "output_type": "display_data"
    }
   ],
   "source": [
    "# cnn_history pationce=5\n",
    "plt.figure(figsize=(12, 4))\n",
    "plt.subplot(1, 2, 1) # 1행 2열의 도표, 1열\n",
    "plt.plot(cnn_history3.history['accuracy'])\n",
    "plt.plot(cnn_history3.history['val_accuracy'])\n",
    "plt.title('model acc')\n",
    "plt.xlabel('epoch')\n",
    "plt.ylabel('acc')\n",
    "plt.legend(['train_acc', 'test_acc'])\n",
    "plt.subplot(1, 2, 2) # 1행 2열의 도표, 2열\n",
    "plt.plot(cnn_history3.history['loss'])\n",
    "plt.plot(cnn_history3.history['val_loss'])\n",
    "plt.title('model loss')\n",
    "plt.xlabel('epoch')\n",
    "plt.ylabel('loss')\n",
    "plt.legend(['train_loss', 'test_loss'])"
   ]
  },
  {
   "cell_type": "markdown",
   "id": "49184c5a",
   "metadata": {},
   "source": [
    "## 전이학습 model3 pationce=10 시각화"
   ]
  },
  {
   "cell_type": "code",
   "execution_count": 48,
   "id": "e90be987",
   "metadata": {},
   "outputs": [
    {
     "name": "stdout",
     "output_type": "stream",
     "text": [
      "25/25 [==============================] - 18s 696ms/step - loss: 13.4481 - accuracy: 0.4550\n"
     ]
    }
   ],
   "source": [
    "test_result3=model3.evaluate(X_test, y_test)"
   ]
  },
  {
   "cell_type": "code",
   "execution_count": 36,
   "id": "290db15d",
   "metadata": {},
   "outputs": [],
   "source": [
    "# 다중 분류에서는 predict를 할 때 각 항목이 될 가능성을 계산해준다.\n",
    "y_pred3=model3.predict(X_test)"
   ]
  },
  {
   "cell_type": "code",
   "execution_count": 37,
   "id": "8a6a8e8a",
   "metadata": {},
   "outputs": [],
   "source": [
    "y_pred_test3=np.argmax(y_pred3, axis=-1)"
   ]
  },
  {
   "cell_type": "code",
   "execution_count": 38,
   "id": "f203c04f",
   "metadata": {},
   "outputs": [
    {
     "name": "stdout",
     "output_type": "stream",
     "text": [
      "[[204  12  46 170]\n",
      " [  0  96  65   5]\n",
      " [  1  40  30   2]\n",
      " [  1  49  45  34]]\n"
     ]
    }
   ],
   "source": [
    "print(confusion_matrix(y_pred_test3, y_test))"
   ]
  },
  {
   "cell_type": "code",
   "execution_count": 39,
   "id": "5af4dd6d",
   "metadata": {},
   "outputs": [],
   "source": [
    "df3=pd.DataFrame(confusion_matrix(y_pred_test3, y_test))"
   ]
  },
  {
   "cell_type": "code",
   "execution_count": 41,
   "id": "70f1af8f",
   "metadata": {},
   "outputs": [],
   "source": [
    "# 각 travel image의 적중률 리스트\n",
    "score_list3=[]\n",
    "for i in range(4):\n",
    "    score_list3.append(round((df3.iloc[i,i]/df3.sum(axis=1)[i])*100, 2))"
   ]
  },
  {
   "cell_type": "code",
   "execution_count": 42,
   "id": "41127f85",
   "metadata": {},
   "outputs": [
    {
     "data": {
      "text/plain": [
       "[47.22, 57.83, 41.1, 26.36]"
      ]
     },
     "execution_count": 42,
     "metadata": {},
     "output_type": "execute_result"
    }
   ],
   "source": [
    "score_list3"
   ]
  },
  {
   "cell_type": "code",
   "execution_count": 43,
   "id": "f846d07f",
   "metadata": {},
   "outputs": [],
   "source": [
    "target_names = ['architecture', 'art_and_culture', 'food_and_drinks', 'travel_and_adventure']"
   ]
  },
  {
   "cell_type": "code",
   "execution_count": 47,
   "id": "666ecb89",
   "metadata": {},
   "outputs": [
    {
     "data": {
      "image/png": "[encoded data removed]",
      "text/plain": [
       "<Figure size 576x432 with 1 Axes>"
      ]
     },
     "metadata": {
      "needs_background": "light"
     },
     "output_type": "display_data"
    }
   ],
   "source": [
    "# 각 이미지의 적중률\n",
    "plt.figure(figsize=(8,6))\n",
    "x = target_names\n",
    "fashon_type = target_names\n",
    "values = score_list3\n",
    "colors = ['y', 'dodgerblue', 'C2', 'violet', 'brown', 'indigo', 'aquamarine', 'orange', 'khaki', 'slategray']\n",
    "\n",
    "plt.bar(x, values, color=colors)\n",
    "plt.xticks(x, fashon_type)\n",
    "plt.ylim([20, 80])\n",
    "\n",
    "for i, v in enumerate(x):\n",
    "    plt.text(v, values[i], values[i],                 # 좌표 (x축 = v, y축 = y[0]..y[1], 표시 = y[0]..y[1])\n",
    "             fontsize = 15, \n",
    "             color='red',\n",
    "             horizontalalignment='center',  # horizontalalignment (left, center, right)\n",
    "             verticalalignment='bottom')    # verticalalignment (top, center, bottom)\n",
    "\n",
    "plt.show()"
   ]
  },
  {
   "cell_type": "code",
   "execution_count": 33,
   "id": "4cbf118f",
   "metadata": {},
   "outputs": [
    {
     "data": {
      "text/plain": [
       "<matplotlib.legend.Legend at 0x1dca58ae6c8>"
      ]
     },
     "execution_count": 33,
     "metadata": {},
     "output_type": "execute_result"
    },
    {
     "data": {
      "image/png": "[encoded data removed]",
      "text/plain": [
       "<Figure size 864x288 with 2 Axes>"
      ]
     },
     "metadata": {
      "needs_background": "light"
     },
     "output_type": "display_data"
    }
   ],
   "source": [
    "# cnn_history pationce=10\n",
    "plt.figure(figsize=(12, 4))\n",
    "plt.subplot(1, 2, 1) # 1행 2열의 도표, 1열\n",
    "plt.plot(cnn_history3.history['accuracy'])\n",
    "plt.plot(cnn_history3.history['val_accuracy'])\n",
    "plt.title('model acc')\n",
    "plt.xlabel('epoch')\n",
    "plt.ylabel('acc')\n",
    "plt.legend(['train_acc', 'test_acc'])\n",
    "plt.subplot(1, 2, 2) # 1행 2열의 도표, 2열\n",
    "plt.plot(cnn_history3.history['loss'])\n",
    "plt.plot(cnn_history3.history['val_loss'])\n",
    "plt.title('model loss')\n",
    "plt.xlabel('epoch')\n",
    "plt.ylabel('loss')\n",
    "plt.legend(['train_loss', 'test_loss'])"
   ]
  },
  {
   "cell_type": "code",
   "execution_count": null,
   "id": "d6331443",
   "metadata": {},
   "outputs": [],
   "source": []
  }
 ],
 "metadata": {
  "kernelspec": {
   "display_name": "Python 3 (ipykernel)",
   "language": "python",
   "name": "python3"
  },
  "language_info": {
   "codemirror_mode": {
    "name": "ipython",
    "version": 3
   },
   "file_extension": ".py",
   "mimetype": "text/x-python",
   "name": "python",
   "nbconvert_exporter": "python",
   "pygments_lexer": "ipython3",
   "version": "3.7.4"
  }
 },
 "nbformat": 4,
 "nbformat_minor": 5
}
