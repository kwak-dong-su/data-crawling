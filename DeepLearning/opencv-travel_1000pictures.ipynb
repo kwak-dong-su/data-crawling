{
 "cells": [
  {
   "cell_type": "code",
   "execution_count": 1,
   "id": "90ff95c6",
   "metadata": {},
   "outputs": [],
   "source": [
    "import numpy as np\n",
    "import os"
   ]
  },
  {
   "cell_type": "code",
   "execution_count": 2,
   "id": "48512f9f",
   "metadata": {},
   "outputs": [],
   "source": [
    "os.chdir('D:/travel_images')"
   ]
  },
  {
   "cell_type": "code",
   "execution_count": 3,
   "id": "d53e2d7f",
   "metadata": {},
   "outputs": [],
   "source": [
    "data_dir=os.getcwd()"
   ]
  },
  {
   "cell_type": "code",
   "execution_count": 4,
   "id": "e0cc34aa",
   "metadata": {},
   "outputs": [],
   "source": [
    "import glob"
   ]
  },
  {
   "cell_type": "code",
   "execution_count": 5,
   "id": "fa863102",
   "metadata": {},
   "outputs": [],
   "source": [
    "architecture_list=glob.glob('architecture*.*')\n",
    "art_and_culture_list=glob.glob('art_and_culture*.*')\n",
    "food_and_drinks_list=glob.glob('food_and_drinks*.*')\n",
    "travel_and_adventure_list=glob.glob('travel_and_adventure*.*')"
   ]
  },
  {
   "cell_type": "code",
   "execution_count": 6,
   "id": "db423b91",
   "metadata": {},
   "outputs": [
    {
     "data": {
      "text/plain": [
       "(8763, 8695, 8774, 1151)"
      ]
     },
     "execution_count": 6,
     "metadata": {},
     "output_type": "execute_result"
    }
   ],
   "source": [
    "len(architecture_list),len(art_and_culture_list), len(food_and_drinks_list), len(travel_and_adventure_list)"
   ]
  },
  {
   "cell_type": "code",
   "execution_count": 7,
   "id": "19110619",
   "metadata": {},
   "outputs": [
    {
     "name": "stdout",
     "output_type": "stream",
     "text": [
      "27383\n"
     ]
    }
   ],
   "source": [
    "print(len(architecture_list)+len(art_and_culture_list)+len(food_and_drinks_list)+len(travel_and_adventure_list))"
   ]
  },
  {
   "cell_type": "code",
   "execution_count": 8,
   "id": "06e03457",
   "metadata": {},
   "outputs": [],
   "source": [
    "data_list=architecture_list[:1000]+art_and_culture_list[:1000]+food_and_drinks_list[:1000]+travel_and_adventure_list[:1000]"
   ]
  },
  {
   "cell_type": "code",
   "execution_count": 9,
   "id": "3b8ef5a2",
   "metadata": {
    "scrolled": true
   },
   "outputs": [
    {
     "data": {
      "text/plain": [
       "4000"
      ]
     },
     "execution_count": 9,
     "metadata": {},
     "output_type": "execute_result"
    }
   ],
   "source": [
    "len(data_list)"
   ]
  },
  {
   "cell_type": "code",
   "execution_count": 10,
   "id": "85e2f59a",
   "metadata": {},
   "outputs": [
    {
     "name": "stderr",
     "output_type": "stream",
     "text": [
      "C:\\ProgramData\\Anaconda3\\lib\\site-packages\\requests\\__init__.py:91: RequestsDependencyWarning: urllib3 (1.25.11) or chardet (4.0.0) doesn't match a supported version!\n",
      "  RequestsDependencyWarning)\n"
     ]
    }
   ],
   "source": [
    "from tensorflow.keras.preprocessing.text import text_to_word_sequence"
   ]
  },
  {
   "cell_type": "code",
   "execution_count": 11,
   "id": "fe10ffed",
   "metadata": {},
   "outputs": [],
   "source": [
    "label=[]\n",
    "for x in data_list:\n",
    "    label.append(text_to_word_sequence(x, filters='()')[0])"
   ]
  },
  {
   "cell_type": "code",
   "execution_count": 12,
   "id": "bfb4f94e",
   "metadata": {},
   "outputs": [],
   "source": [
    "# 라벨 인코더 - 카테고리형 문자를 숫자로 자동 변환해주는 역할\n",
    "from sklearn.preprocessing import LabelEncoder"
   ]
  },
  {
   "cell_type": "code",
   "execution_count": 13,
   "id": "a5c8d4dc",
   "metadata": {},
   "outputs": [],
   "source": [
    "encoder=LabelEncoder()\n",
    "label_encode=encoder.fit_transform(label)"
   ]
  },
  {
   "cell_type": "code",
   "execution_count": 14,
   "id": "6daff244",
   "metadata": {},
   "outputs": [
    {
     "data": {
      "text/plain": [
       "array(['architecture', 'art_and_culture', 'food_and_drinks',\n",
       "       'travel_and_adventure'], dtype='<U20')"
      ]
     },
     "execution_count": 14,
     "metadata": {},
     "output_type": "execute_result"
    }
   ],
   "source": [
    "encoder.classes_ # 인코딩된 분류 이름들"
   ]
  },
  {
   "cell_type": "code",
   "execution_count": 15,
   "id": "12284057",
   "metadata": {},
   "outputs": [
    {
     "name": "stderr",
     "output_type": "stream",
     "text": [
      "\n",
      "Bad key text.latex.preview in file C:\\ProgramData\\Anaconda3\\lib\\site-packages\\matplotlib\\mpl-data\\stylelib\\_classic_test.mplstyle, line 123 ('text.latex.preview : False')\n",
      "You probably need to get an updated matplotlibrc file from\n",
      "https://github.com/matplotlib/matplotlib/blob/v3.5.1/matplotlibrc.template\n",
      "or from the matplotlib source distribution\n",
      "\n",
      "Bad key mathtext.fallback_to_cm in file C:\\ProgramData\\Anaconda3\\lib\\site-packages\\matplotlib\\mpl-data\\stylelib\\_classic_test.mplstyle, line 155 ('mathtext.fallback_to_cm : True  # When True, use symbols from the Computer Modern')\n",
      "You probably need to get an updated matplotlibrc file from\n",
      "https://github.com/matplotlib/matplotlib/blob/v3.5.1/matplotlibrc.template\n",
      "or from the matplotlib source distribution\n",
      "\n",
      "Bad key savefig.jpeg_quality in file C:\\ProgramData\\Anaconda3\\lib\\site-packages\\matplotlib\\mpl-data\\stylelib\\_classic_test.mplstyle, line 418 ('savefig.jpeg_quality: 95       # when a jpeg is saved, the default quality parameter.')\n",
      "You probably need to get an updated matplotlibrc file from\n",
      "https://github.com/matplotlib/matplotlib/blob/v3.5.1/matplotlibrc.template\n",
      "or from the matplotlib source distribution\n",
      "\n",
      "Bad key keymap.all_axes in file C:\\ProgramData\\Anaconda3\\lib\\site-packages\\matplotlib\\mpl-data\\stylelib\\_classic_test.mplstyle, line 466 ('keymap.all_axes : a                 # enable all axes')\n",
      "You probably need to get an updated matplotlibrc file from\n",
      "https://github.com/matplotlib/matplotlib/blob/v3.5.1/matplotlibrc.template\n",
      "or from the matplotlib source distribution\n",
      "\n",
      "Bad key animation.avconv_path in file C:\\ProgramData\\Anaconda3\\lib\\site-packages\\matplotlib\\mpl-data\\stylelib\\_classic_test.mplstyle, line 477 ('animation.avconv_path: avconv     # Path to avconv binary. Without full path')\n",
      "You probably need to get an updated matplotlibrc file from\n",
      "https://github.com/matplotlib/matplotlib/blob/v3.5.1/matplotlibrc.template\n",
      "or from the matplotlib source distribution\n",
      "\n",
      "Bad key animation.avconv_args in file C:\\ProgramData\\Anaconda3\\lib\\site-packages\\matplotlib\\mpl-data\\stylelib\\_classic_test.mplstyle, line 479 ('animation.avconv_args:            # Additional arguments to pass to avconv')\n",
      "You probably need to get an updated matplotlibrc file from\n",
      "https://github.com/matplotlib/matplotlib/blob/v3.5.1/matplotlibrc.template\n",
      "or from the matplotlib source distribution\n"
     ]
    }
   ],
   "source": [
    "import cv2\n",
    "import matplotlib.pyplot as plt"
   ]
  },
  {
   "cell_type": "code",
   "execution_count": 16,
   "id": "f1f622eb",
   "metadata": {},
   "outputs": [],
   "source": [
    "# 크기를 동일하게 맞추어 변경해주자\n",
    "data_height=150\n",
    "data_width=150\n",
    "channel_n=3 # 컬러 색상으로 설정"
   ]
  },
  {
   "cell_type": "code",
   "execution_count": 17,
   "id": "93d35651",
   "metadata": {},
   "outputs": [],
   "source": [
    "# 읽어온 이미지 목록을 넣으면 라벨링, 스케일링, 리사이징하는 함수 선언\n",
    "def make_file(data_height, data_width, channel_n, data_list_len): # 높이, 너비, 컬러, 리스트 길이\n",
    "    # 라벨링한 결과를 넣을 1차원 리스트\n",
    "    label=[]\n",
    "    # 4차원으로 만들기 위한 4차원 리스트 필요\n",
    "    images=np.zeros((data_list_len, data_height, data_width, channel_n))\n",
    "    # 이미지 리스트에서 하나씩 꺼내서 라벨링, 스케일링, 리사이징\n",
    "    for i, image in enumerate(data_list):\n",
    "        # 라벨링 : dog.01.jpg\n",
    "        tokens=text_to_word_sequence(image, filters='()')\n",
    "        label.append(tokens[0])\n",
    "        \n",
    "        # 읽어서 스케일링, 리사이징 \n",
    "        image=cv2.imread(image) /255 #읽기, 스케일링\n",
    "        image=cv2.resize(image, (data_height, data_width)) #리사이징\n",
    "        # 4차원 리스트에 하나씩 append\n",
    "        images[i, :, :, :]=image\n",
    "    label2=np.array(label)\n",
    "    return label2, images"
   ]
  },
  {
   "cell_type": "code",
   "execution_count": 18,
   "id": "64e2f1eb",
   "metadata": {},
   "outputs": [],
   "source": [
    "labels, images=make_file(data_height, data_width, channel_n, len(data_list))"
   ]
  },
  {
   "cell_type": "code",
   "execution_count": 19,
   "id": "be43c86d",
   "metadata": {},
   "outputs": [
    {
     "data": {
      "text/plain": [
       "array(['architecture', 'architecture', 'architecture', ...,\n",
       "       'travel_and_adventure', 'travel_and_adventure',\n",
       "       'travel_and_adventure'], dtype='<U20')"
      ]
     },
     "execution_count": 19,
     "metadata": {},
     "output_type": "execute_result"
    }
   ],
   "source": [
    "labels"
   ]
  },
  {
   "cell_type": "code",
   "execution_count": 20,
   "id": "bbcb6a50",
   "metadata": {
    "scrolled": true
   },
   "outputs": [
    {
     "data": {
      "text/plain": [
       "(4000,)"
      ]
     },
     "execution_count": 20,
     "metadata": {},
     "output_type": "execute_result"
    }
   ],
   "source": [
    "labels.shape"
   ]
  },
  {
   "cell_type": "code",
   "execution_count": 21,
   "id": "b6ca19c8",
   "metadata": {},
   "outputs": [
    {
     "data": {
      "text/plain": [
       "(4000, 150, 150, 3)"
      ]
     },
     "execution_count": 21,
     "metadata": {},
     "output_type": "execute_result"
    }
   ],
   "source": [
    "images.shape"
   ]
  },
  {
   "cell_type": "code",
   "execution_count": 22,
   "id": "dc2867ec",
   "metadata": {},
   "outputs": [],
   "source": [
    "from sklearn.model_selection import train_test_split"
   ]
  },
  {
   "cell_type": "code",
   "execution_count": 23,
   "id": "bd5c4c2c",
   "metadata": {},
   "outputs": [],
   "source": [
    "X_train, X_test, y_train, y_test = train_test_split(images, label_encode, test_size= 0.2, random_state=55)"
   ]
  },
  {
   "cell_type": "code",
   "execution_count": 24,
   "id": "4e06f5d5",
   "metadata": {},
   "outputs": [
    {
     "name": "stdout",
     "output_type": "stream",
     "text": [
      "(3200, 150, 150, 3) (800, 150, 150, 3)\n"
     ]
    }
   ],
   "source": [
    "print(X_train.shape, X_test.shape)"
   ]
  },
  {
   "cell_type": "code",
   "execution_count": 25,
   "id": "15b26bb8",
   "metadata": {},
   "outputs": [
    {
     "data": {
      "text/plain": [
       "array([1, 0, 2, ..., 0, 0, 0], dtype=int64)"
      ]
     },
     "execution_count": 25,
     "metadata": {},
     "output_type": "execute_result"
    }
   ],
   "source": [
    "y_train"
   ]
  },
  {
   "cell_type": "code",
   "execution_count": 26,
   "id": "07b46012",
   "metadata": {},
   "outputs": [],
   "source": [
    "# 딥러닝 모델 만들기\n",
    "from tensorflow.keras.layers import *\n",
    "from tensorflow.keras.models import Sequential\n",
    "from tensorflow.keras.callbacks import EarlyStopping, ModelCheckpoint"
   ]
  },
  {
   "cell_type": "code",
   "execution_count": 27,
   "id": "505d887b",
   "metadata": {},
   "outputs": [],
   "source": [
    "model=Sequential()\n",
    "# 특성 추출 레이어를 쌓아준다.\n",
    "model.add(Conv2D(32, (3, 3), activation='relu', input_shape=(data_height, data_width, 3)))\n",
    "model.add(MaxPool2D((2,2)))\n",
    "model.add(Conv2D(64, (3, 3), activation='relu'))\n",
    "model.add(MaxPool2D((2,2)))\n",
    "\n",
    "# 딥러닝 학습 레이어를 쌓아준다.\n",
    "# 입력 -- 은닉 -- 출력 순서대로 쌓아준다.\n",
    "\n",
    "# 입력층(1개) => 1차원이어야함\n",
    "model.add(Flatten()) # 이미지 데이터를 1차원으로 만들어주는 객체\n",
    "\n",
    "# 은닉층\n",
    "model.add(Dense(64, activation='relu'))\n",
    "model.add(Dropout(rate=0.5)) \n",
    "model.add(Dense(32, activation='relu'))\n",
    "model.add(Dropout(rate=0.5))\n",
    "model.add(Dense(16, activation='relu'))\n",
    "model.add(Dropout(rate=0.5))\n",
    "\n",
    "# 출력층(1개) => 딥러닝하는 학습의 종류에 따라 다르게 써주어야 함\n",
    "# 이진 분류인 경우(1, sigmoid)\n",
    "# 다중 분류인 경우(n, softmax)\n",
    "# 회귀인 경우(1, linear)\n",
    "model.add(Dense(4, activation='softmax')) #결과가 엘리먼트로 출력됨. 0.5를 기준으로 판별"
   ]
  },
  {
   "cell_type": "code",
   "execution_count": 28,
   "id": "79f5749b",
   "metadata": {},
   "outputs": [
    {
     "name": "stdout",
     "output_type": "stream",
     "text": [
      "Model: \"sequential\"\n",
      "_________________________________________________________________\n",
      " Layer (type)                Output Shape              Param #   \n",
      "=================================================================\n",
      " conv2d (Conv2D)             (None, 148, 148, 32)      896       \n",
      "                                                                 \n",
      " max_pooling2d (MaxPooling2D  (None, 74, 74, 32)       0         \n",
      " )                                                               \n",
      "                                                                 \n",
      " conv2d_1 (Conv2D)           (None, 72, 72, 64)        18496     \n",
      "                                                                 \n",
      " max_pooling2d_1 (MaxPooling  (None, 36, 36, 64)       0         \n",
      " 2D)                                                             \n",
      "                                                                 \n",
      " flatten (Flatten)           (None, 82944)             0         \n",
      "                                                                 \n",
      " dense (Dense)               (None, 64)                5308480   \n",
      "                                                                 \n",
      " dropout (Dropout)           (None, 64)                0         \n",
      "                                                                 \n",
      " dense_1 (Dense)             (None, 32)                2080      \n",
      "                                                                 \n",
      " dropout_1 (Dropout)         (None, 32)                0         \n",
      "                                                                 \n",
      " dense_2 (Dense)             (None, 16)                528       \n",
      "                                                                 \n",
      " dropout_2 (Dropout)         (None, 16)                0         \n",
      "                                                                 \n",
      " dense_3 (Dense)             (None, 4)                 68        \n",
      "                                                                 \n",
      "=================================================================\n",
      "Total params: 5,330,548\n",
      "Trainable params: 5,330,548\n",
      "Non-trainable params: 0\n",
      "_________________________________________________________________\n"
     ]
    }
   ],
   "source": [
    "model.summary()"
   ]
  },
  {
   "cell_type": "code",
   "execution_count": 29,
   "id": "55cdfd23",
   "metadata": {},
   "outputs": [],
   "source": [
    "model.compile(optimizer='adam', loss='sparse_categorical_crossentropy', metrics=['accuracy'])"
   ]
  },
  {
   "cell_type": "code",
   "execution_count": 31,
   "id": "ad8dd6d9",
   "metadata": {},
   "outputs": [
    {
     "name": "stdout",
     "output_type": "stream",
     "text": [
      "Epoch 1/50\n",
      "25/25 - 30s - loss: 1.3180 - accuracy: 0.3537 - val_loss: 1.2371 - val_accuracy: 0.4575 - 30s/epoch - 1s/step\n",
      "Epoch 2/50\n",
      "25/25 - 29s - loss: 1.3109 - accuracy: 0.3559 - val_loss: 1.2862 - val_accuracy: 0.4350 - 29s/epoch - 1s/step\n",
      "Epoch 3/50\n",
      "25/25 - 29s - loss: 1.2738 - accuracy: 0.3891 - val_loss: 1.1768 - val_accuracy: 0.4875 - 29s/epoch - 1s/step\n",
      "Epoch 4/50\n",
      "25/25 - 29s - loss: 1.2504 - accuracy: 0.4016 - val_loss: 1.1651 - val_accuracy: 0.4688 - 29s/epoch - 1s/step\n",
      "Epoch 5/50\n",
      "25/25 - 28s - loss: 1.2395 - accuracy: 0.4178 - val_loss: 1.1307 - val_accuracy: 0.4963 - 28s/epoch - 1s/step\n",
      "Epoch 6/50\n",
      "25/25 - 28s - loss: 1.1679 - accuracy: 0.4466 - val_loss: 1.1006 - val_accuracy: 0.5587 - 28s/epoch - 1s/step\n",
      "Epoch 7/50\n",
      "25/25 - 29s - loss: 1.1693 - accuracy: 0.4487 - val_loss: 1.0526 - val_accuracy: 0.5462 - 29s/epoch - 1s/step\n",
      "Epoch 8/50\n",
      "25/25 - 29s - loss: 1.1179 - accuracy: 0.4863 - val_loss: 1.0633 - val_accuracy: 0.6100 - 29s/epoch - 1s/step\n",
      "Epoch 9/50\n",
      "25/25 - 29s - loss: 1.0748 - accuracy: 0.5297 - val_loss: 0.9576 - val_accuracy: 0.6037 - 29s/epoch - 1s/step\n",
      "Epoch 10/50\n",
      "25/25 - 29s - loss: 0.9957 - accuracy: 0.5678 - val_loss: 0.9666 - val_accuracy: 0.5775 - 29s/epoch - 1s/step\n",
      "Epoch 11/50\n",
      "25/25 - 32s - loss: 1.0075 - accuracy: 0.5638 - val_loss: 0.9282 - val_accuracy: 0.6625 - 32s/epoch - 1s/step\n",
      "Epoch 12/50\n",
      "25/25 - 29s - loss: 0.9263 - accuracy: 0.6222 - val_loss: 0.9301 - val_accuracy: 0.6600 - 29s/epoch - 1s/step\n",
      "Epoch 13/50\n",
      "25/25 - 29s - loss: 0.8831 - accuracy: 0.6231 - val_loss: 0.8679 - val_accuracy: 0.6900 - 29s/epoch - 1s/step\n",
      "Epoch 14/50\n",
      "25/25 - 29s - loss: 0.8484 - accuracy: 0.6475 - val_loss: 1.1511 - val_accuracy: 0.6400 - 29s/epoch - 1s/step\n",
      "Epoch 15/50\n",
      "25/25 - 29s - loss: 0.8651 - accuracy: 0.6306 - val_loss: 0.8663 - val_accuracy: 0.6925 - 29s/epoch - 1s/step\n",
      "Epoch 16/50\n",
      "25/25 - 31s - loss: 0.7895 - accuracy: 0.6791 - val_loss: 0.8514 - val_accuracy: 0.6900 - 31s/epoch - 1s/step\n",
      "Epoch 17/50\n",
      "25/25 - 32s - loss: 0.7471 - accuracy: 0.6931 - val_loss: 0.8194 - val_accuracy: 0.7262 - 32s/epoch - 1s/step\n",
      "Epoch 18/50\n",
      "25/25 - 29s - loss: 0.7048 - accuracy: 0.6969 - val_loss: 1.0072 - val_accuracy: 0.6875 - 29s/epoch - 1s/step\n",
      "Epoch 19/50\n",
      "25/25 - 33s - loss: 0.7016 - accuracy: 0.7056 - val_loss: 0.9548 - val_accuracy: 0.6913 - 33s/epoch - 1s/step\n",
      "Epoch 20/50\n",
      "25/25 - 31s - loss: 0.6439 - accuracy: 0.7234 - val_loss: 0.8730 - val_accuracy: 0.7387 - 31s/epoch - 1s/step\n"
     ]
    }
   ],
   "source": [
    "es=EarlyStopping(patience=3, restore_best_weights=True)\n",
    "cp=ModelCheckpoint('best_travel_cnn.h5')\n",
    "cnn_history=model.fit(X_train, y_train, batch_size=128, epochs=50, validation_data=(X_test, y_test),\n",
    "                      callbacks=[es, cp], verbose=2)"
   ]
  },
  {
   "cell_type": "code",
   "execution_count": 52,
   "id": "7f80fdba",
   "metadata": {},
   "outputs": [
    {
     "name": "stdout",
     "output_type": "stream",
     "text": [
      "25/25 [==============================] - 2s 78ms/step - loss: 0.8194 - accuracy: 0.7262\n"
     ]
    }
   ],
   "source": [
    "test_result=model.evaluate(X_test, y_test)"
   ]
  },
  {
   "cell_type": "code",
   "execution_count": 53,
   "id": "63e22a08",
   "metadata": {},
   "outputs": [
    {
     "data": {
      "text/plain": [
       "[0.8193719387054443, 0.7262499928474426]"
      ]
     },
     "execution_count": 53,
     "metadata": {},
     "output_type": "execute_result"
    }
   ],
   "source": [
    "test_result"
   ]
  },
  {
   "cell_type": "code",
   "execution_count": 32,
   "id": "950eb2f9",
   "metadata": {},
   "outputs": [],
   "source": [
    "# 적중률 시각화\n",
    "from sklearn.metrics import accuracy_score, precision_score, recall_score, confusion_matrix"
   ]
  },
  {
   "cell_type": "code",
   "execution_count": 39,
   "id": "b7c43344",
   "metadata": {},
   "outputs": [],
   "source": [
    "import pandas as pd\n",
    "import numpy as np\n",
    "import matplotlib.pyplot as plt"
   ]
  },
  {
   "cell_type": "code",
   "execution_count": 34,
   "id": "0c2a5e5f",
   "metadata": {},
   "outputs": [],
   "source": [
    "# 다중 분류에서는 predict를 할 때 각 항목이 될 가능성을 계산해준다.\n",
    "y_pred=model.predict(X_test)"
   ]
  },
  {
   "cell_type": "code",
   "execution_count": 35,
   "id": "86bc08d3",
   "metadata": {},
   "outputs": [],
   "source": [
    "y_pred_test=np.argmax(y_pred, axis=-1)"
   ]
  },
  {
   "cell_type": "code",
   "execution_count": 37,
   "id": "3f1c9346",
   "metadata": {},
   "outputs": [
    {
     "name": "stdout",
     "output_type": "stream",
     "text": [
      "[[192   2   9  26]\n",
      " [  1 156  40  12]\n",
      " [  6  25  98  38]\n",
      " [  7  14  39 135]]\n"
     ]
    }
   ],
   "source": [
    "print(confusion_matrix(y_pred_test, y_test))"
   ]
  },
  {
   "cell_type": "code",
   "execution_count": 41,
   "id": "2ae98afb",
   "metadata": {},
   "outputs": [],
   "source": [
    "df=pd.DataFrame(confusion_matrix(y_pred_test, y_test))"
   ]
  },
  {
   "cell_type": "code",
   "execution_count": 42,
   "id": "2d786fe4",
   "metadata": {},
   "outputs": [],
   "source": [
    "# 각 travel image의 적중률 리스트\n",
    "score_list=[]\n",
    "for i in range(4):\n",
    "    score_list.append(round((df.iloc[i,i]/df.sum(axis=1)[i])*100, 2))"
   ]
  },
  {
   "cell_type": "code",
   "execution_count": 43,
   "id": "a5a7de05",
   "metadata": {},
   "outputs": [
    {
     "data": {
      "text/plain": [
       "[83.84, 74.64, 58.68, 69.23]"
      ]
     },
     "execution_count": 43,
     "metadata": {},
     "output_type": "execute_result"
    }
   ],
   "source": [
    "score_list"
   ]
  },
  {
   "cell_type": "code",
   "execution_count": 44,
   "id": "697c40f8",
   "metadata": {},
   "outputs": [],
   "source": [
    "target_names = ['architecture', 'art_and_culture', 'food_and_drinks', 'travel_and_adventure']"
   ]
  },
  {
   "cell_type": "code",
   "execution_count": 48,
   "id": "cc48a3c5",
   "metadata": {},
   "outputs": [
    {
     "data": {
      "image/png": "[encoded data removed]",
      "text/plain": [
       "<Figure size 576x432 with 1 Axes>"
      ]
     },
     "metadata": {
      "needs_background": "light"
     },
     "output_type": "display_data"
    }
   ],
   "source": [
    "# 각 이미지의 적중률\n",
    "plt.figure(figsize=(8,6))\n",
    "x = target_names\n",
    "fashon_type = target_names\n",
    "values = score_list\n",
    "colors = ['y', 'dodgerblue', 'C2', 'violet', 'brown', 'indigo', 'aquamarine', 'orange', 'khaki', 'slategray']\n",
    "\n",
    "plt.bar(x, values, color=colors)\n",
    "plt.xticks(x, fashon_type)\n",
    "plt.ylim([40, 100])\n",
    "\n",
    "for i, v in enumerate(x):\n",
    "    plt.text(v, values[i], values[i],                 # 좌표 (x축 = v, y축 = y[0]..y[1], 표시 = y[0]..y[1])\n",
    "             fontsize = 15, \n",
    "             color='red',\n",
    "             horizontalalignment='center',  # horizontalalignment (left, center, right)\n",
    "             verticalalignment='bottom')    # verticalalignment (top, center, bottom)\n",
    "\n",
    "plt.show()"
   ]
  },
  {
   "cell_type": "code",
   "execution_count": 50,
   "id": "9b3b694b",
   "metadata": {},
   "outputs": [
    {
     "data": {
      "image/png": "[encoded data removed]",
      "text/plain": [
       "<Figure size 432x288 with 1 Axes>"
      ]
     },
     "metadata": {
      "needs_background": "light"
     },
     "output_type": "display_data"
    }
   ],
   "source": [
    "# 손실률, 정확도 시각화\n",
    "plt.plot(cnn_history.history['loss'])\n",
    "#plt.plot(loss)\n",
    "plt.plot(cnn_history.history['accuracy'])\n",
    "#plt.plot(acc)\n",
    "plt.legend(['train_loss', 'train_acc'])\n",
    "plt.grid()\n",
    "plt.show()"
   ]
  },
  {
   "cell_type": "code",
   "execution_count": 51,
   "id": "73396c27",
   "metadata": {
    "scrolled": true
   },
   "outputs": [
    {
     "data": {
      "text/plain": [
       "<matplotlib.legend.Legend at 0x1fe6ad829c8>"
      ]
     },
     "execution_count": 51,
     "metadata": {},
     "output_type": "execute_result"
    },
    {
     "data": {
      "image/png": "[encoded data removed]",
      "text/plain": [
       "<Figure size 864x288 with 2 Axes>"
      ]
     },
     "metadata": {
      "needs_background": "light"
     },
     "output_type": "display_data"
    }
   ],
   "source": [
    "# cnn_history\n",
    "plt.figure(figsize=(12, 4))\n",
    "plt.subplot(1, 2, 1) # 1행 2열의 도표, 1열\n",
    "plt.plot(cnn_history.history['accuracy'])\n",
    "plt.plot(cnn_history.history['val_accuracy'])\n",
    "plt.title('model acc')\n",
    "plt.xlabel('epoch')\n",
    "plt.ylabel('acc')\n",
    "plt.legend(['train_acc', 'test_acc'])\n",
    "plt.subplot(1, 2, 2) # 1행 2열의 도표, 2열\n",
    "plt.plot(cnn_history.history['loss'])\n",
    "plt.plot(cnn_history.history['val_loss'])\n",
    "plt.title('model loss')\n",
    "plt.xlabel('epoch')\n",
    "plt.ylabel('loss')\n",
    "plt.legend(['train_loss', 'test_loss'])"
   ]
  },
  {
   "cell_type": "markdown",
   "id": "10a7aa0e",
   "metadata": {},
   "source": [
    "## 전이학습"
   ]
  },
  {
   "cell_type": "code",
   "execution_count": 61,
   "id": "6bee53b6",
   "metadata": {},
   "outputs": [],
   "source": [
    "# Pre-trained 모델 가져오기\n",
    "from tensorflow.keras.applications import ResNet50\n",
    "cnn_base = ResNet50(include_top=False, weights='imagenet', \n",
    "                 input_shape=[data_height, data_width, channel_n],classes=4)  "
   ]
  },
  {
   "cell_type": "code",
   "execution_count": 62,
   "id": "f557cbc6",
   "metadata": {},
   "outputs": [
    {
     "name": "stdout",
     "output_type": "stream",
     "text": [
      "Model: \"sequential_2\"\n",
      "_________________________________________________________________\n",
      " Layer (type)                Output Shape              Param #   \n",
      "=================================================================\n",
      " resnet50 (Functional)       (None, 5, 5, 2048)        23587712  \n",
      "                                                                 \n",
      " flatten_2 (Flatten)         (None, 51200)             0         \n",
      "                                                                 \n",
      " dense_10 (Dense)            (None, 128)               6553728   \n",
      "                                                                 \n",
      " dropout_8 (Dropout)         (None, 128)               0         \n",
      "                                                                 \n",
      " dense_11 (Dense)            (None, 64)                8256      \n",
      "                                                                 \n",
      " dropout_9 (Dropout)         (None, 64)                0         \n",
      "                                                                 \n",
      " dense_12 (Dense)            (None, 32)                2080      \n",
      "                                                                 \n",
      " dropout_10 (Dropout)        (None, 32)                0         \n",
      "                                                                 \n",
      " dense_13 (Dense)            (None, 12)                396       \n",
      "                                                                 \n",
      " dropout_11 (Dropout)        (None, 12)                0         \n",
      "                                                                 \n",
      " dense_14 (Dense)            (None, 5)                 65        \n",
      "                                                                 \n",
      " dropout_12 (Dropout)        (None, 5)                 0         \n",
      "                                                                 \n",
      " dense_15 (Dense)            (None, 4)                 24        \n",
      "                                                                 \n",
      "=================================================================\n",
      "Total params: 30,152,261\n",
      "Trainable params: 30,099,141\n",
      "Non-trainable params: 53,120\n",
      "_________________________________________________________________\n"
     ]
    }
   ],
   "source": [
    "model3 = Sequential()\n",
    "### 특성추출 레이어를 쌓아준다.\n",
    "\n",
    "# model.add(Conv2D(32, (3, 3), activation='relu', input_shape=(data_height, data_width, channel_n)))\n",
    "# model.add(MaxPool2D((2, 2)))\n",
    "# model.add(Conv2D(64, (3, 3), activation='relu'))\n",
    "# model.add(MaxPool2D((2, 2)))\n",
    "# model.add(Conv2D(64, (3, 3), activation='relu'))\n",
    "\n",
    "### 딥러닝 학습 레이어를 쌓아준다.\n",
    "### 입력--히든--출력 순서대로 쌓아준다.\n",
    "### 입력(1개)-- 1차원이여야함.\n",
    "\n",
    "model3.add(cnn_base) \n",
    "model3.add(Flatten()) ## 이미지 데이터를 1차원으로 만들어주는 객체 \n",
    "### 히든\n",
    "model3.add(Dense(128, activation='relu'))\n",
    "model3.add(Dropout(rate=0.3))\n",
    "model3.add(Dense(64, activation='relu'))\n",
    "model3.add(Dropout(rate=0.3))\n",
    "model3.add(Dense(32, activation='relu'))\n",
    "model3.add(Dropout(rate=0.3))\n",
    "model3.add(Dense(12, activation='relu'))\n",
    "model3.add(Dropout(rate=0.3))\n",
    "model3.add(Dense(5, activation='relu'))\n",
    "model3.add(Dropout(rate=0.3))\n",
    "\n",
    "### 출력(1개)— 딥러닝하는 학습의 종류에 따라 다르게 써주어야 함.!!\n",
    "### 이진 분류인 경우(1, sigmoid)\n",
    "### 다중 분류인 경우(n, softmax)\n",
    "### 회귀인 경우(1, linear)\n",
    "model3.add(Dense(4, activation='softmax'))\n",
    "model3.summary()"
   ]
  },
  {
   "cell_type": "code",
   "execution_count": 63,
   "id": "a868f89e",
   "metadata": {},
   "outputs": [],
   "source": [
    "model3.compile(optimizer='adam', loss='sparse_categorical_crossentropy', metrics=['accuracy'])"
   ]
  },
  {
   "cell_type": "code",
   "execution_count": 69,
   "id": "75b4a68d",
   "metadata": {},
   "outputs": [
    {
     "name": "stdout",
     "output_type": "stream",
     "text": [
      "Epoch 1/50\n",
      "64/64 - 412s - loss: 1.3224 - accuracy: 0.3591 - val_loss: 2.7154 - val_accuracy: 0.2575 - 412s/epoch - 6s/step\n",
      "Epoch 2/50\n",
      "64/64 - 414s - loss: 1.3235 - accuracy: 0.3672 - val_loss: 1.4324 - val_accuracy: 0.2387 - 414s/epoch - 6s/step\n",
      "Epoch 3/50\n",
      "64/64 - 401s - loss: 1.2728 - accuracy: 0.4013 - val_loss: 8.2264 - val_accuracy: 0.2600 - 401s/epoch - 6s/step\n",
      "Epoch 4/50\n",
      "64/64 - 417s - loss: 1.3147 - accuracy: 0.4081 - val_loss: 1.4082 - val_accuracy: 0.2463 - 417s/epoch - 7s/step\n",
      "Epoch 5/50\n",
      "64/64 - 412s - loss: 1.4063 - accuracy: 0.3187 - val_loss: 1.4081 - val_accuracy: 0.2463 - 412s/epoch - 6s/step\n",
      "Epoch 6/50\n",
      "64/64 - 411s - loss: 1.3631 - accuracy: 0.3766 - val_loss: 1.4104 - val_accuracy: 0.2463 - 411s/epoch - 6s/step\n",
      "Epoch 7/50\n",
      "64/64 - 396s - loss: 1.2457 - accuracy: 0.3959 - val_loss: 1.4081 - val_accuracy: 0.2488 - 396s/epoch - 6s/step\n",
      "Epoch 8/50\n",
      "64/64 - 405s - loss: 1.2134 - accuracy: 0.4338 - val_loss: 1.2315 - val_accuracy: 0.4600 - 405s/epoch - 6s/step\n",
      "Epoch 9/50\n",
      "64/64 - 407s - loss: 1.1964 - accuracy: 0.4613 - val_loss: 1.2413 - val_accuracy: 0.4437 - 407s/epoch - 6s/step\n",
      "Epoch 10/50\n",
      "64/64 - 405s - loss: 1.1407 - accuracy: 0.4725 - val_loss: 1.0152 - val_accuracy: 0.5725 - 405s/epoch - 6s/step\n",
      "Epoch 11/50\n",
      "64/64 - 409s - loss: 1.1201 - accuracy: 0.4863 - val_loss: 1.6362 - val_accuracy: 0.4187 - 409s/epoch - 6s/step\n",
      "Epoch 12/50\n",
      "64/64 - 420s - loss: 1.0946 - accuracy: 0.4863 - val_loss: 7.2506 - val_accuracy: 0.3413 - 420s/epoch - 7s/step\n",
      "Epoch 13/50\n",
      "64/64 - 405s - loss: 1.1059 - accuracy: 0.4963 - val_loss: 6.6136 - val_accuracy: 0.3650 - 405s/epoch - 6s/step\n",
      "Epoch 14/50\n",
      "64/64 - 411s - loss: 1.0679 - accuracy: 0.5256 - val_loss: 1.4070 - val_accuracy: 0.5350 - 411s/epoch - 6s/step\n",
      "Epoch 15/50\n",
      "64/64 - 414s - loss: 1.0454 - accuracy: 0.5319 - val_loss: 1.0719 - val_accuracy: 0.4988 - 414s/epoch - 6s/step\n",
      "Epoch 16/50\n",
      "64/64 - 405s - loss: 1.0021 - accuracy: 0.5397 - val_loss: 1.0509 - val_accuracy: 0.4737 - 405s/epoch - 6s/step\n",
      "Epoch 17/50\n",
      "64/64 - 420s - loss: 1.0148 - accuracy: 0.5456 - val_loss: 1.4451 - val_accuracy: 0.2600 - 420s/epoch - 7s/step\n",
      "Epoch 18/50\n",
      "64/64 - 425s - loss: 0.9801 - accuracy: 0.5512 - val_loss: 0.9819 - val_accuracy: 0.5938 - 425s/epoch - 7s/step\n",
      "Epoch 19/50\n",
      "64/64 - 398s - loss: 0.9852 - accuracy: 0.5631 - val_loss: 1.0285 - val_accuracy: 0.6037 - 398s/epoch - 6s/step\n",
      "Epoch 20/50\n",
      "64/64 - 406s - loss: 1.0704 - accuracy: 0.5047 - val_loss: 1.5162 - val_accuracy: 0.2688 - 406s/epoch - 6s/step\n",
      "Epoch 21/50\n",
      "64/64 - 410s - loss: 1.0318 - accuracy: 0.5034 - val_loss: 1.5633 - val_accuracy: 0.5300 - 410s/epoch - 6s/step\n",
      "Epoch 22/50\n",
      "64/64 - 422s - loss: 0.9353 - accuracy: 0.5672 - val_loss: 3.9268 - val_accuracy: 0.4775 - 422s/epoch - 7s/step\n",
      "Epoch 23/50\n",
      "64/64 - 413s - loss: 1.0560 - accuracy: 0.5169 - val_loss: 0.9096 - val_accuracy: 0.5725 - 413s/epoch - 6s/step\n",
      "Epoch 24/50\n",
      "64/64 - 412s - loss: 0.9122 - accuracy: 0.5869 - val_loss: 1.2179 - val_accuracy: 0.3388 - 412s/epoch - 6s/step\n",
      "Epoch 25/50\n",
      "64/64 - 417s - loss: 1.0607 - accuracy: 0.5247 - val_loss: 1.0032 - val_accuracy: 0.4963 - 417s/epoch - 7s/step\n",
      "Epoch 26/50\n",
      "64/64 - 404s - loss: 0.9344 - accuracy: 0.5759 - val_loss: 0.8722 - val_accuracy: 0.6100 - 404s/epoch - 6s/step\n",
      "Epoch 27/50\n",
      "64/64 - 403s - loss: 0.8828 - accuracy: 0.6034 - val_loss: 1.0959 - val_accuracy: 0.6375 - 403s/epoch - 6s/step\n",
      "Epoch 28/50\n",
      "64/64 - 397s - loss: 0.8677 - accuracy: 0.6106 - val_loss: 2.6591 - val_accuracy: 0.5825 - 397s/epoch - 6s/step\n",
      "Epoch 29/50\n",
      "64/64 - 433s - loss: 0.9225 - accuracy: 0.5813 - val_loss: 1.3500 - val_accuracy: 0.3175 - 433s/epoch - 7s/step\n",
      "Epoch 30/50\n",
      "64/64 - 438s - loss: 1.0001 - accuracy: 0.5697 - val_loss: 1.5769 - val_accuracy: 0.2587 - 438s/epoch - 7s/step\n",
      "Epoch 31/50\n",
      "64/64 - 407s - loss: 0.9138 - accuracy: 0.5534 - val_loss: 1.0100 - val_accuracy: 0.4812 - 407s/epoch - 6s/step\n",
      "Epoch 32/50\n",
      "64/64 - 416s - loss: 0.8727 - accuracy: 0.6041 - val_loss: 4.4702 - val_accuracy: 0.4938 - 416s/epoch - 7s/step\n",
      "Epoch 33/50\n",
      "64/64 - 403s - loss: 0.8516 - accuracy: 0.6078 - val_loss: 1.2600 - val_accuracy: 0.6275 - 403s/epoch - 6s/step\n",
      "Epoch 34/50\n",
      "64/64 - 432s - loss: 0.8162 - accuracy: 0.6250 - val_loss: 3.5617 - val_accuracy: 0.5700 - 432s/epoch - 7s/step\n",
      "Epoch 35/50\n"
     ]
    },
    {
     "ename": "KeyboardInterrupt",
     "evalue": "",
     "output_type": "error",
     "traceback": [
      "\u001b[1;31m---------------------------------------------------------------------------\u001b[0m",
      "\u001b[1;31mKeyboardInterrupt\u001b[0m                         Traceback (most recent call last)",
      "\u001b[1;32m~\\AppData\\Local\\Temp\\ipykernel_5320\\2766581403.py\u001b[0m in \u001b[0;36m<module>\u001b[1;34m\u001b[0m\n\u001b[0;32m      2\u001b[0m \u001b[0mcp3\u001b[0m\u001b[1;33m=\u001b[0m\u001b[0mModelCheckpoint\u001b[0m\u001b[1;33m(\u001b[0m\u001b[1;34m'best_travel_cnn_ResNet50.h5'\u001b[0m\u001b[1;33m)\u001b[0m\u001b[1;33m\u001b[0m\u001b[1;33m\u001b[0m\u001b[0m\n\u001b[0;32m      3\u001b[0m cnn_history3=model3.fit(X_train, y_train, batch_size=50, epochs=50, validation_data=(X_test, y_test),\n\u001b[1;32m----> 4\u001b[1;33m                       callbacks=[es3, cp3], verbose=2)\n\u001b[0m",
      "\u001b[1;32mC:\\ProgramData\\Anaconda3\\lib\\site-packages\\keras\\utils\\traceback_utils.py\u001b[0m in \u001b[0;36merror_handler\u001b[1;34m(*args, **kwargs)\u001b[0m\n\u001b[0;32m     62\u001b[0m     \u001b[0mfiltered_tb\u001b[0m \u001b[1;33m=\u001b[0m \u001b[1;32mNone\u001b[0m\u001b[1;33m\u001b[0m\u001b[1;33m\u001b[0m\u001b[0m\n\u001b[0;32m     63\u001b[0m     \u001b[1;32mtry\u001b[0m\u001b[1;33m:\u001b[0m\u001b[1;33m\u001b[0m\u001b[1;33m\u001b[0m\u001b[0m\n\u001b[1;32m---> 64\u001b[1;33m       \u001b[1;32mreturn\u001b[0m \u001b[0mfn\u001b[0m\u001b[1;33m(\u001b[0m\u001b[1;33m*\u001b[0m\u001b[0margs\u001b[0m\u001b[1;33m,\u001b[0m \u001b[1;33m**\u001b[0m\u001b[0mkwargs\u001b[0m\u001b[1;33m)\u001b[0m\u001b[1;33m\u001b[0m\u001b[1;33m\u001b[0m\u001b[0m\n\u001b[0m\u001b[0;32m     65\u001b[0m     \u001b[1;32mexcept\u001b[0m \u001b[0mException\u001b[0m \u001b[1;32mas\u001b[0m \u001b[0me\u001b[0m\u001b[1;33m:\u001b[0m  \u001b[1;31m# pylint: disable=broad-except\u001b[0m\u001b[1;33m\u001b[0m\u001b[1;33m\u001b[0m\u001b[0m\n\u001b[0;32m     66\u001b[0m       \u001b[0mfiltered_tb\u001b[0m \u001b[1;33m=\u001b[0m \u001b[0m_process_traceback_frames\u001b[0m\u001b[1;33m(\u001b[0m\u001b[0me\u001b[0m\u001b[1;33m.\u001b[0m\u001b[0m__traceback__\u001b[0m\u001b[1;33m)\u001b[0m\u001b[1;33m\u001b[0m\u001b[1;33m\u001b[0m\u001b[0m\n",
      "\u001b[1;32mC:\\ProgramData\\Anaconda3\\lib\\site-packages\\keras\\engine\\training.py\u001b[0m in \u001b[0;36mfit\u001b[1;34m(self, x, y, batch_size, epochs, verbose, callbacks, validation_split, validation_data, shuffle, class_weight, sample_weight, initial_epoch, steps_per_epoch, validation_steps, validation_batch_size, validation_freq, max_queue_size, workers, use_multiprocessing)\u001b[0m\n\u001b[0;32m   1214\u001b[0m                 _r=1):\n\u001b[0;32m   1215\u001b[0m               \u001b[0mcallbacks\u001b[0m\u001b[1;33m.\u001b[0m\u001b[0mon_train_batch_begin\u001b[0m\u001b[1;33m(\u001b[0m\u001b[0mstep\u001b[0m\u001b[1;33m)\u001b[0m\u001b[1;33m\u001b[0m\u001b[1;33m\u001b[0m\u001b[0m\n\u001b[1;32m-> 1216\u001b[1;33m               \u001b[0mtmp_logs\u001b[0m \u001b[1;33m=\u001b[0m \u001b[0mself\u001b[0m\u001b[1;33m.\u001b[0m\u001b[0mtrain_function\u001b[0m\u001b[1;33m(\u001b[0m\u001b[0miterator\u001b[0m\u001b[1;33m)\u001b[0m\u001b[1;33m\u001b[0m\u001b[1;33m\u001b[0m\u001b[0m\n\u001b[0m\u001b[0;32m   1217\u001b[0m               \u001b[1;32mif\u001b[0m \u001b[0mdata_handler\u001b[0m\u001b[1;33m.\u001b[0m\u001b[0mshould_sync\u001b[0m\u001b[1;33m:\u001b[0m\u001b[1;33m\u001b[0m\u001b[1;33m\u001b[0m\u001b[0m\n\u001b[0;32m   1218\u001b[0m                 \u001b[0mcontext\u001b[0m\u001b[1;33m.\u001b[0m\u001b[0masync_wait\u001b[0m\u001b[1;33m(\u001b[0m\u001b[1;33m)\u001b[0m\u001b[1;33m\u001b[0m\u001b[1;33m\u001b[0m\u001b[0m\n",
      "\u001b[1;32mC:\\ProgramData\\Anaconda3\\lib\\site-packages\\tensorflow\\python\\util\\traceback_utils.py\u001b[0m in \u001b[0;36merror_handler\u001b[1;34m(*args, **kwargs)\u001b[0m\n\u001b[0;32m    148\u001b[0m     \u001b[0mfiltered_tb\u001b[0m \u001b[1;33m=\u001b[0m \u001b[1;32mNone\u001b[0m\u001b[1;33m\u001b[0m\u001b[1;33m\u001b[0m\u001b[0m\n\u001b[0;32m    149\u001b[0m     \u001b[1;32mtry\u001b[0m\u001b[1;33m:\u001b[0m\u001b[1;33m\u001b[0m\u001b[1;33m\u001b[0m\u001b[0m\n\u001b[1;32m--> 150\u001b[1;33m       \u001b[1;32mreturn\u001b[0m \u001b[0mfn\u001b[0m\u001b[1;33m(\u001b[0m\u001b[1;33m*\u001b[0m\u001b[0margs\u001b[0m\u001b[1;33m,\u001b[0m \u001b[1;33m**\u001b[0m\u001b[0mkwargs\u001b[0m\u001b[1;33m)\u001b[0m\u001b[1;33m\u001b[0m\u001b[1;33m\u001b[0m\u001b[0m\n\u001b[0m\u001b[0;32m    151\u001b[0m     \u001b[1;32mexcept\u001b[0m \u001b[0mException\u001b[0m \u001b[1;32mas\u001b[0m \u001b[0me\u001b[0m\u001b[1;33m:\u001b[0m\u001b[1;33m\u001b[0m\u001b[1;33m\u001b[0m\u001b[0m\n\u001b[0;32m    152\u001b[0m       \u001b[0mfiltered_tb\u001b[0m \u001b[1;33m=\u001b[0m \u001b[0m_process_traceback_frames\u001b[0m\u001b[1;33m(\u001b[0m\u001b[0me\u001b[0m\u001b[1;33m.\u001b[0m\u001b[0m__traceback__\u001b[0m\u001b[1;33m)\u001b[0m\u001b[1;33m\u001b[0m\u001b[1;33m\u001b[0m\u001b[0m\n",
      "\u001b[1;32mC:\\ProgramData\\Anaconda3\\lib\\site-packages\\tensorflow\\python\\eager\\def_function.py\u001b[0m in \u001b[0;36m__call__\u001b[1;34m(self, *args, **kwds)\u001b[0m\n\u001b[0;32m    908\u001b[0m \u001b[1;33m\u001b[0m\u001b[0m\n\u001b[0;32m    909\u001b[0m       \u001b[1;32mwith\u001b[0m \u001b[0mOptionalXlaContext\u001b[0m\u001b[1;33m(\u001b[0m\u001b[0mself\u001b[0m\u001b[1;33m.\u001b[0m\u001b[0m_jit_compile\u001b[0m\u001b[1;33m)\u001b[0m\u001b[1;33m:\u001b[0m\u001b[1;33m\u001b[0m\u001b[1;33m\u001b[0m\u001b[0m\n\u001b[1;32m--> 910\u001b[1;33m         \u001b[0mresult\u001b[0m \u001b[1;33m=\u001b[0m \u001b[0mself\u001b[0m\u001b[1;33m.\u001b[0m\u001b[0m_call\u001b[0m\u001b[1;33m(\u001b[0m\u001b[1;33m*\u001b[0m\u001b[0margs\u001b[0m\u001b[1;33m,\u001b[0m \u001b[1;33m**\u001b[0m\u001b[0mkwds\u001b[0m\u001b[1;33m)\u001b[0m\u001b[1;33m\u001b[0m\u001b[1;33m\u001b[0m\u001b[0m\n\u001b[0m\u001b[0;32m    911\u001b[0m \u001b[1;33m\u001b[0m\u001b[0m\n\u001b[0;32m    912\u001b[0m       \u001b[0mnew_tracing_count\u001b[0m \u001b[1;33m=\u001b[0m \u001b[0mself\u001b[0m\u001b[1;33m.\u001b[0m\u001b[0mexperimental_get_tracing_count\u001b[0m\u001b[1;33m(\u001b[0m\u001b[1;33m)\u001b[0m\u001b[1;33m\u001b[0m\u001b[1;33m\u001b[0m\u001b[0m\n",
      "\u001b[1;32mC:\\ProgramData\\Anaconda3\\lib\\site-packages\\tensorflow\\python\\eager\\def_function.py\u001b[0m in \u001b[0;36m_call\u001b[1;34m(self, *args, **kwds)\u001b[0m\n\u001b[0;32m    940\u001b[0m       \u001b[1;31m# In this case we have created variables on the first call, so we run the\u001b[0m\u001b[1;33m\u001b[0m\u001b[1;33m\u001b[0m\u001b[1;33m\u001b[0m\u001b[0m\n\u001b[0;32m    941\u001b[0m       \u001b[1;31m# defunned version which is guaranteed to never create variables.\u001b[0m\u001b[1;33m\u001b[0m\u001b[1;33m\u001b[0m\u001b[1;33m\u001b[0m\u001b[0m\n\u001b[1;32m--> 942\u001b[1;33m       \u001b[1;32mreturn\u001b[0m \u001b[0mself\u001b[0m\u001b[1;33m.\u001b[0m\u001b[0m_stateless_fn\u001b[0m\u001b[1;33m(\u001b[0m\u001b[1;33m*\u001b[0m\u001b[0margs\u001b[0m\u001b[1;33m,\u001b[0m \u001b[1;33m**\u001b[0m\u001b[0mkwds\u001b[0m\u001b[1;33m)\u001b[0m  \u001b[1;31m# pylint: disable=not-callable\u001b[0m\u001b[1;33m\u001b[0m\u001b[1;33m\u001b[0m\u001b[0m\n\u001b[0m\u001b[0;32m    943\u001b[0m     \u001b[1;32melif\u001b[0m \u001b[0mself\u001b[0m\u001b[1;33m.\u001b[0m\u001b[0m_stateful_fn\u001b[0m \u001b[1;32mis\u001b[0m \u001b[1;32mnot\u001b[0m \u001b[1;32mNone\u001b[0m\u001b[1;33m:\u001b[0m\u001b[1;33m\u001b[0m\u001b[1;33m\u001b[0m\u001b[0m\n\u001b[0;32m    944\u001b[0m       \u001b[1;31m# Release the lock early so that multiple threads can perform the call\u001b[0m\u001b[1;33m\u001b[0m\u001b[1;33m\u001b[0m\u001b[1;33m\u001b[0m\u001b[0m\n",
      "\u001b[1;32mC:\\ProgramData\\Anaconda3\\lib\\site-packages\\tensorflow\\python\\eager\\function.py\u001b[0m in \u001b[0;36m__call__\u001b[1;34m(self, *args, **kwargs)\u001b[0m\n\u001b[0;32m   3129\u001b[0m        filtered_flat_args) = self._maybe_define_function(args, kwargs)\n\u001b[0;32m   3130\u001b[0m     return graph_function._call_flat(\n\u001b[1;32m-> 3131\u001b[1;33m         filtered_flat_args, captured_inputs=graph_function.captured_inputs)  # pylint: disable=protected-access\n\u001b[0m\u001b[0;32m   3132\u001b[0m \u001b[1;33m\u001b[0m\u001b[0m\n\u001b[0;32m   3133\u001b[0m   \u001b[1;33m@\u001b[0m\u001b[0mproperty\u001b[0m\u001b[1;33m\u001b[0m\u001b[1;33m\u001b[0m\u001b[0m\n",
      "\u001b[1;32mC:\\ProgramData\\Anaconda3\\lib\\site-packages\\tensorflow\\python\\eager\\function.py\u001b[0m in \u001b[0;36m_call_flat\u001b[1;34m(self, args, captured_inputs, cancellation_manager)\u001b[0m\n\u001b[0;32m   1958\u001b[0m       \u001b[1;31m# No tape is watching; skip to running the function.\u001b[0m\u001b[1;33m\u001b[0m\u001b[1;33m\u001b[0m\u001b[1;33m\u001b[0m\u001b[0m\n\u001b[0;32m   1959\u001b[0m       return self._build_call_outputs(self._inference_function.call(\n\u001b[1;32m-> 1960\u001b[1;33m           ctx, args, cancellation_manager=cancellation_manager))\n\u001b[0m\u001b[0;32m   1961\u001b[0m     forward_backward = self._select_forward_and_backward_functions(\n\u001b[0;32m   1962\u001b[0m         \u001b[0margs\u001b[0m\u001b[1;33m,\u001b[0m\u001b[1;33m\u001b[0m\u001b[1;33m\u001b[0m\u001b[0m\n",
      "\u001b[1;32mC:\\ProgramData\\Anaconda3\\lib\\site-packages\\tensorflow\\python\\eager\\function.py\u001b[0m in \u001b[0;36mcall\u001b[1;34m(self, ctx, args, cancellation_manager)\u001b[0m\n\u001b[0;32m    601\u001b[0m               \u001b[0minputs\u001b[0m\u001b[1;33m=\u001b[0m\u001b[0margs\u001b[0m\u001b[1;33m,\u001b[0m\u001b[1;33m\u001b[0m\u001b[1;33m\u001b[0m\u001b[0m\n\u001b[0;32m    602\u001b[0m               \u001b[0mattrs\u001b[0m\u001b[1;33m=\u001b[0m\u001b[0mattrs\u001b[0m\u001b[1;33m,\u001b[0m\u001b[1;33m\u001b[0m\u001b[1;33m\u001b[0m\u001b[0m\n\u001b[1;32m--> 603\u001b[1;33m               ctx=ctx)\n\u001b[0m\u001b[0;32m    604\u001b[0m         \u001b[1;32melse\u001b[0m\u001b[1;33m:\u001b[0m\u001b[1;33m\u001b[0m\u001b[1;33m\u001b[0m\u001b[0m\n\u001b[0;32m    605\u001b[0m           outputs = execute.execute_with_cancellation(\n",
      "\u001b[1;32mC:\\ProgramData\\Anaconda3\\lib\\site-packages\\tensorflow\\python\\eager\\execute.py\u001b[0m in \u001b[0;36mquick_execute\u001b[1;34m(op_name, num_outputs, inputs, attrs, ctx, name)\u001b[0m\n\u001b[0;32m     57\u001b[0m     \u001b[0mctx\u001b[0m\u001b[1;33m.\u001b[0m\u001b[0mensure_initialized\u001b[0m\u001b[1;33m(\u001b[0m\u001b[1;33m)\u001b[0m\u001b[1;33m\u001b[0m\u001b[1;33m\u001b[0m\u001b[0m\n\u001b[0;32m     58\u001b[0m     tensors = pywrap_tfe.TFE_Py_Execute(ctx._handle, device_name, op_name,\n\u001b[1;32m---> 59\u001b[1;33m                                         inputs, attrs, num_outputs)\n\u001b[0m\u001b[0;32m     60\u001b[0m   \u001b[1;32mexcept\u001b[0m \u001b[0mcore\u001b[0m\u001b[1;33m.\u001b[0m\u001b[0m_NotOkStatusException\u001b[0m \u001b[1;32mas\u001b[0m \u001b[0me\u001b[0m\u001b[1;33m:\u001b[0m\u001b[1;33m\u001b[0m\u001b[1;33m\u001b[0m\u001b[0m\n\u001b[0;32m     61\u001b[0m     \u001b[1;32mif\u001b[0m \u001b[0mname\u001b[0m \u001b[1;32mis\u001b[0m \u001b[1;32mnot\u001b[0m \u001b[1;32mNone\u001b[0m\u001b[1;33m:\u001b[0m\u001b[1;33m\u001b[0m\u001b[1;33m\u001b[0m\u001b[0m\n",
      "\u001b[1;31mKeyboardInterrupt\u001b[0m: "
     ]
    }
   ],
   "source": [
    "es3=EarlyStopping(patience=10, restore_best_weights=True)\n",
    "cp3=ModelCheckpoint('best_travel_cnn_ResNet50.h5')\n",
    "cnn_history3=model3.fit(X_train, y_train, batch_size=50, epochs=50, validation_data=(X_test, y_test),\n",
    "                      callbacks=[es3, cp3], verbose=2)"
   ]
  },
  {
   "cell_type": "code",
   "execution_count": 70,
   "id": "4b9175fb",
   "metadata": {},
   "outputs": [
    {
     "data": {
      "text/plain": [
       "<matplotlib.legend.Legend at 0x1fd00659688>"
      ]
     },
     "execution_count": 70,
     "metadata": {},
     "output_type": "execute_result"
    },
    {
     "data": {
      "image/png": "[encoded data removed]",
      "text/plain": [
       "<Figure size 864x288 with 2 Axes>"
      ]
     },
     "metadata": {
      "needs_background": "light"
     },
     "output_type": "display_data"
    }
   ],
   "source": [
    "# cnn_history\n",
    "plt.figure(figsize=(12, 4))\n",
    "plt.subplot(1, 2, 1) # 1행 2열의 도표, 1열\n",
    "plt.plot(cnn_history3.history['accuracy'])\n",
    "plt.plot(cnn_history3.history['val_accuracy'])\n",
    "plt.title('model acc')\n",
    "plt.xlabel('epoch')\n",
    "plt.ylabel('acc')\n",
    "plt.legend(['train_acc', 'test_acc'])\n",
    "plt.subplot(1, 2, 2) # 1행 2열의 도표, 2열\n",
    "plt.plot(cnn_history3.history['loss'])\n",
    "plt.plot(cnn_history3.history['val_loss'])\n",
    "plt.title('model loss')\n",
    "plt.xlabel('epoch')\n",
    "plt.ylabel('loss')\n",
    "plt.legend(['train_loss', 'test_loss'])"
   ]
  },
  {
   "cell_type": "code",
   "execution_count": null,
   "id": "d6331443",
   "metadata": {},
   "outputs": [],
   "source": []
  }
 ],
 "metadata": {
  "kernelspec": {
   "display_name": "Python 3 (ipykernel)",
   "language": "python",
   "name": "python3"
  },
  "language_info": {
   "codemirror_mode": {
    "name": "ipython",
    "version": 3
   },
   "file_extension": ".py",
   "mimetype": "text/x-python",
   "name": "python",
   "nbconvert_exporter": "python",
   "pygments_lexer": "ipython3",
   "version": "3.7.4"
  }
 },
 "nbformat": 4,
 "nbformat_minor": 5
}
