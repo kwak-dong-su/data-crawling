{
 "cells": [
  {
   "cell_type": "code",
   "execution_count": null,
   "metadata": {},
   "outputs": [],
   "source": [
    "import requests\n",
    "\n",
    "url = 'http://apis.data.go.kr/B552061/AccidentDeath/getRestTrafficAccidentDeath'\n",
    "params ={'serviceKey' : '3VHgd/FDbuSGjOvtWbuFsdjvPapQ5ThLx0yelsZQMzXc8elO3WKx7/7oP6I9XxMRA3m8OLT8EaUmj+EWEVnEHA==', \n",
    "         'searchYear' : '2014', \n",
    "         'siDo' : '1100', \n",
    "         'guGun' : '1117', \n",
    "         'type' : 'json', \n",
    "         'numOfRows' : '10', \n",
    "         'pageNo' : '1' }\n",
    "\n",
    "response = requests.get(url, params=params)\n",
    "print(response.content)"
   ]
  }
 ],
 "metadata": {
  "kernelspec": {
   "display_name": "Python 3",
   "language": "python",
   "name": "python3"
  },
  "language_info": {
   "codemirror_mode": {
    "name": "ipython",
    "version": 3
   },
   "file_extension": ".py",
   "mimetype": "text/x-python",
   "name": "python",
   "nbconvert_exporter": "python",
   "pygments_lexer": "ipython3",
   "version": "3.7.4"
  }
 },
 "nbformat": 4,
 "nbformat_minor": 2
}
