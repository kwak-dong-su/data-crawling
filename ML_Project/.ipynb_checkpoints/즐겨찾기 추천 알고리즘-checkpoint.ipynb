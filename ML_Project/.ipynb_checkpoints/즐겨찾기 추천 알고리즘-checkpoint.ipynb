{
 "cells": [
  {
   "cell_type": "code",
   "execution_count": 1,
   "metadata": {},
   "outputs": [],
   "source": [
    "from mlxtend.preprocessing import TransactionEncoder"
   ]
  },
  {
   "cell_type": "code",
   "execution_count": 2,
   "metadata": {},
   "outputs": [],
   "source": [
    "import mlxtend\n",
    "import numpy as np\n",
    "import pandas as pd\n",
    "import warnings\n",
    "warnings.filterwarnings('ignore')"
   ]
  },
  {
   "cell_type": "code",
   "execution_count": 3,
   "metadata": {},
   "outputs": [],
   "source": [
    "from matplotlib import rc, font_manager\n",
    "import matplotlib.font_manager as fm\n",
    "\n",
    "# 디렉토리 및 파일 이름에 맞추어 변경\n",
    "font_location = 'C:/Windows/Fonts/malgun.ttf'\n",
    "\n",
    "font_name = fm.FontProperties(fname=font_location).get_name()\n",
    "rc('font', family=font_name)"
   ]
  },
  {
   "cell_type": "markdown",
   "metadata": {},
   "source": [
    "### csv 전처리"
   ]
  },
  {
   "cell_type": "code",
   "execution_count": 6,
   "metadata": {},
   "outputs": [],
   "source": [
    "df=pd.read_csv('favorite_MOCK_DATA.csv')"
   ]
  },
  {
   "cell_type": "code",
   "execution_count": 10,
   "metadata": {},
   "outputs": [],
   "source": [
    "df.set_index('member_idx', inplace=True)"
   ]
  },
  {
   "cell_type": "code",
   "execution_count": 24,
   "metadata": {},
   "outputs": [
    {
     "data": {
      "text/html": [
       "<div>\n",
       "<style scoped>\n",
       "    .dataframe tbody tr th:only-of-type {\n",
       "        vertical-align: middle;\n",
       "    }\n",
       "\n",
       "    .dataframe tbody tr th {\n",
       "        vertical-align: top;\n",
       "    }\n",
       "\n",
       "    .dataframe thead th {\n",
       "        text-align: right;\n",
       "    }\n",
       "</style>\n",
       "<table border=\"1\" class=\"dataframe\">\n",
       "  <thead>\n",
       "    <tr style=\"text-align: right;\">\n",
       "      <th></th>\n",
       "      <th>여행지1</th>\n",
       "      <th>여행지2</th>\n",
       "      <th>여행지3</th>\n",
       "      <th>여행지4</th>\n",
       "      <th>여행지5</th>\n",
       "      <th>여행지6</th>\n",
       "      <th>여행지7</th>\n",
       "      <th>여행지8</th>\n",
       "      <th>여행지9</th>\n",
       "      <th>여행지10</th>\n",
       "    </tr>\n",
       "    <tr>\n",
       "      <th>member_idx</th>\n",
       "      <th></th>\n",
       "      <th></th>\n",
       "      <th></th>\n",
       "      <th></th>\n",
       "      <th></th>\n",
       "      <th></th>\n",
       "      <th></th>\n",
       "      <th></th>\n",
       "      <th></th>\n",
       "      <th></th>\n",
       "    </tr>\n",
       "  </thead>\n",
       "  <tbody>\n",
       "    <tr>\n",
       "      <th>1</th>\n",
       "      <td>19 Hudson Park</td>\n",
       "      <td>76 Clyde Gallagher Drive</td>\n",
       "      <td>13594 Graedel Crossing</td>\n",
       "      <td>621 Merry Crossing</td>\n",
       "      <td>274 Blue Bill Park Street</td>\n",
       "      <td>252 Hanson Circle</td>\n",
       "      <td>7 Forest Run Pass</td>\n",
       "      <td>694 Barnett Parkway</td>\n",
       "      <td>40688 Mcbride Park</td>\n",
       "      <td>1 Saint Paul Place</td>\n",
       "    </tr>\n",
       "  </tbody>\n",
       "</table>\n",
       "</div>"
      ],
      "text/plain": [
       "                      여행지1                      여행지2                    여행지3  \\\n",
       "member_idx                                                                     \n",
       "1           19 Hudson Park  76 Clyde Gallagher Drive  13594 Graedel Crossing   \n",
       "\n",
       "                          여행지4                       여행지5               여행지6  \\\n",
       "member_idx                                                                     \n",
       "1           621 Merry Crossing  274 Blue Bill Park Street  252 Hanson Circle   \n",
       "\n",
       "                         여행지7                 여행지8                여행지9  \\\n",
       "member_idx                                                               \n",
       "1           7 Forest Run Pass  694 Barnett Parkway  40688 Mcbride Park   \n",
       "\n",
       "                         여행지10  \n",
       "member_idx                      \n",
       "1           1 Saint Paul Place  "
      ]
     },
     "execution_count": 24,
     "metadata": {},
     "output_type": "execute_result"
    }
   ],
   "source": [
    "df[0:1]"
   ]
  },
  {
   "cell_type": "code",
   "execution_count": 31,
   "metadata": {},
   "outputs": [
    {
     "data": {
      "text/plain": [
       "member_idx\n",
       "1       19 Hudson Park 76 Clyde Gallagher Drive 13594 ...\n",
       "2       2517 Crownhardt Plaza 2141 Butterfield Junctio...\n",
       "3       994 Ilene Way 0205 Kropf Trail 04 Porter Point...\n",
       "4       148 Redwing Street 35039 Clarendon Court 9 Car...\n",
       "5       22 Bartelt Place 1 Donald Terrace 0 Hermina Ce...\n",
       "                              ...                        \n",
       "996     09 Gina Place 6075 Blackbird Hill 0 Union Circ...\n",
       "997     68657 Ludington Park 67 Twin Pines Circle 4460...\n",
       "998     22638 Portage Road 33873 Burning Wood Lane 950...\n",
       "999     17 Dawn Trail 3 Maple Terrace 492 Autumn Leaf ...\n",
       "1000    3 Burrows Way 28499 Brickson Park Park 8 Westp...\n",
       "Name: 여행지1, Length: 1000, dtype: object"
      ]
     },
     "execution_count": 31,
     "metadata": {},
     "output_type": "execute_result"
    }
   ],
   "source": [
    "df['여행지1'].str.cat(df['여행지2'], sep=' ').str.cat(df['여행지3'], sep=' ').str.cat(df['여행지4'], sep=' ').str.cat(df['여행지5'], sep=' ').str.cat(df['여행지6'], sep=' ').str.cat(df['여행지7'], sep=' ').str.cat(df['여행지8'], sep=' ').str.cat(df['여행지9'], sep=' ').str.cat(df['여행지10'], sep=' ')\n",
    "# 여행지 1~10을 하나의 String으로 묶기"
   ]
  },
  {
   "cell_type": "markdown",
   "metadata": {},
   "source": [
    "### TF-IDF, 코사인 유사도"
   ]
  },
  {
   "cell_type": "code",
   "execution_count": 4,
   "metadata": {},
   "outputs": [],
   "source": [
    "from sklearn.feature_extraction.text import TfidfVectorizer\n",
    "from sklearn.metrics.pairwise import cosine_similarity, euclidean_distances"
   ]
  },
  {
   "cell_type": "code",
   "execution_count": 5,
   "metadata": {},
   "outputs": [],
   "source": [
    "tfidf = TfidfVectorizer()"
   ]
  },
  {
   "cell_type": "code",
   "execution_count": null,
   "metadata": {},
   "outputs": [],
   "source": [
    "tfidf_matrix = tfidf.fit_transform()"
   ]
  }
 ],
 "metadata": {
  "kernelspec": {
   "display_name": "Python 3",
   "language": "python",
   "name": "python3"
  },
  "language_info": {
   "codemirror_mode": {
    "name": "ipython",
    "version": 3
   },
   "file_extension": ".py",
   "mimetype": "text/x-python",
   "name": "python",
   "nbconvert_exporter": "python",
   "pygments_lexer": "ipython3",
   "version": "3.7.4"
  }
 },
 "nbformat": 4,
 "nbformat_minor": 2
}
