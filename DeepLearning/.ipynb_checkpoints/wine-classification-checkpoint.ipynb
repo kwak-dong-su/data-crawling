{
 "cells": [
  {
   "cell_type": "code",
   "execution_count": 1,
   "metadata": {},
   "outputs": [],
   "source": [
    "import pandas as pd\n",
    "import numpy as np\n",
    "import random\n",
    "import tensorflow as tf"
   ]
  },
  {
   "cell_type": "code",
   "execution_count": 2,
   "metadata": {},
   "outputs": [],
   "source": [
    "data = pd.read_csv('wine_train.csv')"
   ]
  },
  {
   "cell_type": "code",
   "execution_count": 3,
   "metadata": {},
   "outputs": [
    {
     "data": {
      "text/plain": [
       "(5497, 14)"
      ]
     },
     "execution_count": 3,
     "metadata": {},
     "output_type": "execute_result"
    }
   ],
   "source": [
    "data.shape"
   ]
  },
  {
   "cell_type": "code",
   "execution_count": 4,
   "metadata": {},
   "outputs": [
    {
     "data": {
      "text/html": [
       "<div>\n",
       "<style scoped>\n",
       "    .dataframe tbody tr th:only-of-type {\n",
       "        vertical-align: middle;\n",
       "    }\n",
       "\n",
       "    .dataframe tbody tr th {\n",
       "        vertical-align: top;\n",
       "    }\n",
       "\n",
       "    .dataframe thead th {\n",
       "        text-align: right;\n",
       "    }\n",
       "</style>\n",
       "<table border=\"1\" class=\"dataframe\">\n",
       "  <thead>\n",
       "    <tr style=\"text-align: right;\">\n",
       "      <th></th>\n",
       "      <th>index</th>\n",
       "      <th>quality</th>\n",
       "      <th>fixed acidity</th>\n",
       "      <th>volatile acidity</th>\n",
       "      <th>citric acid</th>\n",
       "      <th>residual sugar</th>\n",
       "      <th>chlorides</th>\n",
       "      <th>free sulfur dioxide</th>\n",
       "      <th>total sulfur dioxide</th>\n",
       "      <th>density</th>\n",
       "      <th>pH</th>\n",
       "      <th>sulphates</th>\n",
       "      <th>alcohol</th>\n",
       "      <th>type</th>\n",
       "    </tr>\n",
       "  </thead>\n",
       "  <tbody>\n",
       "    <tr>\n",
       "      <th>0</th>\n",
       "      <td>0</td>\n",
       "      <td>5</td>\n",
       "      <td>5.6</td>\n",
       "      <td>0.695</td>\n",
       "      <td>0.06</td>\n",
       "      <td>6.8</td>\n",
       "      <td>0.042</td>\n",
       "      <td>9.0</td>\n",
       "      <td>84.0</td>\n",
       "      <td>0.99432</td>\n",
       "      <td>3.44</td>\n",
       "      <td>0.44</td>\n",
       "      <td>10.2</td>\n",
       "      <td>white</td>\n",
       "    </tr>\n",
       "    <tr>\n",
       "      <th>1</th>\n",
       "      <td>1</td>\n",
       "      <td>5</td>\n",
       "      <td>8.8</td>\n",
       "      <td>0.610</td>\n",
       "      <td>0.14</td>\n",
       "      <td>2.4</td>\n",
       "      <td>0.067</td>\n",
       "      <td>10.0</td>\n",
       "      <td>42.0</td>\n",
       "      <td>0.99690</td>\n",
       "      <td>3.19</td>\n",
       "      <td>0.59</td>\n",
       "      <td>9.5</td>\n",
       "      <td>red</td>\n",
       "    </tr>\n",
       "    <tr>\n",
       "      <th>2</th>\n",
       "      <td>2</td>\n",
       "      <td>5</td>\n",
       "      <td>7.9</td>\n",
       "      <td>0.210</td>\n",
       "      <td>0.39</td>\n",
       "      <td>2.0</td>\n",
       "      <td>0.057</td>\n",
       "      <td>21.0</td>\n",
       "      <td>138.0</td>\n",
       "      <td>0.99176</td>\n",
       "      <td>3.05</td>\n",
       "      <td>0.52</td>\n",
       "      <td>10.9</td>\n",
       "      <td>white</td>\n",
       "    </tr>\n",
       "  </tbody>\n",
       "</table>\n",
       "</div>"
      ],
      "text/plain": [
       "   index  quality  fixed acidity  volatile acidity  citric acid  \\\n",
       "0      0        5            5.6             0.695         0.06   \n",
       "1      1        5            8.8             0.610         0.14   \n",
       "2      2        5            7.9             0.210         0.39   \n",
       "\n",
       "   residual sugar  chlorides  free sulfur dioxide  total sulfur dioxide  \\\n",
       "0             6.8      0.042                  9.0                  84.0   \n",
       "1             2.4      0.067                 10.0                  42.0   \n",
       "2             2.0      0.057                 21.0                 138.0   \n",
       "\n",
       "   density    pH  sulphates  alcohol   type  \n",
       "0  0.99432  3.44       0.44     10.2  white  \n",
       "1  0.99690  3.19       0.59      9.5    red  \n",
       "2  0.99176  3.05       0.52     10.9  white  "
      ]
     },
     "execution_count": 4,
     "metadata": {},
     "output_type": "execute_result"
    }
   ],
   "source": [
    "data[:3]"
   ]
  },
  {
   "cell_type": "code",
   "execution_count": 5,
   "metadata": {},
   "outputs": [
    {
     "data": {
      "text/plain": [
       "6    2416\n",
       "5    1788\n",
       "7     924\n",
       "4     186\n",
       "8     152\n",
       "3      26\n",
       "9       5\n",
       "Name: quality, dtype: int64"
      ]
     },
     "execution_count": 5,
     "metadata": {},
     "output_type": "execute_result"
    }
   ],
   "source": [
    "data['quality'].value_counts()"
   ]
  },
  {
   "cell_type": "code",
   "execution_count": 6,
   "metadata": {},
   "outputs": [
    {
     "data": {
      "text/plain": [
       "0       white\n",
       "1         red\n",
       "2       white\n",
       "3       white\n",
       "4       white\n",
       "        ...  \n",
       "5492    white\n",
       "5493    white\n",
       "5494    white\n",
       "5495    white\n",
       "5496    white\n",
       "Name: type, Length: 5497, dtype: object"
      ]
     },
     "execution_count": 6,
     "metadata": {},
     "output_type": "execute_result"
    }
   ],
   "source": [
    "data.type"
   ]
  },
  {
   "cell_type": "code",
   "execution_count": 7,
   "metadata": {},
   "outputs": [
    {
     "data": {
      "text/plain": [
       "white    4159\n",
       "red      1338\n",
       "Name: type, dtype: int64"
      ]
     },
     "execution_count": 7,
     "metadata": {},
     "output_type": "execute_result"
    }
   ],
   "source": [
    "data.type.value_counts()"
   ]
  },
  {
   "cell_type": "code",
   "execution_count": 8,
   "metadata": {},
   "outputs": [
    {
     "name": "stdout",
     "output_type": "stream",
     "text": [
      "<class 'pandas.core.frame.DataFrame'>\n",
      "RangeIndex: 5497 entries, 0 to 5496\n",
      "Data columns (total 14 columns):\n",
      " #   Column                Non-Null Count  Dtype  \n",
      "---  ------                --------------  -----  \n",
      " 0   index                 5497 non-null   int64  \n",
      " 1   quality               5497 non-null   int64  \n",
      " 2   fixed acidity         5497 non-null   float64\n",
      " 3   volatile acidity      5497 non-null   float64\n",
      " 4   citric acid           5497 non-null   float64\n",
      " 5   residual sugar        5497 non-null   float64\n",
      " 6   chlorides             5497 non-null   float64\n",
      " 7   free sulfur dioxide   5497 non-null   float64\n",
      " 8   total sulfur dioxide  5497 non-null   float64\n",
      " 9   density               5497 non-null   float64\n",
      " 10  pH                    5497 non-null   float64\n",
      " 11  sulphates             5497 non-null   float64\n",
      " 12  alcohol               5497 non-null   float64\n",
      " 13  type                  5497 non-null   object \n",
      "dtypes: float64(11), int64(2), object(1)\n",
      "memory usage: 601.4+ KB\n"
     ]
    }
   ],
   "source": [
    "data.info()"
   ]
  },
  {
   "cell_type": "code",
   "execution_count": 9,
   "metadata": {},
   "outputs": [],
   "source": [
    "data['type']=np.where(data['type']=='white', 1, 0).astype('int')"
   ]
  },
  {
   "cell_type": "code",
   "execution_count": 10,
   "metadata": {},
   "outputs": [
    {
     "name": "stdout",
     "output_type": "stream",
     "text": [
      "<class 'pandas.core.frame.DataFrame'>\n",
      "RangeIndex: 5497 entries, 0 to 5496\n",
      "Data columns (total 14 columns):\n",
      " #   Column                Non-Null Count  Dtype  \n",
      "---  ------                --------------  -----  \n",
      " 0   index                 5497 non-null   int64  \n",
      " 1   quality               5497 non-null   int64  \n",
      " 2   fixed acidity         5497 non-null   float64\n",
      " 3   volatile acidity      5497 non-null   float64\n",
      " 4   citric acid           5497 non-null   float64\n",
      " 5   residual sugar        5497 non-null   float64\n",
      " 6   chlorides             5497 non-null   float64\n",
      " 7   free sulfur dioxide   5497 non-null   float64\n",
      " 8   total sulfur dioxide  5497 non-null   float64\n",
      " 9   density               5497 non-null   float64\n",
      " 10  pH                    5497 non-null   float64\n",
      " 11  sulphates             5497 non-null   float64\n",
      " 12  alcohol               5497 non-null   float64\n",
      " 13  type                  5497 non-null   int32  \n",
      "dtypes: float64(11), int32(1), int64(2)\n",
      "memory usage: 579.9 KB\n"
     ]
    }
   ],
   "source": [
    "data.info()"
   ]
  },
  {
   "cell_type": "code",
   "execution_count": 11,
   "metadata": {},
   "outputs": [],
   "source": [
    "from tensorflow.keras.utils import to_categorical"
   ]
  },
  {
   "cell_type": "code",
   "execution_count": 12,
   "metadata": {},
   "outputs": [],
   "source": [
    "# 딥러닝 기본에서는 target이 명목형인 경우, dummy로 만들어 주어아 한다. (one-hot 인코딩)"
   ]
  },
  {
   "cell_type": "code",
   "execution_count": 13,
   "metadata": {},
   "outputs": [],
   "source": [
    "y_data=to_categorical(data['quality']-3) \n",
    "# 그냥 둬도 작동은 하지만, -3을 함으로써 0부터 시작. 메모리 낭비를 최소화(그대로 둬도 0부터 시작하므로)"
   ]
  },
  {
   "cell_type": "code",
   "execution_count": 14,
   "metadata": {},
   "outputs": [
    {
     "data": {
      "text/plain": [
       "array([[0., 0., 1., 0., 0., 0., 0.],\n",
       "       [0., 0., 1., 0., 0., 0., 0.],\n",
       "       [0., 0., 1., 0., 0., 0., 0.]], dtype=float32)"
      ]
     },
     "execution_count": 14,
     "metadata": {},
     "output_type": "execute_result"
    }
   ],
   "source": [
    "y_data[:3]"
   ]
  },
  {
   "cell_type": "code",
   "execution_count": 15,
   "metadata": {},
   "outputs": [],
   "source": [
    "X_data=data.loc[:,'fixed acidity':]"
   ]
  },
  {
   "cell_type": "code",
   "execution_count": 16,
   "metadata": {},
   "outputs": [
    {
     "data": {
      "text/html": [
       "<div>\n",
       "<style scoped>\n",
       "    .dataframe tbody tr th:only-of-type {\n",
       "        vertical-align: middle;\n",
       "    }\n",
       "\n",
       "    .dataframe tbody tr th {\n",
       "        vertical-align: top;\n",
       "    }\n",
       "\n",
       "    .dataframe thead th {\n",
       "        text-align: right;\n",
       "    }\n",
       "</style>\n",
       "<table border=\"1\" class=\"dataframe\">\n",
       "  <thead>\n",
       "    <tr style=\"text-align: right;\">\n",
       "      <th></th>\n",
       "      <th>fixed acidity</th>\n",
       "      <th>volatile acidity</th>\n",
       "      <th>citric acid</th>\n",
       "      <th>residual sugar</th>\n",
       "      <th>chlorides</th>\n",
       "      <th>free sulfur dioxide</th>\n",
       "      <th>total sulfur dioxide</th>\n",
       "      <th>density</th>\n",
       "      <th>pH</th>\n",
       "      <th>sulphates</th>\n",
       "      <th>alcohol</th>\n",
       "      <th>type</th>\n",
       "    </tr>\n",
       "  </thead>\n",
       "  <tbody>\n",
       "    <tr>\n",
       "      <th>0</th>\n",
       "      <td>5.6</td>\n",
       "      <td>0.695</td>\n",
       "      <td>0.06</td>\n",
       "      <td>6.8</td>\n",
       "      <td>0.042</td>\n",
       "      <td>9.0</td>\n",
       "      <td>84.0</td>\n",
       "      <td>0.99432</td>\n",
       "      <td>3.44</td>\n",
       "      <td>0.44</td>\n",
       "      <td>10.2</td>\n",
       "      <td>1</td>\n",
       "    </tr>\n",
       "    <tr>\n",
       "      <th>1</th>\n",
       "      <td>8.8</td>\n",
       "      <td>0.610</td>\n",
       "      <td>0.14</td>\n",
       "      <td>2.4</td>\n",
       "      <td>0.067</td>\n",
       "      <td>10.0</td>\n",
       "      <td>42.0</td>\n",
       "      <td>0.99690</td>\n",
       "      <td>3.19</td>\n",
       "      <td>0.59</td>\n",
       "      <td>9.5</td>\n",
       "      <td>0</td>\n",
       "    </tr>\n",
       "    <tr>\n",
       "      <th>2</th>\n",
       "      <td>7.9</td>\n",
       "      <td>0.210</td>\n",
       "      <td>0.39</td>\n",
       "      <td>2.0</td>\n",
       "      <td>0.057</td>\n",
       "      <td>21.0</td>\n",
       "      <td>138.0</td>\n",
       "      <td>0.99176</td>\n",
       "      <td>3.05</td>\n",
       "      <td>0.52</td>\n",
       "      <td>10.9</td>\n",
       "      <td>1</td>\n",
       "    </tr>\n",
       "  </tbody>\n",
       "</table>\n",
       "</div>"
      ],
      "text/plain": [
       "   fixed acidity  volatile acidity  citric acid  residual sugar  chlorides  \\\n",
       "0            5.6             0.695         0.06             6.8      0.042   \n",
       "1            8.8             0.610         0.14             2.4      0.067   \n",
       "2            7.9             0.210         0.39             2.0      0.057   \n",
       "\n",
       "   free sulfur dioxide  total sulfur dioxide  density    pH  sulphates  \\\n",
       "0                  9.0                  84.0  0.99432  3.44       0.44   \n",
       "1                 10.0                  42.0  0.99690  3.19       0.59   \n",
       "2                 21.0                 138.0  0.99176  3.05       0.52   \n",
       "\n",
       "   alcohol  type  \n",
       "0     10.2     1  \n",
       "1      9.5     0  \n",
       "2     10.9     1  "
      ]
     },
     "execution_count": 16,
     "metadata": {},
     "output_type": "execute_result"
    }
   ],
   "source": [
    "X_data[:3]"
   ]
  },
  {
   "cell_type": "code",
   "execution_count": 17,
   "metadata": {},
   "outputs": [
    {
     "data": {
      "text/plain": [
       "((5497, 12), (5497, 7))"
      ]
     },
     "execution_count": 17,
     "metadata": {},
     "output_type": "execute_result"
    }
   ],
   "source": [
    "X_data.shape, y_data.shape"
   ]
  },
  {
   "cell_type": "code",
   "execution_count": 18,
   "metadata": {},
   "outputs": [],
   "source": [
    "from sklearn.preprocessing import MinMaxScaler\n",
    "from sklearn.model_selection import train_test_split"
   ]
  },
  {
   "cell_type": "code",
   "execution_count": 19,
   "metadata": {},
   "outputs": [],
   "source": [
    "scaler = MinMaxScaler()\n",
    "X_data_scaled = scaler.fit_transform(X_data)"
   ]
  },
  {
   "cell_type": "code",
   "execution_count": 21,
   "metadata": {},
   "outputs": [
    {
     "name": "stdout",
     "output_type": "stream",
     "text": [
      "(4397, 12) (4397, 7)\n",
      "(1100, 12) (1100, 7)\n"
     ]
    }
   ],
   "source": [
    "X_train, X_test, y_train, y_test = train_test_split(X_data_scaled, y_data, \n",
    "                                                    test_size=0.2, \n",
    "                                                    shuffle=True, \n",
    "                                                    random_state=11)\n",
    "print(X_train.shape, y_train.shape)\n",
    "print(X_test.shape, y_test.shape)"
   ]
  },
  {
   "cell_type": "code",
   "execution_count": 22,
   "metadata": {},
   "outputs": [],
   "source": [
    "# 모델생성\n",
    "# 심층 신경망 모델\n",
    "from tensorflow.keras import Sequential\n",
    "from tensorflow.keras.layers import Dense"
   ]
  },
  {
   "cell_type": "code",
   "execution_count": 23,
   "metadata": {},
   "outputs": [],
   "source": [
    "model = Sequential()\n",
    "model.add(Dense(128, activation='relu', input_dim=12))\n",
    "model.add(Dense(64, activation='relu'))\n",
    "model.add(Dense(32, activation='relu'))\n",
    "model.add(Dense(10, activation='relu'))\n",
    "model.add(Dense(7, activation='softmax'))"
   ]
  },
  {
   "cell_type": "code",
   "execution_count": 24,
   "metadata": {},
   "outputs": [],
   "source": [
    "# 이 모델로 설정을 하겠음(compile)\n",
    "model.compile(optimizer='adam', loss='categorical_crossentropy', metrics=['acc','mae'])"
   ]
  },
  {
   "cell_type": "code",
   "execution_count": 25,
   "metadata": {},
   "outputs": [
    {
     "name": "stdout",
     "output_type": "stream",
     "text": [
      "Model: \"sequential\"\n",
      "_________________________________________________________________\n",
      " Layer (type)                Output Shape              Param #   \n",
      "=================================================================\n",
      " dense (Dense)               (None, 128)               1664      \n",
      "                                                                 \n",
      " dense_1 (Dense)             (None, 64)                8256      \n",
      "                                                                 \n",
      " dense_2 (Dense)             (None, 32)                2080      \n",
      "                                                                 \n",
      " dense_3 (Dense)             (None, 10)                330       \n",
      "                                                                 \n",
      " dense_4 (Dense)             (None, 7)                 77        \n",
      "                                                                 \n",
      "=================================================================\n",
      "Total params: 12,407\n",
      "Trainable params: 12,407\n",
      "Non-trainable params: 0\n",
      "_________________________________________________________________\n"
     ]
    }
   ],
   "source": [
    "# 설정한 레이어들을 요약\n",
    "model.summary()"
   ]
  },
  {
   "cell_type": "code",
   "execution_count": 29,
   "metadata": {},
   "outputs": [
    {
     "name": "stdout",
     "output_type": "stream",
     "text": [
      "Epoch 1/200\n",
      "88/88 - 0s - loss: 0.9303 - acc: 0.6070 - mae: 0.1501 - 73ms/epoch - 830us/step\n",
      "Epoch 2/200\n",
      "88/88 - 0s - loss: 0.9307 - acc: 0.6047 - mae: 0.1498 - 85ms/epoch - 968us/step\n",
      "Epoch 3/200\n",
      "88/88 - 0s - loss: 0.9267 - acc: 0.6086 - mae: 0.1498 - 102ms/epoch - 1ms/step\n",
      "Epoch 4/200\n",
      "88/88 - 0s - loss: 0.9230 - acc: 0.6056 - mae: 0.1486 - 65ms/epoch - 743us/step\n",
      "Epoch 5/200\n",
      "88/88 - 0s - loss: 0.9243 - acc: 0.6079 - mae: 0.1492 - 85ms/epoch - 962us/step\n",
      "Epoch 6/200\n",
      "88/88 - 0s - loss: 0.9190 - acc: 0.6111 - mae: 0.1487 - 90ms/epoch - 1ms/step\n",
      "Epoch 7/200\n",
      "88/88 - 0s - loss: 0.9150 - acc: 0.6179 - mae: 0.1478 - 78ms/epoch - 883us/step\n",
      "Epoch 8/200\n",
      "88/88 - 0s - loss: 0.9168 - acc: 0.6086 - mae: 0.1480 - 71ms/epoch - 805us/step\n",
      "Epoch 9/200\n",
      "88/88 - 0s - loss: 0.9247 - acc: 0.6143 - mae: 0.1485 - 73ms/epoch - 827us/step\n",
      "Epoch 10/200\n",
      "88/88 - 0s - loss: 0.9187 - acc: 0.6125 - mae: 0.1482 - 70ms/epoch - 790us/step\n",
      "Epoch 11/200\n",
      "88/88 - 0s - loss: 0.9172 - acc: 0.6147 - mae: 0.1483 - 72ms/epoch - 816us/step\n",
      "Epoch 12/200\n",
      "88/88 - 0s - loss: 0.9132 - acc: 0.6168 - mae: 0.1475 - 68ms/epoch - 767us/step\n",
      "Epoch 13/200\n",
      "88/88 - 0s - loss: 0.9139 - acc: 0.6147 - mae: 0.1472 - 74ms/epoch - 839us/step\n",
      "Epoch 14/200\n",
      "88/88 - 0s - loss: 0.9181 - acc: 0.6152 - mae: 0.1478 - 69ms/epoch - 785us/step\n",
      "Epoch 15/200\n",
      "88/88 - 0s - loss: 0.9096 - acc: 0.6170 - mae: 0.1475 - 67ms/epoch - 756us/step\n",
      "Epoch 16/200\n",
      "88/88 - 0s - loss: 0.9088 - acc: 0.6145 - mae: 0.1470 - 75ms/epoch - 850us/step\n",
      "Epoch 17/200\n",
      "88/88 - 0s - loss: 0.9086 - acc: 0.6134 - mae: 0.1471 - 72ms/epoch - 822us/step\n",
      "Epoch 18/200\n",
      "88/88 - 0s - loss: 0.9065 - acc: 0.6166 - mae: 0.1461 - 70ms/epoch - 801us/step\n",
      "Epoch 19/200\n",
      "88/88 - 0s - loss: 0.9042 - acc: 0.6220 - mae: 0.1463 - 72ms/epoch - 816us/step\n",
      "Epoch 20/200\n",
      "88/88 - 0s - loss: 0.9062 - acc: 0.6166 - mae: 0.1464 - 70ms/epoch - 790us/step\n",
      "Epoch 21/200\n",
      "88/88 - 0s - loss: 0.9017 - acc: 0.6257 - mae: 0.1465 - 61ms/epoch - 692us/step\n",
      "Epoch 22/200\n",
      "88/88 - 0s - loss: 0.8989 - acc: 0.6272 - mae: 0.1457 - 54ms/epoch - 616us/step\n",
      "Epoch 23/200\n",
      "88/88 - 0s - loss: 0.9024 - acc: 0.6179 - mae: 0.1460 - 69ms/epoch - 779us/step\n",
      "Epoch 24/200\n",
      "88/88 - 0s - loss: 0.9001 - acc: 0.6159 - mae: 0.1456 - 72ms/epoch - 816us/step\n",
      "Epoch 25/200\n",
      "88/88 - 0s - loss: 0.8980 - acc: 0.6295 - mae: 0.1454 - 72ms/epoch - 819us/step\n",
      "Epoch 26/200\n",
      "88/88 - 0s - loss: 0.8957 - acc: 0.6202 - mae: 0.1448 - 72ms/epoch - 816us/step\n",
      "Epoch 27/200\n",
      "88/88 - 0s - loss: 0.8964 - acc: 0.6257 - mae: 0.1456 - 71ms/epoch - 805us/step\n",
      "Epoch 28/200\n",
      "88/88 - 0s - loss: 0.8908 - acc: 0.6209 - mae: 0.1446 - 73ms/epoch - 827us/step\n",
      "Epoch 29/200\n",
      "88/88 - 0s - loss: 0.8944 - acc: 0.6272 - mae: 0.1444 - 73ms/epoch - 826us/step\n",
      "Epoch 30/200\n",
      "88/88 - 0s - loss: 0.8886 - acc: 0.6252 - mae: 0.1443 - 57ms/epoch - 646us/step\n",
      "Epoch 31/200\n",
      "88/88 - 0s - loss: 0.8911 - acc: 0.6268 - mae: 0.1442 - 76ms/epoch - 861us/step\n",
      "Epoch 32/200\n",
      "88/88 - 0s - loss: 0.8857 - acc: 0.6295 - mae: 0.1438 - 77ms/epoch - 880us/step\n",
      "Epoch 33/200\n",
      "88/88 - 0s - loss: 0.8893 - acc: 0.6300 - mae: 0.1439 - 73ms/epoch - 825us/step\n",
      "Epoch 34/200\n",
      "88/88 - 0s - loss: 0.8825 - acc: 0.6336 - mae: 0.1430 - 76ms/epoch - 861us/step\n",
      "Epoch 35/200\n",
      "88/88 - 0s - loss: 0.8838 - acc: 0.6307 - mae: 0.1436 - 76ms/epoch - 865us/step\n",
      "Epoch 36/200\n",
      "88/88 - 0s - loss: 0.8869 - acc: 0.6293 - mae: 0.1434 - 75ms/epoch - 848us/step\n",
      "Epoch 37/200\n",
      "88/88 - 0s - loss: 0.8890 - acc: 0.6293 - mae: 0.1436 - 76ms/epoch - 862us/step\n",
      "Epoch 38/200\n",
      "88/88 - 0s - loss: 0.8791 - acc: 0.6325 - mae: 0.1426 - 77ms/epoch - 877us/step\n",
      "Epoch 39/200\n",
      "88/88 - 0s - loss: 0.8836 - acc: 0.6268 - mae: 0.1433 - 76ms/epoch - 867us/step\n",
      "Epoch 40/200\n",
      "88/88 - 0s - loss: 0.8759 - acc: 0.6307 - mae: 0.1425 - 85ms/epoch - 963us/step\n",
      "Epoch 41/200\n",
      "88/88 - 0s - loss: 0.8779 - acc: 0.6300 - mae: 0.1424 - 82ms/epoch - 929us/step\n",
      "Epoch 42/200\n",
      "88/88 - 0s - loss: 0.8729 - acc: 0.6438 - mae: 0.1411 - 79ms/epoch - 896us/step\n",
      "Epoch 43/200\n",
      "88/88 - 0s - loss: 0.8718 - acc: 0.6391 - mae: 0.1410 - 78ms/epoch - 884us/step\n",
      "Epoch 44/200\n",
      "88/88 - 0s - loss: 0.8744 - acc: 0.6400 - mae: 0.1424 - 78ms/epoch - 891us/step\n",
      "Epoch 45/200\n",
      "88/88 - 0s - loss: 0.8766 - acc: 0.6304 - mae: 0.1422 - 81ms/epoch - 918us/step\n",
      "Epoch 46/200\n",
      "88/88 - 0s - loss: 0.8780 - acc: 0.6373 - mae: 0.1417 - 80ms/epoch - 907us/step\n",
      "Epoch 47/200\n",
      "88/88 - 0s - loss: 0.8698 - acc: 0.6363 - mae: 0.1417 - 76ms/epoch - 861us/step\n",
      "Epoch 48/200\n",
      "88/88 - 0s - loss: 0.8654 - acc: 0.6348 - mae: 0.1403 - 75ms/epoch - 850us/step\n",
      "Epoch 49/200\n",
      "88/88 - 0s - loss: 0.8638 - acc: 0.6425 - mae: 0.1406 - 81ms/epoch - 918us/step\n",
      "Epoch 50/200\n",
      "88/88 - 0s - loss: 0.8696 - acc: 0.6332 - mae: 0.1411 - 87ms/epoch - 986us/step\n",
      "Epoch 51/200\n",
      "88/88 - 0s - loss: 0.8633 - acc: 0.6361 - mae: 0.1407 - 72ms/epoch - 816us/step\n",
      "Epoch 52/200\n",
      "88/88 - 0s - loss: 0.8677 - acc: 0.6391 - mae: 0.1407 - 68ms/epoch - 773us/step\n",
      "Epoch 53/200\n",
      "88/88 - 0s - loss: 0.8656 - acc: 0.6382 - mae: 0.1400 - 72ms/epoch - 816us/step\n",
      "Epoch 54/200\n",
      "88/88 - 0s - loss: 0.8604 - acc: 0.6434 - mae: 0.1400 - 66ms/epoch - 750us/step\n",
      "Epoch 55/200\n",
      "88/88 - 0s - loss: 0.8651 - acc: 0.6327 - mae: 0.1404 - 63ms/epoch - 720us/step\n",
      "Epoch 56/200\n",
      "88/88 - 0s - loss: 0.8546 - acc: 0.6493 - mae: 0.1394 - 58ms/epoch - 654us/step\n",
      "Epoch 57/200\n",
      "88/88 - 0s - loss: 0.8550 - acc: 0.6400 - mae: 0.1388 - 59ms/epoch - 665us/step\n",
      "Epoch 58/200\n",
      "88/88 - 0s - loss: 0.8543 - acc: 0.6409 - mae: 0.1391 - 65ms/epoch - 735us/step\n",
      "Epoch 59/200\n",
      "88/88 - 0s - loss: 0.8536 - acc: 0.6413 - mae: 0.1383 - 59ms/epoch - 670us/step\n",
      "Epoch 60/200\n",
      "88/88 - 0s - loss: 0.8500 - acc: 0.6443 - mae: 0.1387 - 54ms/epoch - 609us/step\n",
      "Epoch 61/200\n",
      "88/88 - 0s - loss: 0.8504 - acc: 0.6438 - mae: 0.1381 - 86ms/epoch - 975us/step\n",
      "Epoch 62/200\n",
      "88/88 - 0s - loss: 0.8489 - acc: 0.6425 - mae: 0.1383 - 71ms/epoch - 805us/step\n",
      "Epoch 63/200\n",
      "88/88 - 0s - loss: 0.8593 - acc: 0.6377 - mae: 0.1388 - 73ms/epoch - 830us/step\n",
      "Epoch 64/200\n",
      "88/88 - 0s - loss: 0.8502 - acc: 0.6441 - mae: 0.1380 - 75ms/epoch - 850us/step\n",
      "Epoch 65/200\n",
      "88/88 - 0s - loss: 0.8470 - acc: 0.6473 - mae: 0.1376 - 74ms/epoch - 839us/step\n",
      "Epoch 66/200\n",
      "88/88 - 0s - loss: 0.8471 - acc: 0.6402 - mae: 0.1380 - 75ms/epoch - 850us/step\n",
      "Epoch 67/200\n",
      "88/88 - 0s - loss: 0.8439 - acc: 0.6416 - mae: 0.1371 - 73ms/epoch - 827us/step\n",
      "Epoch 68/200\n",
      "88/88 - 0s - loss: 0.8476 - acc: 0.6441 - mae: 0.1376 - 71ms/epoch - 805us/step\n",
      "Epoch 69/200\n",
      "88/88 - 0s - loss: 0.8430 - acc: 0.6459 - mae: 0.1372 - 74ms/epoch - 839us/step\n",
      "Epoch 70/200\n",
      "88/88 - 0s - loss: 0.8344 - acc: 0.6566 - mae: 0.1363 - 74ms/epoch - 839us/step\n",
      "Epoch 71/200\n",
      "88/88 - 0s - loss: 0.8460 - acc: 0.6452 - mae: 0.1372 - 76ms/epoch - 861us/step\n",
      "Epoch 72/200\n",
      "88/88 - 0s - loss: 0.8427 - acc: 0.6463 - mae: 0.1366 - 72ms/epoch - 816us/step\n",
      "Epoch 73/200\n",
      "88/88 - 0s - loss: 0.8349 - acc: 0.6559 - mae: 0.1360 - 69ms/epoch - 780us/step\n",
      "Epoch 74/200\n",
      "88/88 - 0s - loss: 0.8353 - acc: 0.6511 - mae: 0.1363 - 73ms/epoch - 828us/step\n",
      "Epoch 75/200\n",
      "88/88 - 0s - loss: 0.8402 - acc: 0.6500 - mae: 0.1360 - 55ms/epoch - 624us/step\n",
      "Epoch 76/200\n",
      "88/88 - 0s - loss: 0.8330 - acc: 0.6520 - mae: 0.1357 - 71ms/epoch - 805us/step\n",
      "Epoch 77/200\n",
      "88/88 - 0s - loss: 0.8268 - acc: 0.6545 - mae: 0.1349 - 60ms/epoch - 677us/step\n",
      "Epoch 78/200\n",
      "88/88 - 0s - loss: 0.8272 - acc: 0.6541 - mae: 0.1344 - 70ms/epoch - 792us/step\n",
      "Epoch 79/200\n",
      "88/88 - 0s - loss: 0.8331 - acc: 0.6614 - mae: 0.1351 - 68ms/epoch - 778us/step\n",
      "Epoch 80/200\n",
      "88/88 - 0s - loss: 0.8276 - acc: 0.6570 - mae: 0.1344 - 70ms/epoch - 793us/step\n",
      "Epoch 81/200\n",
      "88/88 - 0s - loss: 0.8323 - acc: 0.6466 - mae: 0.1353 - 71ms/epoch - 809us/step\n",
      "Epoch 82/200\n",
      "88/88 - 0s - loss: 0.8279 - acc: 0.6484 - mae: 0.1344 - 68ms/epoch - 772us/step\n",
      "Epoch 83/200\n",
      "88/88 - 0s - loss: 0.8277 - acc: 0.6536 - mae: 0.1340 - 63ms/epoch - 714us/step\n",
      "Epoch 84/200\n",
      "88/88 - 0s - loss: 0.8239 - acc: 0.6591 - mae: 0.1344 - 58ms/epoch - 654us/step\n",
      "Epoch 85/200\n",
      "88/88 - 0s - loss: 0.8247 - acc: 0.6516 - mae: 0.1335 - 68ms/epoch - 768us/step\n",
      "Epoch 86/200\n",
      "88/88 - 0s - loss: 0.8303 - acc: 0.6541 - mae: 0.1349 - 71ms/epoch - 807us/step\n",
      "Epoch 87/200\n",
      "88/88 - 0s - loss: 0.8165 - acc: 0.6573 - mae: 0.1332 - 59ms/epoch - 669us/step\n",
      "Epoch 88/200\n",
      "88/88 - 0s - loss: 0.8159 - acc: 0.6589 - mae: 0.1333 - 72ms/epoch - 815us/step\n",
      "Epoch 89/200\n",
      "88/88 - 0s - loss: 0.8138 - acc: 0.6630 - mae: 0.1320 - 67ms/epoch - 756us/step\n"
     ]
    },
    {
     "name": "stdout",
     "output_type": "stream",
     "text": [
      "Epoch 90/200\n",
      "88/88 - 0s - loss: 0.8209 - acc: 0.6641 - mae: 0.1337 - 68ms/epoch - 774us/step\n",
      "Epoch 91/200\n",
      "88/88 - 0s - loss: 0.8139 - acc: 0.6636 - mae: 0.1324 - 60ms/epoch - 680us/step\n",
      "Epoch 92/200\n",
      "88/88 - 0s - loss: 0.8119 - acc: 0.6664 - mae: 0.1321 - 58ms/epoch - 654us/step\n",
      "Epoch 93/200\n",
      "88/88 - 0s - loss: 0.8231 - acc: 0.6550 - mae: 0.1330 - 59ms/epoch - 665us/step\n",
      "Epoch 94/200\n",
      "88/88 - 0s - loss: 0.8141 - acc: 0.6650 - mae: 0.1321 - 64ms/epoch - 725us/step\n",
      "Epoch 95/200\n",
      "88/88 - 0s - loss: 0.8094 - acc: 0.6641 - mae: 0.1319 - 62ms/epoch - 703us/step\n",
      "Epoch 96/200\n",
      "88/88 - 0s - loss: 0.8085 - acc: 0.6636 - mae: 0.1315 - 62ms/epoch - 699us/step\n",
      "Epoch 97/200\n",
      "88/88 - 0s - loss: 0.8097 - acc: 0.6707 - mae: 0.1312 - 48ms/epoch - 544us/step\n",
      "Epoch 98/200\n",
      "88/88 - 0s - loss: 0.8138 - acc: 0.6659 - mae: 0.1317 - 66ms/epoch - 748us/step\n",
      "Epoch 99/200\n",
      "88/88 - 0s - loss: 0.8104 - acc: 0.6602 - mae: 0.1315 - 73ms/epoch - 827us/step\n",
      "Epoch 100/200\n",
      "88/88 - 0s - loss: 0.8125 - acc: 0.6559 - mae: 0.1316 - 71ms/epoch - 804us/step\n",
      "Epoch 101/200\n",
      "88/88 - 0s - loss: 0.8110 - acc: 0.6625 - mae: 0.1315 - 72ms/epoch - 816us/step\n",
      "Epoch 102/200\n",
      "88/88 - 0s - loss: 0.8033 - acc: 0.6707 - mae: 0.1302 - 76ms/epoch - 861us/step\n",
      "Epoch 103/200\n",
      "88/88 - 0s - loss: 0.8043 - acc: 0.6750 - mae: 0.1308 - 70ms/epoch - 793us/step\n",
      "Epoch 104/200\n",
      "88/88 - 0s - loss: 0.7968 - acc: 0.6700 - mae: 0.1301 - 83ms/epoch - 940us/step\n",
      "Epoch 105/200\n",
      "88/88 - 0s - loss: 0.8029 - acc: 0.6686 - mae: 0.1308 - 73ms/epoch - 827us/step\n",
      "Epoch 106/200\n",
      "88/88 - 0s - loss: 0.7982 - acc: 0.6709 - mae: 0.1301 - 70ms/epoch - 797us/step\n",
      "Epoch 107/200\n",
      "88/88 - 0s - loss: 0.7969 - acc: 0.6702 - mae: 0.1300 - 64ms/epoch - 732us/step\n",
      "Epoch 108/200\n",
      "88/88 - 0s - loss: 0.7983 - acc: 0.6684 - mae: 0.1295 - 62ms/epoch - 703us/step\n",
      "Epoch 109/200\n",
      "88/88 - 0s - loss: 0.8042 - acc: 0.6614 - mae: 0.1306 - 62ms/epoch - 699us/step\n",
      "Epoch 110/200\n",
      "88/88 - 0s - loss: 0.7934 - acc: 0.6720 - mae: 0.1291 - 48ms/epoch - 544us/step\n",
      "Epoch 111/200\n",
      "88/88 - 0s - loss: 0.7930 - acc: 0.6693 - mae: 0.1292 - 51ms/epoch - 582us/step\n",
      "Epoch 112/200\n",
      "88/88 - 0s - loss: 0.7953 - acc: 0.6723 - mae: 0.1294 - 49ms/epoch - 556us/step\n",
      "Epoch 113/200\n",
      "88/88 - 0s - loss: 0.7889 - acc: 0.6720 - mae: 0.1285 - 52ms/epoch - 591us/step\n",
      "Epoch 114/200\n",
      "88/88 - 0s - loss: 0.7872 - acc: 0.6741 - mae: 0.1281 - 53ms/epoch - 600us/step\n",
      "Epoch 115/200\n",
      "88/88 - 0s - loss: 0.7928 - acc: 0.6682 - mae: 0.1289 - 56ms/epoch - 635us/step\n",
      "Epoch 116/200\n",
      "88/88 - 0s - loss: 0.7872 - acc: 0.6734 - mae: 0.1285 - 53ms/epoch - 602us/step\n",
      "Epoch 117/200\n",
      "88/88 - 0s - loss: 0.7856 - acc: 0.6675 - mae: 0.1281 - 65ms/epoch - 743us/step\n",
      "Epoch 118/200\n",
      "88/88 - 0s - loss: 0.7860 - acc: 0.6746 - mae: 0.1278 - 55ms/epoch - 624us/step\n",
      "Epoch 119/200\n",
      "88/88 - 0s - loss: 0.7786 - acc: 0.6807 - mae: 0.1269 - 55ms/epoch - 620us/step\n",
      "Epoch 120/200\n",
      "88/88 - 0s - loss: 0.7843 - acc: 0.6732 - mae: 0.1276 - 57ms/epoch - 643us/step\n",
      "Epoch 121/200\n",
      "88/88 - 0s - loss: 0.7757 - acc: 0.6871 - mae: 0.1264 - 59ms/epoch - 665us/step\n",
      "Epoch 122/200\n",
      "88/88 - 0s - loss: 0.7818 - acc: 0.6750 - mae: 0.1270 - 64ms/epoch - 723us/step\n",
      "Epoch 123/200\n",
      "88/88 - 0s - loss: 0.7845 - acc: 0.6702 - mae: 0.1277 - 63ms/epoch - 714us/step\n",
      "Epoch 124/200\n",
      "88/88 - 0s - loss: 0.7762 - acc: 0.6784 - mae: 0.1268 - 67ms/epoch - 765us/step\n",
      "Epoch 125/200\n",
      "88/88 - 0s - loss: 0.7739 - acc: 0.6871 - mae: 0.1262 - 63ms/epoch - 714us/step\n",
      "Epoch 126/200\n",
      "88/88 - 0s - loss: 0.7796 - acc: 0.6818 - mae: 0.1266 - 64ms/epoch - 733us/step\n",
      "Epoch 127/200\n",
      "88/88 - 0s - loss: 0.7805 - acc: 0.6730 - mae: 0.1266 - 64ms/epoch - 726us/step\n",
      "Epoch 128/200\n",
      "88/88 - 0s - loss: 0.7733 - acc: 0.6843 - mae: 0.1260 - 78ms/epoch - 885us/step\n",
      "Epoch 129/200\n",
      "88/88 - 0s - loss: 0.7712 - acc: 0.6832 - mae: 0.1262 - 70ms/epoch - 800us/step\n",
      "Epoch 130/200\n",
      "88/88 - 0s - loss: 0.7736 - acc: 0.6825 - mae: 0.1261 - 69ms/epoch - 782us/step\n",
      "Epoch 131/200\n",
      "88/88 - 0s - loss: 0.7692 - acc: 0.6827 - mae: 0.1251 - 55ms/epoch - 624us/step\n",
      "Epoch 132/200\n",
      "88/88 - 0s - loss: 0.7745 - acc: 0.6827 - mae: 0.1260 - 72ms/epoch - 821us/step\n",
      "Epoch 133/200\n",
      "88/88 - 0s - loss: 0.7612 - acc: 0.6786 - mae: 0.1246 - 69ms/epoch - 782us/step\n",
      "Epoch 134/200\n",
      "88/88 - 0s - loss: 0.7732 - acc: 0.6748 - mae: 0.1254 - 68ms/epoch - 775us/step\n",
      "Epoch 135/200\n",
      "88/88 - 0s - loss: 0.7667 - acc: 0.6805 - mae: 0.1248 - 69ms/epoch - 779us/step\n",
      "Epoch 136/200\n",
      "88/88 - 0s - loss: 0.7694 - acc: 0.6882 - mae: 0.1252 - 64ms/epoch - 726us/step\n",
      "Epoch 137/200\n",
      "88/88 - 0s - loss: 0.7616 - acc: 0.6914 - mae: 0.1246 - 59ms/epoch - 665us/step\n",
      "Epoch 138/200\n",
      "88/88 - 0s - loss: 0.7610 - acc: 0.6887 - mae: 0.1239 - 58ms/epoch - 654us/step\n",
      "Epoch 139/200\n",
      "88/88 - 0s - loss: 0.7640 - acc: 0.6836 - mae: 0.1244 - 66ms/epoch - 753us/step\n",
      "Epoch 140/200\n",
      "88/88 - 0s - loss: 0.7588 - acc: 0.6864 - mae: 0.1234 - 53ms/epoch - 601us/step\n",
      "Epoch 141/200\n",
      "88/88 - 0s - loss: 0.7504 - acc: 0.6941 - mae: 0.1232 - 53ms/epoch - 601us/step\n",
      "Epoch 142/200\n",
      "88/88 - 0s - loss: 0.7534 - acc: 0.6861 - mae: 0.1233 - 67ms/epoch - 759us/step\n",
      "Epoch 143/200\n",
      "88/88 - 0s - loss: 0.7556 - acc: 0.6891 - mae: 0.1231 - 65ms/epoch - 737us/step\n",
      "Epoch 144/200\n",
      "88/88 - 0s - loss: 0.7595 - acc: 0.6861 - mae: 0.1238 - 64ms/epoch - 726us/step\n",
      "Epoch 145/200\n",
      "88/88 - 0s - loss: 0.7535 - acc: 0.6861 - mae: 0.1230 - 62ms/epoch - 699us/step\n",
      "Epoch 146/200\n",
      "88/88 - 0s - loss: 0.7560 - acc: 0.6802 - mae: 0.1229 - 65ms/epoch - 737us/step\n",
      "Epoch 147/200\n",
      "88/88 - 0s - loss: 0.7474 - acc: 0.6898 - mae: 0.1225 - 63ms/epoch - 711us/step\n",
      "Epoch 148/200\n",
      "88/88 - 0s - loss: 0.7463 - acc: 0.6882 - mae: 0.1222 - 66ms/epoch - 754us/step\n",
      "Epoch 149/200\n",
      "88/88 - 0s - loss: 0.7504 - acc: 0.6850 - mae: 0.1227 - 64ms/epoch - 726us/step\n",
      "Epoch 150/200\n",
      "88/88 - 0s - loss: 0.7486 - acc: 0.6887 - mae: 0.1216 - 70ms/epoch - 799us/step\n",
      "Epoch 151/200\n",
      "88/88 - 0s - loss: 0.7498 - acc: 0.6896 - mae: 0.1227 - 57ms/epoch - 646us/step\n",
      "Epoch 152/200\n",
      "88/88 - 0s - loss: 0.7437 - acc: 0.6914 - mae: 0.1215 - 54ms/epoch - 616us/step\n",
      "Epoch 153/200\n",
      "88/88 - 0s - loss: 0.7395 - acc: 0.6941 - mae: 0.1212 - 67ms/epoch - 757us/step\n",
      "Epoch 154/200\n",
      "88/88 - 0s - loss: 0.7526 - acc: 0.6796 - mae: 0.1218 - 87ms/epoch - 986us/step\n",
      "Epoch 155/200\n",
      "88/88 - 0s - loss: 0.7469 - acc: 0.6843 - mae: 0.1219 - 68ms/epoch - 771us/step\n",
      "Epoch 156/200\n",
      "88/88 - 0s - loss: 0.7321 - acc: 0.6984 - mae: 0.1202 - 65ms/epoch - 743us/step\n",
      "Epoch 157/200\n",
      "88/88 - 0s - loss: 0.7495 - acc: 0.6850 - mae: 0.1213 - 56ms/epoch - 635us/step\n",
      "Epoch 158/200\n",
      "88/88 - 0s - loss: 0.7500 - acc: 0.6925 - mae: 0.1214 - 55ms/epoch - 620us/step\n",
      "Epoch 159/200\n",
      "88/88 - 0s - loss: 0.7424 - acc: 0.6946 - mae: 0.1221 - 56ms/epoch - 631us/step\n",
      "Epoch 160/200\n",
      "88/88 - 0s - loss: 0.7362 - acc: 0.6962 - mae: 0.1205 - 57ms/epoch - 643us/step\n",
      "Epoch 161/200\n",
      "88/88 - 0s - loss: 0.7418 - acc: 0.6955 - mae: 0.1211 - 66ms/epoch - 745us/step\n",
      "Epoch 162/200\n",
      "88/88 - 0s - loss: 0.7298 - acc: 0.6977 - mae: 0.1190 - 57ms/epoch - 646us/step\n",
      "Epoch 163/200\n",
      "88/88 - 0s - loss: 0.7333 - acc: 0.6957 - mae: 0.1203 - 57ms/epoch - 643us/step\n",
      "Epoch 164/200\n",
      "88/88 - 0s - loss: 0.7312 - acc: 0.6971 - mae: 0.1199 - 59ms/epoch - 665us/step\n",
      "Epoch 165/200\n",
      "88/88 - 0s - loss: 0.7378 - acc: 0.6914 - mae: 0.1199 - 58ms/epoch - 654us/step\n",
      "Epoch 166/200\n",
      "88/88 - 0s - loss: 0.7308 - acc: 0.6914 - mae: 0.1196 - 60ms/epoch - 677us/step\n",
      "Epoch 167/200\n",
      "88/88 - 0s - loss: 0.7318 - acc: 0.6941 - mae: 0.1195 - 63ms/epoch - 714us/step\n",
      "Epoch 168/200\n",
      "88/88 - 0s - loss: 0.7259 - acc: 0.6998 - mae: 0.1192 - 63ms/epoch - 711us/step\n",
      "Epoch 169/200\n",
      "88/88 - 0s - loss: 0.7236 - acc: 0.7018 - mae: 0.1185 - 65ms/epoch - 737us/step\n",
      "Epoch 170/200\n",
      "88/88 - 0s - loss: 0.7234 - acc: 0.7039 - mae: 0.1185 - 64ms/epoch - 722us/step\n",
      "Epoch 171/200\n",
      "88/88 - 0s - loss: 0.7190 - acc: 0.7066 - mae: 0.1181 - 64ms/epoch - 726us/step\n",
      "Epoch 172/200\n",
      "88/88 - 0s - loss: 0.7198 - acc: 0.7016 - mae: 0.1175 - 62ms/epoch - 699us/step\n",
      "Epoch 173/200\n",
      "88/88 - 0s - loss: 0.7231 - acc: 0.7068 - mae: 0.1178 - 57ms/epoch - 644us/step\n",
      "Epoch 174/200\n",
      "88/88 - 0s - loss: 0.7195 - acc: 0.7048 - mae: 0.1175 - 58ms/epoch - 654us/step\n",
      "Epoch 175/200\n",
      "88/88 - 0s - loss: 0.7164 - acc: 0.6998 - mae: 0.1180 - 59ms/epoch - 665us/step\n",
      "Epoch 176/200\n",
      "88/88 - 0s - loss: 0.7217 - acc: 0.6977 - mae: 0.1179 - 64ms/epoch - 732us/step\n",
      "Epoch 177/200\n",
      "88/88 - 0s - loss: 0.7177 - acc: 0.7012 - mae: 0.1179 - 79ms/epoch - 901us/step\n"
     ]
    },
    {
     "name": "stdout",
     "output_type": "stream",
     "text": [
      "Epoch 178/200\n",
      "88/88 - 0s - loss: 0.7195 - acc: 0.7046 - mae: 0.1174 - 69ms/epoch - 788us/step\n",
      "Epoch 179/200\n",
      "88/88 - 0s - loss: 0.7146 - acc: 0.7082 - mae: 0.1176 - 68ms/epoch - 771us/step\n",
      "Epoch 180/200\n",
      "88/88 - 0s - loss: 0.7086 - acc: 0.7084 - mae: 0.1164 - 56ms/epoch - 635us/step\n",
      "Epoch 181/200\n",
      "88/88 - 0s - loss: 0.7024 - acc: 0.7132 - mae: 0.1160 - 53ms/epoch - 601us/step\n",
      "Epoch 182/200\n",
      "88/88 - 0s - loss: 0.7131 - acc: 0.7028 - mae: 0.1169 - 72ms/epoch - 816us/step\n",
      "Epoch 183/200\n",
      "88/88 - 0s - loss: 0.7081 - acc: 0.7062 - mae: 0.1157 - 73ms/epoch - 827us/step\n",
      "Epoch 184/200\n",
      "88/88 - 0s - loss: 0.7034 - acc: 0.7066 - mae: 0.1156 - 72ms/epoch - 816us/step\n",
      "Epoch 185/200\n",
      "88/88 - 0s - loss: 0.7112 - acc: 0.7075 - mae: 0.1161 - 72ms/epoch - 816us/step\n",
      "Epoch 186/200\n",
      "88/88 - 0s - loss: 0.7100 - acc: 0.7009 - mae: 0.1166 - 70ms/epoch - 793us/step\n",
      "Epoch 187/200\n",
      "88/88 - 0s - loss: 0.7093 - acc: 0.7021 - mae: 0.1162 - 77ms/epoch - 873us/step\n",
      "Epoch 188/200\n",
      "88/88 - 0s - loss: 0.7071 - acc: 0.7050 - mae: 0.1152 - 70ms/epoch - 793us/step\n",
      "Epoch 189/200\n",
      "88/88 - 0s - loss: 0.7081 - acc: 0.7105 - mae: 0.1160 - 77ms/epoch - 873us/step\n",
      "Epoch 190/200\n",
      "88/88 - 0s - loss: 0.7013 - acc: 0.7130 - mae: 0.1151 - 79ms/epoch - 895us/step\n",
      "Epoch 191/200\n",
      "88/88 - 0s - loss: 0.7036 - acc: 0.7048 - mae: 0.1155 - 84ms/epoch - 952us/step\n",
      "Epoch 192/200\n",
      "88/88 - 0s - loss: 0.6988 - acc: 0.7075 - mae: 0.1152 - 80ms/epoch - 907us/step\n",
      "Epoch 193/200\n",
      "88/88 - 0s - loss: 0.6918 - acc: 0.7164 - mae: 0.1138 - 75ms/epoch - 850us/step\n",
      "Epoch 194/200\n",
      "88/88 - 0s - loss: 0.7017 - acc: 0.7053 - mae: 0.1149 - 75ms/epoch - 850us/step\n",
      "Epoch 195/200\n",
      "88/88 - 0s - loss: 0.6962 - acc: 0.7139 - mae: 0.1140 - 76ms/epoch - 861us/step\n",
      "Epoch 196/200\n",
      "88/88 - 0s - loss: 0.6867 - acc: 0.7232 - mae: 0.1133 - 70ms/epoch - 793us/step\n",
      "Epoch 197/200\n",
      "88/88 - 0s - loss: 0.6953 - acc: 0.7107 - mae: 0.1135 - 69ms/epoch - 782us/step\n",
      "Epoch 198/200\n",
      "88/88 - 0s - loss: 0.6855 - acc: 0.7189 - mae: 0.1130 - 68ms/epoch - 771us/step\n",
      "Epoch 199/200\n",
      "88/88 - 0s - loss: 0.6920 - acc: 0.7116 - mae: 0.1131 - 70ms/epoch - 793us/step\n",
      "Epoch 200/200\n",
      "88/88 - 0s - loss: 0.6898 - acc: 0.7159 - mae: 0.1128 - 75ms/epoch - 850us/step\n"
     ]
    }
   ],
   "source": [
    "history=model.fit(X_train, y_train, batch_size=50, epochs=200, verbose=2)"
   ]
  },
  {
   "cell_type": "code",
   "execution_count": 30,
   "metadata": {},
   "outputs": [
    {
     "data": {
      "text/plain": [
       "<keras.callbacks.History at 0x2033d358748>"
      ]
     },
     "execution_count": 30,
     "metadata": {},
     "output_type": "execute_result"
    }
   ],
   "source": [
    "history"
   ]
  },
  {
   "cell_type": "code",
   "execution_count": 32,
   "metadata": {},
   "outputs": [],
   "source": [
    "# epoch를 학습시킨 후(train data의 학습 결과)\n",
    "# loss: 0.6898 - acc: 0.7159 - mae: 0.1128"
   ]
  },
  {
   "cell_type": "code",
   "execution_count": 34,
   "metadata": {},
   "outputs": [
    {
     "name": "stdout",
     "output_type": "stream",
     "text": [
      "35/35 [==============================] - 0s 914us/step - loss: 1.1199 - acc: 0.5745 - mae: 0.1400\n"
     ]
    }
   ],
   "source": [
    "# 테스트 데이터의 학습 결과를 비교\n",
    "# acc: train < test\n",
    "test_result=model.evaluate(X_test, y_test)"
   ]
  },
  {
   "cell_type": "code",
   "execution_count": 35,
   "metadata": {},
   "outputs": [
    {
     "data": {
      "text/plain": [
       "[1.1199395656585693, 0.5745454430580139, 0.14004941284656525]"
      ]
     },
     "execution_count": 35,
     "metadata": {},
     "output_type": "execute_result"
    }
   ],
   "source": [
    "test_result"
   ]
  },
  {
   "cell_type": "code",
   "execution_count": 36,
   "metadata": {},
   "outputs": [],
   "source": [
    "# overfitting 되었음\n",
    "# train - loss: 0.6898 - acc: 0.7159 - mae: 0.1128\n",
    "# test  - loss: 1.1199 - acc: 0.5745 - mae: 0.1400\n",
    "\n",
    "# (테스트 데이터가)\n",
    "# loss(적을수록 좋음):train < test\n",
    "# acc(클수록 좋음): train > test\n",
    "# mae(적을수록 좋음): train < test"
   ]
  },
  {
   "cell_type": "code",
   "execution_count": 37,
   "metadata": {},
   "outputs": [],
   "source": [
    "# 다중 분류에서는 predict를 할 때 각 항목이 될 가능성을 계산해준다.\n",
    "y_pred=model.predict(X_test)"
   ]
  },
  {
   "cell_type": "code",
   "execution_count": 38,
   "metadata": {},
   "outputs": [
    {
     "data": {
      "text/plain": [
       "array([6.8777872e-06, 2.1097001e-03, 2.1587351e-02, 3.8487586e-01,\n",
       "       5.7676655e-01, 1.4628595e-02, 2.5024761e-05], dtype=float32)"
      ]
     },
     "execution_count": 38,
     "metadata": {},
     "output_type": "execute_result"
    }
   ],
   "source": [
    "y_pred[0]"
   ]
  },
  {
   "cell_type": "code",
   "execution_count": 40,
   "metadata": {},
   "outputs": [],
   "source": [
    "y_pred0_index=np.argmax(y_pred[0])"
   ]
  },
  {
   "cell_type": "code",
   "execution_count": 41,
   "metadata": {},
   "outputs": [
    {
     "data": {
      "text/plain": [
       "4"
      ]
     },
     "execution_count": 41,
     "metadata": {},
     "output_type": "execute_result"
    }
   ],
   "source": [
    "y_pred0_index # predict하여 예측한 품질의 각 확률 중 최대값"
   ]
  },
  {
   "cell_type": "code",
   "execution_count": 42,
   "metadata": {},
   "outputs": [
    {
     "data": {
      "text/plain": [
       "7"
      ]
     },
     "execution_count": 42,
     "metadata": {},
     "output_type": "execute_result"
    }
   ],
   "source": [
    "y_pred0_index+3 #최종 예측 품질"
   ]
  },
  {
   "cell_type": "code",
   "execution_count": 46,
   "metadata": {},
   "outputs": [
    {
     "data": {
      "text/plain": [
       "array([0., 0., 0., 1., 0., 0., 0.], dtype=float32)"
      ]
     },
     "execution_count": 46,
     "metadata": {},
     "output_type": "execute_result"
    }
   ],
   "source": [
    "y_test[0] # 실제 품질은 6"
   ]
  },
  {
   "cell_type": "code",
   "execution_count": 44,
   "metadata": {},
   "outputs": [
    {
     "data": {
      "text/plain": [
       "1100"
      ]
     },
     "execution_count": 44,
     "metadata": {},
     "output_type": "execute_result"
    }
   ],
   "source": [
    "len(y_pred)"
   ]
  },
  {
   "cell_type": "code",
   "execution_count": 47,
   "metadata": {},
   "outputs": [
    {
     "data": {
      "text/plain": [
       "(1100, 7)"
      ]
     },
     "execution_count": 47,
     "metadata": {},
     "output_type": "execute_result"
    }
   ],
   "source": [
    "y_pred.shape"
   ]
  },
  {
   "cell_type": "code",
   "execution_count": null,
   "metadata": {},
   "outputs": [],
   "source": [
    "# 예측한 모든 품질을 한번에 계산하기"
   ]
  },
  {
   "cell_type": "code",
   "execution_count": 48,
   "metadata": {},
   "outputs": [],
   "source": [
    "y_pred_test=np.argmax(y_pred, axis=-1) + 3"
   ]
  },
  {
   "cell_type": "code",
   "execution_count": 49,
   "metadata": {},
   "outputs": [
    {
     "data": {
      "text/plain": [
       "array([7, 6, 6, ..., 6, 6, 6], dtype=int64)"
      ]
     },
     "execution_count": 49,
     "metadata": {},
     "output_type": "execute_result"
    }
   ],
   "source": [
    "y_pred_test"
   ]
  },
  {
   "cell_type": "code",
   "execution_count": 54,
   "metadata": {},
   "outputs": [],
   "source": [
    "# 실제 품질"
   ]
  },
  {
   "cell_type": "code",
   "execution_count": 55,
   "metadata": {},
   "outputs": [],
   "source": [
    "y_test2=np.argmax(y_test, axis=-1) + 3"
   ]
  },
  {
   "cell_type": "code",
   "execution_count": 56,
   "metadata": {},
   "outputs": [],
   "source": [
    "from sklearn.metrics import accuracy_score, precision_score, recall_score, confusion_matrix"
   ]
  },
  {
   "cell_type": "code",
   "execution_count": 57,
   "metadata": {},
   "outputs": [
    {
     "name": "stdout",
     "output_type": "stream",
     "text": [
      "0.5745454545454546\n"
     ]
    }
   ],
   "source": [
    "print(accuracy_score(y_test2, y_pred_test))"
   ]
  },
  {
   "cell_type": "code",
   "execution_count": 58,
   "metadata": {},
   "outputs": [
    {
     "name": "stdout",
     "output_type": "stream",
     "text": [
      "[[  0   0   2   1   0   0   0]\n",
      " [  0   6  22   4   1   0   0]\n",
      " [  5   8 237  82  17   0   0]\n",
      " [  0   5 122 301  64   5   0]\n",
      " [  0   0   7  87  86   9   0]\n",
      " [  0   0   0  17   9   2   0]\n",
      " [  0   0   0   0   0   1   0]]\n"
     ]
    }
   ],
   "source": [
    "print(confusion_matrix(y_test2, y_pred_test))"
   ]
  },
  {
   "cell_type": "code",
   "execution_count": 59,
   "metadata": {},
   "outputs": [],
   "source": [
    "# 시각화"
   ]
  },
  {
   "cell_type": "code",
   "execution_count": 63,
   "metadata": {},
   "outputs": [
    {
     "ename": "ImportError",
     "evalue": "cannot import name 'plot_confusion_matrix' from 'sklearn.metrics' (C:\\ProgramData\\Anaconda3\\lib\\site-packages\\sklearn\\metrics\\__init__.py)",
     "output_type": "error",
     "traceback": [
      "\u001b[1;31m---------------------------------------------------------------------------\u001b[0m",
      "\u001b[1;31mImportError\u001b[0m                               Traceback (most recent call last)",
      "\u001b[1;32m<ipython-input-63-d333a5859059>\u001b[0m in \u001b[0;36m<module>\u001b[1;34m\u001b[0m\n\u001b[1;32m----> 1\u001b[1;33m \u001b[1;32mfrom\u001b[0m \u001b[0msklearn\u001b[0m\u001b[1;33m.\u001b[0m\u001b[0mmetrics\u001b[0m \u001b[1;32mimport\u001b[0m \u001b[0mplot_confusion_matrix\u001b[0m\u001b[1;33m\u001b[0m\u001b[1;33m\u001b[0m\u001b[0m\n\u001b[0m\u001b[0;32m      2\u001b[0m \u001b[1;32mimport\u001b[0m \u001b[0mmatplotlib\u001b[0m\u001b[1;33m.\u001b[0m\u001b[0mpyplot\u001b[0m \u001b[1;32mas\u001b[0m \u001b[0mplt\u001b[0m\u001b[1;33m\u001b[0m\u001b[1;33m\u001b[0m\u001b[0m\n",
      "\u001b[1;31mImportError\u001b[0m: cannot import name 'plot_confusion_matrix' from 'sklearn.metrics' (C:\\ProgramData\\Anaconda3\\lib\\site-packages\\sklearn\\metrics\\__init__.py)"
     ]
    }
   ],
   "source": [
    "import matplotlib.pyplot as plt"
   ]
  },
  {
   "cell_type": "code",
   "execution_count": 61,
   "metadata": {},
   "outputs": [
    {
     "ename": "NameError",
     "evalue": "name 'plot_confusion_matrix' is not defined",
     "output_type": "error",
     "traceback": [
      "\u001b[1;31m---------------------------------------------------------------------------\u001b[0m",
      "\u001b[1;31mNameError\u001b[0m                                 Traceback (most recent call last)",
      "\u001b[1;32m<ipython-input-61-32262db5a6e4>\u001b[0m in \u001b[0;36m<module>\u001b[1;34m\u001b[0m\n\u001b[0;32m      1\u001b[0m \u001b[0mlabel\u001b[0m\u001b[1;33m=\u001b[0m\u001b[1;33m[\u001b[0m\u001b[1;34m'3'\u001b[0m\u001b[1;33m,\u001b[0m \u001b[1;34m'4'\u001b[0m\u001b[1;33m,\u001b[0m \u001b[1;34m'5'\u001b[0m\u001b[1;33m,\u001b[0m \u001b[1;34m'6'\u001b[0m\u001b[1;33m,\u001b[0m \u001b[1;34m'7'\u001b[0m\u001b[1;33m,\u001b[0m \u001b[1;34m'8'\u001b[0m\u001b[1;33m,\u001b[0m \u001b[1;34m'9'\u001b[0m\u001b[1;33m]\u001b[0m \u001b[1;31m# 라벨 설정\u001b[0m\u001b[1;33m\u001b[0m\u001b[1;33m\u001b[0m\u001b[0m\n\u001b[1;32m----> 2\u001b[1;33m plot = plot_confusion_matrix(clf, # 분류 모델\n\u001b[0m\u001b[0;32m      3\u001b[0m                              \u001b[0my_pred_test\u001b[0m\u001b[1;33m,\u001b[0m \u001b[0my_test2\u001b[0m\u001b[1;33m,\u001b[0m \u001b[1;31m# 예측 데이터와 예측값의 정답(y_true)\u001b[0m\u001b[1;33m\u001b[0m\u001b[1;33m\u001b[0m\u001b[0m\n\u001b[0;32m      4\u001b[0m                              \u001b[0mdisplay_labels\u001b[0m\u001b[1;33m=\u001b[0m\u001b[0mlabel\u001b[0m\u001b[1;33m,\u001b[0m \u001b[1;31m# 표에 표시할 labels\u001b[0m\u001b[1;33m\u001b[0m\u001b[1;33m\u001b[0m\u001b[0m\n\u001b[0;32m      5\u001b[0m                              \u001b[0mcmap\u001b[0m\u001b[1;33m=\u001b[0m\u001b[0mplt\u001b[0m\u001b[1;33m.\u001b[0m\u001b[0mcm\u001b[0m\u001b[1;33m.\u001b[0m\u001b[0mBlue\u001b[0m\u001b[1;33m,\u001b[0m \u001b[1;31m# 컬러맵(plt.cm.Reds, plt.cm.rainbow 등이 있음)\u001b[0m\u001b[1;33m\u001b[0m\u001b[1;33m\u001b[0m\u001b[0m\n",
      "\u001b[1;31mNameError\u001b[0m: name 'plot_confusion_matrix' is not defined"
     ]
    }
   ],
   "source": [
    "label=['3', '4', '5', '6', '7', '8', '9'] # 라벨 설정\n",
    "plot = plot_confusion_matrix(clf, # 분류 모델\n",
    "                             y_pred_test, y_test2, # 예측 데이터와 예측값의 정답(y_true)\n",
    "                             display_labels=label, # 표에 표시할 labels\n",
    "                             cmap=plt.cm.Blue, # 컬러맵(plt.cm.Reds, plt.cm.rainbow 등이 있음)\n",
    "                             normalize=None) # 'true', 'pred', 'all' 중에서 지정 가능. default=None"
   ]
  },
  {
   "cell_type": "code",
   "execution_count": null,
   "metadata": {},
   "outputs": [],
   "source": [
    "p"
   ]
  }
 ],
 "metadata": {
  "kernelspec": {
   "display_name": "Python 3",
   "language": "python",
   "name": "python3"
  },
  "language_info": {
   "codemirror_mode": {
    "name": "ipython",
    "version": 3
   },
   "file_extension": ".py",
   "mimetype": "text/x-python",
   "name": "python",
   "nbconvert_exporter": "python",
   "pygments_lexer": "ipython3",
   "version": "3.7.4"
  }
 },
 "nbformat": 4,
 "nbformat_minor": 2
}
