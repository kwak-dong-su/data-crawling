{
 "cells": [
  {
   "cell_type": "code",
   "execution_count": 9,
   "metadata": {},
   "outputs": [
    {
     "name": "stdout",
     "output_type": "stream",
     "text": [
      "b'<?xml version=\"1.0\" encoding=\"UTF-8\"?>\\n<response>\\n<header>\\n<resultCode>00</resultCode>\\n<resultMsg>NORMAL SERVICE.</resultMsg>\\n</header>\\n<body>\\n<numOfRows>3</numOfRows>\\n<pageNo>1</pageNo>\\n<totalCount>1</totalCount>\\n<items>\\n<item>\\n<YYYY>2020</YYYY>\\n<MM>12</MM>\\n<KIT_PROD_QTY>8,037,499</KIT_PROD_QTY>\\n<KIT_EXPRT_QTY>7,770,134</KIT_EXPRT_QTY>\\n<KIT_STOCK_QTY>12,027,702</KIT_STOCK_QTY>\\n</item>\\n</items>\\n</body>\\n</response>\\n'\n"
     ]
    }
   ],
   "source": [
    "import requests\n",
    "\n",
    "url = 'http://apis.data.go.kr/1471000/CovidDagnsRgntProdExprtStusService/getCovidDagnsRgntProdExprtStusInq'\n",
    "params ={'serviceKey' : '3VHgd/FDbuSGjOvtWbuFsdjvPapQ5ThLx0yelsZQMzXc8elO3WKx7/7oP6I9XxMRA3m8OLT8EaUmj+EWEVnEHA==', \n",
    "         'pageNo' : '1', \n",
    "         'numOfRows' : '3', \n",
    "         'type' : 'xml', \n",
    "         'YYYY' : '2020', \n",
    "         'MM' : '12' }\n",
    "\n",
    "response = requests.get(url, params=params)\n",
    "print(response.content)"
   ]
  },
  {
   "cell_type": "code",
   "execution_count": 13,
   "metadata": {},
   "outputs": [
    {
     "data": {
      "text/plain": [
       "<Response [200]>"
      ]
     },
     "execution_count": 13,
     "metadata": {},
     "output_type": "execute_result"
    }
   ],
   "source": [
    "import requests\n",
    "\n",
    "headers = {\n",
    "    'accept': 'application/json',\n",
    "    'Authorization': '3VHgd/FDbuSGjOvtWbuFsdjvPapQ5ThLx0yelsZQMzXc8elO3WKx7/7oP6I9XxMRA3m8OLT8EaUmj+EWEVnEHA==',\n",
    "}\n",
    "\n",
    "params = (\n",
    "    ('page', '1'),\n",
    "    ('perPage', '2'),\n",
    "    ('serviceKey', '3VHgd/FDbuSGjOvtWbuFsdjvPapQ5ThLx0yelsZQMzXc8elO3WKx7/7oP6I9XxMRA3m8OLT8EaUmj+EWEVnEHA=='),\n",
    ")\n",
    "\n",
    "## decode key가 적용되었음.\n",
    "## api마다 연결이 되지 않는다고 한다면, encode, decode를 바꾸어 테스트해볼 것.\n",
    "response = requests.get('https://api.odcloud.kr/api/15069309/v1/uddi:973ad0df-617a-4565-8e82-8ea7869e75d4', headers=headers, params=params)\n",
    "response"
   ]
  },
  {
   "cell_type": "code",
   "execution_count": 14,
   "metadata": {},
   "outputs": [
    {
     "data": {
      "text/plain": [
       "{'currentCount': 2,\n",
       " 'data': [{'개체명(기업기관)': None,\n",
       "   '개체명(인물)': None,\n",
       "   '개체명(지역)': None,\n",
       "   '기고자': '당직자공용 기자',\n",
       "   '본문': \"[헤럴드경제] '신종코로나' 확진환자 1명 추가됐다. 이로써 국내 확진환자는 총 12명이 됐다.   onlinenews\",\n",
       "   '사건_사고 분류1': None,\n",
       "   '사건_사고 분류2': None,\n",
       "   '사건_사고 분류3': None,\n",
       "   '언론사': '헤럴드경제',\n",
       "   '원본주소': 'http://biz.heraldcorp.com/view.php?ud=20200201000027',\n",
       "   '일자': '2020-02-01',\n",
       "   '제목': \"[속보] '신종코로나' 확진환자 1명 추가…12명으로 늘어\",\n",
       "   '주소': 'http://www.bigkinds.or.kr/news/newsDetailView.do?newsId=02100701.20200201094636001',\n",
       "   '키워드': '신종코,추가,확진,환자,12명,신종코,추가,확진,환자,확진,12명',\n",
       "   '통합 분류1': '사회>의료_건강',\n",
       "   '통합 분류2': None,\n",
       "   '통합 분류3': None,\n",
       "   '특성추출': '신종코,추가,환자,확진'},\n",
       "  {'개체명(기업기관)': None,\n",
       "   '개체명(인물)': None,\n",
       "   '개체명(지역)': None,\n",
       "   '기고자': '이상규',\n",
       "   '본문': '[속보] 신종코로나 국내 12명 확진·70명 검사 중…접촉자 465명 감시 [디지털뉴스국 이상규 기자]',\n",
       "   '사건_사고 분류1': None,\n",
       "   '사건_사고 분류2': None,\n",
       "   '사건_사고 분류3': None,\n",
       "   '언론사': '매일경제',\n",
       "   '원본주소': 'http://news.mk.co.kr/newsRead.php?no=104142&year=2020',\n",
       "   '일자': '2020-02-01',\n",
       "   '제목': '[속보] 신종코로나 국내 12명 확진·70명 검사 중…접촉자 465명 감시',\n",
       "   '주소': 'http://www.bigkinds.or.kr/news/newsDetailView.do?newsId=02100101.20200201142733001',\n",
       "   '키워드': '신종코,확진,70명,검사,접촉자,감시,속보,신종코,확진,70명,검사,접촉자,감시',\n",
       "   '통합 분류1': '사회>의료_건강',\n",
       "   '통합 분류2': None,\n",
       "   '통합 분류3': None,\n",
       "   '특성추출': '접촉자,신종코,감시,확진,검사,속보'}],\n",
       " 'matchCount': 108218,\n",
       " 'page': 1,\n",
       " 'perPage': 2,\n",
       " 'totalCount': 108218}"
      ]
     },
     "execution_count": 14,
     "metadata": {},
     "output_type": "execute_result"
    }
   ],
   "source": [
    "json_total = response.json()\n",
    "json_total"
   ]
  },
  {
   "cell_type": "code",
   "execution_count": 26,
   "metadata": {},
   "outputs": [
    {
     "name": "stdout",
     "output_type": "stream",
     "text": [
      "b'<?xml version=\"1.0\" encoding=\"UTF-8\" standalone=\"yes\"?><response><header><resultCode>00</resultCode><resultMsg>NORMAL SERVICE.</resultMsg></header><body><items><item><ban>\\xec\\x97\\xac\\xed\\x96\\x89\\xea\\xb8\\x88\\xec\\xa7\\x80</ban><banNote>2014.8.4 ~ 2022.7.31</banNote><continent>\\xec\\xa4\\x91\\xeb\\x8f\\x99/\\xec\\x95\\x84\\xed\\x94\\x84\\xeb\\xa6\\xac\\xec\\xb9\\xb4</continent><countryEnName>Libya</countryEnName><countryName>\\xeb\\xa6\\xac\\xeb\\xb9\\x84\\xec\\x95\\x84</countryName><id>375</id><imgUrl>http://www.0404.go.kr/imgsrc.mofa?atch_file_id=FILE_000000000002230&amp;file_sn=1</imgUrl><imgUrl2>http://www.0404.go.kr/imgsrc.mofa?atch_file_id=FILE_000000000002230&amp;file_sn=3</imgUrl2><isoCode>LBY</isoCode><wrtDt>2011-12-07</wrtDt></item><item><ban>\\xec\\x97\\xac\\xed\\x96\\x89\\xea\\xb8\\x88\\xec\\xa7\\x80</ban><banNote>2011.8.20 ~ 2022.7.31</banNote><continent>\\xec\\xa4\\x91\\xeb\\x8f\\x99/\\xec\\x95\\x84\\xed\\x94\\x84\\xeb\\xa6\\xac\\xec\\xb9\\xb4</continent><countryEnName>Syria</countryEnName><countryName>\\xec\\x8b\\x9c\\xeb\\xa6\\xac\\xec\\x95\\x84</countryName><id>131</id><imgUrl>http://www.0404.go.kr/imgsrc.mofa?atch_file_id=COUNTRY_131&amp;file_sn=1</imgUrl><imgUrl2>http://www.0404.go.kr/imgsrc.mofa?atch_file_id=COUNTRY_131&amp;file_sn=3</imgUrl2><isoCode>SYR</isoCode><wrtDt>2011-08-30</wrtDt></item><item><ban>\\xec\\x97\\xac\\xed\\x96\\x89\\xea\\xb8\\x88\\xec\\xa7\\x80</ban><banNote>2007.8.7 ~ 2022.7.31</banNote><continent>\\xec\\xa4\\x91\\xeb\\x8f\\x99/\\xec\\x95\\x84\\xed\\x94\\x84\\xeb\\xa6\\xac\\xec\\xb9\\xb4</continent><countryEnName>Somalia</countryEnName><countryName>\\xec\\x86\\x8c\\xeb\\xa7\\x90\\xeb\\xa6\\xac\\xec\\x95\\x84</countryName><id>120</id><imgUrl>http://www.0404.go.kr/imgsrc.mofa?atch_file_id=COUNTRY_120&amp;file_sn=1</imgUrl><imgUrl2>http://www.0404.go.kr/imgsrc.mofa?atch_file_id=COUNTRY_120&amp;file_sn=3</imgUrl2><isoCode>SOM</isoCode><wrtDt>2011-08-08</wrtDt></item><item><ban>\\xec\\x97\\xac\\xed\\x96\\x89\\xea\\xb8\\x88\\xec\\xa7\\x80</ban><banNote>2007.8.7 ~ 2022.7.31</banNote><continent>\\xec\\xa4\\x91\\xeb\\x8f\\x99/\\xec\\x95\\x84\\xed\\x94\\x84\\xeb\\xa6\\xac\\xec\\xb9\\xb4</continent><countryEnName>Iraq</countryEnName><countryName>\\xec\\x9d\\xb4\\xeb\\x9d\\xbc\\xed\\x81\\xac</countryName><id>174</id><imgUrl>http://www.0404.go.kr/imgsrc.mofa?atch_file_id=COUNTRY_174&amp;file_sn=1</imgUrl><imgUrl2>http://www.0404.go.kr/imgsrc.mofa?atch_file_id=COUNTRY_174&amp;file_sn=3</imgUrl2><isoCode>IRQ</isoCode><wrtDt>2011-08-08</wrtDt></item><item><ban>\\xec\\x97\\xac\\xed\\x96\\x89\\xea\\xb8\\x88\\xec\\xa7\\x80</ban><banNote>2007.8.7 ~ 2022.7.31</banNote><continent>\\xec\\x95\\x84\\xec\\x8b\\x9c\\xec\\x95\\x84/\\xed\\x83\\x9c\\xed\\x8f\\x89\\xec\\x96\\x91</continent><countryEnName>Afghanistan</countryEnName><countryName>\\xec\\x95\\x84\\xed\\x94\\x84\\xea\\xb0\\x80\\xeb\\x8b\\x88\\xec\\x8a\\xa4\\xed\\x83\\x84</countryName><id>284</id><imgUrl>http://www.0404.go.kr/imgsrc.mofa?atch_file_id=COUNTRY_284&amp;file_sn=1</imgUrl><imgUrl2>http://www.0404.go.kr/imgsrc.mofa?atch_file_id=COUNTRY_284&amp;file_sn=3</imgUrl2><isoCode>AFG</isoCode><wrtDt>2011-08-08</wrtDt></item><item><ban>\\xec\\x97\\xac\\xed\\x96\\x89\\xea\\xb8\\x88\\xec\\xa7\\x80</ban><banNote>2011.6.28 ~ 2022.7.31</banNote><continent>\\xec\\xa4\\x91\\xeb\\x8f\\x99/\\xec\\x95\\x84\\xed\\x94\\x84\\xeb\\xa6\\xac\\xec\\xb9\\xb4</continent><countryEnName>Yemen</countryEnName><countryName>\\xec\\x98\\x88\\xeb\\xa9\\x98</countryName><id>294</id><imgUrl>http://www.0404.go.kr/imgsrc.mofa?atch_file_id=COUNTRY_294&amp;file_sn=1</imgUrl><imgUrl2>http://www.0404.go.kr/imgsrc.mofa?atch_file_id=COUNTRY_294&amp;file_sn=3</imgUrl2><isoCode>YEM</isoCode><wrtDt>2011-08-08</wrtDt></item><item><banNote>\\xeb\\xaf\\xbc\\xeb\\x8b\\xa4\\xeb\\x82\\x98\\xec\\x98\\xa4\\xec\\x9d\\x98 \\xec\\x9e\\xa0\\xeb\\xb3\\xb4\\xec\\x95\\x99\\xea\\xb0\\x80, \\xec\\x88\\xa0\\xeb\\xa3\\xa8\\xe2\\x80\\xa7\\xeb\\xb0\\x94\\xec\\x8b\\xa4\\xeb\\x9e\\x80\\xe2\\x80\\xa7\\xed\\x83\\x80\\xec\\x9c\\x84\\xed\\x83\\x80\\xec\\x9c\\x84 \\xea\\xb5\\xb0\\xeb\\x8f\\x84(2015.12.1 ~ 2022.7.31)</banNote><banPartial>\\xec\\x97\\xac\\xed\\x96\\x89\\xea\\xb8\\x88\\xec\\xa7\\x80(\\xec\\x9d\\xbc\\xeb\\xb6\\x80)</banPartial><continent>\\xec\\x95\\x84\\xec\\x8b\\x9c\\xec\\x95\\x84/\\xed\\x83\\x9c\\xed\\x8f\\x89\\xec\\x96\\x91</continent><countryEnName>Philippines</countryEnName><countryName>\\xed\\x95\\x84\\xeb\\xa6\\xac\\xed\\x95\\x80</countryName><id>252</id><imgUrl>http://www.0404.go.kr/imgsrc.mofa?atch_file_id=COUNTRY_252&amp;file_sn=1</imgUrl><imgUrl2>http://www.0404.go.kr/imgsrc.mofa?atch_file_id=COUNTRY_252&amp;file_sn=3</imgUrl2><isoCode>PHL</isoCode><wrtDt>2011-07-01</wrtDt></item><item><banNote>\\xeb\\x9f\\xac\\xec\\x8b\\x9c\\xec\\x95\\x84 \\xeb\\xa1\\x9c\\xec\\x8a\\xa4\\xed\\x86\\xa0\\xed\\x94\\x84\\xc2\\xb7\\xeb\\xb2\\xa8\\xea\\xb3\\xa0\\xeb\\xa1\\x9c\\xeb\\x93\\x9c\\xc2\\xb7\\xeb\\xb3\\xb4\\xeb\\xa1\\x9c\\xeb\\x84\\xa4\\xec\\x8b\\x9c\\xc2\\xb7\\xec\\xbf\\xa0\\xeb\\xa5\\xb4\\xec\\x8a\\xa4\\xed\\x81\\xac\\xc2\\xb7\\xeb\\xb8\\x8c\\xeb\\x9e\\xb8\\xec\\x8a\\xa4\\xed\\x81\\xac \\xec\\xa7\\x80\\xec\\x97\\xad \\xeb\\x82\\xb4 \\xec\\x9a\\xb0\\xed\\x81\\xac\\xeb\\x9d\\xbc\\xec\\x9d\\xb4\\xeb\\x82\\x98 \\xea\\xb5\\xad\\xea\\xb2\\xbd\\xec\\x97\\x90\\xec\\x84\\x9c 30km(2022.3.8~)</banNote><banPartial>\\xec\\x97\\xac\\xed\\x96\\x89\\xea\\xb8\\x88\\xec\\xa7\\x80(\\xec\\x9d\\xbc\\xeb\\xb6\\x80)</banPartial><continent>\\xec\\x9c\\xa0\\xeb\\x9f\\xbd</continent><countryEnName>Russia</countryEnName><countryName>\\xeb\\x9f\\xac\\xec\\x8b\\x9c\\xec\\x95\\x84</countryName><id>39</id><imgUrl>http://www.0404.go.kr/imgsrc.mofa?atch_file_id=COUNTRY_39&amp;file_sn=1</imgUrl><imgUrl2>http://www.0404.go.kr/imgsrc.mofa?atch_file_id=COUNTRY_39&amp;file_sn=3</imgUrl2><isoCode>RUS</isoCode><wrtDt>2011-05-31</wrtDt></item><item><banNote>\\xeb\\xb2\\xa8\\xeb\\x9d\\xbc\\xeb\\xa3\\xa8\\xec\\x8a\\xa4 \\xeb\\xb8\\x8c\\xeb\\xa0\\x88\\xec\\x8a\\xa4\\xed\\x8a\\xb8\\xc2\\xb7\\xea\\xb3\\xa0\\xeb\\xa9\\x9c \\xec\\xa7\\x80\\xec\\x97\\xad \\xeb\\x82\\xb4 \\xec\\x9a\\xb0\\xed\\x81\\xac\\xeb\\x9d\\xbc\\xec\\x9d\\xb4\\xeb\\x82\\x98 \\xea\\xb5\\xad\\xea\\xb2\\xbd\\xec\\x97\\x90\\xec\\x84\\x9c 30km(2022.3.8~)</banNote><banPartial>\\xec\\x97\\xac\\xed\\x96\\x89\\xea\\xb8\\x88\\xec\\xa7\\x80(\\xec\\x9d\\xbc\\xeb\\xb6\\x80)</banPartial><continent>\\xec\\x9c\\xa0\\xeb\\x9f\\xbd</continent><countryEnName>Belarus</countryEnName><countryName>\\xeb\\xb2\\xa8\\xeb\\x9d\\xbc\\xeb\\xa3\\xa8\\xec\\x8a\\xa4</countryName><id>333</id><imgUrl>http://www.0404.go.kr/imgsrc.mofa?atch_file_id=COUNTRY_333&amp;file_sn=1</imgUrl><imgUrl2>http://www.0404.go.kr/imgsrc.mofa?atch_file_id=COUNTRY_333&amp;file_sn=3</imgUrl2><isoCode>BLR</isoCode><wrtDt>2011-02-18</wrtDt></item><item><ban>\\xec\\x97\\xac\\xed\\x96\\x89\\xea\\xb8\\x88\\xec\\xa7\\x80</ban><banNote>\\xec\\xa0\\x84 \\xec\\xa7\\x80\\xec\\x97\\xad(2022.2.13~)</banNote><continent>\\xec\\x9c\\xa0\\xeb\\x9f\\xbd</continent><countryEnName>Ukraine</countryEnName><countryName>\\xec\\x9a\\xb0\\xed\\x81\\xac\\xeb\\x9d\\xbc\\xec\\x9d\\xb4\\xeb\\x82\\x98</countryName><id>169</id><imgUrl>http://www.0404.go.kr/imgsrc.mofa?atch_file_id=COUNTRY_169&amp;file_sn=1</imgUrl><imgUrl2>http://www.0404.go.kr/imgsrc.mofa?atch_file_id=COUNTRY_169&amp;file_sn=3</imgUrl2><isoCode>UKR</isoCode><wrtDt>2011-01-28</wrtDt></item></items><numOfRows>10</numOfRows><pageNo>1</pageNo><totalCount>10</totalCount></body></response>'\n"
     ]
    }
   ],
   "source": [
    "url = 'http://apis.data.go.kr/1262000/TravelBanService/getTravelBanList'\n",
    "params ={'serviceKey' : '3VHgd/FDbuSGjOvtWbuFsdjvPapQ5ThLx0yelsZQMzXc8elO3WKx7/7oP6I9XxMRA3m8OLT8EaUmj+EWEVnEHA==', \n",
    "         'numOfRows' : '10', \n",
    "         'pageNo' : '1', \n",
    "         'countryName' : '', \n",
    "         'countryEnName' : '', \n",
    "         'isoCode1' : '', \n",
    "         'isoCode2' : '', \n",
    "         'isoCode3' : '', \n",
    "         'isoCode4' : '', \n",
    "         'isoCode5' : '', \n",
    "         'isoCode6' : '', \n",
    "         'isoCode7' : '', \n",
    "         'isoCode8' : '', \n",
    "         'isoCode9' : '', \n",
    "         'isoCode10' : '' \n",
    "        }\n",
    "\n",
    "response = requests.get(url, params=params)\n",
    "print(response.content)"
   ]
  },
  {
   "cell_type": "code",
   "execution_count": null,
   "metadata": {},
   "outputs": [],
   "source": []
  }
 ],
 "metadata": {
  "kernelspec": {
   "display_name": "Python 3",
   "language": "python",
   "name": "python3"
  },
  "language_info": {
   "codemirror_mode": {
    "name": "ipython",
    "version": 3
   },
   "file_extension": ".py",
   "mimetype": "text/x-python",
   "name": "python",
   "nbconvert_exporter": "python",
   "pygments_lexer": "ipython3",
   "version": "3.7.4"
  }
 },
 "nbformat": 4,
 "nbformat_minor": 2
}
