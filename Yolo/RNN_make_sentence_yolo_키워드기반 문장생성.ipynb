{
 "cells": [
  {
   "cell_type": "code",
   "execution_count": 1,
   "id": "e19bcc49",
   "metadata": {},
   "outputs": [],
   "source": [
    "import pandas as pd\n",
    "import numpy as np\n",
    "from tensorflow.keras.preprocessing.text import Tokenizer\n",
    "from tensorflow.keras.preprocessing.sequence import pad_sequences\n",
    "from tensorflow.keras.utils import to_categorical"
   ]
  },
  {
   "cell_type": "code",
   "execution_count": 2,
   "id": "f72d8a7b",
   "metadata": {},
   "outputs": [],
   "source": [
    "text=\"\"\"\n",
    "식탁에 앉아 피자를 먹는 사람\\n\n",
    "포크와 나이프를 사용하고 있네요\\n\n",
    "포크를 사용해 피자를 먹습니다\n",
    "\"\"\"\n"
   ]
  },
  {
   "cell_type": "code",
   "execution_count": 3,
   "id": "e6b96055",
   "metadata": {},
   "outputs": [],
   "source": [
    "tokenizer=Tokenizer()\n",
    "tokenizer.fit_on_texts([text])"
   ]
  },
  {
   "cell_type": "code",
   "execution_count": 4,
   "id": "be8fa669",
   "metadata": {},
   "outputs": [
    {
     "data": {
      "text/plain": [
       "(13, '단어 집합의 크기')"
      ]
     },
     "execution_count": 4,
     "metadata": {},
     "output_type": "execute_result"
    }
   ],
   "source": [
    "len(tokenizer.word_index)+1, \"단어 집합의 크기\""
   ]
  },
  {
   "cell_type": "code",
   "execution_count": 5,
   "id": "a3e3146e",
   "metadata": {},
   "outputs": [
    {
     "data": {
      "text/plain": [
       "{'피자를': 1,\n",
       " '식탁에': 2,\n",
       " '앉아': 3,\n",
       " '먹는': 4,\n",
       " '사람': 5,\n",
       " '포크와': 6,\n",
       " '나이프를': 7,\n",
       " '사용하고': 8,\n",
       " '있네요': 9,\n",
       " '포크를': 10,\n",
       " '사용해': 11,\n",
       " '먹습니다': 12}"
      ]
     },
     "execution_count": 5,
     "metadata": {},
     "output_type": "execute_result"
    }
   ],
   "source": [
    "tokenizer.word_index"
   ]
  },
  {
   "cell_type": "code",
   "execution_count": 6,
   "id": "0dffc0dd",
   "metadata": {},
   "outputs": [],
   "source": [
    "sequences=list()\n",
    "for line in text.split('\\n'):\n",
    "    encoded=tokenizer.texts_to_sequences([line])[0]\n",
    "    for i in range(1, len(encoded)):\n",
    "        sequence=encoded[:i+1]\n",
    "        sequences.append(sequence)"
   ]
  },
  {
   "cell_type": "code",
   "execution_count": 7,
   "id": "1c756dd3",
   "metadata": {},
   "outputs": [
    {
     "data": {
      "text/plain": [
       "(10, '학습에 사용할 샘플의 개수')"
      ]
     },
     "execution_count": 7,
     "metadata": {},
     "output_type": "execute_result"
    }
   ],
   "source": [
    "len(sequences), \"학습에 사용할 샘플의 개수\""
   ]
  },
  {
   "cell_type": "code",
   "execution_count": 8,
   "id": "9679393c",
   "metadata": {},
   "outputs": [
    {
     "data": {
      "text/plain": [
       "[[2, 3],\n",
       " [2, 3, 1],\n",
       " [2, 3, 1, 4],\n",
       " [2, 3, 1, 4, 5],\n",
       " [6, 7],\n",
       " [6, 7, 8],\n",
       " [6, 7, 8, 9],\n",
       " [10, 11],\n",
       " [10, 11, 1],\n",
       " [10, 11, 1, 12]]"
      ]
     },
     "execution_count": 8,
     "metadata": {},
     "output_type": "execute_result"
    }
   ],
   "source": [
    "sequences"
   ]
  },
  {
   "cell_type": "code",
   "execution_count": 9,
   "id": "ad6f1569",
   "metadata": {},
   "outputs": [
    {
     "data": {
      "text/plain": [
       "(5, '샘플의 최대 길이')"
      ]
     },
     "execution_count": 9,
     "metadata": {},
     "output_type": "execute_result"
    }
   ],
   "source": [
    "max(len(i) for i in sequences), \"샘플의 최대 길이\""
   ]
  },
  {
   "cell_type": "code",
   "execution_count": 10,
   "id": "8bad6eb5",
   "metadata": {},
   "outputs": [],
   "source": [
    "sequences=pad_sequences(sequences, maxlen=5, padding='pre')"
   ]
  },
  {
   "cell_type": "code",
   "execution_count": 11,
   "id": "6fe8eaf4",
   "metadata": {},
   "outputs": [
    {
     "data": {
      "text/plain": [
       "array([0, 0, 0, 2, 3])"
      ]
     },
     "execution_count": 11,
     "metadata": {},
     "output_type": "execute_result"
    }
   ],
   "source": [
    "sequences[0]"
   ]
  },
  {
   "cell_type": "code",
   "execution_count": 12,
   "id": "57361735",
   "metadata": {},
   "outputs": [],
   "source": [
    "sequences=np.array(sequences)\n",
    "X=sequences[:,:-1]\n",
    "y=sequences[:,-1]"
   ]
  },
  {
   "cell_type": "code",
   "execution_count": 13,
   "id": "913ed015",
   "metadata": {},
   "outputs": [],
   "source": [
    "y=to_categorical(y, num_classes=13)"
   ]
  },
  {
   "cell_type": "code",
   "execution_count": 14,
   "id": "540494dd",
   "metadata": {},
   "outputs": [
    {
     "data": {
      "text/plain": [
       "array([[0., 0., 0., 1., 0., 0., 0., 0., 0., 0., 0., 0., 0.],\n",
       "       [0., 1., 0., 0., 0., 0., 0., 0., 0., 0., 0., 0., 0.],\n",
       "       [0., 0., 0., 0., 1., 0., 0., 0., 0., 0., 0., 0., 0.],\n",
       "       [0., 0., 0., 0., 0., 1., 0., 0., 0., 0., 0., 0., 0.],\n",
       "       [0., 0., 0., 0., 0., 0., 0., 1., 0., 0., 0., 0., 0.],\n",
       "       [0., 0., 0., 0., 0., 0., 0., 0., 1., 0., 0., 0., 0.],\n",
       "       [0., 0., 0., 0., 0., 0., 0., 0., 0., 1., 0., 0., 0.],\n",
       "       [0., 0., 0., 0., 0., 0., 0., 0., 0., 0., 0., 1., 0.],\n",
       "       [0., 1., 0., 0., 0., 0., 0., 0., 0., 0., 0., 0., 0.],\n",
       "       [0., 0., 0., 0., 0., 0., 0., 0., 0., 0., 0., 0., 1.]],\n",
       "      dtype=float32)"
      ]
     },
     "execution_count": 14,
     "metadata": {},
     "output_type": "execute_result"
    }
   ],
   "source": [
    "y"
   ]
  },
  {
   "cell_type": "code",
   "execution_count": 15,
   "id": "97fb1604",
   "metadata": {},
   "outputs": [],
   "source": [
    "from tensorflow.keras.models import Sequential\n",
    "from tensorflow.keras.layers import Embedding, Dense, SimpleRNN, LSTM"
   ]
  },
  {
   "cell_type": "code",
   "execution_count": 16,
   "id": "701b56a6",
   "metadata": {},
   "outputs": [],
   "source": [
    "embedding_dim=13\n",
    "hidden_units=32\n",
    "\n",
    "model=Sequential()\n",
    "model.add(Embedding(13, embedding_dim))\n",
    "model.add(SimpleRNN(hidden_units))\n",
    "# model.add(SimpleRNN(64))\n",
    "# model.add(SimpleRNN(32))\n",
    "# model.add(SimpleRNN(16))\n",
    "# model.add(SimpleRNN(8))\n",
    "\n",
    "model.add(Dense(13, activation=\"softmax\"))\n",
    "model.compile(loss='categorical_crossentropy', optimizer='adam', metrics=['accuracy'])"
   ]
  },
  {
   "cell_type": "code",
   "execution_count": 17,
   "id": "0cbcd5f8",
   "metadata": {},
   "outputs": [
    {
     "name": "stdout",
     "output_type": "stream",
     "text": [
      "Model: \"sequential\"\n",
      "_________________________________________________________________\n",
      " Layer (type)                Output Shape              Param #   \n",
      "=================================================================\n",
      " embedding (Embedding)       (None, None, 13)          169       \n",
      "                                                                 \n",
      " simple_rnn (SimpleRNN)      (None, 32)                1472      \n",
      "                                                                 \n",
      " dense (Dense)               (None, 13)                429       \n",
      "                                                                 \n",
      "=================================================================\n",
      "Total params: 2,070\n",
      "Trainable params: 2,070\n",
      "Non-trainable params: 0\n",
      "_________________________________________________________________\n"
     ]
    }
   ],
   "source": [
    "model.summary()"
   ]
  },
  {
   "cell_type": "code",
   "execution_count": 18,
   "id": "5a74f62f",
   "metadata": {},
   "outputs": [
    {
     "name": "stdout",
     "output_type": "stream",
     "text": [
      "Epoch 1/200\n",
      "1/1 - 1s - loss: 2.5678 - accuracy: 0.1000 - 720ms/epoch - 720ms/step\n",
      "Epoch 2/200\n",
      "1/1 - 0s - loss: 2.5563 - accuracy: 0.1000 - 2ms/epoch - 2ms/step\n",
      "Epoch 3/200\n",
      "1/1 - 0s - loss: 2.5448 - accuracy: 0.1000 - 2ms/epoch - 2ms/step\n",
      "Epoch 4/200\n",
      "1/1 - 0s - loss: 2.5334 - accuracy: 0.1000 - 2ms/epoch - 2ms/step\n",
      "Epoch 5/200\n",
      "1/1 - 0s - loss: 2.5221 - accuracy: 0.3000 - 2ms/epoch - 2ms/step\n",
      "Epoch 6/200\n",
      "1/1 - 0s - loss: 2.5107 - accuracy: 0.3000 - 2ms/epoch - 2ms/step\n",
      "Epoch 7/200\n",
      "1/1 - 0s - loss: 2.4992 - accuracy: 0.3000 - 3ms/epoch - 3ms/step\n",
      "Epoch 8/200\n",
      "1/1 - 0s - loss: 2.4876 - accuracy: 0.3000 - 2ms/epoch - 2ms/step\n",
      "Epoch 9/200\n",
      "1/1 - 0s - loss: 2.4758 - accuracy: 0.3000 - 998us/epoch - 998us/step\n",
      "Epoch 10/200\n",
      "1/1 - 0s - loss: 2.4639 - accuracy: 0.3000 - 2ms/epoch - 2ms/step\n",
      "Epoch 11/200\n",
      "1/1 - 0s - loss: 2.4517 - accuracy: 0.3000 - 2ms/epoch - 2ms/step\n",
      "Epoch 12/200\n",
      "1/1 - 0s - loss: 2.4392 - accuracy: 0.3000 - 2ms/epoch - 2ms/step\n",
      "Epoch 13/200\n",
      "1/1 - 0s - loss: 2.4265 - accuracy: 0.3000 - 2ms/epoch - 2ms/step\n",
      "Epoch 14/200\n",
      "1/1 - 0s - loss: 2.4134 - accuracy: 0.4000 - 2ms/epoch - 2ms/step\n",
      "Epoch 15/200\n",
      "1/1 - 0s - loss: 2.4000 - accuracy: 0.4000 - 2ms/epoch - 2ms/step\n",
      "Epoch 16/200\n",
      "1/1 - 0s - loss: 2.3862 - accuracy: 0.3000 - 3ms/epoch - 3ms/step\n",
      "Epoch 17/200\n",
      "1/1 - 0s - loss: 2.3720 - accuracy: 0.2000 - 3ms/epoch - 3ms/step\n",
      "Epoch 18/200\n",
      "1/1 - 0s - loss: 2.3575 - accuracy: 0.2000 - 2ms/epoch - 2ms/step\n",
      "Epoch 19/200\n",
      "1/1 - 0s - loss: 2.3425 - accuracy: 0.2000 - 3ms/epoch - 3ms/step\n",
      "Epoch 20/200\n",
      "1/1 - 0s - loss: 2.3271 - accuracy: 0.2000 - 2ms/epoch - 2ms/step\n",
      "Epoch 21/200\n",
      "1/1 - 0s - loss: 2.3112 - accuracy: 0.2000 - 3ms/epoch - 3ms/step\n",
      "Epoch 22/200\n",
      "1/1 - 0s - loss: 2.2950 - accuracy: 0.2000 - 2ms/epoch - 2ms/step\n",
      "Epoch 23/200\n",
      "1/1 - 0s - loss: 2.2784 - accuracy: 0.2000 - 2ms/epoch - 2ms/step\n",
      "Epoch 24/200\n",
      "1/1 - 0s - loss: 2.2614 - accuracy: 0.2000 - 2ms/epoch - 2ms/step\n",
      "Epoch 25/200\n",
      "1/1 - 0s - loss: 2.2440 - accuracy: 0.2000 - 2ms/epoch - 2ms/step\n",
      "Epoch 26/200\n",
      "1/1 - 0s - loss: 2.2264 - accuracy: 0.2000 - 2ms/epoch - 2ms/step\n",
      "Epoch 27/200\n",
      "1/1 - 0s - loss: 2.2084 - accuracy: 0.2000 - 2ms/epoch - 2ms/step\n",
      "Epoch 28/200\n",
      "1/1 - 0s - loss: 2.1902 - accuracy: 0.2000 - 2ms/epoch - 2ms/step\n",
      "Epoch 29/200\n",
      "1/1 - 0s - loss: 2.1717 - accuracy: 0.2000 - 2ms/epoch - 2ms/step\n",
      "Epoch 30/200\n",
      "1/1 - 0s - loss: 2.1531 - accuracy: 0.2000 - 3ms/epoch - 3ms/step\n",
      "Epoch 31/200\n",
      "1/1 - 0s - loss: 2.1343 - accuracy: 0.2000 - 997us/epoch - 997us/step\n",
      "Epoch 32/200\n",
      "1/1 - 0s - loss: 2.1154 - accuracy: 0.3000 - 2ms/epoch - 2ms/step\n",
      "Epoch 33/200\n",
      "1/1 - 0s - loss: 2.0963 - accuracy: 0.3000 - 2ms/epoch - 2ms/step\n",
      "Epoch 34/200\n",
      "1/1 - 0s - loss: 2.0771 - accuracy: 0.3000 - 2ms/epoch - 2ms/step\n",
      "Epoch 35/200\n",
      "1/1 - 0s - loss: 2.0578 - accuracy: 0.2000 - 3ms/epoch - 3ms/step\n",
      "Epoch 36/200\n",
      "1/1 - 0s - loss: 2.0382 - accuracy: 0.2000 - 2ms/epoch - 2ms/step\n",
      "Epoch 37/200\n",
      "1/1 - 0s - loss: 2.0185 - accuracy: 0.3000 - 2ms/epoch - 2ms/step\n",
      "Epoch 38/200\n",
      "1/1 - 0s - loss: 1.9986 - accuracy: 0.3000 - 2ms/epoch - 2ms/step\n",
      "Epoch 39/200\n",
      "1/1 - 0s - loss: 1.9784 - accuracy: 0.3000 - 3ms/epoch - 3ms/step\n",
      "Epoch 40/200\n",
      "1/1 - 0s - loss: 1.9578 - accuracy: 0.3000 - 2ms/epoch - 2ms/step\n",
      "Epoch 41/200\n",
      "1/1 - 0s - loss: 1.9370 - accuracy: 0.5000 - 3ms/epoch - 3ms/step\n",
      "Epoch 42/200\n",
      "1/1 - 0s - loss: 1.9157 - accuracy: 0.5000 - 3ms/epoch - 3ms/step\n",
      "Epoch 43/200\n",
      "1/1 - 0s - loss: 1.8941 - accuracy: 0.5000 - 3ms/epoch - 3ms/step\n",
      "Epoch 44/200\n",
      "1/1 - 0s - loss: 1.8721 - accuracy: 0.5000 - 2ms/epoch - 2ms/step\n",
      "Epoch 45/200\n",
      "1/1 - 0s - loss: 1.8497 - accuracy: 0.5000 - 2ms/epoch - 2ms/step\n",
      "Epoch 46/200\n",
      "1/1 - 0s - loss: 1.8270 - accuracy: 0.6000 - 2ms/epoch - 2ms/step\n",
      "Epoch 47/200\n",
      "1/1 - 0s - loss: 1.8038 - accuracy: 0.6000 - 2ms/epoch - 2ms/step\n",
      "Epoch 48/200\n",
      "1/1 - 0s - loss: 1.7803 - accuracy: 0.7000 - 2ms/epoch - 2ms/step\n",
      "Epoch 49/200\n",
      "1/1 - 0s - loss: 1.7563 - accuracy: 0.7000 - 2ms/epoch - 2ms/step\n",
      "Epoch 50/200\n",
      "1/1 - 0s - loss: 1.7320 - accuracy: 0.7000 - 2ms/epoch - 2ms/step\n",
      "Epoch 51/200\n",
      "1/1 - 0s - loss: 1.7073 - accuracy: 0.7000 - 3ms/epoch - 3ms/step\n",
      "Epoch 52/200\n",
      "1/1 - 0s - loss: 1.6822 - accuracy: 0.7000 - 3ms/epoch - 3ms/step\n",
      "Epoch 53/200\n",
      "1/1 - 0s - loss: 1.6568 - accuracy: 0.7000 - 2ms/epoch - 2ms/step\n",
      "Epoch 54/200\n",
      "1/1 - 0s - loss: 1.6309 - accuracy: 0.7000 - 2ms/epoch - 2ms/step\n",
      "Epoch 55/200\n",
      "1/1 - 0s - loss: 1.6047 - accuracy: 0.7000 - 2ms/epoch - 2ms/step\n",
      "Epoch 56/200\n",
      "1/1 - 0s - loss: 1.5781 - accuracy: 0.7000 - 3ms/epoch - 3ms/step\n",
      "Epoch 57/200\n",
      "1/1 - 0s - loss: 1.5512 - accuracy: 0.7000 - 2ms/epoch - 2ms/step\n",
      "Epoch 58/200\n",
      "1/1 - 0s - loss: 1.5240 - accuracy: 0.7000 - 2ms/epoch - 2ms/step\n",
      "Epoch 59/200\n",
      "1/1 - 0s - loss: 1.4965 - accuracy: 0.7000 - 2ms/epoch - 2ms/step\n",
      "Epoch 60/200\n",
      "1/1 - 0s - loss: 1.4688 - accuracy: 0.7000 - 2ms/epoch - 2ms/step\n",
      "Epoch 61/200\n",
      "1/1 - 0s - loss: 1.4410 - accuracy: 0.7000 - 2ms/epoch - 2ms/step\n",
      "Epoch 62/200\n",
      "1/1 - 0s - loss: 1.4130 - accuracy: 0.7000 - 2ms/epoch - 2ms/step\n",
      "Epoch 63/200\n",
      "1/1 - 0s - loss: 1.3850 - accuracy: 0.7000 - 3ms/epoch - 3ms/step\n",
      "Epoch 64/200\n",
      "1/1 - 0s - loss: 1.3570 - accuracy: 0.7000 - 2ms/epoch - 2ms/step\n",
      "Epoch 65/200\n",
      "1/1 - 0s - loss: 1.3290 - accuracy: 0.7000 - 3ms/epoch - 3ms/step\n",
      "Epoch 66/200\n",
      "1/1 - 0s - loss: 1.3011 - accuracy: 0.7000 - 2ms/epoch - 2ms/step\n",
      "Epoch 67/200\n",
      "1/1 - 0s - loss: 1.2734 - accuracy: 0.7000 - 2ms/epoch - 2ms/step\n",
      "Epoch 68/200\n",
      "1/1 - 0s - loss: 1.2459 - accuracy: 0.7000 - 2ms/epoch - 2ms/step\n",
      "Epoch 69/200\n",
      "1/1 - 0s - loss: 1.2186 - accuracy: 0.7000 - 2ms/epoch - 2ms/step\n",
      "Epoch 70/200\n",
      "1/1 - 0s - loss: 1.1917 - accuracy: 0.7000 - 996us/epoch - 996us/step\n",
      "Epoch 71/200\n",
      "1/1 - 0s - loss: 1.1652 - accuracy: 0.7000 - 2ms/epoch - 2ms/step\n",
      "Epoch 72/200\n",
      "1/1 - 0s - loss: 1.1390 - accuracy: 0.7000 - 998us/epoch - 998us/step\n",
      "Epoch 73/200\n",
      "1/1 - 0s - loss: 1.1133 - accuracy: 0.7000 - 2ms/epoch - 2ms/step\n",
      "Epoch 74/200\n",
      "1/1 - 0s - loss: 1.0880 - accuracy: 0.7000 - 2ms/epoch - 2ms/step\n",
      "Epoch 75/200\n",
      "1/1 - 0s - loss: 1.0632 - accuracy: 0.7000 - 2ms/epoch - 2ms/step\n",
      "Epoch 76/200\n",
      "1/1 - 0s - loss: 1.0389 - accuracy: 0.7000 - 2ms/epoch - 2ms/step\n",
      "Epoch 77/200\n",
      "1/1 - 0s - loss: 1.0151 - accuracy: 0.7000 - 2ms/epoch - 2ms/step\n",
      "Epoch 78/200\n",
      "1/1 - 0s - loss: 0.9919 - accuracy: 0.7000 - 2ms/epoch - 2ms/step\n",
      "Epoch 79/200\n",
      "1/1 - 0s - loss: 0.9691 - accuracy: 0.7000 - 5ms/epoch - 5ms/step\n",
      "Epoch 80/200\n",
      "1/1 - 0s - loss: 0.9468 - accuracy: 0.7000 - 2ms/epoch - 2ms/step\n",
      "Epoch 81/200\n",
      "1/1 - 0s - loss: 0.9251 - accuracy: 0.7000 - 2ms/epoch - 2ms/step\n",
      "Epoch 82/200\n",
      "1/1 - 0s - loss: 0.9038 - accuracy: 0.8000 - 2ms/epoch - 2ms/step\n",
      "Epoch 83/200\n",
      "1/1 - 0s - loss: 0.8830 - accuracy: 0.8000 - 3ms/epoch - 3ms/step\n",
      "Epoch 84/200\n",
      "1/1 - 0s - loss: 0.8627 - accuracy: 0.9000 - 2ms/epoch - 2ms/step\n",
      "Epoch 85/200\n",
      "1/1 - 0s - loss: 0.8429 - accuracy: 0.9000 - 2ms/epoch - 2ms/step\n",
      "Epoch 86/200\n",
      "1/1 - 0s - loss: 0.8236 - accuracy: 0.9000 - 3ms/epoch - 3ms/step\n",
      "Epoch 87/200\n",
      "1/1 - 0s - loss: 0.8047 - accuracy: 0.9000 - 3ms/epoch - 3ms/step\n",
      "Epoch 88/200\n",
      "1/1 - 0s - loss: 0.7863 - accuracy: 0.9000 - 2ms/epoch - 2ms/step\n",
      "Epoch 89/200\n",
      "1/1 - 0s - loss: 0.7683 - accuracy: 0.9000 - 2ms/epoch - 2ms/step\n",
      "Epoch 90/200\n",
      "1/1 - 0s - loss: 0.7508 - accuracy: 0.9000 - 998us/epoch - 998us/step\n",
      "Epoch 91/200\n",
      "1/1 - 0s - loss: 0.7337 - accuracy: 0.9000 - 2ms/epoch - 2ms/step\n",
      "Epoch 92/200\n",
      "1/1 - 0s - loss: 0.7170 - accuracy: 0.9000 - 2ms/epoch - 2ms/step\n",
      "Epoch 93/200\n",
      "1/1 - 0s - loss: 0.7008 - accuracy: 0.9000 - 2ms/epoch - 2ms/step\n",
      "Epoch 94/200\n",
      "1/1 - 0s - loss: 0.6850 - accuracy: 0.9000 - 2ms/epoch - 2ms/step\n",
      "Epoch 95/200\n",
      "1/1 - 0s - loss: 0.6696 - accuracy: 0.9000 - 998us/epoch - 998us/step\n",
      "Epoch 96/200\n",
      "1/1 - 0s - loss: 0.6546 - accuracy: 0.9000 - 2ms/epoch - 2ms/step\n",
      "Epoch 97/200\n",
      "1/1 - 0s - loss: 0.6399 - accuracy: 0.9000 - 3ms/epoch - 3ms/step\n",
      "Epoch 98/200\n",
      "1/1 - 0s - loss: 0.6257 - accuracy: 0.9000 - 2ms/epoch - 2ms/step\n",
      "Epoch 99/200\n",
      "1/1 - 0s - loss: 0.6119 - accuracy: 0.9000 - 2ms/epoch - 2ms/step\n",
      "Epoch 100/200\n",
      "1/1 - 0s - loss: 0.5984 - accuracy: 0.9000 - 2ms/epoch - 2ms/step\n",
      "Epoch 101/200\n",
      "1/1 - 0s - loss: 0.5852 - accuracy: 0.9000 - 2ms/epoch - 2ms/step\n",
      "Epoch 102/200\n",
      "1/1 - 0s - loss: 0.5724 - accuracy: 0.9000 - 2ms/epoch - 2ms/step\n",
      "Epoch 103/200\n",
      "1/1 - 0s - loss: 0.5599 - accuracy: 0.9000 - 998us/epoch - 998us/step\n",
      "Epoch 104/200\n",
      "1/1 - 0s - loss: 0.5478 - accuracy: 0.9000 - 2ms/epoch - 2ms/step\n"
     ]
    },
    {
     "name": "stdout",
     "output_type": "stream",
     "text": [
      "Epoch 105/200\n",
      "1/1 - 0s - loss: 0.5360 - accuracy: 0.9000 - 3ms/epoch - 3ms/step\n",
      "Epoch 106/200\n",
      "1/1 - 0s - loss: 0.5245 - accuracy: 1.0000 - 2ms/epoch - 2ms/step\n",
      "Epoch 107/200\n",
      "1/1 - 0s - loss: 0.5133 - accuracy: 1.0000 - 2ms/epoch - 2ms/step\n",
      "Epoch 108/200\n",
      "1/1 - 0s - loss: 0.5024 - accuracy: 1.0000 - 2ms/epoch - 2ms/step\n",
      "Epoch 109/200\n",
      "1/1 - 0s - loss: 0.4918 - accuracy: 1.0000 - 2ms/epoch - 2ms/step\n",
      "Epoch 110/200\n",
      "1/1 - 0s - loss: 0.4815 - accuracy: 1.0000 - 3ms/epoch - 3ms/step\n",
      "Epoch 111/200\n",
      "1/1 - 0s - loss: 0.4714 - accuracy: 1.0000 - 3ms/epoch - 3ms/step\n",
      "Epoch 112/200\n",
      "1/1 - 0s - loss: 0.4617 - accuracy: 1.0000 - 2ms/epoch - 2ms/step\n",
      "Epoch 113/200\n",
      "1/1 - 0s - loss: 0.4521 - accuracy: 1.0000 - 2ms/epoch - 2ms/step\n",
      "Epoch 114/200\n",
      "1/1 - 0s - loss: 0.4429 - accuracy: 1.0000 - 2ms/epoch - 2ms/step\n",
      "Epoch 115/200\n",
      "1/1 - 0s - loss: 0.4339 - accuracy: 1.0000 - 2ms/epoch - 2ms/step\n",
      "Epoch 116/200\n",
      "1/1 - 0s - loss: 0.4251 - accuracy: 1.0000 - 2ms/epoch - 2ms/step\n",
      "Epoch 117/200\n",
      "1/1 - 0s - loss: 0.4166 - accuracy: 1.0000 - 2ms/epoch - 2ms/step\n",
      "Epoch 118/200\n",
      "1/1 - 0s - loss: 0.4083 - accuracy: 1.0000 - 2ms/epoch - 2ms/step\n",
      "Epoch 119/200\n",
      "1/1 - 0s - loss: 0.4002 - accuracy: 1.0000 - 2ms/epoch - 2ms/step\n",
      "Epoch 120/200\n",
      "1/1 - 0s - loss: 0.3923 - accuracy: 1.0000 - 3ms/epoch - 3ms/step\n",
      "Epoch 121/200\n",
      "1/1 - 0s - loss: 0.3847 - accuracy: 1.0000 - 998us/epoch - 998us/step\n",
      "Epoch 122/200\n",
      "1/1 - 0s - loss: 0.3772 - accuracy: 1.0000 - 998us/epoch - 998us/step\n",
      "Epoch 123/200\n",
      "1/1 - 0s - loss: 0.3700 - accuracy: 1.0000 - 2ms/epoch - 2ms/step\n",
      "Epoch 124/200\n",
      "1/1 - 0s - loss: 0.3629 - accuracy: 1.0000 - 3ms/epoch - 3ms/step\n",
      "Epoch 125/200\n",
      "1/1 - 0s - loss: 0.3560 - accuracy: 1.0000 - 996us/epoch - 996us/step\n",
      "Epoch 126/200\n",
      "1/1 - 0s - loss: 0.3494 - accuracy: 1.0000 - 2ms/epoch - 2ms/step\n",
      "Epoch 127/200\n",
      "1/1 - 0s - loss: 0.3429 - accuracy: 1.0000 - 2ms/epoch - 2ms/step\n",
      "Epoch 128/200\n",
      "1/1 - 0s - loss: 0.3365 - accuracy: 1.0000 - 2ms/epoch - 2ms/step\n",
      "Epoch 129/200\n",
      "1/1 - 0s - loss: 0.3304 - accuracy: 1.0000 - 3ms/epoch - 3ms/step\n",
      "Epoch 130/200\n",
      "1/1 - 0s - loss: 0.3244 - accuracy: 1.0000 - 2ms/epoch - 2ms/step\n",
      "Epoch 131/200\n",
      "1/1 - 0s - loss: 0.3185 - accuracy: 1.0000 - 2ms/epoch - 2ms/step\n",
      "Epoch 132/200\n",
      "1/1 - 0s - loss: 0.3128 - accuracy: 1.0000 - 2ms/epoch - 2ms/step\n",
      "Epoch 133/200\n",
      "1/1 - 0s - loss: 0.3073 - accuracy: 1.0000 - 4ms/epoch - 4ms/step\n",
      "Epoch 134/200\n",
      "1/1 - 0s - loss: 0.3019 - accuracy: 1.0000 - 2ms/epoch - 2ms/step\n",
      "Epoch 135/200\n",
      "1/1 - 0s - loss: 0.2966 - accuracy: 1.0000 - 2ms/epoch - 2ms/step\n",
      "Epoch 136/200\n",
      "1/1 - 0s - loss: 0.2915 - accuracy: 1.0000 - 2ms/epoch - 2ms/step\n",
      "Epoch 137/200\n",
      "1/1 - 0s - loss: 0.2865 - accuracy: 1.0000 - 2ms/epoch - 2ms/step\n",
      "Epoch 138/200\n",
      "1/1 - 0s - loss: 0.2817 - accuracy: 1.0000 - 3ms/epoch - 3ms/step\n",
      "Epoch 139/200\n",
      "1/1 - 0s - loss: 0.2769 - accuracy: 1.0000 - 2ms/epoch - 2ms/step\n",
      "Epoch 140/200\n",
      "1/1 - 0s - loss: 0.2723 - accuracy: 1.0000 - 2ms/epoch - 2ms/step\n",
      "Epoch 141/200\n",
      "1/1 - 0s - loss: 0.2678 - accuracy: 1.0000 - 2ms/epoch - 2ms/step\n",
      "Epoch 142/200\n",
      "1/1 - 0s - loss: 0.2634 - accuracy: 1.0000 - 998us/epoch - 998us/step\n",
      "Epoch 143/200\n",
      "1/1 - 0s - loss: 0.2592 - accuracy: 1.0000 - 2ms/epoch - 2ms/step\n",
      "Epoch 144/200\n",
      "1/1 - 0s - loss: 0.2550 - accuracy: 1.0000 - 2ms/epoch - 2ms/step\n",
      "Epoch 145/200\n",
      "1/1 - 0s - loss: 0.2509 - accuracy: 1.0000 - 2ms/epoch - 2ms/step\n",
      "Epoch 146/200\n",
      "1/1 - 0s - loss: 0.2469 - accuracy: 1.0000 - 998us/epoch - 998us/step\n",
      "Epoch 147/200\n",
      "1/1 - 0s - loss: 0.2431 - accuracy: 1.0000 - 2ms/epoch - 2ms/step\n",
      "Epoch 148/200\n",
      "1/1 - 0s - loss: 0.2393 - accuracy: 1.0000 - 2ms/epoch - 2ms/step\n",
      "Epoch 149/200\n",
      "1/1 - 0s - loss: 0.2356 - accuracy: 1.0000 - 2ms/epoch - 2ms/step\n",
      "Epoch 150/200\n",
      "1/1 - 0s - loss: 0.2320 - accuracy: 1.0000 - 2ms/epoch - 2ms/step\n",
      "Epoch 151/200\n",
      "1/1 - 0s - loss: 0.2284 - accuracy: 1.0000 - 2ms/epoch - 2ms/step\n",
      "Epoch 152/200\n",
      "1/1 - 0s - loss: 0.2250 - accuracy: 1.0000 - 2ms/epoch - 2ms/step\n",
      "Epoch 153/200\n",
      "1/1 - 0s - loss: 0.2216 - accuracy: 1.0000 - 2ms/epoch - 2ms/step\n",
      "Epoch 154/200\n",
      "1/1 - 0s - loss: 0.2183 - accuracy: 1.0000 - 2ms/epoch - 2ms/step\n",
      "Epoch 155/200\n",
      "1/1 - 0s - loss: 0.2151 - accuracy: 1.0000 - 998us/epoch - 998us/step\n",
      "Epoch 156/200\n",
      "1/1 - 0s - loss: 0.2120 - accuracy: 1.0000 - 2ms/epoch - 2ms/step\n",
      "Epoch 157/200\n",
      "1/1 - 0s - loss: 0.2089 - accuracy: 1.0000 - 3ms/epoch - 3ms/step\n",
      "Epoch 158/200\n",
      "1/1 - 0s - loss: 0.2059 - accuracy: 1.0000 - 2ms/epoch - 2ms/step\n",
      "Epoch 159/200\n",
      "1/1 - 0s - loss: 0.2029 - accuracy: 1.0000 - 2ms/epoch - 2ms/step\n",
      "Epoch 160/200\n",
      "1/1 - 0s - loss: 0.2000 - accuracy: 1.0000 - 2ms/epoch - 2ms/step\n",
      "Epoch 161/200\n",
      "1/1 - 0s - loss: 0.1972 - accuracy: 1.0000 - 2ms/epoch - 2ms/step\n",
      "Epoch 162/200\n",
      "1/1 - 0s - loss: 0.1944 - accuracy: 1.0000 - 3ms/epoch - 3ms/step\n",
      "Epoch 163/200\n",
      "1/1 - 0s - loss: 0.1917 - accuracy: 1.0000 - 2ms/epoch - 2ms/step\n",
      "Epoch 164/200\n",
      "1/1 - 0s - loss: 0.1890 - accuracy: 1.0000 - 2ms/epoch - 2ms/step\n",
      "Epoch 165/200\n",
      "1/1 - 0s - loss: 0.1864 - accuracy: 1.0000 - 998us/epoch - 998us/step\n",
      "Epoch 166/200\n",
      "1/1 - 0s - loss: 0.1838 - accuracy: 1.0000 - 999us/epoch - 999us/step\n",
      "Epoch 167/200\n",
      "1/1 - 0s - loss: 0.1813 - accuracy: 1.0000 - 3ms/epoch - 3ms/step\n",
      "Epoch 168/200\n",
      "1/1 - 0s - loss: 0.1788 - accuracy: 1.0000 - 2ms/epoch - 2ms/step\n",
      "Epoch 169/200\n",
      "1/1 - 0s - loss: 0.1764 - accuracy: 1.0000 - 2ms/epoch - 2ms/step\n",
      "Epoch 170/200\n",
      "1/1 - 0s - loss: 0.1740 - accuracy: 1.0000 - 998us/epoch - 998us/step\n",
      "Epoch 171/200\n",
      "1/1 - 0s - loss: 0.1717 - accuracy: 1.0000 - 998us/epoch - 998us/step\n",
      "Epoch 172/200\n",
      "1/1 - 0s - loss: 0.1694 - accuracy: 1.0000 - 2ms/epoch - 2ms/step\n",
      "Epoch 173/200\n",
      "1/1 - 0s - loss: 0.1671 - accuracy: 1.0000 - 2ms/epoch - 2ms/step\n",
      "Epoch 174/200\n",
      "1/1 - 0s - loss: 0.1649 - accuracy: 1.0000 - 2ms/epoch - 2ms/step\n",
      "Epoch 175/200\n",
      "1/1 - 0s - loss: 0.1627 - accuracy: 1.0000 - 2ms/epoch - 2ms/step\n",
      "Epoch 176/200\n",
      "1/1 - 0s - loss: 0.1605 - accuracy: 1.0000 - 2ms/epoch - 2ms/step\n",
      "Epoch 177/200\n",
      "1/1 - 0s - loss: 0.1584 - accuracy: 1.0000 - 2ms/epoch - 2ms/step\n",
      "Epoch 178/200\n",
      "1/1 - 0s - loss: 0.1563 - accuracy: 1.0000 - 2ms/epoch - 2ms/step\n",
      "Epoch 179/200\n",
      "1/1 - 0s - loss: 0.1543 - accuracy: 1.0000 - 998us/epoch - 998us/step\n",
      "Epoch 180/200\n",
      "1/1 - 0s - loss: 0.1523 - accuracy: 1.0000 - 2ms/epoch - 2ms/step\n",
      "Epoch 181/200\n",
      "1/1 - 0s - loss: 0.1503 - accuracy: 1.0000 - 3ms/epoch - 3ms/step\n",
      "Epoch 182/200\n",
      "1/1 - 0s - loss: 0.1483 - accuracy: 1.0000 - 2ms/epoch - 2ms/step\n",
      "Epoch 183/200\n",
      "1/1 - 0s - loss: 0.1464 - accuracy: 1.0000 - 2ms/epoch - 2ms/step\n",
      "Epoch 184/200\n",
      "1/1 - 0s - loss: 0.1445 - accuracy: 1.0000 - 2ms/epoch - 2ms/step\n",
      "Epoch 185/200\n",
      "1/1 - 0s - loss: 0.1426 - accuracy: 1.0000 - 2ms/epoch - 2ms/step\n",
      "Epoch 186/200\n",
      "1/1 - 0s - loss: 0.1407 - accuracy: 1.0000 - 2ms/epoch - 2ms/step\n",
      "Epoch 187/200\n",
      "1/1 - 0s - loss: 0.1389 - accuracy: 1.0000 - 2ms/epoch - 2ms/step\n",
      "Epoch 188/200\n",
      "1/1 - 0s - loss: 0.1371 - accuracy: 1.0000 - 2ms/epoch - 2ms/step\n",
      "Epoch 189/200\n",
      "1/1 - 0s - loss: 0.1353 - accuracy: 1.0000 - 2ms/epoch - 2ms/step\n",
      "Epoch 190/200\n",
      "1/1 - 0s - loss: 0.1336 - accuracy: 1.0000 - 2ms/epoch - 2ms/step\n",
      "Epoch 191/200\n",
      "1/1 - 0s - loss: 0.1318 - accuracy: 1.0000 - 2ms/epoch - 2ms/step\n",
      "Epoch 192/200\n",
      "1/1 - 0s - loss: 0.1301 - accuracy: 1.0000 - 2ms/epoch - 2ms/step\n",
      "Epoch 193/200\n",
      "1/1 - 0s - loss: 0.1284 - accuracy: 1.0000 - 998us/epoch - 998us/step\n",
      "Epoch 194/200\n",
      "1/1 - 0s - loss: 0.1268 - accuracy: 1.0000 - 998us/epoch - 998us/step\n",
      "Epoch 195/200\n",
      "1/1 - 0s - loss: 0.1251 - accuracy: 1.0000 - 2ms/epoch - 2ms/step\n",
      "Epoch 196/200\n",
      "1/1 - 0s - loss: 0.1235 - accuracy: 1.0000 - 3ms/epoch - 3ms/step\n",
      "Epoch 197/200\n",
      "1/1 - 0s - loss: 0.1219 - accuracy: 1.0000 - 2ms/epoch - 2ms/step\n",
      "Epoch 198/200\n",
      "1/1 - 0s - loss: 0.1203 - accuracy: 1.0000 - 2ms/epoch - 2ms/step\n",
      "Epoch 199/200\n",
      "1/1 - 0s - loss: 0.1187 - accuracy: 1.0000 - 2ms/epoch - 2ms/step\n",
      "Epoch 200/200\n",
      "1/1 - 0s - loss: 0.1172 - accuracy: 1.0000 - 3ms/epoch - 3ms/step\n"
     ]
    },
    {
     "data": {
      "text/plain": [
       "<keras.callbacks.History at 0x23d27ba0748>"
      ]
     },
     "execution_count": 18,
     "metadata": {},
     "output_type": "execute_result"
    }
   ],
   "source": [
    "model.fit(X,y, epochs=200, verbose=2)"
   ]
  },
  {
   "cell_type": "code",
   "execution_count": 19,
   "id": "1c58e980",
   "metadata": {},
   "outputs": [],
   "source": [
    "def sentence_generation(model, tokenizer, current_word, n):\n",
    "    init_word=current_word\n",
    "    sentence=\"\"\n",
    "    \n",
    "    #n번 반복\n",
    "    for _ in range(n):\n",
    "        # 현재 단어에 대한 정수 인코딩과 패딩\n",
    "        encoded=tokenizer.texts_to_sequences([current_word])[0]\n",
    "        encoded=pad_sequences([encoded], maxlen=5, padding='pre')\n",
    "        # 입력한 X(현재 단어)에 대해서 Y를 예측하고 Y(예측한 단어)를 result에 저장\n",
    "        result=model.predict(encoded, verbose=0)\n",
    "        result=np.argmax(result, axis=1)\n",
    "        \n",
    "        for word, index in tokenizer.word_index.items():\n",
    "            # 만약 예측한 단어와 인덱스와 동일한 단어가 있다면 break\n",
    "            if index==result:\n",
    "                break\n",
    "        \n",
    "        current_word=current_word+' '+word\n",
    "        sentence=sentence+' '+word\n",
    "    \n",
    "    sentence=init_word+sentence\n",
    "    return sentence"
   ]
  },
  {
   "cell_type": "code",
   "execution_count": 20,
   "id": "a4e84ba3",
   "metadata": {
    "scrolled": true
   },
   "outputs": [
    {
     "name": "stdout",
     "output_type": "stream",
     "text": [
      "포크와 나이프를 사용하고 있네요 피자를 먹는\n"
     ]
    }
   ],
   "source": [
    "print(sentence_generation(model, tokenizer, \"포크와\", 5))"
   ]
  },
  {
   "cell_type": "code",
   "execution_count": 21,
   "id": "6ad474a4",
   "metadata": {},
   "outputs": [],
   "source": [
    "# !pip install word2word"
   ]
  },
  {
   "cell_type": "code",
   "execution_count": 22,
   "id": "60801c9c",
   "metadata": {},
   "outputs": [],
   "source": [
    "from word2word import Word2word"
   ]
  },
  {
   "cell_type": "code",
   "execution_count": 23,
   "id": "1f8b2876",
   "metadata": {},
   "outputs": [
    {
     "name": "stdout",
     "output_type": "stream",
     "text": [
      "Downloading data ...\n",
      "100% [..........................................................................] 8030815 / 8030815"
     ]
    }
   ],
   "source": [
    "translate=Word2word(\"en\",\"ko\")"
   ]
  },
  {
   "cell_type": "code",
   "execution_count": 24,
   "id": "fa8e7786",
   "metadata": {},
   "outputs": [
    {
     "name": "stdout",
     "output_type": "stream",
     "text": [
      "['포크', '갈림길', '케익', '찌르', '볼로냐']\n",
      "['피자', '맛있', '먹', '냉동', '조각']\n",
      "['칼', '나이프', 'knife', '흔적', '찔렀']\n"
     ]
    },
    {
     "data": {
      "text/plain": [
       "(None, None, None)"
      ]
     },
     "execution_count": 24,
     "metadata": {},
     "output_type": "execute_result"
    }
   ],
   "source": [
    "print(translate(\"fork\")), print(translate(\"pizza\")), print(translate(\"knife\"))"
   ]
  },
  {
   "cell_type": "code",
   "execution_count": 25,
   "id": "36bc21a7",
   "metadata": {},
   "outputs": [
    {
     "data": {
      "text/plain": [
       "'포크'"
      ]
     },
     "execution_count": 25,
     "metadata": {},
     "output_type": "execute_result"
    }
   ],
   "source": [
    "translate(\"fork\")[0]"
   ]
  },
  {
   "cell_type": "code",
   "execution_count": 26,
   "id": "3f6df480",
   "metadata": {},
   "outputs": [],
   "source": [
    "keyword_list=[translate(\"fork\")[0], translate(\"pizza\")[0], translate(\"knife\")[1]]"
   ]
  },
  {
   "cell_type": "code",
   "execution_count": 27,
   "id": "7cc72284",
   "metadata": {},
   "outputs": [],
   "source": [
    "import random"
   ]
  },
  {
   "cell_type": "code",
   "execution_count": 28,
   "id": "13c67bab",
   "metadata": {},
   "outputs": [],
   "source": [
    "from tkinter import *\n",
    "from tkinter import messagebox\n",
    " \n",
    "root = Tk()\n",
    "root.geometry(\"360x100\")\n",
    " \n",
    "# 버튼 클릭 이벤트 핸들러\n",
    "def okClick():\n",
    "    txt.delete(0,\"end\")\n",
    "    txt.insert(0, sentence_generation(model, tokenizer, ' '.join(random.sample(keyword_list, 1))+\"와\", random.randint(2, 5)))\n",
    " \n",
    "lbl = Label(root, text=\"키워드: \"+\", \".join(keyword_list))\n",
    "lbl.grid(row=0, column=1)\n",
    "txt = Entry(root, width=50)\n",
    "txt.grid(row=3, column=1)\n",
    " \n",
    "# 버튼 클릭 이벤트와 핸들러 정의\n",
    "btn = Button(root, text=\"문장 만들기\", command=okClick)\n",
    " \n",
    "btn.grid(row=1, column=1)\n",
    "root.mainloop()"
   ]
  },
  {
   "cell_type": "code",
   "execution_count": null,
   "id": "a462ee78",
   "metadata": {},
   "outputs": [],
   "source": []
  }
 ],
 "metadata": {
  "kernelspec": {
   "display_name": "Python 3 (ipykernel)",
   "language": "python",
   "name": "python3"
  },
  "language_info": {
   "codemirror_mode": {
    "name": "ipython",
    "version": 3
   },
   "file_extension": ".py",
   "mimetype": "text/x-python",
   "name": "python",
   "nbconvert_exporter": "python",
   "pygments_lexer": "ipython3",
   "version": "3.7.4"
  }
 },
 "nbformat": 4,
 "nbformat_minor": 5
}
