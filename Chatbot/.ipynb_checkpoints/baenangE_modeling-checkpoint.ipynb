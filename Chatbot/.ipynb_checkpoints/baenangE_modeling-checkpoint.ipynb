{
 "cells": [
  {
   "cell_type": "code",
   "execution_count": 1,
   "id": "bc03136d",
   "metadata": {},
   "outputs": [],
   "source": [
    "import pandas as pd"
   ]
  },
  {
   "cell_type": "code",
   "execution_count": 2,
   "id": "7b8fa8fc",
   "metadata": {},
   "outputs": [],
   "source": [
    "df=pd.read_csv('chatbot_data_trip.csv')"
   ]
  },
  {
   "cell_type": "code",
   "execution_count": 3,
   "id": "1549a5ca",
   "metadata": {},
   "outputs": [
    {
     "data": {
      "text/html": [
       "<div>\n",
       "<style scoped>\n",
       "    .dataframe tbody tr th:only-of-type {\n",
       "        vertical-align: middle;\n",
       "    }\n",
       "\n",
       "    .dataframe tbody tr th {\n",
       "        vertical-align: top;\n",
       "    }\n",
       "\n",
       "    .dataframe thead th {\n",
       "        text-align: right;\n",
       "    }\n",
       "</style>\n",
       "<table border=\"1\" class=\"dataframe\">\n",
       "  <thead>\n",
       "    <tr style=\"text-align: right;\">\n",
       "      <th></th>\n",
       "      <th>Unnamed: 0</th>\n",
       "      <th>sentence</th>\n",
       "      <th>label</th>\n",
       "    </tr>\n",
       "  </thead>\n",
       "  <tbody>\n",
       "    <tr>\n",
       "      <th>0</th>\n",
       "      <td>0</td>\n",
       "      <td>인사드립니다.</td>\n",
       "      <td>0</td>\n",
       "    </tr>\n",
       "    <tr>\n",
       "      <th>1</th>\n",
       "      <td>1</td>\n",
       "      <td>인사하려고 했는데 짝남이 먼저 인사해줬어. 더 떨렸겠어요.</td>\n",
       "      <td>0</td>\n",
       "    </tr>\n",
       "    <tr>\n",
       "      <th>2</th>\n",
       "      <td>2</td>\n",
       "      <td>인사할까 했는데 짝녀가 먼저 인사해줬어. 기분 좋았겠네요.</td>\n",
       "      <td>0</td>\n",
       "    </tr>\n",
       "    <tr>\n",
       "      <th>3</th>\n",
       "      <td>3</td>\n",
       "      <td>집에 인사드리러 가 제가 더 떨리네요.</td>\n",
       "      <td>0</td>\n",
       "    </tr>\n",
       "    <tr>\n",
       "      <th>4</th>\n",
       "      <td>4</td>\n",
       "      <td>마무리 가벼운 안부 인사일 거예요.</td>\n",
       "      <td>0</td>\n",
       "    </tr>\n",
       "    <tr>\n",
       "      <th>...</th>\n",
       "      <td>...</td>\n",
       "      <td>...</td>\n",
       "      <td>...</td>\n",
       "    </tr>\n",
       "    <tr>\n",
       "      <th>617</th>\n",
       "      <td>617</td>\n",
       "      <td>했는데. 좋겠어요.</td>\n",
       "      <td>3</td>\n",
       "    </tr>\n",
       "    <tr>\n",
       "      <th>618</th>\n",
       "      <td>618</td>\n",
       "      <td>했어 좋겠어요.</td>\n",
       "      <td>3</td>\n",
       "    </tr>\n",
       "    <tr>\n",
       "      <th>619</th>\n",
       "      <td>619</td>\n",
       "      <td>다 돈이다. 많이 들지만 줄일 수 있을 거예요.</td>\n",
       "      <td>3</td>\n",
       "    </tr>\n",
       "    <tr>\n",
       "      <th>620</th>\n",
       "      <td>620</td>\n",
       "      <td>가기 귀찮아 경조사는 참석하는게 좋아요.</td>\n",
       "      <td>3</td>\n",
       "    </tr>\n",
       "    <tr>\n",
       "      <th>621</th>\n",
       "      <td>621</td>\n",
       "      <td>또 가야돼 경조사는 참석하는게 좋아요.</td>\n",
       "      <td>3</td>\n",
       "    </tr>\n",
       "  </tbody>\n",
       "</table>\n",
       "<p>622 rows × 3 columns</p>\n",
       "</div>"
      ],
      "text/plain": [
       "     Unnamed: 0                          sentence  label\n",
       "0             0                           인사드립니다.      0\n",
       "1             1  인사하려고 했는데 짝남이 먼저 인사해줬어. 더 떨렸겠어요.      0\n",
       "2             2  인사할까 했는데 짝녀가 먼저 인사해줬어. 기분 좋았겠네요.      0\n",
       "3             3             집에 인사드리러 가 제가 더 떨리네요.      0\n",
       "4             4               마무리 가벼운 안부 인사일 거예요.      0\n",
       "..          ...                               ...    ...\n",
       "617         617                        했는데. 좋겠어요.      3\n",
       "618         618                          했어 좋겠어요.      3\n",
       "619         619        다 돈이다. 많이 들지만 줄일 수 있을 거예요.      3\n",
       "620         620            가기 귀찮아 경조사는 참석하는게 좋아요.      3\n",
       "621         621             또 가야돼 경조사는 참석하는게 좋아요.      3\n",
       "\n",
       "[622 rows x 3 columns]"
      ]
     },
     "execution_count": 3,
     "metadata": {},
     "output_type": "execute_result"
    }
   ],
   "source": [
    "df"
   ]
  },
  {
   "cell_type": "code",
   "execution_count": 4,
   "id": "241deef9",
   "metadata": {},
   "outputs": [],
   "source": [
    "del df['Unnamed: 0']"
   ]
  },
  {
   "cell_type": "code",
   "execution_count": 5,
   "id": "99a4e0bd",
   "metadata": {},
   "outputs": [
    {
     "name": "stdout",
     "output_type": "stream",
     "text": [
      "<class 'pandas.core.frame.DataFrame'>\n",
      "RangeIndex: 622 entries, 0 to 621\n",
      "Data columns (total 2 columns):\n",
      " #   Column    Non-Null Count  Dtype \n",
      "---  ------    --------------  ----- \n",
      " 0   sentence  622 non-null    object\n",
      " 1   label     622 non-null    int64 \n",
      "dtypes: int64(1), object(1)\n",
      "memory usage: 9.8+ KB\n"
     ]
    }
   ],
   "source": [
    "df.info()"
   ]
  },
  {
   "cell_type": "code",
   "execution_count": 6,
   "id": "12156eff",
   "metadata": {},
   "outputs": [],
   "source": [
    "import re\n",
    "import warnings\n",
    "warnings.filterwarnings(action='ignore')"
   ]
  },
  {
   "cell_type": "code",
   "execution_count": 7,
   "id": "21957c9f",
   "metadata": {},
   "outputs": [
    {
     "data": {
      "text/plain": [
       "100                             매서운 바람에 옷깃을 여미게 되는 겨울입니다\n",
       "101                     연인 친구와 함께 올해 마지막 추억을 만들어 가는 월입니다\n",
       "102                      매서운 바람이 가을을 몰아내고 겨울을 가지고 들어 왔네요\n",
       "103                 해를 보내는 아쉬운 마음과 새해를 맞는 설레임이 교차하는 월입니다\n",
       "104    다짐했던 계획들 잘 정리하고 계신가요 남은 날들 계획한 모든 일들이 잘 이루어지기를...\n",
       "Name: sentence, dtype: object"
      ]
     },
     "execution_count": 7,
     "metadata": {},
     "output_type": "execute_result"
    }
   ],
   "source": [
    "df['sentence'] = df['sentence'].apply(lambda x: re.sub(r'[^ ㄱ-ㅣ가-힣]+', '', x))\n",
    "df['sentence'][100:105]"
   ]
  },
  {
   "cell_type": "code",
   "execution_count": 8,
   "id": "78e74105",
   "metadata": {},
   "outputs": [
    {
     "data": {
      "text/html": [
       "<div>\n",
       "<style scoped>\n",
       "    .dataframe tbody tr th:only-of-type {\n",
       "        vertical-align: middle;\n",
       "    }\n",
       "\n",
       "    .dataframe tbody tr th {\n",
       "        vertical-align: top;\n",
       "    }\n",
       "\n",
       "    .dataframe thead th {\n",
       "        text-align: right;\n",
       "    }\n",
       "</style>\n",
       "<table border=\"1\" class=\"dataframe\">\n",
       "  <thead>\n",
       "    <tr style=\"text-align: right;\">\n",
       "      <th></th>\n",
       "      <th>sentence</th>\n",
       "      <th>label</th>\n",
       "    </tr>\n",
       "  </thead>\n",
       "  <tbody>\n",
       "    <tr>\n",
       "      <th>0</th>\n",
       "      <td>인사드립니다</td>\n",
       "      <td>0</td>\n",
       "    </tr>\n",
       "    <tr>\n",
       "      <th>1</th>\n",
       "      <td>인사하려고 했는데 짝남이 먼저 인사해줬어 더 떨렸겠어요</td>\n",
       "      <td>0</td>\n",
       "    </tr>\n",
       "    <tr>\n",
       "      <th>2</th>\n",
       "      <td>인사할까 했는데 짝녀가 먼저 인사해줬어 기분 좋았겠네요</td>\n",
       "      <td>0</td>\n",
       "    </tr>\n",
       "    <tr>\n",
       "      <th>3</th>\n",
       "      <td>집에 인사드리러 가 제가 더 떨리네요</td>\n",
       "      <td>0</td>\n",
       "    </tr>\n",
       "    <tr>\n",
       "      <th>4</th>\n",
       "      <td>마무리 가벼운 안부 인사일 거예요</td>\n",
       "      <td>0</td>\n",
       "    </tr>\n",
       "    <tr>\n",
       "      <th>...</th>\n",
       "      <td>...</td>\n",
       "      <td>...</td>\n",
       "    </tr>\n",
       "    <tr>\n",
       "      <th>617</th>\n",
       "      <td>했는데 좋겠어요</td>\n",
       "      <td>3</td>\n",
       "    </tr>\n",
       "    <tr>\n",
       "      <th>618</th>\n",
       "      <td>했어 좋겠어요</td>\n",
       "      <td>3</td>\n",
       "    </tr>\n",
       "    <tr>\n",
       "      <th>619</th>\n",
       "      <td>다 돈이다 많이 들지만 줄일 수 있을 거예요</td>\n",
       "      <td>3</td>\n",
       "    </tr>\n",
       "    <tr>\n",
       "      <th>620</th>\n",
       "      <td>가기 귀찮아 경조사는 참석하는게 좋아요</td>\n",
       "      <td>3</td>\n",
       "    </tr>\n",
       "    <tr>\n",
       "      <th>621</th>\n",
       "      <td>또 가야돼 경조사는 참석하는게 좋아요</td>\n",
       "      <td>3</td>\n",
       "    </tr>\n",
       "  </tbody>\n",
       "</table>\n",
       "<p>622 rows × 2 columns</p>\n",
       "</div>"
      ],
      "text/plain": [
       "                           sentence  label\n",
       "0                            인사드립니다      0\n",
       "1    인사하려고 했는데 짝남이 먼저 인사해줬어 더 떨렸겠어요      0\n",
       "2    인사할까 했는데 짝녀가 먼저 인사해줬어 기분 좋았겠네요      0\n",
       "3              집에 인사드리러 가 제가 더 떨리네요      0\n",
       "4                마무리 가벼운 안부 인사일 거예요      0\n",
       "..                              ...    ...\n",
       "617                        했는데 좋겠어요      3\n",
       "618                         했어 좋겠어요      3\n",
       "619        다 돈이다 많이 들지만 줄일 수 있을 거예요      3\n",
       "620           가기 귀찮아 경조사는 참석하는게 좋아요      3\n",
       "621            또 가야돼 경조사는 참석하는게 좋아요      3\n",
       "\n",
       "[622 rows x 2 columns]"
      ]
     },
     "execution_count": 8,
     "metadata": {},
     "output_type": "execute_result"
    }
   ],
   "source": [
    "df"
   ]
  },
  {
   "cell_type": "code",
   "execution_count": 9,
   "id": "1b84a755",
   "metadata": {},
   "outputs": [
    {
     "name": "stderr",
     "output_type": "stream",
     "text": [
      "C:\\ProgramData\\Anaconda3\\lib\\site-packages\\sklearn\\feature_extraction\\image.py:167: DeprecationWarning: `np.int` is a deprecated alias for the builtin `int`. To silence this warning, use `int` by itself. Doing this will not modify any behavior and is safe. When replacing `np.int`, you may wish to use e.g. `np.int64` or `np.int32` to specify the precision. If you wish to review your current use, check the release note link for additional information.\n",
      "Deprecated in NumPy 1.20; for more details and guidance: https://numpy.org/devdocs/release/1.20.0-notes.html#deprecations\n",
      "  dtype=np.int):\n"
     ]
    }
   ],
   "source": [
    "from sklearn.feature_extraction.text import TfidfVectorizer, CountVectorizer\n",
    "from konlpy.tag import Okt"
   ]
  },
  {
   "cell_type": "code",
   "execution_count": 10,
   "id": "686c3478",
   "metadata": {},
   "outputs": [],
   "source": [
    "okt = Okt()"
   ]
  },
  {
   "cell_type": "code",
   "execution_count": 11,
   "id": "90772b96",
   "metadata": {},
   "outputs": [],
   "source": [
    "tfidf = TfidfVectorizer(\n",
    "                        ngram_range=(1, 2),       # 두 묶음의 단어까지 인덱스 부여\n",
    "                        min_df = 3,               # 단어가 포함된 문장의 개수가 3개 이상일 때 인덱스 부여\n",
    "                        max_df = 0.9)  "
   ]
  },
  {
   "cell_type": "code",
   "execution_count": 12,
   "id": "5cd4c9bb",
   "metadata": {},
   "outputs": [
    {
     "data": {
      "text/plain": [
       "TfidfVectorizer(analyzer='word', binary=False, decode_error='strict',\n",
       "                dtype=<class 'numpy.float64'>, encoding='utf-8',\n",
       "                input='content', lowercase=True, max_df=0.9, max_features=None,\n",
       "                min_df=3, ngram_range=(1, 2), norm='l2', preprocessor=None,\n",
       "                smooth_idf=True, stop_words=None, strip_accents=None,\n",
       "                sublinear_tf=False, token_pattern='(?u)\\\\b\\\\w\\\\w+\\\\b',\n",
       "                tokenizer=None, use_idf=True, vocabulary=None)"
      ]
     },
     "execution_count": 12,
     "metadata": {},
     "output_type": "execute_result"
    }
   ],
   "source": [
    "tfidf.fit(df['sentence'])"
   ]
  },
  {
   "cell_type": "code",
   "execution_count": 13,
   "id": "046fc8c8",
   "metadata": {},
   "outputs": [
    {
     "data": {
      "text/plain": [
       "{'했는데': 254,\n",
       " '먼저': 90,\n",
       " '집에': 223,\n",
       " '거예요': 18,\n",
       " '이제': 170,\n",
       " '마세요': 80,\n",
       " '마지막': 83,\n",
       " '바랍니다': 105,\n",
       " '마음에': 81,\n",
       " '안녕히': 142,\n",
       " '주무세요': 218,\n",
       " '안녕히 주무세요': 143,\n",
       " '안녕': 140,\n",
       " '안녕하세요': 141,\n",
       " '어떻게': 145,\n",
       " '정말': 192,\n",
       " '해보세요': 250,\n",
       " '느낄': 37,\n",
       " '있는': 176,\n",
       " '계절입니다': 26,\n",
       " '있습니다': 177,\n",
       " '느낄 있습니다': 38,\n",
       " '주는': 216,\n",
       " '계절': 20,\n",
       " '봄입니다': 113,\n",
       " '계절 봄입니다': 22,\n",
       " '계절의': 24,\n",
       " '여왕': 154,\n",
       " '계절의 여왕': 25,\n",
       " '봄이': 111,\n",
       " '찾아왔습니다': 224,\n",
       " '왔습니다': 160,\n",
       " '계절 봄이': 21,\n",
       " '봄이 왔습니다': 112,\n",
       " '가득한': 7,\n",
       " '있을': 181,\n",
       " '같은': 16,\n",
       " '어느새': 144,\n",
       " '바로': 106,\n",
       " '합니다': 248,\n",
       " '즐거운': 221,\n",
       " '떠오르는': 57,\n",
       " '따뜻한': 55,\n",
       " '문득': 98,\n",
       " '월입니다': 163,\n",
       " '좋은': 212,\n",
       " '아름다운': 139,\n",
       " '산과': 120,\n",
       " '너무': 34,\n",
       " '오늘': 158,\n",
       " '하는': 237,\n",
       " '함께': 247,\n",
       " '곳으로': 27,\n",
       " '같습니다': 13,\n",
       " '같은데': 17,\n",
       " '벌써': 108,\n",
       " '가고': 0,\n",
       " '느껴지는': 36,\n",
       " '여름입니다': 153,\n",
       " '계절 여름입니다': 23,\n",
       " '시원한': 134,\n",
       " '시간을': 132,\n",
       " '시간이': 133,\n",
       " '때문에': 56,\n",
       " '많이': 86,\n",
       " '해도': 249,\n",
       " '언제': 148,\n",
       " '만들어': 84,\n",
       " '없이': 152,\n",
       " '추천': 225,\n",
       " '원해요': 161,\n",
       " '해야': 251,\n",
       " '되요': 49,\n",
       " '해야 되요': 252,\n",
       " '하고': 235,\n",
       " '싶은데': 138,\n",
       " '싶다': 135,\n",
       " '할게요': 242,\n",
       " '할께요': 244,\n",
       " '도와주세요': 46,\n",
       " '있나요': 175,\n",
       " '가능': 1,\n",
       " '한가요': 241,\n",
       " '가능 한가요': 2,\n",
       " '문의드려요': 99,\n",
       " '당일': 44,\n",
       " '가능한가요': 4,\n",
       " '당일 가능한가요': 45,\n",
       " '하려구요': 239,\n",
       " '되었나요': 48,\n",
       " '되나요': 47,\n",
       " '할수': 245,\n",
       " '있을까요': 183,\n",
       " '할수 있을까요': 246,\n",
       " '싶어요': 137,\n",
       " '언제 가능': 149,\n",
       " '언제가능할까요': 150,\n",
       " '하나요': 236,\n",
       " '어떻게 하나요': 147,\n",
       " '어떻게 되나요': 146,\n",
       " '하는법': 238,\n",
       " '해줘': 253,\n",
       " '가능할까요': 5,\n",
       " '몇시부터': 92,\n",
       " '몇시부터 가능한가요': 93,\n",
       " '다음주': 40,\n",
       " '내일': 32,\n",
       " '내일 추천': 33,\n",
       " '추천 하고': 228,\n",
       " '추천 가능한가요': 227,\n",
       " '추천하고싶어요': 230,\n",
       " '추천 가능': 226,\n",
       " '음식': 164,\n",
       " '추천할수': 231,\n",
       " '빨리': 116,\n",
       " '메뉴': 91,\n",
       " '지금': 222,\n",
       " '가능할지': 6,\n",
       " '음식 추천': 165,\n",
       " '추천 해줘': 229,\n",
       " '선택': 123,\n",
       " '점심시간에': 190,\n",
       " '점심시간에 추천': 191,\n",
       " '담주': 42,\n",
       " '담주 추천': 43,\n",
       " '방문': 107,\n",
       " '랭킹': 58,\n",
       " '조회': 195,\n",
       " '랭킹 조회': 62,\n",
       " '일요일로': 171,\n",
       " '조회가능한가요': 201,\n",
       " '다음주 일요일로': 41,\n",
       " '일요일로 조회가능한가요': 172,\n",
       " '날짜': 30,\n",
       " '랭킹 날짜': 59,\n",
       " '날짜 조회': 31,\n",
       " '조회 가능한가요': 197,\n",
       " '랭킹날짜를': 67,\n",
       " '연기했스면': 156,\n",
       " '랭킹날짜를 연기했스면': 68,\n",
       " '연기했스면 합니다': 157,\n",
       " '랭킹날짜조회부탁드려요': 69,\n",
       " '랭킹날짜조회하려구요': 70,\n",
       " '랭킹조회': 76,\n",
       " '랭킹조회 가능한가요': 77,\n",
       " '랭킹조회이요': 78,\n",
       " '랭킹조회하고싶은데': 79,\n",
       " '랭킹시간바꿀수있을까요': 71,\n",
       " '랭킹시간을': 72,\n",
       " '미룰': 100,\n",
       " '랭킹시간을 미룰': 73,\n",
       " '미룰 있나요': 101,\n",
       " '죄송하지만': 214,\n",
       " '할까요': 243,\n",
       " '오늘 랭킹': 159,\n",
       " '랭킹 죄송하지만': 66,\n",
       " '죄송하지만 조회': 215,\n",
       " '조회 가능': 196,\n",
       " '가능 할까요': 3,\n",
       " '시간': 129,\n",
       " '좀더': 209,\n",
       " '뒤로': 50,\n",
       " '미룰수있나요': 102,\n",
       " '시간 좀더': 131,\n",
       " '좀더 뒤로': 210,\n",
       " '뒤로 미룰수있나요': 51,\n",
       " '일자': 173,\n",
       " '랭킹 일자': 61,\n",
       " '일자 조회': 174,\n",
       " '랭킹일': 74,\n",
       " '랭킹일 조회': 75,\n",
       " '조회 가능할까요': 198,\n",
       " '조회어떻게': 202,\n",
       " '랭킹 조회어떻게': 63,\n",
       " '조회어떻게 해야': 203,\n",
       " '조회하고': 205,\n",
       " '랭킹 조회하고': 64,\n",
       " '조회하고 싶은데': 206,\n",
       " '조회할게요': 207,\n",
       " '랭킹 조회할게요': 65,\n",
       " '조회할께요': 208,\n",
       " '조회 어떻게': 200,\n",
       " '못맞출거': 97,\n",
       " '같아': 14,\n",
       " '조회 못맞출거': 199,\n",
       " '시간 조회': 130,\n",
       " '스케줄': 127,\n",
       " '조정': 194,\n",
       " '바꾸고싶어요': 103,\n",
       " '랭킹 시간': 60,\n",
       " '월요일로': 162,\n",
       " '조회하겠어요': 204,\n",
       " '화요일로': 256,\n",
       " '수요일로': 124,\n",
       " '목요일로': 96,\n",
       " '금요일로': 29,\n",
       " '토요일로': 234,\n",
       " '가지': 12,\n",
       " '좋죠': 213,\n",
       " '다시': 39,\n",
       " '있어요': 179,\n",
       " '하세요': 240,\n",
       " '가장': 9,\n",
       " '놓고': 35,\n",
       " '여행': 155,\n",
       " '했어': 255,\n",
       " '가족이': 10,\n",
       " '모두': 94,\n",
       " '드는': 52,\n",
       " '가보세요': 8,\n",
       " '가족이 모두': 11,\n",
       " '모두 마음에': 95,\n",
       " '마음에 드는': 82,\n",
       " '드는 곳으로': 53,\n",
       " '곳으로 가보세요': 28,\n",
       " '있어': 178,\n",
       " '저를': 188,\n",
       " '사람을': 117,\n",
       " '부모님': 114,\n",
       " '저랑': 186,\n",
       " '이야기해': 168,\n",
       " '친구로': 232,\n",
       " '생각하고': 121,\n",
       " '저를 만들어': 189,\n",
       " '만들어 사람을': 85,\n",
       " '사람을 부모님': 118,\n",
       " '부모님 저랑': 115,\n",
       " '저랑 이야기해': 187,\n",
       " '이야기해 주는': 169,\n",
       " '주는 사람을': 217,\n",
       " '사람을 친구로': 119,\n",
       " '친구로 생각하고': 233,\n",
       " '생각하고 있어요': 122,\n",
       " '싶어': 136,\n",
       " '습관이에요': 128,\n",
       " '결정을': 19,\n",
       " '없어': 151,\n",
       " '바라요': 104,\n",
       " '맛있게': 87,\n",
       " '드세요': 54,\n",
       " '맛있게 드세요': 88,\n",
       " '저도': 185,\n",
       " '먹고': 89,\n",
       " '같애': 15,\n",
       " '병원가세요': 109,\n",
       " '이럴': 166,\n",
       " '쉬는': 125,\n",
       " '중요해요': 220,\n",
       " '이럴 쉬는': 167,\n",
       " '쉬는 중요해요': 126,\n",
       " '자신을': 184,\n",
       " '보세요': 110,\n",
       " '좋아요': 211,\n",
       " '있으면': 180,\n",
       " '제일': 193,\n",
       " '중요한': 219,\n",
       " '있을 거예요': 182}"
      ]
     },
     "execution_count": 13,
     "metadata": {},
     "output_type": "execute_result"
    }
   ],
   "source": [
    "tfidf.vocabulary_"
   ]
  },
  {
   "cell_type": "code",
   "execution_count": 14,
   "id": "5887e28a",
   "metadata": {},
   "outputs": [],
   "source": [
    "tfidf_df= tfidf.transform(df['sentence'])"
   ]
  },
  {
   "cell_type": "code",
   "execution_count": 15,
   "id": "93637837",
   "metadata": {},
   "outputs": [
    {
     "data": {
      "text/plain": [
       "<622x257 sparse matrix of type '<class 'numpy.float64'>'\n",
       "\twith 1472 stored elements in Compressed Sparse Row format>"
      ]
     },
     "execution_count": 15,
     "metadata": {},
     "output_type": "execute_result"
    }
   ],
   "source": [
    "tfidf_df"
   ]
  },
  {
   "cell_type": "code",
   "execution_count": 16,
   "id": "d1ef981e",
   "metadata": {},
   "outputs": [
    {
     "data": {
      "text/plain": [
       "622"
      ]
     },
     "execution_count": 16,
     "metadata": {},
     "output_type": "execute_result"
    }
   ],
   "source": [
    "len(tfidf_df.toarray())"
   ]
  },
  {
   "cell_type": "code",
   "execution_count": 17,
   "id": "f5186b84",
   "metadata": {},
   "outputs": [],
   "source": [
    "from sklearn.model_selection import train_test_split"
   ]
  },
  {
   "cell_type": "code",
   "execution_count": 18,
   "id": "17ce039f",
   "metadata": {},
   "outputs": [],
   "source": [
    "X_train, X_test, y_train, y_test = train_test_split(tfidf_df.toarray(), df['label'], test_size= 0.2, random_state=55)"
   ]
  },
  {
   "cell_type": "code",
   "execution_count": 19,
   "id": "588e6af3",
   "metadata": {
    "scrolled": true
   },
   "outputs": [
    {
     "data": {
      "text/plain": [
       "array([[0., 0., 0., ..., 0., 0., 0.],\n",
       "       [0., 0., 0., ..., 0., 0., 0.],\n",
       "       [0., 0., 0., ..., 0., 0., 0.],\n",
       "       ...,\n",
       "       [0., 0., 0., ..., 0., 0., 0.],\n",
       "       [0., 0., 0., ..., 0., 0., 0.],\n",
       "       [0., 0., 0., ..., 0., 0., 0.]])"
      ]
     },
     "execution_count": 19,
     "metadata": {},
     "output_type": "execute_result"
    }
   ],
   "source": [
    "X_train"
   ]
  },
  {
   "cell_type": "code",
   "execution_count": 20,
   "id": "0ef2b9b6",
   "metadata": {},
   "outputs": [
    {
     "data": {
      "text/plain": [
       "(497, 257)"
      ]
     },
     "execution_count": 20,
     "metadata": {},
     "output_type": "execute_result"
    }
   ],
   "source": [
    "X_train.shape"
   ]
  },
  {
   "cell_type": "code",
   "execution_count": 21,
   "id": "9700b103",
   "metadata": {},
   "outputs": [],
   "source": [
    "from tensorflow.keras.models import Sequential\n",
    "from tensorflow.keras.layers import Embedding, Dense, LSTM"
   ]
  },
  {
   "cell_type": "code",
   "execution_count": 22,
   "id": "495505cd",
   "metadata": {},
   "outputs": [],
   "source": [
    "embedding_dim=100\n",
    "hidden_units=128\n",
    "\n",
    "model=Sequential()\n",
    "model.add(Embedding(497, embedding_dim))\n",
    "model.add(LSTM(hidden_units))\n",
    "model.add(Dense(4, activation=\"softmax\"))\n",
    "model.compile(loss='sparse_categorical_crossentropy', optimizer='adam', metrics=['accuracy'])"
   ]
  },
  {
   "cell_type": "code",
   "execution_count": 23,
   "id": "5dafa5a8",
   "metadata": {},
   "outputs": [
    {
     "name": "stdout",
     "output_type": "stream",
     "text": [
      "Model: \"sequential\"\n",
      "_________________________________________________________________\n",
      " Layer (type)                Output Shape              Param #   \n",
      "=================================================================\n",
      " embedding (Embedding)       (None, None, 100)         60000     \n",
      "                                                                 \n",
      " lstm (LSTM)                 (None, 128)               117248    \n",
      "                                                                 \n",
      " dense (Dense)               (None, 4)                 516       \n",
      "                                                                 \n",
      "=================================================================\n",
      "Total params: 177,764\n",
      "Trainable params: 177,764\n",
      "Non-trainable params: 0\n",
      "_________________________________________________________________\n"
     ]
    }
   ],
   "source": [
    "model.summary()"
   ]
  },
  {
   "cell_type": "code",
   "execution_count": null,
   "id": "d11a39a0",
   "metadata": {
    "scrolled": true
   },
   "outputs": [
    {
     "name": "stdout",
     "output_type": "stream",
     "text": [
      "Epoch 1/100\n",
      "16/16 - 4s - loss: 1.3696 - accuracy: 0.3521 - 4s/epoch - 231ms/step\n",
      "Epoch 2/100\n",
      "16/16 - 2s - loss: 1.3566 - accuracy: 0.3521 - 2s/epoch - 123ms/step\n",
      "Epoch 3/100\n",
      "16/16 - 2s - loss: 1.3578 - accuracy: 0.3521 - 2s/epoch - 124ms/step\n",
      "Epoch 4/100\n",
      "16/16 - 2s - loss: 1.3564 - accuracy: 0.3521 - 2s/epoch - 117ms/step\n",
      "Epoch 5/100\n"
     ]
    }
   ],
   "source": [
    "model.fit(X_train,y_train, epochs=100, verbose=2)"
   ]
  },
  {
   "cell_type": "code",
   "execution_count": null,
   "id": "c6903fc2",
   "metadata": {},
   "outputs": [],
   "source": []
  }
 ],
 "metadata": {
  "kernelspec": {
   "display_name": "Python 3 (ipykernel)",
   "language": "python",
   "name": "python3"
  },
  "language_info": {
   "codemirror_mode": {
    "name": "ipython",
    "version": 3
   },
   "file_extension": ".py",
   "mimetype": "text/x-python",
   "name": "python",
   "nbconvert_exporter": "python",
   "pygments_lexer": "ipython3",
   "version": "3.7.4"
  }
 },
 "nbformat": 4,
 "nbformat_minor": 5
}
