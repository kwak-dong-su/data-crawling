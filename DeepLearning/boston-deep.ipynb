{
 "cells": [
  {
   "cell_type": "code",
   "execution_count": 1,
   "metadata": {},
   "outputs": [],
   "source": [
    "import pandas as pd\n",
    "import numpy as np\n",
    "import random\n",
    "import tensorflow as tf"
   ]
  },
  {
   "cell_type": "code",
   "execution_count": 2,
   "metadata": {},
   "outputs": [
    {
     "name": "stdout",
     "output_type": "stream",
     "text": [
      "2.7.0\n"
     ]
    }
   ],
   "source": [
    "print(tf.__version__)"
   ]
  },
  {
   "cell_type": "code",
   "execution_count": 3,
   "metadata": {},
   "outputs": [
    {
     "name": "stderr",
     "output_type": "stream",
     "text": [
      "C:\\ProgramData\\Anaconda3\\lib\\site-packages\\sklearn\\feature_extraction\\image.py:167: DeprecationWarning: `np.int` is a deprecated alias for the builtin `int`. To silence this warning, use `int` by itself. Doing this will not modify any behavior and is safe. When replacing `np.int`, you may wish to use e.g. `np.int64` or `np.int32` to specify the precision. If you wish to review your current use, check the release note link for additional information.\n",
      "Deprecated in NumPy 1.20; for more details and guidance: https://numpy.org/devdocs/release/1.20.0-notes.html#deprecations\n",
      "  dtype=np.int):\n"
     ]
    }
   ],
   "source": [
    "from sklearn import datasets"
   ]
  },
  {
   "cell_type": "code",
   "execution_count": 4,
   "metadata": {},
   "outputs": [],
   "source": [
    "housing=datasets.load_boston()"
   ]
  },
  {
   "cell_type": "code",
   "execution_count": 5,
   "metadata": {},
   "outputs": [
    {
     "data": {
      "text/plain": [
       "sklearn.utils.Bunch"
      ]
     },
     "execution_count": 5,
     "metadata": {},
     "output_type": "execute_result"
    }
   ],
   "source": [
    "type(housing)"
   ]
  },
  {
   "cell_type": "code",
   "execution_count": 6,
   "metadata": {},
   "outputs": [],
   "source": [
    "# sklearn.utils.Bunch : dictionary 객체로 만들어 놓은 것!"
   ]
  },
  {
   "cell_type": "code",
   "execution_count": 7,
   "metadata": {},
   "outputs": [
    {
     "data": {
      "text/plain": [
       "dict_keys(['data', 'target', 'feature_names', 'DESCR', 'filename'])"
      ]
     },
     "execution_count": 7,
     "metadata": {},
     "output_type": "execute_result"
    }
   ],
   "source": [
    "housing.keys()"
   ]
  },
  {
   "cell_type": "code",
   "execution_count": 8,
   "metadata": {},
   "outputs": [
    {
     "data": {
      "text/plain": [
       "array([[6.3200e-03, 1.8000e+01, 2.3100e+00, ..., 1.5300e+01, 3.9690e+02,\n",
       "        4.9800e+00],\n",
       "       [2.7310e-02, 0.0000e+00, 7.0700e+00, ..., 1.7800e+01, 3.9690e+02,\n",
       "        9.1400e+00],\n",
       "       [2.7290e-02, 0.0000e+00, 7.0700e+00, ..., 1.7800e+01, 3.9283e+02,\n",
       "        4.0300e+00],\n",
       "       ...,\n",
       "       [6.0760e-02, 0.0000e+00, 1.1930e+01, ..., 2.1000e+01, 3.9690e+02,\n",
       "        5.6400e+00],\n",
       "       [1.0959e-01, 0.0000e+00, 1.1930e+01, ..., 2.1000e+01, 3.9345e+02,\n",
       "        6.4800e+00],\n",
       "       [4.7410e-02, 0.0000e+00, 1.1930e+01, ..., 2.1000e+01, 3.9690e+02,\n",
       "        7.8800e+00]])"
      ]
     },
     "execution_count": 8,
     "metadata": {},
     "output_type": "execute_result"
    }
   ],
   "source": [
    "housing['data']"
   ]
  },
  {
   "cell_type": "code",
   "execution_count": 12,
   "metadata": {},
   "outputs": [],
   "source": [
    "X_data=housing.data # 문제"
   ]
  },
  {
   "cell_type": "code",
   "execution_count": 14,
   "metadata": {},
   "outputs": [],
   "source": [
    "y_data=housing.target # 답(집값)"
   ]
  },
  {
   "cell_type": "code",
   "execution_count": 73,
   "metadata": {},
   "outputs": [
    {
     "data": {
      "text/plain": [
       "array([24. , 21.6, 34.7])"
      ]
     },
     "execution_count": 73,
     "metadata": {},
     "output_type": "execute_result"
    }
   ],
   "source": [
    "y_data[:3]"
   ]
  },
  {
   "cell_type": "code",
   "execution_count": 75,
   "metadata": {},
   "outputs": [
    {
     "data": {
      "text/plain": [
       "numpy.ndarray"
      ]
     },
     "execution_count": 75,
     "metadata": {},
     "output_type": "execute_result"
    }
   ],
   "source": [
    "type(X_data)"
   ]
  },
  {
   "cell_type": "code",
   "execution_count": 74,
   "metadata": {},
   "outputs": [
    {
     "data": {
      "text/plain": [
       "numpy.ndarray"
      ]
     },
     "execution_count": 74,
     "metadata": {},
     "output_type": "execute_result"
    }
   ],
   "source": [
    "type(y_data)"
   ]
  },
  {
   "cell_type": "code",
   "execution_count": 16,
   "metadata": {},
   "outputs": [
    {
     "data": {
      "text/plain": [
       "(506, 13)"
      ]
     },
     "execution_count": 16,
     "metadata": {},
     "output_type": "execute_result"
    }
   ],
   "source": [
    "X_data.shape"
   ]
  },
  {
   "cell_type": "code",
   "execution_count": 17,
   "metadata": {},
   "outputs": [
    {
     "data": {
      "text/plain": [
       "array(['CRIM', 'ZN', 'INDUS', 'CHAS', 'NOX', 'RM', 'AGE', 'DIS', 'RAD',\n",
       "       'TAX', 'PTRATIO', 'B', 'LSTAT'], dtype='<U7')"
      ]
     },
     "execution_count": 17,
     "metadata": {},
     "output_type": "execute_result"
    }
   ],
   "source": [
    "housing.feature_names"
   ]
  },
  {
   "cell_type": "code",
   "execution_count": 18,
   "metadata": {},
   "outputs": [],
   "source": [
    "from sklearn.preprocessing import MinMaxScaler\n",
    "from sklearn.model_selection import train_test_split"
   ]
  },
  {
   "cell_type": "code",
   "execution_count": 20,
   "metadata": {},
   "outputs": [],
   "source": [
    "scaler = MinMaxScaler()\n",
    "X_data_scaled = scaler.fit_transform(X_data)"
   ]
  },
  {
   "cell_type": "code",
   "execution_count": 21,
   "metadata": {},
   "outputs": [
    {
     "data": {
      "text/plain": [
       "array([[0.00000000e+00, 1.80000000e-01, 6.78152493e-02, ...,\n",
       "        2.87234043e-01, 1.00000000e+00, 8.96799117e-02],\n",
       "       [2.35922539e-04, 0.00000000e+00, 2.42302053e-01, ...,\n",
       "        5.53191489e-01, 1.00000000e+00, 2.04470199e-01],\n",
       "       [2.35697744e-04, 0.00000000e+00, 2.42302053e-01, ...,\n",
       "        5.53191489e-01, 9.89737254e-01, 6.34657837e-02],\n",
       "       ...,\n",
       "       [6.11892474e-04, 0.00000000e+00, 4.20454545e-01, ...,\n",
       "        8.93617021e-01, 1.00000000e+00, 1.07891832e-01],\n",
       "       [1.16072990e-03, 0.00000000e+00, 4.20454545e-01, ...,\n",
       "        8.93617021e-01, 9.91300620e-01, 1.31070640e-01],\n",
       "       [4.61841693e-04, 0.00000000e+00, 4.20454545e-01, ...,\n",
       "        8.93617021e-01, 1.00000000e+00, 1.69701987e-01]])"
      ]
     },
     "execution_count": 21,
     "metadata": {},
     "output_type": "execute_result"
    }
   ],
   "source": [
    "X_data_scaled"
   ]
  },
  {
   "cell_type": "code",
   "execution_count": 22,
   "metadata": {},
   "outputs": [
    {
     "name": "stdout",
     "output_type": "stream",
     "text": [
      "(455, 13) (455,)\n",
      "(51, 13) (51,)\n"
     ]
    }
   ],
   "source": [
    "X_train, X_test, y_train, y_test = train_test_split(X_data_scaled, y_data, \n",
    "                                                    test_size=0.1, \n",
    "                                                    shuffle=True, \n",
    "                                                    random_state=11)\n",
    "print(X_train.shape, y_train.shape)\n",
    "print(X_test.shape, y_test.shape)"
   ]
  },
  {
   "cell_type": "code",
   "execution_count": 25,
   "metadata": {},
   "outputs": [],
   "source": [
    "from tensorflow.keras import Sequential\n",
    "from tensorflow.keras.layers import Dense"
   ]
  },
  {
   "cell_type": "code",
   "execution_count": 26,
   "metadata": {},
   "outputs": [],
   "source": [
    "# 레이어를 순서대로 쌓을 수 있도록 객체를 생성\n",
    "model=Sequential()\n",
    "model.add(Dense(128, activation='relu', input_dim=13))\n",
    "model.add(Dense(64, activation='relu'))\n",
    "model.add(Dense(32, activation='relu'))\n",
    "model.add(Dense(16, activation='relu'))\n",
    "model.add(Dense(1, activation='linear')) # 회귀일 때, 마지막 출력층의 활성화 함수"
   ]
  },
  {
   "cell_type": "code",
   "execution_count": 27,
   "metadata": {},
   "outputs": [],
   "source": [
    "# 쌓은 것으로 모델 세팅\n",
    "model.compile(optimizer='adam', loss='mse', metrics=['mae']) "
   ]
  },
  {
   "cell_type": "code",
   "execution_count": 28,
   "metadata": {},
   "outputs": [
    {
     "name": "stdout",
     "output_type": "stream",
     "text": [
      "Model: \"sequential\"\n",
      "_________________________________________________________________\n",
      " Layer (type)                Output Shape              Param #   \n",
      "=================================================================\n",
      " dense (Dense)               (None, 128)               1792      \n",
      "                                                                 \n",
      " dense_1 (Dense)             (None, 64)                8256      \n",
      "                                                                 \n",
      " dense_2 (Dense)             (None, 32)                2080      \n",
      "                                                                 \n",
      " dense_3 (Dense)             (None, 16)                528       \n",
      "                                                                 \n",
      " dense_4 (Dense)             (None, 1)                 17        \n",
      "                                                                 \n",
      "=================================================================\n",
      "Total params: 12,673\n",
      "Trainable params: 12,673\n",
      "Non-trainable params: 0\n",
      "_________________________________________________________________\n"
     ]
    }
   ],
   "source": [
    "# 모델에 세팅한 내용을 요약해서 프린트\n",
    "model.summary()"
   ]
  },
  {
   "cell_type": "code",
   "execution_count": 44,
   "metadata": {
    "scrolled": true
   },
   "outputs": [
    {
     "name": "stdout",
     "output_type": "stream",
     "text": [
      "Epoch 1/100\n",
      "15/15 - 0s - loss: 10.0402 - mae: 2.1889 - 16ms/epoch - 1ms/step\n",
      "Epoch 2/100\n",
      "15/15 - 0s - loss: 9.9933 - mae: 2.1860 - 16ms/epoch - 1ms/step\n",
      "Epoch 3/100\n",
      "15/15 - 0s - loss: 10.0220 - mae: 2.1925 - 17ms/epoch - 1ms/step\n",
      "Epoch 4/100\n",
      "15/15 - 0s - loss: 10.0846 - mae: 2.2042 - 16ms/epoch - 1ms/step\n",
      "Epoch 5/100\n",
      "15/15 - 0s - loss: 9.8139 - mae: 2.1752 - 14ms/epoch - 962us/step\n",
      "Epoch 6/100\n",
      "15/15 - 0s - loss: 9.8947 - mae: 2.1854 - 15ms/epoch - 1ms/step\n",
      "Epoch 7/100\n",
      "15/15 - 0s - loss: 9.6184 - mae: 2.1771 - 14ms/epoch - 929us/step\n",
      "Epoch 8/100\n",
      "15/15 - 0s - loss: 9.5682 - mae: 2.1657 - 14ms/epoch - 933us/step\n",
      "Epoch 9/100\n",
      "15/15 - 0s - loss: 10.2065 - mae: 2.2674 - 15ms/epoch - 995us/step\n",
      "Epoch 10/100\n",
      "15/15 - 0s - loss: 9.5173 - mae: 2.1599 - 15ms/epoch - 992us/step\n",
      "Epoch 11/100\n",
      "15/15 - 0s - loss: 10.2007 - mae: 2.2351 - 16ms/epoch - 1ms/step\n",
      "Epoch 12/100\n",
      "15/15 - 0s - loss: 9.8725 - mae: 2.2402 - 13ms/epoch - 886us/step\n",
      "Epoch 13/100\n",
      "15/15 - 0s - loss: 9.6295 - mae: 2.1732 - 14ms/epoch - 931us/step\n",
      "Epoch 14/100\n",
      "15/15 - 0s - loss: 9.3864 - mae: 2.1630 - 14ms/epoch - 933us/step\n",
      "Epoch 15/100\n",
      "15/15 - 0s - loss: 9.1377 - mae: 2.1211 - 15ms/epoch - 971us/step\n",
      "Epoch 16/100\n",
      "15/15 - 0s - loss: 9.1968 - mae: 2.1268 - 14ms/epoch - 929us/step\n",
      "Epoch 17/100\n",
      "15/15 - 0s - loss: 9.3127 - mae: 2.1451 - 13ms/epoch - 864us/step\n",
      "Epoch 18/100\n",
      "15/15 - 0s - loss: 9.1709 - mae: 2.1304 - 14ms/epoch - 933us/step\n",
      "Epoch 19/100\n",
      "15/15 - 0s - loss: 8.8572 - mae: 2.0977 - 13ms/epoch - 864us/step\n",
      "Epoch 20/100\n",
      "15/15 - 0s - loss: 9.2526 - mae: 2.1479 - 12ms/epoch - 798us/step\n",
      "Epoch 21/100\n",
      "15/15 - 0s - loss: 9.6966 - mae: 2.2255 - 12ms/epoch - 792us/step\n",
      "Epoch 22/100\n",
      "15/15 - 0s - loss: 9.4039 - mae: 2.1639 - 13ms/epoch - 864us/step\n",
      "Epoch 23/100\n",
      "15/15 - 0s - loss: 8.6627 - mae: 2.0788 - 14ms/epoch - 935us/step\n",
      "Epoch 24/100\n",
      "15/15 - 0s - loss: 8.9701 - mae: 2.1509 - 14ms/epoch - 929us/step\n",
      "Epoch 25/100\n",
      "15/15 - 0s - loss: 8.8518 - mae: 2.1063 - 14ms/epoch - 931us/step\n",
      "Epoch 26/100\n",
      "15/15 - 0s - loss: 9.6310 - mae: 2.2568 - 14ms/epoch - 929us/step\n",
      "Epoch 27/100\n",
      "15/15 - 0s - loss: 9.6712 - mae: 2.2429 - 13ms/epoch - 862us/step\n",
      "Epoch 28/100\n",
      "15/15 - 0s - loss: 10.9962 - mae: 2.4444 - 13ms/epoch - 891us/step\n",
      "Epoch 29/100\n",
      "15/15 - 0s - loss: 8.8467 - mae: 2.1285 - 12ms/epoch - 797us/step\n",
      "Epoch 30/100\n",
      "15/15 - 0s - loss: 8.3675 - mae: 2.0517 - 13ms/epoch - 864us/step\n",
      "Epoch 31/100\n",
      "15/15 - 0s - loss: 8.2292 - mae: 2.0362 - 14ms/epoch - 952us/step\n",
      "Epoch 32/100\n",
      "15/15 - 0s - loss: 8.5328 - mae: 2.0807 - 15ms/epoch - 995us/step\n",
      "Epoch 33/100\n",
      "15/15 - 0s - loss: 8.7400 - mae: 2.0944 - 14ms/epoch - 962us/step\n",
      "Epoch 34/100\n",
      "15/15 - 0s - loss: 8.0978 - mae: 2.0372 - 15ms/epoch - 981us/step\n",
      "Epoch 35/100\n",
      "15/15 - 0s - loss: 8.3951 - mae: 2.0607 - 14ms/epoch - 932us/step\n",
      "Epoch 36/100\n",
      "15/15 - 0s - loss: 8.7094 - mae: 2.1479 - 14ms/epoch - 904us/step\n",
      "Epoch 37/100\n",
      "15/15 - 0s - loss: 8.7740 - mae: 2.1080 - 14ms/epoch - 928us/step\n",
      "Epoch 38/100\n",
      "15/15 - 0s - loss: 8.4537 - mae: 2.0745 - 14ms/epoch - 946us/step\n",
      "Epoch 39/100\n",
      "15/15 - 0s - loss: 8.0652 - mae: 2.0371 - 15ms/epoch - 997us/step\n",
      "Epoch 40/100\n",
      "15/15 - 0s - loss: 7.9978 - mae: 2.0059 - 14ms/epoch - 929us/step\n",
      "Epoch 41/100\n",
      "15/15 - 0s - loss: 8.3185 - mae: 2.0875 - 13ms/epoch - 863us/step\n",
      "Epoch 42/100\n",
      "15/15 - 0s - loss: 8.2506 - mae: 2.0300 - 13ms/epoch - 864us/step\n",
      "Epoch 43/100\n",
      "15/15 - 0s - loss: 7.9008 - mae: 2.0267 - 13ms/epoch - 899us/step\n",
      "Epoch 44/100\n",
      "15/15 - 0s - loss: 7.8152 - mae: 1.9890 - 14ms/epoch - 923us/step\n",
      "Epoch 45/100\n",
      "15/15 - 0s - loss: 7.6966 - mae: 1.9778 - 14ms/epoch - 931us/step\n",
      "Epoch 46/100\n",
      "15/15 - 0s - loss: 7.8597 - mae: 2.0095 - 14ms/epoch - 931us/step\n",
      "Epoch 47/100\n",
      "15/15 - 0s - loss: 7.7442 - mae: 2.0150 - 14ms/epoch - 931us/step\n",
      "Epoch 48/100\n",
      "15/15 - 0s - loss: 8.1801 - mae: 2.1011 - 14ms/epoch - 930us/step\n",
      "Epoch 49/100\n",
      "15/15 - 0s - loss: 7.6804 - mae: 1.9895 - 15ms/epoch - 995us/step\n",
      "Epoch 50/100\n",
      "15/15 - 0s - loss: 7.7268 - mae: 2.0483 - 14ms/epoch - 931us/step\n",
      "Epoch 51/100\n",
      "15/15 - 0s - loss: 7.8105 - mae: 2.0335 - 14ms/epoch - 916us/step\n",
      "Epoch 52/100\n",
      "15/15 - 0s - loss: 7.4746 - mae: 1.9652 - 14ms/epoch - 905us/step\n",
      "Epoch 53/100\n",
      "15/15 - 0s - loss: 7.6339 - mae: 1.9929 - 13ms/epoch - 862us/step\n",
      "Epoch 54/100\n",
      "15/15 - 0s - loss: 7.8797 - mae: 2.0161 - 12ms/epoch - 797us/step\n",
      "Epoch 55/100\n",
      "15/15 - 0s - loss: 7.4325 - mae: 1.9824 - 13ms/epoch - 864us/step\n",
      "Epoch 56/100\n",
      "15/15 - 0s - loss: 7.3468 - mae: 1.9440 - 13ms/epoch - 852us/step\n",
      "Epoch 57/100\n",
      "15/15 - 0s - loss: 8.1355 - mae: 2.1199 - 14ms/epoch - 929us/step\n",
      "Epoch 58/100\n",
      "15/15 - 0s - loss: 8.8265 - mae: 2.2155 - 14ms/epoch - 929us/step\n",
      "Epoch 59/100\n",
      "15/15 - 0s - loss: 7.2479 - mae: 1.9409 - 14ms/epoch - 931us/step\n",
      "Epoch 60/100\n",
      "15/15 - 0s - loss: 7.3345 - mae: 1.9432 - 13ms/epoch - 866us/step\n",
      "Epoch 61/100\n",
      "15/15 - 0s - loss: 7.6416 - mae: 2.0120 - 14ms/epoch - 933us/step\n",
      "Epoch 62/100\n",
      "15/15 - 0s - loss: 7.1422 - mae: 1.9630 - 14ms/epoch - 931us/step\n",
      "Epoch 63/100\n",
      "15/15 - 0s - loss: 7.1854 - mae: 1.9467 - 14ms/epoch - 933us/step\n",
      "Epoch 64/100\n",
      "15/15 - 0s - loss: 7.4335 - mae: 2.0189 - 13ms/epoch - 882us/step\n",
      "Epoch 65/100\n",
      "15/15 - 0s - loss: 7.0084 - mae: 1.9063 - 13ms/epoch - 866us/step\n",
      "Epoch 66/100\n",
      "15/15 - 0s - loss: 7.2367 - mae: 1.9692 - 12ms/epoch - 821us/step\n",
      "Epoch 67/100\n",
      "15/15 - 0s - loss: 7.9464 - mae: 2.0585 - 13ms/epoch - 864us/step\n",
      "Epoch 68/100\n",
      "15/15 - 0s - loss: 7.5309 - mae: 2.0252 - 16ms/epoch - 1ms/step\n",
      "Epoch 69/100\n",
      "15/15 - 0s - loss: 6.9537 - mae: 1.9268 - 13ms/epoch - 864us/step\n",
      "Epoch 70/100\n",
      "15/15 - 0s - loss: 7.2357 - mae: 1.9851 - 13ms/epoch - 864us/step\n",
      "Epoch 71/100\n",
      "15/15 - 0s - loss: 7.0817 - mae: 1.9449 - 14ms/epoch - 931us/step\n",
      "Epoch 72/100\n",
      "15/15 - 0s - loss: 7.0819 - mae: 1.9345 - 13ms/epoch - 864us/step\n",
      "Epoch 73/100\n",
      "15/15 - 0s - loss: 6.8710 - mae: 1.9300 - 14ms/epoch - 929us/step\n",
      "Epoch 74/100\n",
      "15/15 - 0s - loss: 6.9169 - mae: 1.9125 - 12ms/epoch - 798us/step\n",
      "Epoch 75/100\n",
      "15/15 - 0s - loss: 6.8557 - mae: 1.9153 - 12ms/epoch - 798us/step\n",
      "Epoch 76/100\n",
      "15/15 - 0s - loss: 6.8711 - mae: 1.9167 - 11ms/epoch - 731us/step\n",
      "Epoch 77/100\n",
      "15/15 - 0s - loss: 6.8415 - mae: 1.9189 - 13ms/epoch - 864us/step\n",
      "Epoch 78/100\n",
      "15/15 - 0s - loss: 6.7013 - mae: 1.8959 - 13ms/epoch - 864us/step\n",
      "Epoch 79/100\n",
      "15/15 - 0s - loss: 6.6279 - mae: 1.8888 - 13ms/epoch - 864us/step\n",
      "Epoch 80/100\n",
      "15/15 - 0s - loss: 7.4135 - mae: 2.0158 - 13ms/epoch - 867us/step\n",
      "Epoch 81/100\n",
      "15/15 - 0s - loss: 6.4896 - mae: 1.8830 - 13ms/epoch - 864us/step\n",
      "Epoch 82/100\n",
      "15/15 - 0s - loss: 6.6460 - mae: 1.9258 - 13ms/epoch - 862us/step\n",
      "Epoch 83/100\n",
      "15/15 - 0s - loss: 6.5172 - mae: 1.8693 - 12ms/epoch - 796us/step\n",
      "Epoch 84/100\n",
      "15/15 - 0s - loss: 6.9919 - mae: 1.9479 - 12ms/epoch - 800us/step\n",
      "Epoch 85/100\n",
      "15/15 - 0s - loss: 7.0143 - mae: 1.9491 - 13ms/epoch - 864us/step\n",
      "Epoch 86/100\n",
      "15/15 - 0s - loss: 6.6959 - mae: 1.8878 - 13ms/epoch - 864us/step\n",
      "Epoch 87/100\n",
      "15/15 - 0s - loss: 6.4383 - mae: 1.8677 - 13ms/epoch - 864us/step\n",
      "Epoch 88/100\n",
      "15/15 - 0s - loss: 6.6039 - mae: 1.8741 - 13ms/epoch - 862us/step\n",
      "Epoch 89/100\n",
      "15/15 - 0s - loss: 6.5615 - mae: 1.8703 - 14ms/epoch - 929us/step\n",
      "Epoch 90/100\n",
      "15/15 - 0s - loss: 6.1839 - mae: 1.8314 - 12ms/epoch - 798us/step\n",
      "Epoch 91/100\n",
      "15/15 - 0s - loss: 6.0760 - mae: 1.8179 - 16ms/epoch - 1ms/step\n",
      "Epoch 92/100\n",
      "15/15 - 0s - loss: 6.0095 - mae: 1.8036 - 14ms/epoch - 931us/step\n",
      "Epoch 93/100\n",
      "15/15 - 0s - loss: 6.2329 - mae: 1.8529 - 13ms/epoch - 864us/step\n",
      "Epoch 94/100\n",
      "15/15 - 0s - loss: 6.2302 - mae: 1.8691 - 12ms/epoch - 798us/step\n",
      "Epoch 95/100\n",
      "15/15 - 0s - loss: 6.6957 - mae: 1.8987 - 14ms/epoch - 933us/step\n",
      "Epoch 96/100\n",
      "15/15 - 0s - loss: 6.3340 - mae: 1.8824 - 14ms/epoch - 931us/step\n",
      "Epoch 97/100\n",
      "15/15 - 0s - loss: 6.0902 - mae: 1.8205 - 14ms/epoch - 931us/step\n",
      "Epoch 98/100\n",
      "15/15 - 0s - loss: 7.4141 - mae: 2.0218 - 14ms/epoch - 933us/step\n",
      "Epoch 99/100\n",
      "15/15 - 0s - loss: 6.5805 - mae: 1.9429 - 15ms/epoch - 999us/step\n",
      "Epoch 100/100\n",
      "15/15 - 0s - loss: 6.2558 - mae: 1.8505 - 14ms/epoch - 931us/step\n"
     ]
    },
    {
     "data": {
      "text/plain": [
       "<keras.callbacks.History at 0x177bc0b8c08>"
      ]
     },
     "execution_count": 44,
     "metadata": {},
     "output_type": "execute_result"
    }
   ],
   "source": [
    "history=model.fit(X_train, y_train, epochs=100, batch_size=32, verbose=2) # 변수에 저장하여 아래 내용 history 출력 가능\n",
    "history"
   ]
  },
  {
   "cell_type": "code",
   "execution_count": 59,
   "metadata": {},
   "outputs": [
    {
     "data": {
      "text/plain": [
       "[2.1889281272888184, 2.1860110759735107, 2.192458391189575]"
      ]
     },
     "execution_count": 59,
     "metadata": {},
     "output_type": "execute_result"
    }
   ],
   "source": [
    "history.history['mae'][:3]"
   ]
  },
  {
   "cell_type": "code",
   "execution_count": 55,
   "metadata": {
    "scrolled": true
   },
   "outputs": [
    {
     "name": "stdout",
     "output_type": "stream",
     "text": [
      "2/2 [==============================] - 0s 2ms/step - loss: 7.5415 - mae: 2.1313\n"
     ]
    },
    {
     "data": {
      "text/plain": [
       "[7.541505336761475, 2.131314516067505]"
      ]
     },
     "execution_count": 55,
     "metadata": {},
     "output_type": "execute_result"
    }
   ],
   "source": [
    "eval_test=model.evaluate(X_test, y_test) #오버피팅 되지 않고 잘 나온 모델, 손실률도 더 적음\n",
    "eval_test"
   ]
  },
  {
   "cell_type": "code",
   "execution_count": 56,
   "metadata": {},
   "outputs": [
    {
     "data": {
      "text/plain": [
       "7.541505336761475"
      ]
     },
     "execution_count": 56,
     "metadata": {},
     "output_type": "execute_result"
    }
   ],
   "source": [
    "eval_test[0]"
   ]
  },
  {
   "cell_type": "code",
   "execution_count": 57,
   "metadata": {},
   "outputs": [
    {
     "data": {
      "text/plain": [
       "2.131314516067505"
      ]
     },
     "execution_count": 57,
     "metadata": {},
     "output_type": "execute_result"
    }
   ],
   "source": [
    "eval_test[1]"
   ]
  },
  {
   "cell_type": "code",
   "execution_count": 46,
   "metadata": {},
   "outputs": [
    {
     "data": {
      "text/plain": [
       "array([[21.829964],\n",
       "       [11.946236],\n",
       "       [24.681005],\n",
       "       [24.102898],\n",
       "       [ 9.414166]], dtype=float32)"
      ]
     },
     "execution_count": 46,
     "metadata": {},
     "output_type": "execute_result"
    }
   ],
   "source": [
    "predict_test=model.predict(X_test)\n",
    "predict_test[:5]"
   ]
  },
  {
   "cell_type": "code",
   "execution_count": 47,
   "metadata": {},
   "outputs": [
    {
     "data": {
      "text/plain": [
       "array([23.4,  8.1, 22. , 15. , 10.4])"
      ]
     },
     "execution_count": 47,
     "metadata": {},
     "output_type": "execute_result"
    }
   ],
   "source": [
    "y_test[:5] #실제 값, 위는 예측 값"
   ]
  },
  {
   "cell_type": "code",
   "execution_count": 48,
   "metadata": {},
   "outputs": [
    {
     "data": {
      "text/plain": [
       "51"
      ]
     },
     "execution_count": 48,
     "metadata": {},
     "output_type": "execute_result"
    }
   ],
   "source": [
    "len(predict_test)"
   ]
  },
  {
   "cell_type": "code",
   "execution_count": 49,
   "metadata": {},
   "outputs": [
    {
     "data": {
      "text/plain": [
       "array([[18.915648],\n",
       "       [22.974564],\n",
       "       [16.335638],\n",
       "       [17.311533],\n",
       "       [21.731686]], dtype=float32)"
      ]
     },
     "execution_count": 49,
     "metadata": {},
     "output_type": "execute_result"
    }
   ],
   "source": [
    "predict_test[46:]"
   ]
  },
  {
   "cell_type": "code",
   "execution_count": 50,
   "metadata": {},
   "outputs": [
    {
     "data": {
      "text/plain": [
       "array([20.1, 22. , 16.7, 18.7, 19.6])"
      ]
     },
     "execution_count": 50,
     "metadata": {},
     "output_type": "execute_result"
    }
   ],
   "source": [
    "y_test[46:]"
   ]
  },
  {
   "cell_type": "code",
   "execution_count": 51,
   "metadata": {},
   "outputs": [],
   "source": [
    "from sklearn.metrics import r2_score"
   ]
  },
  {
   "cell_type": "code",
   "execution_count": 52,
   "metadata": {},
   "outputs": [],
   "source": [
    "R2=r2_score(y_test, predict_test)"
   ]
  },
  {
   "cell_type": "code",
   "execution_count": 53,
   "metadata": {},
   "outputs": [
    {
     "data": {
      "text/plain": [
       "0.9027414120877792"
      ]
     },
     "execution_count": 53,
     "metadata": {},
     "output_type": "execute_result"
    }
   ],
   "source": [
    "R2 # 면적이 1에 가까울수록 좋음"
   ]
  },
  {
   "cell_type": "code",
   "execution_count": 58,
   "metadata": {},
   "outputs": [],
   "source": [
    "from matplotlib import pyplot as plt"
   ]
  },
  {
   "cell_type": "code",
   "execution_count": 71,
   "metadata": {
    "scrolled": false
   },
   "outputs": [
    {
     "data": {
      "image/png": "[encoded data removed]",
      "text/plain": [
       "<Figure size 432x288 with 1 Axes>"
      ]
     },
     "metadata": {
      "needs_background": "light"
     },
     "output_type": "display_data"
    }
   ],
   "source": [
    "plt.plot(y_test)\n",
    "plt.plot(predict_test)\n",
    "# 화면에 그래프를 보여줍니다\n",
    "plt.legend(['y_test', 'predict'])\n",
    "plt.show()"
   ]
  },
  {
   "cell_type": "code",
   "execution_count": null,
   "metadata": {},
   "outputs": [],
   "source": []
  }
 ],
 "metadata": {
  "kernelspec": {
   "display_name": "Python 3",
   "language": "python",
   "name": "python3"
  },
  "language_info": {
   "codemirror_mode": {
    "name": "ipython",
    "version": 3
   },
   "file_extension": ".py",
   "mimetype": "text/x-python",
   "name": "python",
   "nbconvert_exporter": "python",
   "pygments_lexer": "ipython3",
   "version": "3.7.4"
  }
 },
 "nbformat": 4,
 "nbformat_minor": 2
}
