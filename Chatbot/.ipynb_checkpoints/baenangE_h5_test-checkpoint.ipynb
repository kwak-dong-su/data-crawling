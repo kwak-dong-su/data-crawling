{
 "cells": [
  {
   "cell_type": "code",
   "execution_count": 3,
   "id": "f8cf4b86",
   "metadata": {},
   "outputs": [],
   "source": [
    "from tensorflow.keras.models import load_model"
   ]
  },
  {
   "cell_type": "code",
   "execution_count": 4,
   "id": "0b0d0599",
   "metadata": {},
   "outputs": [],
   "source": [
    "# 모델 파일 load\n",
    "model=load_model('best_chatbot3.h5')"
   ]
  },
  {
   "cell_type": "code",
   "execution_count": 12,
   "id": "6ebc22ab",
   "metadata": {},
   "outputs": [],
   "source": [
    "import joblib"
   ]
  },
  {
   "cell_type": "code",
   "execution_count": 14,
   "id": "a689c92a",
   "metadata": {
    "scrolled": true
   },
   "outputs": [],
   "source": [
    "# tfidf파일 load\n",
    "tfidf=joblib.load('tfidf_chatbot.pkl')"
   ]
  },
  {
   "cell_type": "code",
   "execution_count": 5,
   "id": "be1ff890",
   "metadata": {},
   "outputs": [],
   "source": [
    "import re"
   ]
  },
  {
   "cell_type": "code",
   "execution_count": 8,
   "id": "6caca20f",
   "metadata": {},
   "outputs": [],
   "source": [
    "str=\"여행지 좀 추천해주라~~~!!!\""
   ]
  },
  {
   "cell_type": "code",
   "execution_count": 11,
   "id": "cdfab4f7",
   "metadata": {},
   "outputs": [
    {
     "data": {
      "text/plain": [
       "'여행지 좀 추천해주라'"
      ]
     },
     "execution_count": 11,
     "metadata": {},
     "output_type": "execute_result"
    }
   ],
   "source": [
    "str=re.sub(r'[^ ㄱ-ㅣ가-힣]+', '', str)\n",
    "str"
   ]
  },
  {
   "cell_type": "code",
   "execution_count": null,
   "id": "4d59905b",
   "metadata": {},
   "outputs": [],
   "source": []
  }
 ],
 "metadata": {
  "kernelspec": {
   "display_name": "Python 3 (ipykernel)",
   "language": "python",
   "name": "python3"
  },
  "language_info": {
   "codemirror_mode": {
    "name": "ipython",
    "version": 3
   },
   "file_extension": ".py",
   "mimetype": "text/x-python",
   "name": "python",
   "nbconvert_exporter": "python",
   "pygments_lexer": "ipython3",
   "version": "3.7.4"
  }
 },
 "nbformat": 4,
 "nbformat_minor": 5
}
