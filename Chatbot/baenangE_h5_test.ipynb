{
 "cells": [
  {
   "cell_type": "code",
   "execution_count": 1,
   "id": "bfc4a017",
   "metadata": {},
   "outputs": [],
   "source": [
    "import numpy as np"
   ]
  },
  {
   "cell_type": "code",
   "execution_count": 2,
   "id": "4576f996",
   "metadata": {},
   "outputs": [
    {
     "name": "stderr",
     "output_type": "stream",
     "text": [
      "C:\\ProgramData\\Anaconda3\\lib\\site-packages\\requests\\__init__.py:91: RequestsDependencyWarning: urllib3 (1.25.11) or chardet (4.0.0) doesn't match a supported version!\n",
      "  RequestsDependencyWarning)\n"
     ]
    }
   ],
   "source": [
    "from tensorflow.keras.models import load_model"
   ]
  },
  {
   "cell_type": "code",
   "execution_count": 3,
   "id": "bf096c50",
   "metadata": {},
   "outputs": [],
   "source": [
    "# 모델 파일 load\n",
    "model=load_model('best_chatbot3.h5')"
   ]
  },
  {
   "cell_type": "code",
   "execution_count": 4,
   "id": "84b74207",
   "metadata": {},
   "outputs": [],
   "source": [
    "import joblib"
   ]
  },
  {
   "cell_type": "code",
   "execution_count": 5,
   "id": "16ee2c19",
   "metadata": {
    "scrolled": true
   },
   "outputs": [
    {
     "name": "stderr",
     "output_type": "stream",
     "text": [
      "C:\\ProgramData\\Anaconda3\\lib\\site-packages\\sklearn\\feature_extraction\\image.py:167: DeprecationWarning: `np.int` is a deprecated alias for the builtin `int`. To silence this warning, use `int` by itself. Doing this will not modify any behavior and is safe. When replacing `np.int`, you may wish to use e.g. `np.int64` or `np.int32` to specify the precision. If you wish to review your current use, check the release note link for additional information.\n",
      "Deprecated in NumPy 1.20; for more details and guidance: https://numpy.org/devdocs/release/1.20.0-notes.html#deprecations\n",
      "  dtype=np.int):\n"
     ]
    }
   ],
   "source": [
    "# tfidf파일 load\n",
    "tfidf=joblib.load('tfidf_chatbot.pkl')"
   ]
  },
  {
   "cell_type": "code",
   "execution_count": 6,
   "id": "eb308eab",
   "metadata": {},
   "outputs": [],
   "source": [
    "import re"
   ]
  },
  {
   "cell_type": "code",
   "execution_count": 7,
   "id": "43b9a6f6",
   "metadata": {},
   "outputs": [],
   "source": [
    "str=\"여행지 추천좀 해주라~~~~~!!!!!!\""
   ]
  },
  {
   "cell_type": "code",
   "execution_count": 8,
   "id": "1087b5c4",
   "metadata": {},
   "outputs": [
    {
     "data": {
      "text/plain": [
       "'여행지 추천좀 해주라'"
      ]
     },
     "execution_count": 8,
     "metadata": {},
     "output_type": "execute_result"
    }
   ],
   "source": [
    "str=re.sub(r'[^ ㄱ-ㅣ가-힣]+', '', str)\n",
    "str"
   ]
  },
  {
   "cell_type": "code",
   "execution_count": 9,
   "id": "bd113c6b",
   "metadata": {},
   "outputs": [],
   "source": [
    "from konlpy.tag import Okt"
   ]
  },
  {
   "cell_type": "code",
   "execution_count": 10,
   "id": "a999583c",
   "metadata": {},
   "outputs": [],
   "source": [
    "t=Okt()"
   ]
  },
  {
   "cell_type": "code",
   "execution_count": 11,
   "id": "4d0eca21",
   "metadata": {},
   "outputs": [
    {
     "data": {
      "text/plain": [
       "'여행지 추천 좀 해주'"
      ]
     },
     "execution_count": 11,
     "metadata": {},
     "output_type": "execute_result"
    }
   ],
   "source": [
    "str=' '.join(t.nouns(str))\n",
    "str"
   ]
  },
  {
   "cell_type": "code",
   "execution_count": 12,
   "id": "47c98f6c",
   "metadata": {},
   "outputs": [
    {
     "data": {
      "text/plain": [
       "array([[0., 0., 0., 0., 0., 0., 0., 0., 0., 0., 0., 0., 0., 0., 0., 0.,\n",
       "        0., 0., 0., 0., 0., 0., 0., 0., 0., 0., 0., 0., 0., 0., 0., 0.,\n",
       "        0., 0., 0., 0., 0., 0., 0., 0., 0., 0., 0., 0., 0., 0., 0., 0.,\n",
       "        0., 0., 0., 0., 0., 0., 0., 0., 0., 0., 0., 0., 0., 0., 0., 0.,\n",
       "        0., 0., 0., 0., 0., 0., 0., 0., 0., 0., 0., 0., 0., 0., 0., 0.,\n",
       "        0., 0., 0., 0., 0., 0., 0., 0., 0., 0., 0., 0., 0., 0., 0., 0.,\n",
       "        0., 0., 0., 0., 0., 0., 0., 0., 0., 0., 0., 0., 0., 0., 0., 0.,\n",
       "        0., 0., 0., 0., 0., 0., 0., 0., 0., 0., 0., 0., 0., 0., 0., 0.,\n",
       "        0., 0., 0., 0., 0., 0., 0., 0., 0., 0., 0., 0., 0., 0., 0., 0.,\n",
       "        0., 0., 0., 0., 0., 0., 0., 0., 0., 0., 0., 0., 0., 0., 0., 0.,\n",
       "        0., 0., 0., 0., 0., 0., 0., 0., 0., 0., 0., 0., 0., 0., 0., 0.,\n",
       "        0., 0., 0., 0., 0., 0., 0., 0., 0., 0., 0., 0., 0., 0., 0., 0.,\n",
       "        0., 0., 0., 0., 0., 0., 0., 0., 0., 0., 0., 0., 0., 0., 0., 0.,\n",
       "        0., 0., 0., 0., 0., 0., 0., 0., 0., 0., 0., 0., 0., 0., 0., 0.,\n",
       "        0., 1., 0., 0., 0., 0., 0., 0., 0., 0., 0., 0., 0., 0., 0., 0.,\n",
       "        0., 0., 0., 0., 0., 0., 0., 0., 0., 0., 0., 0., 0., 0., 0., 0.,\n",
       "        0.]])"
      ]
     },
     "execution_count": 12,
     "metadata": {},
     "output_type": "execute_result"
    }
   ],
   "source": [
    "tfidf_str=tfidf.transform([str]).toarray()\n",
    "tfidf_str"
   ]
  },
  {
   "cell_type": "code",
   "execution_count": 13,
   "id": "dd166f8a",
   "metadata": {},
   "outputs": [
    {
     "data": {
      "text/plain": [
       "array([[7.3178689e-04, 9.2909253e-01, 5.4743997e-04, 6.9628231e-02]],\n",
       "      dtype=float32)"
      ]
     },
     "execution_count": 13,
     "metadata": {},
     "output_type": "execute_result"
    }
   ],
   "source": [
    "predicted=model.predict(tfidf_str)\n",
    "predicted"
   ]
  },
  {
   "cell_type": "code",
   "execution_count": 14,
   "id": "309164ba",
   "metadata": {},
   "outputs": [
    {
     "data": {
      "text/plain": [
       "1"
      ]
     },
     "execution_count": 14,
     "metadata": {},
     "output_type": "execute_result"
    }
   ],
   "source": [
    "np.argmax(predicted)"
   ]
  },
  {
   "cell_type": "code",
   "execution_count": 15,
   "id": "148aa1bf",
   "metadata": {},
   "outputs": [],
   "source": [
    "target_names = ['일상대화', '추천해줘', '랭킹알려줘', '분류 외']"
   ]
  },
  {
   "cell_type": "code",
   "execution_count": 16,
   "id": "e7ba8758",
   "metadata": {},
   "outputs": [],
   "source": [
    "def baenangE():\n",
    "    str=input(\"안녕하세요 배낭이입니다. 무엇이든 물어보세요.\\n입력 >>\")\n",
    "    str=re.sub(r'[^ ㄱ-ㅣ가-힣]+', '', str)\n",
    "    str2=' '.join(t.nouns(str))\n",
    "    tfidf_str=tfidf.transform([str+\" \"+str2]).toarray()\n",
    "    predicted=model.predict(tfidf_str)\n",
    "    label=np.argmax(predicted)\n",
    "    if label==0:\n",
    "        print(\"반가워~~!\")\n",
    "    elif label==1:\n",
    "        print(\"여행지를 추천해드릴게요.\")\n",
    "    elif label==2:\n",
    "        print(\"요즘 뜨는 여행지를 알려드릴게요.\")\n",
    "    elif label==3:\n",
    "        print(\"죄송합니다... 공부 중 입니다. 아래 키워드로 말씀해주시는 것은어떠신가요?\\n <추천><랭킹>\")"
   ]
  },
  {
   "cell_type": "code",
   "execution_count": null,
   "id": "b0bbbbcf",
   "metadata": {},
   "outputs": [
    {
     "name": "stdout",
     "output_type": "stream",
     "text": [
      "안녕하세요 배낭이입니다. 무엇이든 물어보세요.\n",
      "입력 >>여행지추천좀해주라\n",
      "여행지를 추천해드릴게요.\n",
      "안녕하세요 배낭이입니다. 무엇이든 물어보세요.\n",
      "입력 >>랭킹좀알려줘\n",
      "요즘 뜨는 여행지를 알려드릴게요.\n",
      "안녕하세요 배낭이입니다. 무엇이든 물어보세요.\n",
      "입력 >>안녕\n",
      "반가워~~!\n",
      "안녕하세요 배낭이입니다. 무엇이든 물어보세요.\n",
      "입력 >>반가워\n",
      "죄송합니다... 공부 중 입니다. 아래 키워드로 말씀해주시는 것은어떠신가요?\n",
      " <추천><랭킹>\n"
     ]
    }
   ],
   "source": [
    "for _ in range(10):\n",
    "    baenangE()"
   ]
  },
  {
   "cell_type": "code",
   "execution_count": 151,
   "id": "5b3e8e71",
   "metadata": {
    "scrolled": true
   },
   "outputs": [
    {
     "data": {
      "text/plain": [
       "'추천좀 추천 좀'"
      ]
     },
     "execution_count": 151,
     "metadata": {},
     "output_type": "execute_result"
    }
   ],
   "source": [
    "re.sub(r'[^ ㄱ-ㅣ가-힣]+', '', \"추천좀\")+\" \"+' '.join(t.nouns(re.sub(r'[^ ㄱ-ㅣ가-힣]+', '', \"추천좀\")))"
   ]
  },
  {
   "cell_type": "code",
   "execution_count": null,
   "id": "be697d39",
   "metadata": {},
   "outputs": [],
   "source": []
  }
 ],
 "metadata": {
  "kernelspec": {
   "display_name": "Python 3 (ipykernel)",
   "language": "python",
   "name": "python3"
  },
  "language_info": {
   "codemirror_mode": {
    "name": "ipython",
    "version": 3
   },
   "file_extension": ".py",
   "mimetype": "text/x-python",
   "name": "python",
   "nbconvert_exporter": "python",
   "pygments_lexer": "ipython3",
   "version": "3.7.4"
  }
 },
 "nbformat": 4,
 "nbformat_minor": 5
}
